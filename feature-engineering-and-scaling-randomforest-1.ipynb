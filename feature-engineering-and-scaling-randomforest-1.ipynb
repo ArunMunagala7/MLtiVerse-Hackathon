{
 "cells": [
  {
   "cell_type": "code",
   "execution_count": 1,
   "id": "b0993f47",
   "metadata": {
    "execution": {
     "iopub.execute_input": "2023-06-22T21:36:26.131442Z",
     "iopub.status.busy": "2023-06-22T21:36:26.130903Z",
     "iopub.status.idle": "2023-06-22T21:36:26.141451Z",
     "shell.execute_reply": "2023-06-22T21:36:26.140592Z"
    },
    "papermill": {
     "duration": 0.026023,
     "end_time": "2023-06-22T21:36:26.143914",
     "exception": false,
     "start_time": "2023-06-22T21:36:26.117891",
     "status": "completed"
    },
    "tags": []
   },
   "outputs": [
    {
     "name": "stdout",
     "output_type": "stream",
     "text": [
      "/kaggle/input/mltiverse-join-comp/sample_submission.csv\n",
      "/kaggle/input/mltiverse-join-comp/train.csv\n",
      "/kaggle/input/mltiverse-join-comp/test.csv\n"
     ]
    }
   ],
   "source": [
    "## This Python 3 environment comes with many helpful analytics libraries installed\n",
    "# It is defined by the kaggle/python Docker image: https://github.com/kaggle/docker-python\n",
    "# For example, here's several helpful packages to load\n",
    "\n",
    "import numpy as np # linear algebra\n",
    "import pandas as pd # data processing, CSV file I/O (e.g. pd.read_csv)\n",
    "\n",
    "# Input data files are available in the read-only \"../input/\" directory\n",
    "# For example, running this (by clicking run or pressing Shift+Enter) will list all files under the input directory\n",
    "\n",
    "import os\n",
    "for dirname, _, filenames in os.walk('/kaggle/input'):\n",
    "    for filename in filenames:\n",
    "        print(os.path.join(dirname, filename))\n",
    "\n",
    "# You can write up to 20GB to the current directory (/kaggle/working/) that gets preserved as output when you create a version using \"Save & Run All\" \n",
    "# You can also write temporary files to /kaggle/temp/, but they won't be saved outside of the current session"
   ]
  },
  {
   "cell_type": "markdown",
   "id": "263a27e1",
   "metadata": {
    "papermill": {
     "duration": 0.010854,
     "end_time": "2023-06-22T21:36:26.166719",
     "exception": false,
     "start_time": "2023-06-22T21:36:26.155865",
     "status": "completed"
    },
    "tags": []
   },
   "source": [
    "importing data"
   ]
  },
  {
   "cell_type": "code",
   "execution_count": 2,
   "id": "b8502a30",
   "metadata": {
    "execution": {
     "iopub.execute_input": "2023-06-22T21:36:26.191090Z",
     "iopub.status.busy": "2023-06-22T21:36:26.190341Z",
     "iopub.status.idle": "2023-06-22T21:36:27.706662Z",
     "shell.execute_reply": "2023-06-22T21:36:27.705475Z"
    },
    "papermill": {
     "duration": 1.531637,
     "end_time": "2023-06-22T21:36:27.709577",
     "exception": false,
     "start_time": "2023-06-22T21:36:26.177940",
     "status": "completed"
    },
    "tags": []
   },
   "outputs": [],
   "source": [
    "train_data=pd.read_csv('/kaggle/input/mltiverse-join-comp/train.csv')\n",
    "test_data=pd.read_csv('/kaggle/input/mltiverse-join-comp/test.csv')\n",
    "sample=pd.read_csv('/kaggle/input/mltiverse-join-comp/sample_submission.csv')"
   ]
  },
  {
   "cell_type": "markdown",
   "id": "95e9fa6d",
   "metadata": {
    "papermill": {
     "duration": 0.015212,
     "end_time": "2023-06-22T21:36:27.740356",
     "exception": false,
     "start_time": "2023-06-22T21:36:27.725144",
     "status": "completed"
    },
    "tags": []
   },
   "source": [
    "making some comparisions"
   ]
  },
  {
   "cell_type": "code",
   "execution_count": 3,
   "id": "04325c65",
   "metadata": {
    "execution": {
     "iopub.execute_input": "2023-06-22T21:36:27.765220Z",
     "iopub.status.busy": "2023-06-22T21:36:27.764869Z",
     "iopub.status.idle": "2023-06-22T21:36:27.771813Z",
     "shell.execute_reply": "2023-06-22T21:36:27.770849Z"
    },
    "papermill": {
     "duration": 0.021661,
     "end_time": "2023-06-22T21:36:27.773662",
     "exception": false,
     "start_time": "2023-06-22T21:36:27.752001",
     "status": "completed"
    },
    "tags": []
   },
   "outputs": [
    {
     "data": {
      "text/plain": [
       "(16710, 2)"
      ]
     },
     "execution_count": 3,
     "metadata": {},
     "output_type": "execute_result"
    }
   ],
   "source": [
    "sample.shape"
   ]
  },
  {
   "cell_type": "code",
   "execution_count": 4,
   "id": "ff2f8cc7",
   "metadata": {
    "execution": {
     "iopub.execute_input": "2023-06-22T21:36:27.799252Z",
     "iopub.status.busy": "2023-06-22T21:36:27.798938Z",
     "iopub.status.idle": "2023-06-22T21:36:27.804637Z",
     "shell.execute_reply": "2023-06-22T21:36:27.803715Z"
    },
    "papermill": {
     "duration": 0.020963,
     "end_time": "2023-06-22T21:36:27.806616",
     "exception": false,
     "start_time": "2023-06-22T21:36:27.785653",
     "status": "completed"
    },
    "tags": []
   },
   "outputs": [
    {
     "data": {
      "text/plain": [
       "(16710, 65)"
      ]
     },
     "execution_count": 4,
     "metadata": {},
     "output_type": "execute_result"
    }
   ],
   "source": [
    "test_data.shape"
   ]
  },
  {
   "cell_type": "markdown",
   "id": "cec9b907",
   "metadata": {
    "papermill": {
     "duration": 0.011272,
     "end_time": "2023-06-22T21:36:27.829593",
     "exception": false,
     "start_time": "2023-06-22T21:36:27.818321",
     "status": "completed"
    },
    "tags": []
   },
   "source": [
    "checking if photo id is the same for both"
   ]
  },
  {
   "cell_type": "code",
   "execution_count": 5,
   "id": "44ca3d69",
   "metadata": {
    "execution": {
     "iopub.execute_input": "2023-06-22T21:36:27.855532Z",
     "iopub.status.busy": "2023-06-22T21:36:27.855192Z",
     "iopub.status.idle": "2023-06-22T21:36:27.867706Z",
     "shell.execute_reply": "2023-06-22T21:36:27.866792Z"
    },
    "papermill": {
     "duration": 0.028062,
     "end_time": "2023-06-22T21:36:27.869297",
     "exception": false,
     "start_time": "2023-06-22T21:36:27.841235",
     "status": "completed"
    },
    "tags": []
   },
   "outputs": [
    {
     "data": {
      "text/plain": [
       "True"
      ]
     },
     "execution_count": 5,
     "metadata": {},
     "output_type": "execute_result"
    }
   ],
   "source": [
    "(test_data['Photo'] == sample['Photo']).all()"
   ]
  },
  {
   "cell_type": "markdown",
   "id": "6ecf19ed",
   "metadata": {
    "papermill": {
     "duration": 0.011245,
     "end_time": "2023-06-22T21:36:27.892084",
     "exception": false,
     "start_time": "2023-06-22T21:36:27.880839",
     "status": "completed"
    },
    "tags": []
   },
   "source": [
    "therefore it is the exact same"
   ]
  },
  {
   "cell_type": "markdown",
   "id": "2c257b52",
   "metadata": {
    "papermill": {
     "duration": 0.011071,
     "end_time": "2023-06-22T21:36:27.914542",
     "exception": false,
     "start_time": "2023-06-22T21:36:27.903471",
     "status": "completed"
    },
    "tags": []
   },
   "source": [
    "checking the number of rows and analysing test data"
   ]
  },
  {
   "cell_type": "code",
   "execution_count": 6,
   "id": "71274d2f",
   "metadata": {
    "execution": {
     "iopub.execute_input": "2023-06-22T21:36:27.943863Z",
     "iopub.status.busy": "2023-06-22T21:36:27.942803Z",
     "iopub.status.idle": "2023-06-22T21:36:27.948059Z",
     "shell.execute_reply": "2023-06-22T21:36:27.947490Z"
    },
    "papermill": {
     "duration": 0.023178,
     "end_time": "2023-06-22T21:36:27.950531",
     "exception": false,
     "start_time": "2023-06-22T21:36:27.927353",
     "status": "completed"
    },
    "tags": []
   },
   "outputs": [
    {
     "data": {
      "text/plain": [
       "(87642, 67)"
      ]
     },
     "execution_count": 6,
     "metadata": {},
     "output_type": "execute_result"
    }
   ],
   "source": [
    "train_data.shape"
   ]
  },
  {
   "cell_type": "code",
   "execution_count": 7,
   "id": "4fbf84f2",
   "metadata": {
    "execution": {
     "iopub.execute_input": "2023-06-22T21:36:27.977874Z",
     "iopub.status.busy": "2023-06-22T21:36:27.977318Z",
     "iopub.status.idle": "2023-06-22T21:36:28.016060Z",
     "shell.execute_reply": "2023-06-22T21:36:28.015007Z"
    },
    "papermill": {
     "duration": 0.054687,
     "end_time": "2023-06-22T21:36:28.018422",
     "exception": false,
     "start_time": "2023-06-22T21:36:27.963735",
     "status": "completed"
    },
    "tags": []
   },
   "outputs": [
    {
     "data": {
      "text/plain": [
       "74502"
      ]
     },
     "execution_count": 7,
     "metadata": {},
     "output_type": "execute_result"
    }
   ],
   "source": [
    "train_data['Photo'].nunique()"
   ]
  },
  {
   "cell_type": "code",
   "execution_count": 8,
   "id": "c6cbe88f",
   "metadata": {
    "execution": {
     "iopub.execute_input": "2023-06-22T21:36:28.043554Z",
     "iopub.status.busy": "2023-06-22T21:36:28.043207Z",
     "iopub.status.idle": "2023-06-22T21:36:28.086639Z",
     "shell.execute_reply": "2023-06-22T21:36:28.086077Z"
    },
    "papermill": {
     "duration": 0.058435,
     "end_time": "2023-06-22T21:36:28.088924",
     "exception": false,
     "start_time": "2023-06-22T21:36:28.030489",
     "status": "completed"
    },
    "tags": []
   },
   "outputs": [
    {
     "data": {
      "text/plain": [
       "87642"
      ]
     },
     "execution_count": 8,
     "metadata": {},
     "output_type": "execute_result"
    }
   ],
   "source": [
    " train_data[['Photo', 'year']].drop_duplicates().shape[0]"
   ]
  },
  {
   "cell_type": "markdown",
   "id": "772bb5b5",
   "metadata": {
    "papermill": {
     "duration": 0.011748,
     "end_time": "2023-06-22T21:36:28.113104",
     "exception": false,
     "start_time": "2023-06-22T21:36:28.101356",
     "status": "completed"
    },
    "tags": []
   },
   "source": [
    "keeping only one row per id(the latest year in this case)"
   ]
  },
  {
   "cell_type": "markdown",
   "id": "4c0ab876",
   "metadata": {
    "papermill": {
     "duration": 0.011871,
     "end_time": "2023-06-22T21:36:28.137080",
     "exception": false,
     "start_time": "2023-06-22T21:36:28.125209",
     "status": "completed"
    },
    "tags": []
   },
   "source": [
    "first and foremost let me check for test data. the shape, unique ids, photo etc etc\n"
   ]
  },
  {
   "cell_type": "code",
   "execution_count": 9,
   "id": "196a1ded",
   "metadata": {
    "execution": {
     "iopub.execute_input": "2023-06-22T21:36:28.162743Z",
     "iopub.status.busy": "2023-06-22T21:36:28.162403Z",
     "iopub.status.idle": "2023-06-22T21:36:28.171054Z",
     "shell.execute_reply": "2023-06-22T21:36:28.170335Z"
    },
    "papermill": {
     "duration": 0.024712,
     "end_time": "2023-06-22T21:36:28.173774",
     "exception": false,
     "start_time": "2023-06-22T21:36:28.149062",
     "status": "completed"
    },
    "tags": []
   },
   "outputs": [
    {
     "data": {
      "text/plain": [
       "True"
      ]
     },
     "execution_count": 9,
     "metadata": {},
     "output_type": "execute_result"
    }
   ],
   "source": [
    "test_data.shape[0]==test_data['ID'].nunique()"
   ]
  },
  {
   "cell_type": "markdown",
   "id": "710a87c5",
   "metadata": {
    "papermill": {
     "duration": 0.011549,
     "end_time": "2023-06-22T21:36:28.197637",
     "exception": false,
     "start_time": "2023-06-22T21:36:28.186088",
     "status": "completed"
    },
    "tags": []
   },
   "source": [
    "therefore the ids and photos are linearly mapped, so should only keep one id for training data"
   ]
  },
  {
   "cell_type": "code",
   "execution_count": 10,
   "id": "9c98d36b",
   "metadata": {
    "execution": {
     "iopub.execute_input": "2023-06-22T21:36:28.223390Z",
     "iopub.status.busy": "2023-06-22T21:36:28.222599Z",
     "iopub.status.idle": "2023-06-22T21:36:28.358848Z",
     "shell.execute_reply": "2023-06-22T21:36:28.357590Z"
    },
    "papermill": {
     "duration": 0.151572,
     "end_time": "2023-06-22T21:36:28.361167",
     "exception": false,
     "start_time": "2023-06-22T21:36:28.209595",
     "status": "completed"
    },
    "tags": []
   },
   "outputs": [],
   "source": [
    "# Sort the train_data DataFrame by 'ID' and 'year' in descending order\n",
    "train_data_sorted = train_data.sort_values(by=['ID', 'year'], ascending=[True, False])\n",
    "\n",
    "# Drop duplicate 'ID' values, keeping only the first occurrence (which corresponds to the latest year)\n",
    "train_data_1 = train_data_sorted.drop_duplicates(subset='ID', keep='first')\n",
    "\n",
    "# Reset the index of the new dataset\n",
    "train_data_1 = train_data_1.reset_index(drop=True)"
   ]
  },
  {
   "cell_type": "code",
   "execution_count": 11,
   "id": "e2896470",
   "metadata": {
    "execution": {
     "iopub.execute_input": "2023-06-22T21:36:28.386294Z",
     "iopub.status.busy": "2023-06-22T21:36:28.385982Z",
     "iopub.status.idle": "2023-06-22T21:36:28.392607Z",
     "shell.execute_reply": "2023-06-22T21:36:28.391751Z"
    },
    "papermill": {
     "duration": 0.020853,
     "end_time": "2023-06-22T21:36:28.394313",
     "exception": false,
     "start_time": "2023-06-22T21:36:28.373460",
     "status": "completed"
    },
    "tags": []
   },
   "outputs": [
    {
     "data": {
      "text/plain": [
       "(33699, 67)"
      ]
     },
     "execution_count": 11,
     "metadata": {},
     "output_type": "execute_result"
    }
   ],
   "source": [
    "train_data_1.shape"
   ]
  },
  {
   "cell_type": "markdown",
   "id": "28075ff0",
   "metadata": {
    "papermill": {
     "duration": 0.011368,
     "end_time": "2023-06-22T21:36:28.417322",
     "exception": false,
     "start_time": "2023-06-22T21:36:28.405954",
     "status": "completed"
    },
    "tags": []
   },
   "source": [
    "feature engineering some columns"
   ]
  },
  {
   "cell_type": "code",
   "execution_count": 12,
   "id": "f1b57c95",
   "metadata": {
    "execution": {
     "iopub.execute_input": "2023-06-22T21:36:28.441997Z",
     "iopub.status.busy": "2023-06-22T21:36:28.441658Z",
     "iopub.status.idle": "2023-06-22T21:36:28.449578Z",
     "shell.execute_reply": "2023-06-22T21:36:28.448716Z"
    },
    "papermill": {
     "duration": 0.0224,
     "end_time": "2023-06-22T21:36:28.451306",
     "exception": false,
     "start_time": "2023-06-22T21:36:28.428906",
     "status": "completed"
    },
    "tags": []
   },
   "outputs": [
    {
     "data": {
      "text/plain": [
       "array(['<span class=\"pos pos29\">RES', '<span class=\"pos pos15\">LCM',\n",
       "       '<span class=\"pos pos18\">CAM', '<span class=\"pos pos28\">SUB', nan,\n",
       "       '<span class=\"pos pos0\">GK', '<span class=\"pos pos10\">CDM',\n",
       "       '<span class=\"pos pos5\">CB', '<span class=\"pos pos4\">RCB',\n",
       "       '<span class=\"pos pos25\">ST', '<span class=\"pos pos6\">LCB',\n",
       "       '<span class=\"pos pos14\">CM', '<span class=\"pos pos26\">LS',\n",
       "       '<span class=\"pos pos9\">RDM', '<span class=\"pos pos13\">RCM',\n",
       "       '<span class=\"pos pos16\">LM', '<span class=\"pos pos19\">LAM',\n",
       "       '<span class=\"pos pos11\">LDM', '<span class=\"pos pos3\">RB',\n",
       "       '<span class=\"pos pos12\">RM', '<span class=\"pos pos21\">CF',\n",
       "       '<span class=\"pos pos24\">RS', '<span class=\"pos pos23\">RW',\n",
       "       '<span class=\"pos pos7\">LB', '<span class=\"pos pos27\">LW',\n",
       "       '<span class=\"pos pos8\">LWB', '<span class=\"pos pos2\">RWB',\n",
       "       '<span class=\"pos pos17\">RAM', '<span class=\"pos pos22\">LF',\n",
       "       '<span class=\"pos pos20\">RF'], dtype=object)"
      ]
     },
     "execution_count": 12,
     "metadata": {},
     "output_type": "execute_result"
    }
   ],
   "source": [
    "train_data_1['Position'].unique()"
   ]
  },
  {
   "cell_type": "code",
   "execution_count": 13,
   "id": "2ca2ae6b",
   "metadata": {
    "execution": {
     "iopub.execute_input": "2023-06-22T21:36:28.477020Z",
     "iopub.status.busy": "2023-06-22T21:36:28.476704Z",
     "iopub.status.idle": "2023-06-22T21:36:28.482170Z",
     "shell.execute_reply": "2023-06-22T21:36:28.481324Z"
    },
    "papermill": {
     "duration": 0.020249,
     "end_time": "2023-06-22T21:36:28.483625",
     "exception": false,
     "start_time": "2023-06-22T21:36:28.463376",
     "status": "completed"
    },
    "tags": []
   },
   "outputs": [
    {
     "data": {
      "text/plain": [
       "dtype('O')"
      ]
     },
     "execution_count": 13,
     "metadata": {},
     "output_type": "execute_result"
    }
   ],
   "source": [
    "test_data['Position'].dtype"
   ]
  },
  {
   "cell_type": "code",
   "execution_count": 14,
   "id": "ea6e51f1",
   "metadata": {
    "execution": {
     "iopub.execute_input": "2023-06-22T21:36:28.509351Z",
     "iopub.status.busy": "2023-06-22T21:36:28.508942Z",
     "iopub.status.idle": "2023-06-22T21:36:28.532306Z",
     "shell.execute_reply": "2023-06-22T21:36:28.531213Z"
    },
    "papermill": {
     "duration": 0.03834,
     "end_time": "2023-06-22T21:36:28.534542",
     "exception": false,
     "start_time": "2023-06-22T21:36:28.496202",
     "status": "completed"
    },
    "tags": []
   },
   "outputs": [],
   "source": [
    "train_data_1['Position'] = train_data_1['Position'].astype(str)\n",
    "train_data_1['Position'] = train_data_1['Position'].str[-3:]"
   ]
  },
  {
   "cell_type": "code",
   "execution_count": 15,
   "id": "41d4f67e",
   "metadata": {
    "execution": {
     "iopub.execute_input": "2023-06-22T21:36:28.561522Z",
     "iopub.status.busy": "2023-06-22T21:36:28.560982Z",
     "iopub.status.idle": "2023-06-22T21:36:28.569080Z",
     "shell.execute_reply": "2023-06-22T21:36:28.568105Z"
    },
    "papermill": {
     "duration": 0.024168,
     "end_time": "2023-06-22T21:36:28.571352",
     "exception": false,
     "start_time": "2023-06-22T21:36:28.547184",
     "status": "completed"
    },
    "tags": []
   },
   "outputs": [
    {
     "data": {
      "text/plain": [
       "array(['RES', 'LCM', 'CAM', 'SUB', 'nan', '>GK', 'CDM', '>CB', 'RCB',\n",
       "       '>ST', 'LCB', '>CM', '>LS', 'RDM', 'RCM', '>LM', 'LAM', 'LDM',\n",
       "       '>RB', '>RM', '>CF', '>RS', '>RW', '>LB', '>LW', 'LWB', 'RWB',\n",
       "       'RAM', '>LF', '>RF'], dtype=object)"
      ]
     },
     "execution_count": 15,
     "metadata": {},
     "output_type": "execute_result"
    }
   ],
   "source": [
    "train_data_1['Position'].unique()"
   ]
  },
  {
   "cell_type": "markdown",
   "id": "dd08d31a",
   "metadata": {
    "papermill": {
     "duration": 0.012878,
     "end_time": "2023-06-22T21:36:28.597277",
     "exception": false,
     "start_time": "2023-06-22T21:36:28.584399",
     "status": "completed"
    },
    "tags": []
   },
   "source": [
    "trying to remove the '>'"
   ]
  },
  {
   "cell_type": "code",
   "execution_count": 16,
   "id": "74a88a01",
   "metadata": {
    "execution": {
     "iopub.execute_input": "2023-06-22T21:36:28.623707Z",
     "iopub.status.busy": "2023-06-22T21:36:28.623176Z",
     "iopub.status.idle": "2023-06-22T21:36:28.666795Z",
     "shell.execute_reply": "2023-06-22T21:36:28.665809Z"
    },
    "papermill": {
     "duration": 0.058916,
     "end_time": "2023-06-22T21:36:28.668831",
     "exception": false,
     "start_time": "2023-06-22T21:36:28.609915",
     "status": "completed"
    },
    "tags": []
   },
   "outputs": [],
   "source": [
    "# Remove '>' character from the beginning of each value in 'Position' column\n",
    "train_data_1['Position'] = train_data_1['Position'].str.lstrip('>')\n",
    "\n",
    "# Remove rows where 'Position' is NaN\n",
    "train_data_1 = train_data_1.dropna(subset=['Position'])"
   ]
  },
  {
   "cell_type": "markdown",
   "id": "4f705fa2",
   "metadata": {
    "papermill": {
     "duration": 0.011718,
     "end_time": "2023-06-22T21:36:28.693066",
     "exception": false,
     "start_time": "2023-06-22T21:36:28.681348",
     "status": "completed"
    },
    "tags": []
   },
   "source": [
    "removing all the nan values"
   ]
  },
  {
   "cell_type": "code",
   "execution_count": 17,
   "id": "4d0a71b2",
   "metadata": {
    "execution": {
     "iopub.execute_input": "2023-06-22T21:36:28.718443Z",
     "iopub.status.busy": "2023-06-22T21:36:28.718078Z",
     "iopub.status.idle": "2023-06-22T21:36:28.739310Z",
     "shell.execute_reply": "2023-06-22T21:36:28.738346Z"
    },
    "papermill": {
     "duration": 0.036489,
     "end_time": "2023-06-22T21:36:28.741404",
     "exception": false,
     "start_time": "2023-06-22T21:36:28.704915",
     "status": "completed"
    },
    "tags": []
   },
   "outputs": [],
   "source": [
    "train_data_1 = train_data_1[train_data_1['Position'] != 'nan']"
   ]
  },
  {
   "cell_type": "code",
   "execution_count": 18,
   "id": "f7319647",
   "metadata": {
    "execution": {
     "iopub.execute_input": "2023-06-22T21:36:28.767795Z",
     "iopub.status.busy": "2023-06-22T21:36:28.767257Z",
     "iopub.status.idle": "2023-06-22T21:36:28.775444Z",
     "shell.execute_reply": "2023-06-22T21:36:28.774436Z"
    },
    "papermill": {
     "duration": 0.022714,
     "end_time": "2023-06-22T21:36:28.777001",
     "exception": false,
     "start_time": "2023-06-22T21:36:28.754287",
     "status": "completed"
    },
    "tags": []
   },
   "outputs": [
    {
     "data": {
      "text/plain": [
       "array(['RES', 'LCM', 'CAM', 'SUB', 'GK', 'CDM', 'CB', 'RCB', 'ST', 'LCB',\n",
       "       'CM', 'LS', 'RDM', 'RCM', 'LM', 'LAM', 'LDM', 'RB', 'RM', 'CF',\n",
       "       'RS', 'RW', 'LB', 'LW', 'LWB', 'RWB', 'RAM', 'LF', 'RF'],\n",
       "      dtype=object)"
      ]
     },
     "execution_count": 18,
     "metadata": {},
     "output_type": "execute_result"
    }
   ],
   "source": [
    "train_data_1['Position'].unique()"
   ]
  },
  {
   "cell_type": "markdown",
   "id": "bcc4e925",
   "metadata": {
    "papermill": {
     "duration": 0.011809,
     "end_time": "2023-06-22T21:36:28.800891",
     "exception": false,
     "start_time": "2023-06-22T21:36:28.789082",
     "status": "completed"
    },
    "tags": []
   },
   "source": [
    "doing the exact same thing for the test dataset now"
   ]
  },
  {
   "cell_type": "code",
   "execution_count": 19,
   "id": "961dbf7a",
   "metadata": {
    "execution": {
     "iopub.execute_input": "2023-06-22T21:36:28.826662Z",
     "iopub.status.busy": "2023-06-22T21:36:28.825811Z",
     "iopub.status.idle": "2023-06-22T21:36:28.829917Z",
     "shell.execute_reply": "2023-06-22T21:36:28.829120Z"
    },
    "papermill": {
     "duration": 0.018624,
     "end_time": "2023-06-22T21:36:28.831445",
     "exception": false,
     "start_time": "2023-06-22T21:36:28.812821",
     "status": "completed"
    },
    "tags": []
   },
   "outputs": [],
   "source": [
    "# test_data['Position'] = test_data['Position'].astype(str)\n",
    "# test_data['Position'] = test_data['Position'].str[-3:]  # Remove '>' character from the beginning of each value in 'Position' column\n",
    "# test_data['Position'] = test_data['Position'].str.lstrip('>')\n",
    "# test_data = test_data[test_data['Position'] != 'nan']  # Remove rows where 'Position' is 'nan'"
   ]
  },
  {
   "cell_type": "markdown",
   "id": "d7dae2c0",
   "metadata": {
    "papermill": {
     "duration": 0.011894,
     "end_time": "2023-06-22T21:36:28.855118",
     "exception": false,
     "start_time": "2023-06-22T21:36:28.843224",
     "status": "completed"
    },
    "tags": []
   },
   "source": [
    "engineering height by converting it completely into inches for training and test data"
   ]
  },
  {
   "cell_type": "code",
   "execution_count": 20,
   "id": "986d0969",
   "metadata": {
    "execution": {
     "iopub.execute_input": "2023-06-22T21:36:28.881999Z",
     "iopub.status.busy": "2023-06-22T21:36:28.881656Z",
     "iopub.status.idle": "2023-06-22T21:36:28.934212Z",
     "shell.execute_reply": "2023-06-22T21:36:28.933494Z"
    },
    "papermill": {
     "duration": 0.069215,
     "end_time": "2023-06-22T21:36:28.936339",
     "exception": false,
     "start_time": "2023-06-22T21:36:28.867124",
     "status": "completed"
    },
    "tags": []
   },
   "outputs": [],
   "source": [
    "# Convert feet and inches to inches\n",
    "train_data_1['Height'] = train_data_1['Height'].apply(lambda x: int(x.split(\"'\")[0]) * 12 + int(x.split(\"'\")[1]))\n",
    "# Convert 'Height' column to integer data type\n",
    "train_data_1['Height'] = train_data_1['Height'].astype(float)\n",
    "# Convert centimeters to inches\n",
    "test_data['Height'] = test_data['Height'].apply(lambda x: int(x[:-2]) / 2.54)\n",
    "# Convert 'Height' column to float data type\n",
    "test_data['Height'] = test_data['Height'].astype(float)\n",
    "# Convert inches to meters\n",
    "train_data_1['Height'] = train_data_1['Height'] * 0.0254\n",
    "test_data['Height'] = test_data['Height'] * 0.0254"
   ]
  },
  {
   "cell_type": "markdown",
   "id": "f0a9d6be",
   "metadata": {
    "papermill": {
     "duration": 0.011909,
     "end_time": "2023-06-22T21:36:28.960815",
     "exception": false,
     "start_time": "2023-06-22T21:36:28.948906",
     "status": "completed"
    },
    "tags": []
   },
   "source": [
    "engineeering weight for train and test"
   ]
  },
  {
   "cell_type": "code",
   "execution_count": 21,
   "id": "e44bb590",
   "metadata": {
    "execution": {
     "iopub.execute_input": "2023-06-22T21:36:28.986445Z",
     "iopub.status.busy": "2023-06-22T21:36:28.985940Z",
     "iopub.status.idle": "2023-06-22T21:36:29.035454Z",
     "shell.execute_reply": "2023-06-22T21:36:29.034543Z"
    },
    "papermill": {
     "duration": 0.064824,
     "end_time": "2023-06-22T21:36:29.037597",
     "exception": false,
     "start_time": "2023-06-22T21:36:28.972773",
     "status": "completed"
    },
    "tags": []
   },
   "outputs": [],
   "source": [
    "# Remove 'lbs' from 'Weight' values and convert pounds to kilograms\n",
    "train_data_1['Weight'] = train_data_1['Weight'].str.replace('lbs', '').astype(float) * 0.453592\n",
    "# Convert 'Weight' column to float data type\n",
    "train_data_1['Weight'] = train_data_1['Weight'].astype(float)\n",
    "train_data_1['Weight'].isna().sum()\n",
    "test_data['Weight'] = test_data['Weight'].str.replace('kg', '').astype(float)\n",
    "test_data['Weight'] = test_data['Weight'].astype(float)"
   ]
  },
  {
   "cell_type": "markdown",
   "id": "dce3f86e",
   "metadata": {
    "papermill": {
     "duration": 0.011983,
     "end_time": "2023-06-22T21:36:29.062286",
     "exception": false,
     "start_time": "2023-06-22T21:36:29.050303",
     "status": "completed"
    },
    "tags": []
   },
   "source": [
    "calculating BMI"
   ]
  },
  {
   "cell_type": "code",
   "execution_count": 22,
   "id": "253220ec",
   "metadata": {
    "execution": {
     "iopub.execute_input": "2023-06-22T21:36:29.088014Z",
     "iopub.status.busy": "2023-06-22T21:36:29.087669Z",
     "iopub.status.idle": "2023-06-22T21:36:29.093275Z",
     "shell.execute_reply": "2023-06-22T21:36:29.092729Z"
    },
    "papermill": {
     "duration": 0.020379,
     "end_time": "2023-06-22T21:36:29.094740",
     "exception": false,
     "start_time": "2023-06-22T21:36:29.074361",
     "status": "completed"
    },
    "tags": []
   },
   "outputs": [],
   "source": [
    "train_data_1['BMI'] = train_data_1['Weight'] / (train_data_1['Height'] ** 2)\n",
    "test_data['BMI'] = test_data['Weight'] / (test_data['Height'] ** 2)"
   ]
  },
  {
   "cell_type": "markdown",
   "id": "11f0a614",
   "metadata": {
    "papermill": {
     "duration": 0.011648,
     "end_time": "2023-06-22T21:36:29.118396",
     "exception": false,
     "start_time": "2023-06-22T21:36:29.106748",
     "status": "completed"
    },
    "tags": []
   },
   "source": [
    "calculating Potential difference"
   ]
  },
  {
   "cell_type": "code",
   "execution_count": 23,
   "id": "cac413ac",
   "metadata": {
    "execution": {
     "iopub.execute_input": "2023-06-22T21:36:29.144372Z",
     "iopub.status.busy": "2023-06-22T21:36:29.143849Z",
     "iopub.status.idle": "2023-06-22T21:36:29.148988Z",
     "shell.execute_reply": "2023-06-22T21:36:29.148268Z"
    },
    "papermill": {
     "duration": 0.020113,
     "end_time": "2023-06-22T21:36:29.150489",
     "exception": false,
     "start_time": "2023-06-22T21:36:29.130376",
     "status": "completed"
    },
    "tags": []
   },
   "outputs": [],
   "source": [
    "train_data_1['Potential Difference'] = train_data_1['Overall'] - train_data_1['Potential']\n",
    "test_data['Potential Difference'] = test_data['Overall'] - test_data['Potential']"
   ]
  },
  {
   "cell_type": "markdown",
   "id": "09fe8ef7",
   "metadata": {
    "papermill": {
     "duration": 0.01178,
     "end_time": "2023-06-22T21:36:29.174543",
     "exception": false,
     "start_time": "2023-06-22T21:36:29.162763",
     "status": "completed"
    },
    "tags": []
   },
   "source": [
    "creating features based on the skills "
   ]
  },
  {
   "cell_type": "markdown",
   "id": "ae80064a",
   "metadata": {
    "papermill": {
     "duration": 0.011737,
     "end_time": "2023-06-22T21:36:29.198302",
     "exception": false,
     "start_time": "2023-06-22T21:36:29.186565",
     "status": "completed"
    },
    "tags": []
   },
   "source": [
    "imputing and calculating average in the skills for train and test data"
   ]
  },
  {
   "cell_type": "code",
   "execution_count": 24,
   "id": "0aaa8e55",
   "metadata": {
    "execution": {
     "iopub.execute_input": "2023-06-22T21:36:29.223932Z",
     "iopub.status.busy": "2023-06-22T21:36:29.223580Z",
     "iopub.status.idle": "2023-06-22T21:36:29.274112Z",
     "shell.execute_reply": "2023-06-22T21:36:29.273112Z"
    },
    "papermill": {
     "duration": 0.066207,
     "end_time": "2023-06-22T21:36:29.276393",
     "exception": false,
     "start_time": "2023-06-22T21:36:29.210186",
     "status": "completed"
    },
    "tags": []
   },
   "outputs": [],
   "source": [
    "# Calculate average scores for attack, defense, midfield, and goalkeeping\n",
    "train_data_1['Attack'] = train_data_1[['Finishing', 'HeadingAccuracy', 'ShortPassing', 'Volleys',\n",
    "                                       'Dribbling', 'Curve', 'FKAccuracy', 'LongPassing', 'BallControl']].mean(axis=1)\n",
    "\n",
    "train_data_1['Defense'] = train_data_1[['Marking', 'StandingTackle', 'SlidingTackle', 'Interceptions']].mean(axis=1)\n",
    "\n",
    "train_data_1['Midfield'] = train_data_1[['Acceleration', 'SprintSpeed', 'Agility', 'Reactions', 'Balance',\n",
    "                                         'ShotPower', 'Jumping', 'Stamina', 'Strength']].mean(axis=1)\n",
    "\n",
    "train_data_1['Goalkeeping'] = train_data_1[['GKDiving', 'GKHandling', 'GKKicking', 'GKPositioning', 'GKReflexes']].mean(axis=1)\n",
    "\n",
    "\n",
    "#doing the same with test_data\n",
    "# Calculate average scores for attack, defense, midfield, and goalkeeping\n",
    "test_data['Attack'] = test_data[['Finishing', 'HeadingAccuracy', 'ShortPassing', 'Volleys',\n",
    "                                 'Dribbling', 'Curve', 'FKAccuracy', 'LongPassing', 'BallControl']].mean(axis=1)\n",
    "\n",
    "test_data['Defense'] = test_data[['Marking', 'StandingTackle', 'SlidingTackle', 'Interceptions']].mean(axis=1)\n",
    "\n",
    "test_data['Midfield'] = test_data[['Acceleration', 'SprintSpeed', 'Agility', 'Reactions', 'Balance',\n",
    "                                   'ShotPower', 'Jumping', 'Stamina', 'Strength']].mean(axis=1)\n",
    "\n",
    "test_data['Goalkeeping'] = test_data[['GKDiving', 'GKHandling', 'GKKicking', 'GKPositioning', 'GKReflexes']].mean(axis=1)\n"
   ]
  },
  {
   "cell_type": "markdown",
   "id": "3e5eae66",
   "metadata": {
    "papermill": {
     "duration": 0.01245,
     "end_time": "2023-06-22T21:36:29.302005",
     "exception": false,
     "start_time": "2023-06-22T21:36:29.289555",
     "status": "completed"
    },
    "tags": []
   },
   "source": [
    "doing some more eda/feature generation"
   ]
  },
  {
   "cell_type": "code",
   "execution_count": 25,
   "id": "9f030348",
   "metadata": {
    "execution": {
     "iopub.execute_input": "2023-06-22T21:36:29.329202Z",
     "iopub.status.busy": "2023-06-22T21:36:29.328701Z",
     "iopub.status.idle": "2023-06-22T21:36:29.333539Z",
     "shell.execute_reply": "2023-06-22T21:36:29.333005Z"
    },
    "papermill": {
     "duration": 0.020274,
     "end_time": "2023-06-22T21:36:29.335081",
     "exception": false,
     "start_time": "2023-06-22T21:36:29.314807",
     "status": "completed"
    },
    "tags": []
   },
   "outputs": [
    {
     "data": {
      "text/plain": [
       "Index(['Unnamed: 0', 'ID', 'Name', 'Age', 'Photo', 'Nationality', 'Flag',\n",
       "       'Overall', 'Potential', 'Club', 'Club Logo', 'Value', 'Wage', 'Special',\n",
       "       'Preferred Foot', 'International Reputation', 'Weak Foot',\n",
       "       'Skill Moves', 'Work Rate', 'Body Type', 'Real Face', 'Position',\n",
       "       'Jersey Number', 'Joined', 'Loaned From', 'Contract Valid Until',\n",
       "       'Height', 'Weight', 'Crossing', 'Finishing', 'HeadingAccuracy',\n",
       "       'ShortPassing', 'Volleys', 'Dribbling', 'Curve', 'FKAccuracy',\n",
       "       'LongPassing', 'BallControl', 'Acceleration', 'SprintSpeed', 'Agility',\n",
       "       'Reactions', 'Balance', 'ShotPower', 'Jumping', 'Stamina', 'Strength',\n",
       "       'LongShots', 'Aggression', 'Interceptions', 'Positioning', 'Vision',\n",
       "       'Penalties', 'Composure', 'Marking', 'StandingTackle', 'SlidingTackle',\n",
       "       'GKDiving', 'GKHandling', 'GKKicking', 'GKPositioning', 'GKReflexes',\n",
       "       'Best Position', 'Best Overall Rating', 'year', 'Release Clause',\n",
       "       'DefensiveAwareness', 'BMI', 'Potential Difference', 'Attack',\n",
       "       'Defense', 'Midfield', 'Goalkeeping'],\n",
       "      dtype='object')"
      ]
     },
     "execution_count": 25,
     "metadata": {},
     "output_type": "execute_result"
    }
   ],
   "source": [
    "train_data_1.columns"
   ]
  },
  {
   "cell_type": "code",
   "execution_count": 26,
   "id": "2e37b9a7",
   "metadata": {
    "execution": {
     "iopub.execute_input": "2023-06-22T21:36:29.360928Z",
     "iopub.status.busy": "2023-06-22T21:36:29.360575Z",
     "iopub.status.idle": "2023-06-22T21:36:29.374235Z",
     "shell.execute_reply": "2023-06-22T21:36:29.373030Z"
    },
    "papermill": {
     "duration": 0.028511,
     "end_time": "2023-06-22T21:36:29.375858",
     "exception": false,
     "start_time": "2023-06-22T21:36:29.347347",
     "status": "completed"
    },
    "tags": []
   },
   "outputs": [],
   "source": [
    "train_1=train_data_1[['Potential','Overall','Wage','International Reputation','Age','BMI','Potential Difference','Goalkeeping','Defense','Midfield','Attack']]\n",
    "test_1=test_data[['Potential','Overall','Wage','International Reputation','Age','BMI','Potential Difference','Goalkeeping','Defense','Midfield','Attack']]"
   ]
  },
  {
   "cell_type": "code",
   "execution_count": 27,
   "id": "aa235e75",
   "metadata": {
    "execution": {
     "iopub.execute_input": "2023-06-22T21:36:29.401860Z",
     "iopub.status.busy": "2023-06-22T21:36:29.401498Z",
     "iopub.status.idle": "2023-06-22T21:36:29.408169Z",
     "shell.execute_reply": "2023-06-22T21:36:29.406785Z"
    },
    "papermill": {
     "duration": 0.021889,
     "end_time": "2023-06-22T21:36:29.410046",
     "exception": false,
     "start_time": "2023-06-22T21:36:29.388157",
     "status": "completed"
    },
    "tags": []
   },
   "outputs": [
    {
     "data": {
      "text/plain": [
       "(33652, 11)"
      ]
     },
     "execution_count": 27,
     "metadata": {},
     "output_type": "execute_result"
    }
   ],
   "source": [
    "train_1.shape"
   ]
  },
  {
   "cell_type": "code",
   "execution_count": 28,
   "id": "ca733f91",
   "metadata": {
    "execution": {
     "iopub.execute_input": "2023-06-22T21:36:29.436695Z",
     "iopub.status.busy": "2023-06-22T21:36:29.436340Z",
     "iopub.status.idle": "2023-06-22T21:36:29.442372Z",
     "shell.execute_reply": "2023-06-22T21:36:29.441504Z"
    },
    "papermill": {
     "duration": 0.021136,
     "end_time": "2023-06-22T21:36:29.444098",
     "exception": false,
     "start_time": "2023-06-22T21:36:29.422962",
     "status": "completed"
    },
    "tags": []
   },
   "outputs": [
    {
     "data": {
      "text/plain": [
       "(16710, 11)"
      ]
     },
     "execution_count": 28,
     "metadata": {},
     "output_type": "execute_result"
    }
   ],
   "source": [
    "test_1.shape"
   ]
  },
  {
   "cell_type": "markdown",
   "id": "00754712",
   "metadata": {
    "papermill": {
     "duration": 0.012005,
     "end_time": "2023-06-22T21:36:29.468520",
     "exception": false,
     "start_time": "2023-06-22T21:36:29.456515",
     "status": "completed"
    },
    "tags": []
   },
   "source": [
    "find which data types are object"
   ]
  },
  {
   "cell_type": "code",
   "execution_count": 29,
   "id": "09bcd001",
   "metadata": {
    "execution": {
     "iopub.execute_input": "2023-06-22T21:36:29.495630Z",
     "iopub.status.busy": "2023-06-22T21:36:29.494643Z",
     "iopub.status.idle": "2023-06-22T21:36:29.522610Z",
     "shell.execute_reply": "2023-06-22T21:36:29.521666Z"
    },
    "papermill": {
     "duration": 0.043639,
     "end_time": "2023-06-22T21:36:29.524501",
     "exception": false,
     "start_time": "2023-06-22T21:36:29.480862",
     "status": "completed"
    },
    "tags": []
   },
   "outputs": [
    {
     "data": {
      "text/html": [
       "<div>\n",
       "<style scoped>\n",
       "    .dataframe tbody tr th:only-of-type {\n",
       "        vertical-align: middle;\n",
       "    }\n",
       "\n",
       "    .dataframe tbody tr th {\n",
       "        vertical-align: top;\n",
       "    }\n",
       "\n",
       "    .dataframe thead th {\n",
       "        text-align: right;\n",
       "    }\n",
       "</style>\n",
       "<table border=\"1\" class=\"dataframe\">\n",
       "  <thead>\n",
       "    <tr style=\"text-align: right;\">\n",
       "      <th></th>\n",
       "      <th>Potential</th>\n",
       "      <th>Overall</th>\n",
       "      <th>Wage</th>\n",
       "      <th>International Reputation</th>\n",
       "      <th>Age</th>\n",
       "      <th>BMI</th>\n",
       "      <th>Potential Difference</th>\n",
       "      <th>Goalkeeping</th>\n",
       "      <th>Defense</th>\n",
       "      <th>Midfield</th>\n",
       "      <th>Attack</th>\n",
       "    </tr>\n",
       "  </thead>\n",
       "  <tbody>\n",
       "    <tr>\n",
       "      <th>0</th>\n",
       "      <td>69</td>\n",
       "      <td>69</td>\n",
       "      <td>€7K</td>\n",
       "      <td>2.0</td>\n",
       "      <td>33</td>\n",
       "      <td>24.547741</td>\n",
       "      <td>0</td>\n",
       "      <td>11.2</td>\n",
       "      <td>69.250000</td>\n",
       "      <td>69.555556</td>\n",
       "      <td>64.000000</td>\n",
       "    </tr>\n",
       "    <tr>\n",
       "      <th>1</th>\n",
       "      <td>71</td>\n",
       "      <td>71</td>\n",
       "      <td>€7K</td>\n",
       "      <td>1.0</td>\n",
       "      <td>37</td>\n",
       "      <td>20.518136</td>\n",
       "      <td>0</td>\n",
       "      <td>11.2</td>\n",
       "      <td>56.000000</td>\n",
       "      <td>62.000000</td>\n",
       "      <td>70.888889</td>\n",
       "    </tr>\n",
       "    <tr>\n",
       "      <th>2</th>\n",
       "      <td>71</td>\n",
       "      <td>71</td>\n",
       "      <td>€15K</td>\n",
       "      <td>2.0</td>\n",
       "      <td>33</td>\n",
       "      <td>23.775280</td>\n",
       "      <td>0</td>\n",
       "      <td>10.2</td>\n",
       "      <td>34.500000</td>\n",
       "      <td>56.666667</td>\n",
       "      <td>71.555556</td>\n",
       "    </tr>\n",
       "    <tr>\n",
       "      <th>3</th>\n",
       "      <td>70</td>\n",
       "      <td>70</td>\n",
       "      <td>€4K</td>\n",
       "      <td>1.0</td>\n",
       "      <td>35</td>\n",
       "      <td>22.377775</td>\n",
       "      <td>0</td>\n",
       "      <td>69.2</td>\n",
       "      <td>16.000000</td>\n",
       "      <td>50.111111</td>\n",
       "      <td>16.777778</td>\n",
       "    </tr>\n",
       "    <tr>\n",
       "      <th>4</th>\n",
       "      <td>82</td>\n",
       "      <td>68</td>\n",
       "      <td>€0</td>\n",
       "      <td>1.0</td>\n",
       "      <td>36</td>\n",
       "      <td>23.012574</td>\n",
       "      <td>-14</td>\n",
       "      <td>26.4</td>\n",
       "      <td>48.333333</td>\n",
       "      <td>59.333333</td>\n",
       "      <td>66.428571</td>\n",
       "    </tr>\n",
       "  </tbody>\n",
       "</table>\n",
       "</div>"
      ],
      "text/plain": [
       "   Potential  Overall  Wage  International Reputation  Age        BMI  \\\n",
       "0         69       69   €7K                       2.0   33  24.547741   \n",
       "1         71       71   €7K                       1.0   37  20.518136   \n",
       "2         71       71  €15K                       2.0   33  23.775280   \n",
       "3         70       70   €4K                       1.0   35  22.377775   \n",
       "4         82       68    €0                       1.0   36  23.012574   \n",
       "\n",
       "   Potential Difference  Goalkeeping    Defense   Midfield     Attack  \n",
       "0                     0         11.2  69.250000  69.555556  64.000000  \n",
       "1                     0         11.2  56.000000  62.000000  70.888889  \n",
       "2                     0         10.2  34.500000  56.666667  71.555556  \n",
       "3                     0         69.2  16.000000  50.111111  16.777778  \n",
       "4                   -14         26.4  48.333333  59.333333  66.428571  "
      ]
     },
     "execution_count": 29,
     "metadata": {},
     "output_type": "execute_result"
    }
   ],
   "source": [
    "train_1.head()"
   ]
  },
  {
   "cell_type": "markdown",
   "id": "3dbc2133",
   "metadata": {
    "papermill": {
     "duration": 0.012474,
     "end_time": "2023-06-22T21:36:29.550214",
     "exception": false,
     "start_time": "2023-06-22T21:36:29.537740",
     "status": "completed"
    },
    "tags": []
   },
   "source": [
    "train feature"
   ]
  },
  {
   "cell_type": "code",
   "execution_count": 30,
   "id": "f3bc18d8",
   "metadata": {
    "execution": {
     "iopub.execute_input": "2023-06-22T21:36:29.578550Z",
     "iopub.status.busy": "2023-06-22T21:36:29.578215Z",
     "iopub.status.idle": "2023-06-22T21:36:29.582657Z",
     "shell.execute_reply": "2023-06-22T21:36:29.581843Z"
    },
    "papermill": {
     "duration": 0.021093,
     "end_time": "2023-06-22T21:36:29.584882",
     "exception": false,
     "start_time": "2023-06-22T21:36:29.563789",
     "status": "completed"
    },
    "tags": []
   },
   "outputs": [],
   "source": [
    "y_train=train_data_1['Value']"
   ]
  },
  {
   "cell_type": "markdown",
   "id": "b341122c",
   "metadata": {
    "papermill": {
     "duration": 0.013176,
     "end_time": "2023-06-22T21:36:29.611180",
     "exception": false,
     "start_time": "2023-06-22T21:36:29.598004",
     "status": "completed"
    },
    "tags": []
   },
   "source": [
    "converting Value and Wage as per"
   ]
  },
  {
   "cell_type": "code",
   "execution_count": 31,
   "id": "d0cdcd7e",
   "metadata": {
    "execution": {
     "iopub.execute_input": "2023-06-22T21:36:29.638860Z",
     "iopub.status.busy": "2023-06-22T21:36:29.638509Z",
     "iopub.status.idle": "2023-06-22T21:36:29.833572Z",
     "shell.execute_reply": "2023-06-22T21:36:29.832278Z"
    },
    "papermill": {
     "duration": 0.21166,
     "end_time": "2023-06-22T21:36:29.836023",
     "exception": false,
     "start_time": "2023-06-22T21:36:29.624363",
     "status": "completed"
    },
    "tags": []
   },
   "outputs": [
    {
     "name": "stderr",
     "output_type": "stream",
     "text": [
      "/tmp/ipykernel_20/3838849759.py:14: SettingWithCopyWarning: \n",
      "A value is trying to be set on a copy of a slice from a DataFrame.\n",
      "Try using .loc[row_indexer,col_indexer] = value instead\n",
      "\n",
      "See the caveats in the documentation: https://pandas.pydata.org/pandas-docs/stable/user_guide/indexing.html#returning-a-view-versus-a-copy\n",
      "  train_1['Wage'] = train_1['Wage'].apply(preprocess_wage)\n",
      "/tmp/ipykernel_20/3838849759.py:17: SettingWithCopyWarning: \n",
      "A value is trying to be set on a copy of a slice from a DataFrame.\n",
      "Try using .loc[row_indexer,col_indexer] = value instead\n",
      "\n",
      "See the caveats in the documentation: https://pandas.pydata.org/pandas-docs/stable/user_guide/indexing.html#returning-a-view-versus-a-copy\n",
      "  train_1['Wage'] = train_1['Wage'].astype(float)\n",
      "/tmp/ipykernel_20/3838849759.py:20: SettingWithCopyWarning: \n",
      "A value is trying to be set on a copy of a slice from a DataFrame.\n",
      "Try using .loc[row_indexer,col_indexer] = value instead\n",
      "\n",
      "See the caveats in the documentation: https://pandas.pydata.org/pandas-docs/stable/user_guide/indexing.html#returning-a-view-versus-a-copy\n",
      "  test_1['Wage'] = test_1['Wage'].apply(preprocess_wage)\n",
      "/tmp/ipykernel_20/3838849759.py:23: SettingWithCopyWarning: \n",
      "A value is trying to be set on a copy of a slice from a DataFrame.\n",
      "Try using .loc[row_indexer,col_indexer] = value instead\n",
      "\n",
      "See the caveats in the documentation: https://pandas.pydata.org/pandas-docs/stable/user_guide/indexing.html#returning-a-view-versus-a-copy\n",
      "  test_1['Wage'] = test_1['Wage'].astype(float)\n"
     ]
    }
   ],
   "source": [
    "import re\n",
    "# Define a function to preprocess the 'Wage' column\n",
    "def preprocess_wage(value):\n",
    "    value = re.sub(r'€', '', value)  # Remove euro symbol\n",
    "    if 'K' in value:\n",
    "        value = float(re.sub(r'[^0-9.]', '', value)) * 1000  # Remove 'K' and multiply by 1000\n",
    "    elif 'M' in value:\n",
    "        value = float(re.sub(r'[^0-9.]', '', value)) * 1000000  # Remove 'M' and multiply by 1000000\n",
    "    else:\n",
    "        value = float(value)\n",
    "    return value\n",
    "\n",
    "# Apply the preprocessing function to 'Wage' column in train_1 dataset\n",
    "train_1['Wage'] = train_1['Wage'].apply(preprocess_wage)\n",
    "\n",
    "# Convert the column to float data type\n",
    "train_1['Wage'] = train_1['Wage'].astype(float)\n",
    "\n",
    "# Apply the preprocessing function to 'Wage' column in train_1 dataset\n",
    "test_1['Wage'] = test_1['Wage'].apply(preprocess_wage)\n",
    "\n",
    "# Convert the column to float data type\n",
    "test_1['Wage'] = test_1['Wage'].astype(float)\n",
    "\n",
    "#Applying it to y_train too\n",
    "y_train=y_train.apply(preprocess_wage)\n",
    "\n",
    "#Convert the column to float data type\n",
    "y_train=y_train.astype(float)"
   ]
  },
  {
   "cell_type": "markdown",
   "id": "64e29f93",
   "metadata": {
    "papermill": {
     "duration": 0.013464,
     "end_time": "2023-06-22T21:36:29.863105",
     "exception": false,
     "start_time": "2023-06-22T21:36:29.849641",
     "status": "completed"
    },
    "tags": []
   },
   "source": [
    "minmax scaling"
   ]
  },
  {
   "cell_type": "code",
   "execution_count": 32,
   "id": "f99986ea",
   "metadata": {
    "execution": {
     "iopub.execute_input": "2023-06-22T21:36:29.890719Z",
     "iopub.status.busy": "2023-06-22T21:36:29.890360Z",
     "iopub.status.idle": "2023-06-22T21:36:29.895087Z",
     "shell.execute_reply": "2023-06-22T21:36:29.894125Z"
    },
    "papermill": {
     "duration": 0.020562,
     "end_time": "2023-06-22T21:36:29.896854",
     "exception": false,
     "start_time": "2023-06-22T21:36:29.876292",
     "status": "completed"
    },
    "tags": []
   },
   "outputs": [],
   "source": [
    "# from sklearn.preprocessing import MinMaxScaler\n",
    "\n",
    "# # Initialize the MinMaxScaler\n",
    "# scaler = MinMaxScaler()\n",
    "\n",
    "# # Fit and transform the training data\n",
    "# train_1_scaled = scaler.fit_transform(train_1)\n",
    "\n",
    "# # Transform the test data (using the same scaler)\n",
    "# test_1_scaled = scaler.transform(test_1)"
   ]
  },
  {
   "cell_type": "code",
   "execution_count": 33,
   "id": "dbeea234",
   "metadata": {
    "execution": {
     "iopub.execute_input": "2023-06-22T21:36:29.924579Z",
     "iopub.status.busy": "2023-06-22T21:36:29.924266Z",
     "iopub.status.idle": "2023-06-22T21:36:29.928472Z",
     "shell.execute_reply": "2023-06-22T21:36:29.927508Z"
    },
    "papermill": {
     "duration": 0.020334,
     "end_time": "2023-06-22T21:36:29.930248",
     "exception": false,
     "start_time": "2023-06-22T21:36:29.909914",
     "status": "completed"
    },
    "tags": []
   },
   "outputs": [],
   "source": [
    "# # Convert train_1_scaled to a DataFrame\n",
    "# train_1_scaled_df = pd.DataFrame(train_1_scaled, columns=train_1.columns)\n",
    "\n",
    "# # Convert test_1_scaled to a DataFrame\n",
    "# test_1_scaled_df = pd.DataFrame(test_1_scaled, columns=test_1.columns)"
   ]
  },
  {
   "cell_type": "code",
   "execution_count": 34,
   "id": "cc8ab5eb",
   "metadata": {
    "execution": {
     "iopub.execute_input": "2023-06-22T21:36:29.957876Z",
     "iopub.status.busy": "2023-06-22T21:36:29.957111Z",
     "iopub.status.idle": "2023-06-22T21:36:29.961252Z",
     "shell.execute_reply": "2023-06-22T21:36:29.960634Z"
    },
    "papermill": {
     "duration": 0.020286,
     "end_time": "2023-06-22T21:36:29.963344",
     "exception": false,
     "start_time": "2023-06-22T21:36:29.943058",
     "status": "completed"
    },
    "tags": []
   },
   "outputs": [],
   "source": [
    "# from sklearn.linear_model import LinearRegression\n",
    "# from sklearn.model_selection import GridSearchCV\n",
    "\n",
    "# # Create an instance of Linear Regression\n",
    "# regressor = LinearRegression()\n",
    "\n",
    "# # Define the hyperparameters and their possible values\n",
    "# param_grid = {\n",
    "#     'fit_intercept': [True, False],\n",
    "#     #'normalize': [True, False],\n",
    "#     'n_jobs': [None, -1],\n",
    "#     'positive': [True, False]\n",
    "# }\n",
    "\n",
    "# # Create GridSearchCV object\n",
    "# grid_search = GridSearchCV(regressor, param_grid, cv=5)\n",
    "\n",
    "# # Fit the GridSearchCV object to the data\n",
    "# grid_search.fit(train_1, y_train)\n",
    "\n",
    "# # Get the best hyperparameters\n",
    "# best_params = grid_search.best_params_\n"
   ]
  },
  {
   "cell_type": "markdown",
   "id": "cc1dd4ca",
   "metadata": {
    "papermill": {
     "duration": 0.012984,
     "end_time": "2023-06-22T21:36:29.989908",
     "exception": false,
     "start_time": "2023-06-22T21:36:29.976924",
     "status": "completed"
    },
    "tags": []
   },
   "source": [
    "trying to do cross validation"
   ]
  },
  {
   "cell_type": "code",
   "execution_count": 35,
   "id": "a2b4c417",
   "metadata": {
    "execution": {
     "iopub.execute_input": "2023-06-22T21:36:30.019152Z",
     "iopub.status.busy": "2023-06-22T21:36:30.018094Z",
     "iopub.status.idle": "2023-06-22T21:37:38.044135Z",
     "shell.execute_reply": "2023-06-22T21:37:38.042980Z"
    },
    "papermill": {
     "duration": 68.055525,
     "end_time": "2023-06-22T21:37:38.058823",
     "exception": false,
     "start_time": "2023-06-22T21:36:30.003298",
     "status": "completed"
    },
    "tags": []
   },
   "outputs": [
    {
     "data": {
      "text/plain": [
       "606600.7790814887"
      ]
     },
     "execution_count": 35,
     "metadata": {},
     "output_type": "execute_result"
    }
   ],
   "source": [
    "from sklearn.model_selection import cross_val_score\n",
    "from sklearn.model_selection import KFold\n",
    "from sklearn.metrics import mean_squared_error\n",
    "from xgboost import XGBRegressor\n",
    "from sklearn.svm import SVR\n",
    "from sklearn.ensemble import RandomForestRegressor\n",
    "\n",
    "# Create an instance of the Random Forest Regressor\n",
    "model = RandomForestRegressor()\n",
    "\n",
    "# Step 2: Import necessary libraries for cross-validation and model evaluation\n",
    "\n",
    "# Step 3: Define your regression model\n",
    "#model =  LinearRegression(fit_intercept=False, n_jobs=None, positive=False)\n",
    "\n",
    "# Step 4: Perform cross-validation\n",
    "kf = KFold(n_splits=5, shuffle=True, random_state=42)  # Define the number of folds\n",
    "rmse_scores = []  # List to store the RMSE scores\n",
    "\n",
    "X = train_1 # Input features from train_data_1\n",
    "y = y_train\n",
    "\n",
    "for train_index, val_index in kf.split(X):\n",
    "    X_train, X_val = X.iloc[train_index], X.iloc[val_index]\n",
    "    y_train_1, y_val = y.iloc[train_index], y.iloc[val_index]\n",
    "\n",
    "    # Fit the model on the training data\n",
    "    model.fit(X_train, y_train_1)\n",
    "\n",
    "    # Predict on the validation data\n",
    "    y_pred = model.predict(X_val)\n",
    "\n",
    "    # Calculate the RMSE for this fold\n",
    "    rmse = mean_squared_error(y_val, y_pred, squared=False)\n",
    "    rmse_scores.append(rmse)\n",
    "\n",
    "# Step 5: Calculate the average RMSE\n",
    "avg_rmse = sum(rmse_scores) / len(rmse_scores)\n",
    "avg_rmse"
   ]
  },
  {
   "cell_type": "markdown",
   "id": "ca319967",
   "metadata": {
    "papermill": {
     "duration": 0.012468,
     "end_time": "2023-06-22T21:37:38.084031",
     "exception": false,
     "start_time": "2023-06-22T21:37:38.071563",
     "status": "completed"
    },
    "tags": []
   },
   "source": [
    "fitting model with  best parameters"
   ]
  },
  {
   "cell_type": "code",
   "execution_count": 36,
   "id": "8ec5b2cd",
   "metadata": {
    "execution": {
     "iopub.execute_input": "2023-06-22T21:37:38.111258Z",
     "iopub.status.busy": "2023-06-22T21:37:38.110924Z",
     "iopub.status.idle": "2023-06-22T21:37:54.832141Z",
     "shell.execute_reply": "2023-06-22T21:37:54.831128Z"
    },
    "papermill": {
     "duration": 16.737191,
     "end_time": "2023-06-22T21:37:54.833976",
     "exception": false,
     "start_time": "2023-06-22T21:37:38.096785",
     "status": "completed"
    },
    "tags": []
   },
   "outputs": [
    {
     "data": {
      "text/html": [
       "<style>#sk-container-id-1 {color: black;background-color: white;}#sk-container-id-1 pre{padding: 0;}#sk-container-id-1 div.sk-toggleable {background-color: white;}#sk-container-id-1 label.sk-toggleable__label {cursor: pointer;display: block;width: 100%;margin-bottom: 0;padding: 0.3em;box-sizing: border-box;text-align: center;}#sk-container-id-1 label.sk-toggleable__label-arrow:before {content: \"▸\";float: left;margin-right: 0.25em;color: #696969;}#sk-container-id-1 label.sk-toggleable__label-arrow:hover:before {color: black;}#sk-container-id-1 div.sk-estimator:hover label.sk-toggleable__label-arrow:before {color: black;}#sk-container-id-1 div.sk-toggleable__content {max-height: 0;max-width: 0;overflow: hidden;text-align: left;background-color: #f0f8ff;}#sk-container-id-1 div.sk-toggleable__content pre {margin: 0.2em;color: black;border-radius: 0.25em;background-color: #f0f8ff;}#sk-container-id-1 input.sk-toggleable__control:checked~div.sk-toggleable__content {max-height: 200px;max-width: 100%;overflow: auto;}#sk-container-id-1 input.sk-toggleable__control:checked~label.sk-toggleable__label-arrow:before {content: \"▾\";}#sk-container-id-1 div.sk-estimator input.sk-toggleable__control:checked~label.sk-toggleable__label {background-color: #d4ebff;}#sk-container-id-1 div.sk-label input.sk-toggleable__control:checked~label.sk-toggleable__label {background-color: #d4ebff;}#sk-container-id-1 input.sk-hidden--visually {border: 0;clip: rect(1px 1px 1px 1px);clip: rect(1px, 1px, 1px, 1px);height: 1px;margin: -1px;overflow: hidden;padding: 0;position: absolute;width: 1px;}#sk-container-id-1 div.sk-estimator {font-family: monospace;background-color: #f0f8ff;border: 1px dotted black;border-radius: 0.25em;box-sizing: border-box;margin-bottom: 0.5em;}#sk-container-id-1 div.sk-estimator:hover {background-color: #d4ebff;}#sk-container-id-1 div.sk-parallel-item::after {content: \"\";width: 100%;border-bottom: 1px solid gray;flex-grow: 1;}#sk-container-id-1 div.sk-label:hover label.sk-toggleable__label {background-color: #d4ebff;}#sk-container-id-1 div.sk-serial::before {content: \"\";position: absolute;border-left: 1px solid gray;box-sizing: border-box;top: 0;bottom: 0;left: 50%;z-index: 0;}#sk-container-id-1 div.sk-serial {display: flex;flex-direction: column;align-items: center;background-color: white;padding-right: 0.2em;padding-left: 0.2em;position: relative;}#sk-container-id-1 div.sk-item {position: relative;z-index: 1;}#sk-container-id-1 div.sk-parallel {display: flex;align-items: stretch;justify-content: center;background-color: white;position: relative;}#sk-container-id-1 div.sk-item::before, #sk-container-id-1 div.sk-parallel-item::before {content: \"\";position: absolute;border-left: 1px solid gray;box-sizing: border-box;top: 0;bottom: 0;left: 50%;z-index: -1;}#sk-container-id-1 div.sk-parallel-item {display: flex;flex-direction: column;z-index: 1;position: relative;background-color: white;}#sk-container-id-1 div.sk-parallel-item:first-child::after {align-self: flex-end;width: 50%;}#sk-container-id-1 div.sk-parallel-item:last-child::after {align-self: flex-start;width: 50%;}#sk-container-id-1 div.sk-parallel-item:only-child::after {width: 0;}#sk-container-id-1 div.sk-dashed-wrapped {border: 1px dashed gray;margin: 0 0.4em 0.5em 0.4em;box-sizing: border-box;padding-bottom: 0.4em;background-color: white;}#sk-container-id-1 div.sk-label label {font-family: monospace;font-weight: bold;display: inline-block;line-height: 1.2em;}#sk-container-id-1 div.sk-label-container {text-align: center;}#sk-container-id-1 div.sk-container {/* jupyter's `normalize.less` sets `[hidden] { display: none; }` but bootstrap.min.css set `[hidden] { display: none !important; }` so we also need the `!important` here to be able to override the default hidden behavior on the sphinx rendered scikit-learn.org. See: https://github.com/scikit-learn/scikit-learn/issues/21755 */display: inline-block !important;position: relative;}#sk-container-id-1 div.sk-text-repr-fallback {display: none;}</style><div id=\"sk-container-id-1\" class=\"sk-top-container\"><div class=\"sk-text-repr-fallback\"><pre>RandomForestRegressor()</pre><b>In a Jupyter environment, please rerun this cell to show the HTML representation or trust the notebook. <br />On GitHub, the HTML representation is unable to render, please try loading this page with nbviewer.org.</b></div><div class=\"sk-container\" hidden><div class=\"sk-item\"><div class=\"sk-estimator sk-toggleable\"><input class=\"sk-toggleable__control sk-hidden--visually\" id=\"sk-estimator-id-1\" type=\"checkbox\" checked><label for=\"sk-estimator-id-1\" class=\"sk-toggleable__label sk-toggleable__label-arrow\">RandomForestRegressor</label><div class=\"sk-toggleable__content\"><pre>RandomForestRegressor()</pre></div></div></div></div></div>"
      ],
      "text/plain": [
       "RandomForestRegressor()"
      ]
     },
     "execution_count": 36,
     "metadata": {},
     "output_type": "execute_result"
    }
   ],
   "source": [
    "model = RandomForestRegressor()\n",
    "model.fit(train_1,y_train)"
   ]
  },
  {
   "cell_type": "code",
   "execution_count": 37,
   "id": "eab4c5b4",
   "metadata": {
    "execution": {
     "iopub.execute_input": "2023-06-22T21:37:54.862856Z",
     "iopub.status.busy": "2023-06-22T21:37:54.862513Z",
     "iopub.status.idle": "2023-06-22T21:37:55.161950Z",
     "shell.execute_reply": "2023-06-22T21:37:55.161043Z"
    },
    "papermill": {
     "duration": 0.316178,
     "end_time": "2023-06-22T21:37:55.164249",
     "exception": false,
     "start_time": "2023-06-22T21:37:54.848071",
     "status": "completed"
    },
    "tags": []
   },
   "outputs": [],
   "source": [
    "pred=model.predict(test_1)"
   ]
  },
  {
   "cell_type": "code",
   "execution_count": 38,
   "id": "8d101f5b",
   "metadata": {
    "execution": {
     "iopub.execute_input": "2023-06-22T21:37:55.191918Z",
     "iopub.status.busy": "2023-06-22T21:37:55.191556Z",
     "iopub.status.idle": "2023-06-22T21:37:55.201260Z",
     "shell.execute_reply": "2023-06-22T21:37:55.200288Z"
    },
    "papermill": {
     "duration": 0.025116,
     "end_time": "2023-06-22T21:37:55.202865",
     "exception": false,
     "start_time": "2023-06-22T21:37:55.177749",
     "status": "completed"
    },
    "tags": []
   },
   "outputs": [
    {
     "data": {
      "text/html": [
       "<div>\n",
       "<style scoped>\n",
       "    .dataframe tbody tr th:only-of-type {\n",
       "        vertical-align: middle;\n",
       "    }\n",
       "\n",
       "    .dataframe tbody tr th {\n",
       "        vertical-align: top;\n",
       "    }\n",
       "\n",
       "    .dataframe thead th {\n",
       "        text-align: right;\n",
       "    }\n",
       "</style>\n",
       "<table border=\"1\" class=\"dataframe\">\n",
       "  <thead>\n",
       "    <tr style=\"text-align: right;\">\n",
       "      <th></th>\n",
       "      <th>Photo</th>\n",
       "      <th>Value</th>\n",
       "    </tr>\n",
       "  </thead>\n",
       "  <tbody>\n",
       "    <tr>\n",
       "      <th>0</th>\n",
       "      <td>https://cdn.sofifa.com/players/212/198/22_60.png</td>\n",
       "      <td>64260000.0</td>\n",
       "    </tr>\n",
       "    <tr>\n",
       "      <th>1</th>\n",
       "      <td>https://cdn.sofifa.com/players/209/658/22_60.png</td>\n",
       "      <td>54595000.0</td>\n",
       "    </tr>\n",
       "    <tr>\n",
       "      <th>2</th>\n",
       "      <td>https://cdn.sofifa.com/players/176/580/22_60.png</td>\n",
       "      <td>34185000.0</td>\n",
       "    </tr>\n",
       "    <tr>\n",
       "      <th>3</th>\n",
       "      <td>https://cdn.sofifa.com/players/192/985/22_60.png</td>\n",
       "      <td>78770000.0</td>\n",
       "    </tr>\n",
       "    <tr>\n",
       "      <th>4</th>\n",
       "      <td>https://cdn.sofifa.com/players/224/334/22_60.png</td>\n",
       "      <td>29215000.0</td>\n",
       "    </tr>\n",
       "  </tbody>\n",
       "</table>\n",
       "</div>"
      ],
      "text/plain": [
       "                                              Photo       Value\n",
       "0  https://cdn.sofifa.com/players/212/198/22_60.png  64260000.0\n",
       "1  https://cdn.sofifa.com/players/209/658/22_60.png  54595000.0\n",
       "2  https://cdn.sofifa.com/players/176/580/22_60.png  34185000.0\n",
       "3  https://cdn.sofifa.com/players/192/985/22_60.png  78770000.0\n",
       "4  https://cdn.sofifa.com/players/224/334/22_60.png  29215000.0"
      ]
     },
     "execution_count": 38,
     "metadata": {},
     "output_type": "execute_result"
    }
   ],
   "source": [
    "output = pd.DataFrame({'Photo':test_data['Photo'],'Value': pred})  # Create the DataFrame with the 'Value' column\n",
    "output.head()"
   ]
  },
  {
   "cell_type": "markdown",
   "id": "59ebf36e",
   "metadata": {
    "papermill": {
     "duration": 0.012983,
     "end_time": "2023-06-22T21:37:55.229029",
     "exception": false,
     "start_time": "2023-06-22T21:37:55.216046",
     "status": "completed"
    },
    "tags": []
   },
   "source": [
    "hence output submission has been created"
   ]
  },
  {
   "cell_type": "markdown",
   "id": "9a3f752a",
   "metadata": {
    "papermill": {
     "duration": 0.012975,
     "end_time": "2023-06-22T21:37:55.255376",
     "exception": false,
     "start_time": "2023-06-22T21:37:55.242401",
     "status": "completed"
    },
    "tags": []
   },
   "source": [
    "converting to a csv as needed"
   ]
  },
  {
   "cell_type": "code",
   "execution_count": 39,
   "id": "609f6521",
   "metadata": {
    "execution": {
     "iopub.execute_input": "2023-06-22T21:37:55.284472Z",
     "iopub.status.busy": "2023-06-22T21:37:55.284151Z",
     "iopub.status.idle": "2023-06-22T21:37:55.326266Z",
     "shell.execute_reply": "2023-06-22T21:37:55.325107Z"
    },
    "papermill": {
     "duration": 0.060038,
     "end_time": "2023-06-22T21:37:55.328367",
     "exception": false,
     "start_time": "2023-06-22T21:37:55.268329",
     "status": "completed"
    },
    "tags": []
   },
   "outputs": [
    {
     "name": "stdout",
     "output_type": "stream",
     "text": [
      "Submission saved successfully\n"
     ]
    }
   ],
   "source": [
    "output.to_csv('submissions.csv',index=False)\n",
    "print(\"Submission saved successfully\")"
   ]
  },
  {
   "cell_type": "code",
   "execution_count": 40,
   "id": "cd86c315",
   "metadata": {
    "execution": {
     "iopub.execute_input": "2023-06-22T21:37:55.357984Z",
     "iopub.status.busy": "2023-06-22T21:37:55.356765Z",
     "iopub.status.idle": "2023-06-22T21:37:55.363750Z",
     "shell.execute_reply": "2023-06-22T21:37:55.362734Z"
    },
    "papermill": {
     "duration": 0.023367,
     "end_time": "2023-06-22T21:37:55.365510",
     "exception": false,
     "start_time": "2023-06-22T21:37:55.342143",
     "status": "completed"
    },
    "tags": []
   },
   "outputs": [
    {
     "data": {
      "text/plain": [
       "(16710, 2)"
      ]
     },
     "execution_count": 40,
     "metadata": {},
     "output_type": "execute_result"
    }
   ],
   "source": [
    "output.shape"
   ]
  },
  {
   "cell_type": "code",
   "execution_count": null,
   "id": "ea5cb618",
   "metadata": {
    "papermill": {
     "duration": 0.013237,
     "end_time": "2023-06-22T21:37:55.392410",
     "exception": false,
     "start_time": "2023-06-22T21:37:55.379173",
     "status": "completed"
    },
    "tags": []
   },
   "outputs": [],
   "source": []
  }
 ],
 "metadata": {
  "kernelspec": {
   "display_name": "Python 3",
   "language": "python",
   "name": "python3"
  },
  "language_info": {
   "codemirror_mode": {
    "name": "ipython",
    "version": 3
   },
   "file_extension": ".py",
   "mimetype": "text/x-python",
   "name": "python",
   "nbconvert_exporter": "python",
   "pygments_lexer": "ipython3",
   "version": "3.10.10"
  },
  "papermill": {
   "default_parameters": {},
   "duration": 98.806405,
   "end_time": "2023-06-22T21:37:56.326889",
   "environment_variables": {},
   "exception": null,
   "input_path": "__notebook__.ipynb",
   "output_path": "__notebook__.ipynb",
   "parameters": {},
   "start_time": "2023-06-22T21:36:17.520484",
   "version": "2.4.0"
  }
 },
 "nbformat": 4,
 "nbformat_minor": 5
}
