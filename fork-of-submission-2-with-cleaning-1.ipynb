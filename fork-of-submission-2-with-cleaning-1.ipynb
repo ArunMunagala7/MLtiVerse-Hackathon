{
 "cells": [
  {
   "cell_type": "code",
   "execution_count": 1,
   "id": "57ec6938",
   "metadata": {
    "execution": {
     "iopub.execute_input": "2023-06-22T15:30:36.414554Z",
     "iopub.status.busy": "2023-06-22T15:30:36.414073Z",
     "iopub.status.idle": "2023-06-22T15:30:36.430996Z",
     "shell.execute_reply": "2023-06-22T15:30:36.429392Z"
    },
    "papermill": {
     "duration": 0.0339,
     "end_time": "2023-06-22T15:30:36.433617",
     "exception": false,
     "start_time": "2023-06-22T15:30:36.399717",
     "status": "completed"
    },
    "tags": []
   },
   "outputs": [
    {
     "name": "stdout",
     "output_type": "stream",
     "text": [
      "/kaggle/input/mltiverse-join-comp/sample_submission.csv\n",
      "/kaggle/input/mltiverse-join-comp/train.csv\n",
      "/kaggle/input/mltiverse-join-comp/test.csv\n"
     ]
    }
   ],
   "source": [
    "## This Python 3 environment comes with many helpful analytics libraries installed\n",
    "# It is defined by the kaggle/python Docker image: https://github.com/kaggle/docker-python\n",
    "# For example, here's several helpful packages to load\n",
    "\n",
    "import numpy as np # linear algebra\n",
    "import pandas as pd # data processing, CSV file I/O (e.g. pd.read_csv)\n",
    "\n",
    "# Input data files are available in the read-only \"../input/\" directory\n",
    "# For example, running this (by clicking run or pressing Shift+Enter) will list all files under the input directory\n",
    "\n",
    "import os\n",
    "for dirname, _, filenames in os.walk('/kaggle/input'):\n",
    "    for filename in filenames:\n",
    "        print(os.path.join(dirname, filename))\n",
    "\n",
    "# You can write up to 20GB to the current directory (/kaggle/working/) that gets preserved as output when you create a version using \"Save & Run All\" \n",
    "# You can also write temporary files to /kaggle/temp/, but they won't be saved outside of the current session"
   ]
  },
  {
   "cell_type": "markdown",
   "id": "876e702a",
   "metadata": {
    "papermill": {
     "duration": 0.009438,
     "end_time": "2023-06-22T15:30:36.453145",
     "exception": false,
     "start_time": "2023-06-22T15:30:36.443707",
     "status": "completed"
    },
    "tags": []
   },
   "source": [
    "importing data"
   ]
  },
  {
   "cell_type": "code",
   "execution_count": 2,
   "id": "3f8a153d",
   "metadata": {
    "execution": {
     "iopub.execute_input": "2023-06-22T15:30:36.474957Z",
     "iopub.status.busy": "2023-06-22T15:30:36.474577Z",
     "iopub.status.idle": "2023-06-22T15:30:38.886782Z",
     "shell.execute_reply": "2023-06-22T15:30:38.885677Z"
    },
    "papermill": {
     "duration": 2.426246,
     "end_time": "2023-06-22T15:30:38.889672",
     "exception": false,
     "start_time": "2023-06-22T15:30:36.463426",
     "status": "completed"
    },
    "tags": []
   },
   "outputs": [],
   "source": [
    "train_data=pd.read_csv('/kaggle/input/mltiverse-join-comp/train.csv')\n",
    "test_data=pd.read_csv('/kaggle/input/mltiverse-join-comp/test.csv')\n",
    "sample=pd.read_csv('/kaggle/input/mltiverse-join-comp/sample_submission.csv')"
   ]
  },
  {
   "cell_type": "markdown",
   "id": "3db57806",
   "metadata": {
    "papermill": {
     "duration": 0.010288,
     "end_time": "2023-06-22T15:30:38.910074",
     "exception": false,
     "start_time": "2023-06-22T15:30:38.899786",
     "status": "completed"
    },
    "tags": []
   },
   "source": [
    "making some comparisions"
   ]
  },
  {
   "cell_type": "code",
   "execution_count": 3,
   "id": "3f1a81be",
   "metadata": {
    "execution": {
     "iopub.execute_input": "2023-06-22T15:30:38.932270Z",
     "iopub.status.busy": "2023-06-22T15:30:38.931633Z",
     "iopub.status.idle": "2023-06-22T15:30:38.938803Z",
     "shell.execute_reply": "2023-06-22T15:30:38.937876Z"
    },
    "papermill": {
     "duration": 0.020976,
     "end_time": "2023-06-22T15:30:38.941130",
     "exception": false,
     "start_time": "2023-06-22T15:30:38.920154",
     "status": "completed"
    },
    "tags": []
   },
   "outputs": [
    {
     "data": {
      "text/plain": [
       "(16710, 2)"
      ]
     },
     "execution_count": 3,
     "metadata": {},
     "output_type": "execute_result"
    }
   ],
   "source": [
    "sample.shape"
   ]
  },
  {
   "cell_type": "code",
   "execution_count": 4,
   "id": "c19af7de",
   "metadata": {
    "execution": {
     "iopub.execute_input": "2023-06-22T15:30:38.963410Z",
     "iopub.status.busy": "2023-06-22T15:30:38.962734Z",
     "iopub.status.idle": "2023-06-22T15:30:38.968154Z",
     "shell.execute_reply": "2023-06-22T15:30:38.967371Z"
    },
    "papermill": {
     "duration": 0.018974,
     "end_time": "2023-06-22T15:30:38.970329",
     "exception": false,
     "start_time": "2023-06-22T15:30:38.951355",
     "status": "completed"
    },
    "tags": []
   },
   "outputs": [
    {
     "data": {
      "text/plain": [
       "(16710, 65)"
      ]
     },
     "execution_count": 4,
     "metadata": {},
     "output_type": "execute_result"
    }
   ],
   "source": [
    "test_data.shape"
   ]
  },
  {
   "cell_type": "markdown",
   "id": "2d6d8e88",
   "metadata": {
    "papermill": {
     "duration": 0.009926,
     "end_time": "2023-06-22T15:30:38.990654",
     "exception": false,
     "start_time": "2023-06-22T15:30:38.980728",
     "status": "completed"
    },
    "tags": []
   },
   "source": [
    "checking if photo id is the same for both"
   ]
  },
  {
   "cell_type": "code",
   "execution_count": 5,
   "id": "4a745667",
   "metadata": {
    "execution": {
     "iopub.execute_input": "2023-06-22T15:30:39.013675Z",
     "iopub.status.busy": "2023-06-22T15:30:39.013260Z",
     "iopub.status.idle": "2023-06-22T15:30:39.030817Z",
     "shell.execute_reply": "2023-06-22T15:30:39.029770Z"
    },
    "papermill": {
     "duration": 0.031792,
     "end_time": "2023-06-22T15:30:39.033244",
     "exception": false,
     "start_time": "2023-06-22T15:30:39.001452",
     "status": "completed"
    },
    "tags": []
   },
   "outputs": [
    {
     "data": {
      "text/plain": [
       "True"
      ]
     },
     "execution_count": 5,
     "metadata": {},
     "output_type": "execute_result"
    }
   ],
   "source": [
    "(test_data['Photo'] == sample['Photo']).all()"
   ]
  },
  {
   "cell_type": "markdown",
   "id": "0a599054",
   "metadata": {
    "papermill": {
     "duration": 0.010471,
     "end_time": "2023-06-22T15:30:39.054420",
     "exception": false,
     "start_time": "2023-06-22T15:30:39.043949",
     "status": "completed"
    },
    "tags": []
   },
   "source": [
    "therefore it is the exact same"
   ]
  },
  {
   "cell_type": "markdown",
   "id": "a0ec8861",
   "metadata": {
    "papermill": {
     "duration": 0.010035,
     "end_time": "2023-06-22T15:30:39.074781",
     "exception": false,
     "start_time": "2023-06-22T15:30:39.064746",
     "status": "completed"
    },
    "tags": []
   },
   "source": [
    "checking the number of rows and analysing test data"
   ]
  },
  {
   "cell_type": "code",
   "execution_count": 6,
   "id": "20db8db0",
   "metadata": {
    "execution": {
     "iopub.execute_input": "2023-06-22T15:30:39.097839Z",
     "iopub.status.busy": "2023-06-22T15:30:39.096556Z",
     "iopub.status.idle": "2023-06-22T15:30:39.103394Z",
     "shell.execute_reply": "2023-06-22T15:30:39.102187Z"
    },
    "papermill": {
     "duration": 0.021336,
     "end_time": "2023-06-22T15:30:39.106375",
     "exception": false,
     "start_time": "2023-06-22T15:30:39.085039",
     "status": "completed"
    },
    "tags": []
   },
   "outputs": [
    {
     "data": {
      "text/plain": [
       "(87642, 67)"
      ]
     },
     "execution_count": 6,
     "metadata": {},
     "output_type": "execute_result"
    }
   ],
   "source": [
    "train_data.shape"
   ]
  },
  {
   "cell_type": "code",
   "execution_count": 7,
   "id": "c7a9c25a",
   "metadata": {
    "execution": {
     "iopub.execute_input": "2023-06-22T15:30:39.131284Z",
     "iopub.status.busy": "2023-06-22T15:30:39.130826Z",
     "iopub.status.idle": "2023-06-22T15:30:39.180652Z",
     "shell.execute_reply": "2023-06-22T15:30:39.179497Z"
    },
    "papermill": {
     "duration": 0.064313,
     "end_time": "2023-06-22T15:30:39.183186",
     "exception": false,
     "start_time": "2023-06-22T15:30:39.118873",
     "status": "completed"
    },
    "tags": []
   },
   "outputs": [
    {
     "data": {
      "text/plain": [
       "74502"
      ]
     },
     "execution_count": 7,
     "metadata": {},
     "output_type": "execute_result"
    }
   ],
   "source": [
    "train_data['Photo'].nunique()"
   ]
  },
  {
   "cell_type": "code",
   "execution_count": 8,
   "id": "de30bc8e",
   "metadata": {
    "execution": {
     "iopub.execute_input": "2023-06-22T15:30:39.206764Z",
     "iopub.status.busy": "2023-06-22T15:30:39.206342Z",
     "iopub.status.idle": "2023-06-22T15:30:39.268391Z",
     "shell.execute_reply": "2023-06-22T15:30:39.267242Z"
    },
    "papermill": {
     "duration": 0.077047,
     "end_time": "2023-06-22T15:30:39.271121",
     "exception": false,
     "start_time": "2023-06-22T15:30:39.194074",
     "status": "completed"
    },
    "tags": []
   },
   "outputs": [
    {
     "data": {
      "text/plain": [
       "87642"
      ]
     },
     "execution_count": 8,
     "metadata": {},
     "output_type": "execute_result"
    }
   ],
   "source": [
    " train_data[['Photo', 'year']].drop_duplicates().shape[0]"
   ]
  },
  {
   "cell_type": "markdown",
   "id": "47534d1a",
   "metadata": {
    "papermill": {
     "duration": 0.010572,
     "end_time": "2023-06-22T15:30:39.292647",
     "exception": false,
     "start_time": "2023-06-22T15:30:39.282075",
     "status": "completed"
    },
    "tags": []
   },
   "source": [
    "keeping only one row per id(the latest year in this case)"
   ]
  },
  {
   "cell_type": "markdown",
   "id": "54ee6a95",
   "metadata": {
    "papermill": {
     "duration": 0.010671,
     "end_time": "2023-06-22T15:30:39.314725",
     "exception": false,
     "start_time": "2023-06-22T15:30:39.304054",
     "status": "completed"
    },
    "tags": []
   },
   "source": [
    "first and foremost let me check for test data. the shape, unique ids, photo etc etc\n"
   ]
  },
  {
   "cell_type": "code",
   "execution_count": 9,
   "id": "f954500e",
   "metadata": {
    "execution": {
     "iopub.execute_input": "2023-06-22T15:30:39.338569Z",
     "iopub.status.busy": "2023-06-22T15:30:39.337870Z",
     "iopub.status.idle": "2023-06-22T15:30:39.347006Z",
     "shell.execute_reply": "2023-06-22T15:30:39.345828Z"
    },
    "papermill": {
     "duration": 0.02391,
     "end_time": "2023-06-22T15:30:39.349500",
     "exception": false,
     "start_time": "2023-06-22T15:30:39.325590",
     "status": "completed"
    },
    "tags": []
   },
   "outputs": [
    {
     "data": {
      "text/plain": [
       "True"
      ]
     },
     "execution_count": 9,
     "metadata": {},
     "output_type": "execute_result"
    }
   ],
   "source": [
    "test_data.shape[0]==test_data['ID'].nunique()"
   ]
  },
  {
   "cell_type": "markdown",
   "id": "c037eb43",
   "metadata": {
    "papermill": {
     "duration": 0.010957,
     "end_time": "2023-06-22T15:30:39.371262",
     "exception": false,
     "start_time": "2023-06-22T15:30:39.360305",
     "status": "completed"
    },
    "tags": []
   },
   "source": [
    "therefore the ids and photos are linearly mapped, so should only keep one id for training data"
   ]
  },
  {
   "cell_type": "code",
   "execution_count": 10,
   "id": "06e12580",
   "metadata": {
    "execution": {
     "iopub.execute_input": "2023-06-22T15:30:39.395452Z",
     "iopub.status.busy": "2023-06-22T15:30:39.395043Z",
     "iopub.status.idle": "2023-06-22T15:30:39.554369Z",
     "shell.execute_reply": "2023-06-22T15:30:39.552765Z"
    },
    "papermill": {
     "duration": 0.174924,
     "end_time": "2023-06-22T15:30:39.557277",
     "exception": false,
     "start_time": "2023-06-22T15:30:39.382353",
     "status": "completed"
    },
    "tags": []
   },
   "outputs": [],
   "source": [
    "# Sort the train_data DataFrame by 'ID' and 'year' in descending order\n",
    "train_data_sorted = train_data.sort_values(by=['ID', 'year'], ascending=[True, False])\n",
    "\n",
    "# Drop duplicate 'ID' values, keeping only the first occurrence (which corresponds to the latest year)\n",
    "train_data_1 = train_data_sorted.drop_duplicates(subset='ID', keep='first')\n",
    "\n",
    "# Reset the index of the new dataset\n",
    "train_data_1 = train_data_1.reset_index(drop=True)"
   ]
  },
  {
   "cell_type": "code",
   "execution_count": 11,
   "id": "98ec69fa",
   "metadata": {
    "execution": {
     "iopub.execute_input": "2023-06-22T15:30:39.580937Z",
     "iopub.status.busy": "2023-06-22T15:30:39.580530Z",
     "iopub.status.idle": "2023-06-22T15:30:39.588001Z",
     "shell.execute_reply": "2023-06-22T15:30:39.586897Z"
    },
    "papermill": {
     "duration": 0.022128,
     "end_time": "2023-06-22T15:30:39.590340",
     "exception": false,
     "start_time": "2023-06-22T15:30:39.568212",
     "status": "completed"
    },
    "tags": []
   },
   "outputs": [
    {
     "data": {
      "text/plain": [
       "(33699, 67)"
      ]
     },
     "execution_count": 11,
     "metadata": {},
     "output_type": "execute_result"
    }
   ],
   "source": [
    "train_data_1.shape"
   ]
  },
  {
   "cell_type": "markdown",
   "id": "e3fcc0c2",
   "metadata": {
    "papermill": {
     "duration": 0.01053,
     "end_time": "2023-06-22T15:30:39.611958",
     "exception": false,
     "start_time": "2023-06-22T15:30:39.601428",
     "status": "completed"
    },
    "tags": []
   },
   "source": [
    "repeating the same process as first submission now"
   ]
  },
  {
   "cell_type": "code",
   "execution_count": 12,
   "id": "239d0676",
   "metadata": {
    "execution": {
     "iopub.execute_input": "2023-06-22T15:30:39.636019Z",
     "iopub.status.busy": "2023-06-22T15:30:39.635605Z",
     "iopub.status.idle": "2023-06-22T15:30:39.644872Z",
     "shell.execute_reply": "2023-06-22T15:30:39.643829Z"
    },
    "papermill": {
     "duration": 0.023998,
     "end_time": "2023-06-22T15:30:39.647146",
     "exception": false,
     "start_time": "2023-06-22T15:30:39.623148",
     "status": "completed"
    },
    "tags": []
   },
   "outputs": [],
   "source": [
    "train_1=train_data_1[['Potential','Overall','Wage','International Reputation','Age']]\n",
    "test_1=test_data[['Potential','Overall','Wage','International Reputation','Age']]"
   ]
  },
  {
   "cell_type": "markdown",
   "id": "d6f64dc2",
   "metadata": {
    "papermill": {
     "duration": 0.010641,
     "end_time": "2023-06-22T15:30:39.669275",
     "exception": false,
     "start_time": "2023-06-22T15:30:39.658634",
     "status": "completed"
    },
    "tags": []
   },
   "source": [
    "train feature"
   ]
  },
  {
   "cell_type": "code",
   "execution_count": 13,
   "id": "99e9047f",
   "metadata": {
    "execution": {
     "iopub.execute_input": "2023-06-22T15:30:39.693087Z",
     "iopub.status.busy": "2023-06-22T15:30:39.692301Z",
     "iopub.status.idle": "2023-06-22T15:30:39.698386Z",
     "shell.execute_reply": "2023-06-22T15:30:39.696864Z"
    },
    "papermill": {
     "duration": 0.020818,
     "end_time": "2023-06-22T15:30:39.700963",
     "exception": false,
     "start_time": "2023-06-22T15:30:39.680145",
     "status": "completed"
    },
    "tags": []
   },
   "outputs": [],
   "source": [
    "y_train=train_data_1['Value']"
   ]
  },
  {
   "cell_type": "markdown",
   "id": "4e406504",
   "metadata": {
    "papermill": {
     "duration": 0.010646,
     "end_time": "2023-06-22T15:30:39.722702",
     "exception": false,
     "start_time": "2023-06-22T15:30:39.712056",
     "status": "completed"
    },
    "tags": []
   },
   "source": [
    "converting Value and Wage as per"
   ]
  },
  {
   "cell_type": "code",
   "execution_count": 14,
   "id": "20af921e",
   "metadata": {
    "execution": {
     "iopub.execute_input": "2023-06-22T15:30:39.746682Z",
     "iopub.status.busy": "2023-06-22T15:30:39.746258Z",
     "iopub.status.idle": "2023-06-22T15:30:40.095816Z",
     "shell.execute_reply": "2023-06-22T15:30:40.093855Z"
    },
    "papermill": {
     "duration": 0.36468,
     "end_time": "2023-06-22T15:30:40.098402",
     "exception": false,
     "start_time": "2023-06-22T15:30:39.733722",
     "status": "completed"
    },
    "tags": []
   },
   "outputs": [
    {
     "name": "stderr",
     "output_type": "stream",
     "text": [
      "/tmp/ipykernel_20/3838849759.py:14: SettingWithCopyWarning: \n",
      "A value is trying to be set on a copy of a slice from a DataFrame.\n",
      "Try using .loc[row_indexer,col_indexer] = value instead\n",
      "\n",
      "See the caveats in the documentation: https://pandas.pydata.org/pandas-docs/stable/user_guide/indexing.html#returning-a-view-versus-a-copy\n",
      "  train_1['Wage'] = train_1['Wage'].apply(preprocess_wage)\n",
      "/tmp/ipykernel_20/3838849759.py:17: SettingWithCopyWarning: \n",
      "A value is trying to be set on a copy of a slice from a DataFrame.\n",
      "Try using .loc[row_indexer,col_indexer] = value instead\n",
      "\n",
      "See the caveats in the documentation: https://pandas.pydata.org/pandas-docs/stable/user_guide/indexing.html#returning-a-view-versus-a-copy\n",
      "  train_1['Wage'] = train_1['Wage'].astype(float)\n",
      "/tmp/ipykernel_20/3838849759.py:20: SettingWithCopyWarning: \n",
      "A value is trying to be set on a copy of a slice from a DataFrame.\n",
      "Try using .loc[row_indexer,col_indexer] = value instead\n",
      "\n",
      "See the caveats in the documentation: https://pandas.pydata.org/pandas-docs/stable/user_guide/indexing.html#returning-a-view-versus-a-copy\n",
      "  test_1['Wage'] = test_1['Wage'].apply(preprocess_wage)\n",
      "/tmp/ipykernel_20/3838849759.py:23: SettingWithCopyWarning: \n",
      "A value is trying to be set on a copy of a slice from a DataFrame.\n",
      "Try using .loc[row_indexer,col_indexer] = value instead\n",
      "\n",
      "See the caveats in the documentation: https://pandas.pydata.org/pandas-docs/stable/user_guide/indexing.html#returning-a-view-versus-a-copy\n",
      "  test_1['Wage'] = test_1['Wage'].astype(float)\n"
     ]
    }
   ],
   "source": [
    "import re\n",
    "# Define a function to preprocess the 'Wage' column\n",
    "def preprocess_wage(value):\n",
    "    value = re.sub(r'€', '', value)  # Remove euro symbol\n",
    "    if 'K' in value:\n",
    "        value = float(re.sub(r'[^0-9.]', '', value)) * 1000  # Remove 'K' and multiply by 1000\n",
    "    elif 'M' in value:\n",
    "        value = float(re.sub(r'[^0-9.]', '', value)) * 1000000  # Remove 'M' and multiply by 1000000\n",
    "    else:\n",
    "        value = float(value)\n",
    "    return value\n",
    "\n",
    "# Apply the preprocessing function to 'Wage' column in train_1 dataset\n",
    "train_1['Wage'] = train_1['Wage'].apply(preprocess_wage)\n",
    "\n",
    "# Convert the column to float data type\n",
    "train_1['Wage'] = train_1['Wage'].astype(float)\n",
    "\n",
    "# Apply the preprocessing function to 'Wage' column in train_1 dataset\n",
    "test_1['Wage'] = test_1['Wage'].apply(preprocess_wage)\n",
    "\n",
    "# Convert the column to float data type\n",
    "test_1['Wage'] = test_1['Wage'].astype(float)\n",
    "\n",
    "#Applying it to y_train too\n",
    "y_train=y_train.apply(preprocess_wage)\n",
    "\n",
    "#Convert the column to float data type\n",
    "y_train=y_train.astype(float)"
   ]
  },
  {
   "cell_type": "markdown",
   "id": "3b6f0715",
   "metadata": {
    "papermill": {
     "duration": 0.013242,
     "end_time": "2023-06-22T15:30:40.123038",
     "exception": false,
     "start_time": "2023-06-22T15:30:40.109796",
     "status": "completed"
    },
    "tags": []
   },
   "source": [
    "fitting model with  best parameters"
   ]
  },
  {
   "cell_type": "code",
   "execution_count": 15,
   "id": "03145db8",
   "metadata": {
    "execution": {
     "iopub.execute_input": "2023-06-22T15:30:40.148168Z",
     "iopub.status.busy": "2023-06-22T15:30:40.147759Z",
     "iopub.status.idle": "2023-06-22T15:30:45.777470Z",
     "shell.execute_reply": "2023-06-22T15:30:45.775964Z"
    },
    "papermill": {
     "duration": 5.645279,
     "end_time": "2023-06-22T15:30:45.779943",
     "exception": false,
     "start_time": "2023-06-22T15:30:40.134664",
     "status": "completed"
    },
    "tags": []
   },
   "outputs": [
    {
     "name": "stdout",
     "output_type": "stream",
     "text": [
      "Learning rate set to 0.071374\n",
      "0:\tlearn: 3761559.6041588\ttotal: 67.2ms\tremaining: 1m 7s\n",
      "1:\tlearn: 3540122.3036340\ttotal: 75ms\tremaining: 37.4s\n",
      "2:\tlearn: 3341126.0931857\ttotal: 80.3ms\tremaining: 26.7s\n",
      "3:\tlearn: 3149600.1626086\ttotal: 86.1ms\tremaining: 21.4s\n",
      "4:\tlearn: 2981865.8994238\ttotal: 90.9ms\tremaining: 18.1s\n",
      "5:\tlearn: 2812898.8536122\ttotal: 96ms\tremaining: 15.9s\n",
      "6:\tlearn: 2658834.1341815\ttotal: 101ms\tremaining: 14.3s\n",
      "7:\tlearn: 2512836.0215255\ttotal: 105ms\tremaining: 13s\n",
      "8:\tlearn: 2378061.0507340\ttotal: 109ms\tremaining: 12s\n",
      "9:\tlearn: 2254898.7154846\ttotal: 114ms\tremaining: 11.3s\n",
      "10:\tlearn: 2132582.8850367\ttotal: 118ms\tremaining: 10.6s\n",
      "11:\tlearn: 2018961.1988401\ttotal: 126ms\tremaining: 10.4s\n",
      "12:\tlearn: 1912723.3175276\ttotal: 134ms\tremaining: 10.2s\n",
      "13:\tlearn: 1820057.1763713\ttotal: 138ms\tremaining: 9.75s\n",
      "14:\tlearn: 1731011.9269887\ttotal: 142ms\tremaining: 9.32s\n",
      "15:\tlearn: 1642646.9207956\ttotal: 145ms\tremaining: 8.94s\n",
      "16:\tlearn: 1564607.4414981\ttotal: 149ms\tremaining: 8.61s\n",
      "17:\tlearn: 1490120.8490089\ttotal: 152ms\tremaining: 8.3s\n",
      "18:\tlearn: 1419517.1814678\ttotal: 156ms\tremaining: 8.06s\n",
      "19:\tlearn: 1356208.0953716\ttotal: 160ms\tremaining: 7.82s\n",
      "20:\tlearn: 1294367.2952669\ttotal: 163ms\tremaining: 7.6s\n",
      "21:\tlearn: 1236620.9208032\ttotal: 166ms\tremaining: 7.39s\n",
      "22:\tlearn: 1185131.4098111\ttotal: 170ms\tremaining: 7.22s\n",
      "23:\tlearn: 1136014.9760610\ttotal: 174ms\tremaining: 7.06s\n",
      "24:\tlearn: 1090045.9061622\ttotal: 177ms\tremaining: 6.91s\n",
      "25:\tlearn: 1047124.5413694\ttotal: 184ms\tremaining: 6.9s\n",
      "26:\tlearn: 1007727.6669118\ttotal: 188ms\tremaining: 6.78s\n",
      "27:\tlearn: 971291.2064129\ttotal: 192ms\tremaining: 6.66s\n",
      "28:\tlearn: 937669.2350274\ttotal: 195ms\tremaining: 6.54s\n",
      "29:\tlearn: 907424.7604908\ttotal: 199ms\tremaining: 6.43s\n",
      "30:\tlearn: 878519.9192586\ttotal: 202ms\tremaining: 6.33s\n",
      "31:\tlearn: 852319.4594218\ttotal: 206ms\tremaining: 6.23s\n",
      "32:\tlearn: 827891.2672864\ttotal: 210ms\tremaining: 6.16s\n",
      "33:\tlearn: 804077.5968559\ttotal: 214ms\tremaining: 6.08s\n",
      "34:\tlearn: 782528.4591402\ttotal: 218ms\tremaining: 6.01s\n",
      "35:\tlearn: 762051.1824776\ttotal: 222ms\tremaining: 5.93s\n",
      "36:\tlearn: 741871.7630118\ttotal: 225ms\tremaining: 5.86s\n",
      "37:\tlearn: 726093.4532106\ttotal: 228ms\tremaining: 5.78s\n",
      "38:\tlearn: 709611.3083297\ttotal: 232ms\tremaining: 5.72s\n",
      "39:\tlearn: 694508.8185637\ttotal: 236ms\tremaining: 5.66s\n",
      "40:\tlearn: 680683.0412614\ttotal: 240ms\tremaining: 5.6s\n",
      "41:\tlearn: 668686.8081033\ttotal: 243ms\tremaining: 5.54s\n",
      "42:\tlearn: 656707.8875442\ttotal: 247ms\tremaining: 5.49s\n",
      "43:\tlearn: 646468.2683453\ttotal: 250ms\tremaining: 5.43s\n",
      "44:\tlearn: 637029.6829933\ttotal: 253ms\tremaining: 5.38s\n",
      "45:\tlearn: 626490.2998925\ttotal: 257ms\tremaining: 5.33s\n",
      "46:\tlearn: 618546.9944014\ttotal: 261ms\tremaining: 5.28s\n",
      "47:\tlearn: 611318.8421184\ttotal: 264ms\tremaining: 5.23s\n",
      "48:\tlearn: 604404.9181248\ttotal: 267ms\tremaining: 5.18s\n",
      "49:\tlearn: 598876.7154056\ttotal: 270ms\tremaining: 5.13s\n",
      "50:\tlearn: 593098.3135592\ttotal: 273ms\tremaining: 5.08s\n",
      "51:\tlearn: 586916.8993629\ttotal: 276ms\tremaining: 5.03s\n",
      "52:\tlearn: 585299.7425672\ttotal: 278ms\tremaining: 4.97s\n",
      "53:\tlearn: 580325.1444278\ttotal: 281ms\tremaining: 4.93s\n",
      "54:\tlearn: 576181.0390839\ttotal: 284ms\tremaining: 4.89s\n",
      "55:\tlearn: 571646.1174874\ttotal: 288ms\tremaining: 4.85s\n",
      "56:\tlearn: 567903.2024257\ttotal: 291ms\tremaining: 4.81s\n",
      "57:\tlearn: 565131.0128711\ttotal: 294ms\tremaining: 4.77s\n",
      "58:\tlearn: 563271.8443959\ttotal: 296ms\tremaining: 4.73s\n",
      "59:\tlearn: 561054.2612540\ttotal: 299ms\tremaining: 4.69s\n",
      "60:\tlearn: 560083.5324310\ttotal: 302ms\tremaining: 4.65s\n",
      "61:\tlearn: 558935.2418659\ttotal: 305ms\tremaining: 4.61s\n",
      "62:\tlearn: 555902.2904789\ttotal: 307ms\tremaining: 4.57s\n",
      "63:\tlearn: 552545.3623552\ttotal: 310ms\tremaining: 4.54s\n",
      "64:\tlearn: 549347.5100729\ttotal: 313ms\tremaining: 4.51s\n",
      "65:\tlearn: 547545.7964786\ttotal: 316ms\tremaining: 4.48s\n",
      "66:\tlearn: 546872.3060510\ttotal: 319ms\tremaining: 4.44s\n",
      "67:\tlearn: 545828.8630642\ttotal: 322ms\tremaining: 4.41s\n",
      "68:\tlearn: 544814.3368061\ttotal: 325ms\tremaining: 4.38s\n",
      "69:\tlearn: 544269.8782625\ttotal: 327ms\tremaining: 4.35s\n",
      "70:\tlearn: 543484.4572661\ttotal: 330ms\tremaining: 4.32s\n",
      "71:\tlearn: 542977.5228975\ttotal: 333ms\tremaining: 4.29s\n",
      "72:\tlearn: 540427.4937945\ttotal: 336ms\tremaining: 4.26s\n",
      "73:\tlearn: 537729.2887607\ttotal: 339ms\tremaining: 4.24s\n",
      "74:\tlearn: 537271.1387441\ttotal: 342ms\tremaining: 4.21s\n",
      "75:\tlearn: 533981.1166829\ttotal: 345ms\tremaining: 4.19s\n",
      "76:\tlearn: 533354.8719335\ttotal: 347ms\tremaining: 4.16s\n",
      "77:\tlearn: 529478.6322958\ttotal: 351ms\tremaining: 4.14s\n",
      "78:\tlearn: 529034.1314832\ttotal: 353ms\tremaining: 4.12s\n",
      "79:\tlearn: 526697.9023496\ttotal: 356ms\tremaining: 4.1s\n",
      "80:\tlearn: 524387.0202635\ttotal: 359ms\tremaining: 4.08s\n",
      "81:\tlearn: 523369.1919814\ttotal: 362ms\tremaining: 4.05s\n",
      "82:\tlearn: 521812.3922307\ttotal: 365ms\tremaining: 4.04s\n",
      "83:\tlearn: 520640.8635161\ttotal: 368ms\tremaining: 4.01s\n",
      "84:\tlearn: 520321.0114136\ttotal: 371ms\tremaining: 3.99s\n",
      "85:\tlearn: 518284.6577640\ttotal: 374ms\tremaining: 3.98s\n",
      "86:\tlearn: 516955.4187089\ttotal: 381ms\tremaining: 4s\n",
      "87:\tlearn: 516596.8971097\ttotal: 384ms\tremaining: 3.98s\n",
      "88:\tlearn: 516345.2937668\ttotal: 386ms\tremaining: 3.96s\n",
      "89:\tlearn: 515446.1897728\ttotal: 389ms\tremaining: 3.94s\n",
      "90:\tlearn: 513426.0394932\ttotal: 393ms\tremaining: 3.92s\n",
      "91:\tlearn: 512265.6391009\ttotal: 395ms\tremaining: 3.9s\n",
      "92:\tlearn: 511174.4841218\ttotal: 398ms\tremaining: 3.88s\n",
      "93:\tlearn: 509505.7797335\ttotal: 401ms\tremaining: 3.87s\n",
      "94:\tlearn: 507602.7163825\ttotal: 405ms\tremaining: 3.85s\n",
      "95:\tlearn: 507088.4340294\ttotal: 408ms\tremaining: 3.84s\n",
      "96:\tlearn: 505252.1006952\ttotal: 411ms\tremaining: 3.82s\n",
      "97:\tlearn: 503788.2806565\ttotal: 414ms\tremaining: 3.81s\n",
      "98:\tlearn: 502748.8280097\ttotal: 417ms\tremaining: 3.8s\n",
      "99:\tlearn: 502066.9210074\ttotal: 420ms\tremaining: 3.78s\n",
      "100:\tlearn: 500375.5755032\ttotal: 423ms\tremaining: 3.77s\n",
      "101:\tlearn: 500140.0651587\ttotal: 426ms\tremaining: 3.75s\n",
      "102:\tlearn: 499140.8350214\ttotal: 429ms\tremaining: 3.74s\n",
      "103:\tlearn: 496884.8424813\ttotal: 432ms\tremaining: 3.73s\n",
      "104:\tlearn: 496401.4913132\ttotal: 435ms\tremaining: 3.71s\n",
      "105:\tlearn: 495640.4911646\ttotal: 438ms\tremaining: 3.69s\n",
      "106:\tlearn: 495409.8442600\ttotal: 440ms\tremaining: 3.67s\n",
      "107:\tlearn: 493576.3774202\ttotal: 443ms\tremaining: 3.66s\n",
      "108:\tlearn: 491436.5391371\ttotal: 446ms\tremaining: 3.65s\n",
      "109:\tlearn: 489239.4104534\ttotal: 450ms\tremaining: 3.64s\n",
      "110:\tlearn: 487902.6916661\ttotal: 453ms\tremaining: 3.63s\n",
      "111:\tlearn: 487762.0697106\ttotal: 456ms\tremaining: 3.62s\n",
      "112:\tlearn: 487171.9589636\ttotal: 459ms\tremaining: 3.6s\n",
      "113:\tlearn: 486273.2418935\ttotal: 462ms\tremaining: 3.59s\n",
      "114:\tlearn: 485516.8401806\ttotal: 466ms\tremaining: 3.58s\n",
      "115:\tlearn: 484090.6907572\ttotal: 469ms\tremaining: 3.57s\n",
      "116:\tlearn: 483764.3840096\ttotal: 471ms\tremaining: 3.55s\n",
      "117:\tlearn: 483671.8861665\ttotal: 473ms\tremaining: 3.54s\n",
      "118:\tlearn: 482465.1166969\ttotal: 477ms\tremaining: 3.53s\n",
      "119:\tlearn: 482385.8504625\ttotal: 478ms\tremaining: 3.51s\n",
      "120:\tlearn: 482241.5094949\ttotal: 481ms\tremaining: 3.5s\n",
      "121:\tlearn: 480814.5772692\ttotal: 484ms\tremaining: 3.48s\n",
      "122:\tlearn: 479564.5281799\ttotal: 488ms\tremaining: 3.48s\n",
      "123:\tlearn: 477794.5415679\ttotal: 491ms\tremaining: 3.47s\n",
      "124:\tlearn: 476773.5108680\ttotal: 494ms\tremaining: 3.46s\n",
      "125:\tlearn: 476288.2429885\ttotal: 497ms\tremaining: 3.45s\n",
      "126:\tlearn: 475041.8574427\ttotal: 500ms\tremaining: 3.44s\n",
      "127:\tlearn: 474228.5039568\ttotal: 503ms\tremaining: 3.43s\n",
      "128:\tlearn: 473678.0522271\ttotal: 506ms\tremaining: 3.42s\n",
      "129:\tlearn: 472619.0632045\ttotal: 509ms\tremaining: 3.41s\n",
      "130:\tlearn: 471451.3551239\ttotal: 512ms\tremaining: 3.4s\n",
      "131:\tlearn: 470438.8707252\ttotal: 516ms\tremaining: 3.39s\n",
      "132:\tlearn: 470160.3285875\ttotal: 519ms\tremaining: 3.38s\n",
      "133:\tlearn: 469328.0800729\ttotal: 522ms\tremaining: 3.37s\n",
      "134:\tlearn: 468411.7153912\ttotal: 525ms\tremaining: 3.36s\n",
      "135:\tlearn: 467515.5834775\ttotal: 528ms\tremaining: 3.35s\n",
      "136:\tlearn: 466313.0055461\ttotal: 531ms\tremaining: 3.34s\n",
      "137:\tlearn: 465548.4922448\ttotal: 534ms\tremaining: 3.33s\n",
      "138:\tlearn: 465507.9166938\ttotal: 536ms\tremaining: 3.32s\n",
      "139:\tlearn: 464936.2398304\ttotal: 539ms\tremaining: 3.31s\n",
      "140:\tlearn: 464016.9442284\ttotal: 542ms\tremaining: 3.3s\n",
      "141:\tlearn: 463315.4992611\ttotal: 545ms\tremaining: 3.29s\n",
      "142:\tlearn: 462720.6085710\ttotal: 548ms\tremaining: 3.29s\n",
      "143:\tlearn: 462184.6985286\ttotal: 552ms\tremaining: 3.28s\n",
      "144:\tlearn: 461600.7506476\ttotal: 554ms\tremaining: 3.27s\n",
      "145:\tlearn: 461335.0948428\ttotal: 557ms\tremaining: 3.26s\n",
      "146:\tlearn: 460635.2145994\ttotal: 560ms\tremaining: 3.25s\n",
      "147:\tlearn: 459494.7868896\ttotal: 563ms\tremaining: 3.24s\n",
      "148:\tlearn: 458923.5305994\ttotal: 566ms\tremaining: 3.23s\n",
      "149:\tlearn: 458852.2451459\ttotal: 569ms\tremaining: 3.22s\n",
      "150:\tlearn: 458302.1893048\ttotal: 576ms\tremaining: 3.24s\n",
      "151:\tlearn: 457694.9259662\ttotal: 579ms\tremaining: 3.23s\n",
      "152:\tlearn: 457035.9943002\ttotal: 582ms\tremaining: 3.22s\n",
      "153:\tlearn: 456181.9548579\ttotal: 585ms\tremaining: 3.22s\n",
      "154:\tlearn: 455837.1435559\ttotal: 588ms\tremaining: 3.21s\n",
      "155:\tlearn: 454967.5767501\ttotal: 591ms\tremaining: 3.2s\n",
      "156:\tlearn: 454145.3163720\ttotal: 595ms\tremaining: 3.19s\n",
      "157:\tlearn: 453545.4278895\ttotal: 597ms\tremaining: 3.18s\n",
      "158:\tlearn: 452821.4765674\ttotal: 600ms\tremaining: 3.17s\n",
      "159:\tlearn: 452087.0328999\ttotal: 604ms\tremaining: 3.17s\n",
      "160:\tlearn: 451766.7681655\ttotal: 607ms\tremaining: 3.16s\n",
      "161:\tlearn: 450975.6021812\ttotal: 610ms\tremaining: 3.16s\n",
      "162:\tlearn: 450245.0378608\ttotal: 613ms\tremaining: 3.15s\n",
      "163:\tlearn: 449613.0371401\ttotal: 617ms\tremaining: 3.14s\n",
      "164:\tlearn: 448970.5298241\ttotal: 620ms\tremaining: 3.13s\n",
      "165:\tlearn: 448217.5255285\ttotal: 623ms\tremaining: 3.13s\n",
      "166:\tlearn: 447418.3701448\ttotal: 626ms\tremaining: 3.12s\n",
      "167:\tlearn: 446772.9014312\ttotal: 628ms\tremaining: 3.11s\n",
      "168:\tlearn: 445921.5189242\ttotal: 631ms\tremaining: 3.1s\n",
      "169:\tlearn: 445389.4831666\ttotal: 635ms\tremaining: 3.1s\n",
      "170:\tlearn: 444951.7339717\ttotal: 638ms\tremaining: 3.09s\n",
      "171:\tlearn: 444469.0150484\ttotal: 641ms\tremaining: 3.09s\n",
      "172:\tlearn: 443652.2460722\ttotal: 645ms\tremaining: 3.08s\n",
      "173:\tlearn: 442987.2390824\ttotal: 648ms\tremaining: 3.07s\n",
      "174:\tlearn: 442434.4948143\ttotal: 651ms\tremaining: 3.07s\n",
      "175:\tlearn: 442013.7195025\ttotal: 654ms\tremaining: 3.06s\n",
      "176:\tlearn: 441490.8732695\ttotal: 657ms\tremaining: 3.05s\n",
      "177:\tlearn: 440903.5452575\ttotal: 660ms\tremaining: 3.05s\n",
      "178:\tlearn: 440410.9465772\ttotal: 663ms\tremaining: 3.04s\n",
      "179:\tlearn: 439757.7409951\ttotal: 666ms\tremaining: 3.03s\n",
      "180:\tlearn: 438845.6457582\ttotal: 669ms\tremaining: 3.02s\n",
      "181:\tlearn: 438316.3616022\ttotal: 672ms\tremaining: 3.02s\n",
      "182:\tlearn: 437504.4425267\ttotal: 675ms\tremaining: 3.01s\n",
      "183:\tlearn: 437087.5783718\ttotal: 678ms\tremaining: 3.01s\n",
      "184:\tlearn: 436357.7348458\ttotal: 682ms\tremaining: 3s\n",
      "185:\tlearn: 435821.7233428\ttotal: 685ms\tremaining: 3s\n",
      "186:\tlearn: 435294.6448448\ttotal: 688ms\tremaining: 2.99s\n",
      "187:\tlearn: 434634.8472545\ttotal: 691ms\tremaining: 2.98s\n",
      "188:\tlearn: 434121.7102751\ttotal: 694ms\tremaining: 2.98s\n",
      "189:\tlearn: 433631.0386207\ttotal: 697ms\tremaining: 2.97s\n",
      "190:\tlearn: 433229.1987249\ttotal: 700ms\tremaining: 2.97s\n",
      "191:\tlearn: 432568.5466774\ttotal: 703ms\tremaining: 2.96s\n",
      "192:\tlearn: 431949.5747910\ttotal: 706ms\tremaining: 2.95s\n",
      "193:\tlearn: 431484.7558641\ttotal: 709ms\tremaining: 2.95s\n",
      "194:\tlearn: 430932.4703491\ttotal: 712ms\tremaining: 2.94s\n",
      "195:\tlearn: 430491.1951213\ttotal: 715ms\tremaining: 2.93s\n",
      "196:\tlearn: 429929.1363636\ttotal: 718ms\tremaining: 2.93s\n",
      "197:\tlearn: 429329.2736271\ttotal: 722ms\tremaining: 2.92s\n",
      "198:\tlearn: 428934.0666327\ttotal: 725ms\tremaining: 2.92s\n",
      "199:\tlearn: 428562.1102701\ttotal: 728ms\tremaining: 2.91s\n",
      "200:\tlearn: 427840.6576357\ttotal: 731ms\tremaining: 2.91s\n",
      "201:\tlearn: 427407.1691350\ttotal: 734ms\tremaining: 2.9s\n",
      "202:\tlearn: 426527.8057625\ttotal: 738ms\tremaining: 2.9s\n",
      "203:\tlearn: 426114.9381373\ttotal: 741ms\tremaining: 2.89s\n",
      "204:\tlearn: 425453.3056453\ttotal: 744ms\tremaining: 2.88s\n",
      "205:\tlearn: 424998.8890508\ttotal: 747ms\tremaining: 2.88s\n",
      "206:\tlearn: 424522.3457408\ttotal: 751ms\tremaining: 2.88s\n",
      "207:\tlearn: 424094.9516298\ttotal: 754ms\tremaining: 2.87s\n",
      "208:\tlearn: 423626.0506891\ttotal: 759ms\tremaining: 2.87s\n",
      "209:\tlearn: 423045.0475772\ttotal: 762ms\tremaining: 2.87s\n",
      "210:\tlearn: 422395.4234313\ttotal: 765ms\tremaining: 2.86s\n",
      "211:\tlearn: 422037.9662287\ttotal: 769ms\tremaining: 2.86s\n",
      "212:\tlearn: 421402.3620322\ttotal: 774ms\tremaining: 2.86s\n",
      "213:\tlearn: 420419.9998780\ttotal: 777ms\tremaining: 2.85s\n",
      "214:\tlearn: 420080.7278823\ttotal: 780ms\tremaining: 2.85s\n",
      "215:\tlearn: 419689.9912715\ttotal: 783ms\tremaining: 2.84s\n",
      "216:\tlearn: 419252.4567924\ttotal: 787ms\tremaining: 2.84s\n",
      "217:\tlearn: 418407.7828339\ttotal: 791ms\tremaining: 2.83s\n",
      "218:\tlearn: 418137.2468935\ttotal: 793ms\tremaining: 2.83s\n",
      "219:\tlearn: 417746.8176049\ttotal: 797ms\tremaining: 2.83s\n",
      "220:\tlearn: 416974.8947121\ttotal: 800ms\tremaining: 2.82s\n",
      "221:\tlearn: 416526.5095099\ttotal: 804ms\tremaining: 2.82s\n",
      "222:\tlearn: 416189.0393440\ttotal: 807ms\tremaining: 2.81s\n",
      "223:\tlearn: 415888.4258417\ttotal: 810ms\tremaining: 2.81s\n",
      "224:\tlearn: 415430.6150365\ttotal: 813ms\tremaining: 2.8s\n",
      "225:\tlearn: 414943.3823464\ttotal: 816ms\tremaining: 2.79s\n",
      "226:\tlearn: 414370.4107914\ttotal: 819ms\tremaining: 2.79s\n",
      "227:\tlearn: 414043.3800567\ttotal: 822ms\tremaining: 2.78s\n",
      "228:\tlearn: 413380.0870770\ttotal: 826ms\tremaining: 2.78s\n",
      "229:\tlearn: 412767.0234585\ttotal: 829ms\tremaining: 2.77s\n",
      "230:\tlearn: 412319.1696656\ttotal: 832ms\tremaining: 2.77s\n",
      "231:\tlearn: 411730.7589811\ttotal: 835ms\tremaining: 2.76s\n",
      "232:\tlearn: 411459.4749161\ttotal: 838ms\tremaining: 2.76s\n",
      "233:\tlearn: 411198.7641665\ttotal: 841ms\tremaining: 2.75s\n",
      "234:\tlearn: 410694.5871816\ttotal: 844ms\tremaining: 2.75s\n",
      "235:\tlearn: 410483.4731141\ttotal: 847ms\tremaining: 2.74s\n",
      "236:\tlearn: 410194.9363278\ttotal: 850ms\tremaining: 2.73s\n",
      "237:\tlearn: 409645.1886432\ttotal: 853ms\tremaining: 2.73s\n",
      "238:\tlearn: 409203.6009475\ttotal: 856ms\tremaining: 2.73s\n",
      "239:\tlearn: 408924.1993169\ttotal: 859ms\tremaining: 2.72s\n",
      "240:\tlearn: 408463.7791677\ttotal: 862ms\tremaining: 2.71s\n",
      "241:\tlearn: 408241.3861474\ttotal: 865ms\tremaining: 2.71s\n",
      "242:\tlearn: 407854.5413164\ttotal: 868ms\tremaining: 2.7s\n",
      "243:\tlearn: 407513.3921168\ttotal: 871ms\tremaining: 2.7s\n",
      "244:\tlearn: 406686.9861567\ttotal: 875ms\tremaining: 2.69s\n",
      "245:\tlearn: 406205.9722608\ttotal: 878ms\tremaining: 2.69s\n",
      "246:\tlearn: 405812.3482513\ttotal: 881ms\tremaining: 2.69s\n",
      "247:\tlearn: 405587.8246956\ttotal: 885ms\tremaining: 2.68s\n",
      "248:\tlearn: 405236.8438448\ttotal: 888ms\tremaining: 2.68s\n",
      "249:\tlearn: 404854.1616306\ttotal: 891ms\tremaining: 2.67s\n",
      "250:\tlearn: 404480.1941264\ttotal: 894ms\tremaining: 2.67s\n",
      "251:\tlearn: 404149.9400536\ttotal: 898ms\tremaining: 2.66s\n",
      "252:\tlearn: 403634.0557107\ttotal: 901ms\tremaining: 2.66s\n",
      "253:\tlearn: 403369.5730239\ttotal: 906ms\tremaining: 2.66s\n",
      "254:\tlearn: 402886.4373567\ttotal: 912ms\tremaining: 2.67s\n",
      "255:\tlearn: 402641.5772850\ttotal: 917ms\tremaining: 2.66s\n",
      "256:\tlearn: 402276.3782346\ttotal: 920ms\tremaining: 2.66s\n",
      "257:\tlearn: 401863.4543942\ttotal: 924ms\tremaining: 2.66s\n",
      "258:\tlearn: 401570.0077972\ttotal: 927ms\tremaining: 2.65s\n",
      "259:\tlearn: 401082.5420728\ttotal: 930ms\tremaining: 2.65s\n",
      "260:\tlearn: 400717.0457675\ttotal: 934ms\tremaining: 2.64s\n",
      "261:\tlearn: 400313.1337449\ttotal: 937ms\tremaining: 2.64s\n",
      "262:\tlearn: 399964.4086860\ttotal: 940ms\tremaining: 2.63s\n",
      "263:\tlearn: 399739.4397791\ttotal: 943ms\tremaining: 2.63s\n",
      "264:\tlearn: 399353.3861946\ttotal: 947ms\tremaining: 2.63s\n",
      "265:\tlearn: 399164.6356898\ttotal: 950ms\tremaining: 2.62s\n",
      "266:\tlearn: 398787.1193082\ttotal: 953ms\tremaining: 2.62s\n",
      "267:\tlearn: 398337.8431959\ttotal: 956ms\tremaining: 2.61s\n",
      "268:\tlearn: 398133.0614782\ttotal: 959ms\tremaining: 2.61s\n",
      "269:\tlearn: 397877.4056627\ttotal: 964ms\tremaining: 2.6s\n",
      "270:\tlearn: 397556.8033721\ttotal: 967ms\tremaining: 2.6s\n",
      "271:\tlearn: 397213.5195644\ttotal: 970ms\tremaining: 2.6s\n",
      "272:\tlearn: 396867.9386046\ttotal: 974ms\tremaining: 2.59s\n",
      "273:\tlearn: 396241.0566825\ttotal: 977ms\tremaining: 2.59s\n",
      "274:\tlearn: 395952.7862289\ttotal: 980ms\tremaining: 2.58s\n",
      "275:\tlearn: 395437.8110314\ttotal: 983ms\tremaining: 2.58s\n",
      "276:\tlearn: 394967.2074901\ttotal: 986ms\tremaining: 2.57s\n",
      "277:\tlearn: 394808.5284472\ttotal: 990ms\tremaining: 2.57s\n",
      "278:\tlearn: 394604.6609284\ttotal: 993ms\tremaining: 2.56s\n",
      "279:\tlearn: 394178.9055676\ttotal: 996ms\tremaining: 2.56s\n",
      "280:\tlearn: 393758.3180822\ttotal: 999ms\tremaining: 2.56s\n",
      "281:\tlearn: 393428.8723647\ttotal: 1s\tremaining: 2.55s\n",
      "282:\tlearn: 393039.1764575\ttotal: 1s\tremaining: 2.54s\n",
      "283:\tlearn: 392600.3272010\ttotal: 1.01s\tremaining: 2.54s\n",
      "284:\tlearn: 392228.0667297\ttotal: 1.01s\tremaining: 2.54s\n",
      "285:\tlearn: 391940.6276172\ttotal: 1.01s\tremaining: 2.53s\n",
      "286:\tlearn: 391523.3269809\ttotal: 1.02s\tremaining: 2.52s\n",
      "287:\tlearn: 391117.2992824\ttotal: 1.02s\tremaining: 2.52s\n",
      "288:\tlearn: 390864.0663533\ttotal: 1.02s\tremaining: 2.52s\n",
      "289:\tlearn: 390535.6976194\ttotal: 1.03s\tremaining: 2.51s\n",
      "290:\tlearn: 390118.4694837\ttotal: 1.03s\tremaining: 2.51s\n",
      "291:\tlearn: 389766.3403446\ttotal: 1.03s\tremaining: 2.5s\n",
      "292:\tlearn: 389397.1411029\ttotal: 1.03s\tremaining: 2.5s\n",
      "293:\tlearn: 389181.4524958\ttotal: 1.04s\tremaining: 2.49s\n",
      "294:\tlearn: 389003.3374044\ttotal: 1.04s\tremaining: 2.48s\n",
      "295:\tlearn: 388621.7339206\ttotal: 1.04s\tremaining: 2.48s\n",
      "296:\tlearn: 388324.3940957\ttotal: 1.05s\tremaining: 2.48s\n",
      "297:\tlearn: 388081.6223006\ttotal: 1.05s\tremaining: 2.47s\n",
      "298:\tlearn: 387750.2696132\ttotal: 1.05s\tremaining: 2.47s\n",
      "299:\tlearn: 387478.6693101\ttotal: 1.05s\tremaining: 2.46s\n",
      "300:\tlearn: 387070.7444436\ttotal: 1.06s\tremaining: 2.46s\n",
      "301:\tlearn: 386366.5046416\ttotal: 1.06s\tremaining: 2.45s\n",
      "302:\tlearn: 386148.0299179\ttotal: 1.06s\tremaining: 2.45s\n",
      "303:\tlearn: 385920.0528502\ttotal: 1.07s\tremaining: 2.45s\n",
      "304:\tlearn: 385675.0824239\ttotal: 1.07s\tremaining: 2.44s\n",
      "305:\tlearn: 385569.1240785\ttotal: 1.07s\tremaining: 2.44s\n",
      "306:\tlearn: 385311.9848365\ttotal: 1.08s\tremaining: 2.43s\n",
      "307:\tlearn: 385184.8710854\ttotal: 1.08s\tremaining: 2.43s\n",
      "308:\tlearn: 385065.5200150\ttotal: 1.08s\tremaining: 2.42s\n",
      "309:\tlearn: 384875.7335583\ttotal: 1.09s\tremaining: 2.42s\n",
      "310:\tlearn: 384621.7393813\ttotal: 1.09s\tremaining: 2.41s\n",
      "311:\tlearn: 384534.3643721\ttotal: 1.09s\tremaining: 2.41s\n",
      "312:\tlearn: 384036.4533892\ttotal: 1.09s\tremaining: 2.4s\n",
      "313:\tlearn: 383803.0480904\ttotal: 1.1s\tremaining: 2.4s\n",
      "314:\tlearn: 383696.8353672\ttotal: 1.1s\tremaining: 2.4s\n",
      "315:\tlearn: 383544.0352896\ttotal: 1.1s\tremaining: 2.39s\n",
      "316:\tlearn: 383333.1670018\ttotal: 1.11s\tremaining: 2.38s\n",
      "317:\tlearn: 383216.2703948\ttotal: 1.11s\tremaining: 2.38s\n",
      "318:\tlearn: 383079.9389926\ttotal: 1.11s\tremaining: 2.38s\n",
      "319:\tlearn: 382978.4326933\ttotal: 1.12s\tremaining: 2.37s\n",
      "320:\tlearn: 382668.7108013\ttotal: 1.12s\tremaining: 2.37s\n",
      "321:\tlearn: 382405.6701052\ttotal: 1.12s\tremaining: 2.36s\n",
      "322:\tlearn: 381888.9516570\ttotal: 1.13s\tremaining: 2.36s\n",
      "323:\tlearn: 381673.7168742\ttotal: 1.13s\tremaining: 2.36s\n",
      "324:\tlearn: 381414.7100883\ttotal: 1.13s\tremaining: 2.35s\n",
      "325:\tlearn: 380998.9146098\ttotal: 1.14s\tremaining: 2.35s\n",
      "326:\tlearn: 380381.6870179\ttotal: 1.14s\tremaining: 2.34s\n",
      "327:\tlearn: 380139.7286727\ttotal: 1.14s\tremaining: 2.34s\n",
      "328:\tlearn: 379740.6191596\ttotal: 1.15s\tremaining: 2.34s\n",
      "329:\tlearn: 379610.3266954\ttotal: 1.15s\tremaining: 2.33s\n",
      "330:\tlearn: 379242.6082962\ttotal: 1.15s\tremaining: 2.33s\n",
      "331:\tlearn: 378994.5613677\ttotal: 1.15s\tremaining: 2.32s\n",
      "332:\tlearn: 378793.2741027\ttotal: 1.16s\tremaining: 2.32s\n",
      "333:\tlearn: 378532.5491442\ttotal: 1.16s\tremaining: 2.32s\n",
      "334:\tlearn: 378276.7401960\ttotal: 1.17s\tremaining: 2.31s\n",
      "335:\tlearn: 378147.7806103\ttotal: 1.17s\tremaining: 2.31s\n",
      "336:\tlearn: 377914.5629283\ttotal: 1.17s\tremaining: 2.31s\n",
      "337:\tlearn: 377753.9776870\ttotal: 1.18s\tremaining: 2.3s\n",
      "338:\tlearn: 377646.0934627\ttotal: 1.18s\tremaining: 2.3s\n",
      "339:\tlearn: 377422.5805928\ttotal: 1.18s\tremaining: 2.29s\n",
      "340:\tlearn: 377307.0152704\ttotal: 1.18s\tremaining: 2.29s\n",
      "341:\tlearn: 377243.4615020\ttotal: 1.19s\tremaining: 2.28s\n",
      "342:\tlearn: 376855.7293069\ttotal: 1.19s\tremaining: 2.28s\n",
      "343:\tlearn: 376795.6968982\ttotal: 1.19s\tremaining: 2.28s\n",
      "344:\tlearn: 376598.7486426\ttotal: 1.2s\tremaining: 2.27s\n",
      "345:\tlearn: 376511.0725882\ttotal: 1.2s\tremaining: 2.27s\n",
      "346:\tlearn: 376426.5608335\ttotal: 1.2s\tremaining: 2.26s\n",
      "347:\tlearn: 376168.8567690\ttotal: 1.21s\tremaining: 2.26s\n",
      "348:\tlearn: 375856.9594278\ttotal: 1.21s\tremaining: 2.26s\n",
      "349:\tlearn: 375747.7221814\ttotal: 1.21s\tremaining: 2.25s\n",
      "350:\tlearn: 375637.9717809\ttotal: 1.22s\tremaining: 2.25s\n",
      "351:\tlearn: 375534.9297022\ttotal: 1.22s\tremaining: 2.24s\n",
      "352:\tlearn: 375402.7222203\ttotal: 1.22s\tremaining: 2.24s\n",
      "353:\tlearn: 375283.0889084\ttotal: 1.22s\tremaining: 2.23s\n",
      "354:\tlearn: 375148.7027891\ttotal: 1.23s\tremaining: 2.23s\n",
      "355:\tlearn: 375099.4187957\ttotal: 1.23s\tremaining: 2.23s\n",
      "356:\tlearn: 374901.3067603\ttotal: 1.23s\tremaining: 2.22s\n",
      "357:\tlearn: 374780.3519655\ttotal: 1.24s\tremaining: 2.22s\n",
      "358:\tlearn: 374621.2060438\ttotal: 1.24s\tremaining: 2.21s\n",
      "359:\tlearn: 374393.2614179\ttotal: 1.24s\tremaining: 2.21s\n",
      "360:\tlearn: 374332.6934775\ttotal: 1.24s\tremaining: 2.2s\n",
      "361:\tlearn: 374238.5160228\ttotal: 1.25s\tremaining: 2.2s\n",
      "362:\tlearn: 374064.3543052\ttotal: 1.25s\tremaining: 2.19s\n",
      "363:\tlearn: 373788.6063986\ttotal: 1.25s\tremaining: 2.19s\n",
      "364:\tlearn: 373533.4717801\ttotal: 1.26s\tremaining: 2.19s\n",
      "365:\tlearn: 373128.5810775\ttotal: 1.26s\tremaining: 2.18s\n",
      "366:\tlearn: 373082.8438808\ttotal: 1.26s\tremaining: 2.18s\n",
      "367:\tlearn: 372928.1071091\ttotal: 1.27s\tremaining: 2.17s\n",
      "368:\tlearn: 372744.4705571\ttotal: 1.27s\tremaining: 2.17s\n",
      "369:\tlearn: 372424.3813753\ttotal: 1.27s\tremaining: 2.17s\n",
      "370:\tlearn: 371915.1050383\ttotal: 1.28s\tremaining: 2.16s\n",
      "371:\tlearn: 371502.7746196\ttotal: 1.28s\tremaining: 2.16s\n",
      "372:\tlearn: 371292.0940819\ttotal: 1.28s\tremaining: 2.15s\n",
      "373:\tlearn: 370948.8849611\ttotal: 1.28s\tremaining: 2.15s\n",
      "374:\tlearn: 370477.1071507\ttotal: 1.29s\tremaining: 2.15s\n",
      "375:\tlearn: 370290.1150680\ttotal: 1.29s\tremaining: 2.14s\n",
      "376:\tlearn: 370166.4303374\ttotal: 1.29s\tremaining: 2.14s\n",
      "377:\tlearn: 370048.1241621\ttotal: 1.3s\tremaining: 2.13s\n",
      "378:\tlearn: 369862.8727478\ttotal: 1.3s\tremaining: 2.13s\n",
      "379:\tlearn: 369399.4662434\ttotal: 1.3s\tremaining: 2.13s\n",
      "380:\tlearn: 369075.3809515\ttotal: 1.3s\tremaining: 2.12s\n",
      "381:\tlearn: 368656.5361795\ttotal: 1.31s\tremaining: 2.12s\n",
      "382:\tlearn: 368485.0539576\ttotal: 1.31s\tremaining: 2.11s\n",
      "383:\tlearn: 368300.3575174\ttotal: 1.31s\tremaining: 2.11s\n",
      "384:\tlearn: 368150.2229025\ttotal: 1.32s\tremaining: 2.1s\n",
      "385:\tlearn: 367971.9944551\ttotal: 1.32s\tremaining: 2.1s\n",
      "386:\tlearn: 367768.8436437\ttotal: 1.32s\tremaining: 2.1s\n",
      "387:\tlearn: 367549.0129515\ttotal: 1.33s\tremaining: 2.09s\n",
      "388:\tlearn: 367433.6884670\ttotal: 1.33s\tremaining: 2.09s\n",
      "389:\tlearn: 367086.4983213\ttotal: 1.33s\tremaining: 2.08s\n",
      "390:\tlearn: 366808.3987784\ttotal: 1.33s\tremaining: 2.08s\n",
      "391:\tlearn: 366604.7161117\ttotal: 1.34s\tremaining: 2.08s\n",
      "392:\tlearn: 366341.9065383\ttotal: 1.34s\tremaining: 2.07s\n",
      "393:\tlearn: 366076.9880982\ttotal: 1.34s\tremaining: 2.07s\n",
      "394:\tlearn: 365997.2058004\ttotal: 1.35s\tremaining: 2.06s\n",
      "395:\tlearn: 365894.0718588\ttotal: 1.35s\tremaining: 2.06s\n",
      "396:\tlearn: 365835.3694617\ttotal: 1.35s\tremaining: 2.06s\n",
      "397:\tlearn: 365574.5568611\ttotal: 1.36s\tremaining: 2.05s\n",
      "398:\tlearn: 365152.2942580\ttotal: 1.36s\tremaining: 2.05s\n",
      "399:\tlearn: 365085.1599225\ttotal: 1.36s\tremaining: 2.05s\n",
      "400:\tlearn: 364826.9410464\ttotal: 1.37s\tremaining: 2.04s\n",
      "401:\tlearn: 364689.3110890\ttotal: 1.37s\tremaining: 2.04s\n",
      "402:\tlearn: 364515.6747228\ttotal: 1.37s\tremaining: 2.04s\n",
      "403:\tlearn: 364323.7665119\ttotal: 1.38s\tremaining: 2.03s\n",
      "404:\tlearn: 364117.2972707\ttotal: 1.38s\tremaining: 2.03s\n",
      "405:\tlearn: 363658.9991079\ttotal: 1.38s\tremaining: 2.02s\n",
      "406:\tlearn: 363446.0658415\ttotal: 1.39s\tremaining: 2.02s\n",
      "407:\tlearn: 363134.1694658\ttotal: 1.39s\tremaining: 2.02s\n",
      "408:\tlearn: 362937.0963289\ttotal: 1.39s\tremaining: 2.01s\n",
      "409:\tlearn: 362885.4145011\ttotal: 1.4s\tremaining: 2.01s\n",
      "410:\tlearn: 362487.5335549\ttotal: 1.4s\tremaining: 2.01s\n",
      "411:\tlearn: 362397.5017951\ttotal: 1.4s\tremaining: 2s\n",
      "412:\tlearn: 362226.9919138\ttotal: 1.41s\tremaining: 2s\n",
      "413:\tlearn: 362153.6364592\ttotal: 1.41s\tremaining: 2s\n",
      "414:\tlearn: 361974.3184992\ttotal: 1.41s\tremaining: 1.99s\n",
      "415:\tlearn: 361844.4697470\ttotal: 1.42s\tremaining: 1.99s\n",
      "416:\tlearn: 361587.6464896\ttotal: 1.42s\tremaining: 1.98s\n",
      "417:\tlearn: 361507.9517711\ttotal: 1.42s\tremaining: 1.98s\n",
      "418:\tlearn: 361153.4257834\ttotal: 1.43s\tremaining: 1.98s\n",
      "419:\tlearn: 361085.8076163\ttotal: 1.43s\tremaining: 1.97s\n",
      "420:\tlearn: 360897.0622195\ttotal: 1.43s\tremaining: 1.97s\n",
      "421:\tlearn: 360860.8083860\ttotal: 1.43s\tremaining: 1.97s\n",
      "422:\tlearn: 360547.0409281\ttotal: 1.44s\tremaining: 1.96s\n",
      "423:\tlearn: 360377.2447169\ttotal: 1.44s\tremaining: 1.96s\n",
      "424:\tlearn: 360145.7522633\ttotal: 1.44s\tremaining: 1.95s\n",
      "425:\tlearn: 359941.8393404\ttotal: 1.45s\tremaining: 1.95s\n",
      "426:\tlearn: 359917.7197717\ttotal: 1.45s\tremaining: 1.95s\n",
      "427:\tlearn: 359856.2703705\ttotal: 1.45s\tremaining: 1.94s\n",
      "428:\tlearn: 359573.4198562\ttotal: 1.46s\tremaining: 1.94s\n",
      "429:\tlearn: 359423.6681733\ttotal: 1.46s\tremaining: 1.93s\n",
      "430:\tlearn: 359172.5226076\ttotal: 1.46s\tremaining: 1.93s\n",
      "431:\tlearn: 358955.1576583\ttotal: 1.47s\tremaining: 1.93s\n",
      "432:\tlearn: 358810.6746380\ttotal: 1.47s\tremaining: 1.92s\n",
      "433:\tlearn: 358677.2843917\ttotal: 1.47s\tremaining: 1.92s\n",
      "434:\tlearn: 358552.8986498\ttotal: 1.47s\tremaining: 1.92s\n",
      "435:\tlearn: 358278.5569341\ttotal: 1.48s\tremaining: 1.91s\n",
      "436:\tlearn: 358115.5799824\ttotal: 1.48s\tremaining: 1.91s\n",
      "437:\tlearn: 357908.8115697\ttotal: 1.48s\tremaining: 1.9s\n",
      "438:\tlearn: 357710.2171991\ttotal: 1.49s\tremaining: 1.9s\n",
      "439:\tlearn: 357342.4808132\ttotal: 1.49s\tremaining: 1.9s\n",
      "440:\tlearn: 357188.5352802\ttotal: 1.49s\tremaining: 1.89s\n",
      "441:\tlearn: 356994.4043571\ttotal: 1.5s\tremaining: 1.89s\n",
      "442:\tlearn: 356970.4174409\ttotal: 1.5s\tremaining: 1.88s\n",
      "443:\tlearn: 356934.7074133\ttotal: 1.5s\tremaining: 1.88s\n",
      "444:\tlearn: 356677.5480489\ttotal: 1.5s\tremaining: 1.88s\n",
      "445:\tlearn: 356623.5558018\ttotal: 1.51s\tremaining: 1.87s\n",
      "446:\tlearn: 356436.3928135\ttotal: 1.51s\tremaining: 1.87s\n",
      "447:\tlearn: 356146.2175199\ttotal: 1.51s\tremaining: 1.86s\n",
      "448:\tlearn: 356061.9025806\ttotal: 1.52s\tremaining: 1.86s\n",
      "449:\tlearn: 356028.8381315\ttotal: 1.52s\tremaining: 1.86s\n",
      "450:\tlearn: 355807.1590337\ttotal: 1.52s\tremaining: 1.85s\n",
      "451:\tlearn: 355600.5514488\ttotal: 1.53s\tremaining: 1.85s\n",
      "452:\tlearn: 355416.5677405\ttotal: 1.53s\tremaining: 1.85s\n",
      "453:\tlearn: 355146.4228252\ttotal: 1.53s\tremaining: 1.84s\n",
      "454:\tlearn: 354912.8033417\ttotal: 1.54s\tremaining: 1.84s\n",
      "455:\tlearn: 354861.3427355\ttotal: 1.54s\tremaining: 1.84s\n",
      "456:\tlearn: 354681.1278296\ttotal: 1.54s\tremaining: 1.83s\n",
      "457:\tlearn: 354650.8401455\ttotal: 1.55s\tremaining: 1.83s\n",
      "458:\tlearn: 354517.3415551\ttotal: 1.55s\tremaining: 1.83s\n",
      "459:\tlearn: 354484.3829884\ttotal: 1.55s\tremaining: 1.82s\n",
      "460:\tlearn: 354341.8549458\ttotal: 1.56s\tremaining: 1.82s\n",
      "461:\tlearn: 354186.5630236\ttotal: 1.56s\tremaining: 1.82s\n",
      "462:\tlearn: 353932.5597719\ttotal: 1.56s\tremaining: 1.81s\n",
      "463:\tlearn: 353689.9531925\ttotal: 1.57s\tremaining: 1.81s\n",
      "464:\tlearn: 353597.6504094\ttotal: 1.57s\tremaining: 1.8s\n",
      "465:\tlearn: 353375.5509127\ttotal: 1.57s\tremaining: 1.8s\n",
      "466:\tlearn: 353215.8849624\ttotal: 1.57s\tremaining: 1.8s\n",
      "467:\tlearn: 353189.1432432\ttotal: 1.58s\tremaining: 1.79s\n",
      "468:\tlearn: 353087.4248438\ttotal: 1.58s\tremaining: 1.79s\n",
      "469:\tlearn: 352991.0475197\ttotal: 1.58s\tremaining: 1.79s\n",
      "470:\tlearn: 352861.2384196\ttotal: 1.59s\tremaining: 1.78s\n",
      "471:\tlearn: 352702.9979621\ttotal: 1.59s\tremaining: 1.78s\n",
      "472:\tlearn: 352658.1671550\ttotal: 1.59s\tremaining: 1.77s\n",
      "473:\tlearn: 352615.6105241\ttotal: 1.59s\tremaining: 1.77s\n",
      "474:\tlearn: 352468.8258068\ttotal: 1.6s\tremaining: 1.77s\n",
      "475:\tlearn: 352356.4136427\ttotal: 1.6s\tremaining: 1.76s\n",
      "476:\tlearn: 352215.7261132\ttotal: 1.6s\tremaining: 1.76s\n",
      "477:\tlearn: 352175.9775222\ttotal: 1.61s\tremaining: 1.75s\n",
      "478:\tlearn: 352102.9390162\ttotal: 1.61s\tremaining: 1.75s\n",
      "479:\tlearn: 352010.8504474\ttotal: 1.61s\tremaining: 1.75s\n",
      "480:\tlearn: 351905.9744196\ttotal: 1.62s\tremaining: 1.74s\n",
      "481:\tlearn: 351610.0965880\ttotal: 1.62s\tremaining: 1.74s\n",
      "482:\tlearn: 351389.1375962\ttotal: 1.62s\tremaining: 1.74s\n",
      "483:\tlearn: 351165.4470245\ttotal: 1.63s\tremaining: 1.73s\n",
      "484:\tlearn: 350953.4224876\ttotal: 1.63s\tremaining: 1.73s\n",
      "485:\tlearn: 350680.6756463\ttotal: 1.63s\tremaining: 1.73s\n",
      "486:\tlearn: 350469.4735540\ttotal: 1.64s\tremaining: 1.72s\n",
      "487:\tlearn: 350395.8238015\ttotal: 1.64s\tremaining: 1.72s\n",
      "488:\tlearn: 350221.8802573\ttotal: 1.64s\tremaining: 1.71s\n",
      "489:\tlearn: 350132.9511728\ttotal: 1.64s\tremaining: 1.71s\n",
      "490:\tlearn: 349920.1600979\ttotal: 1.65s\tremaining: 1.71s\n",
      "491:\tlearn: 349877.6088595\ttotal: 1.65s\tremaining: 1.7s\n",
      "492:\tlearn: 349799.3503662\ttotal: 1.65s\tremaining: 1.7s\n",
      "493:\tlearn: 349540.3707640\ttotal: 1.66s\tremaining: 1.7s\n",
      "494:\tlearn: 349332.8107139\ttotal: 1.66s\tremaining: 1.69s\n",
      "495:\tlearn: 349099.9227455\ttotal: 1.66s\tremaining: 1.69s\n",
      "496:\tlearn: 349035.1171161\ttotal: 1.66s\tremaining: 1.68s\n",
      "497:\tlearn: 348842.7937708\ttotal: 1.67s\tremaining: 1.68s\n",
      "498:\tlearn: 348652.8726968\ttotal: 1.67s\tremaining: 1.68s\n",
      "499:\tlearn: 348613.8209968\ttotal: 1.67s\tremaining: 1.67s\n",
      "500:\tlearn: 348464.3202095\ttotal: 1.68s\tremaining: 1.67s\n",
      "501:\tlearn: 348321.4670792\ttotal: 1.68s\tremaining: 1.67s\n",
      "502:\tlearn: 348148.8573472\ttotal: 1.68s\tremaining: 1.66s\n",
      "503:\tlearn: 347961.0794686\ttotal: 1.69s\tremaining: 1.66s\n",
      "504:\tlearn: 347666.7560847\ttotal: 1.69s\tremaining: 1.66s\n",
      "505:\tlearn: 347580.8085327\ttotal: 1.69s\tremaining: 1.65s\n",
      "506:\tlearn: 347478.2113620\ttotal: 1.7s\tremaining: 1.65s\n",
      "507:\tlearn: 347302.0655408\ttotal: 1.7s\tremaining: 1.65s\n",
      "508:\tlearn: 347026.0534628\ttotal: 1.7s\tremaining: 1.64s\n",
      "509:\tlearn: 346734.8098198\ttotal: 1.71s\tremaining: 1.64s\n",
      "510:\tlearn: 346500.9117322\ttotal: 1.71s\tremaining: 1.64s\n",
      "511:\tlearn: 346251.3266034\ttotal: 1.71s\tremaining: 1.63s\n",
      "512:\tlearn: 346051.3230509\ttotal: 1.72s\tremaining: 1.63s\n",
      "513:\tlearn: 345972.8130329\ttotal: 1.72s\tremaining: 1.62s\n",
      "514:\tlearn: 345810.9376379\ttotal: 1.72s\tremaining: 1.62s\n",
      "515:\tlearn: 345680.6939217\ttotal: 1.72s\tremaining: 1.62s\n",
      "516:\tlearn: 345311.0086606\ttotal: 1.73s\tremaining: 1.61s\n",
      "517:\tlearn: 345117.4557762\ttotal: 1.73s\tremaining: 1.61s\n",
      "518:\tlearn: 344969.0958738\ttotal: 1.73s\tremaining: 1.61s\n",
      "519:\tlearn: 344729.0473449\ttotal: 1.74s\tremaining: 1.6s\n",
      "520:\tlearn: 344598.2680153\ttotal: 1.74s\tremaining: 1.6s\n",
      "521:\tlearn: 344461.2632025\ttotal: 1.75s\tremaining: 1.6s\n",
      "522:\tlearn: 344424.6762671\ttotal: 1.75s\tremaining: 1.59s\n",
      "523:\tlearn: 344314.0803119\ttotal: 1.75s\tremaining: 1.59s\n",
      "524:\tlearn: 344130.6779418\ttotal: 1.75s\tremaining: 1.59s\n",
      "525:\tlearn: 344036.7384106\ttotal: 1.76s\tremaining: 1.58s\n",
      "526:\tlearn: 343795.1985749\ttotal: 1.76s\tremaining: 1.58s\n",
      "527:\tlearn: 343670.1191320\ttotal: 1.76s\tremaining: 1.58s\n",
      "528:\tlearn: 343496.8192796\ttotal: 1.77s\tremaining: 1.57s\n",
      "529:\tlearn: 343340.7428908\ttotal: 1.77s\tremaining: 1.57s\n",
      "530:\tlearn: 343305.0821453\ttotal: 1.77s\tremaining: 1.57s\n",
      "531:\tlearn: 343032.3261028\ttotal: 1.78s\tremaining: 1.56s\n",
      "532:\tlearn: 342620.2579869\ttotal: 1.78s\tremaining: 1.56s\n",
      "533:\tlearn: 342446.2426419\ttotal: 1.78s\tremaining: 1.55s\n",
      "534:\tlearn: 342355.2855447\ttotal: 1.79s\tremaining: 1.55s\n",
      "535:\tlearn: 342167.0236257\ttotal: 1.79s\tremaining: 1.55s\n",
      "536:\tlearn: 341965.3946273\ttotal: 1.79s\tremaining: 1.54s\n",
      "537:\tlearn: 341921.5709240\ttotal: 1.79s\tremaining: 1.54s\n",
      "538:\tlearn: 341734.8520566\ttotal: 1.8s\tremaining: 1.54s\n",
      "539:\tlearn: 341596.2273906\ttotal: 1.8s\tremaining: 1.53s\n",
      "540:\tlearn: 341410.7482555\ttotal: 1.8s\tremaining: 1.53s\n",
      "541:\tlearn: 341360.3433775\ttotal: 1.81s\tremaining: 1.53s\n",
      "542:\tlearn: 341261.7597849\ttotal: 1.81s\tremaining: 1.52s\n",
      "543:\tlearn: 341079.8506721\ttotal: 1.81s\tremaining: 1.52s\n",
      "544:\tlearn: 341009.3945030\ttotal: 1.82s\tremaining: 1.52s\n",
      "545:\tlearn: 340929.0805124\ttotal: 1.82s\tremaining: 1.51s\n",
      "546:\tlearn: 340754.5102647\ttotal: 1.82s\tremaining: 1.51s\n",
      "547:\tlearn: 340528.8764746\ttotal: 1.83s\tremaining: 1.51s\n",
      "548:\tlearn: 340357.6264570\ttotal: 1.83s\tremaining: 1.5s\n",
      "549:\tlearn: 340291.7169200\ttotal: 1.83s\tremaining: 1.5s\n",
      "550:\tlearn: 340233.6816108\ttotal: 1.84s\tremaining: 1.5s\n",
      "551:\tlearn: 340100.5324185\ttotal: 1.84s\tremaining: 1.49s\n",
      "552:\tlearn: 340005.8530406\ttotal: 1.84s\tremaining: 1.49s\n",
      "553:\tlearn: 339772.7458623\ttotal: 1.84s\tremaining: 1.49s\n",
      "554:\tlearn: 339496.4086986\ttotal: 1.85s\tremaining: 1.48s\n",
      "555:\tlearn: 339264.4701199\ttotal: 1.85s\tremaining: 1.48s\n",
      "556:\tlearn: 339120.4826853\ttotal: 1.86s\tremaining: 1.48s\n",
      "557:\tlearn: 338904.9290207\ttotal: 1.86s\tremaining: 1.47s\n",
      "558:\tlearn: 338716.3084130\ttotal: 1.86s\tremaining: 1.47s\n",
      "559:\tlearn: 338504.8277075\ttotal: 1.87s\tremaining: 1.47s\n",
      "560:\tlearn: 338294.7019875\ttotal: 1.87s\tremaining: 1.46s\n",
      "561:\tlearn: 338205.2882287\ttotal: 1.87s\tremaining: 1.46s\n",
      "562:\tlearn: 338091.3293245\ttotal: 1.88s\tremaining: 1.46s\n",
      "563:\tlearn: 338029.6179320\ttotal: 1.88s\tremaining: 1.45s\n",
      "564:\tlearn: 337949.5182191\ttotal: 1.88s\tremaining: 1.45s\n",
      "565:\tlearn: 337787.5043912\ttotal: 1.89s\tremaining: 1.45s\n",
      "566:\tlearn: 337662.7298960\ttotal: 1.89s\tremaining: 1.44s\n",
      "567:\tlearn: 337456.4608234\ttotal: 1.89s\tremaining: 1.44s\n",
      "568:\tlearn: 337338.0872792\ttotal: 1.89s\tremaining: 1.44s\n",
      "569:\tlearn: 337262.5284909\ttotal: 1.9s\tremaining: 1.43s\n",
      "570:\tlearn: 337183.2117876\ttotal: 1.9s\tremaining: 1.43s\n",
      "571:\tlearn: 337114.7529075\ttotal: 1.9s\tremaining: 1.42s\n",
      "572:\tlearn: 336930.2307105\ttotal: 1.91s\tremaining: 1.42s\n",
      "573:\tlearn: 336902.1453320\ttotal: 1.91s\tremaining: 1.42s\n",
      "574:\tlearn: 336884.4472990\ttotal: 1.91s\tremaining: 1.41s\n",
      "575:\tlearn: 336587.5275989\ttotal: 1.92s\tremaining: 1.41s\n",
      "576:\tlearn: 336554.4910480\ttotal: 1.92s\tremaining: 1.41s\n",
      "577:\tlearn: 336386.1681462\ttotal: 1.92s\tremaining: 1.4s\n",
      "578:\tlearn: 336265.8620224\ttotal: 1.93s\tremaining: 1.4s\n",
      "579:\tlearn: 336234.0415817\ttotal: 1.93s\tremaining: 1.4s\n",
      "580:\tlearn: 336084.6825754\ttotal: 1.93s\tremaining: 1.39s\n",
      "581:\tlearn: 335891.0986481\ttotal: 1.94s\tremaining: 1.39s\n",
      "582:\tlearn: 335540.8630465\ttotal: 1.94s\tremaining: 1.39s\n",
      "583:\tlearn: 335508.8243972\ttotal: 1.94s\tremaining: 1.38s\n",
      "584:\tlearn: 335376.2728430\ttotal: 1.95s\tremaining: 1.38s\n",
      "585:\tlearn: 335346.0278098\ttotal: 1.95s\tremaining: 1.38s\n",
      "586:\tlearn: 335223.6984923\ttotal: 1.95s\tremaining: 1.37s\n",
      "587:\tlearn: 335046.3383272\ttotal: 1.96s\tremaining: 1.37s\n",
      "588:\tlearn: 334996.1455429\ttotal: 1.96s\tremaining: 1.37s\n",
      "589:\tlearn: 334908.3508466\ttotal: 1.96s\tremaining: 1.36s\n",
      "590:\tlearn: 334646.8497080\ttotal: 1.97s\tremaining: 1.36s\n",
      "591:\tlearn: 334549.5664127\ttotal: 1.97s\tremaining: 1.36s\n",
      "592:\tlearn: 334515.8032249\ttotal: 1.97s\tremaining: 1.35s\n",
      "593:\tlearn: 334400.6878162\ttotal: 1.97s\tremaining: 1.35s\n",
      "594:\tlearn: 334319.7102886\ttotal: 1.98s\tremaining: 1.35s\n",
      "595:\tlearn: 334155.9053624\ttotal: 1.98s\tremaining: 1.34s\n",
      "596:\tlearn: 334005.4230774\ttotal: 1.98s\tremaining: 1.34s\n",
      "597:\tlearn: 333977.9584364\ttotal: 1.99s\tremaining: 1.33s\n",
      "598:\tlearn: 333815.7292224\ttotal: 1.99s\tremaining: 1.33s\n",
      "599:\tlearn: 333576.8022634\ttotal: 1.99s\tremaining: 1.33s\n",
      "600:\tlearn: 333469.6966603\ttotal: 2s\tremaining: 1.32s\n",
      "601:\tlearn: 333250.7416833\ttotal: 2s\tremaining: 1.32s\n",
      "602:\tlearn: 333167.1377318\ttotal: 2s\tremaining: 1.32s\n",
      "603:\tlearn: 333019.0356430\ttotal: 2s\tremaining: 1.31s\n",
      "604:\tlearn: 332868.0847494\ttotal: 2.01s\tremaining: 1.31s\n",
      "605:\tlearn: 332826.4752730\ttotal: 2.01s\tremaining: 1.31s\n",
      "606:\tlearn: 332752.8506484\ttotal: 2.01s\tremaining: 1.3s\n",
      "607:\tlearn: 332472.0075988\ttotal: 2.02s\tremaining: 1.3s\n",
      "608:\tlearn: 332362.1660770\ttotal: 2.02s\tremaining: 1.3s\n",
      "609:\tlearn: 332128.2223383\ttotal: 2.02s\tremaining: 1.29s\n",
      "610:\tlearn: 331917.2139988\ttotal: 2.03s\tremaining: 1.29s\n",
      "611:\tlearn: 331732.2609123\ttotal: 2.03s\tremaining: 1.29s\n",
      "612:\tlearn: 331628.9518468\ttotal: 2.03s\tremaining: 1.28s\n",
      "613:\tlearn: 331484.9402128\ttotal: 2.04s\tremaining: 1.28s\n",
      "614:\tlearn: 331332.5340186\ttotal: 2.04s\tremaining: 1.28s\n",
      "615:\tlearn: 331184.4673059\ttotal: 2.04s\tremaining: 1.27s\n",
      "616:\tlearn: 331085.4633799\ttotal: 2.04s\tremaining: 1.27s\n",
      "617:\tlearn: 331057.3949566\ttotal: 2.05s\tremaining: 1.27s\n",
      "618:\tlearn: 331004.1958560\ttotal: 2.05s\tremaining: 1.26s\n",
      "619:\tlearn: 330961.4870888\ttotal: 2.05s\tremaining: 1.26s\n",
      "620:\tlearn: 330832.2215793\ttotal: 2.06s\tremaining: 1.25s\n",
      "621:\tlearn: 330581.1775001\ttotal: 2.06s\tremaining: 1.25s\n",
      "622:\tlearn: 330416.5004024\ttotal: 2.06s\tremaining: 1.25s\n",
      "623:\tlearn: 330247.2141375\ttotal: 2.07s\tremaining: 1.25s\n",
      "624:\tlearn: 330178.0992375\ttotal: 2.07s\tremaining: 1.24s\n",
      "625:\tlearn: 330076.7251756\ttotal: 2.07s\tremaining: 1.24s\n",
      "626:\tlearn: 329915.3080100\ttotal: 2.08s\tremaining: 1.24s\n",
      "627:\tlearn: 329715.1034015\ttotal: 2.08s\tremaining: 1.23s\n",
      "628:\tlearn: 329594.4125585\ttotal: 2.08s\tremaining: 1.23s\n",
      "629:\tlearn: 329456.2662056\ttotal: 2.09s\tremaining: 1.23s\n",
      "630:\tlearn: 329316.8507645\ttotal: 2.09s\tremaining: 1.22s\n",
      "631:\tlearn: 329280.6407599\ttotal: 2.09s\tremaining: 1.22s\n",
      "632:\tlearn: 329145.2956975\ttotal: 2.1s\tremaining: 1.22s\n",
      "633:\tlearn: 328965.5677590\ttotal: 2.1s\tremaining: 1.21s\n",
      "634:\tlearn: 328893.1662849\ttotal: 2.1s\tremaining: 1.21s\n",
      "635:\tlearn: 328813.7641080\ttotal: 2.1s\tremaining: 1.2s\n",
      "636:\tlearn: 328712.2494258\ttotal: 2.11s\tremaining: 1.2s\n",
      "637:\tlearn: 328533.0291173\ttotal: 2.11s\tremaining: 1.2s\n",
      "638:\tlearn: 328484.0948813\ttotal: 2.11s\tremaining: 1.19s\n",
      "639:\tlearn: 328395.6751247\ttotal: 2.12s\tremaining: 1.19s\n",
      "640:\tlearn: 328244.9873631\ttotal: 2.12s\tremaining: 1.19s\n",
      "641:\tlearn: 328028.4906806\ttotal: 2.12s\tremaining: 1.18s\n",
      "642:\tlearn: 327841.2475687\ttotal: 2.13s\tremaining: 1.18s\n",
      "643:\tlearn: 327702.8904241\ttotal: 2.13s\tremaining: 1.18s\n",
      "644:\tlearn: 327628.7087392\ttotal: 2.13s\tremaining: 1.18s\n",
      "645:\tlearn: 327491.8215074\ttotal: 2.14s\tremaining: 1.17s\n",
      "646:\tlearn: 327266.6355857\ttotal: 2.14s\tremaining: 1.17s\n",
      "647:\tlearn: 327114.7354789\ttotal: 2.15s\tremaining: 1.17s\n",
      "648:\tlearn: 326963.3060910\ttotal: 2.15s\tremaining: 1.16s\n",
      "649:\tlearn: 326728.5961920\ttotal: 2.15s\tremaining: 1.16s\n",
      "650:\tlearn: 326683.0419512\ttotal: 2.15s\tremaining: 1.16s\n",
      "651:\tlearn: 326532.0788577\ttotal: 2.16s\tremaining: 1.15s\n",
      "652:\tlearn: 326402.2902252\ttotal: 2.16s\tremaining: 1.15s\n",
      "653:\tlearn: 326183.0374296\ttotal: 2.16s\tremaining: 1.15s\n",
      "654:\tlearn: 326118.0764579\ttotal: 2.17s\tremaining: 1.14s\n",
      "655:\tlearn: 325953.1220982\ttotal: 2.17s\tremaining: 1.14s\n",
      "656:\tlearn: 325871.2389413\ttotal: 2.17s\tremaining: 1.13s\n",
      "657:\tlearn: 325742.7604823\ttotal: 2.18s\tremaining: 1.13s\n",
      "658:\tlearn: 325557.5403353\ttotal: 2.18s\tremaining: 1.13s\n",
      "659:\tlearn: 325351.0280649\ttotal: 2.18s\tremaining: 1.12s\n",
      "660:\tlearn: 325313.1904371\ttotal: 2.19s\tremaining: 1.12s\n",
      "661:\tlearn: 325252.6872069\ttotal: 2.19s\tremaining: 1.12s\n",
      "662:\tlearn: 325157.5418400\ttotal: 2.19s\tremaining: 1.11s\n",
      "663:\tlearn: 324982.3739886\ttotal: 2.19s\tremaining: 1.11s\n",
      "664:\tlearn: 324946.8629457\ttotal: 2.2s\tremaining: 1.11s\n",
      "665:\tlearn: 324883.5163136\ttotal: 2.2s\tremaining: 1.1s\n",
      "666:\tlearn: 324818.5873841\ttotal: 2.21s\tremaining: 1.1s\n",
      "667:\tlearn: 324626.6924320\ttotal: 2.21s\tremaining: 1.1s\n",
      "668:\tlearn: 324394.5447280\ttotal: 2.21s\tremaining: 1.09s\n",
      "669:\tlearn: 324295.5648492\ttotal: 2.21s\tremaining: 1.09s\n",
      "670:\tlearn: 324224.4751386\ttotal: 2.22s\tremaining: 1.09s\n",
      "671:\tlearn: 324191.0151408\ttotal: 2.22s\tremaining: 1.08s\n",
      "672:\tlearn: 324060.1344458\ttotal: 2.22s\tremaining: 1.08s\n",
      "673:\tlearn: 323949.1840939\ttotal: 2.23s\tremaining: 1.08s\n",
      "674:\tlearn: 323871.1023041\ttotal: 2.23s\tremaining: 1.07s\n",
      "675:\tlearn: 323804.7644271\ttotal: 2.23s\tremaining: 1.07s\n",
      "676:\tlearn: 323664.3015061\ttotal: 2.24s\tremaining: 1.07s\n",
      "677:\tlearn: 323565.7755601\ttotal: 2.24s\tremaining: 1.06s\n",
      "678:\tlearn: 323426.4731349\ttotal: 2.24s\tremaining: 1.06s\n",
      "679:\tlearn: 323398.5943097\ttotal: 2.25s\tremaining: 1.06s\n",
      "680:\tlearn: 323344.2379470\ttotal: 2.25s\tremaining: 1.05s\n",
      "681:\tlearn: 323174.8683855\ttotal: 2.25s\tremaining: 1.05s\n",
      "682:\tlearn: 323083.4731345\ttotal: 2.26s\tremaining: 1.05s\n",
      "683:\tlearn: 322934.5305464\ttotal: 2.26s\tremaining: 1.04s\n",
      "684:\tlearn: 322868.5403917\ttotal: 2.26s\tremaining: 1.04s\n",
      "685:\tlearn: 322724.9380900\ttotal: 2.27s\tremaining: 1.04s\n",
      "686:\tlearn: 322545.0157925\ttotal: 2.27s\tremaining: 1.03s\n",
      "687:\tlearn: 322405.9351721\ttotal: 2.27s\tremaining: 1.03s\n",
      "688:\tlearn: 322359.2726551\ttotal: 2.27s\tremaining: 1.03s\n",
      "689:\tlearn: 322199.7555634\ttotal: 2.28s\tremaining: 1.02s\n",
      "690:\tlearn: 322155.9896541\ttotal: 2.28s\tremaining: 1.02s\n",
      "691:\tlearn: 322129.3814217\ttotal: 2.28s\tremaining: 1.02s\n",
      "692:\tlearn: 321997.7000825\ttotal: 2.29s\tremaining: 1.01s\n",
      "693:\tlearn: 321859.9145569\ttotal: 2.29s\tremaining: 1.01s\n",
      "694:\tlearn: 321673.9685491\ttotal: 2.29s\tremaining: 1s\n",
      "695:\tlearn: 321566.0367392\ttotal: 2.29s\tremaining: 1s\n",
      "696:\tlearn: 321379.2696530\ttotal: 2.3s\tremaining: 999ms\n",
      "697:\tlearn: 321161.2860424\ttotal: 2.3s\tremaining: 996ms\n",
      "698:\tlearn: 321036.0407138\ttotal: 2.31s\tremaining: 993ms\n",
      "699:\tlearn: 320875.7275496\ttotal: 2.31s\tremaining: 989ms\n",
      "700:\tlearn: 320775.2654416\ttotal: 2.31s\tremaining: 986ms\n",
      "701:\tlearn: 320640.1435932\ttotal: 2.31s\tremaining: 983ms\n",
      "702:\tlearn: 320518.0943875\ttotal: 2.32s\tremaining: 979ms\n",
      "703:\tlearn: 320420.4739937\ttotal: 2.32s\tremaining: 976ms\n",
      "704:\tlearn: 320246.5161289\ttotal: 2.32s\tremaining: 973ms\n",
      "705:\tlearn: 320124.9180413\ttotal: 2.33s\tremaining: 970ms\n",
      "706:\tlearn: 319978.9058731\ttotal: 2.33s\tremaining: 967ms\n",
      "707:\tlearn: 319875.2422759\ttotal: 2.34s\tremaining: 964ms\n",
      "708:\tlearn: 319727.6192412\ttotal: 2.34s\tremaining: 960ms\n",
      "709:\tlearn: 319600.8960824\ttotal: 2.34s\tremaining: 957ms\n",
      "710:\tlearn: 319495.7337547\ttotal: 2.35s\tremaining: 954ms\n",
      "711:\tlearn: 319444.3189112\ttotal: 2.35s\tremaining: 950ms\n",
      "712:\tlearn: 319276.2487443\ttotal: 2.35s\tremaining: 947ms\n",
      "713:\tlearn: 319167.9745632\ttotal: 2.35s\tremaining: 944ms\n",
      "714:\tlearn: 318979.7884283\ttotal: 2.36s\tremaining: 940ms\n",
      "715:\tlearn: 318823.3548702\ttotal: 2.36s\tremaining: 937ms\n",
      "716:\tlearn: 318774.4550143\ttotal: 2.37s\tremaining: 933ms\n",
      "717:\tlearn: 318494.5608329\ttotal: 2.37s\tremaining: 930ms\n",
      "718:\tlearn: 318412.3384180\ttotal: 2.37s\tremaining: 927ms\n",
      "719:\tlearn: 318384.6150752\ttotal: 2.37s\tremaining: 923ms\n",
      "720:\tlearn: 318338.1103929\ttotal: 2.38s\tremaining: 920ms\n",
      "721:\tlearn: 318296.2766538\ttotal: 2.38s\tremaining: 916ms\n",
      "722:\tlearn: 318253.5599296\ttotal: 2.38s\tremaining: 913ms\n",
      "723:\tlearn: 318162.4932171\ttotal: 2.39s\tremaining: 910ms\n",
      "724:\tlearn: 318015.3398490\ttotal: 2.39s\tremaining: 906ms\n",
      "725:\tlearn: 317921.6584546\ttotal: 2.39s\tremaining: 903ms\n",
      "726:\tlearn: 317880.6498088\ttotal: 2.4s\tremaining: 899ms\n",
      "727:\tlearn: 317841.6167820\ttotal: 2.4s\tremaining: 896ms\n",
      "728:\tlearn: 317778.5346994\ttotal: 2.4s\tremaining: 893ms\n",
      "729:\tlearn: 317742.2516460\ttotal: 2.4s\tremaining: 889ms\n",
      "730:\tlearn: 317690.7755531\ttotal: 2.41s\tremaining: 886ms\n",
      "731:\tlearn: 317654.6129726\ttotal: 2.41s\tremaining: 882ms\n",
      "732:\tlearn: 317565.4469841\ttotal: 2.41s\tremaining: 879ms\n",
      "733:\tlearn: 317532.3107364\ttotal: 2.42s\tremaining: 876ms\n",
      "734:\tlearn: 317417.8378811\ttotal: 2.42s\tremaining: 872ms\n",
      "735:\tlearn: 317388.9062568\ttotal: 2.42s\tremaining: 869ms\n",
      "736:\tlearn: 317259.4187927\ttotal: 2.42s\tremaining: 866ms\n",
      "737:\tlearn: 317182.6698582\ttotal: 2.43s\tremaining: 862ms\n",
      "738:\tlearn: 317072.0999147\ttotal: 2.43s\tremaining: 859ms\n",
      "739:\tlearn: 317014.5241897\ttotal: 2.43s\tremaining: 856ms\n",
      "740:\tlearn: 316933.9143516\ttotal: 2.44s\tremaining: 852ms\n",
      "741:\tlearn: 316835.0146100\ttotal: 2.44s\tremaining: 849ms\n",
      "742:\tlearn: 316740.8600204\ttotal: 2.44s\tremaining: 845ms\n",
      "743:\tlearn: 316580.0972463\ttotal: 2.45s\tremaining: 842ms\n",
      "744:\tlearn: 316357.9220985\ttotal: 2.45s\tremaining: 839ms\n",
      "745:\tlearn: 316263.5574714\ttotal: 2.45s\tremaining: 836ms\n",
      "746:\tlearn: 316114.1268513\ttotal: 2.46s\tremaining: 832ms\n",
      "747:\tlearn: 316043.6312539\ttotal: 2.46s\tremaining: 829ms\n",
      "748:\tlearn: 315914.1951406\ttotal: 2.46s\tremaining: 825ms\n",
      "749:\tlearn: 315849.5009840\ttotal: 2.47s\tremaining: 822ms\n",
      "750:\tlearn: 315753.8818475\ttotal: 2.47s\tremaining: 819ms\n",
      "751:\tlearn: 315639.3256031\ttotal: 2.47s\tremaining: 815ms\n",
      "752:\tlearn: 315439.1349926\ttotal: 2.48s\tremaining: 812ms\n",
      "753:\tlearn: 315296.0459311\ttotal: 2.48s\tremaining: 809ms\n",
      "754:\tlearn: 315243.6477735\ttotal: 2.48s\tremaining: 806ms\n",
      "755:\tlearn: 315191.0007794\ttotal: 2.48s\tremaining: 802ms\n",
      "756:\tlearn: 314997.3912226\ttotal: 2.49s\tremaining: 799ms\n",
      "757:\tlearn: 314815.8520602\ttotal: 2.49s\tremaining: 796ms\n",
      "758:\tlearn: 314649.7900097\ttotal: 2.5s\tremaining: 792ms\n",
      "759:\tlearn: 314472.0233478\ttotal: 2.5s\tremaining: 789ms\n",
      "760:\tlearn: 314304.8542732\ttotal: 2.5s\tremaining: 786ms\n",
      "761:\tlearn: 314244.1764498\ttotal: 2.5s\tremaining: 782ms\n",
      "762:\tlearn: 314166.4984747\ttotal: 2.51s\tremaining: 779ms\n",
      "763:\tlearn: 314004.6715048\ttotal: 2.51s\tremaining: 776ms\n",
      "764:\tlearn: 313920.4439348\ttotal: 2.51s\tremaining: 772ms\n",
      "765:\tlearn: 313766.6996287\ttotal: 2.52s\tremaining: 769ms\n",
      "766:\tlearn: 313694.5007009\ttotal: 2.52s\tremaining: 767ms\n",
      "767:\tlearn: 313655.8760704\ttotal: 2.53s\tremaining: 764ms\n",
      "768:\tlearn: 313561.5308164\ttotal: 2.53s\tremaining: 761ms\n",
      "769:\tlearn: 313467.6146926\ttotal: 2.53s\tremaining: 757ms\n",
      "770:\tlearn: 313429.2829348\ttotal: 2.54s\tremaining: 754ms\n",
      "771:\tlearn: 313368.9274052\ttotal: 2.54s\tremaining: 750ms\n",
      "772:\tlearn: 313274.5011964\ttotal: 2.54s\tremaining: 747ms\n",
      "773:\tlearn: 313160.2569215\ttotal: 2.55s\tremaining: 744ms\n",
      "774:\tlearn: 313124.0015024\ttotal: 2.55s\tremaining: 741ms\n",
      "775:\tlearn: 313099.4240140\ttotal: 2.55s\tremaining: 737ms\n",
      "776:\tlearn: 312988.1460041\ttotal: 2.56s\tremaining: 734ms\n",
      "777:\tlearn: 312887.9929549\ttotal: 2.56s\tremaining: 731ms\n",
      "778:\tlearn: 312767.9080425\ttotal: 2.56s\tremaining: 727ms\n",
      "779:\tlearn: 312661.3031564\ttotal: 2.57s\tremaining: 724ms\n",
      "780:\tlearn: 312616.0762323\ttotal: 2.57s\tremaining: 721ms\n",
      "781:\tlearn: 312598.8896552\ttotal: 2.57s\tremaining: 717ms\n",
      "782:\tlearn: 312478.3542016\ttotal: 2.58s\tremaining: 714ms\n",
      "783:\tlearn: 312363.6325104\ttotal: 2.58s\tremaining: 710ms\n",
      "784:\tlearn: 312272.0603594\ttotal: 2.58s\tremaining: 707ms\n",
      "785:\tlearn: 312230.8568463\ttotal: 2.58s\tremaining: 704ms\n",
      "786:\tlearn: 312089.6690973\ttotal: 2.59s\tremaining: 700ms\n",
      "787:\tlearn: 312017.1150021\ttotal: 2.59s\tremaining: 697ms\n",
      "788:\tlearn: 311942.7543724\ttotal: 2.59s\tremaining: 694ms\n",
      "789:\tlearn: 311827.5230126\ttotal: 2.6s\tremaining: 691ms\n",
      "790:\tlearn: 311795.3188920\ttotal: 2.6s\tremaining: 687ms\n",
      "791:\tlearn: 311657.6267538\ttotal: 2.6s\tremaining: 684ms\n",
      "792:\tlearn: 311610.2721720\ttotal: 2.61s\tremaining: 681ms\n",
      "793:\tlearn: 311580.0025184\ttotal: 2.61s\tremaining: 677ms\n",
      "794:\tlearn: 311521.7660885\ttotal: 2.61s\tremaining: 674ms\n",
      "795:\tlearn: 311489.2187782\ttotal: 2.62s\tremaining: 670ms\n",
      "796:\tlearn: 311414.2273634\ttotal: 2.62s\tremaining: 667ms\n",
      "797:\tlearn: 311276.3093148\ttotal: 2.62s\tremaining: 664ms\n",
      "798:\tlearn: 311255.8143154\ttotal: 2.62s\tremaining: 660ms\n",
      "799:\tlearn: 311229.2440038\ttotal: 2.63s\tremaining: 657ms\n",
      "800:\tlearn: 311161.8513762\ttotal: 2.63s\tremaining: 654ms\n",
      "801:\tlearn: 311069.0550910\ttotal: 2.63s\tremaining: 650ms\n",
      "802:\tlearn: 310953.2155157\ttotal: 2.64s\tremaining: 647ms\n",
      "803:\tlearn: 310911.8319178\ttotal: 2.64s\tremaining: 644ms\n",
      "804:\tlearn: 310876.8535463\ttotal: 2.64s\tremaining: 640ms\n",
      "805:\tlearn: 310859.2497810\ttotal: 2.65s\tremaining: 637ms\n",
      "806:\tlearn: 310777.6596591\ttotal: 2.65s\tremaining: 634ms\n",
      "807:\tlearn: 310754.7443035\ttotal: 2.65s\tremaining: 630ms\n",
      "808:\tlearn: 310724.6833820\ttotal: 2.65s\tremaining: 627ms\n",
      "809:\tlearn: 310677.8807221\ttotal: 2.66s\tremaining: 624ms\n",
      "810:\tlearn: 310543.5075670\ttotal: 2.66s\tremaining: 620ms\n",
      "811:\tlearn: 310427.6611606\ttotal: 2.66s\tremaining: 617ms\n",
      "812:\tlearn: 310318.2287764\ttotal: 2.67s\tremaining: 614ms\n",
      "813:\tlearn: 310301.0690088\ttotal: 2.67s\tremaining: 610ms\n",
      "814:\tlearn: 310194.0108823\ttotal: 2.67s\tremaining: 607ms\n",
      "815:\tlearn: 310162.4380063\ttotal: 2.68s\tremaining: 604ms\n",
      "816:\tlearn: 310088.7792852\ttotal: 2.68s\tremaining: 600ms\n",
      "817:\tlearn: 309922.7474309\ttotal: 2.68s\tremaining: 597ms\n",
      "818:\tlearn: 309906.5223377\ttotal: 2.69s\tremaining: 594ms\n",
      "819:\tlearn: 309797.8778282\ttotal: 2.69s\tremaining: 591ms\n",
      "820:\tlearn: 309681.1636519\ttotal: 2.69s\tremaining: 587ms\n",
      "821:\tlearn: 309665.8703085\ttotal: 2.7s\tremaining: 584ms\n",
      "822:\tlearn: 309566.6200283\ttotal: 2.7s\tremaining: 581ms\n",
      "823:\tlearn: 309486.5469575\ttotal: 2.7s\tremaining: 577ms\n",
      "824:\tlearn: 309387.3422025\ttotal: 2.71s\tremaining: 574ms\n",
      "825:\tlearn: 309267.7461700\ttotal: 2.71s\tremaining: 571ms\n",
      "826:\tlearn: 309175.7959763\ttotal: 2.71s\tremaining: 568ms\n",
      "827:\tlearn: 309030.4299035\ttotal: 2.72s\tremaining: 565ms\n",
      "828:\tlearn: 308892.1715695\ttotal: 2.72s\tremaining: 561ms\n",
      "829:\tlearn: 308836.9041632\ttotal: 2.72s\tremaining: 558ms\n",
      "830:\tlearn: 308734.6693775\ttotal: 2.73s\tremaining: 555ms\n",
      "831:\tlearn: 308720.0992613\ttotal: 2.73s\tremaining: 552ms\n",
      "832:\tlearn: 308666.6884135\ttotal: 2.73s\tremaining: 548ms\n",
      "833:\tlearn: 308543.9234776\ttotal: 2.74s\tremaining: 545ms\n",
      "834:\tlearn: 308456.3229403\ttotal: 2.74s\tremaining: 542ms\n",
      "835:\tlearn: 308373.7215881\ttotal: 2.74s\tremaining: 538ms\n",
      "836:\tlearn: 308344.3336317\ttotal: 2.75s\tremaining: 535ms\n",
      "837:\tlearn: 308272.1276110\ttotal: 2.75s\tremaining: 532ms\n",
      "838:\tlearn: 308212.5779651\ttotal: 2.75s\tremaining: 528ms\n",
      "839:\tlearn: 308131.2776211\ttotal: 2.76s\tremaining: 525ms\n",
      "840:\tlearn: 308070.1019394\ttotal: 2.76s\tremaining: 522ms\n",
      "841:\tlearn: 308056.2698585\ttotal: 2.76s\tremaining: 518ms\n",
      "842:\tlearn: 307979.2008071\ttotal: 2.77s\tremaining: 515ms\n",
      "843:\tlearn: 307944.7876470\ttotal: 2.77s\tremaining: 512ms\n",
      "844:\tlearn: 307924.2381478\ttotal: 2.77s\tremaining: 508ms\n",
      "845:\tlearn: 307861.1607084\ttotal: 2.77s\tremaining: 505ms\n",
      "846:\tlearn: 307751.3191985\ttotal: 2.78s\tremaining: 502ms\n",
      "847:\tlearn: 307727.1901567\ttotal: 2.78s\tremaining: 498ms\n",
      "848:\tlearn: 307645.6638988\ttotal: 2.78s\tremaining: 495ms\n",
      "849:\tlearn: 307534.1743709\ttotal: 2.79s\tremaining: 492ms\n",
      "850:\tlearn: 307431.1080204\ttotal: 2.79s\tremaining: 488ms\n",
      "851:\tlearn: 307269.3443124\ttotal: 2.79s\tremaining: 485ms\n",
      "852:\tlearn: 307198.3926032\ttotal: 2.8s\tremaining: 482ms\n",
      "853:\tlearn: 307121.4684047\ttotal: 2.8s\tremaining: 479ms\n",
      "854:\tlearn: 307046.6553892\ttotal: 2.8s\tremaining: 475ms\n",
      "855:\tlearn: 306990.9866518\ttotal: 2.81s\tremaining: 472ms\n",
      "856:\tlearn: 306966.9105269\ttotal: 2.81s\tremaining: 469ms\n",
      "857:\tlearn: 306875.5175754\ttotal: 2.81s\tremaining: 465ms\n",
      "858:\tlearn: 306728.4150090\ttotal: 2.81s\tremaining: 462ms\n",
      "859:\tlearn: 306685.8926399\ttotal: 2.82s\tremaining: 459ms\n",
      "860:\tlearn: 306615.1453245\ttotal: 2.82s\tremaining: 456ms\n",
      "861:\tlearn: 306592.3338368\ttotal: 2.83s\tremaining: 453ms\n",
      "862:\tlearn: 306531.1091091\ttotal: 2.83s\tremaining: 450ms\n",
      "863:\tlearn: 306430.1581258\ttotal: 2.83s\tremaining: 446ms\n",
      "864:\tlearn: 306418.0529867\ttotal: 2.84s\tremaining: 443ms\n",
      "865:\tlearn: 306391.2915982\ttotal: 2.84s\tremaining: 440ms\n",
      "866:\tlearn: 306341.9710436\ttotal: 2.84s\tremaining: 436ms\n",
      "867:\tlearn: 306296.2420893\ttotal: 2.85s\tremaining: 433ms\n",
      "868:\tlearn: 306199.4405649\ttotal: 2.85s\tremaining: 430ms\n",
      "869:\tlearn: 306188.0679117\ttotal: 2.85s\tremaining: 426ms\n",
      "870:\tlearn: 306074.4987575\ttotal: 2.86s\tremaining: 423ms\n",
      "871:\tlearn: 305983.5041714\ttotal: 2.86s\tremaining: 420ms\n",
      "872:\tlearn: 305926.7916111\ttotal: 2.86s\tremaining: 416ms\n",
      "873:\tlearn: 305853.6612049\ttotal: 2.87s\tremaining: 413ms\n",
      "874:\tlearn: 305770.3479319\ttotal: 2.87s\tremaining: 410ms\n",
      "875:\tlearn: 305746.3236320\ttotal: 2.87s\tremaining: 406ms\n",
      "876:\tlearn: 305627.2509988\ttotal: 2.87s\tremaining: 403ms\n",
      "877:\tlearn: 305605.1396242\ttotal: 2.88s\tremaining: 400ms\n",
      "878:\tlearn: 305546.4057110\ttotal: 2.88s\tremaining: 397ms\n",
      "879:\tlearn: 305456.7573243\ttotal: 2.88s\tremaining: 393ms\n",
      "880:\tlearn: 305402.1213054\ttotal: 2.89s\tremaining: 390ms\n",
      "881:\tlearn: 305312.5970943\ttotal: 2.89s\tremaining: 387ms\n",
      "882:\tlearn: 305256.2855593\ttotal: 2.89s\tremaining: 383ms\n",
      "883:\tlearn: 305192.5463486\ttotal: 2.9s\tremaining: 380ms\n",
      "884:\tlearn: 305112.2983677\ttotal: 2.9s\tremaining: 377ms\n",
      "885:\tlearn: 304968.2604541\ttotal: 2.9s\tremaining: 374ms\n",
      "886:\tlearn: 304854.3073851\ttotal: 2.91s\tremaining: 370ms\n",
      "887:\tlearn: 304788.2393621\ttotal: 2.91s\tremaining: 367ms\n",
      "888:\tlearn: 304660.1678605\ttotal: 2.92s\tremaining: 364ms\n",
      "889:\tlearn: 304527.0076110\ttotal: 2.92s\tremaining: 361ms\n",
      "890:\tlearn: 304462.6752684\ttotal: 2.92s\tremaining: 358ms\n",
      "891:\tlearn: 304340.2978720\ttotal: 2.92s\tremaining: 354ms\n",
      "892:\tlearn: 304288.2951660\ttotal: 2.93s\tremaining: 351ms\n",
      "893:\tlearn: 304213.8011910\ttotal: 2.93s\tremaining: 348ms\n",
      "894:\tlearn: 304148.7692159\ttotal: 2.93s\tremaining: 344ms\n",
      "895:\tlearn: 304079.0962346\ttotal: 2.94s\tremaining: 341ms\n",
      "896:\tlearn: 303994.5905680\ttotal: 2.94s\tremaining: 338ms\n",
      "897:\tlearn: 303922.2671079\ttotal: 2.94s\tremaining: 334ms\n",
      "898:\tlearn: 303841.9423066\ttotal: 2.95s\tremaining: 331ms\n",
      "899:\tlearn: 303719.0909604\ttotal: 2.95s\tremaining: 328ms\n",
      "900:\tlearn: 303625.1537190\ttotal: 2.95s\tremaining: 325ms\n",
      "901:\tlearn: 303516.2255794\ttotal: 2.96s\tremaining: 321ms\n",
      "902:\tlearn: 303457.2029609\ttotal: 2.96s\tremaining: 318ms\n",
      "903:\tlearn: 303356.5056569\ttotal: 2.96s\tremaining: 315ms\n",
      "904:\tlearn: 303264.6373436\ttotal: 2.97s\tremaining: 311ms\n",
      "905:\tlearn: 303096.0823598\ttotal: 2.97s\tremaining: 308ms\n",
      "906:\tlearn: 302954.1435293\ttotal: 2.97s\tremaining: 305ms\n",
      "907:\tlearn: 302868.1451878\ttotal: 2.98s\tremaining: 302ms\n",
      "908:\tlearn: 302772.6738175\ttotal: 2.98s\tremaining: 298ms\n",
      "909:\tlearn: 302639.7537448\ttotal: 2.98s\tremaining: 295ms\n",
      "910:\tlearn: 302545.1996458\ttotal: 2.98s\tremaining: 292ms\n",
      "911:\tlearn: 302443.5653925\ttotal: 2.99s\tremaining: 288ms\n",
      "912:\tlearn: 302262.9333388\ttotal: 2.99s\tremaining: 285ms\n",
      "913:\tlearn: 302184.3567897\ttotal: 2.99s\tremaining: 282ms\n",
      "914:\tlearn: 302076.6585544\ttotal: 3s\tremaining: 279ms\n",
      "915:\tlearn: 301889.7982846\ttotal: 3s\tremaining: 275ms\n",
      "916:\tlearn: 301764.3172566\ttotal: 3s\tremaining: 272ms\n",
      "917:\tlearn: 301644.2541303\ttotal: 3.01s\tremaining: 269ms\n",
      "918:\tlearn: 301589.7616702\ttotal: 3.01s\tremaining: 265ms\n",
      "919:\tlearn: 301540.6509680\ttotal: 3.01s\tremaining: 262ms\n",
      "920:\tlearn: 301466.0171628\ttotal: 3.02s\tremaining: 259ms\n",
      "921:\tlearn: 301415.6458382\ttotal: 3.03s\tremaining: 256ms\n",
      "922:\tlearn: 301300.5200311\ttotal: 3.04s\tremaining: 253ms\n",
      "923:\tlearn: 301233.9237505\ttotal: 3.04s\tremaining: 250ms\n",
      "924:\tlearn: 301131.8846313\ttotal: 3.05s\tremaining: 247ms\n",
      "925:\tlearn: 301046.0894473\ttotal: 3.06s\tremaining: 244ms\n",
      "926:\tlearn: 300852.6452362\ttotal: 3.06s\tremaining: 241ms\n",
      "927:\tlearn: 300749.3022174\ttotal: 3.07s\tremaining: 238ms\n",
      "928:\tlearn: 300661.3999586\ttotal: 3.07s\tremaining: 235ms\n",
      "929:\tlearn: 300594.7870357\ttotal: 3.08s\tremaining: 232ms\n",
      "930:\tlearn: 300582.3518170\ttotal: 3.08s\tremaining: 228ms\n",
      "931:\tlearn: 300559.9954124\ttotal: 3.09s\tremaining: 225ms\n",
      "932:\tlearn: 300525.1936848\ttotal: 3.1s\tremaining: 222ms\n",
      "933:\tlearn: 300486.6715205\ttotal: 3.1s\tremaining: 219ms\n",
      "934:\tlearn: 300433.5486976\ttotal: 3.11s\tremaining: 216ms\n",
      "935:\tlearn: 300412.9868564\ttotal: 3.12s\tremaining: 213ms\n",
      "936:\tlearn: 300401.6753933\ttotal: 3.13s\tremaining: 210ms\n",
      "937:\tlearn: 300359.6136214\ttotal: 3.13s\tremaining: 207ms\n",
      "938:\tlearn: 300309.5119621\ttotal: 3.14s\tremaining: 204ms\n",
      "939:\tlearn: 300270.5911205\ttotal: 3.14s\tremaining: 201ms\n",
      "940:\tlearn: 300226.9431794\ttotal: 3.15s\tremaining: 197ms\n",
      "941:\tlearn: 300120.5267446\ttotal: 3.15s\tremaining: 194ms\n",
      "942:\tlearn: 300089.5264337\ttotal: 3.15s\tremaining: 191ms\n",
      "943:\tlearn: 300014.6246358\ttotal: 3.16s\tremaining: 187ms\n",
      "944:\tlearn: 299979.3082826\ttotal: 3.16s\tremaining: 184ms\n",
      "945:\tlearn: 299969.1227637\ttotal: 3.17s\tremaining: 181ms\n",
      "946:\tlearn: 299906.7042510\ttotal: 3.17s\tremaining: 177ms\n",
      "947:\tlearn: 299853.7311076\ttotal: 3.17s\tremaining: 174ms\n",
      "948:\tlearn: 299820.0088245\ttotal: 3.18s\tremaining: 171ms\n",
      "949:\tlearn: 299750.9283956\ttotal: 3.18s\tremaining: 168ms\n",
      "950:\tlearn: 299664.6935841\ttotal: 3.19s\tremaining: 164ms\n",
      "951:\tlearn: 299650.7249821\ttotal: 3.19s\tremaining: 161ms\n",
      "952:\tlearn: 299606.2563455\ttotal: 3.19s\tremaining: 158ms\n",
      "953:\tlearn: 299483.5920779\ttotal: 3.2s\tremaining: 154ms\n",
      "954:\tlearn: 299466.2294919\ttotal: 3.2s\tremaining: 151ms\n",
      "955:\tlearn: 299351.0457850\ttotal: 3.21s\tremaining: 148ms\n",
      "956:\tlearn: 299263.7978477\ttotal: 3.21s\tremaining: 144ms\n",
      "957:\tlearn: 299173.8807452\ttotal: 3.21s\tremaining: 141ms\n",
      "958:\tlearn: 299073.2769800\ttotal: 3.22s\tremaining: 138ms\n",
      "959:\tlearn: 299005.4934208\ttotal: 3.22s\tremaining: 134ms\n",
      "960:\tlearn: 298957.9378565\ttotal: 3.23s\tremaining: 131ms\n",
      "961:\tlearn: 298889.6714296\ttotal: 3.23s\tremaining: 128ms\n",
      "962:\tlearn: 298855.7513101\ttotal: 3.24s\tremaining: 124ms\n",
      "963:\tlearn: 298795.1495527\ttotal: 3.24s\tremaining: 121ms\n",
      "964:\tlearn: 298737.2838666\ttotal: 3.24s\tremaining: 118ms\n",
      "965:\tlearn: 298654.6779574\ttotal: 3.25s\tremaining: 114ms\n",
      "966:\tlearn: 298645.0775295\ttotal: 3.25s\tremaining: 111ms\n",
      "967:\tlearn: 298488.0112833\ttotal: 3.26s\tremaining: 108ms\n",
      "968:\tlearn: 298455.5603550\ttotal: 3.26s\tremaining: 104ms\n",
      "969:\tlearn: 298320.0268939\ttotal: 3.27s\tremaining: 101ms\n",
      "970:\tlearn: 298274.9846207\ttotal: 3.28s\tremaining: 97.9ms\n",
      "971:\tlearn: 298254.4215151\ttotal: 3.28s\tremaining: 94.5ms\n",
      "972:\tlearn: 298168.0953276\ttotal: 3.28s\tremaining: 91.1ms\n",
      "973:\tlearn: 298041.3645102\ttotal: 3.29s\tremaining: 87.8ms\n",
      "974:\tlearn: 297962.5452381\ttotal: 3.29s\tremaining: 84.4ms\n",
      "975:\tlearn: 297872.6604414\ttotal: 3.3s\tremaining: 81.1ms\n",
      "976:\tlearn: 297849.5820290\ttotal: 3.3s\tremaining: 77.7ms\n",
      "977:\tlearn: 297840.8950648\ttotal: 3.3s\tremaining: 74.3ms\n",
      "978:\tlearn: 297824.7522312\ttotal: 3.31s\tremaining: 71ms\n",
      "979:\tlearn: 297803.2736051\ttotal: 3.31s\tremaining: 67.7ms\n",
      "980:\tlearn: 297757.1494966\ttotal: 3.32s\tremaining: 64.3ms\n",
      "981:\tlearn: 297735.6656399\ttotal: 3.32s\tremaining: 60.9ms\n",
      "982:\tlearn: 297599.1273849\ttotal: 3.33s\tremaining: 57.6ms\n",
      "983:\tlearn: 297495.7603986\ttotal: 3.33s\tremaining: 54.2ms\n",
      "984:\tlearn: 297382.8503160\ttotal: 3.34s\tremaining: 50.8ms\n",
      "985:\tlearn: 297287.6396796\ttotal: 3.34s\tremaining: 47.4ms\n",
      "986:\tlearn: 297195.6165392\ttotal: 3.34s\tremaining: 44.1ms\n",
      "987:\tlearn: 297123.8760661\ttotal: 3.35s\tremaining: 40.7ms\n",
      "988:\tlearn: 297035.8824044\ttotal: 3.35s\tremaining: 37.3ms\n",
      "989:\tlearn: 296998.9839599\ttotal: 3.36s\tremaining: 33.9ms\n",
      "990:\tlearn: 296925.8492921\ttotal: 3.36s\tremaining: 30.5ms\n",
      "991:\tlearn: 296857.1552133\ttotal: 3.36s\tremaining: 27.1ms\n",
      "992:\tlearn: 296787.1592384\ttotal: 3.37s\tremaining: 23.7ms\n",
      "993:\tlearn: 296723.5658719\ttotal: 3.37s\tremaining: 20.4ms\n",
      "994:\tlearn: 296626.4643210\ttotal: 3.38s\tremaining: 17ms\n",
      "995:\tlearn: 296587.8228752\ttotal: 3.38s\tremaining: 13.6ms\n",
      "996:\tlearn: 296546.6518757\ttotal: 3.38s\tremaining: 10.2ms\n",
      "997:\tlearn: 296464.4848705\ttotal: 3.39s\tremaining: 6.79ms\n",
      "998:\tlearn: 296401.4193847\ttotal: 3.39s\tremaining: 3.4ms\n",
      "999:\tlearn: 296254.4145183\ttotal: 3.4s\tremaining: 0us\n"
     ]
    },
    {
     "data": {
      "text/plain": [
       "<catboost.core.CatBoostRegressor at 0x7d8de7c35fc0>"
      ]
     },
     "execution_count": 15,
     "metadata": {},
     "output_type": "execute_result"
    }
   ],
   "source": [
    "import catboost as cb\n",
    "model = cb.CatBoostRegressor()\n",
    "model.fit(train_1, y_train)"
   ]
  },
  {
   "cell_type": "code",
   "execution_count": 16,
   "id": "f1552478",
   "metadata": {
    "execution": {
     "iopub.execute_input": "2023-06-22T15:30:45.815805Z",
     "iopub.status.busy": "2023-06-22T15:30:45.815400Z",
     "iopub.status.idle": "2023-06-22T15:30:45.842550Z",
     "shell.execute_reply": "2023-06-22T15:30:45.841286Z"
    },
    "papermill": {
     "duration": 0.051016,
     "end_time": "2023-06-22T15:30:45.845677",
     "exception": false,
     "start_time": "2023-06-22T15:30:45.794661",
     "status": "completed"
    },
    "tags": []
   },
   "outputs": [],
   "source": [
    "pred=model.predict(test_1)"
   ]
  },
  {
   "cell_type": "code",
   "execution_count": 17,
   "id": "a0372776",
   "metadata": {
    "execution": {
     "iopub.execute_input": "2023-06-22T15:30:45.876684Z",
     "iopub.status.busy": "2023-06-22T15:30:45.875979Z",
     "iopub.status.idle": "2023-06-22T15:30:45.907089Z",
     "shell.execute_reply": "2023-06-22T15:30:45.905633Z"
    },
    "papermill": {
     "duration": 0.049852,
     "end_time": "2023-06-22T15:30:45.909981",
     "exception": false,
     "start_time": "2023-06-22T15:30:45.860129",
     "status": "completed"
    },
    "tags": []
   },
   "outputs": [
    {
     "data": {
      "text/html": [
       "<div>\n",
       "<style scoped>\n",
       "    .dataframe tbody tr th:only-of-type {\n",
       "        vertical-align: middle;\n",
       "    }\n",
       "\n",
       "    .dataframe tbody tr th {\n",
       "        vertical-align: top;\n",
       "    }\n",
       "\n",
       "    .dataframe thead th {\n",
       "        text-align: right;\n",
       "    }\n",
       "</style>\n",
       "<table border=\"1\" class=\"dataframe\">\n",
       "  <thead>\n",
       "    <tr style=\"text-align: right;\">\n",
       "      <th></th>\n",
       "      <th>Photo</th>\n",
       "      <th>Value</th>\n",
       "    </tr>\n",
       "  </thead>\n",
       "  <tbody>\n",
       "    <tr>\n",
       "      <th>0</th>\n",
       "      <td>https://cdn.sofifa.com/players/212/198/22_60.png</td>\n",
       "      <td>6.919338e+07</td>\n",
       "    </tr>\n",
       "    <tr>\n",
       "      <th>1</th>\n",
       "      <td>https://cdn.sofifa.com/players/209/658/22_60.png</td>\n",
       "      <td>5.463014e+07</td>\n",
       "    </tr>\n",
       "    <tr>\n",
       "      <th>2</th>\n",
       "      <td>https://cdn.sofifa.com/players/176/580/22_60.png</td>\n",
       "      <td>2.784016e+07</td>\n",
       "    </tr>\n",
       "    <tr>\n",
       "      <th>3</th>\n",
       "      <td>https://cdn.sofifa.com/players/192/985/22_60.png</td>\n",
       "      <td>8.448244e+07</td>\n",
       "    </tr>\n",
       "    <tr>\n",
       "      <th>4</th>\n",
       "      <td>https://cdn.sofifa.com/players/224/334/22_60.png</td>\n",
       "      <td>2.798938e+07</td>\n",
       "    </tr>\n",
       "  </tbody>\n",
       "</table>\n",
       "</div>"
      ],
      "text/plain": [
       "                                              Photo         Value\n",
       "0  https://cdn.sofifa.com/players/212/198/22_60.png  6.919338e+07\n",
       "1  https://cdn.sofifa.com/players/209/658/22_60.png  5.463014e+07\n",
       "2  https://cdn.sofifa.com/players/176/580/22_60.png  2.784016e+07\n",
       "3  https://cdn.sofifa.com/players/192/985/22_60.png  8.448244e+07\n",
       "4  https://cdn.sofifa.com/players/224/334/22_60.png  2.798938e+07"
      ]
     },
     "execution_count": 17,
     "metadata": {},
     "output_type": "execute_result"
    }
   ],
   "source": [
    "output = pd.DataFrame({'Photo':test_data['Photo'],'Value': pred})  # Create the DataFrame with the 'Value' column\n",
    "output.head()"
   ]
  },
  {
   "cell_type": "markdown",
   "id": "bd8165c1",
   "metadata": {
    "papermill": {
     "duration": 0.019489,
     "end_time": "2023-06-22T15:30:45.945520",
     "exception": false,
     "start_time": "2023-06-22T15:30:45.926031",
     "status": "completed"
    },
    "tags": []
   },
   "source": [
    "checking data type"
   ]
  },
  {
   "cell_type": "code",
   "execution_count": 18,
   "id": "dc259a25",
   "metadata": {
    "execution": {
     "iopub.execute_input": "2023-06-22T15:30:45.976861Z",
     "iopub.status.busy": "2023-06-22T15:30:45.976491Z",
     "iopub.status.idle": "2023-06-22T15:30:45.984007Z",
     "shell.execute_reply": "2023-06-22T15:30:45.982798Z"
    },
    "papermill": {
     "duration": 0.026395,
     "end_time": "2023-06-22T15:30:45.986932",
     "exception": false,
     "start_time": "2023-06-22T15:30:45.960537",
     "status": "completed"
    },
    "tags": []
   },
   "outputs": [
    {
     "data": {
      "text/plain": [
       "54630139.728691995"
      ]
     },
     "execution_count": 18,
     "metadata": {},
     "output_type": "execute_result"
    }
   ],
   "source": [
    "output['Value'][1]"
   ]
  },
  {
   "cell_type": "markdown",
   "id": "e0ca517c",
   "metadata": {
    "papermill": {
     "duration": 0.014718,
     "end_time": "2023-06-22T15:30:46.016720",
     "exception": false,
     "start_time": "2023-06-22T15:30:46.002002",
     "status": "completed"
    },
    "tags": []
   },
   "source": [
    "hence output submission has been created"
   ]
  },
  {
   "cell_type": "markdown",
   "id": "70d42ed4",
   "metadata": {
    "papermill": {
     "duration": 0.014619,
     "end_time": "2023-06-22T15:30:46.046251",
     "exception": false,
     "start_time": "2023-06-22T15:30:46.031632",
     "status": "completed"
    },
    "tags": []
   },
   "source": [
    "converting to a csv as needed"
   ]
  },
  {
   "cell_type": "code",
   "execution_count": 19,
   "id": "de21eb1f",
   "metadata": {
    "execution": {
     "iopub.execute_input": "2023-06-22T15:30:46.077597Z",
     "iopub.status.busy": "2023-06-22T15:30:46.077175Z",
     "iopub.status.idle": "2023-06-22T15:30:46.197594Z",
     "shell.execute_reply": "2023-06-22T15:30:46.196270Z"
    },
    "papermill": {
     "duration": 0.139332,
     "end_time": "2023-06-22T15:30:46.200484",
     "exception": false,
     "start_time": "2023-06-22T15:30:46.061152",
     "status": "completed"
    },
    "tags": []
   },
   "outputs": [
    {
     "name": "stdout",
     "output_type": "stream",
     "text": [
      "Submission saved successfully\n"
     ]
    }
   ],
   "source": [
    "output.to_csv('submissions.csv',index=False)\n",
    "print(\"Submission saved successfully\")"
   ]
  },
  {
   "cell_type": "code",
   "execution_count": null,
   "id": "0658196c",
   "metadata": {
    "papermill": {
     "duration": 0.01457,
     "end_time": "2023-06-22T15:30:46.230489",
     "exception": false,
     "start_time": "2023-06-22T15:30:46.215919",
     "status": "completed"
    },
    "tags": []
   },
   "outputs": [],
   "source": []
  }
 ],
 "metadata": {
  "kernelspec": {
   "display_name": "Python 3",
   "language": "python",
   "name": "python3"
  },
  "language_info": {
   "codemirror_mode": {
    "name": "ipython",
    "version": 3
   },
   "file_extension": ".py",
   "mimetype": "text/x-python",
   "name": "python",
   "nbconvert_exporter": "python",
   "pygments_lexer": "ipython3",
   "version": "3.10.10"
  },
  "papermill": {
   "default_parameters": {},
   "duration": 23.707055,
   "end_time": "2023-06-22T15:30:47.369462",
   "environment_variables": {},
   "exception": null,
   "input_path": "__notebook__.ipynb",
   "output_path": "__notebook__.ipynb",
   "parameters": {},
   "start_time": "2023-06-22T15:30:23.662407",
   "version": "2.4.0"
  }
 },
 "nbformat": 4,
 "nbformat_minor": 5
}
