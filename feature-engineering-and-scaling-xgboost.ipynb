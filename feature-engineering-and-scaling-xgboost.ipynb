{
 "cells": [
  {
   "cell_type": "code",
   "execution_count": 1,
   "id": "aa5c34a1",
   "metadata": {
    "execution": {
     "iopub.execute_input": "2023-06-22T18:19:45.503318Z",
     "iopub.status.busy": "2023-06-22T18:19:45.502872Z",
     "iopub.status.idle": "2023-06-22T18:19:45.517144Z",
     "shell.execute_reply": "2023-06-22T18:19:45.516262Z"
    },
    "papermill": {
     "duration": 0.035966,
     "end_time": "2023-06-22T18:19:45.519728",
     "exception": false,
     "start_time": "2023-06-22T18:19:45.483762",
     "status": "completed"
    },
    "tags": []
   },
   "outputs": [
    {
     "name": "stdout",
     "output_type": "stream",
     "text": [
      "/kaggle/input/mltiverse-join-comp/sample_submission.csv\n",
      "/kaggle/input/mltiverse-join-comp/train.csv\n",
      "/kaggle/input/mltiverse-join-comp/test.csv\n"
     ]
    }
   ],
   "source": [
    "## This Python 3 environment comes with many helpful analytics libraries installed\n",
    "# It is defined by the kaggle/python Docker image: https://github.com/kaggle/docker-python\n",
    "# For example, here's several helpful packages to load\n",
    "\n",
    "import numpy as np # linear algebra\n",
    "import pandas as pd # data processing, CSV file I/O (e.g. pd.read_csv)\n",
    "\n",
    "# Input data files are available in the read-only \"../input/\" directory\n",
    "# For example, running this (by clicking run or pressing Shift+Enter) will list all files under the input directory\n",
    "\n",
    "import os\n",
    "for dirname, _, filenames in os.walk('/kaggle/input'):\n",
    "    for filename in filenames:\n",
    "        print(os.path.join(dirname, filename))\n",
    "\n",
    "# You can write up to 20GB to the current directory (/kaggle/working/) that gets preserved as output when you create a version using \"Save & Run All\" \n",
    "# You can also write temporary files to /kaggle/temp/, but they won't be saved outside of the current session"
   ]
  },
  {
   "cell_type": "markdown",
   "id": "2b0ec449",
   "metadata": {
    "papermill": {
     "duration": 0.01625,
     "end_time": "2023-06-22T18:19:45.552914",
     "exception": false,
     "start_time": "2023-06-22T18:19:45.536664",
     "status": "completed"
    },
    "tags": []
   },
   "source": [
    "importing data"
   ]
  },
  {
   "cell_type": "code",
   "execution_count": 2,
   "id": "6acdf06d",
   "metadata": {
    "execution": {
     "iopub.execute_input": "2023-06-22T18:19:45.588560Z",
     "iopub.status.busy": "2023-06-22T18:19:45.587505Z",
     "iopub.status.idle": "2023-06-22T18:19:48.091689Z",
     "shell.execute_reply": "2023-06-22T18:19:48.090407Z"
    },
    "papermill": {
     "duration": 2.525233,
     "end_time": "2023-06-22T18:19:48.094640",
     "exception": false,
     "start_time": "2023-06-22T18:19:45.569407",
     "status": "completed"
    },
    "tags": []
   },
   "outputs": [],
   "source": [
    "train_data=pd.read_csv('/kaggle/input/mltiverse-join-comp/train.csv')\n",
    "test_data=pd.read_csv('/kaggle/input/mltiverse-join-comp/test.csv')\n",
    "sample=pd.read_csv('/kaggle/input/mltiverse-join-comp/sample_submission.csv')"
   ]
  },
  {
   "cell_type": "markdown",
   "id": "872f05e5",
   "metadata": {
    "papermill": {
     "duration": 0.017292,
     "end_time": "2023-06-22T18:19:48.129302",
     "exception": false,
     "start_time": "2023-06-22T18:19:48.112010",
     "status": "completed"
    },
    "tags": []
   },
   "source": [
    "making some comparisions"
   ]
  },
  {
   "cell_type": "code",
   "execution_count": 3,
   "id": "1736dbdf",
   "metadata": {
    "execution": {
     "iopub.execute_input": "2023-06-22T18:19:48.165542Z",
     "iopub.status.busy": "2023-06-22T18:19:48.165095Z",
     "iopub.status.idle": "2023-06-22T18:19:48.172697Z",
     "shell.execute_reply": "2023-06-22T18:19:48.171892Z"
    },
    "papermill": {
     "duration": 0.028142,
     "end_time": "2023-06-22T18:19:48.174787",
     "exception": false,
     "start_time": "2023-06-22T18:19:48.146645",
     "status": "completed"
    },
    "tags": []
   },
   "outputs": [
    {
     "data": {
      "text/plain": [
       "(16710, 2)"
      ]
     },
     "execution_count": 3,
     "metadata": {},
     "output_type": "execute_result"
    }
   ],
   "source": [
    "sample.shape"
   ]
  },
  {
   "cell_type": "code",
   "execution_count": 4,
   "id": "f2e99ed6",
   "metadata": {
    "execution": {
     "iopub.execute_input": "2023-06-22T18:19:48.210609Z",
     "iopub.status.busy": "2023-06-22T18:19:48.210183Z",
     "iopub.status.idle": "2023-06-22T18:19:48.217727Z",
     "shell.execute_reply": "2023-06-22T18:19:48.216605Z"
    },
    "papermill": {
     "duration": 0.028678,
     "end_time": "2023-06-22T18:19:48.220427",
     "exception": false,
     "start_time": "2023-06-22T18:19:48.191749",
     "status": "completed"
    },
    "tags": []
   },
   "outputs": [
    {
     "data": {
      "text/plain": [
       "(16710, 65)"
      ]
     },
     "execution_count": 4,
     "metadata": {},
     "output_type": "execute_result"
    }
   ],
   "source": [
    "test_data.shape"
   ]
  },
  {
   "cell_type": "markdown",
   "id": "39b3cb04",
   "metadata": {
    "papermill": {
     "duration": 0.016685,
     "end_time": "2023-06-22T18:19:48.254099",
     "exception": false,
     "start_time": "2023-06-22T18:19:48.237414",
     "status": "completed"
    },
    "tags": []
   },
   "source": [
    "checking if photo id is the same for both"
   ]
  },
  {
   "cell_type": "code",
   "execution_count": 5,
   "id": "747597e5",
   "metadata": {
    "execution": {
     "iopub.execute_input": "2023-06-22T18:19:48.292220Z",
     "iopub.status.busy": "2023-06-22T18:19:48.290982Z",
     "iopub.status.idle": "2023-06-22T18:19:48.308907Z",
     "shell.execute_reply": "2023-06-22T18:19:48.308067Z"
    },
    "papermill": {
     "duration": 0.039555,
     "end_time": "2023-06-22T18:19:48.311225",
     "exception": false,
     "start_time": "2023-06-22T18:19:48.271670",
     "status": "completed"
    },
    "tags": []
   },
   "outputs": [
    {
     "data": {
      "text/plain": [
       "True"
      ]
     },
     "execution_count": 5,
     "metadata": {},
     "output_type": "execute_result"
    }
   ],
   "source": [
    "(test_data['Photo'] == sample['Photo']).all()"
   ]
  },
  {
   "cell_type": "markdown",
   "id": "4c724094",
   "metadata": {
    "papermill": {
     "duration": 0.017151,
     "end_time": "2023-06-22T18:19:48.345442",
     "exception": false,
     "start_time": "2023-06-22T18:19:48.328291",
     "status": "completed"
    },
    "tags": []
   },
   "source": [
    "therefore it is the exact same"
   ]
  },
  {
   "cell_type": "markdown",
   "id": "eb9d24cc",
   "metadata": {
    "papermill": {
     "duration": 0.016689,
     "end_time": "2023-06-22T18:19:48.379513",
     "exception": false,
     "start_time": "2023-06-22T18:19:48.362824",
     "status": "completed"
    },
    "tags": []
   },
   "source": [
    "checking the number of rows and analysing test data"
   ]
  },
  {
   "cell_type": "code",
   "execution_count": 6,
   "id": "864b50d1",
   "metadata": {
    "execution": {
     "iopub.execute_input": "2023-06-22T18:19:48.416355Z",
     "iopub.status.busy": "2023-06-22T18:19:48.415023Z",
     "iopub.status.idle": "2023-06-22T18:19:48.422183Z",
     "shell.execute_reply": "2023-06-22T18:19:48.421001Z"
    },
    "papermill": {
     "duration": 0.027869,
     "end_time": "2023-06-22T18:19:48.424600",
     "exception": false,
     "start_time": "2023-06-22T18:19:48.396731",
     "status": "completed"
    },
    "tags": []
   },
   "outputs": [
    {
     "data": {
      "text/plain": [
       "(87642, 67)"
      ]
     },
     "execution_count": 6,
     "metadata": {},
     "output_type": "execute_result"
    }
   ],
   "source": [
    "train_data.shape"
   ]
  },
  {
   "cell_type": "code",
   "execution_count": 7,
   "id": "79637368",
   "metadata": {
    "execution": {
     "iopub.execute_input": "2023-06-22T18:19:48.461616Z",
     "iopub.status.busy": "2023-06-22T18:19:48.460398Z",
     "iopub.status.idle": "2023-06-22T18:19:48.509414Z",
     "shell.execute_reply": "2023-06-22T18:19:48.508245Z"
    },
    "papermill": {
     "duration": 0.070204,
     "end_time": "2023-06-22T18:19:48.512033",
     "exception": false,
     "start_time": "2023-06-22T18:19:48.441829",
     "status": "completed"
    },
    "tags": []
   },
   "outputs": [
    {
     "data": {
      "text/plain": [
       "74502"
      ]
     },
     "execution_count": 7,
     "metadata": {},
     "output_type": "execute_result"
    }
   ],
   "source": [
    "train_data['Photo'].nunique()"
   ]
  },
  {
   "cell_type": "code",
   "execution_count": 8,
   "id": "abbb1d18",
   "metadata": {
    "execution": {
     "iopub.execute_input": "2023-06-22T18:19:48.549302Z",
     "iopub.status.busy": "2023-06-22T18:19:48.548608Z",
     "iopub.status.idle": "2023-06-22T18:19:48.608264Z",
     "shell.execute_reply": "2023-06-22T18:19:48.607121Z"
    },
    "papermill": {
     "duration": 0.081403,
     "end_time": "2023-06-22T18:19:48.610995",
     "exception": false,
     "start_time": "2023-06-22T18:19:48.529592",
     "status": "completed"
    },
    "tags": []
   },
   "outputs": [
    {
     "data": {
      "text/plain": [
       "87642"
      ]
     },
     "execution_count": 8,
     "metadata": {},
     "output_type": "execute_result"
    }
   ],
   "source": [
    " train_data[['Photo', 'year']].drop_duplicates().shape[0]"
   ]
  },
  {
   "cell_type": "markdown",
   "id": "831d912a",
   "metadata": {
    "papermill": {
     "duration": 0.017234,
     "end_time": "2023-06-22T18:19:48.646646",
     "exception": false,
     "start_time": "2023-06-22T18:19:48.629412",
     "status": "completed"
    },
    "tags": []
   },
   "source": [
    "keeping only one row per id(the latest year in this case)"
   ]
  },
  {
   "cell_type": "markdown",
   "id": "dd5f2021",
   "metadata": {
    "papermill": {
     "duration": 0.017186,
     "end_time": "2023-06-22T18:19:48.681444",
     "exception": false,
     "start_time": "2023-06-22T18:19:48.664258",
     "status": "completed"
    },
    "tags": []
   },
   "source": [
    "first and foremost let me check for test data. the shape, unique ids, photo etc etc\n"
   ]
  },
  {
   "cell_type": "code",
   "execution_count": 9,
   "id": "23dc58cb",
   "metadata": {
    "execution": {
     "iopub.execute_input": "2023-06-22T18:19:48.718691Z",
     "iopub.status.busy": "2023-06-22T18:19:48.718301Z",
     "iopub.status.idle": "2023-06-22T18:19:48.727491Z",
     "shell.execute_reply": "2023-06-22T18:19:48.726451Z"
    },
    "papermill": {
     "duration": 0.030774,
     "end_time": "2023-06-22T18:19:48.729813",
     "exception": false,
     "start_time": "2023-06-22T18:19:48.699039",
     "status": "completed"
    },
    "tags": []
   },
   "outputs": [
    {
     "data": {
      "text/plain": [
       "True"
      ]
     },
     "execution_count": 9,
     "metadata": {},
     "output_type": "execute_result"
    }
   ],
   "source": [
    "test_data.shape[0]==test_data['ID'].nunique()"
   ]
  },
  {
   "cell_type": "markdown",
   "id": "5859a587",
   "metadata": {
    "papermill": {
     "duration": 0.017536,
     "end_time": "2023-06-22T18:19:48.765338",
     "exception": false,
     "start_time": "2023-06-22T18:19:48.747802",
     "status": "completed"
    },
    "tags": []
   },
   "source": [
    "therefore the ids and photos are linearly mapped, so should only keep one id for training data"
   ]
  },
  {
   "cell_type": "code",
   "execution_count": 10,
   "id": "b973caea",
   "metadata": {
    "execution": {
     "iopub.execute_input": "2023-06-22T18:19:48.802683Z",
     "iopub.status.busy": "2023-06-22T18:19:48.801844Z",
     "iopub.status.idle": "2023-06-22T18:19:48.958525Z",
     "shell.execute_reply": "2023-06-22T18:19:48.957368Z"
    },
    "papermill": {
     "duration": 0.17811,
     "end_time": "2023-06-22T18:19:48.960983",
     "exception": false,
     "start_time": "2023-06-22T18:19:48.782873",
     "status": "completed"
    },
    "tags": []
   },
   "outputs": [],
   "source": [
    "# Sort the train_data DataFrame by 'ID' and 'year' in descending order\n",
    "train_data_sorted = train_data.sort_values(by=['ID', 'year'], ascending=[True, False])\n",
    "\n",
    "# Drop duplicate 'ID' values, keeping only the first occurrence (which corresponds to the latest year)\n",
    "train_data_1 = train_data_sorted.drop_duplicates(subset='ID', keep='first')\n",
    "\n",
    "# Reset the index of the new dataset\n",
    "train_data_1 = train_data_1.reset_index(drop=True)"
   ]
  },
  {
   "cell_type": "code",
   "execution_count": 11,
   "id": "fdf8ec2f",
   "metadata": {
    "execution": {
     "iopub.execute_input": "2023-06-22T18:19:48.999756Z",
     "iopub.status.busy": "2023-06-22T18:19:48.998967Z",
     "iopub.status.idle": "2023-06-22T18:19:49.006214Z",
     "shell.execute_reply": "2023-06-22T18:19:49.005084Z"
    },
    "papermill": {
     "duration": 0.029207,
     "end_time": "2023-06-22T18:19:49.008671",
     "exception": false,
     "start_time": "2023-06-22T18:19:48.979464",
     "status": "completed"
    },
    "tags": []
   },
   "outputs": [
    {
     "data": {
      "text/plain": [
       "(33699, 67)"
      ]
     },
     "execution_count": 11,
     "metadata": {},
     "output_type": "execute_result"
    }
   ],
   "source": [
    "train_data_1.shape"
   ]
  },
  {
   "cell_type": "markdown",
   "id": "136f9e9f",
   "metadata": {
    "papermill": {
     "duration": 0.017473,
     "end_time": "2023-06-22T18:19:49.044583",
     "exception": false,
     "start_time": "2023-06-22T18:19:49.027110",
     "status": "completed"
    },
    "tags": []
   },
   "source": [
    "feature engineering some columns"
   ]
  },
  {
   "cell_type": "code",
   "execution_count": 12,
   "id": "062db72d",
   "metadata": {
    "execution": {
     "iopub.execute_input": "2023-06-22T18:19:49.081884Z",
     "iopub.status.busy": "2023-06-22T18:19:49.081499Z",
     "iopub.status.idle": "2023-06-22T18:19:49.093527Z",
     "shell.execute_reply": "2023-06-22T18:19:49.092238Z"
    },
    "papermill": {
     "duration": 0.033773,
     "end_time": "2023-06-22T18:19:49.096107",
     "exception": false,
     "start_time": "2023-06-22T18:19:49.062334",
     "status": "completed"
    },
    "tags": []
   },
   "outputs": [
    {
     "data": {
      "text/plain": [
       "array(['<span class=\"pos pos29\">RES', '<span class=\"pos pos15\">LCM',\n",
       "       '<span class=\"pos pos18\">CAM', '<span class=\"pos pos28\">SUB', nan,\n",
       "       '<span class=\"pos pos0\">GK', '<span class=\"pos pos10\">CDM',\n",
       "       '<span class=\"pos pos5\">CB', '<span class=\"pos pos4\">RCB',\n",
       "       '<span class=\"pos pos25\">ST', '<span class=\"pos pos6\">LCB',\n",
       "       '<span class=\"pos pos14\">CM', '<span class=\"pos pos26\">LS',\n",
       "       '<span class=\"pos pos9\">RDM', '<span class=\"pos pos13\">RCM',\n",
       "       '<span class=\"pos pos16\">LM', '<span class=\"pos pos19\">LAM',\n",
       "       '<span class=\"pos pos11\">LDM', '<span class=\"pos pos3\">RB',\n",
       "       '<span class=\"pos pos12\">RM', '<span class=\"pos pos21\">CF',\n",
       "       '<span class=\"pos pos24\">RS', '<span class=\"pos pos23\">RW',\n",
       "       '<span class=\"pos pos7\">LB', '<span class=\"pos pos27\">LW',\n",
       "       '<span class=\"pos pos8\">LWB', '<span class=\"pos pos2\">RWB',\n",
       "       '<span class=\"pos pos17\">RAM', '<span class=\"pos pos22\">LF',\n",
       "       '<span class=\"pos pos20\">RF'], dtype=object)"
      ]
     },
     "execution_count": 12,
     "metadata": {},
     "output_type": "execute_result"
    }
   ],
   "source": [
    "train_data_1['Position'].unique()"
   ]
  },
  {
   "cell_type": "code",
   "execution_count": 13,
   "id": "4461b0e2",
   "metadata": {
    "execution": {
     "iopub.execute_input": "2023-06-22T18:19:49.134498Z",
     "iopub.status.busy": "2023-06-22T18:19:49.134074Z",
     "iopub.status.idle": "2023-06-22T18:19:49.141400Z",
     "shell.execute_reply": "2023-06-22T18:19:49.140219Z"
    },
    "papermill": {
     "duration": 0.029196,
     "end_time": "2023-06-22T18:19:49.143824",
     "exception": false,
     "start_time": "2023-06-22T18:19:49.114628",
     "status": "completed"
    },
    "tags": []
   },
   "outputs": [
    {
     "data": {
      "text/plain": [
       "dtype('O')"
      ]
     },
     "execution_count": 13,
     "metadata": {},
     "output_type": "execute_result"
    }
   ],
   "source": [
    "test_data['Position'].dtype"
   ]
  },
  {
   "cell_type": "code",
   "execution_count": 14,
   "id": "28f787f5",
   "metadata": {
    "execution": {
     "iopub.execute_input": "2023-06-22T18:19:49.182429Z",
     "iopub.status.busy": "2023-06-22T18:19:49.182013Z",
     "iopub.status.idle": "2023-06-22T18:19:49.217595Z",
     "shell.execute_reply": "2023-06-22T18:19:49.216437Z"
    },
    "papermill": {
     "duration": 0.058061,
     "end_time": "2023-06-22T18:19:49.220429",
     "exception": false,
     "start_time": "2023-06-22T18:19:49.162368",
     "status": "completed"
    },
    "tags": []
   },
   "outputs": [],
   "source": [
    "train_data_1['Position'] = train_data_1['Position'].astype(str)\n",
    "train_data_1['Position'] = train_data_1['Position'].str[-3:]"
   ]
  },
  {
   "cell_type": "code",
   "execution_count": 15,
   "id": "9df90e44",
   "metadata": {
    "execution": {
     "iopub.execute_input": "2023-06-22T18:19:49.259246Z",
     "iopub.status.busy": "2023-06-22T18:19:49.258810Z",
     "iopub.status.idle": "2023-06-22T18:19:49.270003Z",
     "shell.execute_reply": "2023-06-22T18:19:49.268737Z"
    },
    "papermill": {
     "duration": 0.03321,
     "end_time": "2023-06-22T18:19:49.272314",
     "exception": false,
     "start_time": "2023-06-22T18:19:49.239104",
     "status": "completed"
    },
    "tags": []
   },
   "outputs": [
    {
     "data": {
      "text/plain": [
       "array(['RES', 'LCM', 'CAM', 'SUB', 'nan', '>GK', 'CDM', '>CB', 'RCB',\n",
       "       '>ST', 'LCB', '>CM', '>LS', 'RDM', 'RCM', '>LM', 'LAM', 'LDM',\n",
       "       '>RB', '>RM', '>CF', '>RS', '>RW', '>LB', '>LW', 'LWB', 'RWB',\n",
       "       'RAM', '>LF', '>RF'], dtype=object)"
      ]
     },
     "execution_count": 15,
     "metadata": {},
     "output_type": "execute_result"
    }
   ],
   "source": [
    "train_data_1['Position'].unique()"
   ]
  },
  {
   "cell_type": "markdown",
   "id": "8816ba5f",
   "metadata": {
    "papermill": {
     "duration": 0.018035,
     "end_time": "2023-06-22T18:19:49.308734",
     "exception": false,
     "start_time": "2023-06-22T18:19:49.290699",
     "status": "completed"
    },
    "tags": []
   },
   "source": [
    "trying to remove the '>'"
   ]
  },
  {
   "cell_type": "code",
   "execution_count": 16,
   "id": "b1bae3c8",
   "metadata": {
    "execution": {
     "iopub.execute_input": "2023-06-22T18:19:49.348004Z",
     "iopub.status.busy": "2023-06-22T18:19:49.346890Z",
     "iopub.status.idle": "2023-06-22T18:19:49.415298Z",
     "shell.execute_reply": "2023-06-22T18:19:49.414431Z"
    },
    "papermill": {
     "duration": 0.090755,
     "end_time": "2023-06-22T18:19:49.418011",
     "exception": false,
     "start_time": "2023-06-22T18:19:49.327256",
     "status": "completed"
    },
    "tags": []
   },
   "outputs": [],
   "source": [
    "# Remove '>' character from the beginning of each value in 'Position' column\n",
    "train_data_1['Position'] = train_data_1['Position'].str.lstrip('>')\n",
    "\n",
    "# Remove rows where 'Position' is NaN\n",
    "train_data_1 = train_data_1.dropna(subset=['Position'])"
   ]
  },
  {
   "cell_type": "markdown",
   "id": "3c5d215d",
   "metadata": {
    "papermill": {
     "duration": 0.018042,
     "end_time": "2023-06-22T18:19:49.455309",
     "exception": false,
     "start_time": "2023-06-22T18:19:49.437267",
     "status": "completed"
    },
    "tags": []
   },
   "source": [
    "removing all the nan values"
   ]
  },
  {
   "cell_type": "code",
   "execution_count": 17,
   "id": "5fb85faf",
   "metadata": {
    "execution": {
     "iopub.execute_input": "2023-06-22T18:19:49.494587Z",
     "iopub.status.busy": "2023-06-22T18:19:49.494147Z",
     "iopub.status.idle": "2023-06-22T18:19:49.523441Z",
     "shell.execute_reply": "2023-06-22T18:19:49.522375Z"
    },
    "papermill": {
     "duration": 0.052562,
     "end_time": "2023-06-22T18:19:49.526514",
     "exception": false,
     "start_time": "2023-06-22T18:19:49.473952",
     "status": "completed"
    },
    "tags": []
   },
   "outputs": [],
   "source": [
    "train_data_1 = train_data_1[train_data_1['Position'] != 'nan']"
   ]
  },
  {
   "cell_type": "code",
   "execution_count": 18,
   "id": "455d377e",
   "metadata": {
    "execution": {
     "iopub.execute_input": "2023-06-22T18:19:49.565716Z",
     "iopub.status.busy": "2023-06-22T18:19:49.565284Z",
     "iopub.status.idle": "2023-06-22T18:19:49.576133Z",
     "shell.execute_reply": "2023-06-22T18:19:49.574936Z"
    },
    "papermill": {
     "duration": 0.033255,
     "end_time": "2023-06-22T18:19:49.578668",
     "exception": false,
     "start_time": "2023-06-22T18:19:49.545413",
     "status": "completed"
    },
    "tags": []
   },
   "outputs": [
    {
     "data": {
      "text/plain": [
       "array(['RES', 'LCM', 'CAM', 'SUB', 'GK', 'CDM', 'CB', 'RCB', 'ST', 'LCB',\n",
       "       'CM', 'LS', 'RDM', 'RCM', 'LM', 'LAM', 'LDM', 'RB', 'RM', 'CF',\n",
       "       'RS', 'RW', 'LB', 'LW', 'LWB', 'RWB', 'RAM', 'LF', 'RF'],\n",
       "      dtype=object)"
      ]
     },
     "execution_count": 18,
     "metadata": {},
     "output_type": "execute_result"
    }
   ],
   "source": [
    "train_data_1['Position'].unique()"
   ]
  },
  {
   "cell_type": "markdown",
   "id": "080c58ae",
   "metadata": {
    "papermill": {
     "duration": 0.018115,
     "end_time": "2023-06-22T18:19:49.615096",
     "exception": false,
     "start_time": "2023-06-22T18:19:49.596981",
     "status": "completed"
    },
    "tags": []
   },
   "source": [
    "doing the exact same thing for the test dataset now"
   ]
  },
  {
   "cell_type": "code",
   "execution_count": 19,
   "id": "16f8daa3",
   "metadata": {
    "execution": {
     "iopub.execute_input": "2023-06-22T18:19:49.653830Z",
     "iopub.status.busy": "2023-06-22T18:19:49.653439Z",
     "iopub.status.idle": "2023-06-22T18:19:49.658057Z",
     "shell.execute_reply": "2023-06-22T18:19:49.656898Z"
    },
    "papermill": {
     "duration": 0.027147,
     "end_time": "2023-06-22T18:19:49.660607",
     "exception": false,
     "start_time": "2023-06-22T18:19:49.633460",
     "status": "completed"
    },
    "tags": []
   },
   "outputs": [],
   "source": [
    "# test_data['Position'] = test_data['Position'].astype(str)\n",
    "# test_data['Position'] = test_data['Position'].str[-3:]  # Remove '>' character from the beginning of each value in 'Position' column\n",
    "# test_data['Position'] = test_data['Position'].str.lstrip('>')\n",
    "# test_data = test_data[test_data['Position'] != 'nan']  # Remove rows where 'Position' is 'nan'"
   ]
  },
  {
   "cell_type": "markdown",
   "id": "f4b05652",
   "metadata": {
    "papermill": {
     "duration": 0.018005,
     "end_time": "2023-06-22T18:19:49.697351",
     "exception": false,
     "start_time": "2023-06-22T18:19:49.679346",
     "status": "completed"
    },
    "tags": []
   },
   "source": [
    "engineering height by converting it completely into inches for training and test data"
   ]
  },
  {
   "cell_type": "code",
   "execution_count": 20,
   "id": "29f916df",
   "metadata": {
    "execution": {
     "iopub.execute_input": "2023-06-22T18:19:49.736497Z",
     "iopub.status.busy": "2023-06-22T18:19:49.735716Z",
     "iopub.status.idle": "2023-06-22T18:19:49.822480Z",
     "shell.execute_reply": "2023-06-22T18:19:49.821158Z"
    },
    "papermill": {
     "duration": 0.11012,
     "end_time": "2023-06-22T18:19:49.825819",
     "exception": false,
     "start_time": "2023-06-22T18:19:49.715699",
     "status": "completed"
    },
    "tags": []
   },
   "outputs": [],
   "source": [
    "# Convert feet and inches to inches\n",
    "train_data_1['Height'] = train_data_1['Height'].apply(lambda x: int(x.split(\"'\")[0]) * 12 + int(x.split(\"'\")[1]))\n",
    "# Convert 'Height' column to integer data type\n",
    "train_data_1['Height'] = train_data_1['Height'].astype(float)\n",
    "# Convert centimeters to inches\n",
    "test_data['Height'] = test_data['Height'].apply(lambda x: int(x[:-2]) / 2.54)\n",
    "# Convert 'Height' column to float data type\n",
    "test_data['Height'] = test_data['Height'].astype(float)\n",
    "# Convert inches to meters\n",
    "train_data_1['Height'] = train_data_1['Height'] * 0.0254\n",
    "test_data['Height'] = test_data['Height'] * 0.0254"
   ]
  },
  {
   "cell_type": "markdown",
   "id": "5c95745f",
   "metadata": {
    "papermill": {
     "duration": 0.018165,
     "end_time": "2023-06-22T18:19:49.862447",
     "exception": false,
     "start_time": "2023-06-22T18:19:49.844282",
     "status": "completed"
    },
    "tags": []
   },
   "source": [
    "engineeering weight for train and test"
   ]
  },
  {
   "cell_type": "code",
   "execution_count": 21,
   "id": "d1f0b455",
   "metadata": {
    "execution": {
     "iopub.execute_input": "2023-06-22T18:19:49.901454Z",
     "iopub.status.busy": "2023-06-22T18:19:49.900806Z",
     "iopub.status.idle": "2023-06-22T18:19:49.984525Z",
     "shell.execute_reply": "2023-06-22T18:19:49.983196Z"
    },
    "papermill": {
     "duration": 0.106846,
     "end_time": "2023-06-22T18:19:49.987572",
     "exception": false,
     "start_time": "2023-06-22T18:19:49.880726",
     "status": "completed"
    },
    "tags": []
   },
   "outputs": [],
   "source": [
    "# Remove 'lbs' from 'Weight' values and convert pounds to kilograms\n",
    "train_data_1['Weight'] = train_data_1['Weight'].str.replace('lbs', '').astype(float) * 0.453592\n",
    "# Convert 'Weight' column to float data type\n",
    "train_data_1['Weight'] = train_data_1['Weight'].astype(float)\n",
    "train_data_1['Weight'].isna().sum()\n",
    "test_data['Weight'] = test_data['Weight'].str.replace('kg', '').astype(float)\n",
    "test_data['Weight'] = test_data['Weight'].astype(float)"
   ]
  },
  {
   "cell_type": "markdown",
   "id": "a9eb7e04",
   "metadata": {
    "papermill": {
     "duration": 0.018296,
     "end_time": "2023-06-22T18:19:50.024626",
     "exception": false,
     "start_time": "2023-06-22T18:19:50.006330",
     "status": "completed"
    },
    "tags": []
   },
   "source": [
    "calculating BMI"
   ]
  },
  {
   "cell_type": "code",
   "execution_count": 22,
   "id": "ccf155e4",
   "metadata": {
    "execution": {
     "iopub.execute_input": "2023-06-22T18:19:50.064274Z",
     "iopub.status.busy": "2023-06-22T18:19:50.063356Z",
     "iopub.status.idle": "2023-06-22T18:19:50.071953Z",
     "shell.execute_reply": "2023-06-22T18:19:50.070691Z"
    },
    "papermill": {
     "duration": 0.031637,
     "end_time": "2023-06-22T18:19:50.074679",
     "exception": false,
     "start_time": "2023-06-22T18:19:50.043042",
     "status": "completed"
    },
    "tags": []
   },
   "outputs": [],
   "source": [
    "train_data_1['BMI'] = train_data_1['Weight'] / (train_data_1['Height'] ** 2)\n",
    "test_data['BMI'] = test_data['Weight'] / (test_data['Height'] ** 2)"
   ]
  },
  {
   "cell_type": "markdown",
   "id": "567ed792",
   "metadata": {
    "papermill": {
     "duration": 0.018002,
     "end_time": "2023-06-22T18:19:50.111282",
     "exception": false,
     "start_time": "2023-06-22T18:19:50.093280",
     "status": "completed"
    },
    "tags": []
   },
   "source": [
    "calculating Potential difference"
   ]
  },
  {
   "cell_type": "code",
   "execution_count": 23,
   "id": "ca067284",
   "metadata": {
    "execution": {
     "iopub.execute_input": "2023-06-22T18:19:50.150061Z",
     "iopub.status.busy": "2023-06-22T18:19:50.149661Z",
     "iopub.status.idle": "2023-06-22T18:19:50.157843Z",
     "shell.execute_reply": "2023-06-22T18:19:50.156751Z"
    },
    "papermill": {
     "duration": 0.030974,
     "end_time": "2023-06-22T18:19:50.160603",
     "exception": false,
     "start_time": "2023-06-22T18:19:50.129629",
     "status": "completed"
    },
    "tags": []
   },
   "outputs": [],
   "source": [
    "train_data_1['Potential Difference'] = train_data_1['Overall'] - train_data_1['Potential']\n",
    "test_data['Potential Difference'] = test_data['Overall'] - test_data['Potential']"
   ]
  },
  {
   "cell_type": "markdown",
   "id": "782d6375",
   "metadata": {
    "papermill": {
     "duration": 0.018144,
     "end_time": "2023-06-22T18:19:50.197246",
     "exception": false,
     "start_time": "2023-06-22T18:19:50.179102",
     "status": "completed"
    },
    "tags": []
   },
   "source": [
    "creating features based on the skills "
   ]
  },
  {
   "cell_type": "markdown",
   "id": "8687749c",
   "metadata": {
    "papermill": {
     "duration": 0.018703,
     "end_time": "2023-06-22T18:19:50.234343",
     "exception": false,
     "start_time": "2023-06-22T18:19:50.215640",
     "status": "completed"
    },
    "tags": []
   },
   "source": [
    "imputing and calculating average in the skills for train and test data"
   ]
  },
  {
   "cell_type": "code",
   "execution_count": 24,
   "id": "ccb713fe",
   "metadata": {
    "execution": {
     "iopub.execute_input": "2023-06-22T18:19:50.273834Z",
     "iopub.status.busy": "2023-06-22T18:19:50.273165Z",
     "iopub.status.idle": "2023-06-22T18:19:50.357819Z",
     "shell.execute_reply": "2023-06-22T18:19:50.356493Z"
    },
    "papermill": {
     "duration": 0.10751,
     "end_time": "2023-06-22T18:19:50.360787",
     "exception": false,
     "start_time": "2023-06-22T18:19:50.253277",
     "status": "completed"
    },
    "tags": []
   },
   "outputs": [],
   "source": [
    "# Calculate average scores for attack, defense, midfield, and goalkeeping\n",
    "train_data_1['Attack'] = train_data_1[['Finishing', 'HeadingAccuracy', 'ShortPassing', 'Volleys',\n",
    "                                       'Dribbling', 'Curve', 'FKAccuracy', 'LongPassing', 'BallControl']].mean(axis=1)\n",
    "\n",
    "train_data_1['Defense'] = train_data_1[['Marking', 'StandingTackle', 'SlidingTackle', 'Interceptions']].mean(axis=1)\n",
    "\n",
    "train_data_1['Midfield'] = train_data_1[['Acceleration', 'SprintSpeed', 'Agility', 'Reactions', 'Balance',\n",
    "                                         'ShotPower', 'Jumping', 'Stamina', 'Strength']].mean(axis=1)\n",
    "\n",
    "train_data_1['Goalkeeping'] = train_data_1[['GKDiving', 'GKHandling', 'GKKicking', 'GKPositioning', 'GKReflexes']].mean(axis=1)\n",
    "\n",
    "\n",
    "#doing the same with test_data\n",
    "# Calculate average scores for attack, defense, midfield, and goalkeeping\n",
    "test_data['Attack'] = test_data[['Finishing', 'HeadingAccuracy', 'ShortPassing', 'Volleys',\n",
    "                                 'Dribbling', 'Curve', 'FKAccuracy', 'LongPassing', 'BallControl']].mean(axis=1)\n",
    "\n",
    "test_data['Defense'] = test_data[['Marking', 'StandingTackle', 'SlidingTackle', 'Interceptions']].mean(axis=1)\n",
    "\n",
    "test_data['Midfield'] = test_data[['Acceleration', 'SprintSpeed', 'Agility', 'Reactions', 'Balance',\n",
    "                                   'ShotPower', 'Jumping', 'Stamina', 'Strength']].mean(axis=1)\n",
    "\n",
    "test_data['Goalkeeping'] = test_data[['GKDiving', 'GKHandling', 'GKKicking', 'GKPositioning', 'GKReflexes']].mean(axis=1)\n"
   ]
  },
  {
   "cell_type": "markdown",
   "id": "7d634e1a",
   "metadata": {
    "papermill": {
     "duration": 0.018957,
     "end_time": "2023-06-22T18:19:50.398237",
     "exception": false,
     "start_time": "2023-06-22T18:19:50.379280",
     "status": "completed"
    },
    "tags": []
   },
   "source": [
    "doing some more eda/feature generation"
   ]
  },
  {
   "cell_type": "code",
   "execution_count": 25,
   "id": "4657fee8",
   "metadata": {
    "execution": {
     "iopub.execute_input": "2023-06-22T18:19:50.437998Z",
     "iopub.status.busy": "2023-06-22T18:19:50.437593Z",
     "iopub.status.idle": "2023-06-22T18:19:50.445725Z",
     "shell.execute_reply": "2023-06-22T18:19:50.444539Z"
    },
    "papermill": {
     "duration": 0.030419,
     "end_time": "2023-06-22T18:19:50.448191",
     "exception": false,
     "start_time": "2023-06-22T18:19:50.417772",
     "status": "completed"
    },
    "tags": []
   },
   "outputs": [
    {
     "data": {
      "text/plain": [
       "Index(['Unnamed: 0', 'ID', 'Name', 'Age', 'Photo', 'Nationality', 'Flag',\n",
       "       'Overall', 'Potential', 'Club', 'Club Logo', 'Value', 'Wage', 'Special',\n",
       "       'Preferred Foot', 'International Reputation', 'Weak Foot',\n",
       "       'Skill Moves', 'Work Rate', 'Body Type', 'Real Face', 'Position',\n",
       "       'Jersey Number', 'Joined', 'Loaned From', 'Contract Valid Until',\n",
       "       'Height', 'Weight', 'Crossing', 'Finishing', 'HeadingAccuracy',\n",
       "       'ShortPassing', 'Volleys', 'Dribbling', 'Curve', 'FKAccuracy',\n",
       "       'LongPassing', 'BallControl', 'Acceleration', 'SprintSpeed', 'Agility',\n",
       "       'Reactions', 'Balance', 'ShotPower', 'Jumping', 'Stamina', 'Strength',\n",
       "       'LongShots', 'Aggression', 'Interceptions', 'Positioning', 'Vision',\n",
       "       'Penalties', 'Composure', 'Marking', 'StandingTackle', 'SlidingTackle',\n",
       "       'GKDiving', 'GKHandling', 'GKKicking', 'GKPositioning', 'GKReflexes',\n",
       "       'Best Position', 'Best Overall Rating', 'year', 'Release Clause',\n",
       "       'DefensiveAwareness', 'BMI', 'Potential Difference', 'Attack',\n",
       "       'Defense', 'Midfield', 'Goalkeeping'],\n",
       "      dtype='object')"
      ]
     },
     "execution_count": 25,
     "metadata": {},
     "output_type": "execute_result"
    }
   ],
   "source": [
    "train_data_1.columns"
   ]
  },
  {
   "cell_type": "code",
   "execution_count": 26,
   "id": "ee38ad50",
   "metadata": {
    "execution": {
     "iopub.execute_input": "2023-06-22T18:19:50.487140Z",
     "iopub.status.busy": "2023-06-22T18:19:50.486758Z",
     "iopub.status.idle": "2023-06-22T18:19:50.510068Z",
     "shell.execute_reply": "2023-06-22T18:19:50.508947Z"
    },
    "papermill": {
     "duration": 0.046128,
     "end_time": "2023-06-22T18:19:50.512885",
     "exception": false,
     "start_time": "2023-06-22T18:19:50.466757",
     "status": "completed"
    },
    "tags": []
   },
   "outputs": [],
   "source": [
    "train_1=train_data_1[['Potential','Overall','Wage','International Reputation','Age','BMI','Potential Difference','Goalkeeping','Defense','Midfield','Attack']]\n",
    "test_1=test_data[['Potential','Overall','Wage','International Reputation','Age','BMI','Potential Difference','Goalkeeping','Defense','Midfield','Attack']]"
   ]
  },
  {
   "cell_type": "code",
   "execution_count": 27,
   "id": "8a3b4ecc",
   "metadata": {
    "execution": {
     "iopub.execute_input": "2023-06-22T18:19:50.552773Z",
     "iopub.status.busy": "2023-06-22T18:19:50.552396Z",
     "iopub.status.idle": "2023-06-22T18:19:50.559546Z",
     "shell.execute_reply": "2023-06-22T18:19:50.558484Z"
    },
    "papermill": {
     "duration": 0.02987,
     "end_time": "2023-06-22T18:19:50.561898",
     "exception": false,
     "start_time": "2023-06-22T18:19:50.532028",
     "status": "completed"
    },
    "tags": []
   },
   "outputs": [
    {
     "data": {
      "text/plain": [
       "(16710, 11)"
      ]
     },
     "execution_count": 27,
     "metadata": {},
     "output_type": "execute_result"
    }
   ],
   "source": [
    "test_1.shape"
   ]
  },
  {
   "cell_type": "markdown",
   "id": "d8ce7409",
   "metadata": {
    "papermill": {
     "duration": 0.018473,
     "end_time": "2023-06-22T18:19:50.599425",
     "exception": false,
     "start_time": "2023-06-22T18:19:50.580952",
     "status": "completed"
    },
    "tags": []
   },
   "source": [
    "find which data types are object"
   ]
  },
  {
   "cell_type": "code",
   "execution_count": 28,
   "id": "767f400d",
   "metadata": {
    "execution": {
     "iopub.execute_input": "2023-06-22T18:19:50.639095Z",
     "iopub.status.busy": "2023-06-22T18:19:50.638670Z",
     "iopub.status.idle": "2023-06-22T18:19:50.673881Z",
     "shell.execute_reply": "2023-06-22T18:19:50.672698Z"
    },
    "papermill": {
     "duration": 0.058432,
     "end_time": "2023-06-22T18:19:50.676677",
     "exception": false,
     "start_time": "2023-06-22T18:19:50.618245",
     "status": "completed"
    },
    "tags": []
   },
   "outputs": [
    {
     "data": {
      "text/html": [
       "<div>\n",
       "<style scoped>\n",
       "    .dataframe tbody tr th:only-of-type {\n",
       "        vertical-align: middle;\n",
       "    }\n",
       "\n",
       "    .dataframe tbody tr th {\n",
       "        vertical-align: top;\n",
       "    }\n",
       "\n",
       "    .dataframe thead th {\n",
       "        text-align: right;\n",
       "    }\n",
       "</style>\n",
       "<table border=\"1\" class=\"dataframe\">\n",
       "  <thead>\n",
       "    <tr style=\"text-align: right;\">\n",
       "      <th></th>\n",
       "      <th>Potential</th>\n",
       "      <th>Overall</th>\n",
       "      <th>Wage</th>\n",
       "      <th>International Reputation</th>\n",
       "      <th>Age</th>\n",
       "      <th>BMI</th>\n",
       "      <th>Potential Difference</th>\n",
       "      <th>Goalkeeping</th>\n",
       "      <th>Defense</th>\n",
       "      <th>Midfield</th>\n",
       "      <th>Attack</th>\n",
       "    </tr>\n",
       "  </thead>\n",
       "  <tbody>\n",
       "    <tr>\n",
       "      <th>0</th>\n",
       "      <td>69</td>\n",
       "      <td>69</td>\n",
       "      <td>€7K</td>\n",
       "      <td>2.0</td>\n",
       "      <td>33</td>\n",
       "      <td>24.547741</td>\n",
       "      <td>0</td>\n",
       "      <td>11.2</td>\n",
       "      <td>69.250000</td>\n",
       "      <td>69.555556</td>\n",
       "      <td>64.000000</td>\n",
       "    </tr>\n",
       "    <tr>\n",
       "      <th>1</th>\n",
       "      <td>71</td>\n",
       "      <td>71</td>\n",
       "      <td>€7K</td>\n",
       "      <td>1.0</td>\n",
       "      <td>37</td>\n",
       "      <td>20.518136</td>\n",
       "      <td>0</td>\n",
       "      <td>11.2</td>\n",
       "      <td>56.000000</td>\n",
       "      <td>62.000000</td>\n",
       "      <td>70.888889</td>\n",
       "    </tr>\n",
       "    <tr>\n",
       "      <th>2</th>\n",
       "      <td>71</td>\n",
       "      <td>71</td>\n",
       "      <td>€15K</td>\n",
       "      <td>2.0</td>\n",
       "      <td>33</td>\n",
       "      <td>23.775280</td>\n",
       "      <td>0</td>\n",
       "      <td>10.2</td>\n",
       "      <td>34.500000</td>\n",
       "      <td>56.666667</td>\n",
       "      <td>71.555556</td>\n",
       "    </tr>\n",
       "    <tr>\n",
       "      <th>3</th>\n",
       "      <td>70</td>\n",
       "      <td>70</td>\n",
       "      <td>€4K</td>\n",
       "      <td>1.0</td>\n",
       "      <td>35</td>\n",
       "      <td>22.377775</td>\n",
       "      <td>0</td>\n",
       "      <td>69.2</td>\n",
       "      <td>16.000000</td>\n",
       "      <td>50.111111</td>\n",
       "      <td>16.777778</td>\n",
       "    </tr>\n",
       "    <tr>\n",
       "      <th>4</th>\n",
       "      <td>82</td>\n",
       "      <td>68</td>\n",
       "      <td>€0</td>\n",
       "      <td>1.0</td>\n",
       "      <td>36</td>\n",
       "      <td>23.012574</td>\n",
       "      <td>-14</td>\n",
       "      <td>26.4</td>\n",
       "      <td>48.333333</td>\n",
       "      <td>59.333333</td>\n",
       "      <td>66.428571</td>\n",
       "    </tr>\n",
       "  </tbody>\n",
       "</table>\n",
       "</div>"
      ],
      "text/plain": [
       "   Potential  Overall  Wage  International Reputation  Age        BMI  \\\n",
       "0         69       69   €7K                       2.0   33  24.547741   \n",
       "1         71       71   €7K                       1.0   37  20.518136   \n",
       "2         71       71  €15K                       2.0   33  23.775280   \n",
       "3         70       70   €4K                       1.0   35  22.377775   \n",
       "4         82       68    €0                       1.0   36  23.012574   \n",
       "\n",
       "   Potential Difference  Goalkeeping    Defense   Midfield     Attack  \n",
       "0                     0         11.2  69.250000  69.555556  64.000000  \n",
       "1                     0         11.2  56.000000  62.000000  70.888889  \n",
       "2                     0         10.2  34.500000  56.666667  71.555556  \n",
       "3                     0         69.2  16.000000  50.111111  16.777778  \n",
       "4                   -14         26.4  48.333333  59.333333  66.428571  "
      ]
     },
     "execution_count": 28,
     "metadata": {},
     "output_type": "execute_result"
    }
   ],
   "source": [
    "train_1.head()"
   ]
  },
  {
   "cell_type": "markdown",
   "id": "c07bdf15",
   "metadata": {
    "papermill": {
     "duration": 0.018961,
     "end_time": "2023-06-22T18:19:50.714832",
     "exception": false,
     "start_time": "2023-06-22T18:19:50.695871",
     "status": "completed"
    },
    "tags": []
   },
   "source": [
    "train feature"
   ]
  },
  {
   "cell_type": "code",
   "execution_count": 29,
   "id": "15b732c0",
   "metadata": {
    "execution": {
     "iopub.execute_input": "2023-06-22T18:19:50.755757Z",
     "iopub.status.busy": "2023-06-22T18:19:50.755354Z",
     "iopub.status.idle": "2023-06-22T18:19:50.762837Z",
     "shell.execute_reply": "2023-06-22T18:19:50.761784Z"
    },
    "papermill": {
     "duration": 0.031389,
     "end_time": "2023-06-22T18:19:50.765342",
     "exception": false,
     "start_time": "2023-06-22T18:19:50.733953",
     "status": "completed"
    },
    "tags": []
   },
   "outputs": [],
   "source": [
    "y_train=train_data_1['Value']"
   ]
  },
  {
   "cell_type": "markdown",
   "id": "e814cdf1",
   "metadata": {
    "papermill": {
     "duration": 0.018799,
     "end_time": "2023-06-22T18:19:50.803289",
     "exception": false,
     "start_time": "2023-06-22T18:19:50.784490",
     "status": "completed"
    },
    "tags": []
   },
   "source": [
    "converting Value and Wage as per"
   ]
  },
  {
   "cell_type": "code",
   "execution_count": 30,
   "id": "2eee5cd7",
   "metadata": {
    "execution": {
     "iopub.execute_input": "2023-06-22T18:19:50.843508Z",
     "iopub.status.busy": "2023-06-22T18:19:50.843100Z",
     "iopub.status.idle": "2023-06-22T18:19:51.192725Z",
     "shell.execute_reply": "2023-06-22T18:19:51.191240Z"
    },
    "papermill": {
     "duration": 0.373054,
     "end_time": "2023-06-22T18:19:51.195417",
     "exception": false,
     "start_time": "2023-06-22T18:19:50.822363",
     "status": "completed"
    },
    "tags": []
   },
   "outputs": [
    {
     "name": "stderr",
     "output_type": "stream",
     "text": [
      "/tmp/ipykernel_20/3838849759.py:14: SettingWithCopyWarning: \n",
      "A value is trying to be set on a copy of a slice from a DataFrame.\n",
      "Try using .loc[row_indexer,col_indexer] = value instead\n",
      "\n",
      "See the caveats in the documentation: https://pandas.pydata.org/pandas-docs/stable/user_guide/indexing.html#returning-a-view-versus-a-copy\n",
      "  train_1['Wage'] = train_1['Wage'].apply(preprocess_wage)\n",
      "/tmp/ipykernel_20/3838849759.py:17: SettingWithCopyWarning: \n",
      "A value is trying to be set on a copy of a slice from a DataFrame.\n",
      "Try using .loc[row_indexer,col_indexer] = value instead\n",
      "\n",
      "See the caveats in the documentation: https://pandas.pydata.org/pandas-docs/stable/user_guide/indexing.html#returning-a-view-versus-a-copy\n",
      "  train_1['Wage'] = train_1['Wage'].astype(float)\n",
      "/tmp/ipykernel_20/3838849759.py:20: SettingWithCopyWarning: \n",
      "A value is trying to be set on a copy of a slice from a DataFrame.\n",
      "Try using .loc[row_indexer,col_indexer] = value instead\n",
      "\n",
      "See the caveats in the documentation: https://pandas.pydata.org/pandas-docs/stable/user_guide/indexing.html#returning-a-view-versus-a-copy\n",
      "  test_1['Wage'] = test_1['Wage'].apply(preprocess_wage)\n",
      "/tmp/ipykernel_20/3838849759.py:23: SettingWithCopyWarning: \n",
      "A value is trying to be set on a copy of a slice from a DataFrame.\n",
      "Try using .loc[row_indexer,col_indexer] = value instead\n",
      "\n",
      "See the caveats in the documentation: https://pandas.pydata.org/pandas-docs/stable/user_guide/indexing.html#returning-a-view-versus-a-copy\n",
      "  test_1['Wage'] = test_1['Wage'].astype(float)\n"
     ]
    }
   ],
   "source": [
    "import re\n",
    "# Define a function to preprocess the 'Wage' column\n",
    "def preprocess_wage(value):\n",
    "    value = re.sub(r'€', '', value)  # Remove euro symbol\n",
    "    if 'K' in value:\n",
    "        value = float(re.sub(r'[^0-9.]', '', value)) * 1000  # Remove 'K' and multiply by 1000\n",
    "    elif 'M' in value:\n",
    "        value = float(re.sub(r'[^0-9.]', '', value)) * 1000000  # Remove 'M' and multiply by 1000000\n",
    "    else:\n",
    "        value = float(value)\n",
    "    return value\n",
    "\n",
    "# Apply the preprocessing function to 'Wage' column in train_1 dataset\n",
    "train_1['Wage'] = train_1['Wage'].apply(preprocess_wage)\n",
    "\n",
    "# Convert the column to float data type\n",
    "train_1['Wage'] = train_1['Wage'].astype(float)\n",
    "\n",
    "# Apply the preprocessing function to 'Wage' column in train_1 dataset\n",
    "test_1['Wage'] = test_1['Wage'].apply(preprocess_wage)\n",
    "\n",
    "# Convert the column to float data type\n",
    "test_1['Wage'] = test_1['Wage'].astype(float)\n",
    "\n",
    "#Applying it to y_train too\n",
    "y_train=y_train.apply(preprocess_wage)\n",
    "\n",
    "#Convert the column to float data type\n",
    "y_train=y_train.astype(float)"
   ]
  },
  {
   "cell_type": "markdown",
   "id": "82d52025",
   "metadata": {
    "papermill": {
     "duration": 0.018741,
     "end_time": "2023-06-22T18:19:51.233252",
     "exception": false,
     "start_time": "2023-06-22T18:19:51.214511",
     "status": "completed"
    },
    "tags": []
   },
   "source": [
    "minmax scaling"
   ]
  },
  {
   "cell_type": "code",
   "execution_count": 31,
   "id": "9409d30a",
   "metadata": {
    "execution": {
     "iopub.execute_input": "2023-06-22T18:19:51.273550Z",
     "iopub.status.busy": "2023-06-22T18:19:51.273115Z",
     "iopub.status.idle": "2023-06-22T18:19:52.721042Z",
     "shell.execute_reply": "2023-06-22T18:19:52.720154Z"
    },
    "papermill": {
     "duration": 1.471204,
     "end_time": "2023-06-22T18:19:52.723757",
     "exception": false,
     "start_time": "2023-06-22T18:19:51.252553",
     "status": "completed"
    },
    "tags": []
   },
   "outputs": [],
   "source": [
    "from sklearn.preprocessing import MinMaxScaler\n",
    "\n",
    "# Initialize the MinMaxScaler\n",
    "scaler = MinMaxScaler()\n",
    "\n",
    "# Fit and transform the training data\n",
    "train_1_scaled = scaler.fit_transform(train_1)\n",
    "\n",
    "# Transform the test data (using the same scaler)\n",
    "test_1_scaled = scaler.transform(test_1)"
   ]
  },
  {
   "cell_type": "markdown",
   "id": "e6e1a7bf",
   "metadata": {
    "papermill": {
     "duration": 0.019504,
     "end_time": "2023-06-22T18:19:52.762457",
     "exception": false,
     "start_time": "2023-06-22T18:19:52.742953",
     "status": "completed"
    },
    "tags": []
   },
   "source": [
    "fitting model with  best parameters"
   ]
  },
  {
   "cell_type": "code",
   "execution_count": 32,
   "id": "f4d761c8",
   "metadata": {
    "execution": {
     "iopub.execute_input": "2023-06-22T18:19:52.804043Z",
     "iopub.status.busy": "2023-06-22T18:19:52.802966Z",
     "iopub.status.idle": "2023-06-22T18:20:02.135069Z",
     "shell.execute_reply": "2023-06-22T18:20:02.133738Z"
    },
    "papermill": {
     "duration": 9.355377,
     "end_time": "2023-06-22T18:20:02.137677",
     "exception": false,
     "start_time": "2023-06-22T18:19:52.782300",
     "status": "completed"
    },
    "tags": []
   },
   "outputs": [
    {
     "data": {
      "text/html": [
       "<style>#sk-container-id-1 {color: black;background-color: white;}#sk-container-id-1 pre{padding: 0;}#sk-container-id-1 div.sk-toggleable {background-color: white;}#sk-container-id-1 label.sk-toggleable__label {cursor: pointer;display: block;width: 100%;margin-bottom: 0;padding: 0.3em;box-sizing: border-box;text-align: center;}#sk-container-id-1 label.sk-toggleable__label-arrow:before {content: \"▸\";float: left;margin-right: 0.25em;color: #696969;}#sk-container-id-1 label.sk-toggleable__label-arrow:hover:before {color: black;}#sk-container-id-1 div.sk-estimator:hover label.sk-toggleable__label-arrow:before {color: black;}#sk-container-id-1 div.sk-toggleable__content {max-height: 0;max-width: 0;overflow: hidden;text-align: left;background-color: #f0f8ff;}#sk-container-id-1 div.sk-toggleable__content pre {margin: 0.2em;color: black;border-radius: 0.25em;background-color: #f0f8ff;}#sk-container-id-1 input.sk-toggleable__control:checked~div.sk-toggleable__content {max-height: 200px;max-width: 100%;overflow: auto;}#sk-container-id-1 input.sk-toggleable__control:checked~label.sk-toggleable__label-arrow:before {content: \"▾\";}#sk-container-id-1 div.sk-estimator input.sk-toggleable__control:checked~label.sk-toggleable__label {background-color: #d4ebff;}#sk-container-id-1 div.sk-label input.sk-toggleable__control:checked~label.sk-toggleable__label {background-color: #d4ebff;}#sk-container-id-1 input.sk-hidden--visually {border: 0;clip: rect(1px 1px 1px 1px);clip: rect(1px, 1px, 1px, 1px);height: 1px;margin: -1px;overflow: hidden;padding: 0;position: absolute;width: 1px;}#sk-container-id-1 div.sk-estimator {font-family: monospace;background-color: #f0f8ff;border: 1px dotted black;border-radius: 0.25em;box-sizing: border-box;margin-bottom: 0.5em;}#sk-container-id-1 div.sk-estimator:hover {background-color: #d4ebff;}#sk-container-id-1 div.sk-parallel-item::after {content: \"\";width: 100%;border-bottom: 1px solid gray;flex-grow: 1;}#sk-container-id-1 div.sk-label:hover label.sk-toggleable__label {background-color: #d4ebff;}#sk-container-id-1 div.sk-serial::before {content: \"\";position: absolute;border-left: 1px solid gray;box-sizing: border-box;top: 0;bottom: 0;left: 50%;z-index: 0;}#sk-container-id-1 div.sk-serial {display: flex;flex-direction: column;align-items: center;background-color: white;padding-right: 0.2em;padding-left: 0.2em;position: relative;}#sk-container-id-1 div.sk-item {position: relative;z-index: 1;}#sk-container-id-1 div.sk-parallel {display: flex;align-items: stretch;justify-content: center;background-color: white;position: relative;}#sk-container-id-1 div.sk-item::before, #sk-container-id-1 div.sk-parallel-item::before {content: \"\";position: absolute;border-left: 1px solid gray;box-sizing: border-box;top: 0;bottom: 0;left: 50%;z-index: -1;}#sk-container-id-1 div.sk-parallel-item {display: flex;flex-direction: column;z-index: 1;position: relative;background-color: white;}#sk-container-id-1 div.sk-parallel-item:first-child::after {align-self: flex-end;width: 50%;}#sk-container-id-1 div.sk-parallel-item:last-child::after {align-self: flex-start;width: 50%;}#sk-container-id-1 div.sk-parallel-item:only-child::after {width: 0;}#sk-container-id-1 div.sk-dashed-wrapped {border: 1px dashed gray;margin: 0 0.4em 0.5em 0.4em;box-sizing: border-box;padding-bottom: 0.4em;background-color: white;}#sk-container-id-1 div.sk-label label {font-family: monospace;font-weight: bold;display: inline-block;line-height: 1.2em;}#sk-container-id-1 div.sk-label-container {text-align: center;}#sk-container-id-1 div.sk-container {/* jupyter's `normalize.less` sets `[hidden] { display: none; }` but bootstrap.min.css set `[hidden] { display: none !important; }` so we also need the `!important` here to be able to override the default hidden behavior on the sphinx rendered scikit-learn.org. See: https://github.com/scikit-learn/scikit-learn/issues/21755 */display: inline-block !important;position: relative;}#sk-container-id-1 div.sk-text-repr-fallback {display: none;}</style><div id=\"sk-container-id-1\" class=\"sk-top-container\"><div class=\"sk-text-repr-fallback\"><pre>XGBRegressor(base_score=None, booster=None, callbacks=None,\n",
       "             colsample_bylevel=None, colsample_bynode=None,\n",
       "             colsample_bytree=None, early_stopping_rounds=None,\n",
       "             enable_categorical=False, eval_metric=None, feature_types=None,\n",
       "             gamma=None, gpu_id=None, grow_policy=None, importance_type=None,\n",
       "             interaction_constraints=None, learning_rate=0.05, max_bin=None,\n",
       "             max_cat_threshold=None, max_cat_to_onehot=None,\n",
       "             max_delta_step=None, max_depth=None, max_leaves=None,\n",
       "             min_child_weight=None, missing=nan, monotone_constraints=None,\n",
       "             n_estimators=500, n_jobs=None, num_parallel_tree=None,\n",
       "             predictor=None, random_state=None, ...)</pre><b>In a Jupyter environment, please rerun this cell to show the HTML representation or trust the notebook. <br />On GitHub, the HTML representation is unable to render, please try loading this page with nbviewer.org.</b></div><div class=\"sk-container\" hidden><div class=\"sk-item\"><div class=\"sk-estimator sk-toggleable\"><input class=\"sk-toggleable__control sk-hidden--visually\" id=\"sk-estimator-id-1\" type=\"checkbox\" checked><label for=\"sk-estimator-id-1\" class=\"sk-toggleable__label sk-toggleable__label-arrow\">XGBRegressor</label><div class=\"sk-toggleable__content\"><pre>XGBRegressor(base_score=None, booster=None, callbacks=None,\n",
       "             colsample_bylevel=None, colsample_bynode=None,\n",
       "             colsample_bytree=None, early_stopping_rounds=None,\n",
       "             enable_categorical=False, eval_metric=None, feature_types=None,\n",
       "             gamma=None, gpu_id=None, grow_policy=None, importance_type=None,\n",
       "             interaction_constraints=None, learning_rate=0.05, max_bin=None,\n",
       "             max_cat_threshold=None, max_cat_to_onehot=None,\n",
       "             max_delta_step=None, max_depth=None, max_leaves=None,\n",
       "             min_child_weight=None, missing=nan, monotone_constraints=None,\n",
       "             n_estimators=500, n_jobs=None, num_parallel_tree=None,\n",
       "             predictor=None, random_state=None, ...)</pre></div></div></div></div></div>"
      ],
      "text/plain": [
       "XGBRegressor(base_score=None, booster=None, callbacks=None,\n",
       "             colsample_bylevel=None, colsample_bynode=None,\n",
       "             colsample_bytree=None, early_stopping_rounds=None,\n",
       "             enable_categorical=False, eval_metric=None, feature_types=None,\n",
       "             gamma=None, gpu_id=None, grow_policy=None, importance_type=None,\n",
       "             interaction_constraints=None, learning_rate=0.05, max_bin=None,\n",
       "             max_cat_threshold=None, max_cat_to_onehot=None,\n",
       "             max_delta_step=None, max_depth=None, max_leaves=None,\n",
       "             min_child_weight=None, missing=nan, monotone_constraints=None,\n",
       "             n_estimators=500, n_jobs=None, num_parallel_tree=None,\n",
       "             predictor=None, random_state=None, ...)"
      ]
     },
     "execution_count": 32,
     "metadata": {},
     "output_type": "execute_result"
    }
   ],
   "source": [
    "from xgboost import XGBRegressor\n",
    "model = XGBRegressor(learning_rate=0.05, n_estimators=500)\n",
    "model.fit(train_1_scaled, y_train)"
   ]
  },
  {
   "cell_type": "code",
   "execution_count": 33,
   "id": "0607049e",
   "metadata": {
    "execution": {
     "iopub.execute_input": "2023-06-22T18:20:02.178730Z",
     "iopub.status.busy": "2023-06-22T18:20:02.178338Z",
     "iopub.status.idle": "2023-06-22T18:20:02.263188Z",
     "shell.execute_reply": "2023-06-22T18:20:02.262044Z"
    },
    "papermill": {
     "duration": 0.108552,
     "end_time": "2023-06-22T18:20:02.266058",
     "exception": false,
     "start_time": "2023-06-22T18:20:02.157506",
     "status": "completed"
    },
    "tags": []
   },
   "outputs": [],
   "source": [
    "pred=model.predict(test_1_scaled)"
   ]
  },
  {
   "cell_type": "code",
   "execution_count": 34,
   "id": "e443ade6",
   "metadata": {
    "execution": {
     "iopub.execute_input": "2023-06-22T18:20:02.308514Z",
     "iopub.status.busy": "2023-06-22T18:20:02.308081Z",
     "iopub.status.idle": "2023-06-22T18:20:02.321712Z",
     "shell.execute_reply": "2023-06-22T18:20:02.320568Z"
    },
    "papermill": {
     "duration": 0.03713,
     "end_time": "2023-06-22T18:20:02.324271",
     "exception": false,
     "start_time": "2023-06-22T18:20:02.287141",
     "status": "completed"
    },
    "tags": []
   },
   "outputs": [
    {
     "data": {
      "text/html": [
       "<div>\n",
       "<style scoped>\n",
       "    .dataframe tbody tr th:only-of-type {\n",
       "        vertical-align: middle;\n",
       "    }\n",
       "\n",
       "    .dataframe tbody tr th {\n",
       "        vertical-align: top;\n",
       "    }\n",
       "\n",
       "    .dataframe thead th {\n",
       "        text-align: right;\n",
       "    }\n",
       "</style>\n",
       "<table border=\"1\" class=\"dataframe\">\n",
       "  <thead>\n",
       "    <tr style=\"text-align: right;\">\n",
       "      <th></th>\n",
       "      <th>Photo</th>\n",
       "      <th>Value</th>\n",
       "    </tr>\n",
       "  </thead>\n",
       "  <tbody>\n",
       "    <tr>\n",
       "      <th>0</th>\n",
       "      <td>https://cdn.sofifa.com/players/212/198/22_60.png</td>\n",
       "      <td>71609544.0</td>\n",
       "    </tr>\n",
       "    <tr>\n",
       "      <th>1</th>\n",
       "      <td>https://cdn.sofifa.com/players/209/658/22_60.png</td>\n",
       "      <td>54067988.0</td>\n",
       "    </tr>\n",
       "    <tr>\n",
       "      <th>2</th>\n",
       "      <td>https://cdn.sofifa.com/players/176/580/22_60.png</td>\n",
       "      <td>30014316.0</td>\n",
       "    </tr>\n",
       "    <tr>\n",
       "      <th>3</th>\n",
       "      <td>https://cdn.sofifa.com/players/192/985/22_60.png</td>\n",
       "      <td>84322752.0</td>\n",
       "    </tr>\n",
       "    <tr>\n",
       "      <th>4</th>\n",
       "      <td>https://cdn.sofifa.com/players/224/334/22_60.png</td>\n",
       "      <td>27655076.0</td>\n",
       "    </tr>\n",
       "  </tbody>\n",
       "</table>\n",
       "</div>"
      ],
      "text/plain": [
       "                                              Photo       Value\n",
       "0  https://cdn.sofifa.com/players/212/198/22_60.png  71609544.0\n",
       "1  https://cdn.sofifa.com/players/209/658/22_60.png  54067988.0\n",
       "2  https://cdn.sofifa.com/players/176/580/22_60.png  30014316.0\n",
       "3  https://cdn.sofifa.com/players/192/985/22_60.png  84322752.0\n",
       "4  https://cdn.sofifa.com/players/224/334/22_60.png  27655076.0"
      ]
     },
     "execution_count": 34,
     "metadata": {},
     "output_type": "execute_result"
    }
   ],
   "source": [
    "output = pd.DataFrame({'Photo':test_data['Photo'],'Value': pred})  # Create the DataFrame with the 'Value' column\n",
    "output.head()"
   ]
  },
  {
   "cell_type": "markdown",
   "id": "92880056",
   "metadata": {
    "papermill": {
     "duration": 0.019817,
     "end_time": "2023-06-22T18:20:02.363693",
     "exception": false,
     "start_time": "2023-06-22T18:20:02.343876",
     "status": "completed"
    },
    "tags": []
   },
   "source": [
    "hence output submission has been created"
   ]
  },
  {
   "cell_type": "markdown",
   "id": "a69e79ee",
   "metadata": {
    "papermill": {
     "duration": 0.019364,
     "end_time": "2023-06-22T18:20:02.402784",
     "exception": false,
     "start_time": "2023-06-22T18:20:02.383420",
     "status": "completed"
    },
    "tags": []
   },
   "source": [
    "converting to a csv as needed"
   ]
  },
  {
   "cell_type": "code",
   "execution_count": 35,
   "id": "e217390b",
   "metadata": {
    "execution": {
     "iopub.execute_input": "2023-06-22T18:20:02.443931Z",
     "iopub.status.busy": "2023-06-22T18:20:02.443552Z",
     "iopub.status.idle": "2023-06-22T18:20:02.542895Z",
     "shell.execute_reply": "2023-06-22T18:20:02.541703Z"
    },
    "papermill": {
     "duration": 0.123134,
     "end_time": "2023-06-22T18:20:02.545607",
     "exception": false,
     "start_time": "2023-06-22T18:20:02.422473",
     "status": "completed"
    },
    "tags": []
   },
   "outputs": [
    {
     "name": "stdout",
     "output_type": "stream",
     "text": [
      "Submission saved successfully\n"
     ]
    }
   ],
   "source": [
    "output.to_csv('submissions.csv',index=False)\n",
    "print(\"Submission saved successfully\")"
   ]
  },
  {
   "cell_type": "code",
   "execution_count": 36,
   "id": "9ad56243",
   "metadata": {
    "execution": {
     "iopub.execute_input": "2023-06-22T18:20:02.587438Z",
     "iopub.status.busy": "2023-06-22T18:20:02.587003Z",
     "iopub.status.idle": "2023-06-22T18:20:02.594047Z",
     "shell.execute_reply": "2023-06-22T18:20:02.593013Z"
    },
    "papermill": {
     "duration": 0.030819,
     "end_time": "2023-06-22T18:20:02.596345",
     "exception": false,
     "start_time": "2023-06-22T18:20:02.565526",
     "status": "completed"
    },
    "tags": []
   },
   "outputs": [
    {
     "data": {
      "text/plain": [
       "(16710, 2)"
      ]
     },
     "execution_count": 36,
     "metadata": {},
     "output_type": "execute_result"
    }
   ],
   "source": [
    "output.shape"
   ]
  },
  {
   "cell_type": "code",
   "execution_count": null,
   "id": "15ddc97a",
   "metadata": {
    "papermill": {
     "duration": 0.019447,
     "end_time": "2023-06-22T18:20:02.635770",
     "exception": false,
     "start_time": "2023-06-22T18:20:02.616323",
     "status": "completed"
    },
    "tags": []
   },
   "outputs": [],
   "source": []
  }
 ],
 "metadata": {
  "kernelspec": {
   "display_name": "Python 3",
   "language": "python",
   "name": "python3"
  },
  "language_info": {
   "codemirror_mode": {
    "name": "ipython",
    "version": 3
   },
   "file_extension": ".py",
   "mimetype": "text/x-python",
   "name": "python",
   "nbconvert_exporter": "python",
   "pygments_lexer": "ipython3",
   "version": "3.10.10"
  },
  "papermill": {
   "default_parameters": {},
   "duration": 30.676796,
   "end_time": "2023-06-22T18:20:03.678820",
   "environment_variables": {},
   "exception": null,
   "input_path": "__notebook__.ipynb",
   "output_path": "__notebook__.ipynb",
   "parameters": {},
   "start_time": "2023-06-22T18:19:33.002024",
   "version": "2.4.0"
  }
 },
 "nbformat": 4,
 "nbformat_minor": 5
}
