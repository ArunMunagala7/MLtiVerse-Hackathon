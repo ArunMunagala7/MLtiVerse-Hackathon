{
 "cells": [
  {
   "cell_type": "code",
   "execution_count": 1,
   "id": "134e4083",
   "metadata": {
    "execution": {
     "iopub.execute_input": "2023-06-22T18:06:07.099084Z",
     "iopub.status.busy": "2023-06-22T18:06:07.098427Z",
     "iopub.status.idle": "2023-06-22T18:06:07.113237Z",
     "shell.execute_reply": "2023-06-22T18:06:07.112112Z"
    },
    "papermill": {
     "duration": 0.035614,
     "end_time": "2023-06-22T18:06:07.116084",
     "exception": false,
     "start_time": "2023-06-22T18:06:07.080470",
     "status": "completed"
    },
    "tags": []
   },
   "outputs": [
    {
     "name": "stdout",
     "output_type": "stream",
     "text": [
      "/kaggle/input/mltiverse-join-comp/sample_submission.csv\n",
      "/kaggle/input/mltiverse-join-comp/train.csv\n",
      "/kaggle/input/mltiverse-join-comp/test.csv\n"
     ]
    }
   ],
   "source": [
    "## This Python 3 environment comes with many helpful analytics libraries installed\n",
    "# It is defined by the kaggle/python Docker image: https://github.com/kaggle/docker-python\n",
    "# For example, here's several helpful packages to load\n",
    "\n",
    "import numpy as np # linear algebra\n",
    "import pandas as pd # data processing, CSV file I/O (e.g. pd.read_csv)\n",
    "\n",
    "# Input data files are available in the read-only \"../input/\" directory\n",
    "# For example, running this (by clicking run or pressing Shift+Enter) will list all files under the input directory\n",
    "\n",
    "import os\n",
    "for dirname, _, filenames in os.walk('/kaggle/input'):\n",
    "    for filename in filenames:\n",
    "        print(os.path.join(dirname, filename))\n",
    "\n",
    "# You can write up to 20GB to the current directory (/kaggle/working/) that gets preserved as output when you create a version using \"Save & Run All\" \n",
    "# You can also write temporary files to /kaggle/temp/, but they won't be saved outside of the current session"
   ]
  },
  {
   "cell_type": "markdown",
   "id": "9e71c18f",
   "metadata": {
    "papermill": {
     "duration": 0.01587,
     "end_time": "2023-06-22T18:06:07.148667",
     "exception": false,
     "start_time": "2023-06-22T18:06:07.132797",
     "status": "completed"
    },
    "tags": []
   },
   "source": [
    "importing data"
   ]
  },
  {
   "cell_type": "code",
   "execution_count": 2,
   "id": "28b2f239",
   "metadata": {
    "execution": {
     "iopub.execute_input": "2023-06-22T18:06:07.182528Z",
     "iopub.status.busy": "2023-06-22T18:06:07.182138Z",
     "iopub.status.idle": "2023-06-22T18:06:09.589216Z",
     "shell.execute_reply": "2023-06-22T18:06:09.588109Z"
    },
    "papermill": {
     "duration": 2.426966,
     "end_time": "2023-06-22T18:06:09.591950",
     "exception": false,
     "start_time": "2023-06-22T18:06:07.164984",
     "status": "completed"
    },
    "tags": []
   },
   "outputs": [],
   "source": [
    "train_data=pd.read_csv('/kaggle/input/mltiverse-join-comp/train.csv')\n",
    "test_data=pd.read_csv('/kaggle/input/mltiverse-join-comp/test.csv')\n",
    "sample=pd.read_csv('/kaggle/input/mltiverse-join-comp/sample_submission.csv')"
   ]
  },
  {
   "cell_type": "markdown",
   "id": "72c1e71d",
   "metadata": {
    "papermill": {
     "duration": 0.015483,
     "end_time": "2023-06-22T18:06:09.623250",
     "exception": false,
     "start_time": "2023-06-22T18:06:09.607767",
     "status": "completed"
    },
    "tags": []
   },
   "source": [
    "making some comparisions"
   ]
  },
  {
   "cell_type": "code",
   "execution_count": 3,
   "id": "702f9c2b",
   "metadata": {
    "execution": {
     "iopub.execute_input": "2023-06-22T18:06:09.657807Z",
     "iopub.status.busy": "2023-06-22T18:06:09.655756Z",
     "iopub.status.idle": "2023-06-22T18:06:09.664045Z",
     "shell.execute_reply": "2023-06-22T18:06:09.663248Z"
    },
    "papermill": {
     "duration": 0.027544,
     "end_time": "2023-06-22T18:06:09.666361",
     "exception": false,
     "start_time": "2023-06-22T18:06:09.638817",
     "status": "completed"
    },
    "tags": []
   },
   "outputs": [
    {
     "data": {
      "text/plain": [
       "(16710, 2)"
      ]
     },
     "execution_count": 3,
     "metadata": {},
     "output_type": "execute_result"
    }
   ],
   "source": [
    "sample.shape"
   ]
  },
  {
   "cell_type": "code",
   "execution_count": 4,
   "id": "ec549a80",
   "metadata": {
    "execution": {
     "iopub.execute_input": "2023-06-22T18:06:09.701541Z",
     "iopub.status.busy": "2023-06-22T18:06:09.700649Z",
     "iopub.status.idle": "2023-06-22T18:06:09.706677Z",
     "shell.execute_reply": "2023-06-22T18:06:09.705611Z"
    },
    "papermill": {
     "duration": 0.026352,
     "end_time": "2023-06-22T18:06:09.709051",
     "exception": false,
     "start_time": "2023-06-22T18:06:09.682699",
     "status": "completed"
    },
    "tags": []
   },
   "outputs": [
    {
     "data": {
      "text/plain": [
       "(16710, 65)"
      ]
     },
     "execution_count": 4,
     "metadata": {},
     "output_type": "execute_result"
    }
   ],
   "source": [
    "test_data.shape"
   ]
  },
  {
   "cell_type": "markdown",
   "id": "4e31faab",
   "metadata": {
    "papermill": {
     "duration": 0.016649,
     "end_time": "2023-06-22T18:06:09.741834",
     "exception": false,
     "start_time": "2023-06-22T18:06:09.725185",
     "status": "completed"
    },
    "tags": []
   },
   "source": [
    "checking if photo id is the same for both"
   ]
  },
  {
   "cell_type": "code",
   "execution_count": 5,
   "id": "72282e18",
   "metadata": {
    "execution": {
     "iopub.execute_input": "2023-06-22T18:06:09.776837Z",
     "iopub.status.busy": "2023-06-22T18:06:09.776202Z",
     "iopub.status.idle": "2023-06-22T18:06:09.794622Z",
     "shell.execute_reply": "2023-06-22T18:06:09.793332Z"
    },
    "papermill": {
     "duration": 0.038883,
     "end_time": "2023-06-22T18:06:09.797391",
     "exception": false,
     "start_time": "2023-06-22T18:06:09.758508",
     "status": "completed"
    },
    "tags": []
   },
   "outputs": [
    {
     "data": {
      "text/plain": [
       "True"
      ]
     },
     "execution_count": 5,
     "metadata": {},
     "output_type": "execute_result"
    }
   ],
   "source": [
    "(test_data['Photo'] == sample['Photo']).all()"
   ]
  },
  {
   "cell_type": "markdown",
   "id": "40766bbf",
   "metadata": {
    "papermill": {
     "duration": 0.01687,
     "end_time": "2023-06-22T18:06:09.830585",
     "exception": false,
     "start_time": "2023-06-22T18:06:09.813715",
     "status": "completed"
    },
    "tags": []
   },
   "source": [
    "therefore it is the exact same"
   ]
  },
  {
   "cell_type": "markdown",
   "id": "c14c6633",
   "metadata": {
    "papermill": {
     "duration": 0.016816,
     "end_time": "2023-06-22T18:06:09.865161",
     "exception": false,
     "start_time": "2023-06-22T18:06:09.848345",
     "status": "completed"
    },
    "tags": []
   },
   "source": [
    "checking the number of rows and analysing test data"
   ]
  },
  {
   "cell_type": "code",
   "execution_count": 6,
   "id": "024d3b78",
   "metadata": {
    "execution": {
     "iopub.execute_input": "2023-06-22T18:06:09.900545Z",
     "iopub.status.busy": "2023-06-22T18:06:09.899540Z",
     "iopub.status.idle": "2023-06-22T18:06:09.906099Z",
     "shell.execute_reply": "2023-06-22T18:06:09.905249Z"
    },
    "papermill": {
     "duration": 0.026377,
     "end_time": "2023-06-22T18:06:09.908342",
     "exception": false,
     "start_time": "2023-06-22T18:06:09.881965",
     "status": "completed"
    },
    "tags": []
   },
   "outputs": [
    {
     "data": {
      "text/plain": [
       "(87642, 67)"
      ]
     },
     "execution_count": 6,
     "metadata": {},
     "output_type": "execute_result"
    }
   ],
   "source": [
    "train_data.shape"
   ]
  },
  {
   "cell_type": "code",
   "execution_count": 7,
   "id": "c8e0fa4b",
   "metadata": {
    "execution": {
     "iopub.execute_input": "2023-06-22T18:06:09.946505Z",
     "iopub.status.busy": "2023-06-22T18:06:09.945540Z",
     "iopub.status.idle": "2023-06-22T18:06:09.995122Z",
     "shell.execute_reply": "2023-06-22T18:06:09.993998Z"
    },
    "papermill": {
     "duration": 0.072402,
     "end_time": "2023-06-22T18:06:09.997855",
     "exception": false,
     "start_time": "2023-06-22T18:06:09.925453",
     "status": "completed"
    },
    "tags": []
   },
   "outputs": [
    {
     "data": {
      "text/plain": [
       "74502"
      ]
     },
     "execution_count": 7,
     "metadata": {},
     "output_type": "execute_result"
    }
   ],
   "source": [
    "train_data['Photo'].nunique()"
   ]
  },
  {
   "cell_type": "code",
   "execution_count": 8,
   "id": "e226c546",
   "metadata": {
    "execution": {
     "iopub.execute_input": "2023-06-22T18:06:10.033461Z",
     "iopub.status.busy": "2023-06-22T18:06:10.033040Z",
     "iopub.status.idle": "2023-06-22T18:06:10.093344Z",
     "shell.execute_reply": "2023-06-22T18:06:10.091868Z"
    },
    "papermill": {
     "duration": 0.081747,
     "end_time": "2023-06-22T18:06:10.096314",
     "exception": false,
     "start_time": "2023-06-22T18:06:10.014567",
     "status": "completed"
    },
    "tags": []
   },
   "outputs": [
    {
     "data": {
      "text/plain": [
       "87642"
      ]
     },
     "execution_count": 8,
     "metadata": {},
     "output_type": "execute_result"
    }
   ],
   "source": [
    " train_data[['Photo', 'year']].drop_duplicates().shape[0]"
   ]
  },
  {
   "cell_type": "markdown",
   "id": "5d103b21",
   "metadata": {
    "papermill": {
     "duration": 0.016832,
     "end_time": "2023-06-22T18:06:10.131476",
     "exception": false,
     "start_time": "2023-06-22T18:06:10.114644",
     "status": "completed"
    },
    "tags": []
   },
   "source": [
    "keeping only one row per id(the latest year in this case)"
   ]
  },
  {
   "cell_type": "markdown",
   "id": "b062cbfd",
   "metadata": {
    "papermill": {
     "duration": 0.016829,
     "end_time": "2023-06-22T18:06:10.165985",
     "exception": false,
     "start_time": "2023-06-22T18:06:10.149156",
     "status": "completed"
    },
    "tags": []
   },
   "source": [
    "first and foremost let me check for test data. the shape, unique ids, photo etc etc\n"
   ]
  },
  {
   "cell_type": "code",
   "execution_count": 9,
   "id": "27467ddf",
   "metadata": {
    "execution": {
     "iopub.execute_input": "2023-06-22T18:06:10.204086Z",
     "iopub.status.busy": "2023-06-22T18:06:10.203620Z",
     "iopub.status.idle": "2023-06-22T18:06:10.212768Z",
     "shell.execute_reply": "2023-06-22T18:06:10.211863Z"
    },
    "papermill": {
     "duration": 0.029714,
     "end_time": "2023-06-22T18:06:10.215099",
     "exception": false,
     "start_time": "2023-06-22T18:06:10.185385",
     "status": "completed"
    },
    "tags": []
   },
   "outputs": [
    {
     "data": {
      "text/plain": [
       "True"
      ]
     },
     "execution_count": 9,
     "metadata": {},
     "output_type": "execute_result"
    }
   ],
   "source": [
    "test_data.shape[0]==test_data['ID'].nunique()"
   ]
  },
  {
   "cell_type": "markdown",
   "id": "fc19765d",
   "metadata": {
    "papermill": {
     "duration": 0.016983,
     "end_time": "2023-06-22T18:06:10.250274",
     "exception": false,
     "start_time": "2023-06-22T18:06:10.233291",
     "status": "completed"
    },
    "tags": []
   },
   "source": [
    "therefore the ids and photos are linearly mapped, so should only keep one id for training data"
   ]
  },
  {
   "cell_type": "code",
   "execution_count": 10,
   "id": "8fbdad43",
   "metadata": {
    "execution": {
     "iopub.execute_input": "2023-06-22T18:06:10.289736Z",
     "iopub.status.busy": "2023-06-22T18:06:10.289047Z",
     "iopub.status.idle": "2023-06-22T18:06:10.454723Z",
     "shell.execute_reply": "2023-06-22T18:06:10.453380Z"
    },
    "papermill": {
     "duration": 0.189693,
     "end_time": "2023-06-22T18:06:10.457758",
     "exception": false,
     "start_time": "2023-06-22T18:06:10.268065",
     "status": "completed"
    },
    "tags": []
   },
   "outputs": [],
   "source": [
    "# Sort the train_data DataFrame by 'ID' and 'year' in descending order\n",
    "train_data_sorted = train_data.sort_values(by=['ID', 'year'], ascending=[True, False])\n",
    "\n",
    "# Drop duplicate 'ID' values, keeping only the first occurrence (which corresponds to the latest year)\n",
    "train_data_1 = train_data_sorted.drop_duplicates(subset='ID', keep='first')\n",
    "\n",
    "# Reset the index of the new dataset\n",
    "train_data_1 = train_data_1.reset_index(drop=True)"
   ]
  },
  {
   "cell_type": "code",
   "execution_count": 11,
   "id": "8a5250c3",
   "metadata": {
    "execution": {
     "iopub.execute_input": "2023-06-22T18:06:10.494866Z",
     "iopub.status.busy": "2023-06-22T18:06:10.494446Z",
     "iopub.status.idle": "2023-06-22T18:06:10.502264Z",
     "shell.execute_reply": "2023-06-22T18:06:10.500882Z"
    },
    "papermill": {
     "duration": 0.029952,
     "end_time": "2023-06-22T18:06:10.504938",
     "exception": false,
     "start_time": "2023-06-22T18:06:10.474986",
     "status": "completed"
    },
    "tags": []
   },
   "outputs": [
    {
     "data": {
      "text/plain": [
       "(33699, 67)"
      ]
     },
     "execution_count": 11,
     "metadata": {},
     "output_type": "execute_result"
    }
   ],
   "source": [
    "train_data_1.shape"
   ]
  },
  {
   "cell_type": "markdown",
   "id": "2cbe0503",
   "metadata": {
    "papermill": {
     "duration": 0.016513,
     "end_time": "2023-06-22T18:06:10.538748",
     "exception": false,
     "start_time": "2023-06-22T18:06:10.522235",
     "status": "completed"
    },
    "tags": []
   },
   "source": [
    "feature engineering some columns"
   ]
  },
  {
   "cell_type": "code",
   "execution_count": 12,
   "id": "4ca828b6",
   "metadata": {
    "execution": {
     "iopub.execute_input": "2023-06-22T18:06:10.576546Z",
     "iopub.status.busy": "2023-06-22T18:06:10.575897Z",
     "iopub.status.idle": "2023-06-22T18:06:10.588340Z",
     "shell.execute_reply": "2023-06-22T18:06:10.587104Z"
    },
    "papermill": {
     "duration": 0.033946,
     "end_time": "2023-06-22T18:06:10.590939",
     "exception": false,
     "start_time": "2023-06-22T18:06:10.556993",
     "status": "completed"
    },
    "tags": []
   },
   "outputs": [
    {
     "data": {
      "text/plain": [
       "array(['<span class=\"pos pos29\">RES', '<span class=\"pos pos15\">LCM',\n",
       "       '<span class=\"pos pos18\">CAM', '<span class=\"pos pos28\">SUB', nan,\n",
       "       '<span class=\"pos pos0\">GK', '<span class=\"pos pos10\">CDM',\n",
       "       '<span class=\"pos pos5\">CB', '<span class=\"pos pos4\">RCB',\n",
       "       '<span class=\"pos pos25\">ST', '<span class=\"pos pos6\">LCB',\n",
       "       '<span class=\"pos pos14\">CM', '<span class=\"pos pos26\">LS',\n",
       "       '<span class=\"pos pos9\">RDM', '<span class=\"pos pos13\">RCM',\n",
       "       '<span class=\"pos pos16\">LM', '<span class=\"pos pos19\">LAM',\n",
       "       '<span class=\"pos pos11\">LDM', '<span class=\"pos pos3\">RB',\n",
       "       '<span class=\"pos pos12\">RM', '<span class=\"pos pos21\">CF',\n",
       "       '<span class=\"pos pos24\">RS', '<span class=\"pos pos23\">RW',\n",
       "       '<span class=\"pos pos7\">LB', '<span class=\"pos pos27\">LW',\n",
       "       '<span class=\"pos pos8\">LWB', '<span class=\"pos pos2\">RWB',\n",
       "       '<span class=\"pos pos17\">RAM', '<span class=\"pos pos22\">LF',\n",
       "       '<span class=\"pos pos20\">RF'], dtype=object)"
      ]
     },
     "execution_count": 12,
     "metadata": {},
     "output_type": "execute_result"
    }
   ],
   "source": [
    "train_data_1['Position'].unique()"
   ]
  },
  {
   "cell_type": "code",
   "execution_count": 13,
   "id": "420ffd22",
   "metadata": {
    "execution": {
     "iopub.execute_input": "2023-06-22T18:06:10.628738Z",
     "iopub.status.busy": "2023-06-22T18:06:10.627221Z",
     "iopub.status.idle": "2023-06-22T18:06:10.634848Z",
     "shell.execute_reply": "2023-06-22T18:06:10.634036Z"
    },
    "papermill": {
     "duration": 0.02923,
     "end_time": "2023-06-22T18:06:10.637150",
     "exception": false,
     "start_time": "2023-06-22T18:06:10.607920",
     "status": "completed"
    },
    "tags": []
   },
   "outputs": [
    {
     "data": {
      "text/plain": [
       "dtype('O')"
      ]
     },
     "execution_count": 13,
     "metadata": {},
     "output_type": "execute_result"
    }
   ],
   "source": [
    "test_data['Position'].dtype"
   ]
  },
  {
   "cell_type": "code",
   "execution_count": 14,
   "id": "2685f4d7",
   "metadata": {
    "execution": {
     "iopub.execute_input": "2023-06-22T18:06:10.675938Z",
     "iopub.status.busy": "2023-06-22T18:06:10.674880Z",
     "iopub.status.idle": "2023-06-22T18:06:10.710554Z",
     "shell.execute_reply": "2023-06-22T18:06:10.709436Z"
    },
    "papermill": {
     "duration": 0.058156,
     "end_time": "2023-06-22T18:06:10.713377",
     "exception": false,
     "start_time": "2023-06-22T18:06:10.655221",
     "status": "completed"
    },
    "tags": []
   },
   "outputs": [],
   "source": [
    "train_data_1['Position'] = train_data_1['Position'].astype(str)\n",
    "train_data_1['Position'] = train_data_1['Position'].str[-3:]"
   ]
  },
  {
   "cell_type": "code",
   "execution_count": 15,
   "id": "644dab44",
   "metadata": {
    "execution": {
     "iopub.execute_input": "2023-06-22T18:06:10.750340Z",
     "iopub.status.busy": "2023-06-22T18:06:10.749818Z",
     "iopub.status.idle": "2023-06-22T18:06:10.761301Z",
     "shell.execute_reply": "2023-06-22T18:06:10.760086Z"
    },
    "papermill": {
     "duration": 0.033063,
     "end_time": "2023-06-22T18:06:10.763706",
     "exception": false,
     "start_time": "2023-06-22T18:06:10.730643",
     "status": "completed"
    },
    "tags": []
   },
   "outputs": [
    {
     "data": {
      "text/plain": [
       "array(['RES', 'LCM', 'CAM', 'SUB', 'nan', '>GK', 'CDM', '>CB', 'RCB',\n",
       "       '>ST', 'LCB', '>CM', '>LS', 'RDM', 'RCM', '>LM', 'LAM', 'LDM',\n",
       "       '>RB', '>RM', '>CF', '>RS', '>RW', '>LB', '>LW', 'LWB', 'RWB',\n",
       "       'RAM', '>LF', '>RF'], dtype=object)"
      ]
     },
     "execution_count": 15,
     "metadata": {},
     "output_type": "execute_result"
    }
   ],
   "source": [
    "train_data_1['Position'].unique()"
   ]
  },
  {
   "cell_type": "markdown",
   "id": "72fc1d43",
   "metadata": {
    "papermill": {
     "duration": 0.01678,
     "end_time": "2023-06-22T18:06:10.797755",
     "exception": false,
     "start_time": "2023-06-22T18:06:10.780975",
     "status": "completed"
    },
    "tags": []
   },
   "source": [
    "trying to remove the '>'"
   ]
  },
  {
   "cell_type": "code",
   "execution_count": 16,
   "id": "9f32259a",
   "metadata": {
    "execution": {
     "iopub.execute_input": "2023-06-22T18:06:10.834106Z",
     "iopub.status.busy": "2023-06-22T18:06:10.833683Z",
     "iopub.status.idle": "2023-06-22T18:06:10.905197Z",
     "shell.execute_reply": "2023-06-22T18:06:10.903978Z"
    },
    "papermill": {
     "duration": 0.093036,
     "end_time": "2023-06-22T18:06:10.907871",
     "exception": false,
     "start_time": "2023-06-22T18:06:10.814835",
     "status": "completed"
    },
    "tags": []
   },
   "outputs": [],
   "source": [
    "# Remove '>' character from the beginning of each value in 'Position' column\n",
    "train_data_1['Position'] = train_data_1['Position'].str.lstrip('>')\n",
    "\n",
    "# Remove rows where 'Position' is NaN\n",
    "train_data_1 = train_data_1.dropna(subset=['Position'])"
   ]
  },
  {
   "cell_type": "markdown",
   "id": "44e19c69",
   "metadata": {
    "papermill": {
     "duration": 0.017241,
     "end_time": "2023-06-22T18:06:10.943154",
     "exception": false,
     "start_time": "2023-06-22T18:06:10.925913",
     "status": "completed"
    },
    "tags": []
   },
   "source": [
    "removing all the nan values"
   ]
  },
  {
   "cell_type": "code",
   "execution_count": 17,
   "id": "35dd5b28",
   "metadata": {
    "execution": {
     "iopub.execute_input": "2023-06-22T18:06:10.982444Z",
     "iopub.status.busy": "2023-06-22T18:06:10.981897Z",
     "iopub.status.idle": "2023-06-22T18:06:11.012521Z",
     "shell.execute_reply": "2023-06-22T18:06:11.011293Z"
    },
    "papermill": {
     "duration": 0.053565,
     "end_time": "2023-06-22T18:06:11.015317",
     "exception": false,
     "start_time": "2023-06-22T18:06:10.961752",
     "status": "completed"
    },
    "tags": []
   },
   "outputs": [],
   "source": [
    "train_data_1 = train_data_1[train_data_1['Position'] != 'nan']"
   ]
  },
  {
   "cell_type": "code",
   "execution_count": 18,
   "id": "5384a833",
   "metadata": {
    "execution": {
     "iopub.execute_input": "2023-06-22T18:06:11.051866Z",
     "iopub.status.busy": "2023-06-22T18:06:11.051448Z",
     "iopub.status.idle": "2023-06-22T18:06:11.062078Z",
     "shell.execute_reply": "2023-06-22T18:06:11.060841Z"
    },
    "papermill": {
     "duration": 0.031858,
     "end_time": "2023-06-22T18:06:11.064451",
     "exception": false,
     "start_time": "2023-06-22T18:06:11.032593",
     "status": "completed"
    },
    "tags": []
   },
   "outputs": [
    {
     "data": {
      "text/plain": [
       "array(['RES', 'LCM', 'CAM', 'SUB', 'GK', 'CDM', 'CB', 'RCB', 'ST', 'LCB',\n",
       "       'CM', 'LS', 'RDM', 'RCM', 'LM', 'LAM', 'LDM', 'RB', 'RM', 'CF',\n",
       "       'RS', 'RW', 'LB', 'LW', 'LWB', 'RWB', 'RAM', 'LF', 'RF'],\n",
       "      dtype=object)"
      ]
     },
     "execution_count": 18,
     "metadata": {},
     "output_type": "execute_result"
    }
   ],
   "source": [
    "train_data_1['Position'].unique()"
   ]
  },
  {
   "cell_type": "markdown",
   "id": "8d379552",
   "metadata": {
    "papermill": {
     "duration": 0.019323,
     "end_time": "2023-06-22T18:06:11.101482",
     "exception": false,
     "start_time": "2023-06-22T18:06:11.082159",
     "status": "completed"
    },
    "tags": []
   },
   "source": [
    "doing the exact same thing for the test dataset now"
   ]
  },
  {
   "cell_type": "code",
   "execution_count": 19,
   "id": "0515b09c",
   "metadata": {
    "execution": {
     "iopub.execute_input": "2023-06-22T18:06:11.139821Z",
     "iopub.status.busy": "2023-06-22T18:06:11.139408Z",
     "iopub.status.idle": "2023-06-22T18:06:11.190253Z",
     "shell.execute_reply": "2023-06-22T18:06:11.188987Z"
    },
    "papermill": {
     "duration": 0.073327,
     "end_time": "2023-06-22T18:06:11.193067",
     "exception": false,
     "start_time": "2023-06-22T18:06:11.119740",
     "status": "completed"
    },
    "tags": []
   },
   "outputs": [],
   "source": [
    "test_data['Position'] = test_data['Position'].astype(str)\n",
    "test_data['Position'] = test_data['Position'].str[-3:]  # Remove '>' character from the beginning of each value in 'Position' column\n",
    "test_data['Position'] = test_data['Position'].str.lstrip('>')\n",
    "test_data = test_data[test_data['Position'] != 'nan']  # Remove rows where 'Position' is 'nan'"
   ]
  },
  {
   "cell_type": "markdown",
   "id": "d7e6f739",
   "metadata": {
    "papermill": {
     "duration": 0.017163,
     "end_time": "2023-06-22T18:06:11.228170",
     "exception": false,
     "start_time": "2023-06-22T18:06:11.211007",
     "status": "completed"
    },
    "tags": []
   },
   "source": [
    "engineering height by converting it completely into inches for training and test data"
   ]
  },
  {
   "cell_type": "code",
   "execution_count": 20,
   "id": "007b5b2e",
   "metadata": {
    "execution": {
     "iopub.execute_input": "2023-06-22T18:06:11.265916Z",
     "iopub.status.busy": "2023-06-22T18:06:11.265497Z",
     "iopub.status.idle": "2023-06-22T18:06:11.353823Z",
     "shell.execute_reply": "2023-06-22T18:06:11.352497Z"
    },
    "papermill": {
     "duration": 0.110204,
     "end_time": "2023-06-22T18:06:11.356769",
     "exception": false,
     "start_time": "2023-06-22T18:06:11.246565",
     "status": "completed"
    },
    "tags": []
   },
   "outputs": [],
   "source": [
    "# Convert feet and inches to inches\n",
    "train_data_1['Height'] = train_data_1['Height'].apply(lambda x: int(x.split(\"'\")[0]) * 12 + int(x.split(\"'\")[1]))\n",
    "# Convert 'Height' column to integer data type\n",
    "train_data_1['Height'] = train_data_1['Height'].astype(float)\n",
    "# Convert centimeters to inches\n",
    "test_data['Height'] = test_data['Height'].apply(lambda x: int(x[:-2]) / 2.54)\n",
    "# Convert 'Height' column to float data type\n",
    "test_data['Height'] = test_data['Height'].astype(float)\n",
    "# Convert inches to meters\n",
    "train_data_1['Height'] = train_data_1['Height'] * 0.0254\n",
    "test_data['Height'] = test_data['Height'] * 0.0254"
   ]
  },
  {
   "cell_type": "markdown",
   "id": "ab2f0154",
   "metadata": {
    "papermill": {
     "duration": 0.016945,
     "end_time": "2023-06-22T18:06:11.392063",
     "exception": false,
     "start_time": "2023-06-22T18:06:11.375118",
     "status": "completed"
    },
    "tags": []
   },
   "source": [
    "engineeering weight for train and test"
   ]
  },
  {
   "cell_type": "code",
   "execution_count": 21,
   "id": "6ff24305",
   "metadata": {
    "execution": {
     "iopub.execute_input": "2023-06-22T18:06:11.429906Z",
     "iopub.status.busy": "2023-06-22T18:06:11.429489Z",
     "iopub.status.idle": "2023-06-22T18:06:11.513456Z",
     "shell.execute_reply": "2023-06-22T18:06:11.512309Z"
    },
    "papermill": {
     "duration": 0.106841,
     "end_time": "2023-06-22T18:06:11.516206",
     "exception": false,
     "start_time": "2023-06-22T18:06:11.409365",
     "status": "completed"
    },
    "tags": []
   },
   "outputs": [],
   "source": [
    "# Remove 'lbs' from 'Weight' values and convert pounds to kilograms\n",
    "train_data_1['Weight'] = train_data_1['Weight'].str.replace('lbs', '').astype(float) * 0.453592\n",
    "# Convert 'Weight' column to float data type\n",
    "train_data_1['Weight'] = train_data_1['Weight'].astype(float)\n",
    "train_data_1['Weight'].isna().sum()\n",
    "test_data['Weight'] = test_data['Weight'].str.replace('kg', '').astype(float)\n",
    "test_data['Weight'] = test_data['Weight'].astype(float)"
   ]
  },
  {
   "cell_type": "markdown",
   "id": "21b2a901",
   "metadata": {
    "papermill": {
     "duration": 0.017926,
     "end_time": "2023-06-22T18:06:11.551610",
     "exception": false,
     "start_time": "2023-06-22T18:06:11.533684",
     "status": "completed"
    },
    "tags": []
   },
   "source": [
    "calculating BMI"
   ]
  },
  {
   "cell_type": "code",
   "execution_count": 22,
   "id": "5f14b5f0",
   "metadata": {
    "execution": {
     "iopub.execute_input": "2023-06-22T18:06:11.590623Z",
     "iopub.status.busy": "2023-06-22T18:06:11.590202Z",
     "iopub.status.idle": "2023-06-22T18:06:11.598885Z",
     "shell.execute_reply": "2023-06-22T18:06:11.597411Z"
    },
    "papermill": {
     "duration": 0.031159,
     "end_time": "2023-06-22T18:06:11.601906",
     "exception": false,
     "start_time": "2023-06-22T18:06:11.570747",
     "status": "completed"
    },
    "tags": []
   },
   "outputs": [],
   "source": [
    "train_data_1['BMI'] = train_data_1['Weight'] / (train_data_1['Height'] ** 2)\n",
    "test_data['BMI'] = test_data['Weight'] / (test_data['Height'] ** 2)"
   ]
  },
  {
   "cell_type": "markdown",
   "id": "ffe1acb7",
   "metadata": {
    "papermill": {
     "duration": 0.017545,
     "end_time": "2023-06-22T18:06:11.637871",
     "exception": false,
     "start_time": "2023-06-22T18:06:11.620326",
     "status": "completed"
    },
    "tags": []
   },
   "source": [
    "calculating Potential difference"
   ]
  },
  {
   "cell_type": "code",
   "execution_count": 23,
   "id": "71e18467",
   "metadata": {
    "execution": {
     "iopub.execute_input": "2023-06-22T18:06:11.676199Z",
     "iopub.status.busy": "2023-06-22T18:06:11.675763Z",
     "iopub.status.idle": "2023-06-22T18:06:11.683953Z",
     "shell.execute_reply": "2023-06-22T18:06:11.683012Z"
    },
    "papermill": {
     "duration": 0.030575,
     "end_time": "2023-06-22T18:06:11.686469",
     "exception": false,
     "start_time": "2023-06-22T18:06:11.655894",
     "status": "completed"
    },
    "tags": []
   },
   "outputs": [],
   "source": [
    "train_data_1['Potential Difference'] = train_data_1['Overall'] - train_data_1['Potential']\n",
    "test_data['Potential Difference'] = test_data['Overall'] - test_data['Potential']"
   ]
  },
  {
   "cell_type": "markdown",
   "id": "15ba6b19",
   "metadata": {
    "papermill": {
     "duration": 0.017133,
     "end_time": "2023-06-22T18:06:11.721354",
     "exception": false,
     "start_time": "2023-06-22T18:06:11.704221",
     "status": "completed"
    },
    "tags": []
   },
   "source": [
    "creating features based on the skills "
   ]
  },
  {
   "cell_type": "markdown",
   "id": "efb86152",
   "metadata": {
    "papermill": {
     "duration": 0.017016,
     "end_time": "2023-06-22T18:06:11.755871",
     "exception": false,
     "start_time": "2023-06-22T18:06:11.738855",
     "status": "completed"
    },
    "tags": []
   },
   "source": [
    "imputing and calculating average in the skills for train and test data"
   ]
  },
  {
   "cell_type": "code",
   "execution_count": 24,
   "id": "a7567307",
   "metadata": {
    "execution": {
     "iopub.execute_input": "2023-06-22T18:06:11.794126Z",
     "iopub.status.busy": "2023-06-22T18:06:11.793727Z",
     "iopub.status.idle": "2023-06-22T18:06:16.633462Z",
     "shell.execute_reply": "2023-06-22T18:06:16.631901Z"
    },
    "papermill": {
     "duration": 4.863044,
     "end_time": "2023-06-22T18:06:16.636478",
     "exception": false,
     "start_time": "2023-06-22T18:06:11.773434",
     "status": "completed"
    },
    "tags": []
   },
   "outputs": [],
   "source": [
    "# Calculate average scores for attack, defense, midfield, and goalkeeping\n",
    "train_data_1['Attack'] = train_data_1[['Finishing', 'HeadingAccuracy', 'ShortPassing', 'Volleys',\n",
    "                                       'Dribbling', 'Curve', 'FKAccuracy', 'LongPassing', 'BallControl']].mean(axis=1)\n",
    "\n",
    "train_data_1['Defense'] = train_data_1[['Marking', 'StandingTackle', 'SlidingTackle', 'Interceptions']].mean(axis=1)\n",
    "\n",
    "train_data_1['Midfield'] = train_data_1[['Acceleration', 'SprintSpeed', 'Agility', 'Reactions', 'Balance',\n",
    "                                         'ShotPower', 'Jumping', 'Stamina', 'Strength']].mean(axis=1)\n",
    "\n",
    "train_data_1['Goalkeeping'] = train_data_1[['GKDiving', 'GKHandling', 'GKKicking', 'GKPositioning', 'GKReflexes']].mean(axis=1)\n",
    "\n",
    "# Impute missing values in 'Crossing' based on 'Attack' features\n",
    "crossing_features = ['Finishing', 'HeadingAccuracy', 'ShortPassing', 'Volleys', 'Dribbling', 'Curve', 'FKAccuracy',\n",
    "                     'LongPassing', 'BallControl']\n",
    "train_data_1['Crossing'] = train_data_1.apply(lambda row: row['Crossing'] if pd.notnull(row['Crossing'])\n",
    "                                              else row[crossing_features].mean(), axis=1)\n",
    "\n",
    "# Impute missing values in 'Defense' based on 'Defense' features\n",
    "defense_features = ['Marking', 'StandingTackle', 'SlidingTackle', 'Interceptions']\n",
    "train_data_1['Defense'] = train_data_1.apply(lambda row: row['Defense'] if pd.notnull(row['Defense'])\n",
    "                                             else row[defense_features].mean(), axis=1)\n",
    "\n",
    "# Impute missing values in 'Midfield' based on 'Midfield' features\n",
    "midfield_features = ['Acceleration', 'SprintSpeed', 'Agility', 'Reactions', 'Balance', 'ShotPower',\n",
    "                     'Jumping', 'Stamina', 'Strength']\n",
    "train_data_1['Midfield'] = train_data_1.apply(lambda row: row['Midfield'] if pd.notnull(row['Midfield'])\n",
    "                                              else row[midfield_features].mean(), axis=1)\n",
    "\n",
    "# Impute missing values in 'Goalkeeping' based on 'Goalkeeping' features\n",
    "goalkeeping_features = ['GKDiving', 'GKHandling', 'GKKicking', 'GKPositioning', 'GKReflexes']\n",
    "train_data_1['Goalkeeping'] = train_data_1.apply(lambda row: row['Goalkeeping'] if pd.notnull(row['Goalkeeping'])\n",
    "                                                 else row[goalkeeping_features].mean(), axis=1)\n",
    "#doing the same with test_data\n",
    "# Calculate average scores for attack, defense, midfield, and goalkeeping\n",
    "test_data['Attack'] = test_data[['Finishing', 'HeadingAccuracy', 'ShortPassing', 'Volleys',\n",
    "                                 'Dribbling', 'Curve', 'FKAccuracy', 'LongPassing', 'BallControl']].mean(axis=1)\n",
    "\n",
    "test_data['Defense'] = test_data[['Marking', 'StandingTackle', 'SlidingTackle', 'Interceptions']].mean(axis=1)\n",
    "\n",
    "test_data['Midfield'] = test_data[['Acceleration', 'SprintSpeed', 'Agility', 'Reactions', 'Balance',\n",
    "                                   'ShotPower', 'Jumping', 'Stamina', 'Strength']].mean(axis=1)\n",
    "\n",
    "test_data['Goalkeeping'] = test_data[['GKDiving', 'GKHandling', 'GKKicking', 'GKPositioning', 'GKReflexes']].mean(axis=1)\n",
    "\n",
    "# Impute missing values in 'Crossing' based on 'Attack' features\n",
    "test_crossing_features = ['Finishing', 'HeadingAccuracy', 'ShortPassing', 'Volleys', 'Dribbling', 'Curve', 'FKAccuracy',\n",
    "                          'LongPassing', 'BallControl']\n",
    "test_data['Crossing'] = test_data.apply(lambda row: row['Crossing'] if pd.notnull(row['Crossing'])\n",
    "                                        else row[test_crossing_features].mean(), axis=1)\n",
    "\n",
    "# Impute missing values in 'Defense' based on 'Defense' features\n",
    "test_defense_features = ['Marking', 'StandingTackle', 'SlidingTackle', 'Interceptions']\n",
    "test_data['Defense'] = test_data.apply(lambda row: row['Defense'] if pd.notnull(row['Defense'])\n",
    "                                       else row[test_defense_features].mean(), axis=1)\n",
    "\n",
    "# Impute missing values in 'Midfield' based on 'Midfield' features\n",
    "test_midfield_features = ['Acceleration', 'SprintSpeed', 'Agility', 'Reactions', 'Balance', 'ShotPower',\n",
    "                          'Jumping', 'Stamina', 'Strength']\n",
    "test_data['Midfield'] = test_data.apply(lambda row: row['Midfield'] if pd.notnull(row['Midfield'])\n",
    "                                        else row[test_midfield_features].mean(), axis=1)\n",
    "\n",
    "# Impute missing values in 'Goalkeeping' based on 'Goalkeeping' features\n",
    "test_goalkeeping_features = ['GKDiving', 'GKHandling', 'GKKicking', 'GKPositioning', 'GKReflexes']\n",
    "test_data['Goalkeeping'] = test_data.apply(lambda row: row['Goalkeeping'] if pd.notnull(row['Goalkeeping'])\n",
    "                                           else row[test_goalkeeping_features].mean(), axis=1)\n"
   ]
  },
  {
   "cell_type": "markdown",
   "id": "a65eda36",
   "metadata": {
    "papermill": {
     "duration": 0.017994,
     "end_time": "2023-06-22T18:06:16.672884",
     "exception": false,
     "start_time": "2023-06-22T18:06:16.654890",
     "status": "completed"
    },
    "tags": []
   },
   "source": [
    "doing some more eda/feature generation"
   ]
  },
  {
   "cell_type": "code",
   "execution_count": 25,
   "id": "f832872a",
   "metadata": {
    "execution": {
     "iopub.execute_input": "2023-06-22T18:06:16.710421Z",
     "iopub.status.busy": "2023-06-22T18:06:16.709839Z",
     "iopub.status.idle": "2023-06-22T18:06:16.719446Z",
     "shell.execute_reply": "2023-06-22T18:06:16.718089Z"
    },
    "papermill": {
     "duration": 0.031175,
     "end_time": "2023-06-22T18:06:16.722116",
     "exception": false,
     "start_time": "2023-06-22T18:06:16.690941",
     "status": "completed"
    },
    "tags": []
   },
   "outputs": [
    {
     "data": {
      "text/plain": [
       "Index(['Unnamed: 0', 'ID', 'Name', 'Age', 'Photo', 'Nationality', 'Flag',\n",
       "       'Overall', 'Potential', 'Club', 'Club Logo', 'Value', 'Wage', 'Special',\n",
       "       'Preferred Foot', 'International Reputation', 'Weak Foot',\n",
       "       'Skill Moves', 'Work Rate', 'Body Type', 'Real Face', 'Position',\n",
       "       'Jersey Number', 'Joined', 'Loaned From', 'Contract Valid Until',\n",
       "       'Height', 'Weight', 'Crossing', 'Finishing', 'HeadingAccuracy',\n",
       "       'ShortPassing', 'Volleys', 'Dribbling', 'Curve', 'FKAccuracy',\n",
       "       'LongPassing', 'BallControl', 'Acceleration', 'SprintSpeed', 'Agility',\n",
       "       'Reactions', 'Balance', 'ShotPower', 'Jumping', 'Stamina', 'Strength',\n",
       "       'LongShots', 'Aggression', 'Interceptions', 'Positioning', 'Vision',\n",
       "       'Penalties', 'Composure', 'Marking', 'StandingTackle', 'SlidingTackle',\n",
       "       'GKDiving', 'GKHandling', 'GKKicking', 'GKPositioning', 'GKReflexes',\n",
       "       'Best Position', 'Best Overall Rating', 'year', 'Release Clause',\n",
       "       'DefensiveAwareness', 'BMI', 'Potential Difference', 'Attack',\n",
       "       'Defense', 'Midfield', 'Goalkeeping'],\n",
       "      dtype='object')"
      ]
     },
     "execution_count": 25,
     "metadata": {},
     "output_type": "execute_result"
    }
   ],
   "source": [
    "train_data_1.columns"
   ]
  },
  {
   "cell_type": "code",
   "execution_count": 26,
   "id": "5c637e36",
   "metadata": {
    "execution": {
     "iopub.execute_input": "2023-06-22T18:06:16.760245Z",
     "iopub.status.busy": "2023-06-22T18:06:16.759838Z",
     "iopub.status.idle": "2023-06-22T18:06:16.778409Z",
     "shell.execute_reply": "2023-06-22T18:06:16.777204Z"
    },
    "papermill": {
     "duration": 0.041471,
     "end_time": "2023-06-22T18:06:16.781200",
     "exception": false,
     "start_time": "2023-06-22T18:06:16.739729",
     "status": "completed"
    },
    "tags": []
   },
   "outputs": [],
   "source": [
    "train_1=train_data_1[['Potential','Overall','Wage','International Reputation','Age','BMI','Potential Difference','Goalkeeping','Defense','Midfield','Attack']]\n",
    "test_1=test_data[['Potential','Overall','Wage','International Reputation','Age','BMI','Potential Difference','Goalkeeping','Defense','Midfield','Attack']]"
   ]
  },
  {
   "cell_type": "markdown",
   "id": "8d5e3381",
   "metadata": {
    "papermill": {
     "duration": 0.017256,
     "end_time": "2023-06-22T18:06:16.816687",
     "exception": false,
     "start_time": "2023-06-22T18:06:16.799431",
     "status": "completed"
    },
    "tags": []
   },
   "source": [
    "find which data types are object"
   ]
  },
  {
   "cell_type": "code",
   "execution_count": 27,
   "id": "1aa83701",
   "metadata": {
    "execution": {
     "iopub.execute_input": "2023-06-22T18:06:16.854709Z",
     "iopub.status.busy": "2023-06-22T18:06:16.854325Z",
     "iopub.status.idle": "2023-06-22T18:06:16.883203Z",
     "shell.execute_reply": "2023-06-22T18:06:16.882096Z"
    },
    "papermill": {
     "duration": 0.051047,
     "end_time": "2023-06-22T18:06:16.885614",
     "exception": false,
     "start_time": "2023-06-22T18:06:16.834567",
     "status": "completed"
    },
    "tags": []
   },
   "outputs": [
    {
     "data": {
      "text/html": [
       "<div>\n",
       "<style scoped>\n",
       "    .dataframe tbody tr th:only-of-type {\n",
       "        vertical-align: middle;\n",
       "    }\n",
       "\n",
       "    .dataframe tbody tr th {\n",
       "        vertical-align: top;\n",
       "    }\n",
       "\n",
       "    .dataframe thead th {\n",
       "        text-align: right;\n",
       "    }\n",
       "</style>\n",
       "<table border=\"1\" class=\"dataframe\">\n",
       "  <thead>\n",
       "    <tr style=\"text-align: right;\">\n",
       "      <th></th>\n",
       "      <th>Potential</th>\n",
       "      <th>Overall</th>\n",
       "      <th>Wage</th>\n",
       "      <th>International Reputation</th>\n",
       "      <th>Age</th>\n",
       "      <th>BMI</th>\n",
       "      <th>Potential Difference</th>\n",
       "      <th>Goalkeeping</th>\n",
       "      <th>Defense</th>\n",
       "      <th>Midfield</th>\n",
       "      <th>Attack</th>\n",
       "    </tr>\n",
       "  </thead>\n",
       "  <tbody>\n",
       "    <tr>\n",
       "      <th>0</th>\n",
       "      <td>69</td>\n",
       "      <td>69</td>\n",
       "      <td>€7K</td>\n",
       "      <td>2.0</td>\n",
       "      <td>33</td>\n",
       "      <td>24.547741</td>\n",
       "      <td>0</td>\n",
       "      <td>11.2</td>\n",
       "      <td>69.250000</td>\n",
       "      <td>69.555556</td>\n",
       "      <td>64.000000</td>\n",
       "    </tr>\n",
       "    <tr>\n",
       "      <th>1</th>\n",
       "      <td>71</td>\n",
       "      <td>71</td>\n",
       "      <td>€7K</td>\n",
       "      <td>1.0</td>\n",
       "      <td>37</td>\n",
       "      <td>20.518136</td>\n",
       "      <td>0</td>\n",
       "      <td>11.2</td>\n",
       "      <td>56.000000</td>\n",
       "      <td>62.000000</td>\n",
       "      <td>70.888889</td>\n",
       "    </tr>\n",
       "    <tr>\n",
       "      <th>2</th>\n",
       "      <td>71</td>\n",
       "      <td>71</td>\n",
       "      <td>€15K</td>\n",
       "      <td>2.0</td>\n",
       "      <td>33</td>\n",
       "      <td>23.775280</td>\n",
       "      <td>0</td>\n",
       "      <td>10.2</td>\n",
       "      <td>34.500000</td>\n",
       "      <td>56.666667</td>\n",
       "      <td>71.555556</td>\n",
       "    </tr>\n",
       "    <tr>\n",
       "      <th>3</th>\n",
       "      <td>70</td>\n",
       "      <td>70</td>\n",
       "      <td>€4K</td>\n",
       "      <td>1.0</td>\n",
       "      <td>35</td>\n",
       "      <td>22.377775</td>\n",
       "      <td>0</td>\n",
       "      <td>69.2</td>\n",
       "      <td>16.000000</td>\n",
       "      <td>50.111111</td>\n",
       "      <td>16.777778</td>\n",
       "    </tr>\n",
       "    <tr>\n",
       "      <th>4</th>\n",
       "      <td>82</td>\n",
       "      <td>68</td>\n",
       "      <td>€0</td>\n",
       "      <td>1.0</td>\n",
       "      <td>36</td>\n",
       "      <td>23.012574</td>\n",
       "      <td>-14</td>\n",
       "      <td>26.4</td>\n",
       "      <td>48.333333</td>\n",
       "      <td>59.333333</td>\n",
       "      <td>66.428571</td>\n",
       "    </tr>\n",
       "  </tbody>\n",
       "</table>\n",
       "</div>"
      ],
      "text/plain": [
       "   Potential  Overall  Wage  International Reputation  Age        BMI  \\\n",
       "0         69       69   €7K                       2.0   33  24.547741   \n",
       "1         71       71   €7K                       1.0   37  20.518136   \n",
       "2         71       71  €15K                       2.0   33  23.775280   \n",
       "3         70       70   €4K                       1.0   35  22.377775   \n",
       "4         82       68    €0                       1.0   36  23.012574   \n",
       "\n",
       "   Potential Difference  Goalkeeping    Defense   Midfield     Attack  \n",
       "0                     0         11.2  69.250000  69.555556  64.000000  \n",
       "1                     0         11.2  56.000000  62.000000  70.888889  \n",
       "2                     0         10.2  34.500000  56.666667  71.555556  \n",
       "3                     0         69.2  16.000000  50.111111  16.777778  \n",
       "4                   -14         26.4  48.333333  59.333333  66.428571  "
      ]
     },
     "execution_count": 27,
     "metadata": {},
     "output_type": "execute_result"
    }
   ],
   "source": [
    "train_1.head()"
   ]
  },
  {
   "cell_type": "markdown",
   "id": "660f3c43",
   "metadata": {
    "papermill": {
     "duration": 0.017899,
     "end_time": "2023-06-22T18:06:16.922362",
     "exception": false,
     "start_time": "2023-06-22T18:06:16.904463",
     "status": "completed"
    },
    "tags": []
   },
   "source": [
    "train feature"
   ]
  },
  {
   "cell_type": "code",
   "execution_count": 28,
   "id": "3c1d7ce1",
   "metadata": {
    "execution": {
     "iopub.execute_input": "2023-06-22T18:06:16.961458Z",
     "iopub.status.busy": "2023-06-22T18:06:16.961050Z",
     "iopub.status.idle": "2023-06-22T18:06:16.966431Z",
     "shell.execute_reply": "2023-06-22T18:06:16.964941Z"
    },
    "papermill": {
     "duration": 0.028579,
     "end_time": "2023-06-22T18:06:16.969187",
     "exception": false,
     "start_time": "2023-06-22T18:06:16.940608",
     "status": "completed"
    },
    "tags": []
   },
   "outputs": [],
   "source": [
    "y_train=train_data_1['Value']"
   ]
  },
  {
   "cell_type": "markdown",
   "id": "38bdb690",
   "metadata": {
    "papermill": {
     "duration": 0.018185,
     "end_time": "2023-06-22T18:06:17.006160",
     "exception": false,
     "start_time": "2023-06-22T18:06:16.987975",
     "status": "completed"
    },
    "tags": []
   },
   "source": [
    "converting Value and Wage as per"
   ]
  },
  {
   "cell_type": "code",
   "execution_count": 29,
   "id": "39dff789",
   "metadata": {
    "execution": {
     "iopub.execute_input": "2023-06-22T18:06:17.044619Z",
     "iopub.status.busy": "2023-06-22T18:06:17.043576Z",
     "iopub.status.idle": "2023-06-22T18:06:17.393416Z",
     "shell.execute_reply": "2023-06-22T18:06:17.392271Z"
    },
    "papermill": {
     "duration": 0.372143,
     "end_time": "2023-06-22T18:06:17.396279",
     "exception": false,
     "start_time": "2023-06-22T18:06:17.024136",
     "status": "completed"
    },
    "tags": []
   },
   "outputs": [
    {
     "name": "stderr",
     "output_type": "stream",
     "text": [
      "/tmp/ipykernel_20/3838849759.py:14: SettingWithCopyWarning: \n",
      "A value is trying to be set on a copy of a slice from a DataFrame.\n",
      "Try using .loc[row_indexer,col_indexer] = value instead\n",
      "\n",
      "See the caveats in the documentation: https://pandas.pydata.org/pandas-docs/stable/user_guide/indexing.html#returning-a-view-versus-a-copy\n",
      "  train_1['Wage'] = train_1['Wage'].apply(preprocess_wage)\n",
      "/tmp/ipykernel_20/3838849759.py:17: SettingWithCopyWarning: \n",
      "A value is trying to be set on a copy of a slice from a DataFrame.\n",
      "Try using .loc[row_indexer,col_indexer] = value instead\n",
      "\n",
      "See the caveats in the documentation: https://pandas.pydata.org/pandas-docs/stable/user_guide/indexing.html#returning-a-view-versus-a-copy\n",
      "  train_1['Wage'] = train_1['Wage'].astype(float)\n",
      "/tmp/ipykernel_20/3838849759.py:20: SettingWithCopyWarning: \n",
      "A value is trying to be set on a copy of a slice from a DataFrame.\n",
      "Try using .loc[row_indexer,col_indexer] = value instead\n",
      "\n",
      "See the caveats in the documentation: https://pandas.pydata.org/pandas-docs/stable/user_guide/indexing.html#returning-a-view-versus-a-copy\n",
      "  test_1['Wage'] = test_1['Wage'].apply(preprocess_wage)\n",
      "/tmp/ipykernel_20/3838849759.py:23: SettingWithCopyWarning: \n",
      "A value is trying to be set on a copy of a slice from a DataFrame.\n",
      "Try using .loc[row_indexer,col_indexer] = value instead\n",
      "\n",
      "See the caveats in the documentation: https://pandas.pydata.org/pandas-docs/stable/user_guide/indexing.html#returning-a-view-versus-a-copy\n",
      "  test_1['Wage'] = test_1['Wage'].astype(float)\n"
     ]
    }
   ],
   "source": [
    "import re\n",
    "# Define a function to preprocess the 'Wage' column\n",
    "def preprocess_wage(value):\n",
    "    value = re.sub(r'€', '', value)  # Remove euro symbol\n",
    "    if 'K' in value:\n",
    "        value = float(re.sub(r'[^0-9.]', '', value)) * 1000  # Remove 'K' and multiply by 1000\n",
    "    elif 'M' in value:\n",
    "        value = float(re.sub(r'[^0-9.]', '', value)) * 1000000  # Remove 'M' and multiply by 1000000\n",
    "    else:\n",
    "        value = float(value)\n",
    "    return value\n",
    "\n",
    "# Apply the preprocessing function to 'Wage' column in train_1 dataset\n",
    "train_1['Wage'] = train_1['Wage'].apply(preprocess_wage)\n",
    "\n",
    "# Convert the column to float data type\n",
    "train_1['Wage'] = train_1['Wage'].astype(float)\n",
    "\n",
    "# Apply the preprocessing function to 'Wage' column in train_1 dataset\n",
    "test_1['Wage'] = test_1['Wage'].apply(preprocess_wage)\n",
    "\n",
    "# Convert the column to float data type\n",
    "test_1['Wage'] = test_1['Wage'].astype(float)\n",
    "\n",
    "#Applying it to y_train too\n",
    "y_train=y_train.apply(preprocess_wage)\n",
    "\n",
    "#Convert the column to float data type\n",
    "y_train=y_train.astype(float)"
   ]
  },
  {
   "cell_type": "markdown",
   "id": "f5190967",
   "metadata": {
    "papermill": {
     "duration": 0.018208,
     "end_time": "2023-06-22T18:06:17.432685",
     "exception": false,
     "start_time": "2023-06-22T18:06:17.414477",
     "status": "completed"
    },
    "tags": []
   },
   "source": [
    "fitting model with  best parameters"
   ]
  },
  {
   "cell_type": "code",
   "execution_count": 30,
   "id": "b2828275",
   "metadata": {
    "execution": {
     "iopub.execute_input": "2023-06-22T18:06:17.473936Z",
     "iopub.status.busy": "2023-06-22T18:06:17.473501Z",
     "iopub.status.idle": "2023-06-22T18:06:27.382114Z",
     "shell.execute_reply": "2023-06-22T18:06:27.381194Z"
    },
    "papermill": {
     "duration": 9.932435,
     "end_time": "2023-06-22T18:06:27.384721",
     "exception": false,
     "start_time": "2023-06-22T18:06:17.452286",
     "status": "completed"
    },
    "tags": []
   },
   "outputs": [
    {
     "data": {
      "text/html": [
       "<style>#sk-container-id-1 {color: black;background-color: white;}#sk-container-id-1 pre{padding: 0;}#sk-container-id-1 div.sk-toggleable {background-color: white;}#sk-container-id-1 label.sk-toggleable__label {cursor: pointer;display: block;width: 100%;margin-bottom: 0;padding: 0.3em;box-sizing: border-box;text-align: center;}#sk-container-id-1 label.sk-toggleable__label-arrow:before {content: \"▸\";float: left;margin-right: 0.25em;color: #696969;}#sk-container-id-1 label.sk-toggleable__label-arrow:hover:before {color: black;}#sk-container-id-1 div.sk-estimator:hover label.sk-toggleable__label-arrow:before {color: black;}#sk-container-id-1 div.sk-toggleable__content {max-height: 0;max-width: 0;overflow: hidden;text-align: left;background-color: #f0f8ff;}#sk-container-id-1 div.sk-toggleable__content pre {margin: 0.2em;color: black;border-radius: 0.25em;background-color: #f0f8ff;}#sk-container-id-1 input.sk-toggleable__control:checked~div.sk-toggleable__content {max-height: 200px;max-width: 100%;overflow: auto;}#sk-container-id-1 input.sk-toggleable__control:checked~label.sk-toggleable__label-arrow:before {content: \"▾\";}#sk-container-id-1 div.sk-estimator input.sk-toggleable__control:checked~label.sk-toggleable__label {background-color: #d4ebff;}#sk-container-id-1 div.sk-label input.sk-toggleable__control:checked~label.sk-toggleable__label {background-color: #d4ebff;}#sk-container-id-1 input.sk-hidden--visually {border: 0;clip: rect(1px 1px 1px 1px);clip: rect(1px, 1px, 1px, 1px);height: 1px;margin: -1px;overflow: hidden;padding: 0;position: absolute;width: 1px;}#sk-container-id-1 div.sk-estimator {font-family: monospace;background-color: #f0f8ff;border: 1px dotted black;border-radius: 0.25em;box-sizing: border-box;margin-bottom: 0.5em;}#sk-container-id-1 div.sk-estimator:hover {background-color: #d4ebff;}#sk-container-id-1 div.sk-parallel-item::after {content: \"\";width: 100%;border-bottom: 1px solid gray;flex-grow: 1;}#sk-container-id-1 div.sk-label:hover label.sk-toggleable__label {background-color: #d4ebff;}#sk-container-id-1 div.sk-serial::before {content: \"\";position: absolute;border-left: 1px solid gray;box-sizing: border-box;top: 0;bottom: 0;left: 50%;z-index: 0;}#sk-container-id-1 div.sk-serial {display: flex;flex-direction: column;align-items: center;background-color: white;padding-right: 0.2em;padding-left: 0.2em;position: relative;}#sk-container-id-1 div.sk-item {position: relative;z-index: 1;}#sk-container-id-1 div.sk-parallel {display: flex;align-items: stretch;justify-content: center;background-color: white;position: relative;}#sk-container-id-1 div.sk-item::before, #sk-container-id-1 div.sk-parallel-item::before {content: \"\";position: absolute;border-left: 1px solid gray;box-sizing: border-box;top: 0;bottom: 0;left: 50%;z-index: -1;}#sk-container-id-1 div.sk-parallel-item {display: flex;flex-direction: column;z-index: 1;position: relative;background-color: white;}#sk-container-id-1 div.sk-parallel-item:first-child::after {align-self: flex-end;width: 50%;}#sk-container-id-1 div.sk-parallel-item:last-child::after {align-self: flex-start;width: 50%;}#sk-container-id-1 div.sk-parallel-item:only-child::after {width: 0;}#sk-container-id-1 div.sk-dashed-wrapped {border: 1px dashed gray;margin: 0 0.4em 0.5em 0.4em;box-sizing: border-box;padding-bottom: 0.4em;background-color: white;}#sk-container-id-1 div.sk-label label {font-family: monospace;font-weight: bold;display: inline-block;line-height: 1.2em;}#sk-container-id-1 div.sk-label-container {text-align: center;}#sk-container-id-1 div.sk-container {/* jupyter's `normalize.less` sets `[hidden] { display: none; }` but bootstrap.min.css set `[hidden] { display: none !important; }` so we also need the `!important` here to be able to override the default hidden behavior on the sphinx rendered scikit-learn.org. See: https://github.com/scikit-learn/scikit-learn/issues/21755 */display: inline-block !important;position: relative;}#sk-container-id-1 div.sk-text-repr-fallback {display: none;}</style><div id=\"sk-container-id-1\" class=\"sk-top-container\"><div class=\"sk-text-repr-fallback\"><pre>XGBRegressor(base_score=None, booster=None, callbacks=None,\n",
       "             colsample_bylevel=None, colsample_bynode=None,\n",
       "             colsample_bytree=None, early_stopping_rounds=None,\n",
       "             enable_categorical=False, eval_metric=None, feature_types=None,\n",
       "             gamma=None, gpu_id=None, grow_policy=None, importance_type=None,\n",
       "             interaction_constraints=None, learning_rate=0.05, max_bin=None,\n",
       "             max_cat_threshold=None, max_cat_to_onehot=None,\n",
       "             max_delta_step=None, max_depth=None, max_leaves=None,\n",
       "             min_child_weight=None, missing=nan, monotone_constraints=None,\n",
       "             n_estimators=500, n_jobs=None, num_parallel_tree=None,\n",
       "             predictor=None, random_state=None, ...)</pre><b>In a Jupyter environment, please rerun this cell to show the HTML representation or trust the notebook. <br />On GitHub, the HTML representation is unable to render, please try loading this page with nbviewer.org.</b></div><div class=\"sk-container\" hidden><div class=\"sk-item\"><div class=\"sk-estimator sk-toggleable\"><input class=\"sk-toggleable__control sk-hidden--visually\" id=\"sk-estimator-id-1\" type=\"checkbox\" checked><label for=\"sk-estimator-id-1\" class=\"sk-toggleable__label sk-toggleable__label-arrow\">XGBRegressor</label><div class=\"sk-toggleable__content\"><pre>XGBRegressor(base_score=None, booster=None, callbacks=None,\n",
       "             colsample_bylevel=None, colsample_bynode=None,\n",
       "             colsample_bytree=None, early_stopping_rounds=None,\n",
       "             enable_categorical=False, eval_metric=None, feature_types=None,\n",
       "             gamma=None, gpu_id=None, grow_policy=None, importance_type=None,\n",
       "             interaction_constraints=None, learning_rate=0.05, max_bin=None,\n",
       "             max_cat_threshold=None, max_cat_to_onehot=None,\n",
       "             max_delta_step=None, max_depth=None, max_leaves=None,\n",
       "             min_child_weight=None, missing=nan, monotone_constraints=None,\n",
       "             n_estimators=500, n_jobs=None, num_parallel_tree=None,\n",
       "             predictor=None, random_state=None, ...)</pre></div></div></div></div></div>"
      ],
      "text/plain": [
       "XGBRegressor(base_score=None, booster=None, callbacks=None,\n",
       "             colsample_bylevel=None, colsample_bynode=None,\n",
       "             colsample_bytree=None, early_stopping_rounds=None,\n",
       "             enable_categorical=False, eval_metric=None, feature_types=None,\n",
       "             gamma=None, gpu_id=None, grow_policy=None, importance_type=None,\n",
       "             interaction_constraints=None, learning_rate=0.05, max_bin=None,\n",
       "             max_cat_threshold=None, max_cat_to_onehot=None,\n",
       "             max_delta_step=None, max_depth=None, max_leaves=None,\n",
       "             min_child_weight=None, missing=nan, monotone_constraints=None,\n",
       "             n_estimators=500, n_jobs=None, num_parallel_tree=None,\n",
       "             predictor=None, random_state=None, ...)"
      ]
     },
     "execution_count": 30,
     "metadata": {},
     "output_type": "execute_result"
    }
   ],
   "source": [
    "from xgboost import XGBRegressor\n",
    "model = XGBRegressor(learning_rate=0.05, n_estimators=500)\n",
    "model.fit(train_1, y_train)"
   ]
  },
  {
   "cell_type": "code",
   "execution_count": 31,
   "id": "dfd5b2e6",
   "metadata": {
    "execution": {
     "iopub.execute_input": "2023-06-22T18:06:27.426203Z",
     "iopub.status.busy": "2023-06-22T18:06:27.425760Z",
     "iopub.status.idle": "2023-06-22T18:06:27.516005Z",
     "shell.execute_reply": "2023-06-22T18:06:27.515112Z"
    },
    "papermill": {
     "duration": 0.113886,
     "end_time": "2023-06-22T18:06:27.518663",
     "exception": false,
     "start_time": "2023-06-22T18:06:27.404777",
     "status": "completed"
    },
    "tags": []
   },
   "outputs": [],
   "source": [
    "pred=model.predict(test_1)"
   ]
  },
  {
   "cell_type": "code",
   "execution_count": 32,
   "id": "d45cb0b3",
   "metadata": {
    "execution": {
     "iopub.execute_input": "2023-06-22T18:06:27.558459Z",
     "iopub.status.busy": "2023-06-22T18:06:27.558069Z",
     "iopub.status.idle": "2023-06-22T18:06:27.570806Z",
     "shell.execute_reply": "2023-06-22T18:06:27.569595Z"
    },
    "papermill": {
     "duration": 0.035081,
     "end_time": "2023-06-22T18:06:27.573498",
     "exception": false,
     "start_time": "2023-06-22T18:06:27.538417",
     "status": "completed"
    },
    "tags": []
   },
   "outputs": [
    {
     "data": {
      "text/html": [
       "<div>\n",
       "<style scoped>\n",
       "    .dataframe tbody tr th:only-of-type {\n",
       "        vertical-align: middle;\n",
       "    }\n",
       "\n",
       "    .dataframe tbody tr th {\n",
       "        vertical-align: top;\n",
       "    }\n",
       "\n",
       "    .dataframe thead th {\n",
       "        text-align: right;\n",
       "    }\n",
       "</style>\n",
       "<table border=\"1\" class=\"dataframe\">\n",
       "  <thead>\n",
       "    <tr style=\"text-align: right;\">\n",
       "      <th></th>\n",
       "      <th>Photo</th>\n",
       "      <th>Value</th>\n",
       "    </tr>\n",
       "  </thead>\n",
       "  <tbody>\n",
       "    <tr>\n",
       "      <th>0</th>\n",
       "      <td>https://cdn.sofifa.com/players/212/198/22_60.png</td>\n",
       "      <td>71609544.0</td>\n",
       "    </tr>\n",
       "    <tr>\n",
       "      <th>1</th>\n",
       "      <td>https://cdn.sofifa.com/players/209/658/22_60.png</td>\n",
       "      <td>54067988.0</td>\n",
       "    </tr>\n",
       "    <tr>\n",
       "      <th>2</th>\n",
       "      <td>https://cdn.sofifa.com/players/176/580/22_60.png</td>\n",
       "      <td>30014316.0</td>\n",
       "    </tr>\n",
       "    <tr>\n",
       "      <th>3</th>\n",
       "      <td>https://cdn.sofifa.com/players/192/985/22_60.png</td>\n",
       "      <td>84322752.0</td>\n",
       "    </tr>\n",
       "    <tr>\n",
       "      <th>4</th>\n",
       "      <td>https://cdn.sofifa.com/players/224/334/22_60.png</td>\n",
       "      <td>27655076.0</td>\n",
       "    </tr>\n",
       "  </tbody>\n",
       "</table>\n",
       "</div>"
      ],
      "text/plain": [
       "                                              Photo       Value\n",
       "0  https://cdn.sofifa.com/players/212/198/22_60.png  71609544.0\n",
       "1  https://cdn.sofifa.com/players/209/658/22_60.png  54067988.0\n",
       "2  https://cdn.sofifa.com/players/176/580/22_60.png  30014316.0\n",
       "3  https://cdn.sofifa.com/players/192/985/22_60.png  84322752.0\n",
       "4  https://cdn.sofifa.com/players/224/334/22_60.png  27655076.0"
      ]
     },
     "execution_count": 32,
     "metadata": {},
     "output_type": "execute_result"
    }
   ],
   "source": [
    "output = pd.DataFrame({'Photo':test_data['Photo'],'Value': pred})  # Create the DataFrame with the 'Value' column\n",
    "output.head()"
   ]
  },
  {
   "cell_type": "markdown",
   "id": "8f8dddaa",
   "metadata": {
    "papermill": {
     "duration": 0.018777,
     "end_time": "2023-06-22T18:06:27.612327",
     "exception": false,
     "start_time": "2023-06-22T18:06:27.593550",
     "status": "completed"
    },
    "tags": []
   },
   "source": [
    "hence output submission has been created"
   ]
  },
  {
   "cell_type": "markdown",
   "id": "d8d715ac",
   "metadata": {
    "papermill": {
     "duration": 0.020121,
     "end_time": "2023-06-22T18:06:27.651313",
     "exception": false,
     "start_time": "2023-06-22T18:06:27.631192",
     "status": "completed"
    },
    "tags": []
   },
   "source": [
    "converting to a csv as needed"
   ]
  },
  {
   "cell_type": "code",
   "execution_count": 33,
   "id": "7fe63693",
   "metadata": {
    "execution": {
     "iopub.execute_input": "2023-06-22T18:06:27.691407Z",
     "iopub.status.busy": "2023-06-22T18:06:27.690713Z",
     "iopub.status.idle": "2023-06-22T18:06:27.791304Z",
     "shell.execute_reply": "2023-06-22T18:06:27.789958Z"
    },
    "papermill": {
     "duration": 0.123638,
     "end_time": "2023-06-22T18:06:27.794006",
     "exception": false,
     "start_time": "2023-06-22T18:06:27.670368",
     "status": "completed"
    },
    "tags": []
   },
   "outputs": [
    {
     "name": "stdout",
     "output_type": "stream",
     "text": [
      "Submission saved successfully\n"
     ]
    }
   ],
   "source": [
    "output.to_csv('submissions.csv',index=False)\n",
    "print(\"Submission saved successfully\")"
   ]
  },
  {
   "cell_type": "code",
   "execution_count": null,
   "id": "dc634e92",
   "metadata": {
    "papermill": {
     "duration": 0.01884,
     "end_time": "2023-06-22T18:06:27.831926",
     "exception": false,
     "start_time": "2023-06-22T18:06:27.813086",
     "status": "completed"
    },
    "tags": []
   },
   "outputs": [],
   "source": []
  }
 ],
 "metadata": {
  "kernelspec": {
   "display_name": "Python 3",
   "language": "python",
   "name": "python3"
  },
  "language_info": {
   "codemirror_mode": {
    "name": "ipython",
    "version": 3
   },
   "file_extension": ".py",
   "mimetype": "text/x-python",
   "name": "python",
   "nbconvert_exporter": "python",
   "pygments_lexer": "ipython3",
   "version": "3.10.10"
  },
  "papermill": {
   "default_parameters": {},
   "duration": 35.489073,
   "end_time": "2023-06-22T18:06:28.977299",
   "environment_variables": {},
   "exception": null,
   "input_path": "__notebook__.ipynb",
   "output_path": "__notebook__.ipynb",
   "parameters": {},
   "start_time": "2023-06-22T18:05:53.488226",
   "version": "2.4.0"
  }
 },
 "nbformat": 4,
 "nbformat_minor": 5
}
