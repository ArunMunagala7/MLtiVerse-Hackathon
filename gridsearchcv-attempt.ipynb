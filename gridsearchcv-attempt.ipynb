{
 "cells": [
  {
   "cell_type": "code",
   "execution_count": 1,
   "id": "12a3c536",
   "metadata": {
    "_cell_guid": "b1076dfc-b9ad-4769-8c92-a6c4dae69d19",
    "_uuid": "8f2839f25d086af736a60e9eeb907d3b93b6e0e5",
    "execution": {
     "iopub.execute_input": "2023-06-22T11:22:13.821312Z",
     "iopub.status.busy": "2023-06-22T11:22:13.820818Z",
     "iopub.status.idle": "2023-06-22T11:22:13.834940Z",
     "shell.execute_reply": "2023-06-22T11:22:13.833902Z"
    },
    "papermill": {
     "duration": 0.028371,
     "end_time": "2023-06-22T11:22:13.837197",
     "exception": false,
     "start_time": "2023-06-22T11:22:13.808826",
     "status": "completed"
    },
    "tags": []
   },
   "outputs": [
    {
     "name": "stdout",
     "output_type": "stream",
     "text": [
      "/kaggle/input/mltiverse-join-comp/sample_submission.csv\n",
      "/kaggle/input/mltiverse-join-comp/train.csv\n",
      "/kaggle/input/mltiverse-join-comp/test.csv\n"
     ]
    }
   ],
   "source": [
    "# This Python 3 environment comes with many helpful analytics libraries installed\n",
    "# It is defined by the kaggle/python Docker image: https://github.com/kaggle/docker-python\n",
    "# For example, here's several helpful packages to load\n",
    "\n",
    "import numpy as np # linear algebra\n",
    "import pandas as pd # data processing, CSV file I/O (e.g. pd.read_csv)\n",
    "\n",
    "# Input data files are available in the read-only \"../input/\" directory\n",
    "# For example, running this (by clicking run or pressing Shift+Enter) will list all files under the input directory\n",
    "\n",
    "import os\n",
    "for dirname, _, filenames in os.walk('/kaggle/input'):\n",
    "    for filename in filenames:\n",
    "        print(os.path.join(dirname, filename))\n",
    "\n",
    "# You can write up to 20GB to the current directory (/kaggle/working/) that gets preserved as output when you create a version using \"Save & Run All\" \n",
    "# You can also write temporary files to /kaggle/temp/, but they won't be saved outside of the current session"
   ]
  },
  {
   "cell_type": "markdown",
   "id": "f595aca7",
   "metadata": {
    "papermill": {
     "duration": 0.008165,
     "end_time": "2023-06-22T11:22:13.853276",
     "exception": false,
     "start_time": "2023-06-22T11:22:13.845111",
     "status": "completed"
    },
    "tags": []
   },
   "source": [
    "importing the data needed for hackathon"
   ]
  },
  {
   "cell_type": "code",
   "execution_count": 2,
   "id": "0a995db2",
   "metadata": {
    "execution": {
     "iopub.execute_input": "2023-06-22T11:22:13.872143Z",
     "iopub.status.busy": "2023-06-22T11:22:13.871728Z",
     "iopub.status.idle": "2023-06-22T11:22:15.581925Z",
     "shell.execute_reply": "2023-06-22T11:22:15.580375Z"
    },
    "papermill": {
     "duration": 1.72294,
     "end_time": "2023-06-22T11:22:15.584967",
     "exception": false,
     "start_time": "2023-06-22T11:22:13.862027",
     "status": "completed"
    },
    "tags": []
   },
   "outputs": [],
   "source": [
    "train_data=pd.read_csv('/kaggle/input/mltiverse-join-comp/train.csv')\n",
    "test_data=pd.read_csv('/kaggle/input/mltiverse-join-comp/test.csv')\n",
    "sub_data=pd.read_csv('/kaggle/input/mltiverse-join-comp/sample_submission.csv')"
   ]
  },
  {
   "cell_type": "code",
   "execution_count": 3,
   "id": "8e0fe0d7",
   "metadata": {
    "execution": {
     "iopub.execute_input": "2023-06-22T11:22:15.603335Z",
     "iopub.status.busy": "2023-06-22T11:22:15.602917Z",
     "iopub.status.idle": "2023-06-22T11:22:15.613223Z",
     "shell.execute_reply": "2023-06-22T11:22:15.611564Z"
    },
    "papermill": {
     "duration": 0.023156,
     "end_time": "2023-06-22T11:22:15.616197",
     "exception": false,
     "start_time": "2023-06-22T11:22:15.593041",
     "status": "completed"
    },
    "tags": []
   },
   "outputs": [
    {
     "data": {
      "text/plain": [
       "(16710, 65)"
      ]
     },
     "execution_count": 3,
     "metadata": {},
     "output_type": "execute_result"
    }
   ],
   "source": [
    "test_data.shape"
   ]
  },
  {
   "cell_type": "markdown",
   "id": "c8b424bb",
   "metadata": {
    "papermill": {
     "duration": 0.007371,
     "end_time": "2023-06-22T11:22:15.631746",
     "exception": false,
     "start_time": "2023-06-22T11:22:15.624375",
     "status": "completed"
    },
    "tags": []
   },
   "source": [
    "viewing the id column"
   ]
  },
  {
   "cell_type": "code",
   "execution_count": 4,
   "id": "71a86039",
   "metadata": {
    "execution": {
     "iopub.execute_input": "2023-06-22T11:22:15.649012Z",
     "iopub.status.busy": "2023-06-22T11:22:15.648624Z",
     "iopub.status.idle": "2023-06-22T11:22:15.660798Z",
     "shell.execute_reply": "2023-06-22T11:22:15.659888Z"
    },
    "papermill": {
     "duration": 0.022995,
     "end_time": "2023-06-22T11:22:15.662551",
     "exception": false,
     "start_time": "2023-06-22T11:22:15.639556",
     "status": "completed"
    },
    "tags": []
   },
   "outputs": [
    {
     "data": {
      "text/plain": [
       "0    https://cdn.sofifa.com/players/195/427/17_60.png\n",
       "1    https://cdn.sofifa.com/players/203/539/17_60.png\n",
       "2    https://cdn.sofifa.com/players/232/898/20_60.png\n",
       "3    https://cdn.sofifa.com/players/215/502/17_60.png\n",
       "4    https://cdn.sofifa.com/players/222/263/18_60.png\n",
       "Name: Photo, dtype: object"
      ]
     },
     "execution_count": 4,
     "metadata": {},
     "output_type": "execute_result"
    }
   ],
   "source": [
    "train_data['Photo'].head()"
   ]
  },
  {
   "cell_type": "markdown",
   "id": "77d512a2",
   "metadata": {
    "papermill": {
     "duration": 0.007489,
     "end_time": "2023-06-22T11:22:15.677884",
     "exception": false,
     "start_time": "2023-06-22T11:22:15.670395",
     "status": "completed"
    },
    "tags": []
   },
   "source": [
    "going to start with a very basic xgboost submission selecting what i think are some important columns"
   ]
  },
  {
   "cell_type": "markdown",
   "id": "e1792b5d",
   "metadata": {
    "papermill": {
     "duration": 0.007574,
     "end_time": "2023-06-22T11:22:15.693323",
     "exception": false,
     "start_time": "2023-06-22T11:22:15.685749",
     "status": "completed"
    },
    "tags": []
   },
   "source": [
    "changing the indexes of train and test"
   ]
  },
  {
   "cell_type": "code",
   "execution_count": 5,
   "id": "c71c781d",
   "metadata": {
    "execution": {
     "iopub.execute_input": "2023-06-22T11:22:15.710996Z",
     "iopub.status.busy": "2023-06-22T11:22:15.710607Z",
     "iopub.status.idle": "2023-06-22T11:22:15.714496Z",
     "shell.execute_reply": "2023-06-22T11:22:15.713628Z"
    },
    "papermill": {
     "duration": 0.015584,
     "end_time": "2023-06-22T11:22:15.716806",
     "exception": false,
     "start_time": "2023-06-22T11:22:15.701222",
     "status": "completed"
    },
    "tags": []
   },
   "outputs": [],
   "source": [
    "# Set the index column as 'Photo' in train_data\n",
    "#train_data.set_index('Photo', inplace=True)\n",
    "\n",
    "# Set the index column as 'Photo' in test_data\n",
    "#est_data.set_index('Photo', inplace=True)"
   ]
  },
  {
   "cell_type": "markdown",
   "id": "a10d3a7e",
   "metadata": {
    "papermill": {
     "duration": 0.007392,
     "end_time": "2023-06-22T11:22:15.732459",
     "exception": false,
     "start_time": "2023-06-22T11:22:15.725067",
     "status": "completed"
    },
    "tags": []
   },
   "source": [
    "importing xgboost model"
   ]
  },
  {
   "cell_type": "code",
   "execution_count": 6,
   "id": "7b9d2a71",
   "metadata": {
    "execution": {
     "iopub.execute_input": "2023-06-22T11:22:15.749694Z",
     "iopub.status.busy": "2023-06-22T11:22:15.748782Z",
     "iopub.status.idle": "2023-06-22T11:22:17.344852Z",
     "shell.execute_reply": "2023-06-22T11:22:17.343397Z"
    },
    "papermill": {
     "duration": 1.607417,
     "end_time": "2023-06-22T11:22:17.347441",
     "exception": false,
     "start_time": "2023-06-22T11:22:15.740024",
     "status": "completed"
    },
    "tags": []
   },
   "outputs": [],
   "source": [
    "from xgboost import XGBRegressor\n",
    "model=XGBRegressor()"
   ]
  },
  {
   "cell_type": "markdown",
   "id": "441bf289",
   "metadata": {
    "papermill": {
     "duration": 0.007435,
     "end_time": "2023-06-22T11:22:17.363008",
     "exception": false,
     "start_time": "2023-06-22T11:22:17.355573",
     "status": "completed"
    },
    "tags": []
   },
   "source": [
    "checking which columns are available for modelling"
   ]
  },
  {
   "cell_type": "code",
   "execution_count": 7,
   "id": "de0a8e5e",
   "metadata": {
    "execution": {
     "iopub.execute_input": "2023-06-22T11:22:17.380414Z",
     "iopub.status.busy": "2023-06-22T11:22:17.380065Z",
     "iopub.status.idle": "2023-06-22T11:22:17.387446Z",
     "shell.execute_reply": "2023-06-22T11:22:17.386055Z"
    },
    "papermill": {
     "duration": 0.018573,
     "end_time": "2023-06-22T11:22:17.389349",
     "exception": false,
     "start_time": "2023-06-22T11:22:17.370776",
     "status": "completed"
    },
    "tags": []
   },
   "outputs": [
    {
     "data": {
      "text/plain": [
       "Index(['Unnamed: 0', 'ID', 'Name', 'Age', 'Photo', 'Nationality', 'Flag',\n",
       "       'Overall', 'Potential', 'Club', 'Club Logo', 'Value', 'Wage', 'Special',\n",
       "       'Preferred Foot', 'International Reputation', 'Weak Foot',\n",
       "       'Skill Moves', 'Work Rate', 'Body Type', 'Real Face', 'Position',\n",
       "       'Jersey Number', 'Joined', 'Loaned From', 'Contract Valid Until',\n",
       "       'Height', 'Weight', 'Crossing', 'Finishing', 'HeadingAccuracy',\n",
       "       'ShortPassing', 'Volleys', 'Dribbling', 'Curve', 'FKAccuracy',\n",
       "       'LongPassing', 'BallControl', 'Acceleration', 'SprintSpeed', 'Agility',\n",
       "       'Reactions', 'Balance', 'ShotPower', 'Jumping', 'Stamina', 'Strength',\n",
       "       'LongShots', 'Aggression', 'Interceptions', 'Positioning', 'Vision',\n",
       "       'Penalties', 'Composure', 'Marking', 'StandingTackle', 'SlidingTackle',\n",
       "       'GKDiving', 'GKHandling', 'GKKicking', 'GKPositioning', 'GKReflexes',\n",
       "       'Best Position', 'Best Overall Rating', 'year', 'Release Clause',\n",
       "       'DefensiveAwareness'],\n",
       "      dtype='object')"
      ]
     },
     "execution_count": 7,
     "metadata": {},
     "output_type": "execute_result"
    }
   ],
   "source": [
    "train_data.columns"
   ]
  },
  {
   "cell_type": "code",
   "execution_count": 8,
   "id": "0e7e2239",
   "metadata": {
    "execution": {
     "iopub.execute_input": "2023-06-22T11:22:17.409115Z",
     "iopub.status.busy": "2023-06-22T11:22:17.408217Z",
     "iopub.status.idle": "2023-06-22T11:22:17.423931Z",
     "shell.execute_reply": "2023-06-22T11:22:17.422803Z"
    },
    "papermill": {
     "duration": 0.028921,
     "end_time": "2023-06-22T11:22:17.426575",
     "exception": false,
     "start_time": "2023-06-22T11:22:17.397654",
     "status": "completed"
    },
    "tags": []
   },
   "outputs": [
    {
     "data": {
      "text/plain": [
       "25095"
      ]
     },
     "execution_count": 8,
     "metadata": {},
     "output_type": "execute_result"
    }
   ],
   "source": [
    "train_data['Release Clause'].isna().sum()"
   ]
  },
  {
   "cell_type": "code",
   "execution_count": 9,
   "id": "d9e16792",
   "metadata": {
    "execution": {
     "iopub.execute_input": "2023-06-22T11:22:17.445319Z",
     "iopub.status.busy": "2023-06-22T11:22:17.444894Z",
     "iopub.status.idle": "2023-06-22T11:22:17.451849Z",
     "shell.execute_reply": "2023-06-22T11:22:17.451169Z"
    },
    "papermill": {
     "duration": 0.018627,
     "end_time": "2023-06-22T11:22:17.454341",
     "exception": false,
     "start_time": "2023-06-22T11:22:17.435714",
     "status": "completed"
    },
    "tags": []
   },
   "outputs": [
    {
     "data": {
      "text/plain": [
       "0    68\n",
       "1    58\n",
       "2    76\n",
       "3    86\n",
       "4    75\n",
       "Name: Potential, dtype: int64"
      ]
     },
     "execution_count": 9,
     "metadata": {},
     "output_type": "execute_result"
    }
   ],
   "source": [
    "train_data['Potential'].head()"
   ]
  },
  {
   "cell_type": "code",
   "execution_count": 10,
   "id": "f41d90c4",
   "metadata": {
    "execution": {
     "iopub.execute_input": "2023-06-22T11:22:17.473707Z",
     "iopub.status.busy": "2023-06-22T11:22:17.472971Z",
     "iopub.status.idle": "2023-06-22T11:22:17.479056Z",
     "shell.execute_reply": "2023-06-22T11:22:17.478429Z"
    },
    "papermill": {
     "duration": 0.018129,
     "end_time": "2023-06-22T11:22:17.480924",
     "exception": false,
     "start_time": "2023-06-22T11:22:17.462795",
     "status": "completed"
    },
    "tags": []
   },
   "outputs": [
    {
     "data": {
      "text/plain": [
       "Index(['Unnamed: 0', 'ID', 'Name', 'Age', 'Photo', 'Nationality', 'Flag',\n",
       "       'Overall', 'Potential', 'Club', 'Club Logo', 'Value', 'Wage', 'Special',\n",
       "       'Preferred Foot', 'International Reputation', 'Weak Foot',\n",
       "       'Skill Moves', 'Work Rate', 'Body Type', 'Real Face', 'Position',\n",
       "       'Jersey Number', 'Joined', 'Loaned From', 'Contract Valid Until',\n",
       "       'Height', 'Weight', 'Crossing', 'Finishing', 'HeadingAccuracy',\n",
       "       'ShortPassing', 'Volleys', 'Dribbling', 'Curve', 'FKAccuracy',\n",
       "       'LongPassing', 'BallControl', 'Acceleration', 'SprintSpeed', 'Agility',\n",
       "       'Reactions', 'Balance', 'ShotPower', 'Jumping', 'Stamina', 'Strength',\n",
       "       'LongShots', 'Aggression', 'Interceptions', 'Positioning', 'Vision',\n",
       "       'Penalties', 'Composure', 'Marking', 'StandingTackle', 'SlidingTackle',\n",
       "       'GKDiving', 'GKHandling', 'GKKicking', 'GKPositioning', 'GKReflexes',\n",
       "       'Best Position', 'Best Overall Rating', 'year', 'Release Clause',\n",
       "       'DefensiveAwareness'],\n",
       "      dtype='object')"
      ]
     },
     "execution_count": 10,
     "metadata": {},
     "output_type": "execute_result"
    }
   ],
   "source": [
    "train_data.columns"
   ]
  },
  {
   "cell_type": "markdown",
   "id": "fbc37f1b",
   "metadata": {
    "papermill": {
     "duration": 0.008547,
     "end_time": "2023-06-22T11:22:17.498975",
     "exception": false,
     "start_time": "2023-06-22T11:22:17.490428",
     "status": "completed"
    },
    "tags": []
   },
   "source": [
    "manually selecting some important features in the dataset for modelling"
   ]
  },
  {
   "cell_type": "code",
   "execution_count": 11,
   "id": "5a2d50df",
   "metadata": {
    "execution": {
     "iopub.execute_input": "2023-06-22T11:22:17.518326Z",
     "iopub.status.busy": "2023-06-22T11:22:17.516917Z",
     "iopub.status.idle": "2023-06-22T11:22:17.532058Z",
     "shell.execute_reply": "2023-06-22T11:22:17.530999Z"
    },
    "papermill": {
     "duration": 0.027462,
     "end_time": "2023-06-22T11:22:17.534564",
     "exception": false,
     "start_time": "2023-06-22T11:22:17.507102",
     "status": "completed"
    },
    "tags": []
   },
   "outputs": [],
   "source": [
    "train_1=train_data[['Potential','Overall','Wage','International Reputation','Age']]\n",
    "test_1=test_data[['Potential','Overall','Wage','International Reputation','Age']]"
   ]
  },
  {
   "cell_type": "markdown",
   "id": "8bf87a76",
   "metadata": {
    "papermill": {
     "duration": 0.00843,
     "end_time": "2023-06-22T11:22:17.551621",
     "exception": false,
     "start_time": "2023-06-22T11:22:17.543191",
     "status": "completed"
    },
    "tags": []
   },
   "source": [
    "making some changes to the wage column"
   ]
  },
  {
   "cell_type": "code",
   "execution_count": 12,
   "id": "472955fe",
   "metadata": {
    "execution": {
     "iopub.execute_input": "2023-06-22T11:22:17.571166Z",
     "iopub.status.busy": "2023-06-22T11:22:17.570332Z",
     "iopub.status.idle": "2023-06-22T11:22:17.597263Z",
     "shell.execute_reply": "2023-06-22T11:22:17.595781Z"
    },
    "papermill": {
     "duration": 0.038502,
     "end_time": "2023-06-22T11:22:17.599554",
     "exception": false,
     "start_time": "2023-06-22T11:22:17.561052",
     "status": "completed"
    },
    "tags": []
   },
   "outputs": [
    {
     "data": {
      "text/html": [
       "<div>\n",
       "<style scoped>\n",
       "    .dataframe tbody tr th:only-of-type {\n",
       "        vertical-align: middle;\n",
       "    }\n",
       "\n",
       "    .dataframe tbody tr th {\n",
       "        vertical-align: top;\n",
       "    }\n",
       "\n",
       "    .dataframe thead th {\n",
       "        text-align: right;\n",
       "    }\n",
       "</style>\n",
       "<table border=\"1\" class=\"dataframe\">\n",
       "  <thead>\n",
       "    <tr style=\"text-align: right;\">\n",
       "      <th></th>\n",
       "      <th>Potential</th>\n",
       "      <th>Overall</th>\n",
       "      <th>Wage</th>\n",
       "      <th>International Reputation</th>\n",
       "      <th>Age</th>\n",
       "    </tr>\n",
       "  </thead>\n",
       "  <tbody>\n",
       "    <tr>\n",
       "      <th>0</th>\n",
       "      <td>68</td>\n",
       "      <td>61</td>\n",
       "      <td>€2K</td>\n",
       "      <td>1.0</td>\n",
       "      <td>22</td>\n",
       "    </tr>\n",
       "    <tr>\n",
       "      <th>1</th>\n",
       "      <td>58</td>\n",
       "      <td>57</td>\n",
       "      <td>€500</td>\n",
       "      <td>1.0</td>\n",
       "      <td>25</td>\n",
       "    </tr>\n",
       "    <tr>\n",
       "      <th>2</th>\n",
       "      <td>76</td>\n",
       "      <td>71</td>\n",
       "      <td>€7K</td>\n",
       "      <td>1.0</td>\n",
       "      <td>23</td>\n",
       "    </tr>\n",
       "    <tr>\n",
       "      <th>3</th>\n",
       "      <td>86</td>\n",
       "      <td>71</td>\n",
       "      <td>€10K</td>\n",
       "      <td>1.0</td>\n",
       "      <td>18</td>\n",
       "    </tr>\n",
       "    <tr>\n",
       "      <th>4</th>\n",
       "      <td>75</td>\n",
       "      <td>64</td>\n",
       "      <td>€2K</td>\n",
       "      <td>1.0</td>\n",
       "      <td>19</td>\n",
       "    </tr>\n",
       "    <tr>\n",
       "      <th>...</th>\n",
       "      <td>...</td>\n",
       "      <td>...</td>\n",
       "      <td>...</td>\n",
       "      <td>...</td>\n",
       "      <td>...</td>\n",
       "    </tr>\n",
       "    <tr>\n",
       "      <th>87637</th>\n",
       "      <td>73</td>\n",
       "      <td>68</td>\n",
       "      <td>€20K</td>\n",
       "      <td>1.0</td>\n",
       "      <td>25</td>\n",
       "    </tr>\n",
       "    <tr>\n",
       "      <th>87638</th>\n",
       "      <td>58</td>\n",
       "      <td>58</td>\n",
       "      <td>€1K</td>\n",
       "      <td>1.0</td>\n",
       "      <td>28</td>\n",
       "    </tr>\n",
       "    <tr>\n",
       "      <th>87639</th>\n",
       "      <td>69</td>\n",
       "      <td>69</td>\n",
       "      <td>€8K</td>\n",
       "      <td>1.0</td>\n",
       "      <td>27</td>\n",
       "    </tr>\n",
       "    <tr>\n",
       "      <th>87640</th>\n",
       "      <td>72</td>\n",
       "      <td>66</td>\n",
       "      <td>€3K</td>\n",
       "      <td>1.0</td>\n",
       "      <td>20</td>\n",
       "    </tr>\n",
       "    <tr>\n",
       "      <th>87641</th>\n",
       "      <td>68</td>\n",
       "      <td>67</td>\n",
       "      <td>€2K</td>\n",
       "      <td>1.0</td>\n",
       "      <td>26</td>\n",
       "    </tr>\n",
       "  </tbody>\n",
       "</table>\n",
       "<p>87642 rows × 5 columns</p>\n",
       "</div>"
      ],
      "text/plain": [
       "       Potential  Overall  Wage  International Reputation  Age\n",
       "0             68       61   €2K                       1.0   22\n",
       "1             58       57  €500                       1.0   25\n",
       "2             76       71   €7K                       1.0   23\n",
       "3             86       71  €10K                       1.0   18\n",
       "4             75       64   €2K                       1.0   19\n",
       "...          ...      ...   ...                       ...  ...\n",
       "87637         73       68  €20K                       1.0   25\n",
       "87638         58       58   €1K                       1.0   28\n",
       "87639         69       69   €8K                       1.0   27\n",
       "87640         72       66   €3K                       1.0   20\n",
       "87641         68       67   €2K                       1.0   26\n",
       "\n",
       "[87642 rows x 5 columns]"
      ]
     },
     "execution_count": 12,
     "metadata": {},
     "output_type": "execute_result"
    }
   ],
   "source": [
    "train_1"
   ]
  },
  {
   "cell_type": "markdown",
   "id": "a0eef5fe",
   "metadata": {
    "papermill": {
     "duration": 0.008093,
     "end_time": "2023-06-22T11:22:17.616456",
     "exception": false,
     "start_time": "2023-06-22T11:22:17.608363",
     "status": "completed"
    },
    "tags": []
   },
   "source": [
    "checking which data types are object"
   ]
  },
  {
   "cell_type": "code",
   "execution_count": 13,
   "id": "aefefebe",
   "metadata": {
    "execution": {
     "iopub.execute_input": "2023-06-22T11:22:17.635024Z",
     "iopub.status.busy": "2023-06-22T11:22:17.634637Z",
     "iopub.status.idle": "2023-06-22T11:22:17.638764Z",
     "shell.execute_reply": "2023-06-22T11:22:17.637902Z"
    },
    "papermill": {
     "duration": 0.015708,
     "end_time": "2023-06-22T11:22:17.640504",
     "exception": false,
     "start_time": "2023-06-22T11:22:17.624796",
     "status": "completed"
    },
    "tags": []
   },
   "outputs": [],
   "source": [
    "y_train=train_data['Value']"
   ]
  },
  {
   "cell_type": "markdown",
   "id": "ec6a3cdd",
   "metadata": {
    "papermill": {
     "duration": 0.008127,
     "end_time": "2023-06-22T11:22:17.657491",
     "exception": false,
     "start_time": "2023-06-22T11:22:17.649364",
     "status": "completed"
    },
    "tags": []
   },
   "source": [
    "converting the wage column to float data type"
   ]
  },
  {
   "cell_type": "code",
   "execution_count": 14,
   "id": "3bb54452",
   "metadata": {
    "execution": {
     "iopub.execute_input": "2023-06-22T11:22:17.676464Z",
     "iopub.status.busy": "2023-06-22T11:22:17.675769Z",
     "iopub.status.idle": "2023-06-22T11:22:18.118199Z",
     "shell.execute_reply": "2023-06-22T11:22:18.115964Z"
    },
    "papermill": {
     "duration": 0.45508,
     "end_time": "2023-06-22T11:22:18.120967",
     "exception": false,
     "start_time": "2023-06-22T11:22:17.665887",
     "status": "completed"
    },
    "tags": []
   },
   "outputs": [
    {
     "name": "stderr",
     "output_type": "stream",
     "text": [
      "/tmp/ipykernel_20/3838849759.py:14: SettingWithCopyWarning: \n",
      "A value is trying to be set on a copy of a slice from a DataFrame.\n",
      "Try using .loc[row_indexer,col_indexer] = value instead\n",
      "\n",
      "See the caveats in the documentation: https://pandas.pydata.org/pandas-docs/stable/user_guide/indexing.html#returning-a-view-versus-a-copy\n",
      "  train_1['Wage'] = train_1['Wage'].apply(preprocess_wage)\n",
      "/tmp/ipykernel_20/3838849759.py:17: SettingWithCopyWarning: \n",
      "A value is trying to be set on a copy of a slice from a DataFrame.\n",
      "Try using .loc[row_indexer,col_indexer] = value instead\n",
      "\n",
      "See the caveats in the documentation: https://pandas.pydata.org/pandas-docs/stable/user_guide/indexing.html#returning-a-view-versus-a-copy\n",
      "  train_1['Wage'] = train_1['Wage'].astype(float)\n",
      "/tmp/ipykernel_20/3838849759.py:20: SettingWithCopyWarning: \n",
      "A value is trying to be set on a copy of a slice from a DataFrame.\n",
      "Try using .loc[row_indexer,col_indexer] = value instead\n",
      "\n",
      "See the caveats in the documentation: https://pandas.pydata.org/pandas-docs/stable/user_guide/indexing.html#returning-a-view-versus-a-copy\n",
      "  test_1['Wage'] = test_1['Wage'].apply(preprocess_wage)\n",
      "/tmp/ipykernel_20/3838849759.py:23: SettingWithCopyWarning: \n",
      "A value is trying to be set on a copy of a slice from a DataFrame.\n",
      "Try using .loc[row_indexer,col_indexer] = value instead\n",
      "\n",
      "See the caveats in the documentation: https://pandas.pydata.org/pandas-docs/stable/user_guide/indexing.html#returning-a-view-versus-a-copy\n",
      "  test_1['Wage'] = test_1['Wage'].astype(float)\n"
     ]
    }
   ],
   "source": [
    "import re\n",
    "# Define a function to preprocess the 'Wage' column\n",
    "def preprocess_wage(value):\n",
    "    value = re.sub(r'€', '', value)  # Remove euro symbol\n",
    "    if 'K' in value:\n",
    "        value = float(re.sub(r'[^0-9.]', '', value)) * 1000  # Remove 'K' and multiply by 1000\n",
    "    elif 'M' in value:\n",
    "        value = float(re.sub(r'[^0-9.]', '', value)) * 1000000  # Remove 'M' and multiply by 1000000\n",
    "    else:\n",
    "        value = float(value)\n",
    "    return value\n",
    "\n",
    "# Apply the preprocessing function to 'Wage' column in train_1 dataset\n",
    "train_1['Wage'] = train_1['Wage'].apply(preprocess_wage)\n",
    "\n",
    "# Convert the column to float data type\n",
    "train_1['Wage'] = train_1['Wage'].astype(float)\n",
    "\n",
    "# Apply the preprocessing function to 'Wage' column in train_1 dataset\n",
    "test_1['Wage'] = test_1['Wage'].apply(preprocess_wage)\n",
    "\n",
    "# Convert the column to float data type\n",
    "test_1['Wage'] = test_1['Wage'].astype(float)\n",
    "\n",
    "#Applying it to y_train too\n",
    "y_train=y_train.apply(preprocess_wage)\n",
    "\n",
    "#Convert the column to float data type\n",
    "y_train=y_train.astype(float)"
   ]
  },
  {
   "cell_type": "code",
   "execution_count": 15,
   "id": "26129efe",
   "metadata": {
    "execution": {
     "iopub.execute_input": "2023-06-22T11:22:18.141113Z",
     "iopub.status.busy": "2023-06-22T11:22:18.140723Z",
     "iopub.status.idle": "2023-06-22T11:22:18.152609Z",
     "shell.execute_reply": "2023-06-22T11:22:18.151031Z"
    },
    "papermill": {
     "duration": 0.024661,
     "end_time": "2023-06-22T11:22:18.154825",
     "exception": false,
     "start_time": "2023-06-22T11:22:18.130164",
     "status": "completed"
    },
    "tags": []
   },
   "outputs": [
    {
     "data": {
      "text/html": [
       "<div>\n",
       "<style scoped>\n",
       "    .dataframe tbody tr th:only-of-type {\n",
       "        vertical-align: middle;\n",
       "    }\n",
       "\n",
       "    .dataframe tbody tr th {\n",
       "        vertical-align: top;\n",
       "    }\n",
       "\n",
       "    .dataframe thead th {\n",
       "        text-align: right;\n",
       "    }\n",
       "</style>\n",
       "<table border=\"1\" class=\"dataframe\">\n",
       "  <thead>\n",
       "    <tr style=\"text-align: right;\">\n",
       "      <th></th>\n",
       "      <th>Potential</th>\n",
       "      <th>Overall</th>\n",
       "      <th>Wage</th>\n",
       "      <th>International Reputation</th>\n",
       "      <th>Age</th>\n",
       "    </tr>\n",
       "  </thead>\n",
       "  <tbody>\n",
       "    <tr>\n",
       "      <th>0</th>\n",
       "      <td>68</td>\n",
       "      <td>61</td>\n",
       "      <td>2000.0</td>\n",
       "      <td>1.0</td>\n",
       "      <td>22</td>\n",
       "    </tr>\n",
       "    <tr>\n",
       "      <th>1</th>\n",
       "      <td>58</td>\n",
       "      <td>57</td>\n",
       "      <td>500.0</td>\n",
       "      <td>1.0</td>\n",
       "      <td>25</td>\n",
       "    </tr>\n",
       "    <tr>\n",
       "      <th>2</th>\n",
       "      <td>76</td>\n",
       "      <td>71</td>\n",
       "      <td>7000.0</td>\n",
       "      <td>1.0</td>\n",
       "      <td>23</td>\n",
       "    </tr>\n",
       "    <tr>\n",
       "      <th>3</th>\n",
       "      <td>86</td>\n",
       "      <td>71</td>\n",
       "      <td>10000.0</td>\n",
       "      <td>1.0</td>\n",
       "      <td>18</td>\n",
       "    </tr>\n",
       "    <tr>\n",
       "      <th>4</th>\n",
       "      <td>75</td>\n",
       "      <td>64</td>\n",
       "      <td>2000.0</td>\n",
       "      <td>1.0</td>\n",
       "      <td>19</td>\n",
       "    </tr>\n",
       "  </tbody>\n",
       "</table>\n",
       "</div>"
      ],
      "text/plain": [
       "   Potential  Overall     Wage  International Reputation  Age\n",
       "0         68       61   2000.0                       1.0   22\n",
       "1         58       57    500.0                       1.0   25\n",
       "2         76       71   7000.0                       1.0   23\n",
       "3         86       71  10000.0                       1.0   18\n",
       "4         75       64   2000.0                       1.0   19"
      ]
     },
     "execution_count": 15,
     "metadata": {},
     "output_type": "execute_result"
    }
   ],
   "source": [
    "train_1.head()"
   ]
  },
  {
   "cell_type": "code",
   "execution_count": 16,
   "id": "129b7d79",
   "metadata": {
    "execution": {
     "iopub.execute_input": "2023-06-22T11:22:18.174362Z",
     "iopub.status.busy": "2023-06-22T11:22:18.173622Z",
     "iopub.status.idle": "2023-06-22T11:22:18.182221Z",
     "shell.execute_reply": "2023-06-22T11:22:18.181081Z"
    },
    "papermill": {
     "duration": 0.020635,
     "end_time": "2023-06-22T11:22:18.184151",
     "exception": false,
     "start_time": "2023-06-22T11:22:18.163516",
     "status": "completed"
    },
    "tags": []
   },
   "outputs": [
    {
     "data": {
      "text/plain": [
       "0     325000.0\n",
       "1     140000.0\n",
       "2    3200000.0\n",
       "3    2900000.0\n",
       "4     575000.0\n",
       "Name: Value, dtype: float64"
      ]
     },
     "execution_count": 16,
     "metadata": {},
     "output_type": "execute_result"
    }
   ],
   "source": [
    "y_train.head()"
   ]
  },
  {
   "cell_type": "markdown",
   "id": "6020701c",
   "metadata": {
    "papermill": {
     "duration": 0.008303,
     "end_time": "2023-06-22T11:22:18.201545",
     "exception": false,
     "start_time": "2023-06-22T11:22:18.193242",
     "status": "completed"
    },
    "tags": []
   },
   "source": [
    "using gridsearchCV and modelling now"
   ]
  },
  {
   "cell_type": "code",
   "execution_count": 17,
   "id": "916b071f",
   "metadata": {
    "execution": {
     "iopub.execute_input": "2023-06-22T11:22:18.220958Z",
     "iopub.status.busy": "2023-06-22T11:22:18.220351Z",
     "iopub.status.idle": "2023-06-22T11:22:18.226600Z",
     "shell.execute_reply": "2023-06-22T11:22:18.225829Z"
    },
    "papermill": {
     "duration": 0.018591,
     "end_time": "2023-06-22T11:22:18.229024",
     "exception": false,
     "start_time": "2023-06-22T11:22:18.210433",
     "status": "completed"
    },
    "tags": []
   },
   "outputs": [],
   "source": [
    "from sklearn.model_selection import GridSearchCV\n",
    "from sklearn.metrics import make_scorer, mean_squared_error\n",
    "# Define a custom scoring function for RMSE\n",
    "scorer = make_scorer(lambda y_true, y_pred: mean_squared_error(y_true, y_pred, squared=False), greater_is_better=False)\n",
    "model=XGBRegressor()\n",
    "param_grid = {\n",
    "    'n_estimators': [100, 200, 300, 500, 1000],  # Wider range of values for n_estimators\n",
    "    'learning_rate': [0.01, 0.05, 0.1, 0.2, 0.5]  # Wider range of values for learning_rate\n",
    "}\n",
    "\n",
    "grid_search = GridSearchCV(model, param_grid, cv=5, scoring=scorer)"
   ]
  },
  {
   "cell_type": "markdown",
   "id": "7c304f68",
   "metadata": {
    "papermill": {
     "duration": 0.009429,
     "end_time": "2023-06-22T11:22:18.247739",
     "exception": false,
     "start_time": "2023-06-22T11:22:18.238310",
     "status": "completed"
    },
    "tags": []
   },
   "source": [
    "applying and fitting GridSearchCV on the training data"
   ]
  },
  {
   "cell_type": "code",
   "execution_count": 18,
   "id": "28031477",
   "metadata": {
    "execution": {
     "iopub.execute_input": "2023-06-22T11:22:18.269205Z",
     "iopub.status.busy": "2023-06-22T11:22:18.268436Z",
     "iopub.status.idle": "2023-06-22T11:41:14.314369Z",
     "shell.execute_reply": "2023-06-22T11:41:14.312456Z"
    },
    "papermill": {
     "duration": 1136.067586,
     "end_time": "2023-06-22T11:41:14.325564",
     "exception": false,
     "start_time": "2023-06-22T11:22:18.257978",
     "status": "completed"
    },
    "tags": []
   },
   "outputs": [
    {
     "data": {
      "text/html": [
       "<style>#sk-container-id-1 {color: black;background-color: white;}#sk-container-id-1 pre{padding: 0;}#sk-container-id-1 div.sk-toggleable {background-color: white;}#sk-container-id-1 label.sk-toggleable__label {cursor: pointer;display: block;width: 100%;margin-bottom: 0;padding: 0.3em;box-sizing: border-box;text-align: center;}#sk-container-id-1 label.sk-toggleable__label-arrow:before {content: \"▸\";float: left;margin-right: 0.25em;color: #696969;}#sk-container-id-1 label.sk-toggleable__label-arrow:hover:before {color: black;}#sk-container-id-1 div.sk-estimator:hover label.sk-toggleable__label-arrow:before {color: black;}#sk-container-id-1 div.sk-toggleable__content {max-height: 0;max-width: 0;overflow: hidden;text-align: left;background-color: #f0f8ff;}#sk-container-id-1 div.sk-toggleable__content pre {margin: 0.2em;color: black;border-radius: 0.25em;background-color: #f0f8ff;}#sk-container-id-1 input.sk-toggleable__control:checked~div.sk-toggleable__content {max-height: 200px;max-width: 100%;overflow: auto;}#sk-container-id-1 input.sk-toggleable__control:checked~label.sk-toggleable__label-arrow:before {content: \"▾\";}#sk-container-id-1 div.sk-estimator input.sk-toggleable__control:checked~label.sk-toggleable__label {background-color: #d4ebff;}#sk-container-id-1 div.sk-label input.sk-toggleable__control:checked~label.sk-toggleable__label {background-color: #d4ebff;}#sk-container-id-1 input.sk-hidden--visually {border: 0;clip: rect(1px 1px 1px 1px);clip: rect(1px, 1px, 1px, 1px);height: 1px;margin: -1px;overflow: hidden;padding: 0;position: absolute;width: 1px;}#sk-container-id-1 div.sk-estimator {font-family: monospace;background-color: #f0f8ff;border: 1px dotted black;border-radius: 0.25em;box-sizing: border-box;margin-bottom: 0.5em;}#sk-container-id-1 div.sk-estimator:hover {background-color: #d4ebff;}#sk-container-id-1 div.sk-parallel-item::after {content: \"\";width: 100%;border-bottom: 1px solid gray;flex-grow: 1;}#sk-container-id-1 div.sk-label:hover label.sk-toggleable__label {background-color: #d4ebff;}#sk-container-id-1 div.sk-serial::before {content: \"\";position: absolute;border-left: 1px solid gray;box-sizing: border-box;top: 0;bottom: 0;left: 50%;z-index: 0;}#sk-container-id-1 div.sk-serial {display: flex;flex-direction: column;align-items: center;background-color: white;padding-right: 0.2em;padding-left: 0.2em;position: relative;}#sk-container-id-1 div.sk-item {position: relative;z-index: 1;}#sk-container-id-1 div.sk-parallel {display: flex;align-items: stretch;justify-content: center;background-color: white;position: relative;}#sk-container-id-1 div.sk-item::before, #sk-container-id-1 div.sk-parallel-item::before {content: \"\";position: absolute;border-left: 1px solid gray;box-sizing: border-box;top: 0;bottom: 0;left: 50%;z-index: -1;}#sk-container-id-1 div.sk-parallel-item {display: flex;flex-direction: column;z-index: 1;position: relative;background-color: white;}#sk-container-id-1 div.sk-parallel-item:first-child::after {align-self: flex-end;width: 50%;}#sk-container-id-1 div.sk-parallel-item:last-child::after {align-self: flex-start;width: 50%;}#sk-container-id-1 div.sk-parallel-item:only-child::after {width: 0;}#sk-container-id-1 div.sk-dashed-wrapped {border: 1px dashed gray;margin: 0 0.4em 0.5em 0.4em;box-sizing: border-box;padding-bottom: 0.4em;background-color: white;}#sk-container-id-1 div.sk-label label {font-family: monospace;font-weight: bold;display: inline-block;line-height: 1.2em;}#sk-container-id-1 div.sk-label-container {text-align: center;}#sk-container-id-1 div.sk-container {/* jupyter's `normalize.less` sets `[hidden] { display: none; }` but bootstrap.min.css set `[hidden] { display: none !important; }` so we also need the `!important` here to be able to override the default hidden behavior on the sphinx rendered scikit-learn.org. See: https://github.com/scikit-learn/scikit-learn/issues/21755 */display: inline-block !important;position: relative;}#sk-container-id-1 div.sk-text-repr-fallback {display: none;}</style><div id=\"sk-container-id-1\" class=\"sk-top-container\"><div class=\"sk-text-repr-fallback\"><pre>GridSearchCV(cv=5,\n",
       "             estimator=XGBRegressor(base_score=None, booster=None,\n",
       "                                    callbacks=None, colsample_bylevel=None,\n",
       "                                    colsample_bynode=None,\n",
       "                                    colsample_bytree=None,\n",
       "                                    early_stopping_rounds=None,\n",
       "                                    enable_categorical=False, eval_metric=None,\n",
       "                                    feature_types=None, gamma=None, gpu_id=None,\n",
       "                                    grow_policy=None, importance_type=None,\n",
       "                                    interaction_constraints=None,\n",
       "                                    learning_rate=None, m...\n",
       "                                    max_cat_to_onehot=None, max_delta_step=None,\n",
       "                                    max_depth=None, max_leaves=None,\n",
       "                                    min_child_weight=None, missing=nan,\n",
       "                                    monotone_constraints=None, n_estimators=100,\n",
       "                                    n_jobs=None, num_parallel_tree=None,\n",
       "                                    predictor=None, random_state=None, ...),\n",
       "             param_grid={&#x27;learning_rate&#x27;: [0.01, 0.05, 0.1, 0.2, 0.5],\n",
       "                         &#x27;n_estimators&#x27;: [100, 200, 300, 500, 1000]},\n",
       "             scoring=make_scorer(&lt;lambda&gt;, greater_is_better=False))</pre><b>In a Jupyter environment, please rerun this cell to show the HTML representation or trust the notebook. <br />On GitHub, the HTML representation is unable to render, please try loading this page with nbviewer.org.</b></div><div class=\"sk-container\" hidden><div class=\"sk-item sk-dashed-wrapped\"><div class=\"sk-label-container\"><div class=\"sk-label sk-toggleable\"><input class=\"sk-toggleable__control sk-hidden--visually\" id=\"sk-estimator-id-1\" type=\"checkbox\" ><label for=\"sk-estimator-id-1\" class=\"sk-toggleable__label sk-toggleable__label-arrow\">GridSearchCV</label><div class=\"sk-toggleable__content\"><pre>GridSearchCV(cv=5,\n",
       "             estimator=XGBRegressor(base_score=None, booster=None,\n",
       "                                    callbacks=None, colsample_bylevel=None,\n",
       "                                    colsample_bynode=None,\n",
       "                                    colsample_bytree=None,\n",
       "                                    early_stopping_rounds=None,\n",
       "                                    enable_categorical=False, eval_metric=None,\n",
       "                                    feature_types=None, gamma=None, gpu_id=None,\n",
       "                                    grow_policy=None, importance_type=None,\n",
       "                                    interaction_constraints=None,\n",
       "                                    learning_rate=None, m...\n",
       "                                    max_cat_to_onehot=None, max_delta_step=None,\n",
       "                                    max_depth=None, max_leaves=None,\n",
       "                                    min_child_weight=None, missing=nan,\n",
       "                                    monotone_constraints=None, n_estimators=100,\n",
       "                                    n_jobs=None, num_parallel_tree=None,\n",
       "                                    predictor=None, random_state=None, ...),\n",
       "             param_grid={&#x27;learning_rate&#x27;: [0.01, 0.05, 0.1, 0.2, 0.5],\n",
       "                         &#x27;n_estimators&#x27;: [100, 200, 300, 500, 1000]},\n",
       "             scoring=make_scorer(&lt;lambda&gt;, greater_is_better=False))</pre></div></div></div><div class=\"sk-parallel\"><div class=\"sk-parallel-item\"><div class=\"sk-item\"><div class=\"sk-label-container\"><div class=\"sk-label sk-toggleable\"><input class=\"sk-toggleable__control sk-hidden--visually\" id=\"sk-estimator-id-2\" type=\"checkbox\" ><label for=\"sk-estimator-id-2\" class=\"sk-toggleable__label sk-toggleable__label-arrow\">estimator: XGBRegressor</label><div class=\"sk-toggleable__content\"><pre>XGBRegressor(base_score=None, booster=None, callbacks=None,\n",
       "             colsample_bylevel=None, colsample_bynode=None,\n",
       "             colsample_bytree=None, early_stopping_rounds=None,\n",
       "             enable_categorical=False, eval_metric=None, feature_types=None,\n",
       "             gamma=None, gpu_id=None, grow_policy=None, importance_type=None,\n",
       "             interaction_constraints=None, learning_rate=None, max_bin=None,\n",
       "             max_cat_threshold=None, max_cat_to_onehot=None,\n",
       "             max_delta_step=None, max_depth=None, max_leaves=None,\n",
       "             min_child_weight=None, missing=nan, monotone_constraints=None,\n",
       "             n_estimators=100, n_jobs=None, num_parallel_tree=None,\n",
       "             predictor=None, random_state=None, ...)</pre></div></div></div><div class=\"sk-serial\"><div class=\"sk-item\"><div class=\"sk-estimator sk-toggleable\"><input class=\"sk-toggleable__control sk-hidden--visually\" id=\"sk-estimator-id-3\" type=\"checkbox\" ><label for=\"sk-estimator-id-3\" class=\"sk-toggleable__label sk-toggleable__label-arrow\">XGBRegressor</label><div class=\"sk-toggleable__content\"><pre>XGBRegressor(base_score=None, booster=None, callbacks=None,\n",
       "             colsample_bylevel=None, colsample_bynode=None,\n",
       "             colsample_bytree=None, early_stopping_rounds=None,\n",
       "             enable_categorical=False, eval_metric=None, feature_types=None,\n",
       "             gamma=None, gpu_id=None, grow_policy=None, importance_type=None,\n",
       "             interaction_constraints=None, learning_rate=None, max_bin=None,\n",
       "             max_cat_threshold=None, max_cat_to_onehot=None,\n",
       "             max_delta_step=None, max_depth=None, max_leaves=None,\n",
       "             min_child_weight=None, missing=nan, monotone_constraints=None,\n",
       "             n_estimators=100, n_jobs=None, num_parallel_tree=None,\n",
       "             predictor=None, random_state=None, ...)</pre></div></div></div></div></div></div></div></div></div></div>"
      ],
      "text/plain": [
       "GridSearchCV(cv=5,\n",
       "             estimator=XGBRegressor(base_score=None, booster=None,\n",
       "                                    callbacks=None, colsample_bylevel=None,\n",
       "                                    colsample_bynode=None,\n",
       "                                    colsample_bytree=None,\n",
       "                                    early_stopping_rounds=None,\n",
       "                                    enable_categorical=False, eval_metric=None,\n",
       "                                    feature_types=None, gamma=None, gpu_id=None,\n",
       "                                    grow_policy=None, importance_type=None,\n",
       "                                    interaction_constraints=None,\n",
       "                                    learning_rate=None, m...\n",
       "                                    max_cat_to_onehot=None, max_delta_step=None,\n",
       "                                    max_depth=None, max_leaves=None,\n",
       "                                    min_child_weight=None, missing=nan,\n",
       "                                    monotone_constraints=None, n_estimators=100,\n",
       "                                    n_jobs=None, num_parallel_tree=None,\n",
       "                                    predictor=None, random_state=None, ...),\n",
       "             param_grid={'learning_rate': [0.01, 0.05, 0.1, 0.2, 0.5],\n",
       "                         'n_estimators': [100, 200, 300, 500, 1000]},\n",
       "             scoring=make_scorer(<lambda>, greater_is_better=False))"
      ]
     },
     "execution_count": 18,
     "metadata": {},
     "output_type": "execute_result"
    }
   ],
   "source": [
    "grid_search.fit(train_1, y_train)"
   ]
  },
  {
   "cell_type": "code",
   "execution_count": 19,
   "id": "85d0732e",
   "metadata": {
    "execution": {
     "iopub.execute_input": "2023-06-22T11:41:14.345642Z",
     "iopub.status.busy": "2023-06-22T11:41:14.345254Z",
     "iopub.status.idle": "2023-06-22T11:41:14.357375Z",
     "shell.execute_reply": "2023-06-22T11:41:14.356384Z"
    },
    "papermill": {
     "duration": 0.024427,
     "end_time": "2023-06-22T11:41:14.359229",
     "exception": false,
     "start_time": "2023-06-22T11:41:14.334802",
     "status": "completed"
    },
    "tags": []
   },
   "outputs": [
    {
     "data": {
      "text/html": [
       "<div>\n",
       "<style scoped>\n",
       "    .dataframe tbody tr th:only-of-type {\n",
       "        vertical-align: middle;\n",
       "    }\n",
       "\n",
       "    .dataframe tbody tr th {\n",
       "        vertical-align: top;\n",
       "    }\n",
       "\n",
       "    .dataframe thead th {\n",
       "        text-align: right;\n",
       "    }\n",
       "</style>\n",
       "<table border=\"1\" class=\"dataframe\">\n",
       "  <thead>\n",
       "    <tr style=\"text-align: right;\">\n",
       "      <th></th>\n",
       "      <th>Potential</th>\n",
       "      <th>Overall</th>\n",
       "      <th>Wage</th>\n",
       "      <th>International Reputation</th>\n",
       "      <th>Age</th>\n",
       "    </tr>\n",
       "  </thead>\n",
       "  <tbody>\n",
       "    <tr>\n",
       "      <th>0</th>\n",
       "      <td>89</td>\n",
       "      <td>88</td>\n",
       "      <td>250000.0</td>\n",
       "      <td>3.0</td>\n",
       "      <td>26</td>\n",
       "    </tr>\n",
       "    <tr>\n",
       "      <th>1</th>\n",
       "      <td>88</td>\n",
       "      <td>87</td>\n",
       "      <td>140000.0</td>\n",
       "      <td>4.0</td>\n",
       "      <td>26</td>\n",
       "    </tr>\n",
       "    <tr>\n",
       "      <th>2</th>\n",
       "      <td>88</td>\n",
       "      <td>88</td>\n",
       "      <td>135000.0</td>\n",
       "      <td>5.0</td>\n",
       "      <td>34</td>\n",
       "    </tr>\n",
       "    <tr>\n",
       "      <th>3</th>\n",
       "      <td>91</td>\n",
       "      <td>91</td>\n",
       "      <td>350000.0</td>\n",
       "      <td>4.0</td>\n",
       "      <td>30</td>\n",
       "    </tr>\n",
       "    <tr>\n",
       "      <th>4</th>\n",
       "      <td>84</td>\n",
       "      <td>84</td>\n",
       "      <td>45000.0</td>\n",
       "      <td>2.0</td>\n",
       "      <td>29</td>\n",
       "    </tr>\n",
       "  </tbody>\n",
       "</table>\n",
       "</div>"
      ],
      "text/plain": [
       "   Potential  Overall      Wage  International Reputation  Age\n",
       "0         89       88  250000.0                       3.0   26\n",
       "1         88       87  140000.0                       4.0   26\n",
       "2         88       88  135000.0                       5.0   34\n",
       "3         91       91  350000.0                       4.0   30\n",
       "4         84       84   45000.0                       2.0   29"
      ]
     },
     "execution_count": 19,
     "metadata": {},
     "output_type": "execute_result"
    }
   ],
   "source": [
    "test_1.head()"
   ]
  },
  {
   "cell_type": "code",
   "execution_count": 20,
   "id": "0b668620",
   "metadata": {
    "execution": {
     "iopub.execute_input": "2023-06-22T11:41:14.380173Z",
     "iopub.status.busy": "2023-06-22T11:41:14.379449Z",
     "iopub.status.idle": "2023-06-22T11:41:14.387628Z",
     "shell.execute_reply": "2023-06-22T11:41:14.385867Z"
    },
    "papermill": {
     "duration": 0.021747,
     "end_time": "2023-06-22T11:41:14.390509",
     "exception": false,
     "start_time": "2023-06-22T11:41:14.368762",
     "status": "completed"
    },
    "tags": []
   },
   "outputs": [
    {
     "data": {
      "text/plain": [
       "(16710, 5)"
      ]
     },
     "execution_count": 20,
     "metadata": {},
     "output_type": "execute_result"
    }
   ],
   "source": [
    "test_1.shape"
   ]
  },
  {
   "cell_type": "markdown",
   "id": "95f0ba86",
   "metadata": {
    "papermill": {
     "duration": 0.009429,
     "end_time": "2023-06-22T11:41:14.409984",
     "exception": false,
     "start_time": "2023-06-22T11:41:14.400555",
     "status": "completed"
    },
    "tags": []
   },
   "source": [
    "storing predictions"
   ]
  },
  {
   "cell_type": "code",
   "execution_count": 21,
   "id": "eb48183d",
   "metadata": {
    "execution": {
     "iopub.execute_input": "2023-06-22T11:41:14.431422Z",
     "iopub.status.busy": "2023-06-22T11:41:14.430811Z",
     "iopub.status.idle": "2023-06-22T11:41:14.504443Z",
     "shell.execute_reply": "2023-06-22T11:41:14.503645Z"
    },
    "papermill": {
     "duration": 0.087258,
     "end_time": "2023-06-22T11:41:14.506950",
     "exception": false,
     "start_time": "2023-06-22T11:41:14.419692",
     "status": "completed"
    },
    "tags": []
   },
   "outputs": [],
   "source": [
    "pred=grid_search.predict(test_1)"
   ]
  },
  {
   "cell_type": "code",
   "execution_count": 22,
   "id": "4f9d4a4f",
   "metadata": {
    "execution": {
     "iopub.execute_input": "2023-06-22T11:41:14.529242Z",
     "iopub.status.busy": "2023-06-22T11:41:14.528363Z",
     "iopub.status.idle": "2023-06-22T11:41:14.534538Z",
     "shell.execute_reply": "2023-06-22T11:41:14.533168Z"
    },
    "papermill": {
     "duration": 0.01991,
     "end_time": "2023-06-22T11:41:14.537067",
     "exception": false,
     "start_time": "2023-06-22T11:41:14.517157",
     "status": "completed"
    },
    "tags": []
   },
   "outputs": [
    {
     "data": {
      "text/plain": [
       "(16710,)"
      ]
     },
     "execution_count": 22,
     "metadata": {},
     "output_type": "execute_result"
    }
   ],
   "source": [
    "pred.shape"
   ]
  },
  {
   "cell_type": "code",
   "execution_count": 23,
   "id": "7ebf0a2e",
   "metadata": {
    "execution": {
     "iopub.execute_input": "2023-06-22T11:41:14.557975Z",
     "iopub.status.busy": "2023-06-22T11:41:14.557610Z",
     "iopub.status.idle": "2023-06-22T11:41:14.563677Z",
     "shell.execute_reply": "2023-06-22T11:41:14.562678Z"
    },
    "papermill": {
     "duration": 0.019345,
     "end_time": "2023-06-22T11:41:14.566333",
     "exception": false,
     "start_time": "2023-06-22T11:41:14.546988",
     "status": "completed"
    },
    "tags": []
   },
   "outputs": [],
   "source": [
    "output = pd.DataFrame({'Photo':test_data['Photo'],'Value': pred})  # Create the DataFrame with the 'Value' column\n",
    "output = output.set_index(test_1.index)  # Set the index column to test_1.index"
   ]
  },
  {
   "cell_type": "markdown",
   "id": "98240971",
   "metadata": {
    "papermill": {
     "duration": 0.009334,
     "end_time": "2023-06-22T11:41:14.585669",
     "exception": false,
     "start_time": "2023-06-22T11:41:14.576335",
     "status": "completed"
    },
    "tags": []
   },
   "source": [
    "now storing the final submission"
   ]
  },
  {
   "cell_type": "code",
   "execution_count": 24,
   "id": "cf1a48bb",
   "metadata": {
    "execution": {
     "iopub.execute_input": "2023-06-22T11:41:14.606797Z",
     "iopub.status.busy": "2023-06-22T11:41:14.606405Z",
     "iopub.status.idle": "2023-06-22T11:41:14.618282Z",
     "shell.execute_reply": "2023-06-22T11:41:14.616723Z"
    },
    "papermill": {
     "duration": 0.025239,
     "end_time": "2023-06-22T11:41:14.620628",
     "exception": false,
     "start_time": "2023-06-22T11:41:14.595389",
     "status": "completed"
    },
    "tags": []
   },
   "outputs": [
    {
     "data": {
      "text/html": [
       "<div>\n",
       "<style scoped>\n",
       "    .dataframe tbody tr th:only-of-type {\n",
       "        vertical-align: middle;\n",
       "    }\n",
       "\n",
       "    .dataframe tbody tr th {\n",
       "        vertical-align: top;\n",
       "    }\n",
       "\n",
       "    .dataframe thead th {\n",
       "        text-align: right;\n",
       "    }\n",
       "</style>\n",
       "<table border=\"1\" class=\"dataframe\">\n",
       "  <thead>\n",
       "    <tr style=\"text-align: right;\">\n",
       "      <th></th>\n",
       "      <th>Photo</th>\n",
       "      <th>Value</th>\n",
       "    </tr>\n",
       "  </thead>\n",
       "  <tbody>\n",
       "    <tr>\n",
       "      <th>0</th>\n",
       "      <td>https://cdn.sofifa.com/players/212/198/22_60.png</td>\n",
       "      <td>66300448.0</td>\n",
       "    </tr>\n",
       "    <tr>\n",
       "      <th>1</th>\n",
       "      <td>https://cdn.sofifa.com/players/209/658/22_60.png</td>\n",
       "      <td>56364040.0</td>\n",
       "    </tr>\n",
       "    <tr>\n",
       "      <th>2</th>\n",
       "      <td>https://cdn.sofifa.com/players/176/580/22_60.png</td>\n",
       "      <td>26489434.0</td>\n",
       "    </tr>\n",
       "    <tr>\n",
       "      <th>3</th>\n",
       "      <td>https://cdn.sofifa.com/players/192/985/22_60.png</td>\n",
       "      <td>89890800.0</td>\n",
       "    </tr>\n",
       "    <tr>\n",
       "      <th>4</th>\n",
       "      <td>https://cdn.sofifa.com/players/224/334/22_60.png</td>\n",
       "      <td>30631668.0</td>\n",
       "    </tr>\n",
       "  </tbody>\n",
       "</table>\n",
       "</div>"
      ],
      "text/plain": [
       "                                              Photo       Value\n",
       "0  https://cdn.sofifa.com/players/212/198/22_60.png  66300448.0\n",
       "1  https://cdn.sofifa.com/players/209/658/22_60.png  56364040.0\n",
       "2  https://cdn.sofifa.com/players/176/580/22_60.png  26489434.0\n",
       "3  https://cdn.sofifa.com/players/192/985/22_60.png  89890800.0\n",
       "4  https://cdn.sofifa.com/players/224/334/22_60.png  30631668.0"
      ]
     },
     "execution_count": 24,
     "metadata": {},
     "output_type": "execute_result"
    }
   ],
   "source": [
    "output.head()"
   ]
  },
  {
   "cell_type": "markdown",
   "id": "b8c52ac7",
   "metadata": {
    "papermill": {
     "duration": 0.009061,
     "end_time": "2023-06-22T11:41:14.639682",
     "exception": false,
     "start_time": "2023-06-22T11:41:14.630621",
     "status": "completed"
    },
    "tags": []
   },
   "source": [
    "converting to a csv now"
   ]
  },
  {
   "cell_type": "markdown",
   "id": "4ce2010c",
   "metadata": {
    "papermill": {
     "duration": 0.009301,
     "end_time": "2023-06-22T11:41:14.658639",
     "exception": false,
     "start_time": "2023-06-22T11:41:14.649338",
     "status": "completed"
    },
    "tags": []
   },
   "source": [
    "done for now"
   ]
  },
  {
   "cell_type": "code",
   "execution_count": 25,
   "id": "256b6495",
   "metadata": {
    "execution": {
     "iopub.execute_input": "2023-06-22T11:41:14.679980Z",
     "iopub.status.busy": "2023-06-22T11:41:14.679588Z",
     "iopub.status.idle": "2023-06-22T11:41:14.724271Z",
     "shell.execute_reply": "2023-06-22T11:41:14.722531Z"
    },
    "papermill": {
     "duration": 0.057307,
     "end_time": "2023-06-22T11:41:14.725949",
     "exception": false,
     "start_time": "2023-06-22T11:41:14.668642",
     "status": "completed"
    },
    "tags": []
   },
   "outputs": [
    {
     "name": "stdout",
     "output_type": "stream",
     "text": [
      "Submission saved successfully\n"
     ]
    }
   ],
   "source": [
    "output.to_csv('submissions.csv',index=False)\n",
    "print(\"Submission saved successfully\")"
   ]
  },
  {
   "cell_type": "code",
   "execution_count": null,
   "id": "21076e21",
   "metadata": {
    "papermill": {
     "duration": 0.009249,
     "end_time": "2023-06-22T11:41:14.744720",
     "exception": false,
     "start_time": "2023-06-22T11:41:14.735471",
     "status": "completed"
    },
    "tags": []
   },
   "outputs": [],
   "source": []
  }
 ],
 "metadata": {
  "kernelspec": {
   "display_name": "Python 3",
   "language": "python",
   "name": "python3"
  },
  "language_info": {
   "codemirror_mode": {
    "name": "ipython",
    "version": 3
   },
   "file_extension": ".py",
   "mimetype": "text/x-python",
   "name": "python",
   "nbconvert_exporter": "python",
   "pygments_lexer": "ipython3",
   "version": "3.10.10"
  },
  "papermill": {
   "default_parameters": {},
   "duration": 1151.987221,
   "end_time": "2023-06-22T11:41:15.779754",
   "environment_variables": {},
   "exception": null,
   "input_path": "__notebook__.ipynb",
   "output_path": "__notebook__.ipynb",
   "parameters": {},
   "start_time": "2023-06-22T11:22:03.792533",
   "version": "2.4.0"
  }
 },
 "nbformat": 4,
 "nbformat_minor": 5
}
