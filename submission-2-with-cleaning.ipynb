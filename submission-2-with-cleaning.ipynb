{
 "cells": [
  {
   "cell_type": "code",
   "execution_count": 1,
   "id": "1d85cb88",
   "metadata": {
    "execution": {
     "iopub.execute_input": "2023-06-22T12:23:23.302189Z",
     "iopub.status.busy": "2023-06-22T12:23:23.301683Z",
     "iopub.status.idle": "2023-06-22T12:23:23.317559Z",
     "shell.execute_reply": "2023-06-22T12:23:23.316538Z"
    },
    "papermill": {
     "duration": 0.031796,
     "end_time": "2023-06-22T12:23:23.320010",
     "exception": false,
     "start_time": "2023-06-22T12:23:23.288214",
     "status": "completed"
    },
    "tags": []
   },
   "outputs": [
    {
     "name": "stdout",
     "output_type": "stream",
     "text": [
      "/kaggle/input/mltiverse-join-comp/sample_submission.csv\n",
      "/kaggle/input/mltiverse-join-comp/train.csv\n",
      "/kaggle/input/mltiverse-join-comp/test.csv\n"
     ]
    }
   ],
   "source": [
    "## This Python 3 environment comes with many helpful analytics libraries installed\n",
    "# It is defined by the kaggle/python Docker image: https://github.com/kaggle/docker-python\n",
    "# For example, here's several helpful packages to load\n",
    "\n",
    "import numpy as np # linear algebra\n",
    "import pandas as pd # data processing, CSV file I/O (e.g. pd.read_csv)\n",
    "\n",
    "# Input data files are available in the read-only \"../input/\" directory\n",
    "# For example, running this (by clicking run or pressing Shift+Enter) will list all files under the input directory\n",
    "\n",
    "import os\n",
    "for dirname, _, filenames in os.walk('/kaggle/input'):\n",
    "    for filename in filenames:\n",
    "        print(os.path.join(dirname, filename))\n",
    "\n",
    "# You can write up to 20GB to the current directory (/kaggle/working/) that gets preserved as output when you create a version using \"Save & Run All\" \n",
    "# You can also write temporary files to /kaggle/temp/, but they won't be saved outside of the current session"
   ]
  },
  {
   "cell_type": "markdown",
   "id": "6a40d3f8",
   "metadata": {
    "papermill": {
     "duration": 0.010898,
     "end_time": "2023-06-22T12:23:23.340900",
     "exception": false,
     "start_time": "2023-06-22T12:23:23.330002",
     "status": "completed"
    },
    "tags": []
   },
   "source": [
    "importing data"
   ]
  },
  {
   "cell_type": "code",
   "execution_count": 2,
   "id": "07881986",
   "metadata": {
    "execution": {
     "iopub.execute_input": "2023-06-22T12:23:23.362526Z",
     "iopub.status.busy": "2023-06-22T12:23:23.361780Z",
     "iopub.status.idle": "2023-06-22T12:23:25.725673Z",
     "shell.execute_reply": "2023-06-22T12:23:25.724671Z"
    },
    "papermill": {
     "duration": 2.377927,
     "end_time": "2023-06-22T12:23:25.728579",
     "exception": false,
     "start_time": "2023-06-22T12:23:23.350652",
     "status": "completed"
    },
    "tags": []
   },
   "outputs": [],
   "source": [
    "train_data=pd.read_csv('/kaggle/input/mltiverse-join-comp/train.csv')\n",
    "test_data=pd.read_csv('/kaggle/input/mltiverse-join-comp/test.csv')\n",
    "sample=pd.read_csv('/kaggle/input/mltiverse-join-comp/sample_submission.csv')"
   ]
  },
  {
   "cell_type": "markdown",
   "id": "7936d1fc",
   "metadata": {
    "papermill": {
     "duration": 0.009154,
     "end_time": "2023-06-22T12:23:25.747513",
     "exception": false,
     "start_time": "2023-06-22T12:23:25.738359",
     "status": "completed"
    },
    "tags": []
   },
   "source": [
    "making some comparisions"
   ]
  },
  {
   "cell_type": "code",
   "execution_count": 3,
   "id": "759ff655",
   "metadata": {
    "execution": {
     "iopub.execute_input": "2023-06-22T12:23:25.767771Z",
     "iopub.status.busy": "2023-06-22T12:23:25.767416Z",
     "iopub.status.idle": "2023-06-22T12:23:25.774618Z",
     "shell.execute_reply": "2023-06-22T12:23:25.773569Z"
    },
    "papermill": {
     "duration": 0.0205,
     "end_time": "2023-06-22T12:23:25.777400",
     "exception": false,
     "start_time": "2023-06-22T12:23:25.756900",
     "status": "completed"
    },
    "tags": []
   },
   "outputs": [
    {
     "data": {
      "text/plain": [
       "(16710, 2)"
      ]
     },
     "execution_count": 3,
     "metadata": {},
     "output_type": "execute_result"
    }
   ],
   "source": [
    "sample.shape"
   ]
  },
  {
   "cell_type": "code",
   "execution_count": 4,
   "id": "463ff73c",
   "metadata": {
    "execution": {
     "iopub.execute_input": "2023-06-22T12:23:25.798291Z",
     "iopub.status.busy": "2023-06-22T12:23:25.797658Z",
     "iopub.status.idle": "2023-06-22T12:23:25.804129Z",
     "shell.execute_reply": "2023-06-22T12:23:25.803126Z"
    },
    "papermill": {
     "duration": 0.019749,
     "end_time": "2023-06-22T12:23:25.806613",
     "exception": false,
     "start_time": "2023-06-22T12:23:25.786864",
     "status": "completed"
    },
    "tags": []
   },
   "outputs": [
    {
     "data": {
      "text/plain": [
       "(16710, 65)"
      ]
     },
     "execution_count": 4,
     "metadata": {},
     "output_type": "execute_result"
    }
   ],
   "source": [
    "test_data.shape"
   ]
  },
  {
   "cell_type": "markdown",
   "id": "d2e6e1de",
   "metadata": {
    "papermill": {
     "duration": 0.009275,
     "end_time": "2023-06-22T12:23:25.825613",
     "exception": false,
     "start_time": "2023-06-22T12:23:25.816338",
     "status": "completed"
    },
    "tags": []
   },
   "source": [
    "checking if photo id is the same for both"
   ]
  },
  {
   "cell_type": "code",
   "execution_count": 5,
   "id": "488cbc53",
   "metadata": {
    "execution": {
     "iopub.execute_input": "2023-06-22T12:23:25.846582Z",
     "iopub.status.busy": "2023-06-22T12:23:25.846217Z",
     "iopub.status.idle": "2023-06-22T12:23:25.862489Z",
     "shell.execute_reply": "2023-06-22T12:23:25.861550Z"
    },
    "papermill": {
     "duration": 0.029484,
     "end_time": "2023-06-22T12:23:25.864722",
     "exception": false,
     "start_time": "2023-06-22T12:23:25.835238",
     "status": "completed"
    },
    "tags": []
   },
   "outputs": [
    {
     "data": {
      "text/plain": [
       "True"
      ]
     },
     "execution_count": 5,
     "metadata": {},
     "output_type": "execute_result"
    }
   ],
   "source": [
    "(test_data['Photo'] == sample['Photo']).all()"
   ]
  },
  {
   "cell_type": "markdown",
   "id": "7960cfad",
   "metadata": {
    "papermill": {
     "duration": 0.009415,
     "end_time": "2023-06-22T12:23:25.883989",
     "exception": false,
     "start_time": "2023-06-22T12:23:25.874574",
     "status": "completed"
    },
    "tags": []
   },
   "source": [
    "therefore it is the exact same"
   ]
  },
  {
   "cell_type": "markdown",
   "id": "43b7b30e",
   "metadata": {
    "papermill": {
     "duration": 0.00947,
     "end_time": "2023-06-22T12:23:25.903224",
     "exception": false,
     "start_time": "2023-06-22T12:23:25.893754",
     "status": "completed"
    },
    "tags": []
   },
   "source": [
    "checking the number of rows and analysing test data"
   ]
  },
  {
   "cell_type": "code",
   "execution_count": 6,
   "id": "c08d06fa",
   "metadata": {
    "execution": {
     "iopub.execute_input": "2023-06-22T12:23:25.924089Z",
     "iopub.status.busy": "2023-06-22T12:23:25.923671Z",
     "iopub.status.idle": "2023-06-22T12:23:25.930387Z",
     "shell.execute_reply": "2023-06-22T12:23:25.929415Z"
    },
    "papermill": {
     "duration": 0.019853,
     "end_time": "2023-06-22T12:23:25.932753",
     "exception": false,
     "start_time": "2023-06-22T12:23:25.912900",
     "status": "completed"
    },
    "tags": []
   },
   "outputs": [
    {
     "data": {
      "text/plain": [
       "(87642, 67)"
      ]
     },
     "execution_count": 6,
     "metadata": {},
     "output_type": "execute_result"
    }
   ],
   "source": [
    "train_data.shape"
   ]
  },
  {
   "cell_type": "code",
   "execution_count": 7,
   "id": "923fc61a",
   "metadata": {
    "execution": {
     "iopub.execute_input": "2023-06-22T12:23:25.955016Z",
     "iopub.status.busy": "2023-06-22T12:23:25.953942Z",
     "iopub.status.idle": "2023-06-22T12:23:26.000618Z",
     "shell.execute_reply": "2023-06-22T12:23:25.999542Z"
    },
    "papermill": {
     "duration": 0.060514,
     "end_time": "2023-06-22T12:23:26.003201",
     "exception": false,
     "start_time": "2023-06-22T12:23:25.942687",
     "status": "completed"
    },
    "tags": []
   },
   "outputs": [
    {
     "data": {
      "text/plain": [
       "74502"
      ]
     },
     "execution_count": 7,
     "metadata": {},
     "output_type": "execute_result"
    }
   ],
   "source": [
    "train_data['Photo'].nunique()"
   ]
  },
  {
   "cell_type": "code",
   "execution_count": 8,
   "id": "28861fe1",
   "metadata": {
    "execution": {
     "iopub.execute_input": "2023-06-22T12:23:26.025438Z",
     "iopub.status.busy": "2023-06-22T12:23:26.024633Z",
     "iopub.status.idle": "2023-06-22T12:23:26.078508Z",
     "shell.execute_reply": "2023-06-22T12:23:26.077498Z"
    },
    "papermill": {
     "duration": 0.067698,
     "end_time": "2023-06-22T12:23:26.080992",
     "exception": false,
     "start_time": "2023-06-22T12:23:26.013294",
     "status": "completed"
    },
    "tags": []
   },
   "outputs": [
    {
     "data": {
      "text/plain": [
       "87642"
      ]
     },
     "execution_count": 8,
     "metadata": {},
     "output_type": "execute_result"
    }
   ],
   "source": [
    " train_data[['Photo', 'year']].drop_duplicates().shape[0]"
   ]
  },
  {
   "cell_type": "markdown",
   "id": "5a31f9a9",
   "metadata": {
    "papermill": {
     "duration": 0.009799,
     "end_time": "2023-06-22T12:23:26.100904",
     "exception": false,
     "start_time": "2023-06-22T12:23:26.091105",
     "status": "completed"
    },
    "tags": []
   },
   "source": [
    "keeping only one row per id(the latest year in this case)"
   ]
  },
  {
   "cell_type": "markdown",
   "id": "d7e258e5",
   "metadata": {
    "papermill": {
     "duration": 0.009735,
     "end_time": "2023-06-22T12:23:26.120734",
     "exception": false,
     "start_time": "2023-06-22T12:23:26.110999",
     "status": "completed"
    },
    "tags": []
   },
   "source": [
    "first and foremost let me check for test data. the shape, unique ids, photo etc etc\n"
   ]
  },
  {
   "cell_type": "code",
   "execution_count": 9,
   "id": "c5b0e44a",
   "metadata": {
    "execution": {
     "iopub.execute_input": "2023-06-22T12:23:26.142991Z",
     "iopub.status.busy": "2023-06-22T12:23:26.142624Z",
     "iopub.status.idle": "2023-06-22T12:23:26.150668Z",
     "shell.execute_reply": "2023-06-22T12:23:26.149977Z"
    },
    "papermill": {
     "duration": 0.022081,
     "end_time": "2023-06-22T12:23:26.152737",
     "exception": false,
     "start_time": "2023-06-22T12:23:26.130656",
     "status": "completed"
    },
    "tags": []
   },
   "outputs": [
    {
     "data": {
      "text/plain": [
       "True"
      ]
     },
     "execution_count": 9,
     "metadata": {},
     "output_type": "execute_result"
    }
   ],
   "source": [
    "test_data.shape[0]==test_data['ID'].nunique()"
   ]
  },
  {
   "cell_type": "markdown",
   "id": "ce66041e",
   "metadata": {
    "papermill": {
     "duration": 0.010039,
     "end_time": "2023-06-22T12:23:26.172985",
     "exception": false,
     "start_time": "2023-06-22T12:23:26.162946",
     "status": "completed"
    },
    "tags": []
   },
   "source": [
    "therefore the ids and photos are linearly mapped, so should only keep one id for training data"
   ]
  },
  {
   "cell_type": "code",
   "execution_count": 10,
   "id": "a9fa1f2c",
   "metadata": {
    "execution": {
     "iopub.execute_input": "2023-06-22T12:23:26.195160Z",
     "iopub.status.busy": "2023-06-22T12:23:26.194374Z",
     "iopub.status.idle": "2023-06-22T12:23:26.344324Z",
     "shell.execute_reply": "2023-06-22T12:23:26.343096Z"
    },
    "papermill": {
     "duration": 0.164837,
     "end_time": "2023-06-22T12:23:26.347963",
     "exception": false,
     "start_time": "2023-06-22T12:23:26.183126",
     "status": "completed"
    },
    "tags": []
   },
   "outputs": [],
   "source": [
    "# Sort the train_data DataFrame by 'ID' and 'year' in descending order\n",
    "train_data_sorted = train_data.sort_values(by=['ID', 'year'], ascending=[True, False])\n",
    "\n",
    "# Drop duplicate 'ID' values, keeping only the first occurrence (which corresponds to the latest year)\n",
    "train_data_1 = train_data_sorted.drop_duplicates(subset='ID', keep='first')\n",
    "\n",
    "# Reset the index of the new dataset\n",
    "train_data_1 = train_data_1.reset_index(drop=True)"
   ]
  },
  {
   "cell_type": "code",
   "execution_count": 11,
   "id": "41971482",
   "metadata": {
    "execution": {
     "iopub.execute_input": "2023-06-22T12:23:26.370547Z",
     "iopub.status.busy": "2023-06-22T12:23:26.370146Z",
     "iopub.status.idle": "2023-06-22T12:23:26.376657Z",
     "shell.execute_reply": "2023-06-22T12:23:26.375631Z"
    },
    "papermill": {
     "duration": 0.020531,
     "end_time": "2023-06-22T12:23:26.379038",
     "exception": false,
     "start_time": "2023-06-22T12:23:26.358507",
     "status": "completed"
    },
    "tags": []
   },
   "outputs": [
    {
     "data": {
      "text/plain": [
       "(33699, 67)"
      ]
     },
     "execution_count": 11,
     "metadata": {},
     "output_type": "execute_result"
    }
   ],
   "source": [
    "train_data_1.shape"
   ]
  },
  {
   "cell_type": "markdown",
   "id": "04bf574c",
   "metadata": {
    "papermill": {
     "duration": 0.009995,
     "end_time": "2023-06-22T12:23:26.399679",
     "exception": false,
     "start_time": "2023-06-22T12:23:26.389684",
     "status": "completed"
    },
    "tags": []
   },
   "source": [
    "repeating the same process as first submission now"
   ]
  },
  {
   "cell_type": "code",
   "execution_count": 12,
   "id": "721fdd60",
   "metadata": {
    "execution": {
     "iopub.execute_input": "2023-06-22T12:23:26.422251Z",
     "iopub.status.busy": "2023-06-22T12:23:26.421853Z",
     "iopub.status.idle": "2023-06-22T12:23:26.431446Z",
     "shell.execute_reply": "2023-06-22T12:23:26.430333Z"
    },
    "papermill": {
     "duration": 0.023727,
     "end_time": "2023-06-22T12:23:26.433819",
     "exception": false,
     "start_time": "2023-06-22T12:23:26.410092",
     "status": "completed"
    },
    "tags": []
   },
   "outputs": [],
   "source": [
    "train_1=train_data_1[['Potential','Overall','Wage','International Reputation','Age']]\n",
    "test_1=test_data[['Potential','Overall','Wage','International Reputation','Age']]"
   ]
  },
  {
   "cell_type": "markdown",
   "id": "1ac85ee6",
   "metadata": {
    "papermill": {
     "duration": 0.010088,
     "end_time": "2023-06-22T12:23:26.454447",
     "exception": false,
     "start_time": "2023-06-22T12:23:26.444359",
     "status": "completed"
    },
    "tags": []
   },
   "source": [
    "train feature"
   ]
  },
  {
   "cell_type": "code",
   "execution_count": 13,
   "id": "989e890c",
   "metadata": {
    "execution": {
     "iopub.execute_input": "2023-06-22T12:23:26.477446Z",
     "iopub.status.busy": "2023-06-22T12:23:26.476674Z",
     "iopub.status.idle": "2023-06-22T12:23:26.480960Z",
     "shell.execute_reply": "2023-06-22T12:23:26.480207Z"
    },
    "papermill": {
     "duration": 0.018002,
     "end_time": "2023-06-22T12:23:26.483001",
     "exception": false,
     "start_time": "2023-06-22T12:23:26.464999",
     "status": "completed"
    },
    "tags": []
   },
   "outputs": [],
   "source": [
    "y_train=train_data_1['Value']"
   ]
  },
  {
   "cell_type": "markdown",
   "id": "9eee2638",
   "metadata": {
    "papermill": {
     "duration": 0.010254,
     "end_time": "2023-06-22T12:23:26.503740",
     "exception": false,
     "start_time": "2023-06-22T12:23:26.493486",
     "status": "completed"
    },
    "tags": []
   },
   "source": [
    "converting Value and Wage as per"
   ]
  },
  {
   "cell_type": "code",
   "execution_count": 14,
   "id": "82f827be",
   "metadata": {
    "execution": {
     "iopub.execute_input": "2023-06-22T12:23:26.527619Z",
     "iopub.status.busy": "2023-06-22T12:23:26.526931Z",
     "iopub.status.idle": "2023-06-22T12:23:26.869602Z",
     "shell.execute_reply": "2023-06-22T12:23:26.868312Z"
    },
    "papermill": {
     "duration": 0.357305,
     "end_time": "2023-06-22T12:23:26.872145",
     "exception": false,
     "start_time": "2023-06-22T12:23:26.514840",
     "status": "completed"
    },
    "tags": []
   },
   "outputs": [
    {
     "name": "stderr",
     "output_type": "stream",
     "text": [
      "/tmp/ipykernel_20/3838849759.py:14: SettingWithCopyWarning: \n",
      "A value is trying to be set on a copy of a slice from a DataFrame.\n",
      "Try using .loc[row_indexer,col_indexer] = value instead\n",
      "\n",
      "See the caveats in the documentation: https://pandas.pydata.org/pandas-docs/stable/user_guide/indexing.html#returning-a-view-versus-a-copy\n",
      "  train_1['Wage'] = train_1['Wage'].apply(preprocess_wage)\n",
      "/tmp/ipykernel_20/3838849759.py:17: SettingWithCopyWarning: \n",
      "A value is trying to be set on a copy of a slice from a DataFrame.\n",
      "Try using .loc[row_indexer,col_indexer] = value instead\n",
      "\n",
      "See the caveats in the documentation: https://pandas.pydata.org/pandas-docs/stable/user_guide/indexing.html#returning-a-view-versus-a-copy\n",
      "  train_1['Wage'] = train_1['Wage'].astype(float)\n",
      "/tmp/ipykernel_20/3838849759.py:20: SettingWithCopyWarning: \n",
      "A value is trying to be set on a copy of a slice from a DataFrame.\n",
      "Try using .loc[row_indexer,col_indexer] = value instead\n",
      "\n",
      "See the caveats in the documentation: https://pandas.pydata.org/pandas-docs/stable/user_guide/indexing.html#returning-a-view-versus-a-copy\n",
      "  test_1['Wage'] = test_1['Wage'].apply(preprocess_wage)\n",
      "/tmp/ipykernel_20/3838849759.py:23: SettingWithCopyWarning: \n",
      "A value is trying to be set on a copy of a slice from a DataFrame.\n",
      "Try using .loc[row_indexer,col_indexer] = value instead\n",
      "\n",
      "See the caveats in the documentation: https://pandas.pydata.org/pandas-docs/stable/user_guide/indexing.html#returning-a-view-versus-a-copy\n",
      "  test_1['Wage'] = test_1['Wage'].astype(float)\n"
     ]
    }
   ],
   "source": [
    "import re\n",
    "# Define a function to preprocess the 'Wage' column\n",
    "def preprocess_wage(value):\n",
    "    value = re.sub(r'€', '', value)  # Remove euro symbol\n",
    "    if 'K' in value:\n",
    "        value = float(re.sub(r'[^0-9.]', '', value)) * 1000  # Remove 'K' and multiply by 1000\n",
    "    elif 'M' in value:\n",
    "        value = float(re.sub(r'[^0-9.]', '', value)) * 1000000  # Remove 'M' and multiply by 1000000\n",
    "    else:\n",
    "        value = float(value)\n",
    "    return value\n",
    "\n",
    "# Apply the preprocessing function to 'Wage' column in train_1 dataset\n",
    "train_1['Wage'] = train_1['Wage'].apply(preprocess_wage)\n",
    "\n",
    "# Convert the column to float data type\n",
    "train_1['Wage'] = train_1['Wage'].astype(float)\n",
    "\n",
    "# Apply the preprocessing function to 'Wage' column in train_1 dataset\n",
    "test_1['Wage'] = test_1['Wage'].apply(preprocess_wage)\n",
    "\n",
    "# Convert the column to float data type\n",
    "test_1['Wage'] = test_1['Wage'].astype(float)\n",
    "\n",
    "#Applying it to y_train too\n",
    "y_train=y_train.apply(preprocess_wage)\n",
    "\n",
    "#Convert the column to float data type\n",
    "y_train=y_train.astype(float)"
   ]
  },
  {
   "cell_type": "markdown",
   "id": "221fdfe6",
   "metadata": {
    "papermill": {
     "duration": 0.010177,
     "end_time": "2023-06-22T12:23:26.892892",
     "exception": false,
     "start_time": "2023-06-22T12:23:26.882715",
     "status": "completed"
    },
    "tags": []
   },
   "source": [
    "fitting model with  best parameters"
   ]
  },
  {
   "cell_type": "code",
   "execution_count": 15,
   "id": "71610500",
   "metadata": {
    "execution": {
     "iopub.execute_input": "2023-06-22T12:23:26.916893Z",
     "iopub.status.busy": "2023-06-22T12:23:26.915858Z",
     "iopub.status.idle": "2023-06-22T12:23:33.414743Z",
     "shell.execute_reply": "2023-06-22T12:23:33.413910Z"
    },
    "papermill": {
     "duration": 6.513127,
     "end_time": "2023-06-22T12:23:33.416933",
     "exception": false,
     "start_time": "2023-06-22T12:23:26.903806",
     "status": "completed"
    },
    "tags": []
   },
   "outputs": [
    {
     "data": {
      "text/html": [
       "<style>#sk-container-id-1 {color: black;background-color: white;}#sk-container-id-1 pre{padding: 0;}#sk-container-id-1 div.sk-toggleable {background-color: white;}#sk-container-id-1 label.sk-toggleable__label {cursor: pointer;display: block;width: 100%;margin-bottom: 0;padding: 0.3em;box-sizing: border-box;text-align: center;}#sk-container-id-1 label.sk-toggleable__label-arrow:before {content: \"▸\";float: left;margin-right: 0.25em;color: #696969;}#sk-container-id-1 label.sk-toggleable__label-arrow:hover:before {color: black;}#sk-container-id-1 div.sk-estimator:hover label.sk-toggleable__label-arrow:before {color: black;}#sk-container-id-1 div.sk-toggleable__content {max-height: 0;max-width: 0;overflow: hidden;text-align: left;background-color: #f0f8ff;}#sk-container-id-1 div.sk-toggleable__content pre {margin: 0.2em;color: black;border-radius: 0.25em;background-color: #f0f8ff;}#sk-container-id-1 input.sk-toggleable__control:checked~div.sk-toggleable__content {max-height: 200px;max-width: 100%;overflow: auto;}#sk-container-id-1 input.sk-toggleable__control:checked~label.sk-toggleable__label-arrow:before {content: \"▾\";}#sk-container-id-1 div.sk-estimator input.sk-toggleable__control:checked~label.sk-toggleable__label {background-color: #d4ebff;}#sk-container-id-1 div.sk-label input.sk-toggleable__control:checked~label.sk-toggleable__label {background-color: #d4ebff;}#sk-container-id-1 input.sk-hidden--visually {border: 0;clip: rect(1px 1px 1px 1px);clip: rect(1px, 1px, 1px, 1px);height: 1px;margin: -1px;overflow: hidden;padding: 0;position: absolute;width: 1px;}#sk-container-id-1 div.sk-estimator {font-family: monospace;background-color: #f0f8ff;border: 1px dotted black;border-radius: 0.25em;box-sizing: border-box;margin-bottom: 0.5em;}#sk-container-id-1 div.sk-estimator:hover {background-color: #d4ebff;}#sk-container-id-1 div.sk-parallel-item::after {content: \"\";width: 100%;border-bottom: 1px solid gray;flex-grow: 1;}#sk-container-id-1 div.sk-label:hover label.sk-toggleable__label {background-color: #d4ebff;}#sk-container-id-1 div.sk-serial::before {content: \"\";position: absolute;border-left: 1px solid gray;box-sizing: border-box;top: 0;bottom: 0;left: 50%;z-index: 0;}#sk-container-id-1 div.sk-serial {display: flex;flex-direction: column;align-items: center;background-color: white;padding-right: 0.2em;padding-left: 0.2em;position: relative;}#sk-container-id-1 div.sk-item {position: relative;z-index: 1;}#sk-container-id-1 div.sk-parallel {display: flex;align-items: stretch;justify-content: center;background-color: white;position: relative;}#sk-container-id-1 div.sk-item::before, #sk-container-id-1 div.sk-parallel-item::before {content: \"\";position: absolute;border-left: 1px solid gray;box-sizing: border-box;top: 0;bottom: 0;left: 50%;z-index: -1;}#sk-container-id-1 div.sk-parallel-item {display: flex;flex-direction: column;z-index: 1;position: relative;background-color: white;}#sk-container-id-1 div.sk-parallel-item:first-child::after {align-self: flex-end;width: 50%;}#sk-container-id-1 div.sk-parallel-item:last-child::after {align-self: flex-start;width: 50%;}#sk-container-id-1 div.sk-parallel-item:only-child::after {width: 0;}#sk-container-id-1 div.sk-dashed-wrapped {border: 1px dashed gray;margin: 0 0.4em 0.5em 0.4em;box-sizing: border-box;padding-bottom: 0.4em;background-color: white;}#sk-container-id-1 div.sk-label label {font-family: monospace;font-weight: bold;display: inline-block;line-height: 1.2em;}#sk-container-id-1 div.sk-label-container {text-align: center;}#sk-container-id-1 div.sk-container {/* jupyter's `normalize.less` sets `[hidden] { display: none; }` but bootstrap.min.css set `[hidden] { display: none !important; }` so we also need the `!important` here to be able to override the default hidden behavior on the sphinx rendered scikit-learn.org. See: https://github.com/scikit-learn/scikit-learn/issues/21755 */display: inline-block !important;position: relative;}#sk-container-id-1 div.sk-text-repr-fallback {display: none;}</style><div id=\"sk-container-id-1\" class=\"sk-top-container\"><div class=\"sk-text-repr-fallback\"><pre>XGBRegressor(base_score=None, booster=None, callbacks=None,\n",
       "             colsample_bylevel=None, colsample_bynode=None,\n",
       "             colsample_bytree=None, early_stopping_rounds=None,\n",
       "             enable_categorical=False, eval_metric=None, feature_types=None,\n",
       "             gamma=None, gpu_id=None, grow_policy=None, importance_type=None,\n",
       "             interaction_constraints=None, learning_rate=0.05, max_bin=None,\n",
       "             max_cat_threshold=None, max_cat_to_onehot=None,\n",
       "             max_delta_step=None, max_depth=None, max_leaves=None,\n",
       "             min_child_weight=None, missing=nan, monotone_constraints=None,\n",
       "             n_estimators=500, n_jobs=None, num_parallel_tree=None,\n",
       "             predictor=None, random_state=None, ...)</pre><b>In a Jupyter environment, please rerun this cell to show the HTML representation or trust the notebook. <br />On GitHub, the HTML representation is unable to render, please try loading this page with nbviewer.org.</b></div><div class=\"sk-container\" hidden><div class=\"sk-item\"><div class=\"sk-estimator sk-toggleable\"><input class=\"sk-toggleable__control sk-hidden--visually\" id=\"sk-estimator-id-1\" type=\"checkbox\" checked><label for=\"sk-estimator-id-1\" class=\"sk-toggleable__label sk-toggleable__label-arrow\">XGBRegressor</label><div class=\"sk-toggleable__content\"><pre>XGBRegressor(base_score=None, booster=None, callbacks=None,\n",
       "             colsample_bylevel=None, colsample_bynode=None,\n",
       "             colsample_bytree=None, early_stopping_rounds=None,\n",
       "             enable_categorical=False, eval_metric=None, feature_types=None,\n",
       "             gamma=None, gpu_id=None, grow_policy=None, importance_type=None,\n",
       "             interaction_constraints=None, learning_rate=0.05, max_bin=None,\n",
       "             max_cat_threshold=None, max_cat_to_onehot=None,\n",
       "             max_delta_step=None, max_depth=None, max_leaves=None,\n",
       "             min_child_weight=None, missing=nan, monotone_constraints=None,\n",
       "             n_estimators=500, n_jobs=None, num_parallel_tree=None,\n",
       "             predictor=None, random_state=None, ...)</pre></div></div></div></div></div>"
      ],
      "text/plain": [
       "XGBRegressor(base_score=None, booster=None, callbacks=None,\n",
       "             colsample_bylevel=None, colsample_bynode=None,\n",
       "             colsample_bytree=None, early_stopping_rounds=None,\n",
       "             enable_categorical=False, eval_metric=None, feature_types=None,\n",
       "             gamma=None, gpu_id=None, grow_policy=None, importance_type=None,\n",
       "             interaction_constraints=None, learning_rate=0.05, max_bin=None,\n",
       "             max_cat_threshold=None, max_cat_to_onehot=None,\n",
       "             max_delta_step=None, max_depth=None, max_leaves=None,\n",
       "             min_child_weight=None, missing=nan, monotone_constraints=None,\n",
       "             n_estimators=500, n_jobs=None, num_parallel_tree=None,\n",
       "             predictor=None, random_state=None, ...)"
      ]
     },
     "execution_count": 15,
     "metadata": {},
     "output_type": "execute_result"
    }
   ],
   "source": [
    "from xgboost import XGBRegressor\n",
    "model = XGBRegressor(learning_rate=0.05, n_estimators=500)\n",
    "model.fit(train_1, y_train)"
   ]
  },
  {
   "cell_type": "code",
   "execution_count": 16,
   "id": "a1fb8812",
   "metadata": {
    "execution": {
     "iopub.execute_input": "2023-06-22T12:23:33.441154Z",
     "iopub.status.busy": "2023-06-22T12:23:33.440559Z",
     "iopub.status.idle": "2023-06-22T12:23:33.525899Z",
     "shell.execute_reply": "2023-06-22T12:23:33.525062Z"
    },
    "papermill": {
     "duration": 0.10032,
     "end_time": "2023-06-22T12:23:33.528420",
     "exception": false,
     "start_time": "2023-06-22T12:23:33.428100",
     "status": "completed"
    },
    "tags": []
   },
   "outputs": [],
   "source": [
    "pred=model.predict(test_1)"
   ]
  },
  {
   "cell_type": "code",
   "execution_count": 17,
   "id": "51d0ec3f",
   "metadata": {
    "execution": {
     "iopub.execute_input": "2023-06-22T12:23:33.553974Z",
     "iopub.status.busy": "2023-06-22T12:23:33.553341Z",
     "iopub.status.idle": "2023-06-22T12:23:33.577974Z",
     "shell.execute_reply": "2023-06-22T12:23:33.576916Z"
    },
    "papermill": {
     "duration": 0.039822,
     "end_time": "2023-06-22T12:23:33.580312",
     "exception": false,
     "start_time": "2023-06-22T12:23:33.540490",
     "status": "completed"
    },
    "tags": []
   },
   "outputs": [
    {
     "data": {
      "text/html": [
       "<div>\n",
       "<style scoped>\n",
       "    .dataframe tbody tr th:only-of-type {\n",
       "        vertical-align: middle;\n",
       "    }\n",
       "\n",
       "    .dataframe tbody tr th {\n",
       "        vertical-align: top;\n",
       "    }\n",
       "\n",
       "    .dataframe thead th {\n",
       "        text-align: right;\n",
       "    }\n",
       "</style>\n",
       "<table border=\"1\" class=\"dataframe\">\n",
       "  <thead>\n",
       "    <tr style=\"text-align: right;\">\n",
       "      <th></th>\n",
       "      <th>Photo</th>\n",
       "      <th>Value</th>\n",
       "    </tr>\n",
       "  </thead>\n",
       "  <tbody>\n",
       "    <tr>\n",
       "      <th>0</th>\n",
       "      <td>https://cdn.sofifa.com/players/212/198/22_60.png</td>\n",
       "      <td>68386456.0</td>\n",
       "    </tr>\n",
       "    <tr>\n",
       "      <th>1</th>\n",
       "      <td>https://cdn.sofifa.com/players/209/658/22_60.png</td>\n",
       "      <td>52658680.0</td>\n",
       "    </tr>\n",
       "    <tr>\n",
       "      <th>2</th>\n",
       "      <td>https://cdn.sofifa.com/players/176/580/22_60.png</td>\n",
       "      <td>26261282.0</td>\n",
       "    </tr>\n",
       "    <tr>\n",
       "      <th>3</th>\n",
       "      <td>https://cdn.sofifa.com/players/192/985/22_60.png</td>\n",
       "      <td>84744840.0</td>\n",
       "    </tr>\n",
       "    <tr>\n",
       "      <th>4</th>\n",
       "      <td>https://cdn.sofifa.com/players/224/334/22_60.png</td>\n",
       "      <td>28591482.0</td>\n",
       "    </tr>\n",
       "  </tbody>\n",
       "</table>\n",
       "</div>"
      ],
      "text/plain": [
       "                                              Photo       Value\n",
       "0  https://cdn.sofifa.com/players/212/198/22_60.png  68386456.0\n",
       "1  https://cdn.sofifa.com/players/209/658/22_60.png  52658680.0\n",
       "2  https://cdn.sofifa.com/players/176/580/22_60.png  26261282.0\n",
       "3  https://cdn.sofifa.com/players/192/985/22_60.png  84744840.0\n",
       "4  https://cdn.sofifa.com/players/224/334/22_60.png  28591482.0"
      ]
     },
     "execution_count": 17,
     "metadata": {},
     "output_type": "execute_result"
    }
   ],
   "source": [
    "output = pd.DataFrame({'Photo':test_data['Photo'],'Value': pred})  # Create the DataFrame with the 'Value' column\n",
    "output.head()"
   ]
  },
  {
   "cell_type": "markdown",
   "id": "bb819f1d",
   "metadata": {
    "papermill": {
     "duration": 0.010557,
     "end_time": "2023-06-22T12:23:33.601883",
     "exception": false,
     "start_time": "2023-06-22T12:23:33.591326",
     "status": "completed"
    },
    "tags": []
   },
   "source": [
    "hence output submission has been created"
   ]
  },
  {
   "cell_type": "markdown",
   "id": "46802833",
   "metadata": {
    "papermill": {
     "duration": 0.010609,
     "end_time": "2023-06-22T12:23:33.623487",
     "exception": false,
     "start_time": "2023-06-22T12:23:33.612878",
     "status": "completed"
    },
    "tags": []
   },
   "source": [
    "converting to a csv as needed"
   ]
  },
  {
   "cell_type": "code",
   "execution_count": 18,
   "id": "18bedf99",
   "metadata": {
    "execution": {
     "iopub.execute_input": "2023-06-22T12:23:33.646983Z",
     "iopub.status.busy": "2023-06-22T12:23:33.646583Z",
     "iopub.status.idle": "2023-06-22T12:23:33.744831Z",
     "shell.execute_reply": "2023-06-22T12:23:33.743732Z"
    },
    "papermill": {
     "duration": 0.112911,
     "end_time": "2023-06-22T12:23:33.747227",
     "exception": false,
     "start_time": "2023-06-22T12:23:33.634316",
     "status": "completed"
    },
    "tags": []
   },
   "outputs": [
    {
     "name": "stdout",
     "output_type": "stream",
     "text": [
      "Submission saved successfully\n"
     ]
    }
   ],
   "source": [
    "output.to_csv('submissions.csv',index=False)\n",
    "print(\"Submission saved successfully\")"
   ]
  },
  {
   "cell_type": "code",
   "execution_count": null,
   "id": "29dc1d82",
   "metadata": {
    "papermill": {
     "duration": 0.010805,
     "end_time": "2023-06-22T12:23:33.769116",
     "exception": false,
     "start_time": "2023-06-22T12:23:33.758311",
     "status": "completed"
    },
    "tags": []
   },
   "outputs": [],
   "source": []
  }
 ],
 "metadata": {
  "kernelspec": {
   "display_name": "Python 3",
   "language": "python",
   "name": "python3"
  },
  "language_info": {
   "codemirror_mode": {
    "name": "ipython",
    "version": 3
   },
   "file_extension": ".py",
   "mimetype": "text/x-python",
   "name": "python",
   "nbconvert_exporter": "python",
   "pygments_lexer": "ipython3",
   "version": "3.10.10"
  },
  "papermill": {
   "default_parameters": {},
   "duration": 23.166828,
   "end_time": "2023-06-22T12:23:34.701324",
   "environment_variables": {},
   "exception": null,
   "input_path": "__notebook__.ipynb",
   "output_path": "__notebook__.ipynb",
   "parameters": {},
   "start_time": "2023-06-22T12:23:11.534496",
   "version": "2.4.0"
  }
 },
 "nbformat": 4,
 "nbformat_minor": 5
}
