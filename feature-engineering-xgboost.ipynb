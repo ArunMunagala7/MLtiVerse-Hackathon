{
 "cells": [
  {
   "cell_type": "code",
   "execution_count": 1,
   "id": "7504e052",
   "metadata": {
    "execution": {
     "iopub.execute_input": "2023-06-22T21:44:15.162724Z",
     "iopub.status.busy": "2023-06-22T21:44:15.161792Z",
     "iopub.status.idle": "2023-06-22T21:44:15.178650Z",
     "shell.execute_reply": "2023-06-22T21:44:15.177534Z"
    },
    "papermill": {
     "duration": 0.039139,
     "end_time": "2023-06-22T21:44:15.181090",
     "exception": false,
     "start_time": "2023-06-22T21:44:15.141951",
     "status": "completed"
    },
    "tags": []
   },
   "outputs": [
    {
     "name": "stdout",
     "output_type": "stream",
     "text": [
      "/kaggle/input/mltiverse-join-comp/sample_submission.csv\n",
      "/kaggle/input/mltiverse-join-comp/train.csv\n",
      "/kaggle/input/mltiverse-join-comp/test.csv\n"
     ]
    }
   ],
   "source": [
    "## This Python 3 environment comes with many helpful analytics libraries installed\n",
    "# It is defined by the kaggle/python Docker image: https://github.com/kaggle/docker-python\n",
    "# For example, here's several helpful packages to load\n",
    "\n",
    "import numpy as np # linear algebra\n",
    "import pandas as pd # data processing, CSV file I/O (e.g. pd.read_csv)\n",
    "\n",
    "# Input data files are available in the read-only \"../input/\" directory\n",
    "# For example, running this (by clicking run or pressing Shift+Enter) will list all files under the input directory\n",
    "\n",
    "import os\n",
    "for dirname, _, filenames in os.walk('/kaggle/input'):\n",
    "    for filename in filenames:\n",
    "        print(os.path.join(dirname, filename))\n",
    "\n",
    "# You can write up to 20GB to the current directory (/kaggle/working/) that gets preserved as output when you create a version using \"Save & Run All\" \n",
    "# You can also write temporary files to /kaggle/temp/, but they won't be saved outside of the current session"
   ]
  },
  {
   "cell_type": "markdown",
   "id": "337ed302",
   "metadata": {
    "papermill": {
     "duration": 0.016271,
     "end_time": "2023-06-22T21:44:15.214288",
     "exception": false,
     "start_time": "2023-06-22T21:44:15.198017",
     "status": "completed"
    },
    "tags": []
   },
   "source": [
    "importing data"
   ]
  },
  {
   "cell_type": "code",
   "execution_count": 2,
   "id": "451a69aa",
   "metadata": {
    "execution": {
     "iopub.execute_input": "2023-06-22T21:44:15.249463Z",
     "iopub.status.busy": "2023-06-22T21:44:15.249049Z",
     "iopub.status.idle": "2023-06-22T21:44:17.475132Z",
     "shell.execute_reply": "2023-06-22T21:44:17.474005Z"
    },
    "papermill": {
     "duration": 2.247374,
     "end_time": "2023-06-22T21:44:17.478232",
     "exception": false,
     "start_time": "2023-06-22T21:44:15.230858",
     "status": "completed"
    },
    "tags": []
   },
   "outputs": [],
   "source": [
    "train_data=pd.read_csv('/kaggle/input/mltiverse-join-comp/train.csv')\n",
    "test_data=pd.read_csv('/kaggle/input/mltiverse-join-comp/test.csv')\n",
    "sample=pd.read_csv('/kaggle/input/mltiverse-join-comp/sample_submission.csv')"
   ]
  },
  {
   "cell_type": "markdown",
   "id": "31cc8364",
   "metadata": {
    "papermill": {
     "duration": 0.01638,
     "end_time": "2023-06-22T21:44:17.511304",
     "exception": false,
     "start_time": "2023-06-22T21:44:17.494924",
     "status": "completed"
    },
    "tags": []
   },
   "source": [
    "making some comparisions"
   ]
  },
  {
   "cell_type": "code",
   "execution_count": 3,
   "id": "a00e533f",
   "metadata": {
    "execution": {
     "iopub.execute_input": "2023-06-22T21:44:17.546850Z",
     "iopub.status.busy": "2023-06-22T21:44:17.546402Z",
     "iopub.status.idle": "2023-06-22T21:44:17.554656Z",
     "shell.execute_reply": "2023-06-22T21:44:17.553573Z"
    },
    "papermill": {
     "duration": 0.029233,
     "end_time": "2023-06-22T21:44:17.557342",
     "exception": false,
     "start_time": "2023-06-22T21:44:17.528109",
     "status": "completed"
    },
    "tags": []
   },
   "outputs": [
    {
     "data": {
      "text/plain": [
       "(16710, 2)"
      ]
     },
     "execution_count": 3,
     "metadata": {},
     "output_type": "execute_result"
    }
   ],
   "source": [
    "sample.shape"
   ]
  },
  {
   "cell_type": "code",
   "execution_count": 4,
   "id": "f25beee7",
   "metadata": {
    "execution": {
     "iopub.execute_input": "2023-06-22T21:44:17.593991Z",
     "iopub.status.busy": "2023-06-22T21:44:17.593526Z",
     "iopub.status.idle": "2023-06-22T21:44:17.600258Z",
     "shell.execute_reply": "2023-06-22T21:44:17.599178Z"
    },
    "papermill": {
     "duration": 0.027981,
     "end_time": "2023-06-22T21:44:17.602399",
     "exception": false,
     "start_time": "2023-06-22T21:44:17.574418",
     "status": "completed"
    },
    "tags": []
   },
   "outputs": [
    {
     "data": {
      "text/plain": [
       "(16710, 65)"
      ]
     },
     "execution_count": 4,
     "metadata": {},
     "output_type": "execute_result"
    }
   ],
   "source": [
    "test_data.shape"
   ]
  },
  {
   "cell_type": "markdown",
   "id": "cd74d3ac",
   "metadata": {
    "papermill": {
     "duration": 0.016785,
     "end_time": "2023-06-22T21:44:17.636228",
     "exception": false,
     "start_time": "2023-06-22T21:44:17.619443",
     "status": "completed"
    },
    "tags": []
   },
   "source": [
    "checking if photo id is the same for both"
   ]
  },
  {
   "cell_type": "code",
   "execution_count": 5,
   "id": "b6e9cc34",
   "metadata": {
    "execution": {
     "iopub.execute_input": "2023-06-22T21:44:17.672734Z",
     "iopub.status.busy": "2023-06-22T21:44:17.671810Z",
     "iopub.status.idle": "2023-06-22T21:44:17.690823Z",
     "shell.execute_reply": "2023-06-22T21:44:17.689638Z"
    },
    "papermill": {
     "duration": 0.039861,
     "end_time": "2023-06-22T21:44:17.693122",
     "exception": false,
     "start_time": "2023-06-22T21:44:17.653261",
     "status": "completed"
    },
    "tags": []
   },
   "outputs": [
    {
     "data": {
      "text/plain": [
       "True"
      ]
     },
     "execution_count": 5,
     "metadata": {},
     "output_type": "execute_result"
    }
   ],
   "source": [
    "(test_data['Photo'] == sample['Photo']).all()"
   ]
  },
  {
   "cell_type": "markdown",
   "id": "d3ed194f",
   "metadata": {
    "papermill": {
     "duration": 0.016748,
     "end_time": "2023-06-22T21:44:17.726977",
     "exception": false,
     "start_time": "2023-06-22T21:44:17.710229",
     "status": "completed"
    },
    "tags": []
   },
   "source": [
    "therefore it is the exact same"
   ]
  },
  {
   "cell_type": "markdown",
   "id": "a5b92b62",
   "metadata": {
    "papermill": {
     "duration": 0.016607,
     "end_time": "2023-06-22T21:44:17.760584",
     "exception": false,
     "start_time": "2023-06-22T21:44:17.743977",
     "status": "completed"
    },
    "tags": []
   },
   "source": [
    "checking the number of rows and analysing test data"
   ]
  },
  {
   "cell_type": "code",
   "execution_count": 6,
   "id": "4dbb95ec",
   "metadata": {
    "execution": {
     "iopub.execute_input": "2023-06-22T21:44:17.796819Z",
     "iopub.status.busy": "2023-06-22T21:44:17.796332Z",
     "iopub.status.idle": "2023-06-22T21:44:17.803516Z",
     "shell.execute_reply": "2023-06-22T21:44:17.802471Z"
    },
    "papermill": {
     "duration": 0.028287,
     "end_time": "2023-06-22T21:44:17.805854",
     "exception": false,
     "start_time": "2023-06-22T21:44:17.777567",
     "status": "completed"
    },
    "tags": []
   },
   "outputs": [
    {
     "data": {
      "text/plain": [
       "(87642, 67)"
      ]
     },
     "execution_count": 6,
     "metadata": {},
     "output_type": "execute_result"
    }
   ],
   "source": [
    "train_data.shape"
   ]
  },
  {
   "cell_type": "code",
   "execution_count": 7,
   "id": "d34b7747",
   "metadata": {
    "execution": {
     "iopub.execute_input": "2023-06-22T21:44:17.843133Z",
     "iopub.status.busy": "2023-06-22T21:44:17.842692Z",
     "iopub.status.idle": "2023-06-22T21:44:17.888064Z",
     "shell.execute_reply": "2023-06-22T21:44:17.886986Z"
    },
    "papermill": {
     "duration": 0.067208,
     "end_time": "2023-06-22T21:44:17.890645",
     "exception": false,
     "start_time": "2023-06-22T21:44:17.823437",
     "status": "completed"
    },
    "tags": []
   },
   "outputs": [
    {
     "data": {
      "text/plain": [
       "74502"
      ]
     },
     "execution_count": 7,
     "metadata": {},
     "output_type": "execute_result"
    }
   ],
   "source": [
    "train_data['Photo'].nunique()"
   ]
  },
  {
   "cell_type": "code",
   "execution_count": 8,
   "id": "0123520b",
   "metadata": {
    "execution": {
     "iopub.execute_input": "2023-06-22T21:44:17.927566Z",
     "iopub.status.busy": "2023-06-22T21:44:17.926737Z",
     "iopub.status.idle": "2023-06-22T21:44:17.983057Z",
     "shell.execute_reply": "2023-06-22T21:44:17.981994Z"
    },
    "papermill": {
     "duration": 0.077396,
     "end_time": "2023-06-22T21:44:17.985542",
     "exception": false,
     "start_time": "2023-06-22T21:44:17.908146",
     "status": "completed"
    },
    "tags": []
   },
   "outputs": [
    {
     "data": {
      "text/plain": [
       "87642"
      ]
     },
     "execution_count": 8,
     "metadata": {},
     "output_type": "execute_result"
    }
   ],
   "source": [
    " train_data[['Photo', 'year']].drop_duplicates().shape[0]"
   ]
  },
  {
   "cell_type": "markdown",
   "id": "de03f78b",
   "metadata": {
    "papermill": {
     "duration": 0.01721,
     "end_time": "2023-06-22T21:44:18.020690",
     "exception": false,
     "start_time": "2023-06-22T21:44:18.003480",
     "status": "completed"
    },
    "tags": []
   },
   "source": [
    "keeping only one row per id(the latest year in this case)"
   ]
  },
  {
   "cell_type": "markdown",
   "id": "81de3c42",
   "metadata": {
    "papermill": {
     "duration": 0.017027,
     "end_time": "2023-06-22T21:44:18.055450",
     "exception": false,
     "start_time": "2023-06-22T21:44:18.038423",
     "status": "completed"
    },
    "tags": []
   },
   "source": [
    "first and foremost let me check for test data. the shape, unique ids, photo etc etc\n"
   ]
  },
  {
   "cell_type": "code",
   "execution_count": 9,
   "id": "47a0d035",
   "metadata": {
    "execution": {
     "iopub.execute_input": "2023-06-22T21:44:18.092005Z",
     "iopub.status.busy": "2023-06-22T21:44:18.091544Z",
     "iopub.status.idle": "2023-06-22T21:44:18.101611Z",
     "shell.execute_reply": "2023-06-22T21:44:18.100509Z"
    },
    "papermill": {
     "duration": 0.03112,
     "end_time": "2023-06-22T21:44:18.103956",
     "exception": false,
     "start_time": "2023-06-22T21:44:18.072836",
     "status": "completed"
    },
    "tags": []
   },
   "outputs": [
    {
     "data": {
      "text/plain": [
       "True"
      ]
     },
     "execution_count": 9,
     "metadata": {},
     "output_type": "execute_result"
    }
   ],
   "source": [
    "test_data.shape[0]==test_data['ID'].nunique()"
   ]
  },
  {
   "cell_type": "markdown",
   "id": "742d2212",
   "metadata": {
    "papermill": {
     "duration": 0.017526,
     "end_time": "2023-06-22T21:44:18.139276",
     "exception": false,
     "start_time": "2023-06-22T21:44:18.121750",
     "status": "completed"
    },
    "tags": []
   },
   "source": [
    "therefore the ids and photos are linearly mapped, so should only keep one id for training data"
   ]
  },
  {
   "cell_type": "code",
   "execution_count": 10,
   "id": "4d6cec8a",
   "metadata": {
    "execution": {
     "iopub.execute_input": "2023-06-22T21:44:18.176444Z",
     "iopub.status.busy": "2023-06-22T21:44:18.175627Z",
     "iopub.status.idle": "2023-06-22T21:44:18.331670Z",
     "shell.execute_reply": "2023-06-22T21:44:18.330388Z"
    },
    "papermill": {
     "duration": 0.177855,
     "end_time": "2023-06-22T21:44:18.334546",
     "exception": false,
     "start_time": "2023-06-22T21:44:18.156691",
     "status": "completed"
    },
    "tags": []
   },
   "outputs": [],
   "source": [
    "# Sort the train_data DataFrame by 'ID' and 'year' in descending order\n",
    "train_data_sorted = train_data.sort_values(by=['ID', 'year'], ascending=[True, False])\n",
    "\n",
    "# Drop duplicate 'ID' values, keeping only the first occurrence (which corresponds to the latest year)\n",
    "train_data_1 = train_data_sorted.drop_duplicates(subset='ID', keep='first')\n",
    "\n",
    "# Reset the index of the new dataset\n",
    "train_data_1 = train_data_1.reset_index(drop=True)"
   ]
  },
  {
   "cell_type": "code",
   "execution_count": 11,
   "id": "cb821936",
   "metadata": {
    "execution": {
     "iopub.execute_input": "2023-06-22T21:44:18.372161Z",
     "iopub.status.busy": "2023-06-22T21:44:18.371687Z",
     "iopub.status.idle": "2023-06-22T21:44:18.377779Z",
     "shell.execute_reply": "2023-06-22T21:44:18.377033Z"
    },
    "papermill": {
     "duration": 0.027556,
     "end_time": "2023-06-22T21:44:18.379903",
     "exception": false,
     "start_time": "2023-06-22T21:44:18.352347",
     "status": "completed"
    },
    "tags": []
   },
   "outputs": [
    {
     "data": {
      "text/plain": [
       "(33699, 67)"
      ]
     },
     "execution_count": 11,
     "metadata": {},
     "output_type": "execute_result"
    }
   ],
   "source": [
    "train_data_1.shape"
   ]
  },
  {
   "cell_type": "markdown",
   "id": "8d0fe4a0",
   "metadata": {
    "papermill": {
     "duration": 0.017407,
     "end_time": "2023-06-22T21:44:18.414934",
     "exception": false,
     "start_time": "2023-06-22T21:44:18.397527",
     "status": "completed"
    },
    "tags": []
   },
   "source": [
    "feature engineering some columns"
   ]
  },
  {
   "cell_type": "code",
   "execution_count": 12,
   "id": "c7ce9be1",
   "metadata": {
    "execution": {
     "iopub.execute_input": "2023-06-22T21:44:18.452545Z",
     "iopub.status.busy": "2023-06-22T21:44:18.452127Z",
     "iopub.status.idle": "2023-06-22T21:44:18.463416Z",
     "shell.execute_reply": "2023-06-22T21:44:18.462301Z"
    },
    "papermill": {
     "duration": 0.032995,
     "end_time": "2023-06-22T21:44:18.465594",
     "exception": false,
     "start_time": "2023-06-22T21:44:18.432599",
     "status": "completed"
    },
    "tags": []
   },
   "outputs": [
    {
     "data": {
      "text/plain": [
       "array(['<span class=\"pos pos29\">RES', '<span class=\"pos pos15\">LCM',\n",
       "       '<span class=\"pos pos18\">CAM', '<span class=\"pos pos28\">SUB', nan,\n",
       "       '<span class=\"pos pos0\">GK', '<span class=\"pos pos10\">CDM',\n",
       "       '<span class=\"pos pos5\">CB', '<span class=\"pos pos4\">RCB',\n",
       "       '<span class=\"pos pos25\">ST', '<span class=\"pos pos6\">LCB',\n",
       "       '<span class=\"pos pos14\">CM', '<span class=\"pos pos26\">LS',\n",
       "       '<span class=\"pos pos9\">RDM', '<span class=\"pos pos13\">RCM',\n",
       "       '<span class=\"pos pos16\">LM', '<span class=\"pos pos19\">LAM',\n",
       "       '<span class=\"pos pos11\">LDM', '<span class=\"pos pos3\">RB',\n",
       "       '<span class=\"pos pos12\">RM', '<span class=\"pos pos21\">CF',\n",
       "       '<span class=\"pos pos24\">RS', '<span class=\"pos pos23\">RW',\n",
       "       '<span class=\"pos pos7\">LB', '<span class=\"pos pos27\">LW',\n",
       "       '<span class=\"pos pos8\">LWB', '<span class=\"pos pos2\">RWB',\n",
       "       '<span class=\"pos pos17\">RAM', '<span class=\"pos pos22\">LF',\n",
       "       '<span class=\"pos pos20\">RF'], dtype=object)"
      ]
     },
     "execution_count": 12,
     "metadata": {},
     "output_type": "execute_result"
    }
   ],
   "source": [
    "train_data_1['Position'].unique()"
   ]
  },
  {
   "cell_type": "code",
   "execution_count": 13,
   "id": "6417ebcc",
   "metadata": {
    "execution": {
     "iopub.execute_input": "2023-06-22T21:44:18.503717Z",
     "iopub.status.busy": "2023-06-22T21:44:18.503225Z",
     "iopub.status.idle": "2023-06-22T21:44:18.511248Z",
     "shell.execute_reply": "2023-06-22T21:44:18.510176Z"
    },
    "papermill": {
     "duration": 0.030044,
     "end_time": "2023-06-22T21:44:18.513709",
     "exception": false,
     "start_time": "2023-06-22T21:44:18.483665",
     "status": "completed"
    },
    "tags": []
   },
   "outputs": [
    {
     "data": {
      "text/plain": [
       "dtype('O')"
      ]
     },
     "execution_count": 13,
     "metadata": {},
     "output_type": "execute_result"
    }
   ],
   "source": [
    "test_data['Position'].dtype"
   ]
  },
  {
   "cell_type": "code",
   "execution_count": 14,
   "id": "94c1f2ce",
   "metadata": {
    "execution": {
     "iopub.execute_input": "2023-06-22T21:44:18.552780Z",
     "iopub.status.busy": "2023-06-22T21:44:18.552287Z",
     "iopub.status.idle": "2023-06-22T21:44:18.586861Z",
     "shell.execute_reply": "2023-06-22T21:44:18.585630Z"
    },
    "papermill": {
     "duration": 0.057868,
     "end_time": "2023-06-22T21:44:18.589896",
     "exception": false,
     "start_time": "2023-06-22T21:44:18.532028",
     "status": "completed"
    },
    "tags": []
   },
   "outputs": [],
   "source": [
    "train_data_1['Position'] = train_data_1['Position'].astype(str)\n",
    "train_data_1['Position'] = train_data_1['Position'].str[-3:]"
   ]
  },
  {
   "cell_type": "code",
   "execution_count": 15,
   "id": "f98d17fa",
   "metadata": {
    "execution": {
     "iopub.execute_input": "2023-06-22T21:44:18.628424Z",
     "iopub.status.busy": "2023-06-22T21:44:18.627984Z",
     "iopub.status.idle": "2023-06-22T21:44:18.638212Z",
     "shell.execute_reply": "2023-06-22T21:44:18.637232Z"
    },
    "papermill": {
     "duration": 0.032267,
     "end_time": "2023-06-22T21:44:18.640487",
     "exception": false,
     "start_time": "2023-06-22T21:44:18.608220",
     "status": "completed"
    },
    "tags": []
   },
   "outputs": [
    {
     "data": {
      "text/plain": [
       "array(['RES', 'LCM', 'CAM', 'SUB', 'nan', '>GK', 'CDM', '>CB', 'RCB',\n",
       "       '>ST', 'LCB', '>CM', '>LS', 'RDM', 'RCM', '>LM', 'LAM', 'LDM',\n",
       "       '>RB', '>RM', '>CF', '>RS', '>RW', '>LB', '>LW', 'LWB', 'RWB',\n",
       "       'RAM', '>LF', '>RF'], dtype=object)"
      ]
     },
     "execution_count": 15,
     "metadata": {},
     "output_type": "execute_result"
    }
   ],
   "source": [
    "train_data_1['Position'].unique()"
   ]
  },
  {
   "cell_type": "markdown",
   "id": "544fa21a",
   "metadata": {
    "papermill": {
     "duration": 0.017811,
     "end_time": "2023-06-22T21:44:18.676644",
     "exception": false,
     "start_time": "2023-06-22T21:44:18.658833",
     "status": "completed"
    },
    "tags": []
   },
   "source": [
    "trying to remove the '>'"
   ]
  },
  {
   "cell_type": "code",
   "execution_count": 16,
   "id": "801c4942",
   "metadata": {
    "execution": {
     "iopub.execute_input": "2023-06-22T21:44:18.715204Z",
     "iopub.status.busy": "2023-06-22T21:44:18.714730Z",
     "iopub.status.idle": "2023-06-22T21:44:18.781623Z",
     "shell.execute_reply": "2023-06-22T21:44:18.780254Z"
    },
    "papermill": {
     "duration": 0.089925,
     "end_time": "2023-06-22T21:44:18.784786",
     "exception": false,
     "start_time": "2023-06-22T21:44:18.694861",
     "status": "completed"
    },
    "tags": []
   },
   "outputs": [],
   "source": [
    "# Remove '>' character from the beginning of each value in 'Position' column\n",
    "train_data_1['Position'] = train_data_1['Position'].str.lstrip('>')\n",
    "\n",
    "# Remove rows where 'Position' is NaN\n",
    "train_data_1 = train_data_1.dropna(subset=['Position'])"
   ]
  },
  {
   "cell_type": "markdown",
   "id": "fdc32ab7",
   "metadata": {
    "papermill": {
     "duration": 0.017998,
     "end_time": "2023-06-22T21:44:18.821411",
     "exception": false,
     "start_time": "2023-06-22T21:44:18.803413",
     "status": "completed"
    },
    "tags": []
   },
   "source": [
    "removing all the nan values"
   ]
  },
  {
   "cell_type": "code",
   "execution_count": 17,
   "id": "3c0cf7d4",
   "metadata": {
    "execution": {
     "iopub.execute_input": "2023-06-22T21:44:18.860577Z",
     "iopub.status.busy": "2023-06-22T21:44:18.860091Z",
     "iopub.status.idle": "2023-06-22T21:44:18.889895Z",
     "shell.execute_reply": "2023-06-22T21:44:18.888623Z"
    },
    "papermill": {
     "duration": 0.053081,
     "end_time": "2023-06-22T21:44:18.892746",
     "exception": false,
     "start_time": "2023-06-22T21:44:18.839665",
     "status": "completed"
    },
    "tags": []
   },
   "outputs": [],
   "source": [
    "train_data_1 = train_data_1[train_data_1['Position'] != 'nan']"
   ]
  },
  {
   "cell_type": "code",
   "execution_count": 18,
   "id": "036aff04",
   "metadata": {
    "execution": {
     "iopub.execute_input": "2023-06-22T21:44:18.931542Z",
     "iopub.status.busy": "2023-06-22T21:44:18.931095Z",
     "iopub.status.idle": "2023-06-22T21:44:18.940738Z",
     "shell.execute_reply": "2023-06-22T21:44:18.939955Z"
    },
    "papermill": {
     "duration": 0.031548,
     "end_time": "2023-06-22T21:44:18.942862",
     "exception": false,
     "start_time": "2023-06-22T21:44:18.911314",
     "status": "completed"
    },
    "tags": []
   },
   "outputs": [
    {
     "data": {
      "text/plain": [
       "array(['RES', 'LCM', 'CAM', 'SUB', 'GK', 'CDM', 'CB', 'RCB', 'ST', 'LCB',\n",
       "       'CM', 'LS', 'RDM', 'RCM', 'LM', 'LAM', 'LDM', 'RB', 'RM', 'CF',\n",
       "       'RS', 'RW', 'LB', 'LW', 'LWB', 'RWB', 'RAM', 'LF', 'RF'],\n",
       "      dtype=object)"
      ]
     },
     "execution_count": 18,
     "metadata": {},
     "output_type": "execute_result"
    }
   ],
   "source": [
    "train_data_1['Position'].unique()"
   ]
  },
  {
   "cell_type": "markdown",
   "id": "050f9e0b",
   "metadata": {
    "papermill": {
     "duration": 0.017976,
     "end_time": "2023-06-22T21:44:18.979286",
     "exception": false,
     "start_time": "2023-06-22T21:44:18.961310",
     "status": "completed"
    },
    "tags": []
   },
   "source": [
    "doing the exact same thing for the test dataset now"
   ]
  },
  {
   "cell_type": "code",
   "execution_count": 19,
   "id": "bc28f6ae",
   "metadata": {
    "execution": {
     "iopub.execute_input": "2023-06-22T21:44:19.020602Z",
     "iopub.status.busy": "2023-06-22T21:44:19.020134Z",
     "iopub.status.idle": "2023-06-22T21:44:19.025297Z",
     "shell.execute_reply": "2023-06-22T21:44:19.024169Z"
    },
    "papermill": {
     "duration": 0.028016,
     "end_time": "2023-06-22T21:44:19.027604",
     "exception": false,
     "start_time": "2023-06-22T21:44:18.999588",
     "status": "completed"
    },
    "tags": []
   },
   "outputs": [],
   "source": [
    "# test_data['Position'] = test_data['Position'].astype(str)\n",
    "# test_data['Position'] = test_data['Position'].str[-3:]  # Remove '>' character from the beginning of each value in 'Position' column\n",
    "# test_data['Position'] = test_data['Position'].str.lstrip('>')\n",
    "# test_data = test_data[test_data['Position'] != 'nan']  # Remove rows where 'Position' is 'nan'"
   ]
  },
  {
   "cell_type": "markdown",
   "id": "bc13e416",
   "metadata": {
    "papermill": {
     "duration": 0.0179,
     "end_time": "2023-06-22T21:44:19.063829",
     "exception": false,
     "start_time": "2023-06-22T21:44:19.045929",
     "status": "completed"
    },
    "tags": []
   },
   "source": [
    "engineering height by converting it completely into inches for training and test data"
   ]
  },
  {
   "cell_type": "code",
   "execution_count": 20,
   "id": "5577c4e2",
   "metadata": {
    "execution": {
     "iopub.execute_input": "2023-06-22T21:44:19.103365Z",
     "iopub.status.busy": "2023-06-22T21:44:19.102817Z",
     "iopub.status.idle": "2023-06-22T21:44:19.190487Z",
     "shell.execute_reply": "2023-06-22T21:44:19.189251Z"
    },
    "papermill": {
     "duration": 0.110985,
     "end_time": "2023-06-22T21:44:19.193383",
     "exception": false,
     "start_time": "2023-06-22T21:44:19.082398",
     "status": "completed"
    },
    "tags": []
   },
   "outputs": [],
   "source": [
    "# Convert feet and inches to inches\n",
    "train_data_1['Height'] = train_data_1['Height'].apply(lambda x: int(x.split(\"'\")[0]) * 12 + int(x.split(\"'\")[1]))\n",
    "# Convert 'Height' column to integer data type\n",
    "train_data_1['Height'] = train_data_1['Height'].astype(float)\n",
    "# Convert centimeters to inches\n",
    "test_data['Height'] = test_data['Height'].apply(lambda x: int(x[:-2]) / 2.54)\n",
    "# Convert 'Height' column to float data type\n",
    "test_data['Height'] = test_data['Height'].astype(float)\n",
    "# Convert inches to meters\n",
    "train_data_1['Height'] = train_data_1['Height'] * 0.0254\n",
    "test_data['Height'] = test_data['Height'] * 0.0254"
   ]
  },
  {
   "cell_type": "markdown",
   "id": "f49a2b52",
   "metadata": {
    "papermill": {
     "duration": 0.01811,
     "end_time": "2023-06-22T21:44:19.230663",
     "exception": false,
     "start_time": "2023-06-22T21:44:19.212553",
     "status": "completed"
    },
    "tags": []
   },
   "source": [
    "engineeering weight for train and test"
   ]
  },
  {
   "cell_type": "code",
   "execution_count": 21,
   "id": "7e888a2f",
   "metadata": {
    "execution": {
     "iopub.execute_input": "2023-06-22T21:44:19.269903Z",
     "iopub.status.busy": "2023-06-22T21:44:19.269399Z",
     "iopub.status.idle": "2023-06-22T21:44:19.351054Z",
     "shell.execute_reply": "2023-06-22T21:44:19.350098Z"
    },
    "papermill": {
     "duration": 0.104257,
     "end_time": "2023-06-22T21:44:19.353555",
     "exception": false,
     "start_time": "2023-06-22T21:44:19.249298",
     "status": "completed"
    },
    "tags": []
   },
   "outputs": [],
   "source": [
    "# Remove 'lbs' from 'Weight' values and convert pounds to kilograms\n",
    "train_data_1['Weight'] = train_data_1['Weight'].str.replace('lbs', '').astype(float) * 0.453592\n",
    "# Convert 'Weight' column to float data type\n",
    "train_data_1['Weight'] = train_data_1['Weight'].astype(float)\n",
    "train_data_1['Weight'].isna().sum()\n",
    "test_data['Weight'] = test_data['Weight'].str.replace('kg', '').astype(float)\n",
    "test_data['Weight'] = test_data['Weight'].astype(float)"
   ]
  },
  {
   "cell_type": "markdown",
   "id": "d926b693",
   "metadata": {
    "papermill": {
     "duration": 0.01812,
     "end_time": "2023-06-22T21:44:19.390560",
     "exception": false,
     "start_time": "2023-06-22T21:44:19.372440",
     "status": "completed"
    },
    "tags": []
   },
   "source": [
    "calculating BMI"
   ]
  },
  {
   "cell_type": "code",
   "execution_count": 22,
   "id": "2fa1289b",
   "metadata": {
    "execution": {
     "iopub.execute_input": "2023-06-22T21:44:19.428988Z",
     "iopub.status.busy": "2023-06-22T21:44:19.428501Z",
     "iopub.status.idle": "2023-06-22T21:44:19.436278Z",
     "shell.execute_reply": "2023-06-22T21:44:19.435436Z"
    },
    "papermill": {
     "duration": 0.029518,
     "end_time": "2023-06-22T21:44:19.438372",
     "exception": false,
     "start_time": "2023-06-22T21:44:19.408854",
     "status": "completed"
    },
    "tags": []
   },
   "outputs": [],
   "source": [
    "train_data_1['BMI'] = train_data_1['Weight'] / (train_data_1['Height'] ** 2)\n",
    "test_data['BMI'] = test_data['Weight'] / (test_data['Height'] ** 2)"
   ]
  },
  {
   "cell_type": "markdown",
   "id": "ec5cf231",
   "metadata": {
    "papermill": {
     "duration": 0.018374,
     "end_time": "2023-06-22T21:44:19.475085",
     "exception": false,
     "start_time": "2023-06-22T21:44:19.456711",
     "status": "completed"
    },
    "tags": []
   },
   "source": [
    "calculating Potential difference"
   ]
  },
  {
   "cell_type": "code",
   "execution_count": 23,
   "id": "9b4d1708",
   "metadata": {
    "execution": {
     "iopub.execute_input": "2023-06-22T21:44:19.514596Z",
     "iopub.status.busy": "2023-06-22T21:44:19.513375Z",
     "iopub.status.idle": "2023-06-22T21:44:19.521500Z",
     "shell.execute_reply": "2023-06-22T21:44:19.520533Z"
    },
    "papermill": {
     "duration": 0.030558,
     "end_time": "2023-06-22T21:44:19.524031",
     "exception": false,
     "start_time": "2023-06-22T21:44:19.493473",
     "status": "completed"
    },
    "tags": []
   },
   "outputs": [],
   "source": [
    "train_data_1['Potential Difference'] = train_data_1['Overall'] - train_data_1['Potential']\n",
    "test_data['Potential Difference'] = test_data['Overall'] - test_data['Potential']"
   ]
  },
  {
   "cell_type": "markdown",
   "id": "e0c3a3b9",
   "metadata": {
    "papermill": {
     "duration": 0.018233,
     "end_time": "2023-06-22T21:44:19.560801",
     "exception": false,
     "start_time": "2023-06-22T21:44:19.542568",
     "status": "completed"
    },
    "tags": []
   },
   "source": [
    "creating features based on the skills "
   ]
  },
  {
   "cell_type": "markdown",
   "id": "7902a61e",
   "metadata": {
    "papermill": {
     "duration": 0.017862,
     "end_time": "2023-06-22T21:44:19.597008",
     "exception": false,
     "start_time": "2023-06-22T21:44:19.579146",
     "status": "completed"
    },
    "tags": []
   },
   "source": [
    "imputing and calculating average in the skills for train and test data"
   ]
  },
  {
   "cell_type": "code",
   "execution_count": 24,
   "id": "da7283ea",
   "metadata": {
    "execution": {
     "iopub.execute_input": "2023-06-22T21:44:19.635637Z",
     "iopub.status.busy": "2023-06-22T21:44:19.635164Z",
     "iopub.status.idle": "2023-06-22T21:44:19.720334Z",
     "shell.execute_reply": "2023-06-22T21:44:19.719405Z"
    },
    "papermill": {
     "duration": 0.107585,
     "end_time": "2023-06-22T21:44:19.722950",
     "exception": false,
     "start_time": "2023-06-22T21:44:19.615365",
     "status": "completed"
    },
    "tags": []
   },
   "outputs": [],
   "source": [
    "# Calculate average scores for attack, defense, midfield, and goalkeeping\n",
    "train_data_1['Attack'] = train_data_1[['Finishing', 'HeadingAccuracy', 'ShortPassing', 'Volleys',\n",
    "                                       'Dribbling', 'Curve', 'FKAccuracy', 'LongPassing', 'BallControl']].mean(axis=1)\n",
    "\n",
    "train_data_1['Defense'] = train_data_1[['Marking', 'StandingTackle', 'SlidingTackle', 'Interceptions']].mean(axis=1)\n",
    "\n",
    "train_data_1['Midfield'] = train_data_1[['Acceleration', 'SprintSpeed', 'Agility', 'Reactions', 'Balance',\n",
    "                                         'ShotPower', 'Jumping', 'Stamina', 'Strength']].mean(axis=1)\n",
    "\n",
    "train_data_1['Goalkeeping'] = train_data_1[['GKDiving', 'GKHandling', 'GKKicking', 'GKPositioning', 'GKReflexes']].mean(axis=1)\n",
    "\n",
    "\n",
    "#doing the same with test_data\n",
    "# Calculate average scores for attack, defense, midfield, and goalkeeping\n",
    "test_data['Attack'] = test_data[['Finishing', 'HeadingAccuracy', 'ShortPassing', 'Volleys',\n",
    "                                 'Dribbling', 'Curve', 'FKAccuracy', 'LongPassing', 'BallControl']].mean(axis=1)\n",
    "\n",
    "test_data['Defense'] = test_data[['Marking', 'StandingTackle', 'SlidingTackle', 'Interceptions']].mean(axis=1)\n",
    "\n",
    "test_data['Midfield'] = test_data[['Acceleration', 'SprintSpeed', 'Agility', 'Reactions', 'Balance',\n",
    "                                   'ShotPower', 'Jumping', 'Stamina', 'Strength']].mean(axis=1)\n",
    "\n",
    "test_data['Goalkeeping'] = test_data[['GKDiving', 'GKHandling', 'GKKicking', 'GKPositioning', 'GKReflexes']].mean(axis=1)\n"
   ]
  },
  {
   "cell_type": "markdown",
   "id": "46231279",
   "metadata": {
    "papermill": {
     "duration": 0.018294,
     "end_time": "2023-06-22T21:44:19.759741",
     "exception": false,
     "start_time": "2023-06-22T21:44:19.741447",
     "status": "completed"
    },
    "tags": []
   },
   "source": [
    "doing some more eda/feature generation"
   ]
  },
  {
   "cell_type": "code",
   "execution_count": 25,
   "id": "fad04259",
   "metadata": {
    "execution": {
     "iopub.execute_input": "2023-06-22T21:44:19.799164Z",
     "iopub.status.busy": "2023-06-22T21:44:19.798330Z",
     "iopub.status.idle": "2023-06-22T21:44:19.805448Z",
     "shell.execute_reply": "2023-06-22T21:44:19.804556Z"
    },
    "papermill": {
     "duration": 0.029377,
     "end_time": "2023-06-22T21:44:19.807488",
     "exception": false,
     "start_time": "2023-06-22T21:44:19.778111",
     "status": "completed"
    },
    "tags": []
   },
   "outputs": [
    {
     "data": {
      "text/plain": [
       "Index(['Unnamed: 0', 'ID', 'Name', 'Age', 'Photo', 'Nationality', 'Flag',\n",
       "       'Overall', 'Potential', 'Club', 'Club Logo', 'Value', 'Wage', 'Special',\n",
       "       'Preferred Foot', 'International Reputation', 'Weak Foot',\n",
       "       'Skill Moves', 'Work Rate', 'Body Type', 'Real Face', 'Position',\n",
       "       'Jersey Number', 'Joined', 'Loaned From', 'Contract Valid Until',\n",
       "       'Height', 'Weight', 'Crossing', 'Finishing', 'HeadingAccuracy',\n",
       "       'ShortPassing', 'Volleys', 'Dribbling', 'Curve', 'FKAccuracy',\n",
       "       'LongPassing', 'BallControl', 'Acceleration', 'SprintSpeed', 'Agility',\n",
       "       'Reactions', 'Balance', 'ShotPower', 'Jumping', 'Stamina', 'Strength',\n",
       "       'LongShots', 'Aggression', 'Interceptions', 'Positioning', 'Vision',\n",
       "       'Penalties', 'Composure', 'Marking', 'StandingTackle', 'SlidingTackle',\n",
       "       'GKDiving', 'GKHandling', 'GKKicking', 'GKPositioning', 'GKReflexes',\n",
       "       'Best Position', 'Best Overall Rating', 'year', 'Release Clause',\n",
       "       'DefensiveAwareness', 'BMI', 'Potential Difference', 'Attack',\n",
       "       'Defense', 'Midfield', 'Goalkeeping'],\n",
       "      dtype='object')"
      ]
     },
     "execution_count": 25,
     "metadata": {},
     "output_type": "execute_result"
    }
   ],
   "source": [
    "train_data_1.columns"
   ]
  },
  {
   "cell_type": "code",
   "execution_count": 26,
   "id": "329615a9",
   "metadata": {
    "execution": {
     "iopub.execute_input": "2023-06-22T21:44:19.847202Z",
     "iopub.status.busy": "2023-06-22T21:44:19.846340Z",
     "iopub.status.idle": "2023-06-22T21:44:19.869521Z",
     "shell.execute_reply": "2023-06-22T21:44:19.868310Z"
    },
    "papermill": {
     "duration": 0.046342,
     "end_time": "2023-06-22T21:44:19.872393",
     "exception": false,
     "start_time": "2023-06-22T21:44:19.826051",
     "status": "completed"
    },
    "tags": []
   },
   "outputs": [],
   "source": [
    "train_1=train_data_1[['Potential','Overall','Wage','International Reputation','Age','BMI','Potential Difference','Goalkeeping','Defense','Midfield','Attack']]\n",
    "test_1=test_data[['Potential','Overall','Wage','International Reputation','Age','BMI','Potential Difference','Goalkeeping','Defense','Midfield','Attack']]"
   ]
  },
  {
   "cell_type": "code",
   "execution_count": 27,
   "id": "e1920f72",
   "metadata": {
    "execution": {
     "iopub.execute_input": "2023-06-22T21:44:19.912056Z",
     "iopub.status.busy": "2023-06-22T21:44:19.911590Z",
     "iopub.status.idle": "2023-06-22T21:44:19.918650Z",
     "shell.execute_reply": "2023-06-22T21:44:19.917543Z"
    },
    "papermill": {
     "duration": 0.029819,
     "end_time": "2023-06-22T21:44:19.921207",
     "exception": false,
     "start_time": "2023-06-22T21:44:19.891388",
     "status": "completed"
    },
    "tags": []
   },
   "outputs": [
    {
     "data": {
      "text/plain": [
       "(16710, 11)"
      ]
     },
     "execution_count": 27,
     "metadata": {},
     "output_type": "execute_result"
    }
   ],
   "source": [
    "test_1.shape"
   ]
  },
  {
   "cell_type": "markdown",
   "id": "4c58a541",
   "metadata": {
    "papermill": {
     "duration": 0.018277,
     "end_time": "2023-06-22T21:44:19.958553",
     "exception": false,
     "start_time": "2023-06-22T21:44:19.940276",
     "status": "completed"
    },
    "tags": []
   },
   "source": [
    "find which data types are object"
   ]
  },
  {
   "cell_type": "code",
   "execution_count": 28,
   "id": "071aca70",
   "metadata": {
    "execution": {
     "iopub.execute_input": "2023-06-22T21:44:19.999312Z",
     "iopub.status.busy": "2023-06-22T21:44:19.998882Z",
     "iopub.status.idle": "2023-06-22T21:44:20.033622Z",
     "shell.execute_reply": "2023-06-22T21:44:20.032453Z"
    },
    "papermill": {
     "duration": 0.059118,
     "end_time": "2023-06-22T21:44:20.036194",
     "exception": false,
     "start_time": "2023-06-22T21:44:19.977076",
     "status": "completed"
    },
    "tags": []
   },
   "outputs": [
    {
     "data": {
      "text/html": [
       "<div>\n",
       "<style scoped>\n",
       "    .dataframe tbody tr th:only-of-type {\n",
       "        vertical-align: middle;\n",
       "    }\n",
       "\n",
       "    .dataframe tbody tr th {\n",
       "        vertical-align: top;\n",
       "    }\n",
       "\n",
       "    .dataframe thead th {\n",
       "        text-align: right;\n",
       "    }\n",
       "</style>\n",
       "<table border=\"1\" class=\"dataframe\">\n",
       "  <thead>\n",
       "    <tr style=\"text-align: right;\">\n",
       "      <th></th>\n",
       "      <th>Potential</th>\n",
       "      <th>Overall</th>\n",
       "      <th>Wage</th>\n",
       "      <th>International Reputation</th>\n",
       "      <th>Age</th>\n",
       "      <th>BMI</th>\n",
       "      <th>Potential Difference</th>\n",
       "      <th>Goalkeeping</th>\n",
       "      <th>Defense</th>\n",
       "      <th>Midfield</th>\n",
       "      <th>Attack</th>\n",
       "    </tr>\n",
       "  </thead>\n",
       "  <tbody>\n",
       "    <tr>\n",
       "      <th>0</th>\n",
       "      <td>69</td>\n",
       "      <td>69</td>\n",
       "      <td>€7K</td>\n",
       "      <td>2.0</td>\n",
       "      <td>33</td>\n",
       "      <td>24.547741</td>\n",
       "      <td>0</td>\n",
       "      <td>11.2</td>\n",
       "      <td>69.250000</td>\n",
       "      <td>69.555556</td>\n",
       "      <td>64.000000</td>\n",
       "    </tr>\n",
       "    <tr>\n",
       "      <th>1</th>\n",
       "      <td>71</td>\n",
       "      <td>71</td>\n",
       "      <td>€7K</td>\n",
       "      <td>1.0</td>\n",
       "      <td>37</td>\n",
       "      <td>20.518136</td>\n",
       "      <td>0</td>\n",
       "      <td>11.2</td>\n",
       "      <td>56.000000</td>\n",
       "      <td>62.000000</td>\n",
       "      <td>70.888889</td>\n",
       "    </tr>\n",
       "    <tr>\n",
       "      <th>2</th>\n",
       "      <td>71</td>\n",
       "      <td>71</td>\n",
       "      <td>€15K</td>\n",
       "      <td>2.0</td>\n",
       "      <td>33</td>\n",
       "      <td>23.775280</td>\n",
       "      <td>0</td>\n",
       "      <td>10.2</td>\n",
       "      <td>34.500000</td>\n",
       "      <td>56.666667</td>\n",
       "      <td>71.555556</td>\n",
       "    </tr>\n",
       "    <tr>\n",
       "      <th>3</th>\n",
       "      <td>70</td>\n",
       "      <td>70</td>\n",
       "      <td>€4K</td>\n",
       "      <td>1.0</td>\n",
       "      <td>35</td>\n",
       "      <td>22.377775</td>\n",
       "      <td>0</td>\n",
       "      <td>69.2</td>\n",
       "      <td>16.000000</td>\n",
       "      <td>50.111111</td>\n",
       "      <td>16.777778</td>\n",
       "    </tr>\n",
       "    <tr>\n",
       "      <th>4</th>\n",
       "      <td>82</td>\n",
       "      <td>68</td>\n",
       "      <td>€0</td>\n",
       "      <td>1.0</td>\n",
       "      <td>36</td>\n",
       "      <td>23.012574</td>\n",
       "      <td>-14</td>\n",
       "      <td>26.4</td>\n",
       "      <td>48.333333</td>\n",
       "      <td>59.333333</td>\n",
       "      <td>66.428571</td>\n",
       "    </tr>\n",
       "  </tbody>\n",
       "</table>\n",
       "</div>"
      ],
      "text/plain": [
       "   Potential  Overall  Wage  International Reputation  Age        BMI  \\\n",
       "0         69       69   €7K                       2.0   33  24.547741   \n",
       "1         71       71   €7K                       1.0   37  20.518136   \n",
       "2         71       71  €15K                       2.0   33  23.775280   \n",
       "3         70       70   €4K                       1.0   35  22.377775   \n",
       "4         82       68    €0                       1.0   36  23.012574   \n",
       "\n",
       "   Potential Difference  Goalkeeping    Defense   Midfield     Attack  \n",
       "0                     0         11.2  69.250000  69.555556  64.000000  \n",
       "1                     0         11.2  56.000000  62.000000  70.888889  \n",
       "2                     0         10.2  34.500000  56.666667  71.555556  \n",
       "3                     0         69.2  16.000000  50.111111  16.777778  \n",
       "4                   -14         26.4  48.333333  59.333333  66.428571  "
      ]
     },
     "execution_count": 28,
     "metadata": {},
     "output_type": "execute_result"
    }
   ],
   "source": [
    "train_1.head()"
   ]
  },
  {
   "cell_type": "markdown",
   "id": "a536479e",
   "metadata": {
    "papermill": {
     "duration": 0.018855,
     "end_time": "2023-06-22T21:44:20.074342",
     "exception": false,
     "start_time": "2023-06-22T21:44:20.055487",
     "status": "completed"
    },
    "tags": []
   },
   "source": [
    "train feature"
   ]
  },
  {
   "cell_type": "code",
   "execution_count": 29,
   "id": "7487c2ea",
   "metadata": {
    "execution": {
     "iopub.execute_input": "2023-06-22T21:44:20.114343Z",
     "iopub.status.busy": "2023-06-22T21:44:20.113917Z",
     "iopub.status.idle": "2023-06-22T21:44:20.119556Z",
     "shell.execute_reply": "2023-06-22T21:44:20.118406Z"
    },
    "papermill": {
     "duration": 0.028684,
     "end_time": "2023-06-22T21:44:20.122035",
     "exception": false,
     "start_time": "2023-06-22T21:44:20.093351",
     "status": "completed"
    },
    "tags": []
   },
   "outputs": [],
   "source": [
    "y_train=train_data_1['Value']"
   ]
  },
  {
   "cell_type": "markdown",
   "id": "9f07ffe0",
   "metadata": {
    "papermill": {
     "duration": 0.019306,
     "end_time": "2023-06-22T21:44:20.161675",
     "exception": false,
     "start_time": "2023-06-22T21:44:20.142369",
     "status": "completed"
    },
    "tags": []
   },
   "source": [
    "converting Value and Wage as per"
   ]
  },
  {
   "cell_type": "code",
   "execution_count": 30,
   "id": "6870162d",
   "metadata": {
    "execution": {
     "iopub.execute_input": "2023-06-22T21:44:20.203517Z",
     "iopub.status.busy": "2023-06-22T21:44:20.202734Z",
     "iopub.status.idle": "2023-06-22T21:44:20.547430Z",
     "shell.execute_reply": "2023-06-22T21:44:20.546108Z"
    },
    "papermill": {
     "duration": 0.368247,
     "end_time": "2023-06-22T21:44:20.550298",
     "exception": false,
     "start_time": "2023-06-22T21:44:20.182051",
     "status": "completed"
    },
    "tags": []
   },
   "outputs": [
    {
     "name": "stderr",
     "output_type": "stream",
     "text": [
      "/tmp/ipykernel_21/3838849759.py:14: SettingWithCopyWarning: \n",
      "A value is trying to be set on a copy of a slice from a DataFrame.\n",
      "Try using .loc[row_indexer,col_indexer] = value instead\n",
      "\n",
      "See the caveats in the documentation: https://pandas.pydata.org/pandas-docs/stable/user_guide/indexing.html#returning-a-view-versus-a-copy\n",
      "  train_1['Wage'] = train_1['Wage'].apply(preprocess_wage)\n",
      "/tmp/ipykernel_21/3838849759.py:17: SettingWithCopyWarning: \n",
      "A value is trying to be set on a copy of a slice from a DataFrame.\n",
      "Try using .loc[row_indexer,col_indexer] = value instead\n",
      "\n",
      "See the caveats in the documentation: https://pandas.pydata.org/pandas-docs/stable/user_guide/indexing.html#returning-a-view-versus-a-copy\n",
      "  train_1['Wage'] = train_1['Wage'].astype(float)\n",
      "/tmp/ipykernel_21/3838849759.py:20: SettingWithCopyWarning: \n",
      "A value is trying to be set on a copy of a slice from a DataFrame.\n",
      "Try using .loc[row_indexer,col_indexer] = value instead\n",
      "\n",
      "See the caveats in the documentation: https://pandas.pydata.org/pandas-docs/stable/user_guide/indexing.html#returning-a-view-versus-a-copy\n",
      "  test_1['Wage'] = test_1['Wage'].apply(preprocess_wage)\n",
      "/tmp/ipykernel_21/3838849759.py:23: SettingWithCopyWarning: \n",
      "A value is trying to be set on a copy of a slice from a DataFrame.\n",
      "Try using .loc[row_indexer,col_indexer] = value instead\n",
      "\n",
      "See the caveats in the documentation: https://pandas.pydata.org/pandas-docs/stable/user_guide/indexing.html#returning-a-view-versus-a-copy\n",
      "  test_1['Wage'] = test_1['Wage'].astype(float)\n"
     ]
    }
   ],
   "source": [
    "import re\n",
    "# Define a function to preprocess the 'Wage' column\n",
    "def preprocess_wage(value):\n",
    "    value = re.sub(r'€', '', value)  # Remove euro symbol\n",
    "    if 'K' in value:\n",
    "        value = float(re.sub(r'[^0-9.]', '', value)) * 1000  # Remove 'K' and multiply by 1000\n",
    "    elif 'M' in value:\n",
    "        value = float(re.sub(r'[^0-9.]', '', value)) * 1000000  # Remove 'M' and multiply by 1000000\n",
    "    else:\n",
    "        value = float(value)\n",
    "    return value\n",
    "\n",
    "# Apply the preprocessing function to 'Wage' column in train_1 dataset\n",
    "train_1['Wage'] = train_1['Wage'].apply(preprocess_wage)\n",
    "\n",
    "# Convert the column to float data type\n",
    "train_1['Wage'] = train_1['Wage'].astype(float)\n",
    "\n",
    "# Apply the preprocessing function to 'Wage' column in train_1 dataset\n",
    "test_1['Wage'] = test_1['Wage'].apply(preprocess_wage)\n",
    "\n",
    "# Convert the column to float data type\n",
    "test_1['Wage'] = test_1['Wage'].astype(float)\n",
    "\n",
    "#Applying it to y_train too\n",
    "y_train=y_train.apply(preprocess_wage)\n",
    "\n",
    "#Convert the column to float data type\n",
    "y_train=y_train.astype(float)"
   ]
  },
  {
   "cell_type": "markdown",
   "id": "f3dc8063",
   "metadata": {
    "papermill": {
     "duration": 0.018889,
     "end_time": "2023-06-22T21:44:20.588390",
     "exception": false,
     "start_time": "2023-06-22T21:44:20.569501",
     "status": "completed"
    },
    "tags": []
   },
   "source": [
    "minmax scaling"
   ]
  },
  {
   "cell_type": "code",
   "execution_count": 31,
   "id": "05fae5f0",
   "metadata": {
    "execution": {
     "iopub.execute_input": "2023-06-22T21:44:20.628648Z",
     "iopub.status.busy": "2023-06-22T21:44:20.628224Z",
     "iopub.status.idle": "2023-06-22T21:44:20.632476Z",
     "shell.execute_reply": "2023-06-22T21:44:20.631658Z"
    },
    "papermill": {
     "duration": 0.027215,
     "end_time": "2023-06-22T21:44:20.634722",
     "exception": false,
     "start_time": "2023-06-22T21:44:20.607507",
     "status": "completed"
    },
    "tags": []
   },
   "outputs": [],
   "source": [
    "# from sklearn.preprocessing import MinMaxScaler\n",
    "\n",
    "# # Initialize the MinMaxScaler\n",
    "# scaler = MinMaxScaler()\n",
    "\n",
    "# # Fit and transform the training data\n",
    "# train_1_scaled = scaler.fit_transform(train_1)\n",
    "\n",
    "# # Transform the test data (using the same scaler)\n",
    "# test_1_scaled = scaler.transform(test_1)"
   ]
  },
  {
   "cell_type": "markdown",
   "id": "7c663328",
   "metadata": {
    "papermill": {
     "duration": 0.019052,
     "end_time": "2023-06-22T21:44:20.673380",
     "exception": false,
     "start_time": "2023-06-22T21:44:20.654328",
     "status": "completed"
    },
    "tags": []
   },
   "source": [
    "fitting model with  best parameters"
   ]
  },
  {
   "cell_type": "code",
   "execution_count": 32,
   "id": "49c22a71",
   "metadata": {
    "execution": {
     "iopub.execute_input": "2023-06-22T21:44:20.714913Z",
     "iopub.status.busy": "2023-06-22T21:44:20.714416Z",
     "iopub.status.idle": "2023-06-22T21:44:30.024919Z",
     "shell.execute_reply": "2023-06-22T21:44:30.023692Z"
    },
    "papermill": {
     "duration": 9.334651,
     "end_time": "2023-06-22T21:44:30.027446",
     "exception": false,
     "start_time": "2023-06-22T21:44:20.692795",
     "status": "completed"
    },
    "tags": []
   },
   "outputs": [
    {
     "data": {
      "text/html": [
       "<style>#sk-container-id-1 {color: black;background-color: white;}#sk-container-id-1 pre{padding: 0;}#sk-container-id-1 div.sk-toggleable {background-color: white;}#sk-container-id-1 label.sk-toggleable__label {cursor: pointer;display: block;width: 100%;margin-bottom: 0;padding: 0.3em;box-sizing: border-box;text-align: center;}#sk-container-id-1 label.sk-toggleable__label-arrow:before {content: \"▸\";float: left;margin-right: 0.25em;color: #696969;}#sk-container-id-1 label.sk-toggleable__label-arrow:hover:before {color: black;}#sk-container-id-1 div.sk-estimator:hover label.sk-toggleable__label-arrow:before {color: black;}#sk-container-id-1 div.sk-toggleable__content {max-height: 0;max-width: 0;overflow: hidden;text-align: left;background-color: #f0f8ff;}#sk-container-id-1 div.sk-toggleable__content pre {margin: 0.2em;color: black;border-radius: 0.25em;background-color: #f0f8ff;}#sk-container-id-1 input.sk-toggleable__control:checked~div.sk-toggleable__content {max-height: 200px;max-width: 100%;overflow: auto;}#sk-container-id-1 input.sk-toggleable__control:checked~label.sk-toggleable__label-arrow:before {content: \"▾\";}#sk-container-id-1 div.sk-estimator input.sk-toggleable__control:checked~label.sk-toggleable__label {background-color: #d4ebff;}#sk-container-id-1 div.sk-label input.sk-toggleable__control:checked~label.sk-toggleable__label {background-color: #d4ebff;}#sk-container-id-1 input.sk-hidden--visually {border: 0;clip: rect(1px 1px 1px 1px);clip: rect(1px, 1px, 1px, 1px);height: 1px;margin: -1px;overflow: hidden;padding: 0;position: absolute;width: 1px;}#sk-container-id-1 div.sk-estimator {font-family: monospace;background-color: #f0f8ff;border: 1px dotted black;border-radius: 0.25em;box-sizing: border-box;margin-bottom: 0.5em;}#sk-container-id-1 div.sk-estimator:hover {background-color: #d4ebff;}#sk-container-id-1 div.sk-parallel-item::after {content: \"\";width: 100%;border-bottom: 1px solid gray;flex-grow: 1;}#sk-container-id-1 div.sk-label:hover label.sk-toggleable__label {background-color: #d4ebff;}#sk-container-id-1 div.sk-serial::before {content: \"\";position: absolute;border-left: 1px solid gray;box-sizing: border-box;top: 0;bottom: 0;left: 50%;z-index: 0;}#sk-container-id-1 div.sk-serial {display: flex;flex-direction: column;align-items: center;background-color: white;padding-right: 0.2em;padding-left: 0.2em;position: relative;}#sk-container-id-1 div.sk-item {position: relative;z-index: 1;}#sk-container-id-1 div.sk-parallel {display: flex;align-items: stretch;justify-content: center;background-color: white;position: relative;}#sk-container-id-1 div.sk-item::before, #sk-container-id-1 div.sk-parallel-item::before {content: \"\";position: absolute;border-left: 1px solid gray;box-sizing: border-box;top: 0;bottom: 0;left: 50%;z-index: -1;}#sk-container-id-1 div.sk-parallel-item {display: flex;flex-direction: column;z-index: 1;position: relative;background-color: white;}#sk-container-id-1 div.sk-parallel-item:first-child::after {align-self: flex-end;width: 50%;}#sk-container-id-1 div.sk-parallel-item:last-child::after {align-self: flex-start;width: 50%;}#sk-container-id-1 div.sk-parallel-item:only-child::after {width: 0;}#sk-container-id-1 div.sk-dashed-wrapped {border: 1px dashed gray;margin: 0 0.4em 0.5em 0.4em;box-sizing: border-box;padding-bottom: 0.4em;background-color: white;}#sk-container-id-1 div.sk-label label {font-family: monospace;font-weight: bold;display: inline-block;line-height: 1.2em;}#sk-container-id-1 div.sk-label-container {text-align: center;}#sk-container-id-1 div.sk-container {/* jupyter's `normalize.less` sets `[hidden] { display: none; }` but bootstrap.min.css set `[hidden] { display: none !important; }` so we also need the `!important` here to be able to override the default hidden behavior on the sphinx rendered scikit-learn.org. See: https://github.com/scikit-learn/scikit-learn/issues/21755 */display: inline-block !important;position: relative;}#sk-container-id-1 div.sk-text-repr-fallback {display: none;}</style><div id=\"sk-container-id-1\" class=\"sk-top-container\"><div class=\"sk-text-repr-fallback\"><pre>XGBRegressor(base_score=None, booster=None, callbacks=None,\n",
       "             colsample_bylevel=None, colsample_bynode=None,\n",
       "             colsample_bytree=None, early_stopping_rounds=None,\n",
       "             enable_categorical=False, eval_metric=None, feature_types=None,\n",
       "             gamma=None, gpu_id=None, grow_policy=None, importance_type=None,\n",
       "             interaction_constraints=None, learning_rate=0.05, max_bin=None,\n",
       "             max_cat_threshold=None, max_cat_to_onehot=None,\n",
       "             max_delta_step=None, max_depth=None, max_leaves=None,\n",
       "             min_child_weight=None, missing=nan, monotone_constraints=None,\n",
       "             n_estimators=500, n_jobs=None, num_parallel_tree=None,\n",
       "             predictor=None, random_state=None, ...)</pre><b>In a Jupyter environment, please rerun this cell to show the HTML representation or trust the notebook. <br />On GitHub, the HTML representation is unable to render, please try loading this page with nbviewer.org.</b></div><div class=\"sk-container\" hidden><div class=\"sk-item\"><div class=\"sk-estimator sk-toggleable\"><input class=\"sk-toggleable__control sk-hidden--visually\" id=\"sk-estimator-id-1\" type=\"checkbox\" checked><label for=\"sk-estimator-id-1\" class=\"sk-toggleable__label sk-toggleable__label-arrow\">XGBRegressor</label><div class=\"sk-toggleable__content\"><pre>XGBRegressor(base_score=None, booster=None, callbacks=None,\n",
       "             colsample_bylevel=None, colsample_bynode=None,\n",
       "             colsample_bytree=None, early_stopping_rounds=None,\n",
       "             enable_categorical=False, eval_metric=None, feature_types=None,\n",
       "             gamma=None, gpu_id=None, grow_policy=None, importance_type=None,\n",
       "             interaction_constraints=None, learning_rate=0.05, max_bin=None,\n",
       "             max_cat_threshold=None, max_cat_to_onehot=None,\n",
       "             max_delta_step=None, max_depth=None, max_leaves=None,\n",
       "             min_child_weight=None, missing=nan, monotone_constraints=None,\n",
       "             n_estimators=500, n_jobs=None, num_parallel_tree=None,\n",
       "             predictor=None, random_state=None, ...)</pre></div></div></div></div></div>"
      ],
      "text/plain": [
       "XGBRegressor(base_score=None, booster=None, callbacks=None,\n",
       "             colsample_bylevel=None, colsample_bynode=None,\n",
       "             colsample_bytree=None, early_stopping_rounds=None,\n",
       "             enable_categorical=False, eval_metric=None, feature_types=None,\n",
       "             gamma=None, gpu_id=None, grow_policy=None, importance_type=None,\n",
       "             interaction_constraints=None, learning_rate=0.05, max_bin=None,\n",
       "             max_cat_threshold=None, max_cat_to_onehot=None,\n",
       "             max_delta_step=None, max_depth=None, max_leaves=None,\n",
       "             min_child_weight=None, missing=nan, monotone_constraints=None,\n",
       "             n_estimators=500, n_jobs=None, num_parallel_tree=None,\n",
       "             predictor=None, random_state=None, ...)"
      ]
     },
     "execution_count": 32,
     "metadata": {},
     "output_type": "execute_result"
    }
   ],
   "source": [
    "from xgboost import XGBRegressor\n",
    "model = XGBRegressor(learning_rate=0.05, n_estimators=500)\n",
    "model.fit(train_1, y_train)"
   ]
  },
  {
   "cell_type": "code",
   "execution_count": 33,
   "id": "07ebb736",
   "metadata": {
    "execution": {
     "iopub.execute_input": "2023-06-22T21:44:30.070058Z",
     "iopub.status.busy": "2023-06-22T21:44:30.068896Z",
     "iopub.status.idle": "2023-06-22T21:44:30.156542Z",
     "shell.execute_reply": "2023-06-22T21:44:30.155458Z"
    },
    "papermill": {
     "duration": 0.111738,
     "end_time": "2023-06-22T21:44:30.159566",
     "exception": false,
     "start_time": "2023-06-22T21:44:30.047828",
     "status": "completed"
    },
    "tags": []
   },
   "outputs": [],
   "source": [
    "pred=model.predict(test_1)"
   ]
  },
  {
   "cell_type": "code",
   "execution_count": 34,
   "id": "4b9af37a",
   "metadata": {
    "execution": {
     "iopub.execute_input": "2023-06-22T21:44:30.204014Z",
     "iopub.status.busy": "2023-06-22T21:44:30.202605Z",
     "iopub.status.idle": "2023-06-22T21:44:30.217476Z",
     "shell.execute_reply": "2023-06-22T21:44:30.216144Z"
    },
    "papermill": {
     "duration": 0.04067,
     "end_time": "2023-06-22T21:44:30.221329",
     "exception": false,
     "start_time": "2023-06-22T21:44:30.180659",
     "status": "completed"
    },
    "tags": []
   },
   "outputs": [
    {
     "data": {
      "text/html": [
       "<div>\n",
       "<style scoped>\n",
       "    .dataframe tbody tr th:only-of-type {\n",
       "        vertical-align: middle;\n",
       "    }\n",
       "\n",
       "    .dataframe tbody tr th {\n",
       "        vertical-align: top;\n",
       "    }\n",
       "\n",
       "    .dataframe thead th {\n",
       "        text-align: right;\n",
       "    }\n",
       "</style>\n",
       "<table border=\"1\" class=\"dataframe\">\n",
       "  <thead>\n",
       "    <tr style=\"text-align: right;\">\n",
       "      <th></th>\n",
       "      <th>Photo</th>\n",
       "      <th>Value</th>\n",
       "    </tr>\n",
       "  </thead>\n",
       "  <tbody>\n",
       "    <tr>\n",
       "      <th>0</th>\n",
       "      <td>https://cdn.sofifa.com/players/212/198/22_60.png</td>\n",
       "      <td>71609544.0</td>\n",
       "    </tr>\n",
       "    <tr>\n",
       "      <th>1</th>\n",
       "      <td>https://cdn.sofifa.com/players/209/658/22_60.png</td>\n",
       "      <td>54067988.0</td>\n",
       "    </tr>\n",
       "    <tr>\n",
       "      <th>2</th>\n",
       "      <td>https://cdn.sofifa.com/players/176/580/22_60.png</td>\n",
       "      <td>30014316.0</td>\n",
       "    </tr>\n",
       "    <tr>\n",
       "      <th>3</th>\n",
       "      <td>https://cdn.sofifa.com/players/192/985/22_60.png</td>\n",
       "      <td>84322752.0</td>\n",
       "    </tr>\n",
       "    <tr>\n",
       "      <th>4</th>\n",
       "      <td>https://cdn.sofifa.com/players/224/334/22_60.png</td>\n",
       "      <td>27655076.0</td>\n",
       "    </tr>\n",
       "  </tbody>\n",
       "</table>\n",
       "</div>"
      ],
      "text/plain": [
       "                                              Photo       Value\n",
       "0  https://cdn.sofifa.com/players/212/198/22_60.png  71609544.0\n",
       "1  https://cdn.sofifa.com/players/209/658/22_60.png  54067988.0\n",
       "2  https://cdn.sofifa.com/players/176/580/22_60.png  30014316.0\n",
       "3  https://cdn.sofifa.com/players/192/985/22_60.png  84322752.0\n",
       "4  https://cdn.sofifa.com/players/224/334/22_60.png  27655076.0"
      ]
     },
     "execution_count": 34,
     "metadata": {},
     "output_type": "execute_result"
    }
   ],
   "source": [
    "output = pd.DataFrame({'Photo':test_data['Photo'],'Value': pred})  # Create the DataFrame with the 'Value' column\n",
    "output.head()"
   ]
  },
  {
   "cell_type": "markdown",
   "id": "6e329a2a",
   "metadata": {
    "papermill": {
     "duration": 0.019209,
     "end_time": "2023-06-22T21:44:30.260374",
     "exception": false,
     "start_time": "2023-06-22T21:44:30.241165",
     "status": "completed"
    },
    "tags": []
   },
   "source": [
    "hence output submission has been created"
   ]
  },
  {
   "cell_type": "markdown",
   "id": "350edfee",
   "metadata": {
    "papermill": {
     "duration": 0.019651,
     "end_time": "2023-06-22T21:44:30.299716",
     "exception": false,
     "start_time": "2023-06-22T21:44:30.280065",
     "status": "completed"
    },
    "tags": []
   },
   "source": [
    "converting to a csv as needed"
   ]
  },
  {
   "cell_type": "code",
   "execution_count": 35,
   "id": "1528645a",
   "metadata": {
    "execution": {
     "iopub.execute_input": "2023-06-22T21:44:30.341422Z",
     "iopub.status.busy": "2023-06-22T21:44:30.340738Z",
     "iopub.status.idle": "2023-06-22T21:44:30.439640Z",
     "shell.execute_reply": "2023-06-22T21:44:30.438446Z"
    },
    "papermill": {
     "duration": 0.123045,
     "end_time": "2023-06-22T21:44:30.442356",
     "exception": false,
     "start_time": "2023-06-22T21:44:30.319311",
     "status": "completed"
    },
    "tags": []
   },
   "outputs": [
    {
     "name": "stdout",
     "output_type": "stream",
     "text": [
      "Submission saved successfully\n"
     ]
    }
   ],
   "source": [
    "output.to_csv('submissions.csv',index=False)\n",
    "print(\"Submission saved successfully\")"
   ]
  },
  {
   "cell_type": "code",
   "execution_count": 36,
   "id": "92a01ca3",
   "metadata": {
    "execution": {
     "iopub.execute_input": "2023-06-22T21:44:30.484408Z",
     "iopub.status.busy": "2023-06-22T21:44:30.483986Z",
     "iopub.status.idle": "2023-06-22T21:44:30.490767Z",
     "shell.execute_reply": "2023-06-22T21:44:30.489614Z"
    },
    "papermill": {
     "duration": 0.030762,
     "end_time": "2023-06-22T21:44:30.493289",
     "exception": false,
     "start_time": "2023-06-22T21:44:30.462527",
     "status": "completed"
    },
    "tags": []
   },
   "outputs": [
    {
     "data": {
      "text/plain": [
       "(16710, 2)"
      ]
     },
     "execution_count": 36,
     "metadata": {},
     "output_type": "execute_result"
    }
   ],
   "source": [
    "output.shape"
   ]
  },
  {
   "cell_type": "code",
   "execution_count": null,
   "id": "adeec14e",
   "metadata": {
    "papermill": {
     "duration": 0.019547,
     "end_time": "2023-06-22T21:44:30.532913",
     "exception": false,
     "start_time": "2023-06-22T21:44:30.513366",
     "status": "completed"
    },
    "tags": []
   },
   "outputs": [],
   "source": []
  }
 ],
 "metadata": {
  "kernelspec": {
   "display_name": "Python 3",
   "language": "python",
   "name": "python3"
  },
  "language_info": {
   "codemirror_mode": {
    "name": "ipython",
    "version": 3
   },
   "file_extension": ".py",
   "mimetype": "text/x-python",
   "name": "python",
   "nbconvert_exporter": "python",
   "pygments_lexer": "ipython3",
   "version": "3.10.10"
  },
  "papermill": {
   "default_parameters": {},
   "duration": 28.352203,
   "end_time": "2023-06-22T21:44:31.576166",
   "environment_variables": {},
   "exception": null,
   "input_path": "__notebook__.ipynb",
   "output_path": "__notebook__.ipynb",
   "parameters": {},
   "start_time": "2023-06-22T21:44:03.223963",
   "version": "2.4.0"
  }
 },
 "nbformat": 4,
 "nbformat_minor": 5
}
