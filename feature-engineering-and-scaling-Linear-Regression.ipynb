{
 "cells": [
  {
   "cell_type": "code",
   "execution_count": 1,
   "id": "fbd4ad4a",
   "metadata": {
    "execution": {
     "iopub.execute_input": "2023-06-22T19:45:38.251625Z",
     "iopub.status.busy": "2023-06-22T19:45:38.251112Z",
     "iopub.status.idle": "2023-06-22T19:45:38.269147Z",
     "shell.execute_reply": "2023-06-22T19:45:38.267465Z"
    },
    "papermill": {
     "duration": 0.041489,
     "end_time": "2023-06-22T19:45:38.271508",
     "exception": false,
     "start_time": "2023-06-22T19:45:38.230019",
     "status": "completed"
    },
    "tags": []
   },
   "outputs": [
    {
     "name": "stdout",
     "output_type": "stream",
     "text": [
      "/kaggle/input/mltiverse-join-comp/sample_submission.csv\n",
      "/kaggle/input/mltiverse-join-comp/train.csv\n",
      "/kaggle/input/mltiverse-join-comp/test.csv\n"
     ]
    }
   ],
   "source": [
    "## This Python 3 environment comes with many helpful analytics libraries installed\n",
    "# It is defined by the kaggle/python Docker image: https://github.com/kaggle/docker-python\n",
    "# For example, here's several helpful packages to load\n",
    "\n",
    "import numpy as np # linear algebra\n",
    "import pandas as pd # data processing, CSV file I/O (e.g. pd.read_csv)\n",
    "\n",
    "# Input data files are available in the read-only \"../input/\" directory\n",
    "# For example, running this (by clicking run or pressing Shift+Enter) will list all files under the input directory\n",
    "\n",
    "import os\n",
    "for dirname, _, filenames in os.walk('/kaggle/input'):\n",
    "    for filename in filenames:\n",
    "        print(os.path.join(dirname, filename))\n",
    "\n",
    "# You can write up to 20GB to the current directory (/kaggle/working/) that gets preserved as output when you create a version using \"Save & Run All\" \n",
    "# You can also write temporary files to /kaggle/temp/, but they won't be saved outside of the current session"
   ]
  },
  {
   "cell_type": "markdown",
   "id": "a8d33941",
   "metadata": {
    "papermill": {
     "duration": 0.017731,
     "end_time": "2023-06-22T19:45:38.307408",
     "exception": false,
     "start_time": "2023-06-22T19:45:38.289677",
     "status": "completed"
    },
    "tags": []
   },
   "source": [
    "importing data"
   ]
  },
  {
   "cell_type": "code",
   "execution_count": 2,
   "id": "bac91984",
   "metadata": {
    "execution": {
     "iopub.execute_input": "2023-06-22T19:45:38.346386Z",
     "iopub.status.busy": "2023-06-22T19:45:38.345783Z",
     "iopub.status.idle": "2023-06-22T19:45:41.201217Z",
     "shell.execute_reply": "2023-06-22T19:45:41.199585Z"
    },
    "papermill": {
     "duration": 2.879489,
     "end_time": "2023-06-22T19:45:41.204791",
     "exception": false,
     "start_time": "2023-06-22T19:45:38.325302",
     "status": "completed"
    },
    "tags": []
   },
   "outputs": [],
   "source": [
    "train_data=pd.read_csv('/kaggle/input/mltiverse-join-comp/train.csv')\n",
    "test_data=pd.read_csv('/kaggle/input/mltiverse-join-comp/test.csv')\n",
    "sample=pd.read_csv('/kaggle/input/mltiverse-join-comp/sample_submission.csv')"
   ]
  },
  {
   "cell_type": "markdown",
   "id": "a2c36861",
   "metadata": {
    "papermill": {
     "duration": 0.019245,
     "end_time": "2023-06-22T19:45:41.243479",
     "exception": false,
     "start_time": "2023-06-22T19:45:41.224234",
     "status": "completed"
    },
    "tags": []
   },
   "source": [
    "making some comparisions"
   ]
  },
  {
   "cell_type": "code",
   "execution_count": 3,
   "id": "6f926621",
   "metadata": {
    "execution": {
     "iopub.execute_input": "2023-06-22T19:45:41.285010Z",
     "iopub.status.busy": "2023-06-22T19:45:41.283370Z",
     "iopub.status.idle": "2023-06-22T19:45:41.291708Z",
     "shell.execute_reply": "2023-06-22T19:45:41.290945Z"
    },
    "papermill": {
     "duration": 0.031794,
     "end_time": "2023-06-22T19:45:41.294296",
     "exception": false,
     "start_time": "2023-06-22T19:45:41.262502",
     "status": "completed"
    },
    "tags": []
   },
   "outputs": [
    {
     "data": {
      "text/plain": [
       "(16710, 2)"
      ]
     },
     "execution_count": 3,
     "metadata": {},
     "output_type": "execute_result"
    }
   ],
   "source": [
    "sample.shape"
   ]
  },
  {
   "cell_type": "code",
   "execution_count": 4,
   "id": "e763adcb",
   "metadata": {
    "execution": {
     "iopub.execute_input": "2023-06-22T19:45:41.336505Z",
     "iopub.status.busy": "2023-06-22T19:45:41.335817Z",
     "iopub.status.idle": "2023-06-22T19:45:41.341465Z",
     "shell.execute_reply": "2023-06-22T19:45:41.340611Z"
    },
    "papermill": {
     "duration": 0.028699,
     "end_time": "2023-06-22T19:45:41.343769",
     "exception": false,
     "start_time": "2023-06-22T19:45:41.315070",
     "status": "completed"
    },
    "tags": []
   },
   "outputs": [
    {
     "data": {
      "text/plain": [
       "(16710, 65)"
      ]
     },
     "execution_count": 4,
     "metadata": {},
     "output_type": "execute_result"
    }
   ],
   "source": [
    "test_data.shape"
   ]
  },
  {
   "cell_type": "markdown",
   "id": "e7c5c94b",
   "metadata": {
    "papermill": {
     "duration": 0.01878,
     "end_time": "2023-06-22T19:45:41.382996",
     "exception": false,
     "start_time": "2023-06-22T19:45:41.364216",
     "status": "completed"
    },
    "tags": []
   },
   "source": [
    "checking if photo id is the same for both"
   ]
  },
  {
   "cell_type": "code",
   "execution_count": 5,
   "id": "c0fe7ff4",
   "metadata": {
    "execution": {
     "iopub.execute_input": "2023-06-22T19:45:41.423738Z",
     "iopub.status.busy": "2023-06-22T19:45:41.422858Z",
     "iopub.status.idle": "2023-06-22T19:45:41.440553Z",
     "shell.execute_reply": "2023-06-22T19:45:41.439512Z"
    },
    "papermill": {
     "duration": 0.040527,
     "end_time": "2023-06-22T19:45:41.442912",
     "exception": false,
     "start_time": "2023-06-22T19:45:41.402385",
     "status": "completed"
    },
    "tags": []
   },
   "outputs": [
    {
     "data": {
      "text/plain": [
       "True"
      ]
     },
     "execution_count": 5,
     "metadata": {},
     "output_type": "execute_result"
    }
   ],
   "source": [
    "(test_data['Photo'] == sample['Photo']).all()"
   ]
  },
  {
   "cell_type": "markdown",
   "id": "ffeda77a",
   "metadata": {
    "papermill": {
     "duration": 0.017588,
     "end_time": "2023-06-22T19:45:41.478519",
     "exception": false,
     "start_time": "2023-06-22T19:45:41.460931",
     "status": "completed"
    },
    "tags": []
   },
   "source": [
    "therefore it is the exact same"
   ]
  },
  {
   "cell_type": "markdown",
   "id": "19e8483f",
   "metadata": {
    "papermill": {
     "duration": 0.017884,
     "end_time": "2023-06-22T19:45:41.514827",
     "exception": false,
     "start_time": "2023-06-22T19:45:41.496943",
     "status": "completed"
    },
    "tags": []
   },
   "source": [
    "checking the number of rows and analysing test data"
   ]
  },
  {
   "cell_type": "code",
   "execution_count": 6,
   "id": "09b506b9",
   "metadata": {
    "execution": {
     "iopub.execute_input": "2023-06-22T19:45:41.553799Z",
     "iopub.status.busy": "2023-06-22T19:45:41.553073Z",
     "iopub.status.idle": "2023-06-22T19:45:41.559797Z",
     "shell.execute_reply": "2023-06-22T19:45:41.558821Z"
    },
    "papermill": {
     "duration": 0.028925,
     "end_time": "2023-06-22T19:45:41.562025",
     "exception": false,
     "start_time": "2023-06-22T19:45:41.533100",
     "status": "completed"
    },
    "tags": []
   },
   "outputs": [
    {
     "data": {
      "text/plain": [
       "(87642, 67)"
      ]
     },
     "execution_count": 6,
     "metadata": {},
     "output_type": "execute_result"
    }
   ],
   "source": [
    "train_data.shape"
   ]
  },
  {
   "cell_type": "code",
   "execution_count": 7,
   "id": "29b8f23c",
   "metadata": {
    "execution": {
     "iopub.execute_input": "2023-06-22T19:45:41.601282Z",
     "iopub.status.busy": "2023-06-22T19:45:41.600872Z",
     "iopub.status.idle": "2023-06-22T19:45:41.658731Z",
     "shell.execute_reply": "2023-06-22T19:45:41.657239Z"
    },
    "papermill": {
     "duration": 0.080619,
     "end_time": "2023-06-22T19:45:41.661432",
     "exception": false,
     "start_time": "2023-06-22T19:45:41.580813",
     "status": "completed"
    },
    "tags": []
   },
   "outputs": [
    {
     "data": {
      "text/plain": [
       "74502"
      ]
     },
     "execution_count": 7,
     "metadata": {},
     "output_type": "execute_result"
    }
   ],
   "source": [
    "train_data['Photo'].nunique()"
   ]
  },
  {
   "cell_type": "code",
   "execution_count": 8,
   "id": "7cbce5b9",
   "metadata": {
    "execution": {
     "iopub.execute_input": "2023-06-22T19:45:41.702041Z",
     "iopub.status.busy": "2023-06-22T19:45:41.701040Z",
     "iopub.status.idle": "2023-06-22T19:45:41.774642Z",
     "shell.execute_reply": "2023-06-22T19:45:41.773219Z"
    },
    "papermill": {
     "duration": 0.096759,
     "end_time": "2023-06-22T19:45:41.777425",
     "exception": false,
     "start_time": "2023-06-22T19:45:41.680666",
     "status": "completed"
    },
    "tags": []
   },
   "outputs": [
    {
     "data": {
      "text/plain": [
       "87642"
      ]
     },
     "execution_count": 8,
     "metadata": {},
     "output_type": "execute_result"
    }
   ],
   "source": [
    " train_data[['Photo', 'year']].drop_duplicates().shape[0]"
   ]
  },
  {
   "cell_type": "markdown",
   "id": "b3973a52",
   "metadata": {
    "papermill": {
     "duration": 0.018482,
     "end_time": "2023-06-22T19:45:41.814374",
     "exception": false,
     "start_time": "2023-06-22T19:45:41.795892",
     "status": "completed"
    },
    "tags": []
   },
   "source": [
    "keeping only one row per id(the latest year in this case)"
   ]
  },
  {
   "cell_type": "markdown",
   "id": "24492495",
   "metadata": {
    "papermill": {
     "duration": 0.018507,
     "end_time": "2023-06-22T19:45:41.851421",
     "exception": false,
     "start_time": "2023-06-22T19:45:41.832914",
     "status": "completed"
    },
    "tags": []
   },
   "source": [
    "first and foremost let me check for test data. the shape, unique ids, photo etc etc\n"
   ]
  },
  {
   "cell_type": "code",
   "execution_count": 9,
   "id": "bc047248",
   "metadata": {
    "execution": {
     "iopub.execute_input": "2023-06-22T19:45:41.893792Z",
     "iopub.status.busy": "2023-06-22T19:45:41.892381Z",
     "iopub.status.idle": "2023-06-22T19:45:41.902819Z",
     "shell.execute_reply": "2023-06-22T19:45:41.901743Z"
    },
    "papermill": {
     "duration": 0.034512,
     "end_time": "2023-06-22T19:45:41.905457",
     "exception": false,
     "start_time": "2023-06-22T19:45:41.870945",
     "status": "completed"
    },
    "tags": []
   },
   "outputs": [
    {
     "data": {
      "text/plain": [
       "True"
      ]
     },
     "execution_count": 9,
     "metadata": {},
     "output_type": "execute_result"
    }
   ],
   "source": [
    "test_data.shape[0]==test_data['ID'].nunique()"
   ]
  },
  {
   "cell_type": "markdown",
   "id": "781553d9",
   "metadata": {
    "papermill": {
     "duration": 0.019494,
     "end_time": "2023-06-22T19:45:41.944429",
     "exception": false,
     "start_time": "2023-06-22T19:45:41.924935",
     "status": "completed"
    },
    "tags": []
   },
   "source": [
    "therefore the ids and photos are linearly mapped, so should only keep one id for training data"
   ]
  },
  {
   "cell_type": "code",
   "execution_count": 10,
   "id": "e8365238",
   "metadata": {
    "execution": {
     "iopub.execute_input": "2023-06-22T19:45:41.988477Z",
     "iopub.status.busy": "2023-06-22T19:45:41.987044Z",
     "iopub.status.idle": "2023-06-22T19:45:42.162763Z",
     "shell.execute_reply": "2023-06-22T19:45:42.161344Z"
    },
    "papermill": {
     "duration": 0.201724,
     "end_time": "2023-06-22T19:45:42.166536",
     "exception": false,
     "start_time": "2023-06-22T19:45:41.964812",
     "status": "completed"
    },
    "tags": []
   },
   "outputs": [],
   "source": [
    "# Sort the train_data DataFrame by 'ID' and 'year' in descending order\n",
    "train_data_sorted = train_data.sort_values(by=['ID', 'year'], ascending=[True, False])\n",
    "\n",
    "# Drop duplicate 'ID' values, keeping only the first occurrence (which corresponds to the latest year)\n",
    "train_data_1 = train_data_sorted.drop_duplicates(subset='ID', keep='first')\n",
    "\n",
    "# Reset the index of the new dataset\n",
    "train_data_1 = train_data_1.reset_index(drop=True)"
   ]
  },
  {
   "cell_type": "code",
   "execution_count": 11,
   "id": "f94e275d",
   "metadata": {
    "execution": {
     "iopub.execute_input": "2023-06-22T19:45:42.210290Z",
     "iopub.status.busy": "2023-06-22T19:45:42.209797Z",
     "iopub.status.idle": "2023-06-22T19:45:42.217441Z",
     "shell.execute_reply": "2023-06-22T19:45:42.216335Z"
    },
    "papermill": {
     "duration": 0.032336,
     "end_time": "2023-06-22T19:45:42.220267",
     "exception": false,
     "start_time": "2023-06-22T19:45:42.187931",
     "status": "completed"
    },
    "tags": []
   },
   "outputs": [
    {
     "data": {
      "text/plain": [
       "(33699, 67)"
      ]
     },
     "execution_count": 11,
     "metadata": {},
     "output_type": "execute_result"
    }
   ],
   "source": [
    "train_data_1.shape"
   ]
  },
  {
   "cell_type": "markdown",
   "id": "614b4561",
   "metadata": {
    "papermill": {
     "duration": 0.025711,
     "end_time": "2023-06-22T19:45:42.273330",
     "exception": false,
     "start_time": "2023-06-22T19:45:42.247619",
     "status": "completed"
    },
    "tags": []
   },
   "source": [
    "feature engineering some columns"
   ]
  },
  {
   "cell_type": "code",
   "execution_count": 12,
   "id": "8a6261cb",
   "metadata": {
    "execution": {
     "iopub.execute_input": "2023-06-22T19:45:42.329301Z",
     "iopub.status.busy": "2023-06-22T19:45:42.328303Z",
     "iopub.status.idle": "2023-06-22T19:45:42.344408Z",
     "shell.execute_reply": "2023-06-22T19:45:42.343284Z"
    },
    "papermill": {
     "duration": 0.047009,
     "end_time": "2023-06-22T19:45:42.348530",
     "exception": false,
     "start_time": "2023-06-22T19:45:42.301521",
     "status": "completed"
    },
    "tags": []
   },
   "outputs": [
    {
     "data": {
      "text/plain": [
       "array(['<span class=\"pos pos29\">RES', '<span class=\"pos pos15\">LCM',\n",
       "       '<span class=\"pos pos18\">CAM', '<span class=\"pos pos28\">SUB', nan,\n",
       "       '<span class=\"pos pos0\">GK', '<span class=\"pos pos10\">CDM',\n",
       "       '<span class=\"pos pos5\">CB', '<span class=\"pos pos4\">RCB',\n",
       "       '<span class=\"pos pos25\">ST', '<span class=\"pos pos6\">LCB',\n",
       "       '<span class=\"pos pos14\">CM', '<span class=\"pos pos26\">LS',\n",
       "       '<span class=\"pos pos9\">RDM', '<span class=\"pos pos13\">RCM',\n",
       "       '<span class=\"pos pos16\">LM', '<span class=\"pos pos19\">LAM',\n",
       "       '<span class=\"pos pos11\">LDM', '<span class=\"pos pos3\">RB',\n",
       "       '<span class=\"pos pos12\">RM', '<span class=\"pos pos21\">CF',\n",
       "       '<span class=\"pos pos24\">RS', '<span class=\"pos pos23\">RW',\n",
       "       '<span class=\"pos pos7\">LB', '<span class=\"pos pos27\">LW',\n",
       "       '<span class=\"pos pos8\">LWB', '<span class=\"pos pos2\">RWB',\n",
       "       '<span class=\"pos pos17\">RAM', '<span class=\"pos pos22\">LF',\n",
       "       '<span class=\"pos pos20\">RF'], dtype=object)"
      ]
     },
     "execution_count": 12,
     "metadata": {},
     "output_type": "execute_result"
    }
   ],
   "source": [
    "train_data_1['Position'].unique()"
   ]
  },
  {
   "cell_type": "code",
   "execution_count": 13,
   "id": "4c5f8bcf",
   "metadata": {
    "execution": {
     "iopub.execute_input": "2023-06-22T19:45:42.394684Z",
     "iopub.status.busy": "2023-06-22T19:45:42.393437Z",
     "iopub.status.idle": "2023-06-22T19:45:42.399924Z",
     "shell.execute_reply": "2023-06-22T19:45:42.399215Z"
    },
    "papermill": {
     "duration": 0.031433,
     "end_time": "2023-06-22T19:45:42.402598",
     "exception": false,
     "start_time": "2023-06-22T19:45:42.371165",
     "status": "completed"
    },
    "tags": []
   },
   "outputs": [
    {
     "data": {
      "text/plain": [
       "dtype('O')"
      ]
     },
     "execution_count": 13,
     "metadata": {},
     "output_type": "execute_result"
    }
   ],
   "source": [
    "test_data['Position'].dtype"
   ]
  },
  {
   "cell_type": "code",
   "execution_count": 14,
   "id": "a766c041",
   "metadata": {
    "execution": {
     "iopub.execute_input": "2023-06-22T19:45:42.445450Z",
     "iopub.status.busy": "2023-06-22T19:45:42.444812Z",
     "iopub.status.idle": "2023-06-22T19:45:42.480088Z",
     "shell.execute_reply": "2023-06-22T19:45:42.478927Z"
    },
    "papermill": {
     "duration": 0.060294,
     "end_time": "2023-06-22T19:45:42.483447",
     "exception": false,
     "start_time": "2023-06-22T19:45:42.423153",
     "status": "completed"
    },
    "tags": []
   },
   "outputs": [],
   "source": [
    "train_data_1['Position'] = train_data_1['Position'].astype(str)\n",
    "train_data_1['Position'] = train_data_1['Position'].str[-3:]"
   ]
  },
  {
   "cell_type": "code",
   "execution_count": 15,
   "id": "77bbd6cf",
   "metadata": {
    "execution": {
     "iopub.execute_input": "2023-06-22T19:45:42.527669Z",
     "iopub.status.busy": "2023-06-22T19:45:42.527234Z",
     "iopub.status.idle": "2023-06-22T19:45:42.537135Z",
     "shell.execute_reply": "2023-06-22T19:45:42.536125Z"
    },
    "papermill": {
     "duration": 0.034393,
     "end_time": "2023-06-22T19:45:42.539636",
     "exception": false,
     "start_time": "2023-06-22T19:45:42.505243",
     "status": "completed"
    },
    "tags": []
   },
   "outputs": [
    {
     "data": {
      "text/plain": [
       "array(['RES', 'LCM', 'CAM', 'SUB', 'nan', '>GK', 'CDM', '>CB', 'RCB',\n",
       "       '>ST', 'LCB', '>CM', '>LS', 'RDM', 'RCM', '>LM', 'LAM', 'LDM',\n",
       "       '>RB', '>RM', '>CF', '>RS', '>RW', '>LB', '>LW', 'LWB', 'RWB',\n",
       "       'RAM', '>LF', '>RF'], dtype=object)"
      ]
     },
     "execution_count": 15,
     "metadata": {},
     "output_type": "execute_result"
    }
   ],
   "source": [
    "train_data_1['Position'].unique()"
   ]
  },
  {
   "cell_type": "markdown",
   "id": "e62eed1d",
   "metadata": {
    "papermill": {
     "duration": 0.019915,
     "end_time": "2023-06-22T19:45:42.579424",
     "exception": false,
     "start_time": "2023-06-22T19:45:42.559509",
     "status": "completed"
    },
    "tags": []
   },
   "source": [
    "trying to remove the '>'"
   ]
  },
  {
   "cell_type": "code",
   "execution_count": 16,
   "id": "72979d2a",
   "metadata": {
    "execution": {
     "iopub.execute_input": "2023-06-22T19:45:42.621537Z",
     "iopub.status.busy": "2023-06-22T19:45:42.620820Z",
     "iopub.status.idle": "2023-06-22T19:45:42.688376Z",
     "shell.execute_reply": "2023-06-22T19:45:42.687088Z"
    },
    "papermill": {
     "duration": 0.092222,
     "end_time": "2023-06-22T19:45:42.691257",
     "exception": false,
     "start_time": "2023-06-22T19:45:42.599035",
     "status": "completed"
    },
    "tags": []
   },
   "outputs": [],
   "source": [
    "# Remove '>' character from the beginning of each value in 'Position' column\n",
    "train_data_1['Position'] = train_data_1['Position'].str.lstrip('>')\n",
    "\n",
    "# Remove rows where 'Position' is NaN\n",
    "train_data_1 = train_data_1.dropna(subset=['Position'])"
   ]
  },
  {
   "cell_type": "markdown",
   "id": "13bbfff9",
   "metadata": {
    "papermill": {
     "duration": 0.019401,
     "end_time": "2023-06-22T19:45:42.731124",
     "exception": false,
     "start_time": "2023-06-22T19:45:42.711723",
     "status": "completed"
    },
    "tags": []
   },
   "source": [
    "removing all the nan values"
   ]
  },
  {
   "cell_type": "code",
   "execution_count": 17,
   "id": "2f84b6fa",
   "metadata": {
    "execution": {
     "iopub.execute_input": "2023-06-22T19:45:42.773568Z",
     "iopub.status.busy": "2023-06-22T19:45:42.773126Z",
     "iopub.status.idle": "2023-06-22T19:45:42.805786Z",
     "shell.execute_reply": "2023-06-22T19:45:42.804248Z"
    },
    "papermill": {
     "duration": 0.057718,
     "end_time": "2023-06-22T19:45:42.808778",
     "exception": false,
     "start_time": "2023-06-22T19:45:42.751060",
     "status": "completed"
    },
    "tags": []
   },
   "outputs": [],
   "source": [
    "train_data_1 = train_data_1[train_data_1['Position'] != 'nan']"
   ]
  },
  {
   "cell_type": "code",
   "execution_count": 18,
   "id": "5988bc62",
   "metadata": {
    "execution": {
     "iopub.execute_input": "2023-06-22T19:45:42.851374Z",
     "iopub.status.busy": "2023-06-22T19:45:42.850056Z",
     "iopub.status.idle": "2023-06-22T19:45:42.862817Z",
     "shell.execute_reply": "2023-06-22T19:45:42.861435Z"
    },
    "papermill": {
     "duration": 0.036512,
     "end_time": "2023-06-22T19:45:42.865233",
     "exception": false,
     "start_time": "2023-06-22T19:45:42.828721",
     "status": "completed"
    },
    "tags": []
   },
   "outputs": [
    {
     "data": {
      "text/plain": [
       "array(['RES', 'LCM', 'CAM', 'SUB', 'GK', 'CDM', 'CB', 'RCB', 'ST', 'LCB',\n",
       "       'CM', 'LS', 'RDM', 'RCM', 'LM', 'LAM', 'LDM', 'RB', 'RM', 'CF',\n",
       "       'RS', 'RW', 'LB', 'LW', 'LWB', 'RWB', 'RAM', 'LF', 'RF'],\n",
       "      dtype=object)"
      ]
     },
     "execution_count": 18,
     "metadata": {},
     "output_type": "execute_result"
    }
   ],
   "source": [
    "train_data_1['Position'].unique()"
   ]
  },
  {
   "cell_type": "markdown",
   "id": "47810f2f",
   "metadata": {
    "papermill": {
     "duration": 0.021396,
     "end_time": "2023-06-22T19:45:42.906976",
     "exception": false,
     "start_time": "2023-06-22T19:45:42.885580",
     "status": "completed"
    },
    "tags": []
   },
   "source": [
    "doing the exact same thing for the test dataset now"
   ]
  },
  {
   "cell_type": "code",
   "execution_count": 19,
   "id": "5f4ab274",
   "metadata": {
    "execution": {
     "iopub.execute_input": "2023-06-22T19:45:42.952851Z",
     "iopub.status.busy": "2023-06-22T19:45:42.951737Z",
     "iopub.status.idle": "2023-06-22T19:45:42.958059Z",
     "shell.execute_reply": "2023-06-22T19:45:42.956711Z"
    },
    "papermill": {
     "duration": 0.031844,
     "end_time": "2023-06-22T19:45:42.960601",
     "exception": false,
     "start_time": "2023-06-22T19:45:42.928757",
     "status": "completed"
    },
    "tags": []
   },
   "outputs": [],
   "source": [
    "# test_data['Position'] = test_data['Position'].astype(str)\n",
    "# test_data['Position'] = test_data['Position'].str[-3:]  # Remove '>' character from the beginning of each value in 'Position' column\n",
    "# test_data['Position'] = test_data['Position'].str.lstrip('>')\n",
    "# test_data = test_data[test_data['Position'] != 'nan']  # Remove rows where 'Position' is 'nan'"
   ]
  },
  {
   "cell_type": "markdown",
   "id": "138ceff6",
   "metadata": {
    "papermill": {
     "duration": 0.020882,
     "end_time": "2023-06-22T19:45:43.001993",
     "exception": false,
     "start_time": "2023-06-22T19:45:42.981111",
     "status": "completed"
    },
    "tags": []
   },
   "source": [
    "engineering height by converting it completely into inches for training and test data"
   ]
  },
  {
   "cell_type": "code",
   "execution_count": 20,
   "id": "4b05fad0",
   "metadata": {
    "execution": {
     "iopub.execute_input": "2023-06-22T19:45:43.046979Z",
     "iopub.status.busy": "2023-06-22T19:45:43.046524Z",
     "iopub.status.idle": "2023-06-22T19:45:43.134328Z",
     "shell.execute_reply": "2023-06-22T19:45:43.132939Z"
    },
    "papermill": {
     "duration": 0.113659,
     "end_time": "2023-06-22T19:45:43.137608",
     "exception": false,
     "start_time": "2023-06-22T19:45:43.023949",
     "status": "completed"
    },
    "tags": []
   },
   "outputs": [],
   "source": [
    "# Convert feet and inches to inches\n",
    "train_data_1['Height'] = train_data_1['Height'].apply(lambda x: int(x.split(\"'\")[0]) * 12 + int(x.split(\"'\")[1]))\n",
    "# Convert 'Height' column to integer data type\n",
    "train_data_1['Height'] = train_data_1['Height'].astype(float)\n",
    "# Convert centimeters to inches\n",
    "test_data['Height'] = test_data['Height'].apply(lambda x: int(x[:-2]) / 2.54)\n",
    "# Convert 'Height' column to float data type\n",
    "test_data['Height'] = test_data['Height'].astype(float)\n",
    "# Convert inches to meters\n",
    "train_data_1['Height'] = train_data_1['Height'] * 0.0254\n",
    "test_data['Height'] = test_data['Height'] * 0.0254"
   ]
  },
  {
   "cell_type": "markdown",
   "id": "4c101b46",
   "metadata": {
    "papermill": {
     "duration": 0.020532,
     "end_time": "2023-06-22T19:45:43.180551",
     "exception": false,
     "start_time": "2023-06-22T19:45:43.160019",
     "status": "completed"
    },
    "tags": []
   },
   "source": [
    "engineeering weight for train and test"
   ]
  },
  {
   "cell_type": "code",
   "execution_count": 21,
   "id": "f370fcb5",
   "metadata": {
    "execution": {
     "iopub.execute_input": "2023-06-22T19:45:43.223838Z",
     "iopub.status.busy": "2023-06-22T19:45:43.223447Z",
     "iopub.status.idle": "2023-06-22T19:45:43.314856Z",
     "shell.execute_reply": "2023-06-22T19:45:43.313446Z"
    },
    "papermill": {
     "duration": 0.116843,
     "end_time": "2023-06-22T19:45:43.318087",
     "exception": false,
     "start_time": "2023-06-22T19:45:43.201244",
     "status": "completed"
    },
    "tags": []
   },
   "outputs": [],
   "source": [
    "# Remove 'lbs' from 'Weight' values and convert pounds to kilograms\n",
    "train_data_1['Weight'] = train_data_1['Weight'].str.replace('lbs', '').astype(float) * 0.453592\n",
    "# Convert 'Weight' column to float data type\n",
    "train_data_1['Weight'] = train_data_1['Weight'].astype(float)\n",
    "train_data_1['Weight'].isna().sum()\n",
    "test_data['Weight'] = test_data['Weight'].str.replace('kg', '').astype(float)\n",
    "test_data['Weight'] = test_data['Weight'].astype(float)"
   ]
  },
  {
   "cell_type": "markdown",
   "id": "e7f08aed",
   "metadata": {
    "papermill": {
     "duration": 0.02226,
     "end_time": "2023-06-22T19:45:43.361966",
     "exception": false,
     "start_time": "2023-06-22T19:45:43.339706",
     "status": "completed"
    },
    "tags": []
   },
   "source": [
    "calculating BMI"
   ]
  },
  {
   "cell_type": "code",
   "execution_count": 22,
   "id": "77742caa",
   "metadata": {
    "execution": {
     "iopub.execute_input": "2023-06-22T19:45:43.407433Z",
     "iopub.status.busy": "2023-06-22T19:45:43.407042Z",
     "iopub.status.idle": "2023-06-22T19:45:43.413857Z",
     "shell.execute_reply": "2023-06-22T19:45:43.413086Z"
    },
    "papermill": {
     "duration": 0.031924,
     "end_time": "2023-06-22T19:45:43.416504",
     "exception": false,
     "start_time": "2023-06-22T19:45:43.384580",
     "status": "completed"
    },
    "tags": []
   },
   "outputs": [],
   "source": [
    "train_data_1['BMI'] = train_data_1['Weight'] / (train_data_1['Height'] ** 2)\n",
    "test_data['BMI'] = test_data['Weight'] / (test_data['Height'] ** 2)"
   ]
  },
  {
   "cell_type": "markdown",
   "id": "2903f244",
   "metadata": {
    "papermill": {
     "duration": 0.020508,
     "end_time": "2023-06-22T19:45:43.457656",
     "exception": false,
     "start_time": "2023-06-22T19:45:43.437148",
     "status": "completed"
    },
    "tags": []
   },
   "source": [
    "calculating Potential difference"
   ]
  },
  {
   "cell_type": "code",
   "execution_count": 23,
   "id": "164a46e5",
   "metadata": {
    "execution": {
     "iopub.execute_input": "2023-06-22T19:45:43.502243Z",
     "iopub.status.busy": "2023-06-22T19:45:43.501461Z",
     "iopub.status.idle": "2023-06-22T19:45:43.508597Z",
     "shell.execute_reply": "2023-06-22T19:45:43.507612Z"
    },
    "papermill": {
     "duration": 0.032454,
     "end_time": "2023-06-22T19:45:43.511458",
     "exception": false,
     "start_time": "2023-06-22T19:45:43.479004",
     "status": "completed"
    },
    "tags": []
   },
   "outputs": [],
   "source": [
    "train_data_1['Potential Difference'] = train_data_1['Overall'] - train_data_1['Potential']\n",
    "test_data['Potential Difference'] = test_data['Overall'] - test_data['Potential']"
   ]
  },
  {
   "cell_type": "markdown",
   "id": "629e58cc",
   "metadata": {
    "papermill": {
     "duration": 0.021276,
     "end_time": "2023-06-22T19:45:43.554768",
     "exception": false,
     "start_time": "2023-06-22T19:45:43.533492",
     "status": "completed"
    },
    "tags": []
   },
   "source": [
    "creating features based on the skills "
   ]
  },
  {
   "cell_type": "markdown",
   "id": "d81d79d1",
   "metadata": {
    "papermill": {
     "duration": 0.022082,
     "end_time": "2023-06-22T19:45:43.600112",
     "exception": false,
     "start_time": "2023-06-22T19:45:43.578030",
     "status": "completed"
    },
    "tags": []
   },
   "source": [
    "imputing and calculating average in the skills for train and test data"
   ]
  },
  {
   "cell_type": "code",
   "execution_count": 24,
   "id": "5ed6bd11",
   "metadata": {
    "execution": {
     "iopub.execute_input": "2023-06-22T19:45:43.647208Z",
     "iopub.status.busy": "2023-06-22T19:45:43.646795Z",
     "iopub.status.idle": "2023-06-22T19:45:43.758723Z",
     "shell.execute_reply": "2023-06-22T19:45:43.757475Z"
    },
    "papermill": {
     "duration": 0.138147,
     "end_time": "2023-06-22T19:45:43.762045",
     "exception": false,
     "start_time": "2023-06-22T19:45:43.623898",
     "status": "completed"
    },
    "tags": []
   },
   "outputs": [],
   "source": [
    "# Calculate average scores for attack, defense, midfield, and goalkeeping\n",
    "train_data_1['Attack'] = train_data_1[['Finishing', 'HeadingAccuracy', 'ShortPassing', 'Volleys',\n",
    "                                       'Dribbling', 'Curve', 'FKAccuracy', 'LongPassing', 'BallControl']].mean(axis=1)\n",
    "\n",
    "train_data_1['Defense'] = train_data_1[['Marking', 'StandingTackle', 'SlidingTackle', 'Interceptions']].mean(axis=1)\n",
    "\n",
    "train_data_1['Midfield'] = train_data_1[['Acceleration', 'SprintSpeed', 'Agility', 'Reactions', 'Balance',\n",
    "                                         'ShotPower', 'Jumping', 'Stamina', 'Strength']].mean(axis=1)\n",
    "\n",
    "train_data_1['Goalkeeping'] = train_data_1[['GKDiving', 'GKHandling', 'GKKicking', 'GKPositioning', 'GKReflexes']].mean(axis=1)\n",
    "\n",
    "\n",
    "#doing the same with test_data\n",
    "# Calculate average scores for attack, defense, midfield, and goalkeeping\n",
    "test_data['Attack'] = test_data[['Finishing', 'HeadingAccuracy', 'ShortPassing', 'Volleys',\n",
    "                                 'Dribbling', 'Curve', 'FKAccuracy', 'LongPassing', 'BallControl']].mean(axis=1)\n",
    "\n",
    "test_data['Defense'] = test_data[['Marking', 'StandingTackle', 'SlidingTackle', 'Interceptions']].mean(axis=1)\n",
    "\n",
    "test_data['Midfield'] = test_data[['Acceleration', 'SprintSpeed', 'Agility', 'Reactions', 'Balance',\n",
    "                                   'ShotPower', 'Jumping', 'Stamina', 'Strength']].mean(axis=1)\n",
    "\n",
    "test_data['Goalkeeping'] = test_data[['GKDiving', 'GKHandling', 'GKKicking', 'GKPositioning', 'GKReflexes']].mean(axis=1)\n"
   ]
  },
  {
   "cell_type": "markdown",
   "id": "ba768e6f",
   "metadata": {
    "papermill": {
     "duration": 0.020193,
     "end_time": "2023-06-22T19:45:43.803060",
     "exception": false,
     "start_time": "2023-06-22T19:45:43.782867",
     "status": "completed"
    },
    "tags": []
   },
   "source": [
    "doing some more eda/feature generation"
   ]
  },
  {
   "cell_type": "code",
   "execution_count": 25,
   "id": "5ff3076d",
   "metadata": {
    "execution": {
     "iopub.execute_input": "2023-06-22T19:45:43.846620Z",
     "iopub.status.busy": "2023-06-22T19:45:43.846115Z",
     "iopub.status.idle": "2023-06-22T19:45:43.855794Z",
     "shell.execute_reply": "2023-06-22T19:45:43.854277Z"
    },
    "papermill": {
     "duration": 0.034968,
     "end_time": "2023-06-22T19:45:43.858646",
     "exception": false,
     "start_time": "2023-06-22T19:45:43.823678",
     "status": "completed"
    },
    "tags": []
   },
   "outputs": [
    {
     "data": {
      "text/plain": [
       "Index(['Unnamed: 0', 'ID', 'Name', 'Age', 'Photo', 'Nationality', 'Flag',\n",
       "       'Overall', 'Potential', 'Club', 'Club Logo', 'Value', 'Wage', 'Special',\n",
       "       'Preferred Foot', 'International Reputation', 'Weak Foot',\n",
       "       'Skill Moves', 'Work Rate', 'Body Type', 'Real Face', 'Position',\n",
       "       'Jersey Number', 'Joined', 'Loaned From', 'Contract Valid Until',\n",
       "       'Height', 'Weight', 'Crossing', 'Finishing', 'HeadingAccuracy',\n",
       "       'ShortPassing', 'Volleys', 'Dribbling', 'Curve', 'FKAccuracy',\n",
       "       'LongPassing', 'BallControl', 'Acceleration', 'SprintSpeed', 'Agility',\n",
       "       'Reactions', 'Balance', 'ShotPower', 'Jumping', 'Stamina', 'Strength',\n",
       "       'LongShots', 'Aggression', 'Interceptions', 'Positioning', 'Vision',\n",
       "       'Penalties', 'Composure', 'Marking', 'StandingTackle', 'SlidingTackle',\n",
       "       'GKDiving', 'GKHandling', 'GKKicking', 'GKPositioning', 'GKReflexes',\n",
       "       'Best Position', 'Best Overall Rating', 'year', 'Release Clause',\n",
       "       'DefensiveAwareness', 'BMI', 'Potential Difference', 'Attack',\n",
       "       'Defense', 'Midfield', 'Goalkeeping'],\n",
       "      dtype='object')"
      ]
     },
     "execution_count": 25,
     "metadata": {},
     "output_type": "execute_result"
    }
   ],
   "source": [
    "train_data_1.columns"
   ]
  },
  {
   "cell_type": "code",
   "execution_count": 26,
   "id": "d9ee5174",
   "metadata": {
    "execution": {
     "iopub.execute_input": "2023-06-22T19:45:43.903887Z",
     "iopub.status.busy": "2023-06-22T19:45:43.903413Z",
     "iopub.status.idle": "2023-06-22T19:45:43.933469Z",
     "shell.execute_reply": "2023-06-22T19:45:43.932088Z"
    },
    "papermill": {
     "duration": 0.05679,
     "end_time": "2023-06-22T19:45:43.936827",
     "exception": false,
     "start_time": "2023-06-22T19:45:43.880037",
     "status": "completed"
    },
    "tags": []
   },
   "outputs": [],
   "source": [
    "train_1=train_data_1[['Potential','Overall','Wage','International Reputation','Age','BMI','Potential Difference','Goalkeeping','Defense','Midfield','Attack']]\n",
    "test_1=test_data[['Potential','Overall','Wage','International Reputation','Age','BMI','Potential Difference','Goalkeeping','Defense','Midfield','Attack']]"
   ]
  },
  {
   "cell_type": "code",
   "execution_count": 27,
   "id": "3a751fb7",
   "metadata": {
    "execution": {
     "iopub.execute_input": "2023-06-22T19:45:43.982714Z",
     "iopub.status.busy": "2023-06-22T19:45:43.981484Z",
     "iopub.status.idle": "2023-06-22T19:45:43.990355Z",
     "shell.execute_reply": "2023-06-22T19:45:43.988983Z"
    },
    "papermill": {
     "duration": 0.035234,
     "end_time": "2023-06-22T19:45:43.992979",
     "exception": false,
     "start_time": "2023-06-22T19:45:43.957745",
     "status": "completed"
    },
    "tags": []
   },
   "outputs": [
    {
     "data": {
      "text/plain": [
       "(33652, 11)"
      ]
     },
     "execution_count": 27,
     "metadata": {},
     "output_type": "execute_result"
    }
   ],
   "source": [
    "train_1.shape"
   ]
  },
  {
   "cell_type": "code",
   "execution_count": 28,
   "id": "189d37a1",
   "metadata": {
    "execution": {
     "iopub.execute_input": "2023-06-22T19:45:44.039912Z",
     "iopub.status.busy": "2023-06-22T19:45:44.038449Z",
     "iopub.status.idle": "2023-06-22T19:45:44.046737Z",
     "shell.execute_reply": "2023-06-22T19:45:44.045857Z"
    },
    "papermill": {
     "duration": 0.033673,
     "end_time": "2023-06-22T19:45:44.049228",
     "exception": false,
     "start_time": "2023-06-22T19:45:44.015555",
     "status": "completed"
    },
    "tags": []
   },
   "outputs": [
    {
     "data": {
      "text/plain": [
       "(16710, 11)"
      ]
     },
     "execution_count": 28,
     "metadata": {},
     "output_type": "execute_result"
    }
   ],
   "source": [
    "test_1.shape"
   ]
  },
  {
   "cell_type": "markdown",
   "id": "7a951105",
   "metadata": {
    "papermill": {
     "duration": 0.02091,
     "end_time": "2023-06-22T19:45:44.091406",
     "exception": false,
     "start_time": "2023-06-22T19:45:44.070496",
     "status": "completed"
    },
    "tags": []
   },
   "source": [
    "find which data types are object"
   ]
  },
  {
   "cell_type": "code",
   "execution_count": 29,
   "id": "2cf72f43",
   "metadata": {
    "execution": {
     "iopub.execute_input": "2023-06-22T19:45:44.136086Z",
     "iopub.status.busy": "2023-06-22T19:45:44.135692Z",
     "iopub.status.idle": "2023-06-22T19:45:44.181214Z",
     "shell.execute_reply": "2023-06-22T19:45:44.180024Z"
    },
    "papermill": {
     "duration": 0.071342,
     "end_time": "2023-06-22T19:45:44.184057",
     "exception": false,
     "start_time": "2023-06-22T19:45:44.112715",
     "status": "completed"
    },
    "tags": []
   },
   "outputs": [
    {
     "data": {
      "text/html": [
       "<div>\n",
       "<style scoped>\n",
       "    .dataframe tbody tr th:only-of-type {\n",
       "        vertical-align: middle;\n",
       "    }\n",
       "\n",
       "    .dataframe tbody tr th {\n",
       "        vertical-align: top;\n",
       "    }\n",
       "\n",
       "    .dataframe thead th {\n",
       "        text-align: right;\n",
       "    }\n",
       "</style>\n",
       "<table border=\"1\" class=\"dataframe\">\n",
       "  <thead>\n",
       "    <tr style=\"text-align: right;\">\n",
       "      <th></th>\n",
       "      <th>Potential</th>\n",
       "      <th>Overall</th>\n",
       "      <th>Wage</th>\n",
       "      <th>International Reputation</th>\n",
       "      <th>Age</th>\n",
       "      <th>BMI</th>\n",
       "      <th>Potential Difference</th>\n",
       "      <th>Goalkeeping</th>\n",
       "      <th>Defense</th>\n",
       "      <th>Midfield</th>\n",
       "      <th>Attack</th>\n",
       "    </tr>\n",
       "  </thead>\n",
       "  <tbody>\n",
       "    <tr>\n",
       "      <th>0</th>\n",
       "      <td>69</td>\n",
       "      <td>69</td>\n",
       "      <td>€7K</td>\n",
       "      <td>2.0</td>\n",
       "      <td>33</td>\n",
       "      <td>24.547741</td>\n",
       "      <td>0</td>\n",
       "      <td>11.2</td>\n",
       "      <td>69.250000</td>\n",
       "      <td>69.555556</td>\n",
       "      <td>64.000000</td>\n",
       "    </tr>\n",
       "    <tr>\n",
       "      <th>1</th>\n",
       "      <td>71</td>\n",
       "      <td>71</td>\n",
       "      <td>€7K</td>\n",
       "      <td>1.0</td>\n",
       "      <td>37</td>\n",
       "      <td>20.518136</td>\n",
       "      <td>0</td>\n",
       "      <td>11.2</td>\n",
       "      <td>56.000000</td>\n",
       "      <td>62.000000</td>\n",
       "      <td>70.888889</td>\n",
       "    </tr>\n",
       "    <tr>\n",
       "      <th>2</th>\n",
       "      <td>71</td>\n",
       "      <td>71</td>\n",
       "      <td>€15K</td>\n",
       "      <td>2.0</td>\n",
       "      <td>33</td>\n",
       "      <td>23.775280</td>\n",
       "      <td>0</td>\n",
       "      <td>10.2</td>\n",
       "      <td>34.500000</td>\n",
       "      <td>56.666667</td>\n",
       "      <td>71.555556</td>\n",
       "    </tr>\n",
       "    <tr>\n",
       "      <th>3</th>\n",
       "      <td>70</td>\n",
       "      <td>70</td>\n",
       "      <td>€4K</td>\n",
       "      <td>1.0</td>\n",
       "      <td>35</td>\n",
       "      <td>22.377775</td>\n",
       "      <td>0</td>\n",
       "      <td>69.2</td>\n",
       "      <td>16.000000</td>\n",
       "      <td>50.111111</td>\n",
       "      <td>16.777778</td>\n",
       "    </tr>\n",
       "    <tr>\n",
       "      <th>4</th>\n",
       "      <td>82</td>\n",
       "      <td>68</td>\n",
       "      <td>€0</td>\n",
       "      <td>1.0</td>\n",
       "      <td>36</td>\n",
       "      <td>23.012574</td>\n",
       "      <td>-14</td>\n",
       "      <td>26.4</td>\n",
       "      <td>48.333333</td>\n",
       "      <td>59.333333</td>\n",
       "      <td>66.428571</td>\n",
       "    </tr>\n",
       "  </tbody>\n",
       "</table>\n",
       "</div>"
      ],
      "text/plain": [
       "   Potential  Overall  Wage  International Reputation  Age        BMI  \\\n",
       "0         69       69   €7K                       2.0   33  24.547741   \n",
       "1         71       71   €7K                       1.0   37  20.518136   \n",
       "2         71       71  €15K                       2.0   33  23.775280   \n",
       "3         70       70   €4K                       1.0   35  22.377775   \n",
       "4         82       68    €0                       1.0   36  23.012574   \n",
       "\n",
       "   Potential Difference  Goalkeeping    Defense   Midfield     Attack  \n",
       "0                     0         11.2  69.250000  69.555556  64.000000  \n",
       "1                     0         11.2  56.000000  62.000000  70.888889  \n",
       "2                     0         10.2  34.500000  56.666667  71.555556  \n",
       "3                     0         69.2  16.000000  50.111111  16.777778  \n",
       "4                   -14         26.4  48.333333  59.333333  66.428571  "
      ]
     },
     "execution_count": 29,
     "metadata": {},
     "output_type": "execute_result"
    }
   ],
   "source": [
    "train_1.head()"
   ]
  },
  {
   "cell_type": "markdown",
   "id": "21b1d4d5",
   "metadata": {
    "papermill": {
     "duration": 0.021897,
     "end_time": "2023-06-22T19:45:44.227481",
     "exception": false,
     "start_time": "2023-06-22T19:45:44.205584",
     "status": "completed"
    },
    "tags": []
   },
   "source": [
    "train feature"
   ]
  },
  {
   "cell_type": "code",
   "execution_count": 30,
   "id": "18544f80",
   "metadata": {
    "execution": {
     "iopub.execute_input": "2023-06-22T19:45:44.274993Z",
     "iopub.status.busy": "2023-06-22T19:45:44.273952Z",
     "iopub.status.idle": "2023-06-22T19:45:44.280965Z",
     "shell.execute_reply": "2023-06-22T19:45:44.279125Z"
    },
    "papermill": {
     "duration": 0.034469,
     "end_time": "2023-06-22T19:45:44.284077",
     "exception": false,
     "start_time": "2023-06-22T19:45:44.249608",
     "status": "completed"
    },
    "tags": []
   },
   "outputs": [],
   "source": [
    "y_train=train_data_1['Value']"
   ]
  },
  {
   "cell_type": "markdown",
   "id": "a42c59d0",
   "metadata": {
    "papermill": {
     "duration": 0.020359,
     "end_time": "2023-06-22T19:45:44.325264",
     "exception": false,
     "start_time": "2023-06-22T19:45:44.304905",
     "status": "completed"
    },
    "tags": []
   },
   "source": [
    "converting Value and Wage as per"
   ]
  },
  {
   "cell_type": "code",
   "execution_count": 31,
   "id": "05377a33",
   "metadata": {
    "execution": {
     "iopub.execute_input": "2023-06-22T19:45:44.368674Z",
     "iopub.status.busy": "2023-06-22T19:45:44.368229Z",
     "iopub.status.idle": "2023-06-22T19:45:44.724304Z",
     "shell.execute_reply": "2023-06-22T19:45:44.722268Z"
    },
    "papermill": {
     "duration": 0.380925,
     "end_time": "2023-06-22T19:45:44.726919",
     "exception": false,
     "start_time": "2023-06-22T19:45:44.345994",
     "status": "completed"
    },
    "tags": []
   },
   "outputs": [
    {
     "name": "stderr",
     "output_type": "stream",
     "text": [
      "/tmp/ipykernel_20/3838849759.py:14: SettingWithCopyWarning: \n",
      "A value is trying to be set on a copy of a slice from a DataFrame.\n",
      "Try using .loc[row_indexer,col_indexer] = value instead\n",
      "\n",
      "See the caveats in the documentation: https://pandas.pydata.org/pandas-docs/stable/user_guide/indexing.html#returning-a-view-versus-a-copy\n",
      "  train_1['Wage'] = train_1['Wage'].apply(preprocess_wage)\n",
      "/tmp/ipykernel_20/3838849759.py:17: SettingWithCopyWarning: \n",
      "A value is trying to be set on a copy of a slice from a DataFrame.\n",
      "Try using .loc[row_indexer,col_indexer] = value instead\n",
      "\n",
      "See the caveats in the documentation: https://pandas.pydata.org/pandas-docs/stable/user_guide/indexing.html#returning-a-view-versus-a-copy\n",
      "  train_1['Wage'] = train_1['Wage'].astype(float)\n",
      "/tmp/ipykernel_20/3838849759.py:20: SettingWithCopyWarning: \n",
      "A value is trying to be set on a copy of a slice from a DataFrame.\n",
      "Try using .loc[row_indexer,col_indexer] = value instead\n",
      "\n",
      "See the caveats in the documentation: https://pandas.pydata.org/pandas-docs/stable/user_guide/indexing.html#returning-a-view-versus-a-copy\n",
      "  test_1['Wage'] = test_1['Wage'].apply(preprocess_wage)\n",
      "/tmp/ipykernel_20/3838849759.py:23: SettingWithCopyWarning: \n",
      "A value is trying to be set on a copy of a slice from a DataFrame.\n",
      "Try using .loc[row_indexer,col_indexer] = value instead\n",
      "\n",
      "See the caveats in the documentation: https://pandas.pydata.org/pandas-docs/stable/user_guide/indexing.html#returning-a-view-versus-a-copy\n",
      "  test_1['Wage'] = test_1['Wage'].astype(float)\n"
     ]
    }
   ],
   "source": [
    "import re\n",
    "# Define a function to preprocess the 'Wage' column\n",
    "def preprocess_wage(value):\n",
    "    value = re.sub(r'€', '', value)  # Remove euro symbol\n",
    "    if 'K' in value:\n",
    "        value = float(re.sub(r'[^0-9.]', '', value)) * 1000  # Remove 'K' and multiply by 1000\n",
    "    elif 'M' in value:\n",
    "        value = float(re.sub(r'[^0-9.]', '', value)) * 1000000  # Remove 'M' and multiply by 1000000\n",
    "    else:\n",
    "        value = float(value)\n",
    "    return value\n",
    "\n",
    "# Apply the preprocessing function to 'Wage' column in train_1 dataset\n",
    "train_1['Wage'] = train_1['Wage'].apply(preprocess_wage)\n",
    "\n",
    "# Convert the column to float data type\n",
    "train_1['Wage'] = train_1['Wage'].astype(float)\n",
    "\n",
    "# Apply the preprocessing function to 'Wage' column in train_1 dataset\n",
    "test_1['Wage'] = test_1['Wage'].apply(preprocess_wage)\n",
    "\n",
    "# Convert the column to float data type\n",
    "test_1['Wage'] = test_1['Wage'].astype(float)\n",
    "\n",
    "#Applying it to y_train too\n",
    "y_train=y_train.apply(preprocess_wage)\n",
    "\n",
    "#Convert the column to float data type\n",
    "y_train=y_train.astype(float)"
   ]
  },
  {
   "cell_type": "markdown",
   "id": "3e64725d",
   "metadata": {
    "papermill": {
     "duration": 0.020235,
     "end_time": "2023-06-22T19:45:44.767708",
     "exception": false,
     "start_time": "2023-06-22T19:45:44.747473",
     "status": "completed"
    },
    "tags": []
   },
   "source": [
    "minmax scaling"
   ]
  },
  {
   "cell_type": "code",
   "execution_count": 32,
   "id": "17dc1622",
   "metadata": {
    "execution": {
     "iopub.execute_input": "2023-06-22T19:45:44.811792Z",
     "iopub.status.busy": "2023-06-22T19:45:44.811322Z",
     "iopub.status.idle": "2023-06-22T19:45:46.411765Z",
     "shell.execute_reply": "2023-06-22T19:45:46.410477Z"
    },
    "papermill": {
     "duration": 1.626388,
     "end_time": "2023-06-22T19:45:46.414666",
     "exception": false,
     "start_time": "2023-06-22T19:45:44.788278",
     "status": "completed"
    },
    "tags": []
   },
   "outputs": [],
   "source": [
    "from sklearn.preprocessing import MinMaxScaler\n",
    "\n",
    "# Initialize the MinMaxScaler\n",
    "scaler = MinMaxScaler()\n",
    "\n",
    "# Fit and transform the training data\n",
    "train_1_scaled = scaler.fit_transform(train_1)\n",
    "\n",
    "# Transform the test data (using the same scaler)\n",
    "test_1_scaled = scaler.transform(test_1)"
   ]
  },
  {
   "cell_type": "code",
   "execution_count": 33,
   "id": "5b6437b5",
   "metadata": {
    "execution": {
     "iopub.execute_input": "2023-06-22T19:45:46.459606Z",
     "iopub.status.busy": "2023-06-22T19:45:46.458004Z",
     "iopub.status.idle": "2023-06-22T19:45:46.465560Z",
     "shell.execute_reply": "2023-06-22T19:45:46.464348Z"
    },
    "papermill": {
     "duration": 0.032662,
     "end_time": "2023-06-22T19:45:46.468269",
     "exception": false,
     "start_time": "2023-06-22T19:45:46.435607",
     "status": "completed"
    },
    "tags": []
   },
   "outputs": [],
   "source": [
    "# Convert train_1_scaled to a DataFrame\n",
    "train_1_scaled_df = pd.DataFrame(train_1_scaled, columns=train_1.columns)\n",
    "\n",
    "# Convert test_1_scaled to a DataFrame\n",
    "test_1_scaled_df = pd.DataFrame(test_1_scaled, columns=test_1.columns)"
   ]
  },
  {
   "cell_type": "code",
   "execution_count": 34,
   "id": "7e8b3f99",
   "metadata": {
    "execution": {
     "iopub.execute_input": "2023-06-22T19:45:46.511954Z",
     "iopub.status.busy": "2023-06-22T19:45:46.511333Z",
     "iopub.status.idle": "2023-06-22T19:45:49.140982Z",
     "shell.execute_reply": "2023-06-22T19:45:49.139393Z"
    },
    "papermill": {
     "duration": 2.656863,
     "end_time": "2023-06-22T19:45:49.145470",
     "exception": false,
     "start_time": "2023-06-22T19:45:46.488607",
     "status": "completed"
    },
    "tags": []
   },
   "outputs": [],
   "source": [
    "from sklearn.linear_model import LinearRegression\n",
    "from sklearn.model_selection import GridSearchCV\n",
    "\n",
    "# Create an instance of Linear Regression\n",
    "regressor = LinearRegression()\n",
    "\n",
    "# Define the hyperparameters and their possible values\n",
    "param_grid = {\n",
    "    'fit_intercept': [True, False],\n",
    "    #'normalize': [True, False],\n",
    "    'n_jobs': [None, -1],\n",
    "    'positive': [True, False]\n",
    "}\n",
    "\n",
    "# Create GridSearchCV object\n",
    "grid_search = GridSearchCV(regressor, param_grid, cv=5)\n",
    "\n",
    "# Fit the GridSearchCV object to the data\n",
    "grid_search.fit(train_1, y_train)\n",
    "\n",
    "# Get the best hyperparameters\n",
    "best_params = grid_search.best_params_\n"
   ]
  },
  {
   "cell_type": "code",
   "execution_count": 35,
   "id": "354da908",
   "metadata": {
    "execution": {
     "iopub.execute_input": "2023-06-22T19:45:49.246491Z",
     "iopub.status.busy": "2023-06-22T19:45:49.246017Z",
     "iopub.status.idle": "2023-06-22T19:45:49.253069Z",
     "shell.execute_reply": "2023-06-22T19:45:49.252073Z"
    },
    "papermill": {
     "duration": 0.041114,
     "end_time": "2023-06-22T19:45:49.255392",
     "exception": false,
     "start_time": "2023-06-22T19:45:49.214278",
     "status": "completed"
    },
    "tags": []
   },
   "outputs": [
    {
     "data": {
      "text/plain": [
       "{'fit_intercept': False, 'n_jobs': None, 'positive': False}"
      ]
     },
     "execution_count": 35,
     "metadata": {},
     "output_type": "execute_result"
    }
   ],
   "source": [
    "best_params"
   ]
  },
  {
   "cell_type": "markdown",
   "id": "bfeb0683",
   "metadata": {
    "papermill": {
     "duration": 0.020418,
     "end_time": "2023-06-22T19:45:49.296686",
     "exception": false,
     "start_time": "2023-06-22T19:45:49.276268",
     "status": "completed"
    },
    "tags": []
   },
   "source": [
    "trying to do cross validation"
   ]
  },
  {
   "cell_type": "code",
   "execution_count": 36,
   "id": "74e6651f",
   "metadata": {
    "execution": {
     "iopub.execute_input": "2023-06-22T19:45:49.341482Z",
     "iopub.status.busy": "2023-06-22T19:45:49.341078Z",
     "iopub.status.idle": "2023-06-22T19:45:49.700405Z",
     "shell.execute_reply": "2023-06-22T19:45:49.698947Z"
    },
    "papermill": {
     "duration": 0.387221,
     "end_time": "2023-06-22T19:45:49.704924",
     "exception": false,
     "start_time": "2023-06-22T19:45:49.317703",
     "status": "completed"
    },
    "tags": []
   },
   "outputs": [
    {
     "data": {
      "text/plain": [
       "2092484.57548186"
      ]
     },
     "execution_count": 36,
     "metadata": {},
     "output_type": "execute_result"
    }
   ],
   "source": [
    "from sklearn.model_selection import cross_val_score\n",
    "from sklearn.model_selection import KFold\n",
    "from sklearn.metrics import mean_squared_error\n",
    "from xgboost import XGBRegressor\n",
    "from sklearn.svm import SVR\n",
    "from sklearn.linear_model import LinearRegression\n",
    "\n",
    "# Step 2: Import necessary libraries for cross-validation and model evaluation\n",
    "\n",
    "# Step 3: Define your regression model\n",
    "model =  LinearRegression(fit_intercept=False, n_jobs=None, positive=False)\n",
    "\n",
    "# Step 4: Perform cross-validation\n",
    "kf = KFold(n_splits=5, shuffle=True, random_state=42)  # Define the number of folds\n",
    "rmse_scores = []  # List to store the RMSE scores\n",
    "\n",
    "X = train_1 # Input features from train_data_1\n",
    "y = y_train\n",
    "\n",
    "for train_index, val_index in kf.split(X):\n",
    "    X_train, X_val = X.iloc[train_index], X.iloc[val_index]\n",
    "    y_train_1, y_val = y.iloc[train_index], y.iloc[val_index]\n",
    "\n",
    "    # Fit the model on the training data\n",
    "    model.fit(X_train, y_train_1)\n",
    "\n",
    "    # Predict on the validation data\n",
    "    y_pred = model.predict(X_val)\n",
    "\n",
    "    # Calculate the RMSE for this fold\n",
    "    rmse = mean_squared_error(y_val, y_pred, squared=False)\n",
    "    rmse_scores.append(rmse)\n",
    "\n",
    "# Step 5: Calculate the average RMSE\n",
    "avg_rmse = sum(rmse_scores) / len(rmse_scores)\n",
    "avg_rmse"
   ]
  },
  {
   "cell_type": "markdown",
   "id": "4e3f9b16",
   "metadata": {
    "papermill": {
     "duration": 0.027025,
     "end_time": "2023-06-22T19:45:49.824725",
     "exception": false,
     "start_time": "2023-06-22T19:45:49.797700",
     "status": "completed"
    },
    "tags": []
   },
   "source": [
    "fitting model with  best parameters"
   ]
  },
  {
   "cell_type": "code",
   "execution_count": 37,
   "id": "078603c0",
   "metadata": {
    "execution": {
     "iopub.execute_input": "2023-06-22T19:45:49.871430Z",
     "iopub.status.busy": "2023-06-22T19:45:49.870974Z",
     "iopub.status.idle": "2023-06-22T19:45:49.901590Z",
     "shell.execute_reply": "2023-06-22T19:45:49.900626Z"
    },
    "papermill": {
     "duration": 0.060059,
     "end_time": "2023-06-22T19:45:49.907340",
     "exception": false,
     "start_time": "2023-06-22T19:45:49.847281",
     "status": "completed"
    },
    "tags": []
   },
   "outputs": [
    {
     "data": {
      "text/html": [
       "<style>#sk-container-id-1 {color: black;background-color: white;}#sk-container-id-1 pre{padding: 0;}#sk-container-id-1 div.sk-toggleable {background-color: white;}#sk-container-id-1 label.sk-toggleable__label {cursor: pointer;display: block;width: 100%;margin-bottom: 0;padding: 0.3em;box-sizing: border-box;text-align: center;}#sk-container-id-1 label.sk-toggleable__label-arrow:before {content: \"▸\";float: left;margin-right: 0.25em;color: #696969;}#sk-container-id-1 label.sk-toggleable__label-arrow:hover:before {color: black;}#sk-container-id-1 div.sk-estimator:hover label.sk-toggleable__label-arrow:before {color: black;}#sk-container-id-1 div.sk-toggleable__content {max-height: 0;max-width: 0;overflow: hidden;text-align: left;background-color: #f0f8ff;}#sk-container-id-1 div.sk-toggleable__content pre {margin: 0.2em;color: black;border-radius: 0.25em;background-color: #f0f8ff;}#sk-container-id-1 input.sk-toggleable__control:checked~div.sk-toggleable__content {max-height: 200px;max-width: 100%;overflow: auto;}#sk-container-id-1 input.sk-toggleable__control:checked~label.sk-toggleable__label-arrow:before {content: \"▾\";}#sk-container-id-1 div.sk-estimator input.sk-toggleable__control:checked~label.sk-toggleable__label {background-color: #d4ebff;}#sk-container-id-1 div.sk-label input.sk-toggleable__control:checked~label.sk-toggleable__label {background-color: #d4ebff;}#sk-container-id-1 input.sk-hidden--visually {border: 0;clip: rect(1px 1px 1px 1px);clip: rect(1px, 1px, 1px, 1px);height: 1px;margin: -1px;overflow: hidden;padding: 0;position: absolute;width: 1px;}#sk-container-id-1 div.sk-estimator {font-family: monospace;background-color: #f0f8ff;border: 1px dotted black;border-radius: 0.25em;box-sizing: border-box;margin-bottom: 0.5em;}#sk-container-id-1 div.sk-estimator:hover {background-color: #d4ebff;}#sk-container-id-1 div.sk-parallel-item::after {content: \"\";width: 100%;border-bottom: 1px solid gray;flex-grow: 1;}#sk-container-id-1 div.sk-label:hover label.sk-toggleable__label {background-color: #d4ebff;}#sk-container-id-1 div.sk-serial::before {content: \"\";position: absolute;border-left: 1px solid gray;box-sizing: border-box;top: 0;bottom: 0;left: 50%;z-index: 0;}#sk-container-id-1 div.sk-serial {display: flex;flex-direction: column;align-items: center;background-color: white;padding-right: 0.2em;padding-left: 0.2em;position: relative;}#sk-container-id-1 div.sk-item {position: relative;z-index: 1;}#sk-container-id-1 div.sk-parallel {display: flex;align-items: stretch;justify-content: center;background-color: white;position: relative;}#sk-container-id-1 div.sk-item::before, #sk-container-id-1 div.sk-parallel-item::before {content: \"\";position: absolute;border-left: 1px solid gray;box-sizing: border-box;top: 0;bottom: 0;left: 50%;z-index: -1;}#sk-container-id-1 div.sk-parallel-item {display: flex;flex-direction: column;z-index: 1;position: relative;background-color: white;}#sk-container-id-1 div.sk-parallel-item:first-child::after {align-self: flex-end;width: 50%;}#sk-container-id-1 div.sk-parallel-item:last-child::after {align-self: flex-start;width: 50%;}#sk-container-id-1 div.sk-parallel-item:only-child::after {width: 0;}#sk-container-id-1 div.sk-dashed-wrapped {border: 1px dashed gray;margin: 0 0.4em 0.5em 0.4em;box-sizing: border-box;padding-bottom: 0.4em;background-color: white;}#sk-container-id-1 div.sk-label label {font-family: monospace;font-weight: bold;display: inline-block;line-height: 1.2em;}#sk-container-id-1 div.sk-label-container {text-align: center;}#sk-container-id-1 div.sk-container {/* jupyter's `normalize.less` sets `[hidden] { display: none; }` but bootstrap.min.css set `[hidden] { display: none !important; }` so we also need the `!important` here to be able to override the default hidden behavior on the sphinx rendered scikit-learn.org. See: https://github.com/scikit-learn/scikit-learn/issues/21755 */display: inline-block !important;position: relative;}#sk-container-id-1 div.sk-text-repr-fallback {display: none;}</style><div id=\"sk-container-id-1\" class=\"sk-top-container\"><div class=\"sk-text-repr-fallback\"><pre>LinearRegression(fit_intercept=False)</pre><b>In a Jupyter environment, please rerun this cell to show the HTML representation or trust the notebook. <br />On GitHub, the HTML representation is unable to render, please try loading this page with nbviewer.org.</b></div><div class=\"sk-container\" hidden><div class=\"sk-item\"><div class=\"sk-estimator sk-toggleable\"><input class=\"sk-toggleable__control sk-hidden--visually\" id=\"sk-estimator-id-1\" type=\"checkbox\" checked><label for=\"sk-estimator-id-1\" class=\"sk-toggleable__label sk-toggleable__label-arrow\">LinearRegression</label><div class=\"sk-toggleable__content\"><pre>LinearRegression(fit_intercept=False)</pre></div></div></div></div></div>"
      ],
      "text/plain": [
       "LinearRegression(fit_intercept=False)"
      ]
     },
     "execution_count": 37,
     "metadata": {},
     "output_type": "execute_result"
    }
   ],
   "source": [
    "model = LinearRegression(fit_intercept=False, n_jobs=None, positive=False)\n",
    "model.fit(train_1_scaled_df,y_train)"
   ]
  },
  {
   "cell_type": "code",
   "execution_count": 38,
   "id": "6370e2e0",
   "metadata": {
    "execution": {
     "iopub.execute_input": "2023-06-22T19:45:50.004463Z",
     "iopub.status.busy": "2023-06-22T19:45:50.003074Z",
     "iopub.status.idle": "2023-06-22T19:45:50.021523Z",
     "shell.execute_reply": "2023-06-22T19:45:50.019957Z"
    },
    "papermill": {
     "duration": 0.073162,
     "end_time": "2023-06-22T19:45:50.026828",
     "exception": false,
     "start_time": "2023-06-22T19:45:49.953666",
     "status": "completed"
    },
    "tags": []
   },
   "outputs": [],
   "source": [
    "pred=model.predict(test_1_scaled_df)"
   ]
  },
  {
   "cell_type": "code",
   "execution_count": 39,
   "id": "5d7f9f1d",
   "metadata": {
    "execution": {
     "iopub.execute_input": "2023-06-22T19:45:50.126334Z",
     "iopub.status.busy": "2023-06-22T19:45:50.125621Z",
     "iopub.status.idle": "2023-06-22T19:45:50.140510Z",
     "shell.execute_reply": "2023-06-22T19:45:50.139727Z"
    },
    "papermill": {
     "duration": 0.068445,
     "end_time": "2023-06-22T19:45:50.142908",
     "exception": false,
     "start_time": "2023-06-22T19:45:50.074463",
     "status": "completed"
    },
    "tags": []
   },
   "outputs": [
    {
     "data": {
      "text/html": [
       "<div>\n",
       "<style scoped>\n",
       "    .dataframe tbody tr th:only-of-type {\n",
       "        vertical-align: middle;\n",
       "    }\n",
       "\n",
       "    .dataframe tbody tr th {\n",
       "        vertical-align: top;\n",
       "    }\n",
       "\n",
       "    .dataframe thead th {\n",
       "        text-align: right;\n",
       "    }\n",
       "</style>\n",
       "<table border=\"1\" class=\"dataframe\">\n",
       "  <thead>\n",
       "    <tr style=\"text-align: right;\">\n",
       "      <th></th>\n",
       "      <th>Photo</th>\n",
       "      <th>Value</th>\n",
       "    </tr>\n",
       "  </thead>\n",
       "  <tbody>\n",
       "    <tr>\n",
       "      <th>0</th>\n",
       "      <td>https://cdn.sofifa.com/players/212/198/22_60.png</td>\n",
       "      <td>4.817282e+07</td>\n",
       "    </tr>\n",
       "    <tr>\n",
       "      <th>1</th>\n",
       "      <td>https://cdn.sofifa.com/players/209/658/22_60.png</td>\n",
       "      <td>2.967908e+07</td>\n",
       "    </tr>\n",
       "    <tr>\n",
       "      <th>2</th>\n",
       "      <td>https://cdn.sofifa.com/players/176/580/22_60.png</td>\n",
       "      <td>2.826906e+07</td>\n",
       "    </tr>\n",
       "    <tr>\n",
       "      <th>3</th>\n",
       "      <td>https://cdn.sofifa.com/players/192/985/22_60.png</td>\n",
       "      <td>6.565504e+07</td>\n",
       "    </tr>\n",
       "    <tr>\n",
       "      <th>4</th>\n",
       "      <td>https://cdn.sofifa.com/players/224/334/22_60.png</td>\n",
       "      <td>1.124582e+07</td>\n",
       "    </tr>\n",
       "  </tbody>\n",
       "</table>\n",
       "</div>"
      ],
      "text/plain": [
       "                                              Photo         Value\n",
       "0  https://cdn.sofifa.com/players/212/198/22_60.png  4.817282e+07\n",
       "1  https://cdn.sofifa.com/players/209/658/22_60.png  2.967908e+07\n",
       "2  https://cdn.sofifa.com/players/176/580/22_60.png  2.826906e+07\n",
       "3  https://cdn.sofifa.com/players/192/985/22_60.png  6.565504e+07\n",
       "4  https://cdn.sofifa.com/players/224/334/22_60.png  1.124582e+07"
      ]
     },
     "execution_count": 39,
     "metadata": {},
     "output_type": "execute_result"
    }
   ],
   "source": [
    "output = pd.DataFrame({'Photo':test_data['Photo'],'Value': pred})  # Create the DataFrame with the 'Value' column\n",
    "output.head()"
   ]
  },
  {
   "cell_type": "markdown",
   "id": "6dff42ab",
   "metadata": {
    "papermill": {
     "duration": 0.022318,
     "end_time": "2023-06-22T19:45:50.188010",
     "exception": false,
     "start_time": "2023-06-22T19:45:50.165692",
     "status": "completed"
    },
    "tags": []
   },
   "source": [
    "hence output submission has been created"
   ]
  },
  {
   "cell_type": "markdown",
   "id": "28c8f9ab",
   "metadata": {
    "papermill": {
     "duration": 0.023149,
     "end_time": "2023-06-22T19:45:50.236654",
     "exception": false,
     "start_time": "2023-06-22T19:45:50.213505",
     "status": "completed"
    },
    "tags": []
   },
   "source": [
    "converting to a csv as needed"
   ]
  },
  {
   "cell_type": "code",
   "execution_count": 40,
   "id": "41c9beda",
   "metadata": {
    "execution": {
     "iopub.execute_input": "2023-06-22T19:45:50.286045Z",
     "iopub.status.busy": "2023-06-22T19:45:50.285283Z",
     "iopub.status.idle": "2023-06-22T19:45:50.403602Z",
     "shell.execute_reply": "2023-06-22T19:45:50.402050Z"
    },
    "papermill": {
     "duration": 0.145985,
     "end_time": "2023-06-22T19:45:50.406801",
     "exception": false,
     "start_time": "2023-06-22T19:45:50.260816",
     "status": "completed"
    },
    "tags": []
   },
   "outputs": [
    {
     "name": "stdout",
     "output_type": "stream",
     "text": [
      "Submission saved successfully\n"
     ]
    }
   ],
   "source": [
    "output.to_csv('submissions.csv',index=False)\n",
    "print(\"Submission saved successfully\")"
   ]
  },
  {
   "cell_type": "code",
   "execution_count": 41,
   "id": "20802b61",
   "metadata": {
    "execution": {
     "iopub.execute_input": "2023-06-22T19:45:50.454172Z",
     "iopub.status.busy": "2023-06-22T19:45:50.453077Z",
     "iopub.status.idle": "2023-06-22T19:45:50.461018Z",
     "shell.execute_reply": "2023-06-22T19:45:50.459670Z"
    },
    "papermill": {
     "duration": 0.033987,
     "end_time": "2023-06-22T19:45:50.463469",
     "exception": false,
     "start_time": "2023-06-22T19:45:50.429482",
     "status": "completed"
    },
    "tags": []
   },
   "outputs": [
    {
     "data": {
      "text/plain": [
       "(16710, 2)"
      ]
     },
     "execution_count": 41,
     "metadata": {},
     "output_type": "execute_result"
    }
   ],
   "source": [
    "output.shape"
   ]
  },
  {
   "cell_type": "code",
   "execution_count": null,
   "id": "9e944f53",
   "metadata": {
    "papermill": {
     "duration": 0.021548,
     "end_time": "2023-06-22T19:45:50.506928",
     "exception": false,
     "start_time": "2023-06-22T19:45:50.485380",
     "status": "completed"
    },
    "tags": []
   },
   "outputs": [],
   "source": []
  }
 ],
 "metadata": {
  "kernelspec": {
   "display_name": "Python 3",
   "language": "python",
   "name": "python3"
  },
  "language_info": {
   "codemirror_mode": {
    "name": "ipython",
    "version": 3
   },
   "file_extension": ".py",
   "mimetype": "text/x-python",
   "name": "python",
   "nbconvert_exporter": "python",
   "pygments_lexer": "ipython3",
   "version": "3.10.10"
  },
  "papermill": {
   "default_parameters": {},
   "duration": 28.809643,
   "end_time": "2023-06-22T19:45:52.262888",
   "environment_variables": {},
   "exception": null,
   "input_path": "__notebook__.ipynb",
   "output_path": "__notebook__.ipynb",
   "parameters": {},
   "start_time": "2023-06-22T19:45:23.453245",
   "version": "2.4.0"
  }
 },
 "nbformat": 4,
 "nbformat_minor": 5
}
