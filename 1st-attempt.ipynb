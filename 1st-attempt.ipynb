{
 "cells": [
  {
   "cell_type": "code",
   "execution_count": 1,
   "id": "c59aa2a3",
   "metadata": {
    "_cell_guid": "b1076dfc-b9ad-4769-8c92-a6c4dae69d19",
    "_uuid": "8f2839f25d086af736a60e9eeb907d3b93b6e0e5",
    "execution": {
     "iopub.execute_input": "2023-06-22T09:54:49.147754Z",
     "iopub.status.busy": "2023-06-22T09:54:49.146895Z",
     "iopub.status.idle": "2023-06-22T09:54:49.170017Z",
     "shell.execute_reply": "2023-06-22T09:54:49.169147Z"
    },
    "papermill": {
     "duration": 0.042024,
     "end_time": "2023-06-22T09:54:49.172803",
     "exception": false,
     "start_time": "2023-06-22T09:54:49.130779",
     "status": "completed"
    },
    "tags": []
   },
   "outputs": [
    {
     "name": "stdout",
     "output_type": "stream",
     "text": [
      "/kaggle/input/mltiverse-join-comp/MLtiVerse/sample_submission.csv\n",
      "/kaggle/input/mltiverse-join-comp/MLtiVerse/train.csv\n",
      "/kaggle/input/mltiverse-join-comp/MLtiVerse/test.csv\n"
     ]
    }
   ],
   "source": [
    "# This Python 3 environment comes with many helpful analytics libraries installed\n",
    "# It is defined by the kaggle/python Docker image: https://github.com/kaggle/docker-python\n",
    "# For example, here's several helpful packages to load\n",
    "\n",
    "import numpy as np # linear algebra\n",
    "import pandas as pd # data processing, CSV file I/O (e.g. pd.read_csv)\n",
    "\n",
    "# Input data files are available in the read-only \"../input/\" directory\n",
    "# For example, running this (by clicking run or pressing Shift+Enter) will list all files under the input directory\n",
    "\n",
    "import os\n",
    "for dirname, _, filenames in os.walk('/kaggle/input'):\n",
    "    for filename in filenames:\n",
    "        print(os.path.join(dirname, filename))\n",
    "\n",
    "# You can write up to 20GB to the current directory (/kaggle/working/) that gets preserved as output when you create a version using \"Save & Run All\" \n",
    "# You can also write temporary files to /kaggle/temp/, but they won't be saved outside of the current session"
   ]
  },
  {
   "cell_type": "markdown",
   "id": "cd17eb90",
   "metadata": {
    "papermill": {
     "duration": 0.013828,
     "end_time": "2023-06-22T09:54:49.201342",
     "exception": false,
     "start_time": "2023-06-22T09:54:49.187514",
     "status": "completed"
    },
    "tags": []
   },
   "source": [
    "importing the data needed for hackathon"
   ]
  },
  {
   "cell_type": "code",
   "execution_count": 2,
   "id": "da486070",
   "metadata": {
    "execution": {
     "iopub.execute_input": "2023-06-22T09:54:49.232137Z",
     "iopub.status.busy": "2023-06-22T09:54:49.230927Z",
     "iopub.status.idle": "2023-06-22T09:54:51.981456Z",
     "shell.execute_reply": "2023-06-22T09:54:51.980254Z"
    },
    "papermill": {
     "duration": 2.769054,
     "end_time": "2023-06-22T09:54:51.984444",
     "exception": false,
     "start_time": "2023-06-22T09:54:49.215390",
     "status": "completed"
    },
    "tags": []
   },
   "outputs": [
    {
     "name": "stderr",
     "output_type": "stream",
     "text": [
      "/tmp/ipykernel_20/1580012756.py:2: DtypeWarning: Columns (61,62) have mixed types. Specify dtype option on import or set low_memory=False.\n",
      "  test_data=pd.read_csv('/kaggle/input/mltiverse-join-comp/MLtiVerse/test.csv')\n"
     ]
    }
   ],
   "source": [
    "train_data=pd.read_csv('/kaggle/input/mltiverse-join-comp/MLtiVerse/train.csv')\n",
    "test_data=pd.read_csv('/kaggle/input/mltiverse-join-comp/MLtiVerse/test.csv')\n",
    "sub_data=pd.read_csv('/kaggle/input/mltiverse-join-comp/MLtiVerse/sample_submission.csv')"
   ]
  },
  {
   "cell_type": "markdown",
   "id": "1a30dbe1",
   "metadata": {
    "papermill": {
     "duration": 0.015091,
     "end_time": "2023-06-22T09:54:52.014171",
     "exception": false,
     "start_time": "2023-06-22T09:54:51.999080",
     "status": "completed"
    },
    "tags": []
   },
   "source": [
    "viewing the id column"
   ]
  },
  {
   "cell_type": "code",
   "execution_count": 3,
   "id": "94ad8add",
   "metadata": {
    "execution": {
     "iopub.execute_input": "2023-06-22T09:54:52.046705Z",
     "iopub.status.busy": "2023-06-22T09:54:52.045460Z",
     "iopub.status.idle": "2023-06-22T09:54:52.062880Z",
     "shell.execute_reply": "2023-06-22T09:54:52.061575Z"
    },
    "papermill": {
     "duration": 0.036549,
     "end_time": "2023-06-22T09:54:52.065420",
     "exception": false,
     "start_time": "2023-06-22T09:54:52.028871",
     "status": "completed"
    },
    "tags": []
   },
   "outputs": [
    {
     "data": {
      "text/plain": [
       "0    https://cdn.sofifa.com/players/195/427/17_60.png\n",
       "1    https://cdn.sofifa.com/players/203/539/17_60.png\n",
       "2    https://cdn.sofifa.com/players/232/898/20_60.png\n",
       "3    https://cdn.sofifa.com/players/215/502/17_60.png\n",
       "4    https://cdn.sofifa.com/players/222/263/18_60.png\n",
       "Name: Photo, dtype: object"
      ]
     },
     "execution_count": 3,
     "metadata": {},
     "output_type": "execute_result"
    }
   ],
   "source": [
    "train_data['Photo'].head()"
   ]
  },
  {
   "cell_type": "markdown",
   "id": "aac64dc6",
   "metadata": {
    "papermill": {
     "duration": 0.014054,
     "end_time": "2023-06-22T09:54:52.093886",
     "exception": false,
     "start_time": "2023-06-22T09:54:52.079832",
     "status": "completed"
    },
    "tags": []
   },
   "source": [
    "going to start with a very basic xgboost submission selecting what i think are some important columns"
   ]
  },
  {
   "cell_type": "markdown",
   "id": "6f13cf53",
   "metadata": {
    "papermill": {
     "duration": 0.014672,
     "end_time": "2023-06-22T09:54:52.122821",
     "exception": false,
     "start_time": "2023-06-22T09:54:52.108149",
     "status": "completed"
    },
    "tags": []
   },
   "source": [
    "changing the indexes of train and test"
   ]
  },
  {
   "cell_type": "code",
   "execution_count": 4,
   "id": "d3dad20e",
   "metadata": {
    "execution": {
     "iopub.execute_input": "2023-06-22T09:54:52.154028Z",
     "iopub.status.busy": "2023-06-22T09:54:52.152842Z",
     "iopub.status.idle": "2023-06-22T09:54:52.158300Z",
     "shell.execute_reply": "2023-06-22T09:54:52.157339Z"
    },
    "papermill": {
     "duration": 0.023703,
     "end_time": "2023-06-22T09:54:52.160894",
     "exception": false,
     "start_time": "2023-06-22T09:54:52.137191",
     "status": "completed"
    },
    "tags": []
   },
   "outputs": [],
   "source": [
    "# Set the index column as 'Photo' in train_data\n",
    "#train_data.set_index('Photo', inplace=True)\n",
    "\n",
    "# Set the index column as 'Photo' in test_data\n",
    "#est_data.set_index('Photo', inplace=True)"
   ]
  },
  {
   "cell_type": "markdown",
   "id": "9f5923bf",
   "metadata": {
    "papermill": {
     "duration": 0.015459,
     "end_time": "2023-06-22T09:54:52.191035",
     "exception": false,
     "start_time": "2023-06-22T09:54:52.175576",
     "status": "completed"
    },
    "tags": []
   },
   "source": [
    "importing xgboost model"
   ]
  },
  {
   "cell_type": "code",
   "execution_count": 5,
   "id": "16036d27",
   "metadata": {
    "execution": {
     "iopub.execute_input": "2023-06-22T09:54:52.224221Z",
     "iopub.status.busy": "2023-06-22T09:54:52.223005Z",
     "iopub.status.idle": "2023-06-22T09:54:53.944667Z",
     "shell.execute_reply": "2023-06-22T09:54:53.943790Z"
    },
    "papermill": {
     "duration": 1.740738,
     "end_time": "2023-06-22T09:54:53.947301",
     "exception": false,
     "start_time": "2023-06-22T09:54:52.206563",
     "status": "completed"
    },
    "tags": []
   },
   "outputs": [],
   "source": [
    "from xgboost import XGBRegressor\n",
    "model=XGBRegressor()"
   ]
  },
  {
   "cell_type": "markdown",
   "id": "113b54cc",
   "metadata": {
    "papermill": {
     "duration": 0.013934,
     "end_time": "2023-06-22T09:54:53.975805",
     "exception": false,
     "start_time": "2023-06-22T09:54:53.961871",
     "status": "completed"
    },
    "tags": []
   },
   "source": [
    "checking which columns are available for modelling"
   ]
  },
  {
   "cell_type": "code",
   "execution_count": 6,
   "id": "d02bd561",
   "metadata": {
    "execution": {
     "iopub.execute_input": "2023-06-22T09:54:54.006581Z",
     "iopub.status.busy": "2023-06-22T09:54:54.005922Z",
     "iopub.status.idle": "2023-06-22T09:54:54.014156Z",
     "shell.execute_reply": "2023-06-22T09:54:54.012936Z"
    },
    "papermill": {
     "duration": 0.026469,
     "end_time": "2023-06-22T09:54:54.016631",
     "exception": false,
     "start_time": "2023-06-22T09:54:53.990162",
     "status": "completed"
    },
    "tags": []
   },
   "outputs": [
    {
     "data": {
      "text/plain": [
       "Index(['Unnamed: 0', 'ID', 'Name', 'Age', 'Photo', 'Nationality', 'Flag',\n",
       "       'Overall', 'Potential', 'Club', 'Club Logo', 'Value', 'Wage', 'Special',\n",
       "       'Preferred Foot', 'International Reputation', 'Weak Foot',\n",
       "       'Skill Moves', 'Work Rate', 'Body Type', 'Real Face', 'Position',\n",
       "       'Jersey Number', 'Joined', 'Loaned From', 'Contract Valid Until',\n",
       "       'Height', 'Weight', 'Crossing', 'Finishing', 'HeadingAccuracy',\n",
       "       'ShortPassing', 'Volleys', 'Dribbling', 'Curve', 'FKAccuracy',\n",
       "       'LongPassing', 'BallControl', 'Acceleration', 'SprintSpeed', 'Agility',\n",
       "       'Reactions', 'Balance', 'ShotPower', 'Jumping', 'Stamina', 'Strength',\n",
       "       'LongShots', 'Aggression', 'Interceptions', 'Positioning', 'Vision',\n",
       "       'Penalties', 'Composure', 'Marking', 'StandingTackle', 'SlidingTackle',\n",
       "       'GKDiving', 'GKHandling', 'GKKicking', 'GKPositioning', 'GKReflexes',\n",
       "       'Best Position', 'Best Overall Rating', 'year', 'Release Clause',\n",
       "       'DefensiveAwareness'],\n",
       "      dtype='object')"
      ]
     },
     "execution_count": 6,
     "metadata": {},
     "output_type": "execute_result"
    }
   ],
   "source": [
    "train_data.columns"
   ]
  },
  {
   "cell_type": "code",
   "execution_count": 7,
   "id": "f64cf51d",
   "metadata": {
    "execution": {
     "iopub.execute_input": "2023-06-22T09:54:54.047644Z",
     "iopub.status.busy": "2023-06-22T09:54:54.047180Z",
     "iopub.status.idle": "2023-06-22T09:54:54.065087Z",
     "shell.execute_reply": "2023-06-22T09:54:54.063950Z"
    },
    "papermill": {
     "duration": 0.036405,
     "end_time": "2023-06-22T09:54:54.067570",
     "exception": false,
     "start_time": "2023-06-22T09:54:54.031165",
     "status": "completed"
    },
    "tags": []
   },
   "outputs": [
    {
     "data": {
      "text/plain": [
       "25095"
      ]
     },
     "execution_count": 7,
     "metadata": {},
     "output_type": "execute_result"
    }
   ],
   "source": [
    "train_data['Release Clause'].isna().sum()"
   ]
  },
  {
   "cell_type": "code",
   "execution_count": 8,
   "id": "48502987",
   "metadata": {
    "execution": {
     "iopub.execute_input": "2023-06-22T09:54:54.099165Z",
     "iopub.status.busy": "2023-06-22T09:54:54.098783Z",
     "iopub.status.idle": "2023-06-22T09:54:54.107286Z",
     "shell.execute_reply": "2023-06-22T09:54:54.105914Z"
    },
    "papermill": {
     "duration": 0.02749,
     "end_time": "2023-06-22T09:54:54.109847",
     "exception": false,
     "start_time": "2023-06-22T09:54:54.082357",
     "status": "completed"
    },
    "tags": []
   },
   "outputs": [
    {
     "data": {
      "text/plain": [
       "0    68\n",
       "1    58\n",
       "2    76\n",
       "3    86\n",
       "4    75\n",
       "Name: Potential, dtype: int64"
      ]
     },
     "execution_count": 8,
     "metadata": {},
     "output_type": "execute_result"
    }
   ],
   "source": [
    "train_data['Potential'].head()"
   ]
  },
  {
   "cell_type": "code",
   "execution_count": 9,
   "id": "c733e42b",
   "metadata": {
    "execution": {
     "iopub.execute_input": "2023-06-22T09:54:54.142255Z",
     "iopub.status.busy": "2023-06-22T09:54:54.141404Z",
     "iopub.status.idle": "2023-06-22T09:54:54.149300Z",
     "shell.execute_reply": "2023-06-22T09:54:54.148145Z"
    },
    "papermill": {
     "duration": 0.026466,
     "end_time": "2023-06-22T09:54:54.151583",
     "exception": false,
     "start_time": "2023-06-22T09:54:54.125117",
     "status": "completed"
    },
    "tags": []
   },
   "outputs": [
    {
     "data": {
      "text/plain": [
       "Index(['Unnamed: 0', 'ID', 'Name', 'Age', 'Photo', 'Nationality', 'Flag',\n",
       "       'Overall', 'Potential', 'Club', 'Club Logo', 'Value', 'Wage', 'Special',\n",
       "       'Preferred Foot', 'International Reputation', 'Weak Foot',\n",
       "       'Skill Moves', 'Work Rate', 'Body Type', 'Real Face', 'Position',\n",
       "       'Jersey Number', 'Joined', 'Loaned From', 'Contract Valid Until',\n",
       "       'Height', 'Weight', 'Crossing', 'Finishing', 'HeadingAccuracy',\n",
       "       'ShortPassing', 'Volleys', 'Dribbling', 'Curve', 'FKAccuracy',\n",
       "       'LongPassing', 'BallControl', 'Acceleration', 'SprintSpeed', 'Agility',\n",
       "       'Reactions', 'Balance', 'ShotPower', 'Jumping', 'Stamina', 'Strength',\n",
       "       'LongShots', 'Aggression', 'Interceptions', 'Positioning', 'Vision',\n",
       "       'Penalties', 'Composure', 'Marking', 'StandingTackle', 'SlidingTackle',\n",
       "       'GKDiving', 'GKHandling', 'GKKicking', 'GKPositioning', 'GKReflexes',\n",
       "       'Best Position', 'Best Overall Rating', 'year', 'Release Clause',\n",
       "       'DefensiveAwareness'],\n",
       "      dtype='object')"
      ]
     },
     "execution_count": 9,
     "metadata": {},
     "output_type": "execute_result"
    }
   ],
   "source": [
    "train_data.columns"
   ]
  },
  {
   "cell_type": "markdown",
   "id": "c81a1b00",
   "metadata": {
    "papermill": {
     "duration": 0.015874,
     "end_time": "2023-06-22T09:54:54.182430",
     "exception": false,
     "start_time": "2023-06-22T09:54:54.166556",
     "status": "completed"
    },
    "tags": []
   },
   "source": [
    "manually selecting some important features in the dataset for modelling"
   ]
  },
  {
   "cell_type": "code",
   "execution_count": 10,
   "id": "11ac77ab",
   "metadata": {
    "execution": {
     "iopub.execute_input": "2023-06-22T09:54:54.214992Z",
     "iopub.status.busy": "2023-06-22T09:54:54.213698Z",
     "iopub.status.idle": "2023-06-22T09:54:54.230448Z",
     "shell.execute_reply": "2023-06-22T09:54:54.229469Z"
    },
    "papermill": {
     "duration": 0.035748,
     "end_time": "2023-06-22T09:54:54.233129",
     "exception": false,
     "start_time": "2023-06-22T09:54:54.197381",
     "status": "completed"
    },
    "tags": []
   },
   "outputs": [],
   "source": [
    "train_1=train_data[['Potential','Overall','Wage','International Reputation','Age']]\n",
    "test_1=test_data[['Potential','Overall','Wage','International Reputation','Age']]"
   ]
  },
  {
   "cell_type": "markdown",
   "id": "18e5b3d6",
   "metadata": {
    "papermill": {
     "duration": 0.014787,
     "end_time": "2023-06-22T09:54:54.263015",
     "exception": false,
     "start_time": "2023-06-22T09:54:54.248228",
     "status": "completed"
    },
    "tags": []
   },
   "source": [
    "making some changes to the wage column"
   ]
  },
  {
   "cell_type": "code",
   "execution_count": 11,
   "id": "c0af2f03",
   "metadata": {
    "execution": {
     "iopub.execute_input": "2023-06-22T09:54:54.295975Z",
     "iopub.status.busy": "2023-06-22T09:54:54.294900Z",
     "iopub.status.idle": "2023-06-22T09:54:54.323721Z",
     "shell.execute_reply": "2023-06-22T09:54:54.322883Z"
    },
    "papermill": {
     "duration": 0.048159,
     "end_time": "2023-06-22T09:54:54.326252",
     "exception": false,
     "start_time": "2023-06-22T09:54:54.278093",
     "status": "completed"
    },
    "tags": []
   },
   "outputs": [
    {
     "data": {
      "text/html": [
       "<div>\n",
       "<style scoped>\n",
       "    .dataframe tbody tr th:only-of-type {\n",
       "        vertical-align: middle;\n",
       "    }\n",
       "\n",
       "    .dataframe tbody tr th {\n",
       "        vertical-align: top;\n",
       "    }\n",
       "\n",
       "    .dataframe thead th {\n",
       "        text-align: right;\n",
       "    }\n",
       "</style>\n",
       "<table border=\"1\" class=\"dataframe\">\n",
       "  <thead>\n",
       "    <tr style=\"text-align: right;\">\n",
       "      <th></th>\n",
       "      <th>Potential</th>\n",
       "      <th>Overall</th>\n",
       "      <th>Wage</th>\n",
       "      <th>International Reputation</th>\n",
       "      <th>Age</th>\n",
       "    </tr>\n",
       "  </thead>\n",
       "  <tbody>\n",
       "    <tr>\n",
       "      <th>0</th>\n",
       "      <td>68</td>\n",
       "      <td>61</td>\n",
       "      <td>€2K</td>\n",
       "      <td>1.0</td>\n",
       "      <td>22</td>\n",
       "    </tr>\n",
       "    <tr>\n",
       "      <th>1</th>\n",
       "      <td>58</td>\n",
       "      <td>57</td>\n",
       "      <td>€500</td>\n",
       "      <td>1.0</td>\n",
       "      <td>25</td>\n",
       "    </tr>\n",
       "    <tr>\n",
       "      <th>2</th>\n",
       "      <td>76</td>\n",
       "      <td>71</td>\n",
       "      <td>€7K</td>\n",
       "      <td>1.0</td>\n",
       "      <td>23</td>\n",
       "    </tr>\n",
       "    <tr>\n",
       "      <th>3</th>\n",
       "      <td>86</td>\n",
       "      <td>71</td>\n",
       "      <td>€10K</td>\n",
       "      <td>1.0</td>\n",
       "      <td>18</td>\n",
       "    </tr>\n",
       "    <tr>\n",
       "      <th>4</th>\n",
       "      <td>75</td>\n",
       "      <td>64</td>\n",
       "      <td>€2K</td>\n",
       "      <td>1.0</td>\n",
       "      <td>19</td>\n",
       "    </tr>\n",
       "    <tr>\n",
       "      <th>...</th>\n",
       "      <td>...</td>\n",
       "      <td>...</td>\n",
       "      <td>...</td>\n",
       "      <td>...</td>\n",
       "      <td>...</td>\n",
       "    </tr>\n",
       "    <tr>\n",
       "      <th>87637</th>\n",
       "      <td>73</td>\n",
       "      <td>68</td>\n",
       "      <td>€20K</td>\n",
       "      <td>1.0</td>\n",
       "      <td>25</td>\n",
       "    </tr>\n",
       "    <tr>\n",
       "      <th>87638</th>\n",
       "      <td>58</td>\n",
       "      <td>58</td>\n",
       "      <td>€1K</td>\n",
       "      <td>1.0</td>\n",
       "      <td>28</td>\n",
       "    </tr>\n",
       "    <tr>\n",
       "      <th>87639</th>\n",
       "      <td>69</td>\n",
       "      <td>69</td>\n",
       "      <td>€8K</td>\n",
       "      <td>1.0</td>\n",
       "      <td>27</td>\n",
       "    </tr>\n",
       "    <tr>\n",
       "      <th>87640</th>\n",
       "      <td>72</td>\n",
       "      <td>66</td>\n",
       "      <td>€3K</td>\n",
       "      <td>1.0</td>\n",
       "      <td>20</td>\n",
       "    </tr>\n",
       "    <tr>\n",
       "      <th>87641</th>\n",
       "      <td>68</td>\n",
       "      <td>67</td>\n",
       "      <td>€2K</td>\n",
       "      <td>1.0</td>\n",
       "      <td>26</td>\n",
       "    </tr>\n",
       "  </tbody>\n",
       "</table>\n",
       "<p>87642 rows × 5 columns</p>\n",
       "</div>"
      ],
      "text/plain": [
       "       Potential  Overall  Wage  International Reputation  Age\n",
       "0             68       61   €2K                       1.0   22\n",
       "1             58       57  €500                       1.0   25\n",
       "2             76       71   €7K                       1.0   23\n",
       "3             86       71  €10K                       1.0   18\n",
       "4             75       64   €2K                       1.0   19\n",
       "...          ...      ...   ...                       ...  ...\n",
       "87637         73       68  €20K                       1.0   25\n",
       "87638         58       58   €1K                       1.0   28\n",
       "87639         69       69   €8K                       1.0   27\n",
       "87640         72       66   €3K                       1.0   20\n",
       "87641         68       67   €2K                       1.0   26\n",
       "\n",
       "[87642 rows x 5 columns]"
      ]
     },
     "execution_count": 11,
     "metadata": {},
     "output_type": "execute_result"
    }
   ],
   "source": [
    "train_1"
   ]
  },
  {
   "cell_type": "markdown",
   "id": "5fc70b2f",
   "metadata": {
    "papermill": {
     "duration": 0.01503,
     "end_time": "2023-06-22T09:54:54.356914",
     "exception": false,
     "start_time": "2023-06-22T09:54:54.341884",
     "status": "completed"
    },
    "tags": []
   },
   "source": [
    "checking which data types are object"
   ]
  },
  {
   "cell_type": "code",
   "execution_count": 12,
   "id": "562e2ea2",
   "metadata": {
    "execution": {
     "iopub.execute_input": "2023-06-22T09:54:54.389054Z",
     "iopub.status.busy": "2023-06-22T09:54:54.388657Z",
     "iopub.status.idle": "2023-06-22T09:54:54.393853Z",
     "shell.execute_reply": "2023-06-22T09:54:54.392651Z"
    },
    "papermill": {
     "duration": 0.02395,
     "end_time": "2023-06-22T09:54:54.396070",
     "exception": false,
     "start_time": "2023-06-22T09:54:54.372120",
     "status": "completed"
    },
    "tags": []
   },
   "outputs": [],
   "source": [
    "y_train=train_data['Value']"
   ]
  },
  {
   "cell_type": "markdown",
   "id": "ace90250",
   "metadata": {
    "papermill": {
     "duration": 0.014756,
     "end_time": "2023-06-22T09:54:54.425944",
     "exception": false,
     "start_time": "2023-06-22T09:54:54.411188",
     "status": "completed"
    },
    "tags": []
   },
   "source": [
    "converting the wage column to float data type"
   ]
  },
  {
   "cell_type": "code",
   "execution_count": 13,
   "id": "befed334",
   "metadata": {
    "execution": {
     "iopub.execute_input": "2023-06-22T09:54:54.458435Z",
     "iopub.status.busy": "2023-06-22T09:54:54.457786Z",
     "iopub.status.idle": "2023-06-22T09:54:55.321310Z",
     "shell.execute_reply": "2023-06-22T09:54:55.320247Z"
    },
    "papermill": {
     "duration": 0.882888,
     "end_time": "2023-06-22T09:54:55.323934",
     "exception": false,
     "start_time": "2023-06-22T09:54:54.441046",
     "status": "completed"
    },
    "tags": []
   },
   "outputs": [
    {
     "name": "stderr",
     "output_type": "stream",
     "text": [
      "/tmp/ipykernel_20/3838849759.py:14: SettingWithCopyWarning: \n",
      "A value is trying to be set on a copy of a slice from a DataFrame.\n",
      "Try using .loc[row_indexer,col_indexer] = value instead\n",
      "\n",
      "See the caveats in the documentation: https://pandas.pydata.org/pandas-docs/stable/user_guide/indexing.html#returning-a-view-versus-a-copy\n",
      "  train_1['Wage'] = train_1['Wage'].apply(preprocess_wage)\n",
      "/tmp/ipykernel_20/3838849759.py:17: SettingWithCopyWarning: \n",
      "A value is trying to be set on a copy of a slice from a DataFrame.\n",
      "Try using .loc[row_indexer,col_indexer] = value instead\n",
      "\n",
      "See the caveats in the documentation: https://pandas.pydata.org/pandas-docs/stable/user_guide/indexing.html#returning-a-view-versus-a-copy\n",
      "  train_1['Wage'] = train_1['Wage'].astype(float)\n",
      "/tmp/ipykernel_20/3838849759.py:20: SettingWithCopyWarning: \n",
      "A value is trying to be set on a copy of a slice from a DataFrame.\n",
      "Try using .loc[row_indexer,col_indexer] = value instead\n",
      "\n",
      "See the caveats in the documentation: https://pandas.pydata.org/pandas-docs/stable/user_guide/indexing.html#returning-a-view-versus-a-copy\n",
      "  test_1['Wage'] = test_1['Wage'].apply(preprocess_wage)\n",
      "/tmp/ipykernel_20/3838849759.py:23: SettingWithCopyWarning: \n",
      "A value is trying to be set on a copy of a slice from a DataFrame.\n",
      "Try using .loc[row_indexer,col_indexer] = value instead\n",
      "\n",
      "See the caveats in the documentation: https://pandas.pydata.org/pandas-docs/stable/user_guide/indexing.html#returning-a-view-versus-a-copy\n",
      "  test_1['Wage'] = test_1['Wage'].astype(float)\n"
     ]
    }
   ],
   "source": [
    "import re\n",
    "# Define a function to preprocess the 'Wage' column\n",
    "def preprocess_wage(value):\n",
    "    value = re.sub(r'€', '', value)  # Remove euro symbol\n",
    "    if 'K' in value:\n",
    "        value = float(re.sub(r'[^0-9.]', '', value)) * 1000  # Remove 'K' and multiply by 1000\n",
    "    elif 'M' in value:\n",
    "        value = float(re.sub(r'[^0-9.]', '', value)) * 1000000  # Remove 'M' and multiply by 1000000\n",
    "    else:\n",
    "        value = float(value)\n",
    "    return value\n",
    "\n",
    "# Apply the preprocessing function to 'Wage' column in train_1 dataset\n",
    "train_1['Wage'] = train_1['Wage'].apply(preprocess_wage)\n",
    "\n",
    "# Convert the column to float data type\n",
    "train_1['Wage'] = train_1['Wage'].astype(float)\n",
    "\n",
    "# Apply the preprocessing function to 'Wage' column in train_1 dataset\n",
    "test_1['Wage'] = test_1['Wage'].apply(preprocess_wage)\n",
    "\n",
    "# Convert the column to float data type\n",
    "test_1['Wage'] = test_1['Wage'].astype(float)\n",
    "\n",
    "#Applying it to y_train too\n",
    "y_train=y_train.apply(preprocess_wage)\n",
    "\n",
    "#Convert the column to float data type\n",
    "y_train=y_train.astype(float)"
   ]
  },
  {
   "cell_type": "code",
   "execution_count": 14,
   "id": "7a43d8c1",
   "metadata": {
    "execution": {
     "iopub.execute_input": "2023-06-22T09:54:55.357607Z",
     "iopub.status.busy": "2023-06-22T09:54:55.356950Z",
     "iopub.status.idle": "2023-06-22T09:54:55.370095Z",
     "shell.execute_reply": "2023-06-22T09:54:55.368770Z"
    },
    "papermill": {
     "duration": 0.032985,
     "end_time": "2023-06-22T09:54:55.372766",
     "exception": false,
     "start_time": "2023-06-22T09:54:55.339781",
     "status": "completed"
    },
    "tags": []
   },
   "outputs": [
    {
     "data": {
      "text/html": [
       "<div>\n",
       "<style scoped>\n",
       "    .dataframe tbody tr th:only-of-type {\n",
       "        vertical-align: middle;\n",
       "    }\n",
       "\n",
       "    .dataframe tbody tr th {\n",
       "        vertical-align: top;\n",
       "    }\n",
       "\n",
       "    .dataframe thead th {\n",
       "        text-align: right;\n",
       "    }\n",
       "</style>\n",
       "<table border=\"1\" class=\"dataframe\">\n",
       "  <thead>\n",
       "    <tr style=\"text-align: right;\">\n",
       "      <th></th>\n",
       "      <th>Potential</th>\n",
       "      <th>Overall</th>\n",
       "      <th>Wage</th>\n",
       "      <th>International Reputation</th>\n",
       "      <th>Age</th>\n",
       "    </tr>\n",
       "  </thead>\n",
       "  <tbody>\n",
       "    <tr>\n",
       "      <th>0</th>\n",
       "      <td>68</td>\n",
       "      <td>61</td>\n",
       "      <td>2000.0</td>\n",
       "      <td>1.0</td>\n",
       "      <td>22</td>\n",
       "    </tr>\n",
       "    <tr>\n",
       "      <th>1</th>\n",
       "      <td>58</td>\n",
       "      <td>57</td>\n",
       "      <td>500.0</td>\n",
       "      <td>1.0</td>\n",
       "      <td>25</td>\n",
       "    </tr>\n",
       "    <tr>\n",
       "      <th>2</th>\n",
       "      <td>76</td>\n",
       "      <td>71</td>\n",
       "      <td>7000.0</td>\n",
       "      <td>1.0</td>\n",
       "      <td>23</td>\n",
       "    </tr>\n",
       "    <tr>\n",
       "      <th>3</th>\n",
       "      <td>86</td>\n",
       "      <td>71</td>\n",
       "      <td>10000.0</td>\n",
       "      <td>1.0</td>\n",
       "      <td>18</td>\n",
       "    </tr>\n",
       "    <tr>\n",
       "      <th>4</th>\n",
       "      <td>75</td>\n",
       "      <td>64</td>\n",
       "      <td>2000.0</td>\n",
       "      <td>1.0</td>\n",
       "      <td>19</td>\n",
       "    </tr>\n",
       "  </tbody>\n",
       "</table>\n",
       "</div>"
      ],
      "text/plain": [
       "   Potential  Overall     Wage  International Reputation  Age\n",
       "0         68       61   2000.0                       1.0   22\n",
       "1         58       57    500.0                       1.0   25\n",
       "2         76       71   7000.0                       1.0   23\n",
       "3         86       71  10000.0                       1.0   18\n",
       "4         75       64   2000.0                       1.0   19"
      ]
     },
     "execution_count": 14,
     "metadata": {},
     "output_type": "execute_result"
    }
   ],
   "source": [
    "train_1.head()"
   ]
  },
  {
   "cell_type": "code",
   "execution_count": 15,
   "id": "1ada0cfe",
   "metadata": {
    "execution": {
     "iopub.execute_input": "2023-06-22T09:54:55.406636Z",
     "iopub.status.busy": "2023-06-22T09:54:55.405614Z",
     "iopub.status.idle": "2023-06-22T09:54:55.413306Z",
     "shell.execute_reply": "2023-06-22T09:54:55.412442Z"
    },
    "papermill": {
     "duration": 0.027055,
     "end_time": "2023-06-22T09:54:55.415653",
     "exception": false,
     "start_time": "2023-06-22T09:54:55.388598",
     "status": "completed"
    },
    "tags": []
   },
   "outputs": [
    {
     "data": {
      "text/plain": [
       "0     325000.0\n",
       "1     140000.0\n",
       "2    3200000.0\n",
       "3    2900000.0\n",
       "4     575000.0\n",
       "Name: Value, dtype: float64"
      ]
     },
     "execution_count": 15,
     "metadata": {},
     "output_type": "execute_result"
    }
   ],
   "source": [
    "y_train.head()"
   ]
  },
  {
   "cell_type": "markdown",
   "id": "41e7b631",
   "metadata": {
    "papermill": {
     "duration": 0.015582,
     "end_time": "2023-06-22T09:54:55.448024",
     "exception": false,
     "start_time": "2023-06-22T09:54:55.432442",
     "status": "completed"
    },
    "tags": []
   },
   "source": [
    "using gridsearchCV and modelling now"
   ]
  },
  {
   "cell_type": "code",
   "execution_count": 16,
   "id": "a72eb74d",
   "metadata": {
    "execution": {
     "iopub.execute_input": "2023-06-22T09:54:55.481776Z",
     "iopub.status.busy": "2023-06-22T09:54:55.481309Z",
     "iopub.status.idle": "2023-06-22T09:54:55.486178Z",
     "shell.execute_reply": "2023-06-22T09:54:55.485039Z"
    },
    "papermill": {
     "duration": 0.02482,
     "end_time": "2023-06-22T09:54:55.488725",
     "exception": false,
     "start_time": "2023-06-22T09:54:55.463905",
     "status": "completed"
    },
    "tags": []
   },
   "outputs": [],
   "source": [
    "# from sklearn.model_selection import GridSearchCV\n",
    "# from sklearn.metrics import make_scorer, mean_squared_error\n",
    "# # Define a custom scoring function for RMSE\n",
    "# scorer = make_scorer(lambda y_true, y_pred: mean_squared_error(y_true, y_pred, squared=False), greater_is_better=False)\n",
    "# model=XGBRegressor()\n",
    "# param_grid = {'learning_rate':[0.05, 0.75, 0.1], 'n_estimators':[200,400,600,800,1000]}\n",
    "# grid_search = GridSearchCV(model, param_grid, cv=5, scoring=scorer)"
   ]
  },
  {
   "cell_type": "markdown",
   "id": "b68b50bd",
   "metadata": {
    "papermill": {
     "duration": 0.015474,
     "end_time": "2023-06-22T09:54:55.520152",
     "exception": false,
     "start_time": "2023-06-22T09:54:55.504678",
     "status": "completed"
    },
    "tags": []
   },
   "source": [
    "applying and fitting GridSearchCV on the training data"
   ]
  },
  {
   "cell_type": "code",
   "execution_count": 17,
   "id": "e5ceaa11",
   "metadata": {
    "execution": {
     "iopub.execute_input": "2023-06-22T09:54:55.554298Z",
     "iopub.status.busy": "2023-06-22T09:54:55.553416Z",
     "iopub.status.idle": "2023-06-22T09:54:58.347799Z",
     "shell.execute_reply": "2023-06-22T09:54:58.346837Z"
    },
    "papermill": {
     "duration": 2.814225,
     "end_time": "2023-06-22T09:54:58.350302",
     "exception": false,
     "start_time": "2023-06-22T09:54:55.536077",
     "status": "completed"
    },
    "tags": []
   },
   "outputs": [
    {
     "data": {
      "text/html": [
       "<style>#sk-container-id-1 {color: black;background-color: white;}#sk-container-id-1 pre{padding: 0;}#sk-container-id-1 div.sk-toggleable {background-color: white;}#sk-container-id-1 label.sk-toggleable__label {cursor: pointer;display: block;width: 100%;margin-bottom: 0;padding: 0.3em;box-sizing: border-box;text-align: center;}#sk-container-id-1 label.sk-toggleable__label-arrow:before {content: \"▸\";float: left;margin-right: 0.25em;color: #696969;}#sk-container-id-1 label.sk-toggleable__label-arrow:hover:before {color: black;}#sk-container-id-1 div.sk-estimator:hover label.sk-toggleable__label-arrow:before {color: black;}#sk-container-id-1 div.sk-toggleable__content {max-height: 0;max-width: 0;overflow: hidden;text-align: left;background-color: #f0f8ff;}#sk-container-id-1 div.sk-toggleable__content pre {margin: 0.2em;color: black;border-radius: 0.25em;background-color: #f0f8ff;}#sk-container-id-1 input.sk-toggleable__control:checked~div.sk-toggleable__content {max-height: 200px;max-width: 100%;overflow: auto;}#sk-container-id-1 input.sk-toggleable__control:checked~label.sk-toggleable__label-arrow:before {content: \"▾\";}#sk-container-id-1 div.sk-estimator input.sk-toggleable__control:checked~label.sk-toggleable__label {background-color: #d4ebff;}#sk-container-id-1 div.sk-label input.sk-toggleable__control:checked~label.sk-toggleable__label {background-color: #d4ebff;}#sk-container-id-1 input.sk-hidden--visually {border: 0;clip: rect(1px 1px 1px 1px);clip: rect(1px, 1px, 1px, 1px);height: 1px;margin: -1px;overflow: hidden;padding: 0;position: absolute;width: 1px;}#sk-container-id-1 div.sk-estimator {font-family: monospace;background-color: #f0f8ff;border: 1px dotted black;border-radius: 0.25em;box-sizing: border-box;margin-bottom: 0.5em;}#sk-container-id-1 div.sk-estimator:hover {background-color: #d4ebff;}#sk-container-id-1 div.sk-parallel-item::after {content: \"\";width: 100%;border-bottom: 1px solid gray;flex-grow: 1;}#sk-container-id-1 div.sk-label:hover label.sk-toggleable__label {background-color: #d4ebff;}#sk-container-id-1 div.sk-serial::before {content: \"\";position: absolute;border-left: 1px solid gray;box-sizing: border-box;top: 0;bottom: 0;left: 50%;z-index: 0;}#sk-container-id-1 div.sk-serial {display: flex;flex-direction: column;align-items: center;background-color: white;padding-right: 0.2em;padding-left: 0.2em;position: relative;}#sk-container-id-1 div.sk-item {position: relative;z-index: 1;}#sk-container-id-1 div.sk-parallel {display: flex;align-items: stretch;justify-content: center;background-color: white;position: relative;}#sk-container-id-1 div.sk-item::before, #sk-container-id-1 div.sk-parallel-item::before {content: \"\";position: absolute;border-left: 1px solid gray;box-sizing: border-box;top: 0;bottom: 0;left: 50%;z-index: -1;}#sk-container-id-1 div.sk-parallel-item {display: flex;flex-direction: column;z-index: 1;position: relative;background-color: white;}#sk-container-id-1 div.sk-parallel-item:first-child::after {align-self: flex-end;width: 50%;}#sk-container-id-1 div.sk-parallel-item:last-child::after {align-self: flex-start;width: 50%;}#sk-container-id-1 div.sk-parallel-item:only-child::after {width: 0;}#sk-container-id-1 div.sk-dashed-wrapped {border: 1px dashed gray;margin: 0 0.4em 0.5em 0.4em;box-sizing: border-box;padding-bottom: 0.4em;background-color: white;}#sk-container-id-1 div.sk-label label {font-family: monospace;font-weight: bold;display: inline-block;line-height: 1.2em;}#sk-container-id-1 div.sk-label-container {text-align: center;}#sk-container-id-1 div.sk-container {/* jupyter's `normalize.less` sets `[hidden] { display: none; }` but bootstrap.min.css set `[hidden] { display: none !important; }` so we also need the `!important` here to be able to override the default hidden behavior on the sphinx rendered scikit-learn.org. See: https://github.com/scikit-learn/scikit-learn/issues/21755 */display: inline-block !important;position: relative;}#sk-container-id-1 div.sk-text-repr-fallback {display: none;}</style><div id=\"sk-container-id-1\" class=\"sk-top-container\"><div class=\"sk-text-repr-fallback\"><pre>XGBRegressor(base_score=None, booster=None, callbacks=None,\n",
       "             colsample_bylevel=None, colsample_bynode=None,\n",
       "             colsample_bytree=None, early_stopping_rounds=None,\n",
       "             enable_categorical=False, eval_metric=None, feature_types=None,\n",
       "             gamma=None, gpu_id=None, grow_policy=None, importance_type=None,\n",
       "             interaction_constraints=None, learning_rate=None, max_bin=None,\n",
       "             max_cat_threshold=None, max_cat_to_onehot=None,\n",
       "             max_delta_step=None, max_depth=None, max_leaves=None,\n",
       "             min_child_weight=None, missing=nan, monotone_constraints=None,\n",
       "             n_estimators=100, n_jobs=None, num_parallel_tree=None,\n",
       "             predictor=None, random_state=None, ...)</pre><b>In a Jupyter environment, please rerun this cell to show the HTML representation or trust the notebook. <br />On GitHub, the HTML representation is unable to render, please try loading this page with nbviewer.org.</b></div><div class=\"sk-container\" hidden><div class=\"sk-item\"><div class=\"sk-estimator sk-toggleable\"><input class=\"sk-toggleable__control sk-hidden--visually\" id=\"sk-estimator-id-1\" type=\"checkbox\" checked><label for=\"sk-estimator-id-1\" class=\"sk-toggleable__label sk-toggleable__label-arrow\">XGBRegressor</label><div class=\"sk-toggleable__content\"><pre>XGBRegressor(base_score=None, booster=None, callbacks=None,\n",
       "             colsample_bylevel=None, colsample_bynode=None,\n",
       "             colsample_bytree=None, early_stopping_rounds=None,\n",
       "             enable_categorical=False, eval_metric=None, feature_types=None,\n",
       "             gamma=None, gpu_id=None, grow_policy=None, importance_type=None,\n",
       "             interaction_constraints=None, learning_rate=None, max_bin=None,\n",
       "             max_cat_threshold=None, max_cat_to_onehot=None,\n",
       "             max_delta_step=None, max_depth=None, max_leaves=None,\n",
       "             min_child_weight=None, missing=nan, monotone_constraints=None,\n",
       "             n_estimators=100, n_jobs=None, num_parallel_tree=None,\n",
       "             predictor=None, random_state=None, ...)</pre></div></div></div></div></div>"
      ],
      "text/plain": [
       "XGBRegressor(base_score=None, booster=None, callbacks=None,\n",
       "             colsample_bylevel=None, colsample_bynode=None,\n",
       "             colsample_bytree=None, early_stopping_rounds=None,\n",
       "             enable_categorical=False, eval_metric=None, feature_types=None,\n",
       "             gamma=None, gpu_id=None, grow_policy=None, importance_type=None,\n",
       "             interaction_constraints=None, learning_rate=None, max_bin=None,\n",
       "             max_cat_threshold=None, max_cat_to_onehot=None,\n",
       "             max_delta_step=None, max_depth=None, max_leaves=None,\n",
       "             min_child_weight=None, missing=nan, monotone_constraints=None,\n",
       "             n_estimators=100, n_jobs=None, num_parallel_tree=None,\n",
       "             predictor=None, random_state=None, ...)"
      ]
     },
     "execution_count": 17,
     "metadata": {},
     "output_type": "execute_result"
    }
   ],
   "source": [
    "model=XGBRegressor()\n",
    "model.fit(train_1, y_train)"
   ]
  },
  {
   "cell_type": "code",
   "execution_count": 18,
   "id": "2e7028ca",
   "metadata": {
    "execution": {
     "iopub.execute_input": "2023-06-22T09:54:58.384697Z",
     "iopub.status.busy": "2023-06-22T09:54:58.384261Z",
     "iopub.status.idle": "2023-06-22T09:54:58.398873Z",
     "shell.execute_reply": "2023-06-22T09:54:58.397651Z"
    },
    "papermill": {
     "duration": 0.034988,
     "end_time": "2023-06-22T09:54:58.401608",
     "exception": false,
     "start_time": "2023-06-22T09:54:58.366620",
     "status": "completed"
    },
    "tags": []
   },
   "outputs": [
    {
     "data": {
      "text/html": [
       "<div>\n",
       "<style scoped>\n",
       "    .dataframe tbody tr th:only-of-type {\n",
       "        vertical-align: middle;\n",
       "    }\n",
       "\n",
       "    .dataframe tbody tr th {\n",
       "        vertical-align: top;\n",
       "    }\n",
       "\n",
       "    .dataframe thead th {\n",
       "        text-align: right;\n",
       "    }\n",
       "</style>\n",
       "<table border=\"1\" class=\"dataframe\">\n",
       "  <thead>\n",
       "    <tr style=\"text-align: right;\">\n",
       "      <th></th>\n",
       "      <th>Potential</th>\n",
       "      <th>Overall</th>\n",
       "      <th>Wage</th>\n",
       "      <th>International Reputation</th>\n",
       "      <th>Age</th>\n",
       "    </tr>\n",
       "  </thead>\n",
       "  <tbody>\n",
       "    <tr>\n",
       "      <th>0</th>\n",
       "      <td>89</td>\n",
       "      <td>88</td>\n",
       "      <td>250000.0</td>\n",
       "      <td>3.0</td>\n",
       "      <td>26</td>\n",
       "    </tr>\n",
       "    <tr>\n",
       "      <th>1</th>\n",
       "      <td>88</td>\n",
       "      <td>87</td>\n",
       "      <td>140000.0</td>\n",
       "      <td>4.0</td>\n",
       "      <td>26</td>\n",
       "    </tr>\n",
       "    <tr>\n",
       "      <th>2</th>\n",
       "      <td>88</td>\n",
       "      <td>88</td>\n",
       "      <td>135000.0</td>\n",
       "      <td>5.0</td>\n",
       "      <td>34</td>\n",
       "    </tr>\n",
       "    <tr>\n",
       "      <th>3</th>\n",
       "      <td>91</td>\n",
       "      <td>91</td>\n",
       "      <td>350000.0</td>\n",
       "      <td>4.0</td>\n",
       "      <td>30</td>\n",
       "    </tr>\n",
       "    <tr>\n",
       "      <th>4</th>\n",
       "      <td>84</td>\n",
       "      <td>84</td>\n",
       "      <td>45000.0</td>\n",
       "      <td>2.0</td>\n",
       "      <td>29</td>\n",
       "    </tr>\n",
       "  </tbody>\n",
       "</table>\n",
       "</div>"
      ],
      "text/plain": [
       "   Potential  Overall      Wage  International Reputation  Age\n",
       "0         89       88  250000.0                       3.0   26\n",
       "1         88       87  140000.0                       4.0   26\n",
       "2         88       88  135000.0                       5.0   34\n",
       "3         91       91  350000.0                       4.0   30\n",
       "4         84       84   45000.0                       2.0   29"
      ]
     },
     "execution_count": 18,
     "metadata": {},
     "output_type": "execute_result"
    }
   ],
   "source": [
    "test_1.head()"
   ]
  },
  {
   "cell_type": "code",
   "execution_count": 19,
   "id": "1446e83e",
   "metadata": {
    "execution": {
     "iopub.execute_input": "2023-06-22T09:54:58.437381Z",
     "iopub.status.busy": "2023-06-22T09:54:58.436589Z",
     "iopub.status.idle": "2023-06-22T09:54:58.444188Z",
     "shell.execute_reply": "2023-06-22T09:54:58.442955Z"
    },
    "papermill": {
     "duration": 0.028468,
     "end_time": "2023-06-22T09:54:58.446536",
     "exception": false,
     "start_time": "2023-06-22T09:54:58.418068",
     "status": "completed"
    },
    "tags": []
   },
   "outputs": [
    {
     "data": {
      "text/plain": [
       "(34370, 5)"
      ]
     },
     "execution_count": 19,
     "metadata": {},
     "output_type": "execute_result"
    }
   ],
   "source": [
    "test_1.shape"
   ]
  },
  {
   "cell_type": "markdown",
   "id": "5cbe87be",
   "metadata": {
    "papermill": {
     "duration": 0.01666,
     "end_time": "2023-06-22T09:54:58.479753",
     "exception": false,
     "start_time": "2023-06-22T09:54:58.463093",
     "status": "completed"
    },
    "tags": []
   },
   "source": [
    "storing predictions"
   ]
  },
  {
   "cell_type": "code",
   "execution_count": 20,
   "id": "d8ffc243",
   "metadata": {
    "execution": {
     "iopub.execute_input": "2023-06-22T09:54:58.516713Z",
     "iopub.status.busy": "2023-06-22T09:54:58.516027Z",
     "iopub.status.idle": "2023-06-22T09:54:58.558222Z",
     "shell.execute_reply": "2023-06-22T09:54:58.557269Z"
    },
    "papermill": {
     "duration": 0.064309,
     "end_time": "2023-06-22T09:54:58.560955",
     "exception": false,
     "start_time": "2023-06-22T09:54:58.496646",
     "status": "completed"
    },
    "tags": []
   },
   "outputs": [],
   "source": [
    "pred=model.predict(test_1)"
   ]
  },
  {
   "cell_type": "code",
   "execution_count": 21,
   "id": "b94ef26a",
   "metadata": {
    "execution": {
     "iopub.execute_input": "2023-06-22T09:54:58.597092Z",
     "iopub.status.busy": "2023-06-22T09:54:58.596678Z",
     "iopub.status.idle": "2023-06-22T09:54:58.602998Z",
     "shell.execute_reply": "2023-06-22T09:54:58.602218Z"
    },
    "papermill": {
     "duration": 0.026189,
     "end_time": "2023-06-22T09:54:58.605024",
     "exception": false,
     "start_time": "2023-06-22T09:54:58.578835",
     "status": "completed"
    },
    "tags": []
   },
   "outputs": [
    {
     "data": {
      "text/plain": [
       "(34370,)"
      ]
     },
     "execution_count": 21,
     "metadata": {},
     "output_type": "execute_result"
    }
   ],
   "source": [
    "pred.shape"
   ]
  },
  {
   "cell_type": "code",
   "execution_count": 22,
   "id": "092e8f9c",
   "metadata": {
    "execution": {
     "iopub.execute_input": "2023-06-22T09:54:58.641581Z",
     "iopub.status.busy": "2023-06-22T09:54:58.640906Z",
     "iopub.status.idle": "2023-06-22T09:54:58.647906Z",
     "shell.execute_reply": "2023-06-22T09:54:58.647036Z"
    },
    "papermill": {
     "duration": 0.028039,
     "end_time": "2023-06-22T09:54:58.650523",
     "exception": false,
     "start_time": "2023-06-22T09:54:58.622484",
     "status": "completed"
    },
    "tags": []
   },
   "outputs": [],
   "source": [
    "output = pd.DataFrame({'Photo':test_data['Photo'],'Value': pred})  # Create the DataFrame with the 'Value' column\n",
    "output = output.set_index(test_1.index)  # Set the index column to test_1.index"
   ]
  },
  {
   "cell_type": "markdown",
   "id": "a918b804",
   "metadata": {
    "papermill": {
     "duration": 0.016427,
     "end_time": "2023-06-22T09:54:58.684279",
     "exception": false,
     "start_time": "2023-06-22T09:54:58.667852",
     "status": "completed"
    },
    "tags": []
   },
   "source": [
    "now storing the final submission"
   ]
  },
  {
   "cell_type": "code",
   "execution_count": 23,
   "id": "5479da5d",
   "metadata": {
    "execution": {
     "iopub.execute_input": "2023-06-22T09:54:58.721470Z",
     "iopub.status.busy": "2023-06-22T09:54:58.720782Z",
     "iopub.status.idle": "2023-06-22T09:54:58.732475Z",
     "shell.execute_reply": "2023-06-22T09:54:58.731345Z"
    },
    "papermill": {
     "duration": 0.032813,
     "end_time": "2023-06-22T09:54:58.735122",
     "exception": false,
     "start_time": "2023-06-22T09:54:58.702309",
     "status": "completed"
    },
    "tags": []
   },
   "outputs": [
    {
     "data": {
      "text/html": [
       "<div>\n",
       "<style scoped>\n",
       "    .dataframe tbody tr th:only-of-type {\n",
       "        vertical-align: middle;\n",
       "    }\n",
       "\n",
       "    .dataframe tbody tr th {\n",
       "        vertical-align: top;\n",
       "    }\n",
       "\n",
       "    .dataframe thead th {\n",
       "        text-align: right;\n",
       "    }\n",
       "</style>\n",
       "<table border=\"1\" class=\"dataframe\">\n",
       "  <thead>\n",
       "    <tr style=\"text-align: right;\">\n",
       "      <th></th>\n",
       "      <th>Photo</th>\n",
       "      <th>Value</th>\n",
       "    </tr>\n",
       "  </thead>\n",
       "  <tbody>\n",
       "    <tr>\n",
       "      <th>0</th>\n",
       "      <td>https://cdn.sofifa.com/players/212/198/22_60.png</td>\n",
       "      <td>67480096.0</td>\n",
       "    </tr>\n",
       "    <tr>\n",
       "      <th>1</th>\n",
       "      <td>https://cdn.sofifa.com/players/209/658/22_60.png</td>\n",
       "      <td>57726600.0</td>\n",
       "    </tr>\n",
       "    <tr>\n",
       "      <th>2</th>\n",
       "      <td>https://cdn.sofifa.com/players/176/580/22_60.png</td>\n",
       "      <td>24389748.0</td>\n",
       "    </tr>\n",
       "    <tr>\n",
       "      <th>3</th>\n",
       "      <td>https://cdn.sofifa.com/players/192/985/22_60.png</td>\n",
       "      <td>89608232.0</td>\n",
       "    </tr>\n",
       "    <tr>\n",
       "      <th>4</th>\n",
       "      <td>https://cdn.sofifa.com/players/224/334/22_60.png</td>\n",
       "      <td>30389520.0</td>\n",
       "    </tr>\n",
       "  </tbody>\n",
       "</table>\n",
       "</div>"
      ],
      "text/plain": [
       "                                              Photo       Value\n",
       "0  https://cdn.sofifa.com/players/212/198/22_60.png  67480096.0\n",
       "1  https://cdn.sofifa.com/players/209/658/22_60.png  57726600.0\n",
       "2  https://cdn.sofifa.com/players/176/580/22_60.png  24389748.0\n",
       "3  https://cdn.sofifa.com/players/192/985/22_60.png  89608232.0\n",
       "4  https://cdn.sofifa.com/players/224/334/22_60.png  30389520.0"
      ]
     },
     "execution_count": 23,
     "metadata": {},
     "output_type": "execute_result"
    }
   ],
   "source": [
    "output.head()"
   ]
  },
  {
   "cell_type": "markdown",
   "id": "7244a825",
   "metadata": {
    "papermill": {
     "duration": 0.016894,
     "end_time": "2023-06-22T09:54:58.769026",
     "exception": false,
     "start_time": "2023-06-22T09:54:58.752132",
     "status": "completed"
    },
    "tags": []
   },
   "source": [
    "converting to a csv now"
   ]
  },
  {
   "cell_type": "markdown",
   "id": "631e490e",
   "metadata": {
    "papermill": {
     "duration": 0.016848,
     "end_time": "2023-06-22T09:54:58.802910",
     "exception": false,
     "start_time": "2023-06-22T09:54:58.786062",
     "status": "completed"
    },
    "tags": []
   },
   "source": [
    "done for now"
   ]
  },
  {
   "cell_type": "code",
   "execution_count": 24,
   "id": "73aedd4d",
   "metadata": {
    "execution": {
     "iopub.execute_input": "2023-06-22T09:54:58.839377Z",
     "iopub.status.busy": "2023-06-22T09:54:58.838575Z",
     "iopub.status.idle": "2023-06-22T09:54:58.858960Z",
     "shell.execute_reply": "2023-06-22T09:54:58.858041Z"
    },
    "papermill": {
     "duration": 0.041579,
     "end_time": "2023-06-22T09:54:58.861453",
     "exception": false,
     "start_time": "2023-06-22T09:54:58.819874",
     "status": "completed"
    },
    "tags": []
   },
   "outputs": [
    {
     "data": {
      "text/plain": [
       "Photo    0\n",
       "Value    0\n",
       "dtype: int64"
      ]
     },
     "execution_count": 24,
     "metadata": {},
     "output_type": "execute_result"
    }
   ],
   "source": [
    "output.isnull().sum()"
   ]
  },
  {
   "cell_type": "code",
   "execution_count": 25,
   "id": "cabb64dc",
   "metadata": {
    "execution": {
     "iopub.execute_input": "2023-06-22T09:54:58.899576Z",
     "iopub.status.busy": "2023-06-22T09:54:58.899123Z",
     "iopub.status.idle": "2023-06-22T09:54:58.905386Z",
     "shell.execute_reply": "2023-06-22T09:54:58.904596Z"
    },
    "papermill": {
     "duration": 0.027031,
     "end_time": "2023-06-22T09:54:58.907667",
     "exception": false,
     "start_time": "2023-06-22T09:54:58.880636",
     "status": "completed"
    },
    "tags": []
   },
   "outputs": [
    {
     "data": {
      "text/plain": [
       "(34370, 2)"
      ]
     },
     "execution_count": 25,
     "metadata": {},
     "output_type": "execute_result"
    }
   ],
   "source": [
    "output.shape"
   ]
  },
  {
   "cell_type": "code",
   "execution_count": 26,
   "id": "ba706379",
   "metadata": {
    "execution": {
     "iopub.execute_input": "2023-06-22T09:54:58.944629Z",
     "iopub.status.busy": "2023-06-22T09:54:58.943915Z",
     "iopub.status.idle": "2023-06-22T09:54:58.970745Z",
     "shell.execute_reply": "2023-06-22T09:54:58.969351Z"
    },
    "papermill": {
     "duration": 0.048391,
     "end_time": "2023-06-22T09:54:58.973496",
     "exception": false,
     "start_time": "2023-06-22T09:54:58.925105",
     "status": "completed"
    },
    "tags": []
   },
   "outputs": [],
   "source": [
    "sample=pd.read_csv('/kaggle/input/mltiverse-join-comp/MLtiVerse/sample_submission.csv')"
   ]
  },
  {
   "cell_type": "code",
   "execution_count": 27,
   "id": "2a20f99a",
   "metadata": {
    "execution": {
     "iopub.execute_input": "2023-06-22T09:54:59.010610Z",
     "iopub.status.busy": "2023-06-22T09:54:59.009518Z",
     "iopub.status.idle": "2023-06-22T09:54:59.015753Z",
     "shell.execute_reply": "2023-06-22T09:54:59.014847Z"
    },
    "papermill": {
     "duration": 0.027031,
     "end_time": "2023-06-22T09:54:59.017915",
     "exception": false,
     "start_time": "2023-06-22T09:54:58.990884",
     "status": "completed"
    },
    "tags": []
   },
   "outputs": [
    {
     "data": {
      "text/plain": [
       "(16710, 2)"
      ]
     },
     "execution_count": 27,
     "metadata": {},
     "output_type": "execute_result"
    }
   ],
   "source": [
    "sample.shape"
   ]
  },
  {
   "cell_type": "code",
   "execution_count": 28,
   "id": "3f0140ae",
   "metadata": {
    "execution": {
     "iopub.execute_input": "2023-06-22T09:54:59.054674Z",
     "iopub.status.busy": "2023-06-22T09:54:59.054057Z",
     "iopub.status.idle": "2023-06-22T09:54:59.059449Z",
     "shell.execute_reply": "2023-06-22T09:54:59.058625Z"
    },
    "papermill": {
     "duration": 0.02641,
     "end_time": "2023-06-22T09:54:59.061611",
     "exception": false,
     "start_time": "2023-06-22T09:54:59.035201",
     "status": "completed"
    },
    "tags": []
   },
   "outputs": [
    {
     "data": {
      "text/plain": [
       "(34370, 2)"
      ]
     },
     "execution_count": 28,
     "metadata": {},
     "output_type": "execute_result"
    }
   ],
   "source": [
    "output.shape"
   ]
  },
  {
   "cell_type": "code",
   "execution_count": 29,
   "id": "b3b28b2d",
   "metadata": {
    "execution": {
     "iopub.execute_input": "2023-06-22T09:54:59.098785Z",
     "iopub.status.busy": "2023-06-22T09:54:59.098304Z",
     "iopub.status.idle": "2023-06-22T09:54:59.105199Z",
     "shell.execute_reply": "2023-06-22T09:54:59.104063Z"
    },
    "papermill": {
     "duration": 0.028692,
     "end_time": "2023-06-22T09:54:59.107706",
     "exception": false,
     "start_time": "2023-06-22T09:54:59.079014",
     "status": "completed"
    },
    "tags": []
   },
   "outputs": [
    {
     "data": {
      "text/plain": [
       "dtype('O')"
      ]
     },
     "execution_count": 29,
     "metadata": {},
     "output_type": "execute_result"
    }
   ],
   "source": [
    "sample['Photo'].dtype"
   ]
  },
  {
   "cell_type": "code",
   "execution_count": 30,
   "id": "6612c76a",
   "metadata": {
    "execution": {
     "iopub.execute_input": "2023-06-22T09:54:59.146273Z",
     "iopub.status.busy": "2023-06-22T09:54:59.145794Z",
     "iopub.status.idle": "2023-06-22T09:54:59.152494Z",
     "shell.execute_reply": "2023-06-22T09:54:59.151401Z"
    },
    "papermill": {
     "duration": 0.029672,
     "end_time": "2023-06-22T09:54:59.155052",
     "exception": false,
     "start_time": "2023-06-22T09:54:59.125380",
     "status": "completed"
    },
    "tags": []
   },
   "outputs": [
    {
     "data": {
      "text/plain": [
       "dtype('O')"
      ]
     },
     "execution_count": 30,
     "metadata": {},
     "output_type": "execute_result"
    }
   ],
   "source": [
    "output['Photo'].dtype"
   ]
  },
  {
   "cell_type": "code",
   "execution_count": 31,
   "id": "048e0fdf",
   "metadata": {
    "execution": {
     "iopub.execute_input": "2023-06-22T09:54:59.193704Z",
     "iopub.status.busy": "2023-06-22T09:54:59.192878Z",
     "iopub.status.idle": "2023-06-22T09:54:59.210456Z",
     "shell.execute_reply": "2023-06-22T09:54:59.209120Z"
    },
    "papermill": {
     "duration": 0.040007,
     "end_time": "2023-06-22T09:54:59.213135",
     "exception": false,
     "start_time": "2023-06-22T09:54:59.173128",
     "status": "completed"
    },
    "tags": []
   },
   "outputs": [
    {
     "name": "stdout",
     "output_type": "stream",
     "text": [
      "True\n"
     ]
    }
   ],
   "source": [
    "# Check if all elements of sample['Photo'] are located in output['Photo']\n",
    "all_in_output = sample['Photo'].isin(output['Photo']).all()\n",
    "\n",
    "# Print the result\n",
    "print(all_in_output)\n"
   ]
  },
  {
   "cell_type": "code",
   "execution_count": 32,
   "id": "47e37176",
   "metadata": {
    "execution": {
     "iopub.execute_input": "2023-06-22T09:54:59.251429Z",
     "iopub.status.busy": "2023-06-22T09:54:59.250644Z",
     "iopub.status.idle": "2023-06-22T09:54:59.263777Z",
     "shell.execute_reply": "2023-06-22T09:54:59.262767Z"
    },
    "papermill": {
     "duration": 0.035418,
     "end_time": "2023-06-22T09:54:59.266575",
     "exception": false,
     "start_time": "2023-06-22T09:54:59.231157",
     "status": "completed"
    },
    "tags": []
   },
   "outputs": [],
   "source": [
    "mask = output['Photo'].isin(sample['Photo'])\n",
    "\n",
    "# Select the rows with matching 'Photo' values\n",
    "selected_rows = output[mask]"
   ]
  },
  {
   "cell_type": "code",
   "execution_count": 33,
   "id": "03c81436",
   "metadata": {
    "execution": {
     "iopub.execute_input": "2023-06-22T09:54:59.304630Z",
     "iopub.status.busy": "2023-06-22T09:54:59.304171Z",
     "iopub.status.idle": "2023-06-22T09:54:59.311757Z",
     "shell.execute_reply": "2023-06-22T09:54:59.310553Z"
    },
    "papermill": {
     "duration": 0.029076,
     "end_time": "2023-06-22T09:54:59.313980",
     "exception": false,
     "start_time": "2023-06-22T09:54:59.284904",
     "status": "completed"
    },
    "tags": []
   },
   "outputs": [
    {
     "data": {
      "text/plain": [
       "(16710, 2)"
      ]
     },
     "execution_count": 33,
     "metadata": {},
     "output_type": "execute_result"
    }
   ],
   "source": [
    "selected_rows.shape"
   ]
  },
  {
   "cell_type": "code",
   "execution_count": 34,
   "id": "d90c2833",
   "metadata": {
    "execution": {
     "iopub.execute_input": "2023-06-22T09:54:59.352231Z",
     "iopub.status.busy": "2023-06-22T09:54:59.351621Z",
     "iopub.status.idle": "2023-06-22T09:54:59.466804Z",
     "shell.execute_reply": "2023-06-22T09:54:59.465656Z"
    },
    "papermill": {
     "duration": 0.137195,
     "end_time": "2023-06-22T09:54:59.469229",
     "exception": false,
     "start_time": "2023-06-22T09:54:59.332034",
     "status": "completed"
    },
    "tags": []
   },
   "outputs": [
    {
     "name": "stdout",
     "output_type": "stream",
     "text": [
      "Submission saved successfully\n"
     ]
    }
   ],
   "source": [
    "selected_rows.to_csv('submissions.csv')\n",
    "print(\"Submission saved successfully\")"
   ]
  },
  {
   "cell_type": "code",
   "execution_count": null,
   "id": "f0a4a443",
   "metadata": {
    "papermill": {
     "duration": 0.017984,
     "end_time": "2023-06-22T09:54:59.505380",
     "exception": false,
     "start_time": "2023-06-22T09:54:59.487396",
     "status": "completed"
    },
    "tags": []
   },
   "outputs": [],
   "source": []
  }
 ],
 "metadata": {
  "kernelspec": {
   "display_name": "Python 3",
   "language": "python",
   "name": "python3"
  },
  "language_info": {
   "codemirror_mode": {
    "name": "ipython",
    "version": 3
   },
   "file_extension": ".py",
   "mimetype": "text/x-python",
   "name": "python",
   "nbconvert_exporter": "python",
   "pygments_lexer": "ipython3",
   "version": "3.10.10"
  },
  "papermill": {
   "default_parameters": {},
   "duration": 24.211924,
   "end_time": "2023-06-22T09:55:00.548262",
   "environment_variables": {},
   "exception": null,
   "input_path": "__notebook__.ipynb",
   "output_path": "__notebook__.ipynb",
   "parameters": {},
   "start_time": "2023-06-22T09:54:36.336338",
   "version": "2.4.0"
  }
 },
 "nbformat": 4,
 "nbformat_minor": 5
}
