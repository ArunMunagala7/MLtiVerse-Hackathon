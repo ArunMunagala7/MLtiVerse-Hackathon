{
 "cells": [
  {
   "cell_type": "code",
   "execution_count": 1,
   "id": "1cef21a7",
   "metadata": {
    "_cell_guid": "b1076dfc-b9ad-4769-8c92-a6c4dae69d19",
    "_uuid": "8f2839f25d086af736a60e9eeb907d3b93b6e0e5",
    "execution": {
     "iopub.execute_input": "2023-06-22T06:45:52.017163Z",
     "iopub.status.busy": "2023-06-22T06:45:52.016843Z",
     "iopub.status.idle": "2023-06-22T06:45:52.047574Z",
     "shell.execute_reply": "2023-06-22T06:45:52.045987Z"
    },
    "papermill": {
     "duration": 0.038953,
     "end_time": "2023-06-22T06:45:52.049700",
     "exception": false,
     "start_time": "2023-06-22T06:45:52.010747",
     "status": "completed"
    },
    "tags": []
   },
   "outputs": [
    {
     "name": "stdout",
     "output_type": "stream",
     "text": [
      "/kaggle/input/mltiverse-join-comp/MLtiVerse/sample_submission.csv\n",
      "/kaggle/input/mltiverse-join-comp/MLtiVerse/train.csv\n",
      "/kaggle/input/mltiverse-join-comp/MLtiVerse/test.csv\n"
     ]
    }
   ],
   "source": [
    "# This Python 3 environment comes with many helpful analytics libraries installed\n",
    "# It is defined by the kaggle/python Docker image: https://github.com/kaggle/docker-python\n",
    "# For example, here's several helpful packages to load\n",
    "\n",
    "import numpy as np # linear algebra\n",
    "import pandas as pd # data processing, CSV file I/O (e.g. pd.read_csv)\n",
    "\n",
    "# Input data files are available in the read-only \"../input/\" directory\n",
    "# For example, running this (by clicking run or pressing Shift+Enter) will list all files under the input directory\n",
    "\n",
    "import os\n",
    "for dirname, _, filenames in os.walk('/kaggle/input'):\n",
    "    for filename in filenames:\n",
    "        print(os.path.join(dirname, filename))\n",
    "\n",
    "# You can write up to 20GB to the current directory (/kaggle/working/) that gets preserved as output when you create a version using \"Save & Run All\" \n",
    "# You can also write temporary files to /kaggle/temp/, but they won't be saved outside of the current session"
   ]
  },
  {
   "cell_type": "markdown",
   "id": "fcffe7d6",
   "metadata": {
    "papermill": {
     "duration": 0.004023,
     "end_time": "2023-06-22T06:45:52.058100",
     "exception": false,
     "start_time": "2023-06-22T06:45:52.054077",
     "status": "completed"
    },
    "tags": []
   },
   "source": [
    "importing the data needed for hackathon"
   ]
  },
  {
   "cell_type": "code",
   "execution_count": 2,
   "id": "767c0cd8",
   "metadata": {
    "execution": {
     "iopub.execute_input": "2023-06-22T06:45:52.067597Z",
     "iopub.status.busy": "2023-06-22T06:45:52.067307Z",
     "iopub.status.idle": "2023-06-22T06:45:53.735258Z",
     "shell.execute_reply": "2023-06-22T06:45:53.734191Z"
    },
    "papermill": {
     "duration": 1.675131,
     "end_time": "2023-06-22T06:45:53.737280",
     "exception": false,
     "start_time": "2023-06-22T06:45:52.062149",
     "status": "completed"
    },
    "tags": []
   },
   "outputs": [
    {
     "name": "stderr",
     "output_type": "stream",
     "text": [
      "/tmp/ipykernel_20/1580012756.py:2: DtypeWarning: Columns (61,62) have mixed types. Specify dtype option on import or set low_memory=False.\n",
      "  test_data=pd.read_csv('/kaggle/input/mltiverse-join-comp/MLtiVerse/test.csv')\n"
     ]
    }
   ],
   "source": [
    "train_data=pd.read_csv('/kaggle/input/mltiverse-join-comp/MLtiVerse/train.csv')\n",
    "test_data=pd.read_csv('/kaggle/input/mltiverse-join-comp/MLtiVerse/test.csv')\n",
    "sub_data=pd.read_csv('/kaggle/input/mltiverse-join-comp/MLtiVerse/sample_submission.csv')"
   ]
  },
  {
   "cell_type": "markdown",
   "id": "f1e69c7c",
   "metadata": {
    "papermill": {
     "duration": 0.004793,
     "end_time": "2023-06-22T06:45:53.746678",
     "exception": false,
     "start_time": "2023-06-22T06:45:53.741885",
     "status": "completed"
    },
    "tags": []
   },
   "source": [
    "viewing the id column"
   ]
  },
  {
   "cell_type": "code",
   "execution_count": 3,
   "id": "f2dcfb22",
   "metadata": {
    "execution": {
     "iopub.execute_input": "2023-06-22T06:45:53.757388Z",
     "iopub.status.busy": "2023-06-22T06:45:53.757019Z",
     "iopub.status.idle": "2023-06-22T06:45:53.767664Z",
     "shell.execute_reply": "2023-06-22T06:45:53.767088Z"
    },
    "papermill": {
     "duration": 0.018125,
     "end_time": "2023-06-22T06:45:53.769339",
     "exception": false,
     "start_time": "2023-06-22T06:45:53.751214",
     "status": "completed"
    },
    "tags": []
   },
   "outputs": [
    {
     "data": {
      "text/plain": [
       "0    https://cdn.sofifa.com/players/195/427/17_60.png\n",
       "1    https://cdn.sofifa.com/players/203/539/17_60.png\n",
       "2    https://cdn.sofifa.com/players/232/898/20_60.png\n",
       "3    https://cdn.sofifa.com/players/215/502/17_60.png\n",
       "4    https://cdn.sofifa.com/players/222/263/18_60.png\n",
       "Name: Photo, dtype: object"
      ]
     },
     "execution_count": 3,
     "metadata": {},
     "output_type": "execute_result"
    }
   ],
   "source": [
    "train_data['Photo'].head()"
   ]
  },
  {
   "cell_type": "markdown",
   "id": "9042e3ea",
   "metadata": {
    "papermill": {
     "duration": 0.004036,
     "end_time": "2023-06-22T06:45:53.779167",
     "exception": false,
     "start_time": "2023-06-22T06:45:53.775131",
     "status": "completed"
    },
    "tags": []
   },
   "source": [
    "going to start with a very basic xgboost submission selecting what i think are some important columns"
   ]
  },
  {
   "cell_type": "markdown",
   "id": "6dcf1405",
   "metadata": {
    "papermill": {
     "duration": 0.004022,
     "end_time": "2023-06-22T06:45:53.787396",
     "exception": false,
     "start_time": "2023-06-22T06:45:53.783374",
     "status": "completed"
    },
    "tags": []
   },
   "source": [
    "importing xgboost model"
   ]
  },
  {
   "cell_type": "code",
   "execution_count": 4,
   "id": "3468e817",
   "metadata": {
    "execution": {
     "iopub.execute_input": "2023-06-22T06:45:53.797321Z",
     "iopub.status.busy": "2023-06-22T06:45:53.796596Z",
     "iopub.status.idle": "2023-06-22T06:45:55.100804Z",
     "shell.execute_reply": "2023-06-22T06:45:55.099836Z"
    },
    "papermill": {
     "duration": 1.311447,
     "end_time": "2023-06-22T06:45:55.103041",
     "exception": false,
     "start_time": "2023-06-22T06:45:53.791594",
     "status": "completed"
    },
    "tags": []
   },
   "outputs": [],
   "source": [
    "from xgboost import XGBRegressor\n",
    "model=XGBRegressor()"
   ]
  },
  {
   "cell_type": "markdown",
   "id": "847781d7",
   "metadata": {
    "papermill": {
     "duration": 0.004322,
     "end_time": "2023-06-22T06:45:55.112571",
     "exception": false,
     "start_time": "2023-06-22T06:45:55.108249",
     "status": "completed"
    },
    "tags": []
   },
   "source": [
    "checking which columns are available for modelling"
   ]
  },
  {
   "cell_type": "code",
   "execution_count": 5,
   "id": "71717a55",
   "metadata": {
    "execution": {
     "iopub.execute_input": "2023-06-22T06:45:55.123693Z",
     "iopub.status.busy": "2023-06-22T06:45:55.122618Z",
     "iopub.status.idle": "2023-06-22T06:45:55.129015Z",
     "shell.execute_reply": "2023-06-22T06:45:55.128038Z"
    },
    "papermill": {
     "duration": 0.014258,
     "end_time": "2023-06-22T06:45:55.131225",
     "exception": false,
     "start_time": "2023-06-22T06:45:55.116967",
     "status": "completed"
    },
    "tags": []
   },
   "outputs": [
    {
     "data": {
      "text/plain": [
       "Index(['Unnamed: 0', 'ID', 'Name', 'Age', 'Photo', 'Nationality', 'Flag',\n",
       "       'Overall', 'Potential', 'Club', 'Club Logo', 'Value', 'Wage', 'Special',\n",
       "       'Preferred Foot', 'International Reputation', 'Weak Foot',\n",
       "       'Skill Moves', 'Work Rate', 'Body Type', 'Real Face', 'Position',\n",
       "       'Jersey Number', 'Joined', 'Loaned From', 'Contract Valid Until',\n",
       "       'Height', 'Weight', 'Crossing', 'Finishing', 'HeadingAccuracy',\n",
       "       'ShortPassing', 'Volleys', 'Dribbling', 'Curve', 'FKAccuracy',\n",
       "       'LongPassing', 'BallControl', 'Acceleration', 'SprintSpeed', 'Agility',\n",
       "       'Reactions', 'Balance', 'ShotPower', 'Jumping', 'Stamina', 'Strength',\n",
       "       'LongShots', 'Aggression', 'Interceptions', 'Positioning', 'Vision',\n",
       "       'Penalties', 'Composure', 'Marking', 'StandingTackle', 'SlidingTackle',\n",
       "       'GKDiving', 'GKHandling', 'GKKicking', 'GKPositioning', 'GKReflexes',\n",
       "       'Best Position', 'Best Overall Rating', 'year', 'Release Clause',\n",
       "       'DefensiveAwareness'],\n",
       "      dtype='object')"
      ]
     },
     "execution_count": 5,
     "metadata": {},
     "output_type": "execute_result"
    }
   ],
   "source": [
    "train_data.columns"
   ]
  },
  {
   "cell_type": "code",
   "execution_count": 6,
   "id": "18ca0883",
   "metadata": {
    "execution": {
     "iopub.execute_input": "2023-06-22T06:45:55.141894Z",
     "iopub.status.busy": "2023-06-22T06:45:55.141574Z",
     "iopub.status.idle": "2023-06-22T06:45:55.151397Z",
     "shell.execute_reply": "2023-06-22T06:45:55.150755Z"
    },
    "papermill": {
     "duration": 0.01727,
     "end_time": "2023-06-22T06:45:55.153260",
     "exception": false,
     "start_time": "2023-06-22T06:45:55.135990",
     "status": "completed"
    },
    "tags": []
   },
   "outputs": [
    {
     "data": {
      "text/plain": [
       "25095"
      ]
     },
     "execution_count": 6,
     "metadata": {},
     "output_type": "execute_result"
    }
   ],
   "source": [
    "train_data['Release Clause'].isna().sum()"
   ]
  },
  {
   "cell_type": "code",
   "execution_count": 7,
   "id": "cc33c791",
   "metadata": {
    "execution": {
     "iopub.execute_input": "2023-06-22T06:45:55.164330Z",
     "iopub.status.busy": "2023-06-22T06:45:55.163687Z",
     "iopub.status.idle": "2023-06-22T06:45:55.169423Z",
     "shell.execute_reply": "2023-06-22T06:45:55.168878Z"
    },
    "papermill": {
     "duration": 0.012998,
     "end_time": "2023-06-22T06:45:55.171220",
     "exception": false,
     "start_time": "2023-06-22T06:45:55.158222",
     "status": "completed"
    },
    "tags": []
   },
   "outputs": [
    {
     "data": {
      "text/plain": [
       "0    68\n",
       "1    58\n",
       "2    76\n",
       "3    86\n",
       "4    75\n",
       "Name: Potential, dtype: int64"
      ]
     },
     "execution_count": 7,
     "metadata": {},
     "output_type": "execute_result"
    }
   ],
   "source": [
    "train_data['Potential'].head()"
   ]
  },
  {
   "cell_type": "code",
   "execution_count": 8,
   "id": "22fa6fef",
   "metadata": {
    "execution": {
     "iopub.execute_input": "2023-06-22T06:45:55.182256Z",
     "iopub.status.busy": "2023-06-22T06:45:55.181575Z",
     "iopub.status.idle": "2023-06-22T06:45:55.187329Z",
     "shell.execute_reply": "2023-06-22T06:45:55.186539Z"
    },
    "papermill": {
     "duration": 0.012869,
     "end_time": "2023-06-22T06:45:55.189089",
     "exception": false,
     "start_time": "2023-06-22T06:45:55.176220",
     "status": "completed"
    },
    "tags": []
   },
   "outputs": [
    {
     "data": {
      "text/plain": [
       "Index(['Unnamed: 0', 'ID', 'Name', 'Age', 'Photo', 'Nationality', 'Flag',\n",
       "       'Overall', 'Potential', 'Club', 'Club Logo', 'Value', 'Wage', 'Special',\n",
       "       'Preferred Foot', 'International Reputation', 'Weak Foot',\n",
       "       'Skill Moves', 'Work Rate', 'Body Type', 'Real Face', 'Position',\n",
       "       'Jersey Number', 'Joined', 'Loaned From', 'Contract Valid Until',\n",
       "       'Height', 'Weight', 'Crossing', 'Finishing', 'HeadingAccuracy',\n",
       "       'ShortPassing', 'Volleys', 'Dribbling', 'Curve', 'FKAccuracy',\n",
       "       'LongPassing', 'BallControl', 'Acceleration', 'SprintSpeed', 'Agility',\n",
       "       'Reactions', 'Balance', 'ShotPower', 'Jumping', 'Stamina', 'Strength',\n",
       "       'LongShots', 'Aggression', 'Interceptions', 'Positioning', 'Vision',\n",
       "       'Penalties', 'Composure', 'Marking', 'StandingTackle', 'SlidingTackle',\n",
       "       'GKDiving', 'GKHandling', 'GKKicking', 'GKPositioning', 'GKReflexes',\n",
       "       'Best Position', 'Best Overall Rating', 'year', 'Release Clause',\n",
       "       'DefensiveAwareness'],\n",
       "      dtype='object')"
      ]
     },
     "execution_count": 8,
     "metadata": {},
     "output_type": "execute_result"
    }
   ],
   "source": [
    "train_data.columns"
   ]
  },
  {
   "cell_type": "markdown",
   "id": "49ac5ebd",
   "metadata": {
    "papermill": {
     "duration": 0.00458,
     "end_time": "2023-06-22T06:45:55.198311",
     "exception": false,
     "start_time": "2023-06-22T06:45:55.193731",
     "status": "completed"
    },
    "tags": []
   },
   "source": [
    "manually selecting some important features in the dataset for modelling"
   ]
  },
  {
   "cell_type": "code",
   "execution_count": 9,
   "id": "63524f21",
   "metadata": {
    "execution": {
     "iopub.execute_input": "2023-06-22T06:45:55.209451Z",
     "iopub.status.busy": "2023-06-22T06:45:55.208820Z",
     "iopub.status.idle": "2023-06-22T06:45:55.220764Z",
     "shell.execute_reply": "2023-06-22T06:45:55.220093Z"
    },
    "papermill": {
     "duration": 0.019816,
     "end_time": "2023-06-22T06:45:55.222725",
     "exception": false,
     "start_time": "2023-06-22T06:45:55.202909",
     "status": "completed"
    },
    "tags": []
   },
   "outputs": [],
   "source": [
    "train_1=train_data[['Potential','Overall','Wage','International Reputation','Age','year']]"
   ]
  },
  {
   "cell_type": "code",
   "execution_count": 10,
   "id": "e82d428b",
   "metadata": {
    "execution": {
     "iopub.execute_input": "2023-06-22T06:45:55.234441Z",
     "iopub.status.busy": "2023-06-22T06:45:55.233903Z",
     "iopub.status.idle": "2023-06-22T06:45:55.239373Z",
     "shell.execute_reply": "2023-06-22T06:45:55.238815Z"
    },
    "papermill": {
     "duration": 0.013119,
     "end_time": "2023-06-22T06:45:55.241027",
     "exception": false,
     "start_time": "2023-06-22T06:45:55.227908",
     "status": "completed"
    },
    "tags": []
   },
   "outputs": [
    {
     "data": {
      "text/plain": [
       "0     €2K\n",
       "1    €500\n",
       "2     €7K\n",
       "3    €10K\n",
       "4     €2K\n",
       "Name: Wage, dtype: object"
      ]
     },
     "execution_count": 10,
     "metadata": {},
     "output_type": "execute_result"
    }
   ],
   "source": [
    "train_1['Wage'].head()"
   ]
  },
  {
   "cell_type": "markdown",
   "id": "6c03156d",
   "metadata": {
    "papermill": {
     "duration": 0.004884,
     "end_time": "2023-06-22T06:45:55.251777",
     "exception": false,
     "start_time": "2023-06-22T06:45:55.246893",
     "status": "completed"
    },
    "tags": []
   },
   "source": [
    "making some changes to the wage column"
   ]
  },
  {
   "cell_type": "code",
   "execution_count": 11,
   "id": "03b8aded",
   "metadata": {
    "execution": {
     "iopub.execute_input": "2023-06-22T06:45:55.263404Z",
     "iopub.status.busy": "2023-06-22T06:45:55.262885Z",
     "iopub.status.idle": "2023-06-22T06:45:55.344697Z",
     "shell.execute_reply": "2023-06-22T06:45:55.344085Z"
    },
    "papermill": {
     "duration": 0.090184,
     "end_time": "2023-06-22T06:45:55.346989",
     "exception": false,
     "start_time": "2023-06-22T06:45:55.256805",
     "status": "completed"
    },
    "tags": []
   },
   "outputs": [
    {
     "name": "stderr",
     "output_type": "stream",
     "text": [
      "/tmp/ipykernel_20/2962417934.py:2: SettingWithCopyWarning: \n",
      "A value is trying to be set on a copy of a slice from a DataFrame.\n",
      "Try using .loc[row_indexer,col_indexer] = value instead\n",
      "\n",
      "See the caveats in the documentation: https://pandas.pydata.org/pandas-docs/stable/user_guide/indexing.html#returning-a-view-versus-a-copy\n",
      "  train_1['Wage'] = train_1['Wage'].str.replace('€', '')  # Remove euro symbol\n",
      "/tmp/ipykernel_20/2962417934.py:3: SettingWithCopyWarning: \n",
      "A value is trying to be set on a copy of a slice from a DataFrame.\n",
      "Try using .loc[row_indexer,col_indexer] = value instead\n",
      "\n",
      "See the caveats in the documentation: https://pandas.pydata.org/pandas-docs/stable/user_guide/indexing.html#returning-a-view-versus-a-copy\n",
      "  train_1['Wage'] = train_1['Wage'].str.replace('K', '').astype(float) * 1000  # Remove 'K' and multiply by 1000\n",
      "/tmp/ipykernel_20/2962417934.py:6: SettingWithCopyWarning: \n",
      "A value is trying to be set on a copy of a slice from a DataFrame.\n",
      "Try using .loc[row_indexer,col_indexer] = value instead\n",
      "\n",
      "See the caveats in the documentation: https://pandas.pydata.org/pandas-docs/stable/user_guide/indexing.html#returning-a-view-versus-a-copy\n",
      "  train_1['Wage'] = train_1['Wage'].astype(float)\n"
     ]
    }
   ],
   "source": [
    "# Remove euro symbol and 'K', and convert to float\n",
    "train_1['Wage'] = train_1['Wage'].str.replace('€', '')  # Remove euro symbol\n",
    "train_1['Wage'] = train_1['Wage'].str.replace('K', '').astype(float) * 1000  # Remove 'K' and multiply by 1000\n",
    "\n",
    "# Convert the column to float data type\n",
    "train_1['Wage'] = train_1['Wage'].astype(float)"
   ]
  },
  {
   "cell_type": "code",
   "execution_count": 12,
   "id": "0f07c87c",
   "metadata": {
    "execution": {
     "iopub.execute_input": "2023-06-22T06:45:55.359145Z",
     "iopub.status.busy": "2023-06-22T06:45:55.358391Z",
     "iopub.status.idle": "2023-06-22T06:45:55.365827Z",
     "shell.execute_reply": "2023-06-22T06:45:55.365039Z"
    },
    "papermill": {
     "duration": 0.015078,
     "end_time": "2023-06-22T06:45:55.367479",
     "exception": false,
     "start_time": "2023-06-22T06:45:55.352401",
     "status": "completed"
    },
    "tags": []
   },
   "outputs": [
    {
     "data": {
      "text/plain": [
       "0"
      ]
     },
     "execution_count": 12,
     "metadata": {},
     "output_type": "execute_result"
    }
   ],
   "source": [
    "train_1['Wage'].isna().sum()"
   ]
  },
  {
   "cell_type": "markdown",
   "id": "8fd9673e",
   "metadata": {
    "papermill": {
     "duration": 0.005209,
     "end_time": "2023-06-22T06:45:55.378180",
     "exception": false,
     "start_time": "2023-06-22T06:45:55.372971",
     "status": "completed"
    },
    "tags": []
   },
   "source": [
    "checking which data types are object"
   ]
  },
  {
   "cell_type": "code",
   "execution_count": 13,
   "id": "af01721a",
   "metadata": {
    "execution": {
     "iopub.execute_input": "2023-06-22T06:45:55.389629Z",
     "iopub.status.busy": "2023-06-22T06:45:55.389322Z",
     "iopub.status.idle": "2023-06-22T06:45:55.394181Z",
     "shell.execute_reply": "2023-06-22T06:45:55.393629Z"
    },
    "papermill": {
     "duration": 0.012564,
     "end_time": "2023-06-22T06:45:55.395869",
     "exception": false,
     "start_time": "2023-06-22T06:45:55.383305",
     "status": "completed"
    },
    "tags": []
   },
   "outputs": [
    {
     "data": {
      "text/plain": [
       "Index([], dtype='object')"
      ]
     },
     "execution_count": 13,
     "metadata": {},
     "output_type": "execute_result"
    }
   ],
   "source": [
    "object_columns = train_1.select_dtypes(include='object').columns\n",
    "object_columns"
   ]
  },
  {
   "cell_type": "code",
   "execution_count": null,
   "id": "c9372d3a",
   "metadata": {
    "papermill": {
     "duration": 0.004967,
     "end_time": "2023-06-22T06:45:55.406806",
     "exception": false,
     "start_time": "2023-06-22T06:45:55.401839",
     "status": "completed"
    },
    "tags": []
   },
   "outputs": [],
   "source": []
  }
 ],
 "metadata": {
  "kernelspec": {
   "display_name": "Python 3",
   "language": "python",
   "name": "python3"
  },
  "language_info": {
   "codemirror_mode": {
    "name": "ipython",
    "version": 3
   },
   "file_extension": ".py",
   "mimetype": "text/x-python",
   "name": "python",
   "nbconvert_exporter": "python",
   "pygments_lexer": "ipython3",
   "version": "3.10.10"
  },
  "papermill": {
   "default_parameters": {},
   "duration": 12.385834,
   "end_time": "2023-06-22T06:45:56.231588",
   "environment_variables": {},
   "exception": null,
   "input_path": "__notebook__.ipynb",
   "output_path": "__notebook__.ipynb",
   "parameters": {},
   "start_time": "2023-06-22T06:45:43.845754",
   "version": "2.4.0"
  }
 },
 "nbformat": 4,
 "nbformat_minor": 5
}
