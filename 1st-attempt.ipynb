{
 "cells": [
  {
   "cell_type": "code",
   "execution_count": 1,
   "id": "aa0c4dc1",
   "metadata": {
    "_cell_guid": "b1076dfc-b9ad-4769-8c92-a6c4dae69d19",
    "_uuid": "8f2839f25d086af736a60e9eeb907d3b93b6e0e5",
    "execution": {
     "iopub.execute_input": "2023-06-22T09:58:34.252854Z",
     "iopub.status.busy": "2023-06-22T09:58:34.252482Z",
     "iopub.status.idle": "2023-06-22T09:58:34.267708Z",
     "shell.execute_reply": "2023-06-22T09:58:34.266696Z"
    },
    "papermill": {
     "duration": 0.028801,
     "end_time": "2023-06-22T09:58:34.269793",
     "exception": false,
     "start_time": "2023-06-22T09:58:34.240992",
     "status": "completed"
    },
    "tags": []
   },
   "outputs": [
    {
     "name": "stdout",
     "output_type": "stream",
     "text": [
      "/kaggle/input/mltiverse-join-comp/MLtiVerse/sample_submission.csv\n",
      "/kaggle/input/mltiverse-join-comp/MLtiVerse/train.csv\n",
      "/kaggle/input/mltiverse-join-comp/MLtiVerse/test.csv\n"
     ]
    }
   ],
   "source": [
    "# This Python 3 environment comes with many helpful analytics libraries installed\n",
    "# It is defined by the kaggle/python Docker image: https://github.com/kaggle/docker-python\n",
    "# For example, here's several helpful packages to load\n",
    "\n",
    "import numpy as np # linear algebra\n",
    "import pandas as pd # data processing, CSV file I/O (e.g. pd.read_csv)\n",
    "\n",
    "# Input data files are available in the read-only \"../input/\" directory\n",
    "# For example, running this (by clicking run or pressing Shift+Enter) will list all files under the input directory\n",
    "\n",
    "import os\n",
    "for dirname, _, filenames in os.walk('/kaggle/input'):\n",
    "    for filename in filenames:\n",
    "        print(os.path.join(dirname, filename))\n",
    "\n",
    "# You can write up to 20GB to the current directory (/kaggle/working/) that gets preserved as output when you create a version using \"Save & Run All\" \n",
    "# You can also write temporary files to /kaggle/temp/, but they won't be saved outside of the current session"
   ]
  },
  {
   "cell_type": "markdown",
   "id": "6167547d",
   "metadata": {
    "papermill": {
     "duration": 0.009342,
     "end_time": "2023-06-22T09:58:34.289172",
     "exception": false,
     "start_time": "2023-06-22T09:58:34.279830",
     "status": "completed"
    },
    "tags": []
   },
   "source": [
    "importing the data needed for hackathon"
   ]
  },
  {
   "cell_type": "code",
   "execution_count": 2,
   "id": "a9257a22",
   "metadata": {
    "execution": {
     "iopub.execute_input": "2023-06-22T09:58:34.310185Z",
     "iopub.status.busy": "2023-06-22T09:58:34.309540Z",
     "iopub.status.idle": "2023-06-22T09:58:36.530383Z",
     "shell.execute_reply": "2023-06-22T09:58:36.529351Z"
    },
    "papermill": {
     "duration": 2.234147,
     "end_time": "2023-06-22T09:58:36.532993",
     "exception": false,
     "start_time": "2023-06-22T09:58:34.298846",
     "status": "completed"
    },
    "tags": []
   },
   "outputs": [
    {
     "name": "stderr",
     "output_type": "stream",
     "text": [
      "/tmp/ipykernel_20/1580012756.py:2: DtypeWarning: Columns (61,62) have mixed types. Specify dtype option on import or set low_memory=False.\n",
      "  test_data=pd.read_csv('/kaggle/input/mltiverse-join-comp/MLtiVerse/test.csv')\n"
     ]
    }
   ],
   "source": [
    "train_data=pd.read_csv('/kaggle/input/mltiverse-join-comp/MLtiVerse/train.csv')\n",
    "test_data=pd.read_csv('/kaggle/input/mltiverse-join-comp/MLtiVerse/test.csv')\n",
    "sub_data=pd.read_csv('/kaggle/input/mltiverse-join-comp/MLtiVerse/sample_submission.csv')"
   ]
  },
  {
   "cell_type": "markdown",
   "id": "a497e870",
   "metadata": {
    "papermill": {
     "duration": 0.009544,
     "end_time": "2023-06-22T09:58:36.552835",
     "exception": false,
     "start_time": "2023-06-22T09:58:36.543291",
     "status": "completed"
    },
    "tags": []
   },
   "source": [
    "viewing the id column"
   ]
  },
  {
   "cell_type": "code",
   "execution_count": 3,
   "id": "b46db3a6",
   "metadata": {
    "execution": {
     "iopub.execute_input": "2023-06-22T09:58:36.574545Z",
     "iopub.status.busy": "2023-06-22T09:58:36.573918Z",
     "iopub.status.idle": "2023-06-22T09:58:36.584847Z",
     "shell.execute_reply": "2023-06-22T09:58:36.583806Z"
    },
    "papermill": {
     "duration": 0.024139,
     "end_time": "2023-06-22T09:58:36.586838",
     "exception": false,
     "start_time": "2023-06-22T09:58:36.562699",
     "status": "completed"
    },
    "tags": []
   },
   "outputs": [
    {
     "data": {
      "text/plain": [
       "0    https://cdn.sofifa.com/players/195/427/17_60.png\n",
       "1    https://cdn.sofifa.com/players/203/539/17_60.png\n",
       "2    https://cdn.sofifa.com/players/232/898/20_60.png\n",
       "3    https://cdn.sofifa.com/players/215/502/17_60.png\n",
       "4    https://cdn.sofifa.com/players/222/263/18_60.png\n",
       "Name: Photo, dtype: object"
      ]
     },
     "execution_count": 3,
     "metadata": {},
     "output_type": "execute_result"
    }
   ],
   "source": [
    "train_data['Photo'].head()"
   ]
  },
  {
   "cell_type": "markdown",
   "id": "c16d79ab",
   "metadata": {
    "papermill": {
     "duration": 0.009807,
     "end_time": "2023-06-22T09:58:36.606619",
     "exception": false,
     "start_time": "2023-06-22T09:58:36.596812",
     "status": "completed"
    },
    "tags": []
   },
   "source": [
    "going to start with a very basic xgboost submission selecting what i think are some important columns"
   ]
  },
  {
   "cell_type": "markdown",
   "id": "3bf7040e",
   "metadata": {
    "papermill": {
     "duration": 0.009922,
     "end_time": "2023-06-22T09:58:36.626419",
     "exception": false,
     "start_time": "2023-06-22T09:58:36.616497",
     "status": "completed"
    },
    "tags": []
   },
   "source": [
    "changing the indexes of train and test"
   ]
  },
  {
   "cell_type": "code",
   "execution_count": 4,
   "id": "97c00eed",
   "metadata": {
    "execution": {
     "iopub.execute_input": "2023-06-22T09:58:36.650008Z",
     "iopub.status.busy": "2023-06-22T09:58:36.648929Z",
     "iopub.status.idle": "2023-06-22T09:58:36.652965Z",
     "shell.execute_reply": "2023-06-22T09:58:36.652269Z"
    },
    "papermill": {
     "duration": 0.017001,
     "end_time": "2023-06-22T09:58:36.654873",
     "exception": false,
     "start_time": "2023-06-22T09:58:36.637872",
     "status": "completed"
    },
    "tags": []
   },
   "outputs": [],
   "source": [
    "# Set the index column as 'Photo' in train_data\n",
    "#train_data.set_index('Photo', inplace=True)\n",
    "\n",
    "# Set the index column as 'Photo' in test_data\n",
    "#est_data.set_index('Photo', inplace=True)"
   ]
  },
  {
   "cell_type": "markdown",
   "id": "498e3934",
   "metadata": {
    "papermill": {
     "duration": 0.009717,
     "end_time": "2023-06-22T09:58:36.674592",
     "exception": false,
     "start_time": "2023-06-22T09:58:36.664875",
     "status": "completed"
    },
    "tags": []
   },
   "source": [
    "importing xgboost model"
   ]
  },
  {
   "cell_type": "code",
   "execution_count": 5,
   "id": "5c071635",
   "metadata": {
    "execution": {
     "iopub.execute_input": "2023-06-22T09:58:36.696268Z",
     "iopub.status.busy": "2023-06-22T09:58:36.695597Z",
     "iopub.status.idle": "2023-06-22T09:58:38.075525Z",
     "shell.execute_reply": "2023-06-22T09:58:38.074584Z"
    },
    "papermill": {
     "duration": 1.39348,
     "end_time": "2023-06-22T09:58:38.078104",
     "exception": false,
     "start_time": "2023-06-22T09:58:36.684624",
     "status": "completed"
    },
    "tags": []
   },
   "outputs": [],
   "source": [
    "from xgboost import XGBRegressor\n",
    "model=XGBRegressor()"
   ]
  },
  {
   "cell_type": "markdown",
   "id": "2397ab9c",
   "metadata": {
    "papermill": {
     "duration": 0.009669,
     "end_time": "2023-06-22T09:58:38.098008",
     "exception": false,
     "start_time": "2023-06-22T09:58:38.088339",
     "status": "completed"
    },
    "tags": []
   },
   "source": [
    "checking which columns are available for modelling"
   ]
  },
  {
   "cell_type": "code",
   "execution_count": 6,
   "id": "350a7e4b",
   "metadata": {
    "execution": {
     "iopub.execute_input": "2023-06-22T09:58:38.119515Z",
     "iopub.status.busy": "2023-06-22T09:58:38.119157Z",
     "iopub.status.idle": "2023-06-22T09:58:38.125751Z",
     "shell.execute_reply": "2023-06-22T09:58:38.124744Z"
    },
    "papermill": {
     "duration": 0.020079,
     "end_time": "2023-06-22T09:58:38.127925",
     "exception": false,
     "start_time": "2023-06-22T09:58:38.107846",
     "status": "completed"
    },
    "tags": []
   },
   "outputs": [
    {
     "data": {
      "text/plain": [
       "Index(['Unnamed: 0', 'ID', 'Name', 'Age', 'Photo', 'Nationality', 'Flag',\n",
       "       'Overall', 'Potential', 'Club', 'Club Logo', 'Value', 'Wage', 'Special',\n",
       "       'Preferred Foot', 'International Reputation', 'Weak Foot',\n",
       "       'Skill Moves', 'Work Rate', 'Body Type', 'Real Face', 'Position',\n",
       "       'Jersey Number', 'Joined', 'Loaned From', 'Contract Valid Until',\n",
       "       'Height', 'Weight', 'Crossing', 'Finishing', 'HeadingAccuracy',\n",
       "       'ShortPassing', 'Volleys', 'Dribbling', 'Curve', 'FKAccuracy',\n",
       "       'LongPassing', 'BallControl', 'Acceleration', 'SprintSpeed', 'Agility',\n",
       "       'Reactions', 'Balance', 'ShotPower', 'Jumping', 'Stamina', 'Strength',\n",
       "       'LongShots', 'Aggression', 'Interceptions', 'Positioning', 'Vision',\n",
       "       'Penalties', 'Composure', 'Marking', 'StandingTackle', 'SlidingTackle',\n",
       "       'GKDiving', 'GKHandling', 'GKKicking', 'GKPositioning', 'GKReflexes',\n",
       "       'Best Position', 'Best Overall Rating', 'year', 'Release Clause',\n",
       "       'DefensiveAwareness'],\n",
       "      dtype='object')"
      ]
     },
     "execution_count": 6,
     "metadata": {},
     "output_type": "execute_result"
    }
   ],
   "source": [
    "train_data.columns"
   ]
  },
  {
   "cell_type": "code",
   "execution_count": 7,
   "id": "f4dbcc2d",
   "metadata": {
    "execution": {
     "iopub.execute_input": "2023-06-22T09:58:38.149524Z",
     "iopub.status.busy": "2023-06-22T09:58:38.149155Z",
     "iopub.status.idle": "2023-06-22T09:58:38.161359Z",
     "shell.execute_reply": "2023-06-22T09:58:38.160303Z"
    },
    "papermill": {
     "duration": 0.02551,
     "end_time": "2023-06-22T09:58:38.163403",
     "exception": false,
     "start_time": "2023-06-22T09:58:38.137893",
     "status": "completed"
    },
    "tags": []
   },
   "outputs": [
    {
     "data": {
      "text/plain": [
       "25095"
      ]
     },
     "execution_count": 7,
     "metadata": {},
     "output_type": "execute_result"
    }
   ],
   "source": [
    "train_data['Release Clause'].isna().sum()"
   ]
  },
  {
   "cell_type": "code",
   "execution_count": 8,
   "id": "3e513495",
   "metadata": {
    "execution": {
     "iopub.execute_input": "2023-06-22T09:58:38.185244Z",
     "iopub.status.busy": "2023-06-22T09:58:38.184832Z",
     "iopub.status.idle": "2023-06-22T09:58:38.192582Z",
     "shell.execute_reply": "2023-06-22T09:58:38.191564Z"
    },
    "papermill": {
     "duration": 0.021173,
     "end_time": "2023-06-22T09:58:38.194745",
     "exception": false,
     "start_time": "2023-06-22T09:58:38.173572",
     "status": "completed"
    },
    "tags": []
   },
   "outputs": [
    {
     "data": {
      "text/plain": [
       "0    68\n",
       "1    58\n",
       "2    76\n",
       "3    86\n",
       "4    75\n",
       "Name: Potential, dtype: int64"
      ]
     },
     "execution_count": 8,
     "metadata": {},
     "output_type": "execute_result"
    }
   ],
   "source": [
    "train_data['Potential'].head()"
   ]
  },
  {
   "cell_type": "code",
   "execution_count": 9,
   "id": "f7513c74",
   "metadata": {
    "execution": {
     "iopub.execute_input": "2023-06-22T09:58:38.218753Z",
     "iopub.status.busy": "2023-06-22T09:58:38.218341Z",
     "iopub.status.idle": "2023-06-22T09:58:38.225510Z",
     "shell.execute_reply": "2023-06-22T09:58:38.224511Z"
    },
    "papermill": {
     "duration": 0.022263,
     "end_time": "2023-06-22T09:58:38.227502",
     "exception": false,
     "start_time": "2023-06-22T09:58:38.205239",
     "status": "completed"
    },
    "tags": []
   },
   "outputs": [
    {
     "data": {
      "text/plain": [
       "Index(['Unnamed: 0', 'ID', 'Name', 'Age', 'Photo', 'Nationality', 'Flag',\n",
       "       'Overall', 'Potential', 'Club', 'Club Logo', 'Value', 'Wage', 'Special',\n",
       "       'Preferred Foot', 'International Reputation', 'Weak Foot',\n",
       "       'Skill Moves', 'Work Rate', 'Body Type', 'Real Face', 'Position',\n",
       "       'Jersey Number', 'Joined', 'Loaned From', 'Contract Valid Until',\n",
       "       'Height', 'Weight', 'Crossing', 'Finishing', 'HeadingAccuracy',\n",
       "       'ShortPassing', 'Volleys', 'Dribbling', 'Curve', 'FKAccuracy',\n",
       "       'LongPassing', 'BallControl', 'Acceleration', 'SprintSpeed', 'Agility',\n",
       "       'Reactions', 'Balance', 'ShotPower', 'Jumping', 'Stamina', 'Strength',\n",
       "       'LongShots', 'Aggression', 'Interceptions', 'Positioning', 'Vision',\n",
       "       'Penalties', 'Composure', 'Marking', 'StandingTackle', 'SlidingTackle',\n",
       "       'GKDiving', 'GKHandling', 'GKKicking', 'GKPositioning', 'GKReflexes',\n",
       "       'Best Position', 'Best Overall Rating', 'year', 'Release Clause',\n",
       "       'DefensiveAwareness'],\n",
       "      dtype='object')"
      ]
     },
     "execution_count": 9,
     "metadata": {},
     "output_type": "execute_result"
    }
   ],
   "source": [
    "train_data.columns"
   ]
  },
  {
   "cell_type": "markdown",
   "id": "076e92c8",
   "metadata": {
    "papermill": {
     "duration": 0.010187,
     "end_time": "2023-06-22T09:58:38.248166",
     "exception": false,
     "start_time": "2023-06-22T09:58:38.237979",
     "status": "completed"
    },
    "tags": []
   },
   "source": [
    "manually selecting some important features in the dataset for modelling"
   ]
  },
  {
   "cell_type": "code",
   "execution_count": 10,
   "id": "b0fcf30f",
   "metadata": {
    "execution": {
     "iopub.execute_input": "2023-06-22T09:58:38.270372Z",
     "iopub.status.busy": "2023-06-22T09:58:38.269978Z",
     "iopub.status.idle": "2023-06-22T09:58:38.283873Z",
     "shell.execute_reply": "2023-06-22T09:58:38.282911Z"
    },
    "papermill": {
     "duration": 0.027479,
     "end_time": "2023-06-22T09:58:38.285954",
     "exception": false,
     "start_time": "2023-06-22T09:58:38.258475",
     "status": "completed"
    },
    "tags": []
   },
   "outputs": [],
   "source": [
    "train_1=train_data[['Potential','Overall','Wage','International Reputation','Age']]\n",
    "test_1=test_data[['Potential','Overall','Wage','International Reputation','Age']]"
   ]
  },
  {
   "cell_type": "markdown",
   "id": "10c53377",
   "metadata": {
    "papermill": {
     "duration": 0.010151,
     "end_time": "2023-06-22T09:58:38.307422",
     "exception": false,
     "start_time": "2023-06-22T09:58:38.297271",
     "status": "completed"
    },
    "tags": []
   },
   "source": [
    "making some changes to the wage column"
   ]
  },
  {
   "cell_type": "code",
   "execution_count": 11,
   "id": "ec2fc27c",
   "metadata": {
    "execution": {
     "iopub.execute_input": "2023-06-22T09:58:38.330250Z",
     "iopub.status.busy": "2023-06-22T09:58:38.329837Z",
     "iopub.status.idle": "2023-06-22T09:58:38.355443Z",
     "shell.execute_reply": "2023-06-22T09:58:38.354329Z"
    },
    "papermill": {
     "duration": 0.03989,
     "end_time": "2023-06-22T09:58:38.357788",
     "exception": false,
     "start_time": "2023-06-22T09:58:38.317898",
     "status": "completed"
    },
    "tags": []
   },
   "outputs": [
    {
     "data": {
      "text/html": [
       "<div>\n",
       "<style scoped>\n",
       "    .dataframe tbody tr th:only-of-type {\n",
       "        vertical-align: middle;\n",
       "    }\n",
       "\n",
       "    .dataframe tbody tr th {\n",
       "        vertical-align: top;\n",
       "    }\n",
       "\n",
       "    .dataframe thead th {\n",
       "        text-align: right;\n",
       "    }\n",
       "</style>\n",
       "<table border=\"1\" class=\"dataframe\">\n",
       "  <thead>\n",
       "    <tr style=\"text-align: right;\">\n",
       "      <th></th>\n",
       "      <th>Potential</th>\n",
       "      <th>Overall</th>\n",
       "      <th>Wage</th>\n",
       "      <th>International Reputation</th>\n",
       "      <th>Age</th>\n",
       "    </tr>\n",
       "  </thead>\n",
       "  <tbody>\n",
       "    <tr>\n",
       "      <th>0</th>\n",
       "      <td>68</td>\n",
       "      <td>61</td>\n",
       "      <td>€2K</td>\n",
       "      <td>1.0</td>\n",
       "      <td>22</td>\n",
       "    </tr>\n",
       "    <tr>\n",
       "      <th>1</th>\n",
       "      <td>58</td>\n",
       "      <td>57</td>\n",
       "      <td>€500</td>\n",
       "      <td>1.0</td>\n",
       "      <td>25</td>\n",
       "    </tr>\n",
       "    <tr>\n",
       "      <th>2</th>\n",
       "      <td>76</td>\n",
       "      <td>71</td>\n",
       "      <td>€7K</td>\n",
       "      <td>1.0</td>\n",
       "      <td>23</td>\n",
       "    </tr>\n",
       "    <tr>\n",
       "      <th>3</th>\n",
       "      <td>86</td>\n",
       "      <td>71</td>\n",
       "      <td>€10K</td>\n",
       "      <td>1.0</td>\n",
       "      <td>18</td>\n",
       "    </tr>\n",
       "    <tr>\n",
       "      <th>4</th>\n",
       "      <td>75</td>\n",
       "      <td>64</td>\n",
       "      <td>€2K</td>\n",
       "      <td>1.0</td>\n",
       "      <td>19</td>\n",
       "    </tr>\n",
       "    <tr>\n",
       "      <th>...</th>\n",
       "      <td>...</td>\n",
       "      <td>...</td>\n",
       "      <td>...</td>\n",
       "      <td>...</td>\n",
       "      <td>...</td>\n",
       "    </tr>\n",
       "    <tr>\n",
       "      <th>87637</th>\n",
       "      <td>73</td>\n",
       "      <td>68</td>\n",
       "      <td>€20K</td>\n",
       "      <td>1.0</td>\n",
       "      <td>25</td>\n",
       "    </tr>\n",
       "    <tr>\n",
       "      <th>87638</th>\n",
       "      <td>58</td>\n",
       "      <td>58</td>\n",
       "      <td>€1K</td>\n",
       "      <td>1.0</td>\n",
       "      <td>28</td>\n",
       "    </tr>\n",
       "    <tr>\n",
       "      <th>87639</th>\n",
       "      <td>69</td>\n",
       "      <td>69</td>\n",
       "      <td>€8K</td>\n",
       "      <td>1.0</td>\n",
       "      <td>27</td>\n",
       "    </tr>\n",
       "    <tr>\n",
       "      <th>87640</th>\n",
       "      <td>72</td>\n",
       "      <td>66</td>\n",
       "      <td>€3K</td>\n",
       "      <td>1.0</td>\n",
       "      <td>20</td>\n",
       "    </tr>\n",
       "    <tr>\n",
       "      <th>87641</th>\n",
       "      <td>68</td>\n",
       "      <td>67</td>\n",
       "      <td>€2K</td>\n",
       "      <td>1.0</td>\n",
       "      <td>26</td>\n",
       "    </tr>\n",
       "  </tbody>\n",
       "</table>\n",
       "<p>87642 rows × 5 columns</p>\n",
       "</div>"
      ],
      "text/plain": [
       "       Potential  Overall  Wage  International Reputation  Age\n",
       "0             68       61   €2K                       1.0   22\n",
       "1             58       57  €500                       1.0   25\n",
       "2             76       71   €7K                       1.0   23\n",
       "3             86       71  €10K                       1.0   18\n",
       "4             75       64   €2K                       1.0   19\n",
       "...          ...      ...   ...                       ...  ...\n",
       "87637         73       68  €20K                       1.0   25\n",
       "87638         58       58   €1K                       1.0   28\n",
       "87639         69       69   €8K                       1.0   27\n",
       "87640         72       66   €3K                       1.0   20\n",
       "87641         68       67   €2K                       1.0   26\n",
       "\n",
       "[87642 rows x 5 columns]"
      ]
     },
     "execution_count": 11,
     "metadata": {},
     "output_type": "execute_result"
    }
   ],
   "source": [
    "train_1"
   ]
  },
  {
   "cell_type": "markdown",
   "id": "111cb3b8",
   "metadata": {
    "papermill": {
     "duration": 0.010503,
     "end_time": "2023-06-22T09:58:38.379733",
     "exception": false,
     "start_time": "2023-06-22T09:58:38.369230",
     "status": "completed"
    },
    "tags": []
   },
   "source": [
    "checking which data types are object"
   ]
  },
  {
   "cell_type": "code",
   "execution_count": 12,
   "id": "476a6861",
   "metadata": {
    "execution": {
     "iopub.execute_input": "2023-06-22T09:58:38.403193Z",
     "iopub.status.busy": "2023-06-22T09:58:38.402770Z",
     "iopub.status.idle": "2023-06-22T09:58:38.407583Z",
     "shell.execute_reply": "2023-06-22T09:58:38.406576Z"
    },
    "papermill": {
     "duration": 0.019488,
     "end_time": "2023-06-22T09:58:38.409832",
     "exception": false,
     "start_time": "2023-06-22T09:58:38.390344",
     "status": "completed"
    },
    "tags": []
   },
   "outputs": [],
   "source": [
    "y_train=train_data['Value']"
   ]
  },
  {
   "cell_type": "markdown",
   "id": "e3b5ad00",
   "metadata": {
    "papermill": {
     "duration": 0.010556,
     "end_time": "2023-06-22T09:58:38.431463",
     "exception": false,
     "start_time": "2023-06-22T09:58:38.420907",
     "status": "completed"
    },
    "tags": []
   },
   "source": [
    "converting the wage column to float data type"
   ]
  },
  {
   "cell_type": "code",
   "execution_count": 13,
   "id": "0ca621f5",
   "metadata": {
    "execution": {
     "iopub.execute_input": "2023-06-22T09:58:38.455216Z",
     "iopub.status.busy": "2023-06-22T09:58:38.454450Z",
     "iopub.status.idle": "2023-06-22T09:58:39.007006Z",
     "shell.execute_reply": "2023-06-22T09:58:39.005942Z"
    },
    "papermill": {
     "duration": 0.567245,
     "end_time": "2023-06-22T09:58:39.009509",
     "exception": false,
     "start_time": "2023-06-22T09:58:38.442264",
     "status": "completed"
    },
    "tags": []
   },
   "outputs": [
    {
     "name": "stderr",
     "output_type": "stream",
     "text": [
      "/tmp/ipykernel_20/3838849759.py:14: SettingWithCopyWarning: \n",
      "A value is trying to be set on a copy of a slice from a DataFrame.\n",
      "Try using .loc[row_indexer,col_indexer] = value instead\n",
      "\n",
      "See the caveats in the documentation: https://pandas.pydata.org/pandas-docs/stable/user_guide/indexing.html#returning-a-view-versus-a-copy\n",
      "  train_1['Wage'] = train_1['Wage'].apply(preprocess_wage)\n",
      "/tmp/ipykernel_20/3838849759.py:17: SettingWithCopyWarning: \n",
      "A value is trying to be set on a copy of a slice from a DataFrame.\n",
      "Try using .loc[row_indexer,col_indexer] = value instead\n",
      "\n",
      "See the caveats in the documentation: https://pandas.pydata.org/pandas-docs/stable/user_guide/indexing.html#returning-a-view-versus-a-copy\n",
      "  train_1['Wage'] = train_1['Wage'].astype(float)\n",
      "/tmp/ipykernel_20/3838849759.py:20: SettingWithCopyWarning: \n",
      "A value is trying to be set on a copy of a slice from a DataFrame.\n",
      "Try using .loc[row_indexer,col_indexer] = value instead\n",
      "\n",
      "See the caveats in the documentation: https://pandas.pydata.org/pandas-docs/stable/user_guide/indexing.html#returning-a-view-versus-a-copy\n",
      "  test_1['Wage'] = test_1['Wage'].apply(preprocess_wage)\n",
      "/tmp/ipykernel_20/3838849759.py:23: SettingWithCopyWarning: \n",
      "A value is trying to be set on a copy of a slice from a DataFrame.\n",
      "Try using .loc[row_indexer,col_indexer] = value instead\n",
      "\n",
      "See the caveats in the documentation: https://pandas.pydata.org/pandas-docs/stable/user_guide/indexing.html#returning-a-view-versus-a-copy\n",
      "  test_1['Wage'] = test_1['Wage'].astype(float)\n"
     ]
    }
   ],
   "source": [
    "import re\n",
    "# Define a function to preprocess the 'Wage' column\n",
    "def preprocess_wage(value):\n",
    "    value = re.sub(r'€', '', value)  # Remove euro symbol\n",
    "    if 'K' in value:\n",
    "        value = float(re.sub(r'[^0-9.]', '', value)) * 1000  # Remove 'K' and multiply by 1000\n",
    "    elif 'M' in value:\n",
    "        value = float(re.sub(r'[^0-9.]', '', value)) * 1000000  # Remove 'M' and multiply by 1000000\n",
    "    else:\n",
    "        value = float(value)\n",
    "    return value\n",
    "\n",
    "# Apply the preprocessing function to 'Wage' column in train_1 dataset\n",
    "train_1['Wage'] = train_1['Wage'].apply(preprocess_wage)\n",
    "\n",
    "# Convert the column to float data type\n",
    "train_1['Wage'] = train_1['Wage'].astype(float)\n",
    "\n",
    "# Apply the preprocessing function to 'Wage' column in train_1 dataset\n",
    "test_1['Wage'] = test_1['Wage'].apply(preprocess_wage)\n",
    "\n",
    "# Convert the column to float data type\n",
    "test_1['Wage'] = test_1['Wage'].astype(float)\n",
    "\n",
    "#Applying it to y_train too\n",
    "y_train=y_train.apply(preprocess_wage)\n",
    "\n",
    "#Convert the column to float data type\n",
    "y_train=y_train.astype(float)"
   ]
  },
  {
   "cell_type": "code",
   "execution_count": 14,
   "id": "bab473f7",
   "metadata": {
    "execution": {
     "iopub.execute_input": "2023-06-22T09:58:39.033829Z",
     "iopub.status.busy": "2023-06-22T09:58:39.033200Z",
     "iopub.status.idle": "2023-06-22T09:58:39.044557Z",
     "shell.execute_reply": "2023-06-22T09:58:39.043479Z"
    },
    "papermill": {
     "duration": 0.025879,
     "end_time": "2023-06-22T09:58:39.046819",
     "exception": false,
     "start_time": "2023-06-22T09:58:39.020940",
     "status": "completed"
    },
    "tags": []
   },
   "outputs": [
    {
     "data": {
      "text/html": [
       "<div>\n",
       "<style scoped>\n",
       "    .dataframe tbody tr th:only-of-type {\n",
       "        vertical-align: middle;\n",
       "    }\n",
       "\n",
       "    .dataframe tbody tr th {\n",
       "        vertical-align: top;\n",
       "    }\n",
       "\n",
       "    .dataframe thead th {\n",
       "        text-align: right;\n",
       "    }\n",
       "</style>\n",
       "<table border=\"1\" class=\"dataframe\">\n",
       "  <thead>\n",
       "    <tr style=\"text-align: right;\">\n",
       "      <th></th>\n",
       "      <th>Potential</th>\n",
       "      <th>Overall</th>\n",
       "      <th>Wage</th>\n",
       "      <th>International Reputation</th>\n",
       "      <th>Age</th>\n",
       "    </tr>\n",
       "  </thead>\n",
       "  <tbody>\n",
       "    <tr>\n",
       "      <th>0</th>\n",
       "      <td>68</td>\n",
       "      <td>61</td>\n",
       "      <td>2000.0</td>\n",
       "      <td>1.0</td>\n",
       "      <td>22</td>\n",
       "    </tr>\n",
       "    <tr>\n",
       "      <th>1</th>\n",
       "      <td>58</td>\n",
       "      <td>57</td>\n",
       "      <td>500.0</td>\n",
       "      <td>1.0</td>\n",
       "      <td>25</td>\n",
       "    </tr>\n",
       "    <tr>\n",
       "      <th>2</th>\n",
       "      <td>76</td>\n",
       "      <td>71</td>\n",
       "      <td>7000.0</td>\n",
       "      <td>1.0</td>\n",
       "      <td>23</td>\n",
       "    </tr>\n",
       "    <tr>\n",
       "      <th>3</th>\n",
       "      <td>86</td>\n",
       "      <td>71</td>\n",
       "      <td>10000.0</td>\n",
       "      <td>1.0</td>\n",
       "      <td>18</td>\n",
       "    </tr>\n",
       "    <tr>\n",
       "      <th>4</th>\n",
       "      <td>75</td>\n",
       "      <td>64</td>\n",
       "      <td>2000.0</td>\n",
       "      <td>1.0</td>\n",
       "      <td>19</td>\n",
       "    </tr>\n",
       "  </tbody>\n",
       "</table>\n",
       "</div>"
      ],
      "text/plain": [
       "   Potential  Overall     Wage  International Reputation  Age\n",
       "0         68       61   2000.0                       1.0   22\n",
       "1         58       57    500.0                       1.0   25\n",
       "2         76       71   7000.0                       1.0   23\n",
       "3         86       71  10000.0                       1.0   18\n",
       "4         75       64   2000.0                       1.0   19"
      ]
     },
     "execution_count": 14,
     "metadata": {},
     "output_type": "execute_result"
    }
   ],
   "source": [
    "train_1.head()"
   ]
  },
  {
   "cell_type": "code",
   "execution_count": 15,
   "id": "096f4362",
   "metadata": {
    "execution": {
     "iopub.execute_input": "2023-06-22T09:58:39.075874Z",
     "iopub.status.busy": "2023-06-22T09:58:39.075477Z",
     "iopub.status.idle": "2023-06-22T09:58:39.083122Z",
     "shell.execute_reply": "2023-06-22T09:58:39.082132Z"
    },
    "papermill": {
     "duration": 0.023103,
     "end_time": "2023-06-22T09:58:39.085020",
     "exception": false,
     "start_time": "2023-06-22T09:58:39.061917",
     "status": "completed"
    },
    "tags": []
   },
   "outputs": [
    {
     "data": {
      "text/plain": [
       "0     325000.0\n",
       "1     140000.0\n",
       "2    3200000.0\n",
       "3    2900000.0\n",
       "4     575000.0\n",
       "Name: Value, dtype: float64"
      ]
     },
     "execution_count": 15,
     "metadata": {},
     "output_type": "execute_result"
    }
   ],
   "source": [
    "y_train.head()"
   ]
  },
  {
   "cell_type": "markdown",
   "id": "49c491d8",
   "metadata": {
    "papermill": {
     "duration": 0.010754,
     "end_time": "2023-06-22T09:58:39.106932",
     "exception": false,
     "start_time": "2023-06-22T09:58:39.096178",
     "status": "completed"
    },
    "tags": []
   },
   "source": [
    "using gridsearchCV and modelling now"
   ]
  },
  {
   "cell_type": "code",
   "execution_count": 16,
   "id": "5642d311",
   "metadata": {
    "execution": {
     "iopub.execute_input": "2023-06-22T09:58:39.131547Z",
     "iopub.status.busy": "2023-06-22T09:58:39.130398Z",
     "iopub.status.idle": "2023-06-22T09:58:39.135635Z",
     "shell.execute_reply": "2023-06-22T09:58:39.134719Z"
    },
    "papermill": {
     "duration": 0.019692,
     "end_time": "2023-06-22T09:58:39.137658",
     "exception": false,
     "start_time": "2023-06-22T09:58:39.117966",
     "status": "completed"
    },
    "tags": []
   },
   "outputs": [],
   "source": [
    "# from sklearn.model_selection import GridSearchCV\n",
    "# from sklearn.metrics import make_scorer, mean_squared_error\n",
    "# # Define a custom scoring function for RMSE\n",
    "# scorer = make_scorer(lambda y_true, y_pred: mean_squared_error(y_true, y_pred, squared=False), greater_is_better=False)\n",
    "# model=XGBRegressor()\n",
    "# param_grid = {'learning_rate':[0.05, 0.75, 0.1], 'n_estimators':[200,400,600,800,1000]}\n",
    "# grid_search = GridSearchCV(model, param_grid, cv=5, scoring=scorer)"
   ]
  },
  {
   "cell_type": "markdown",
   "id": "7a453436",
   "metadata": {
    "papermill": {
     "duration": 0.010928,
     "end_time": "2023-06-22T09:58:39.159833",
     "exception": false,
     "start_time": "2023-06-22T09:58:39.148905",
     "status": "completed"
    },
    "tags": []
   },
   "source": [
    "applying and fitting GridSearchCV on the training data"
   ]
  },
  {
   "cell_type": "code",
   "execution_count": 17,
   "id": "c3801cb9",
   "metadata": {
    "execution": {
     "iopub.execute_input": "2023-06-22T09:58:39.183672Z",
     "iopub.status.busy": "2023-06-22T09:58:39.183306Z",
     "iopub.status.idle": "2023-06-22T09:58:42.419783Z",
     "shell.execute_reply": "2023-06-22T09:58:42.418763Z"
    },
    "papermill": {
     "duration": 3.251087,
     "end_time": "2023-06-22T09:58:42.422062",
     "exception": false,
     "start_time": "2023-06-22T09:58:39.170975",
     "status": "completed"
    },
    "tags": []
   },
   "outputs": [
    {
     "data": {
      "text/html": [
       "<style>#sk-container-id-1 {color: black;background-color: white;}#sk-container-id-1 pre{padding: 0;}#sk-container-id-1 div.sk-toggleable {background-color: white;}#sk-container-id-1 label.sk-toggleable__label {cursor: pointer;display: block;width: 100%;margin-bottom: 0;padding: 0.3em;box-sizing: border-box;text-align: center;}#sk-container-id-1 label.sk-toggleable__label-arrow:before {content: \"▸\";float: left;margin-right: 0.25em;color: #696969;}#sk-container-id-1 label.sk-toggleable__label-arrow:hover:before {color: black;}#sk-container-id-1 div.sk-estimator:hover label.sk-toggleable__label-arrow:before {color: black;}#sk-container-id-1 div.sk-toggleable__content {max-height: 0;max-width: 0;overflow: hidden;text-align: left;background-color: #f0f8ff;}#sk-container-id-1 div.sk-toggleable__content pre {margin: 0.2em;color: black;border-radius: 0.25em;background-color: #f0f8ff;}#sk-container-id-1 input.sk-toggleable__control:checked~div.sk-toggleable__content {max-height: 200px;max-width: 100%;overflow: auto;}#sk-container-id-1 input.sk-toggleable__control:checked~label.sk-toggleable__label-arrow:before {content: \"▾\";}#sk-container-id-1 div.sk-estimator input.sk-toggleable__control:checked~label.sk-toggleable__label {background-color: #d4ebff;}#sk-container-id-1 div.sk-label input.sk-toggleable__control:checked~label.sk-toggleable__label {background-color: #d4ebff;}#sk-container-id-1 input.sk-hidden--visually {border: 0;clip: rect(1px 1px 1px 1px);clip: rect(1px, 1px, 1px, 1px);height: 1px;margin: -1px;overflow: hidden;padding: 0;position: absolute;width: 1px;}#sk-container-id-1 div.sk-estimator {font-family: monospace;background-color: #f0f8ff;border: 1px dotted black;border-radius: 0.25em;box-sizing: border-box;margin-bottom: 0.5em;}#sk-container-id-1 div.sk-estimator:hover {background-color: #d4ebff;}#sk-container-id-1 div.sk-parallel-item::after {content: \"\";width: 100%;border-bottom: 1px solid gray;flex-grow: 1;}#sk-container-id-1 div.sk-label:hover label.sk-toggleable__label {background-color: #d4ebff;}#sk-container-id-1 div.sk-serial::before {content: \"\";position: absolute;border-left: 1px solid gray;box-sizing: border-box;top: 0;bottom: 0;left: 50%;z-index: 0;}#sk-container-id-1 div.sk-serial {display: flex;flex-direction: column;align-items: center;background-color: white;padding-right: 0.2em;padding-left: 0.2em;position: relative;}#sk-container-id-1 div.sk-item {position: relative;z-index: 1;}#sk-container-id-1 div.sk-parallel {display: flex;align-items: stretch;justify-content: center;background-color: white;position: relative;}#sk-container-id-1 div.sk-item::before, #sk-container-id-1 div.sk-parallel-item::before {content: \"\";position: absolute;border-left: 1px solid gray;box-sizing: border-box;top: 0;bottom: 0;left: 50%;z-index: -1;}#sk-container-id-1 div.sk-parallel-item {display: flex;flex-direction: column;z-index: 1;position: relative;background-color: white;}#sk-container-id-1 div.sk-parallel-item:first-child::after {align-self: flex-end;width: 50%;}#sk-container-id-1 div.sk-parallel-item:last-child::after {align-self: flex-start;width: 50%;}#sk-container-id-1 div.sk-parallel-item:only-child::after {width: 0;}#sk-container-id-1 div.sk-dashed-wrapped {border: 1px dashed gray;margin: 0 0.4em 0.5em 0.4em;box-sizing: border-box;padding-bottom: 0.4em;background-color: white;}#sk-container-id-1 div.sk-label label {font-family: monospace;font-weight: bold;display: inline-block;line-height: 1.2em;}#sk-container-id-1 div.sk-label-container {text-align: center;}#sk-container-id-1 div.sk-container {/* jupyter's `normalize.less` sets `[hidden] { display: none; }` but bootstrap.min.css set `[hidden] { display: none !important; }` so we also need the `!important` here to be able to override the default hidden behavior on the sphinx rendered scikit-learn.org. See: https://github.com/scikit-learn/scikit-learn/issues/21755 */display: inline-block !important;position: relative;}#sk-container-id-1 div.sk-text-repr-fallback {display: none;}</style><div id=\"sk-container-id-1\" class=\"sk-top-container\"><div class=\"sk-text-repr-fallback\"><pre>XGBRegressor(base_score=None, booster=None, callbacks=None,\n",
       "             colsample_bylevel=None, colsample_bynode=None,\n",
       "             colsample_bytree=None, early_stopping_rounds=None,\n",
       "             enable_categorical=False, eval_metric=None, feature_types=None,\n",
       "             gamma=None, gpu_id=None, grow_policy=None, importance_type=None,\n",
       "             interaction_constraints=None, learning_rate=None, max_bin=None,\n",
       "             max_cat_threshold=None, max_cat_to_onehot=None,\n",
       "             max_delta_step=None, max_depth=None, max_leaves=None,\n",
       "             min_child_weight=None, missing=nan, monotone_constraints=None,\n",
       "             n_estimators=100, n_jobs=None, num_parallel_tree=None,\n",
       "             predictor=None, random_state=None, ...)</pre><b>In a Jupyter environment, please rerun this cell to show the HTML representation or trust the notebook. <br />On GitHub, the HTML representation is unable to render, please try loading this page with nbviewer.org.</b></div><div class=\"sk-container\" hidden><div class=\"sk-item\"><div class=\"sk-estimator sk-toggleable\"><input class=\"sk-toggleable__control sk-hidden--visually\" id=\"sk-estimator-id-1\" type=\"checkbox\" checked><label for=\"sk-estimator-id-1\" class=\"sk-toggleable__label sk-toggleable__label-arrow\">XGBRegressor</label><div class=\"sk-toggleable__content\"><pre>XGBRegressor(base_score=None, booster=None, callbacks=None,\n",
       "             colsample_bylevel=None, colsample_bynode=None,\n",
       "             colsample_bytree=None, early_stopping_rounds=None,\n",
       "             enable_categorical=False, eval_metric=None, feature_types=None,\n",
       "             gamma=None, gpu_id=None, grow_policy=None, importance_type=None,\n",
       "             interaction_constraints=None, learning_rate=None, max_bin=None,\n",
       "             max_cat_threshold=None, max_cat_to_onehot=None,\n",
       "             max_delta_step=None, max_depth=None, max_leaves=None,\n",
       "             min_child_weight=None, missing=nan, monotone_constraints=None,\n",
       "             n_estimators=100, n_jobs=None, num_parallel_tree=None,\n",
       "             predictor=None, random_state=None, ...)</pre></div></div></div></div></div>"
      ],
      "text/plain": [
       "XGBRegressor(base_score=None, booster=None, callbacks=None,\n",
       "             colsample_bylevel=None, colsample_bynode=None,\n",
       "             colsample_bytree=None, early_stopping_rounds=None,\n",
       "             enable_categorical=False, eval_metric=None, feature_types=None,\n",
       "             gamma=None, gpu_id=None, grow_policy=None, importance_type=None,\n",
       "             interaction_constraints=None, learning_rate=None, max_bin=None,\n",
       "             max_cat_threshold=None, max_cat_to_onehot=None,\n",
       "             max_delta_step=None, max_depth=None, max_leaves=None,\n",
       "             min_child_weight=None, missing=nan, monotone_constraints=None,\n",
       "             n_estimators=100, n_jobs=None, num_parallel_tree=None,\n",
       "             predictor=None, random_state=None, ...)"
      ]
     },
     "execution_count": 17,
     "metadata": {},
     "output_type": "execute_result"
    }
   ],
   "source": [
    "model=XGBRegressor()\n",
    "model.fit(train_1, y_train)"
   ]
  },
  {
   "cell_type": "code",
   "execution_count": 18,
   "id": "062d4833",
   "metadata": {
    "execution": {
     "iopub.execute_input": "2023-06-22T09:58:42.447550Z",
     "iopub.status.busy": "2023-06-22T09:58:42.446452Z",
     "iopub.status.idle": "2023-06-22T09:58:42.458385Z",
     "shell.execute_reply": "2023-06-22T09:58:42.457290Z"
    },
    "papermill": {
     "duration": 0.02719,
     "end_time": "2023-06-22T09:58:42.460679",
     "exception": false,
     "start_time": "2023-06-22T09:58:42.433489",
     "status": "completed"
    },
    "tags": []
   },
   "outputs": [
    {
     "data": {
      "text/html": [
       "<div>\n",
       "<style scoped>\n",
       "    .dataframe tbody tr th:only-of-type {\n",
       "        vertical-align: middle;\n",
       "    }\n",
       "\n",
       "    .dataframe tbody tr th {\n",
       "        vertical-align: top;\n",
       "    }\n",
       "\n",
       "    .dataframe thead th {\n",
       "        text-align: right;\n",
       "    }\n",
       "</style>\n",
       "<table border=\"1\" class=\"dataframe\">\n",
       "  <thead>\n",
       "    <tr style=\"text-align: right;\">\n",
       "      <th></th>\n",
       "      <th>Potential</th>\n",
       "      <th>Overall</th>\n",
       "      <th>Wage</th>\n",
       "      <th>International Reputation</th>\n",
       "      <th>Age</th>\n",
       "    </tr>\n",
       "  </thead>\n",
       "  <tbody>\n",
       "    <tr>\n",
       "      <th>0</th>\n",
       "      <td>89</td>\n",
       "      <td>88</td>\n",
       "      <td>250000.0</td>\n",
       "      <td>3.0</td>\n",
       "      <td>26</td>\n",
       "    </tr>\n",
       "    <tr>\n",
       "      <th>1</th>\n",
       "      <td>88</td>\n",
       "      <td>87</td>\n",
       "      <td>140000.0</td>\n",
       "      <td>4.0</td>\n",
       "      <td>26</td>\n",
       "    </tr>\n",
       "    <tr>\n",
       "      <th>2</th>\n",
       "      <td>88</td>\n",
       "      <td>88</td>\n",
       "      <td>135000.0</td>\n",
       "      <td>5.0</td>\n",
       "      <td>34</td>\n",
       "    </tr>\n",
       "    <tr>\n",
       "      <th>3</th>\n",
       "      <td>91</td>\n",
       "      <td>91</td>\n",
       "      <td>350000.0</td>\n",
       "      <td>4.0</td>\n",
       "      <td>30</td>\n",
       "    </tr>\n",
       "    <tr>\n",
       "      <th>4</th>\n",
       "      <td>84</td>\n",
       "      <td>84</td>\n",
       "      <td>45000.0</td>\n",
       "      <td>2.0</td>\n",
       "      <td>29</td>\n",
       "    </tr>\n",
       "  </tbody>\n",
       "</table>\n",
       "</div>"
      ],
      "text/plain": [
       "   Potential  Overall      Wage  International Reputation  Age\n",
       "0         89       88  250000.0                       3.0   26\n",
       "1         88       87  140000.0                       4.0   26\n",
       "2         88       88  135000.0                       5.0   34\n",
       "3         91       91  350000.0                       4.0   30\n",
       "4         84       84   45000.0                       2.0   29"
      ]
     },
     "execution_count": 18,
     "metadata": {},
     "output_type": "execute_result"
    }
   ],
   "source": [
    "test_1.head()"
   ]
  },
  {
   "cell_type": "code",
   "execution_count": 19,
   "id": "fabfa49e",
   "metadata": {
    "execution": {
     "iopub.execute_input": "2023-06-22T09:58:42.486115Z",
     "iopub.status.busy": "2023-06-22T09:58:42.485020Z",
     "iopub.status.idle": "2023-06-22T09:58:42.491628Z",
     "shell.execute_reply": "2023-06-22T09:58:42.490821Z"
    },
    "papermill": {
     "duration": 0.021274,
     "end_time": "2023-06-22T09:58:42.493506",
     "exception": false,
     "start_time": "2023-06-22T09:58:42.472232",
     "status": "completed"
    },
    "tags": []
   },
   "outputs": [
    {
     "data": {
      "text/plain": [
       "(34370, 5)"
      ]
     },
     "execution_count": 19,
     "metadata": {},
     "output_type": "execute_result"
    }
   ],
   "source": [
    "test_1.shape"
   ]
  },
  {
   "cell_type": "markdown",
   "id": "fbd5fcbc",
   "metadata": {
    "papermill": {
     "duration": 0.011717,
     "end_time": "2023-06-22T09:58:42.516995",
     "exception": false,
     "start_time": "2023-06-22T09:58:42.505278",
     "status": "completed"
    },
    "tags": []
   },
   "source": [
    "storing predictions"
   ]
  },
  {
   "cell_type": "code",
   "execution_count": 20,
   "id": "a4f034c4",
   "metadata": {
    "execution": {
     "iopub.execute_input": "2023-06-22T09:58:42.543537Z",
     "iopub.status.busy": "2023-06-22T09:58:42.542278Z",
     "iopub.status.idle": "2023-06-22T09:58:42.586918Z",
     "shell.execute_reply": "2023-06-22T09:58:42.586116Z"
    },
    "papermill": {
     "duration": 0.060048,
     "end_time": "2023-06-22T09:58:42.589332",
     "exception": false,
     "start_time": "2023-06-22T09:58:42.529284",
     "status": "completed"
    },
    "tags": []
   },
   "outputs": [],
   "source": [
    "pred=model.predict(test_1)"
   ]
  },
  {
   "cell_type": "code",
   "execution_count": 21,
   "id": "69cdd210",
   "metadata": {
    "execution": {
     "iopub.execute_input": "2023-06-22T09:58:42.614916Z",
     "iopub.status.busy": "2023-06-22T09:58:42.614194Z",
     "iopub.status.idle": "2023-06-22T09:58:42.620274Z",
     "shell.execute_reply": "2023-06-22T09:58:42.619485Z"
    },
    "papermill": {
     "duration": 0.02099,
     "end_time": "2023-06-22T09:58:42.622286",
     "exception": false,
     "start_time": "2023-06-22T09:58:42.601296",
     "status": "completed"
    },
    "tags": []
   },
   "outputs": [
    {
     "data": {
      "text/plain": [
       "(34370,)"
      ]
     },
     "execution_count": 21,
     "metadata": {},
     "output_type": "execute_result"
    }
   ],
   "source": [
    "pred.shape"
   ]
  },
  {
   "cell_type": "code",
   "execution_count": 22,
   "id": "dabd00ef",
   "metadata": {
    "execution": {
     "iopub.execute_input": "2023-06-22T09:58:42.648662Z",
     "iopub.status.busy": "2023-06-22T09:58:42.647656Z",
     "iopub.status.idle": "2023-06-22T09:58:42.656852Z",
     "shell.execute_reply": "2023-06-22T09:58:42.655892Z"
    },
    "papermill": {
     "duration": 0.024608,
     "end_time": "2023-06-22T09:58:42.659014",
     "exception": false,
     "start_time": "2023-06-22T09:58:42.634406",
     "status": "completed"
    },
    "tags": []
   },
   "outputs": [],
   "source": [
    "output = pd.DataFrame({'Photo':test_data['Photo'],'Value': pred})  # Create the DataFrame with the 'Value' column\n",
    "output = output.set_index(test_1.index)  # Set the index column to test_1.index"
   ]
  },
  {
   "cell_type": "markdown",
   "id": "dc1ae7ea",
   "metadata": {
    "papermill": {
     "duration": 0.011438,
     "end_time": "2023-06-22T09:58:42.682391",
     "exception": false,
     "start_time": "2023-06-22T09:58:42.670953",
     "status": "completed"
    },
    "tags": []
   },
   "source": [
    "now storing the final submission"
   ]
  },
  {
   "cell_type": "code",
   "execution_count": 23,
   "id": "9c4d9fef",
   "metadata": {
    "execution": {
     "iopub.execute_input": "2023-06-22T09:58:42.707285Z",
     "iopub.status.busy": "2023-06-22T09:58:42.706662Z",
     "iopub.status.idle": "2023-06-22T09:58:42.717261Z",
     "shell.execute_reply": "2023-06-22T09:58:42.716227Z"
    },
    "papermill": {
     "duration": 0.02554,
     "end_time": "2023-06-22T09:58:42.719420",
     "exception": false,
     "start_time": "2023-06-22T09:58:42.693880",
     "status": "completed"
    },
    "tags": []
   },
   "outputs": [
    {
     "data": {
      "text/html": [
       "<div>\n",
       "<style scoped>\n",
       "    .dataframe tbody tr th:only-of-type {\n",
       "        vertical-align: middle;\n",
       "    }\n",
       "\n",
       "    .dataframe tbody tr th {\n",
       "        vertical-align: top;\n",
       "    }\n",
       "\n",
       "    .dataframe thead th {\n",
       "        text-align: right;\n",
       "    }\n",
       "</style>\n",
       "<table border=\"1\" class=\"dataframe\">\n",
       "  <thead>\n",
       "    <tr style=\"text-align: right;\">\n",
       "      <th></th>\n",
       "      <th>Photo</th>\n",
       "      <th>Value</th>\n",
       "    </tr>\n",
       "  </thead>\n",
       "  <tbody>\n",
       "    <tr>\n",
       "      <th>0</th>\n",
       "      <td>https://cdn.sofifa.com/players/212/198/22_60.png</td>\n",
       "      <td>67480096.0</td>\n",
       "    </tr>\n",
       "    <tr>\n",
       "      <th>1</th>\n",
       "      <td>https://cdn.sofifa.com/players/209/658/22_60.png</td>\n",
       "      <td>57726600.0</td>\n",
       "    </tr>\n",
       "    <tr>\n",
       "      <th>2</th>\n",
       "      <td>https://cdn.sofifa.com/players/176/580/22_60.png</td>\n",
       "      <td>24389748.0</td>\n",
       "    </tr>\n",
       "    <tr>\n",
       "      <th>3</th>\n",
       "      <td>https://cdn.sofifa.com/players/192/985/22_60.png</td>\n",
       "      <td>89608232.0</td>\n",
       "    </tr>\n",
       "    <tr>\n",
       "      <th>4</th>\n",
       "      <td>https://cdn.sofifa.com/players/224/334/22_60.png</td>\n",
       "      <td>30389520.0</td>\n",
       "    </tr>\n",
       "  </tbody>\n",
       "</table>\n",
       "</div>"
      ],
      "text/plain": [
       "                                              Photo       Value\n",
       "0  https://cdn.sofifa.com/players/212/198/22_60.png  67480096.0\n",
       "1  https://cdn.sofifa.com/players/209/658/22_60.png  57726600.0\n",
       "2  https://cdn.sofifa.com/players/176/580/22_60.png  24389748.0\n",
       "3  https://cdn.sofifa.com/players/192/985/22_60.png  89608232.0\n",
       "4  https://cdn.sofifa.com/players/224/334/22_60.png  30389520.0"
      ]
     },
     "execution_count": 23,
     "metadata": {},
     "output_type": "execute_result"
    }
   ],
   "source": [
    "output.head()"
   ]
  },
  {
   "cell_type": "markdown",
   "id": "cd361b25",
   "metadata": {
    "papermill": {
     "duration": 0.011533,
     "end_time": "2023-06-22T09:58:42.742939",
     "exception": false,
     "start_time": "2023-06-22T09:58:42.731406",
     "status": "completed"
    },
    "tags": []
   },
   "source": [
    "converting to a csv now"
   ]
  },
  {
   "cell_type": "markdown",
   "id": "a1bff29c",
   "metadata": {
    "papermill": {
     "duration": 0.011659,
     "end_time": "2023-06-22T09:58:42.766383",
     "exception": false,
     "start_time": "2023-06-22T09:58:42.754724",
     "status": "completed"
    },
    "tags": []
   },
   "source": [
    "done for now"
   ]
  },
  {
   "cell_type": "code",
   "execution_count": 24,
   "id": "7a076623",
   "metadata": {
    "execution": {
     "iopub.execute_input": "2023-06-22T09:58:42.791801Z",
     "iopub.status.busy": "2023-06-22T09:58:42.791419Z",
     "iopub.status.idle": "2023-06-22T09:58:42.806070Z",
     "shell.execute_reply": "2023-06-22T09:58:42.805133Z"
    },
    "papermill": {
     "duration": 0.029651,
     "end_time": "2023-06-22T09:58:42.808117",
     "exception": false,
     "start_time": "2023-06-22T09:58:42.778466",
     "status": "completed"
    },
    "tags": []
   },
   "outputs": [
    {
     "data": {
      "text/plain": [
       "Photo    0\n",
       "Value    0\n",
       "dtype: int64"
      ]
     },
     "execution_count": 24,
     "metadata": {},
     "output_type": "execute_result"
    }
   ],
   "source": [
    "output.isnull().sum()"
   ]
  },
  {
   "cell_type": "code",
   "execution_count": 25,
   "id": "59bd6c47",
   "metadata": {
    "execution": {
     "iopub.execute_input": "2023-06-22T09:58:42.833403Z",
     "iopub.status.busy": "2023-06-22T09:58:42.832997Z",
     "iopub.status.idle": "2023-06-22T09:58:42.839008Z",
     "shell.execute_reply": "2023-06-22T09:58:42.838078Z"
    },
    "papermill": {
     "duration": 0.021017,
     "end_time": "2023-06-22T09:58:42.841090",
     "exception": false,
     "start_time": "2023-06-22T09:58:42.820073",
     "status": "completed"
    },
    "tags": []
   },
   "outputs": [
    {
     "data": {
      "text/plain": [
       "(34370, 2)"
      ]
     },
     "execution_count": 25,
     "metadata": {},
     "output_type": "execute_result"
    }
   ],
   "source": [
    "output.shape"
   ]
  },
  {
   "cell_type": "code",
   "execution_count": 26,
   "id": "7d34ec26",
   "metadata": {
    "execution": {
     "iopub.execute_input": "2023-06-22T09:58:42.867202Z",
     "iopub.status.busy": "2023-06-22T09:58:42.866814Z",
     "iopub.status.idle": "2023-06-22T09:58:42.889553Z",
     "shell.execute_reply": "2023-06-22T09:58:42.888491Z"
    },
    "papermill": {
     "duration": 0.038748,
     "end_time": "2023-06-22T09:58:42.891930",
     "exception": false,
     "start_time": "2023-06-22T09:58:42.853182",
     "status": "completed"
    },
    "tags": []
   },
   "outputs": [],
   "source": [
    "sample=pd.read_csv('/kaggle/input/mltiverse-join-comp/MLtiVerse/sample_submission.csv')"
   ]
  },
  {
   "cell_type": "code",
   "execution_count": 27,
   "id": "e7dd4c0d",
   "metadata": {
    "execution": {
     "iopub.execute_input": "2023-06-22T09:58:42.917882Z",
     "iopub.status.busy": "2023-06-22T09:58:42.917532Z",
     "iopub.status.idle": "2023-06-22T09:58:42.922904Z",
     "shell.execute_reply": "2023-06-22T09:58:42.921924Z"
    },
    "papermill": {
     "duration": 0.020975,
     "end_time": "2023-06-22T09:58:42.924973",
     "exception": false,
     "start_time": "2023-06-22T09:58:42.903998",
     "status": "completed"
    },
    "tags": []
   },
   "outputs": [
    {
     "data": {
      "text/plain": [
       "(16710, 2)"
      ]
     },
     "execution_count": 27,
     "metadata": {},
     "output_type": "execute_result"
    }
   ],
   "source": [
    "sample.shape"
   ]
  },
  {
   "cell_type": "code",
   "execution_count": 28,
   "id": "a7e3a128",
   "metadata": {
    "execution": {
     "iopub.execute_input": "2023-06-22T09:58:42.951386Z",
     "iopub.status.busy": "2023-06-22T09:58:42.951022Z",
     "iopub.status.idle": "2023-06-22T09:58:42.955760Z",
     "shell.execute_reply": "2023-06-22T09:58:42.955099Z"
    },
    "papermill": {
     "duration": 0.020773,
     "end_time": "2023-06-22T09:58:42.958111",
     "exception": false,
     "start_time": "2023-06-22T09:58:42.937338",
     "status": "completed"
    },
    "tags": []
   },
   "outputs": [
    {
     "data": {
      "text/plain": [
       "(34370, 2)"
      ]
     },
     "execution_count": 28,
     "metadata": {},
     "output_type": "execute_result"
    }
   ],
   "source": [
    "output.shape"
   ]
  },
  {
   "cell_type": "code",
   "execution_count": 29,
   "id": "79c8b214",
   "metadata": {
    "execution": {
     "iopub.execute_input": "2023-06-22T09:58:42.984651Z",
     "iopub.status.busy": "2023-06-22T09:58:42.983994Z",
     "iopub.status.idle": "2023-06-22T09:58:42.989315Z",
     "shell.execute_reply": "2023-06-22T09:58:42.988667Z"
    },
    "papermill": {
     "duration": 0.020634,
     "end_time": "2023-06-22T09:58:42.991083",
     "exception": false,
     "start_time": "2023-06-22T09:58:42.970449",
     "status": "completed"
    },
    "tags": []
   },
   "outputs": [
    {
     "data": {
      "text/plain": [
       "dtype('O')"
      ]
     },
     "execution_count": 29,
     "metadata": {},
     "output_type": "execute_result"
    }
   ],
   "source": [
    "sample['Photo'].dtype"
   ]
  },
  {
   "cell_type": "code",
   "execution_count": 30,
   "id": "0ac38ade",
   "metadata": {
    "execution": {
     "iopub.execute_input": "2023-06-22T09:58:43.017652Z",
     "iopub.status.busy": "2023-06-22T09:58:43.016965Z",
     "iopub.status.idle": "2023-06-22T09:58:43.022266Z",
     "shell.execute_reply": "2023-06-22T09:58:43.021600Z"
    },
    "papermill": {
     "duration": 0.020623,
     "end_time": "2023-06-22T09:58:43.024001",
     "exception": false,
     "start_time": "2023-06-22T09:58:43.003378",
     "status": "completed"
    },
    "tags": []
   },
   "outputs": [
    {
     "data": {
      "text/plain": [
       "dtype('O')"
      ]
     },
     "execution_count": 30,
     "metadata": {},
     "output_type": "execute_result"
    }
   ],
   "source": [
    "output['Photo'].dtype"
   ]
  },
  {
   "cell_type": "code",
   "execution_count": 31,
   "id": "b43b8b95",
   "metadata": {
    "execution": {
     "iopub.execute_input": "2023-06-22T09:58:43.050922Z",
     "iopub.status.busy": "2023-06-22T09:58:43.050283Z",
     "iopub.status.idle": "2023-06-22T09:58:43.064378Z",
     "shell.execute_reply": "2023-06-22T09:58:43.063125Z"
    },
    "papermill": {
     "duration": 0.029949,
     "end_time": "2023-06-22T09:58:43.066443",
     "exception": false,
     "start_time": "2023-06-22T09:58:43.036494",
     "status": "completed"
    },
    "tags": []
   },
   "outputs": [
    {
     "name": "stdout",
     "output_type": "stream",
     "text": [
      "True\n"
     ]
    }
   ],
   "source": [
    "# Check if all elements of sample['Photo'] are located in output['Photo']\n",
    "all_in_output = sample['Photo'].isin(output['Photo']).all()\n",
    "\n",
    "# Print the result\n",
    "print(all_in_output)\n"
   ]
  },
  {
   "cell_type": "code",
   "execution_count": 32,
   "id": "02348802",
   "metadata": {
    "execution": {
     "iopub.execute_input": "2023-06-22T09:58:43.095116Z",
     "iopub.status.busy": "2023-06-22T09:58:43.094527Z",
     "iopub.status.idle": "2023-06-22T09:58:43.104808Z",
     "shell.execute_reply": "2023-06-22T09:58:43.104070Z"
    },
    "papermill": {
     "duration": 0.026035,
     "end_time": "2023-06-22T09:58:43.106765",
     "exception": false,
     "start_time": "2023-06-22T09:58:43.080730",
     "status": "completed"
    },
    "tags": []
   },
   "outputs": [],
   "source": [
    "mask = output['Photo'].isin(sample['Photo'])\n",
    "\n",
    "# Select the rows with matching 'Photo' values\n",
    "selected_rows = output[mask]"
   ]
  },
  {
   "cell_type": "code",
   "execution_count": 33,
   "id": "cdebac01",
   "metadata": {
    "execution": {
     "iopub.execute_input": "2023-06-22T09:58:43.133427Z",
     "iopub.status.busy": "2023-06-22T09:58:43.133035Z",
     "iopub.status.idle": "2023-06-22T09:58:43.143139Z",
     "shell.execute_reply": "2023-06-22T09:58:43.142125Z"
    },
    "papermill": {
     "duration": 0.025694,
     "end_time": "2023-06-22T09:58:43.145197",
     "exception": false,
     "start_time": "2023-06-22T09:58:43.119503",
     "status": "completed"
    },
    "tags": []
   },
   "outputs": [
    {
     "data": {
      "text/html": [
       "<div>\n",
       "<style scoped>\n",
       "    .dataframe tbody tr th:only-of-type {\n",
       "        vertical-align: middle;\n",
       "    }\n",
       "\n",
       "    .dataframe tbody tr th {\n",
       "        vertical-align: top;\n",
       "    }\n",
       "\n",
       "    .dataframe thead th {\n",
       "        text-align: right;\n",
       "    }\n",
       "</style>\n",
       "<table border=\"1\" class=\"dataframe\">\n",
       "  <thead>\n",
       "    <tr style=\"text-align: right;\">\n",
       "      <th></th>\n",
       "      <th>Photo</th>\n",
       "      <th>Value</th>\n",
       "    </tr>\n",
       "  </thead>\n",
       "  <tbody>\n",
       "    <tr>\n",
       "      <th>0</th>\n",
       "      <td>https://cdn.sofifa.com/players/212/198/22_60.png</td>\n",
       "      <td>67480096.0</td>\n",
       "    </tr>\n",
       "    <tr>\n",
       "      <th>1</th>\n",
       "      <td>https://cdn.sofifa.com/players/209/658/22_60.png</td>\n",
       "      <td>57726600.0</td>\n",
       "    </tr>\n",
       "    <tr>\n",
       "      <th>2</th>\n",
       "      <td>https://cdn.sofifa.com/players/176/580/22_60.png</td>\n",
       "      <td>24389748.0</td>\n",
       "    </tr>\n",
       "    <tr>\n",
       "      <th>3</th>\n",
       "      <td>https://cdn.sofifa.com/players/192/985/22_60.png</td>\n",
       "      <td>89608232.0</td>\n",
       "    </tr>\n",
       "    <tr>\n",
       "      <th>4</th>\n",
       "      <td>https://cdn.sofifa.com/players/224/334/22_60.png</td>\n",
       "      <td>30389520.0</td>\n",
       "    </tr>\n",
       "  </tbody>\n",
       "</table>\n",
       "</div>"
      ],
      "text/plain": [
       "                                              Photo       Value\n",
       "0  https://cdn.sofifa.com/players/212/198/22_60.png  67480096.0\n",
       "1  https://cdn.sofifa.com/players/209/658/22_60.png  57726600.0\n",
       "2  https://cdn.sofifa.com/players/176/580/22_60.png  24389748.0\n",
       "3  https://cdn.sofifa.com/players/192/985/22_60.png  89608232.0\n",
       "4  https://cdn.sofifa.com/players/224/334/22_60.png  30389520.0"
      ]
     },
     "execution_count": 33,
     "metadata": {},
     "output_type": "execute_result"
    }
   ],
   "source": [
    "selected_rows.head()"
   ]
  },
  {
   "cell_type": "code",
   "execution_count": 34,
   "id": "87dd139c",
   "metadata": {
    "execution": {
     "iopub.execute_input": "2023-06-22T09:58:43.172445Z",
     "iopub.status.busy": "2023-06-22T09:58:43.171607Z",
     "iopub.status.idle": "2023-06-22T09:58:43.230950Z",
     "shell.execute_reply": "2023-06-22T09:58:43.229704Z"
    },
    "papermill": {
     "duration": 0.075397,
     "end_time": "2023-06-22T09:58:43.233256",
     "exception": false,
     "start_time": "2023-06-22T09:58:43.157859",
     "status": "completed"
    },
    "tags": []
   },
   "outputs": [
    {
     "name": "stdout",
     "output_type": "stream",
     "text": [
      "Submission saved successfully\n"
     ]
    }
   ],
   "source": [
    "selected_rows.to_csv('submissions.csv',index=False)\n",
    "print(\"Submission saved successfully\")"
   ]
  },
  {
   "cell_type": "code",
   "execution_count": null,
   "id": "c3c8091b",
   "metadata": {
    "papermill": {
     "duration": 0.012456,
     "end_time": "2023-06-22T09:58:43.258605",
     "exception": false,
     "start_time": "2023-06-22T09:58:43.246149",
     "status": "completed"
    },
    "tags": []
   },
   "outputs": [],
   "source": []
  }
 ],
 "metadata": {
  "kernelspec": {
   "display_name": "Python 3",
   "language": "python",
   "name": "python3"
  },
  "language_info": {
   "codemirror_mode": {
    "name": "ipython",
    "version": 3
   },
   "file_extension": ".py",
   "mimetype": "text/x-python",
   "name": "python",
   "nbconvert_exporter": "python",
   "pygments_lexer": "ipython3",
   "version": "3.10.10"
  },
  "papermill": {
   "default_parameters": {},
   "duration": 19.649078,
   "end_time": "2023-06-22T09:58:44.192057",
   "environment_variables": {},
   "exception": null,
   "input_path": "__notebook__.ipynb",
   "output_path": "__notebook__.ipynb",
   "parameters": {},
   "start_time": "2023-06-22T09:58:24.542979",
   "version": "2.4.0"
  }
 },
 "nbformat": 4,
 "nbformat_minor": 5
}
