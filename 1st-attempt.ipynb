{
 "cells": [
  {
   "cell_type": "code",
   "execution_count": 1,
   "id": "d225a5a2",
   "metadata": {
    "_cell_guid": "b1076dfc-b9ad-4769-8c92-a6c4dae69d19",
    "_uuid": "8f2839f25d086af736a60e9eeb907d3b93b6e0e5",
    "execution": {
     "iopub.execute_input": "2023-06-22T04:53:44.343252Z",
     "iopub.status.busy": "2023-06-22T04:53:44.342667Z",
     "iopub.status.idle": "2023-06-22T04:53:44.357501Z",
     "shell.execute_reply": "2023-06-22T04:53:44.356082Z"
    },
    "papermill": {
     "duration": 0.021619,
     "end_time": "2023-06-22T04:53:44.360589",
     "exception": false,
     "start_time": "2023-06-22T04:53:44.338970",
     "status": "completed"
    },
    "tags": []
   },
   "outputs": [
    {
     "name": "stdout",
     "output_type": "stream",
     "text": [
      "/kaggle/input/mltiverse-join-comp/MLtiVerse/sample_submission.csv\n",
      "/kaggle/input/mltiverse-join-comp/MLtiVerse/train.csv\n",
      "/kaggle/input/mltiverse-join-comp/MLtiVerse/test.csv\n"
     ]
    }
   ],
   "source": [
    "# This Python 3 environment comes with many helpful analytics libraries installed\n",
    "# It is defined by the kaggle/python Docker image: https://github.com/kaggle/docker-python\n",
    "# For example, here's several helpful packages to load\n",
    "\n",
    "import numpy as np # linear algebra\n",
    "import pandas as pd # data processing, CSV file I/O (e.g. pd.read_csv)\n",
    "\n",
    "# Input data files are available in the read-only \"../input/\" directory\n",
    "# For example, running this (by clicking run or pressing Shift+Enter) will list all files under the input directory\n",
    "\n",
    "import os\n",
    "for dirname, _, filenames in os.walk('/kaggle/input'):\n",
    "    for filename in filenames:\n",
    "        print(os.path.join(dirname, filename))\n",
    "\n",
    "# You can write up to 20GB to the current directory (/kaggle/working/) that gets preserved as output when you create a version using \"Save & Run All\" \n",
    "# You can also write temporary files to /kaggle/temp/, but they won't be saved outside of the current session"
   ]
  },
  {
   "cell_type": "markdown",
   "id": "6f1c912e",
   "metadata": {
    "papermill": {
     "duration": 0.001483,
     "end_time": "2023-06-22T04:53:44.364185",
     "exception": false,
     "start_time": "2023-06-22T04:53:44.362702",
     "status": "completed"
    },
    "tags": []
   },
   "source": [
    "importing the data needed for hackathon"
   ]
  },
  {
   "cell_type": "code",
   "execution_count": 2,
   "id": "0ab7ab52",
   "metadata": {
    "execution": {
     "iopub.execute_input": "2023-06-22T04:53:44.369516Z",
     "iopub.status.busy": "2023-06-22T04:53:44.368789Z",
     "iopub.status.idle": "2023-06-22T04:53:45.965940Z",
     "shell.execute_reply": "2023-06-22T04:53:45.964562Z"
    },
    "papermill": {
     "duration": 1.601844,
     "end_time": "2023-06-22T04:53:45.967663",
     "exception": false,
     "start_time": "2023-06-22T04:53:44.365819",
     "status": "completed"
    },
    "tags": []
   },
   "outputs": [
    {
     "name": "stderr",
     "output_type": "stream",
     "text": [
      "/tmp/ipykernel_20/1580012756.py:2: DtypeWarning: Columns (61,62) have mixed types. Specify dtype option on import or set low_memory=False.\n",
      "  test_data=pd.read_csv('/kaggle/input/mltiverse-join-comp/MLtiVerse/test.csv')\n"
     ]
    }
   ],
   "source": [
    "train_data=pd.read_csv('/kaggle/input/mltiverse-join-comp/MLtiVerse/train.csv')\n",
    "test_data=pd.read_csv('/kaggle/input/mltiverse-join-comp/MLtiVerse/test.csv')\n",
    "sub_data=pd.read_csv('/kaggle/input/mltiverse-join-comp/MLtiVerse/sample_submission.csv')"
   ]
  },
  {
   "cell_type": "code",
   "execution_count": null,
   "id": "cfa03bf7",
   "metadata": {
    "papermill": {
     "duration": 0.001422,
     "end_time": "2023-06-22T04:53:45.970805",
     "exception": false,
     "start_time": "2023-06-22T04:53:45.969383",
     "status": "completed"
    },
    "tags": []
   },
   "outputs": [],
   "source": []
  }
 ],
 "metadata": {
  "kernelspec": {
   "display_name": "Python 3",
   "language": "python",
   "name": "python3"
  },
  "language_info": {
   "codemirror_mode": {
    "name": "ipython",
    "version": 3
   },
   "file_extension": ".py",
   "mimetype": "text/x-python",
   "name": "python",
   "nbconvert_exporter": "python",
   "pygments_lexer": "ipython3",
   "version": "3.10.10"
  },
  "papermill": {
   "default_parameters": {},
   "duration": 11.930215,
   "end_time": "2023-06-22T04:53:46.793155",
   "environment_variables": {},
   "exception": null,
   "input_path": "__notebook__.ipynb",
   "output_path": "__notebook__.ipynb",
   "parameters": {},
   "start_time": "2023-06-22T04:53:34.862940",
   "version": "2.4.0"
  }
 },
 "nbformat": 4,
 "nbformat_minor": 5
}
