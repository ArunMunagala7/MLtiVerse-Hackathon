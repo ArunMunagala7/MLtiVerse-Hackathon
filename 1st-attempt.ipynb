{
 "cells": [
  {
   "cell_type": "code",
   "execution_count": 1,
   "id": "f8e4008e",
   "metadata": {
    "_cell_guid": "b1076dfc-b9ad-4769-8c92-a6c4dae69d19",
    "_uuid": "8f2839f25d086af736a60e9eeb907d3b93b6e0e5",
    "execution": {
     "iopub.execute_input": "2023-06-22T09:29:41.523717Z",
     "iopub.status.busy": "2023-06-22T09:29:41.523182Z",
     "iopub.status.idle": "2023-06-22T09:29:41.540107Z",
     "shell.execute_reply": "2023-06-22T09:29:41.539328Z"
    },
    "papermill": {
     "duration": 0.031942,
     "end_time": "2023-06-22T09:29:41.542965",
     "exception": false,
     "start_time": "2023-06-22T09:29:41.511023",
     "status": "completed"
    },
    "tags": []
   },
   "outputs": [
    {
     "name": "stdout",
     "output_type": "stream",
     "text": [
      "/kaggle/input/mltiverse-join-comp/MLtiVerse/sample_submission.csv\n",
      "/kaggle/input/mltiverse-join-comp/MLtiVerse/train.csv\n",
      "/kaggle/input/mltiverse-join-comp/MLtiVerse/test.csv\n"
     ]
    }
   ],
   "source": [
    "# This Python 3 environment comes with many helpful analytics libraries installed\n",
    "# It is defined by the kaggle/python Docker image: https://github.com/kaggle/docker-python\n",
    "# For example, here's several helpful packages to load\n",
    "\n",
    "import numpy as np # linear algebra\n",
    "import pandas as pd # data processing, CSV file I/O (e.g. pd.read_csv)\n",
    "\n",
    "# Input data files are available in the read-only \"../input/\" directory\n",
    "# For example, running this (by clicking run or pressing Shift+Enter) will list all files under the input directory\n",
    "\n",
    "import os\n",
    "for dirname, _, filenames in os.walk('/kaggle/input'):\n",
    "    for filename in filenames:\n",
    "        print(os.path.join(dirname, filename))\n",
    "\n",
    "# You can write up to 20GB to the current directory (/kaggle/working/) that gets preserved as output when you create a version using \"Save & Run All\" \n",
    "# You can also write temporary files to /kaggle/temp/, but they won't be saved outside of the current session"
   ]
  },
  {
   "cell_type": "markdown",
   "id": "6450c6a5",
   "metadata": {
    "papermill": {
     "duration": 0.008804,
     "end_time": "2023-06-22T09:29:41.560568",
     "exception": false,
     "start_time": "2023-06-22T09:29:41.551764",
     "status": "completed"
    },
    "tags": []
   },
   "source": [
    "importing the data needed for hackathon"
   ]
  },
  {
   "cell_type": "code",
   "execution_count": 2,
   "id": "895f2a45",
   "metadata": {
    "execution": {
     "iopub.execute_input": "2023-06-22T09:29:41.578902Z",
     "iopub.status.busy": "2023-06-22T09:29:41.578185Z",
     "iopub.status.idle": "2023-06-22T09:29:43.909287Z",
     "shell.execute_reply": "2023-06-22T09:29:43.908136Z"
    },
    "papermill": {
     "duration": 2.342906,
     "end_time": "2023-06-22T09:29:43.911701",
     "exception": false,
     "start_time": "2023-06-22T09:29:41.568795",
     "status": "completed"
    },
    "tags": []
   },
   "outputs": [
    {
     "name": "stderr",
     "output_type": "stream",
     "text": [
      "/tmp/ipykernel_21/1580012756.py:2: DtypeWarning: Columns (61,62) have mixed types. Specify dtype option on import or set low_memory=False.\n",
      "  test_data=pd.read_csv('/kaggle/input/mltiverse-join-comp/MLtiVerse/test.csv')\n"
     ]
    }
   ],
   "source": [
    "train_data=pd.read_csv('/kaggle/input/mltiverse-join-comp/MLtiVerse/train.csv')\n",
    "test_data=pd.read_csv('/kaggle/input/mltiverse-join-comp/MLtiVerse/test.csv')\n",
    "sub_data=pd.read_csv('/kaggle/input/mltiverse-join-comp/MLtiVerse/sample_submission.csv')"
   ]
  },
  {
   "cell_type": "markdown",
   "id": "0a9c3ebe",
   "metadata": {
    "papermill": {
     "duration": 0.007763,
     "end_time": "2023-06-22T09:29:43.927675",
     "exception": false,
     "start_time": "2023-06-22T09:29:43.919912",
     "status": "completed"
    },
    "tags": []
   },
   "source": [
    "viewing the id column"
   ]
  },
  {
   "cell_type": "code",
   "execution_count": 3,
   "id": "35b01338",
   "metadata": {
    "execution": {
     "iopub.execute_input": "2023-06-22T09:29:43.945142Z",
     "iopub.status.busy": "2023-06-22T09:29:43.944762Z",
     "iopub.status.idle": "2023-06-22T09:29:43.957430Z",
     "shell.execute_reply": "2023-06-22T09:29:43.956357Z"
    },
    "papermill": {
     "duration": 0.024118,
     "end_time": "2023-06-22T09:29:43.959816",
     "exception": false,
     "start_time": "2023-06-22T09:29:43.935698",
     "status": "completed"
    },
    "tags": []
   },
   "outputs": [
    {
     "data": {
      "text/plain": [
       "0    https://cdn.sofifa.com/players/195/427/17_60.png\n",
       "1    https://cdn.sofifa.com/players/203/539/17_60.png\n",
       "2    https://cdn.sofifa.com/players/232/898/20_60.png\n",
       "3    https://cdn.sofifa.com/players/215/502/17_60.png\n",
       "4    https://cdn.sofifa.com/players/222/263/18_60.png\n",
       "Name: Photo, dtype: object"
      ]
     },
     "execution_count": 3,
     "metadata": {},
     "output_type": "execute_result"
    }
   ],
   "source": [
    "train_data['Photo'].head()"
   ]
  },
  {
   "cell_type": "markdown",
   "id": "c9335b34",
   "metadata": {
    "papermill": {
     "duration": 0.007853,
     "end_time": "2023-06-22T09:29:43.975964",
     "exception": false,
     "start_time": "2023-06-22T09:29:43.968111",
     "status": "completed"
    },
    "tags": []
   },
   "source": [
    "going to start with a very basic xgboost submission selecting what i think are some important columns"
   ]
  },
  {
   "cell_type": "markdown",
   "id": "11d78053",
   "metadata": {
    "papermill": {
     "duration": 0.007887,
     "end_time": "2023-06-22T09:29:43.992080",
     "exception": false,
     "start_time": "2023-06-22T09:29:43.984193",
     "status": "completed"
    },
    "tags": []
   },
   "source": [
    "changing the indexes of train and test"
   ]
  },
  {
   "cell_type": "code",
   "execution_count": 4,
   "id": "87bbf42b",
   "metadata": {
    "execution": {
     "iopub.execute_input": "2023-06-22T09:29:44.010460Z",
     "iopub.status.busy": "2023-06-22T09:29:44.009761Z",
     "iopub.status.idle": "2023-06-22T09:29:44.019852Z",
     "shell.execute_reply": "2023-06-22T09:29:44.018788Z"
    },
    "papermill": {
     "duration": 0.021654,
     "end_time": "2023-06-22T09:29:44.021894",
     "exception": false,
     "start_time": "2023-06-22T09:29:44.000240",
     "status": "completed"
    },
    "tags": []
   },
   "outputs": [],
   "source": [
    "# Set the index column as 'Photo' in train_data\n",
    "train_data.set_index('Photo', inplace=True)\n",
    "\n",
    "# Set the index column as 'Photo' in test_data\n",
    "test_data.set_index('Photo', inplace=True)"
   ]
  },
  {
   "cell_type": "markdown",
   "id": "e88a060b",
   "metadata": {
    "papermill": {
     "duration": 0.007974,
     "end_time": "2023-06-22T09:29:44.040372",
     "exception": false,
     "start_time": "2023-06-22T09:29:44.032398",
     "status": "completed"
    },
    "tags": []
   },
   "source": [
    "importing xgboost model"
   ]
  },
  {
   "cell_type": "code",
   "execution_count": 5,
   "id": "5e3c19c6",
   "metadata": {
    "execution": {
     "iopub.execute_input": "2023-06-22T09:29:44.058306Z",
     "iopub.status.busy": "2023-06-22T09:29:44.057910Z",
     "iopub.status.idle": "2023-06-22T09:29:45.410156Z",
     "shell.execute_reply": "2023-06-22T09:29:45.409049Z"
    },
    "papermill": {
     "duration": 1.364236,
     "end_time": "2023-06-22T09:29:45.412787",
     "exception": false,
     "start_time": "2023-06-22T09:29:44.048551",
     "status": "completed"
    },
    "tags": []
   },
   "outputs": [],
   "source": [
    "from xgboost import XGBRegressor\n",
    "model=XGBRegressor()"
   ]
  },
  {
   "cell_type": "markdown",
   "id": "b2ec66bd",
   "metadata": {
    "papermill": {
     "duration": 0.007806,
     "end_time": "2023-06-22T09:29:45.428962",
     "exception": false,
     "start_time": "2023-06-22T09:29:45.421156",
     "status": "completed"
    },
    "tags": []
   },
   "source": [
    "checking which columns are available for modelling"
   ]
  },
  {
   "cell_type": "code",
   "execution_count": 6,
   "id": "9af907bf",
   "metadata": {
    "execution": {
     "iopub.execute_input": "2023-06-22T09:29:45.446966Z",
     "iopub.status.busy": "2023-06-22T09:29:45.446561Z",
     "iopub.status.idle": "2023-06-22T09:29:45.453606Z",
     "shell.execute_reply": "2023-06-22T09:29:45.452655Z"
    },
    "papermill": {
     "duration": 0.018778,
     "end_time": "2023-06-22T09:29:45.455773",
     "exception": false,
     "start_time": "2023-06-22T09:29:45.436995",
     "status": "completed"
    },
    "tags": []
   },
   "outputs": [
    {
     "data": {
      "text/plain": [
       "Index(['Unnamed: 0', 'ID', 'Name', 'Age', 'Nationality', 'Flag', 'Overall',\n",
       "       'Potential', 'Club', 'Club Logo', 'Value', 'Wage', 'Special',\n",
       "       'Preferred Foot', 'International Reputation', 'Weak Foot',\n",
       "       'Skill Moves', 'Work Rate', 'Body Type', 'Real Face', 'Position',\n",
       "       'Jersey Number', 'Joined', 'Loaned From', 'Contract Valid Until',\n",
       "       'Height', 'Weight', 'Crossing', 'Finishing', 'HeadingAccuracy',\n",
       "       'ShortPassing', 'Volleys', 'Dribbling', 'Curve', 'FKAccuracy',\n",
       "       'LongPassing', 'BallControl', 'Acceleration', 'SprintSpeed', 'Agility',\n",
       "       'Reactions', 'Balance', 'ShotPower', 'Jumping', 'Stamina', 'Strength',\n",
       "       'LongShots', 'Aggression', 'Interceptions', 'Positioning', 'Vision',\n",
       "       'Penalties', 'Composure', 'Marking', 'StandingTackle', 'SlidingTackle',\n",
       "       'GKDiving', 'GKHandling', 'GKKicking', 'GKPositioning', 'GKReflexes',\n",
       "       'Best Position', 'Best Overall Rating', 'year', 'Release Clause',\n",
       "       'DefensiveAwareness'],\n",
       "      dtype='object')"
      ]
     },
     "execution_count": 6,
     "metadata": {},
     "output_type": "execute_result"
    }
   ],
   "source": [
    "train_data.columns"
   ]
  },
  {
   "cell_type": "code",
   "execution_count": 7,
   "id": "f08e6f4b",
   "metadata": {
    "execution": {
     "iopub.execute_input": "2023-06-22T09:29:45.474669Z",
     "iopub.status.busy": "2023-06-22T09:29:45.473653Z",
     "iopub.status.idle": "2023-06-22T09:29:45.485292Z",
     "shell.execute_reply": "2023-06-22T09:29:45.484203Z"
    },
    "papermill": {
     "duration": 0.022986,
     "end_time": "2023-06-22T09:29:45.487256",
     "exception": false,
     "start_time": "2023-06-22T09:29:45.464270",
     "status": "completed"
    },
    "tags": []
   },
   "outputs": [
    {
     "data": {
      "text/plain": [
       "25095"
      ]
     },
     "execution_count": 7,
     "metadata": {},
     "output_type": "execute_result"
    }
   ],
   "source": [
    "train_data['Release Clause'].isna().sum()"
   ]
  },
  {
   "cell_type": "code",
   "execution_count": 8,
   "id": "2af5d862",
   "metadata": {
    "execution": {
     "iopub.execute_input": "2023-06-22T09:29:45.506064Z",
     "iopub.status.busy": "2023-06-22T09:29:45.505157Z",
     "iopub.status.idle": "2023-06-22T09:29:45.513010Z",
     "shell.execute_reply": "2023-06-22T09:29:45.512010Z"
    },
    "papermill": {
     "duration": 0.019521,
     "end_time": "2023-06-22T09:29:45.515133",
     "exception": false,
     "start_time": "2023-06-22T09:29:45.495612",
     "status": "completed"
    },
    "tags": []
   },
   "outputs": [
    {
     "data": {
      "text/plain": [
       "Photo\n",
       "https://cdn.sofifa.com/players/195/427/17_60.png    68\n",
       "https://cdn.sofifa.com/players/203/539/17_60.png    58\n",
       "https://cdn.sofifa.com/players/232/898/20_60.png    76\n",
       "https://cdn.sofifa.com/players/215/502/17_60.png    86\n",
       "https://cdn.sofifa.com/players/222/263/18_60.png    75\n",
       "Name: Potential, dtype: int64"
      ]
     },
     "execution_count": 8,
     "metadata": {},
     "output_type": "execute_result"
    }
   ],
   "source": [
    "train_data['Potential'].head()"
   ]
  },
  {
   "cell_type": "code",
   "execution_count": 9,
   "id": "06a2c8d2",
   "metadata": {
    "execution": {
     "iopub.execute_input": "2023-06-22T09:29:45.534378Z",
     "iopub.status.busy": "2023-06-22T09:29:45.533777Z",
     "iopub.status.idle": "2023-06-22T09:29:45.540690Z",
     "shell.execute_reply": "2023-06-22T09:29:45.539667Z"
    },
    "papermill": {
     "duration": 0.019077,
     "end_time": "2023-06-22T09:29:45.542922",
     "exception": false,
     "start_time": "2023-06-22T09:29:45.523845",
     "status": "completed"
    },
    "tags": []
   },
   "outputs": [
    {
     "data": {
      "text/plain": [
       "Index(['Unnamed: 0', 'ID', 'Name', 'Age', 'Nationality', 'Flag', 'Overall',\n",
       "       'Potential', 'Club', 'Club Logo', 'Value', 'Wage', 'Special',\n",
       "       'Preferred Foot', 'International Reputation', 'Weak Foot',\n",
       "       'Skill Moves', 'Work Rate', 'Body Type', 'Real Face', 'Position',\n",
       "       'Jersey Number', 'Joined', 'Loaned From', 'Contract Valid Until',\n",
       "       'Height', 'Weight', 'Crossing', 'Finishing', 'HeadingAccuracy',\n",
       "       'ShortPassing', 'Volleys', 'Dribbling', 'Curve', 'FKAccuracy',\n",
       "       'LongPassing', 'BallControl', 'Acceleration', 'SprintSpeed', 'Agility',\n",
       "       'Reactions', 'Balance', 'ShotPower', 'Jumping', 'Stamina', 'Strength',\n",
       "       'LongShots', 'Aggression', 'Interceptions', 'Positioning', 'Vision',\n",
       "       'Penalties', 'Composure', 'Marking', 'StandingTackle', 'SlidingTackle',\n",
       "       'GKDiving', 'GKHandling', 'GKKicking', 'GKPositioning', 'GKReflexes',\n",
       "       'Best Position', 'Best Overall Rating', 'year', 'Release Clause',\n",
       "       'DefensiveAwareness'],\n",
       "      dtype='object')"
      ]
     },
     "execution_count": 9,
     "metadata": {},
     "output_type": "execute_result"
    }
   ],
   "source": [
    "train_data.columns"
   ]
  },
  {
   "cell_type": "markdown",
   "id": "3688a6ac",
   "metadata": {
    "papermill": {
     "duration": 0.008302,
     "end_time": "2023-06-22T09:29:45.560612",
     "exception": false,
     "start_time": "2023-06-22T09:29:45.552310",
     "status": "completed"
    },
    "tags": []
   },
   "source": [
    "manually selecting some important features in the dataset for modelling"
   ]
  },
  {
   "cell_type": "code",
   "execution_count": 10,
   "id": "d08254a0",
   "metadata": {
    "execution": {
     "iopub.execute_input": "2023-06-22T09:29:45.580311Z",
     "iopub.status.busy": "2023-06-22T09:29:45.579694Z",
     "iopub.status.idle": "2023-06-22T09:29:45.659798Z",
     "shell.execute_reply": "2023-06-22T09:29:45.658720Z"
    },
    "papermill": {
     "duration": 0.093158,
     "end_time": "2023-06-22T09:29:45.662481",
     "exception": false,
     "start_time": "2023-06-22T09:29:45.569323",
     "status": "completed"
    },
    "tags": []
   },
   "outputs": [],
   "source": [
    "train_1=train_data[['Potential','Overall','Wage','International Reputation','Age']]\n",
    "test_1=test_data[['Potential','Overall','Wage','International Reputation','Age']]"
   ]
  },
  {
   "cell_type": "markdown",
   "id": "9d0ceec3",
   "metadata": {
    "papermill": {
     "duration": 0.00824,
     "end_time": "2023-06-22T09:29:45.679450",
     "exception": false,
     "start_time": "2023-06-22T09:29:45.671210",
     "status": "completed"
    },
    "tags": []
   },
   "source": [
    "making some changes to the wage column"
   ]
  },
  {
   "cell_type": "code",
   "execution_count": 11,
   "id": "d781306a",
   "metadata": {
    "execution": {
     "iopub.execute_input": "2023-06-22T09:29:45.698339Z",
     "iopub.status.busy": "2023-06-22T09:29:45.697988Z",
     "iopub.status.idle": "2023-06-22T09:29:45.723144Z",
     "shell.execute_reply": "2023-06-22T09:29:45.722374Z"
    },
    "papermill": {
     "duration": 0.037006,
     "end_time": "2023-06-22T09:29:45.725073",
     "exception": false,
     "start_time": "2023-06-22T09:29:45.688067",
     "status": "completed"
    },
    "tags": []
   },
   "outputs": [
    {
     "data": {
      "text/html": [
       "<div>\n",
       "<style scoped>\n",
       "    .dataframe tbody tr th:only-of-type {\n",
       "        vertical-align: middle;\n",
       "    }\n",
       "\n",
       "    .dataframe tbody tr th {\n",
       "        vertical-align: top;\n",
       "    }\n",
       "\n",
       "    .dataframe thead th {\n",
       "        text-align: right;\n",
       "    }\n",
       "</style>\n",
       "<table border=\"1\" class=\"dataframe\">\n",
       "  <thead>\n",
       "    <tr style=\"text-align: right;\">\n",
       "      <th></th>\n",
       "      <th>Potential</th>\n",
       "      <th>Overall</th>\n",
       "      <th>Wage</th>\n",
       "      <th>International Reputation</th>\n",
       "      <th>Age</th>\n",
       "    </tr>\n",
       "    <tr>\n",
       "      <th>Photo</th>\n",
       "      <th></th>\n",
       "      <th></th>\n",
       "      <th></th>\n",
       "      <th></th>\n",
       "      <th></th>\n",
       "    </tr>\n",
       "  </thead>\n",
       "  <tbody>\n",
       "    <tr>\n",
       "      <th>https://cdn.sofifa.com/players/195/427/17_60.png</th>\n",
       "      <td>68</td>\n",
       "      <td>61</td>\n",
       "      <td>€2K</td>\n",
       "      <td>1.0</td>\n",
       "      <td>22</td>\n",
       "    </tr>\n",
       "    <tr>\n",
       "      <th>https://cdn.sofifa.com/players/203/539/17_60.png</th>\n",
       "      <td>58</td>\n",
       "      <td>57</td>\n",
       "      <td>€500</td>\n",
       "      <td>1.0</td>\n",
       "      <td>25</td>\n",
       "    </tr>\n",
       "    <tr>\n",
       "      <th>https://cdn.sofifa.com/players/232/898/20_60.png</th>\n",
       "      <td>76</td>\n",
       "      <td>71</td>\n",
       "      <td>€7K</td>\n",
       "      <td>1.0</td>\n",
       "      <td>23</td>\n",
       "    </tr>\n",
       "    <tr>\n",
       "      <th>https://cdn.sofifa.com/players/215/502/17_60.png</th>\n",
       "      <td>86</td>\n",
       "      <td>71</td>\n",
       "      <td>€10K</td>\n",
       "      <td>1.0</td>\n",
       "      <td>18</td>\n",
       "    </tr>\n",
       "    <tr>\n",
       "      <th>https://cdn.sofifa.com/players/222/263/18_60.png</th>\n",
       "      <td>75</td>\n",
       "      <td>64</td>\n",
       "      <td>€2K</td>\n",
       "      <td>1.0</td>\n",
       "      <td>19</td>\n",
       "    </tr>\n",
       "    <tr>\n",
       "      <th>...</th>\n",
       "      <td>...</td>\n",
       "      <td>...</td>\n",
       "      <td>...</td>\n",
       "      <td>...</td>\n",
       "      <td>...</td>\n",
       "    </tr>\n",
       "    <tr>\n",
       "      <th>https://cdn.sofifa.com/players/188/278/17_60.png</th>\n",
       "      <td>73</td>\n",
       "      <td>68</td>\n",
       "      <td>€20K</td>\n",
       "      <td>1.0</td>\n",
       "      <td>25</td>\n",
       "    </tr>\n",
       "    <tr>\n",
       "      <th>https://cdn.sofifa.com/players/239/649/18_60.png</th>\n",
       "      <td>58</td>\n",
       "      <td>58</td>\n",
       "      <td>€1K</td>\n",
       "      <td>1.0</td>\n",
       "      <td>28</td>\n",
       "    </tr>\n",
       "    <tr>\n",
       "      <th>https://cdn.sofifa.com/players/258/958/20_60.png</th>\n",
       "      <td>69</td>\n",
       "      <td>69</td>\n",
       "      <td>€8K</td>\n",
       "      <td>1.0</td>\n",
       "      <td>27</td>\n",
       "    </tr>\n",
       "    <tr>\n",
       "      <th>https://cdn.sofifa.com/players/240/097/20_60.png</th>\n",
       "      <td>72</td>\n",
       "      <td>66</td>\n",
       "      <td>€3K</td>\n",
       "      <td>1.0</td>\n",
       "      <td>20</td>\n",
       "    </tr>\n",
       "    <tr>\n",
       "      <th>https://cdn.sofifa.com/players/219/527/20_60.png</th>\n",
       "      <td>68</td>\n",
       "      <td>67</td>\n",
       "      <td>€2K</td>\n",
       "      <td>1.0</td>\n",
       "      <td>26</td>\n",
       "    </tr>\n",
       "  </tbody>\n",
       "</table>\n",
       "<p>87642 rows × 5 columns</p>\n",
       "</div>"
      ],
      "text/plain": [
       "                                                  Potential  Overall  Wage  \\\n",
       "Photo                                                                        \n",
       "https://cdn.sofifa.com/players/195/427/17_60.png         68       61   €2K   \n",
       "https://cdn.sofifa.com/players/203/539/17_60.png         58       57  €500   \n",
       "https://cdn.sofifa.com/players/232/898/20_60.png         76       71   €7K   \n",
       "https://cdn.sofifa.com/players/215/502/17_60.png         86       71  €10K   \n",
       "https://cdn.sofifa.com/players/222/263/18_60.png         75       64   €2K   \n",
       "...                                                     ...      ...   ...   \n",
       "https://cdn.sofifa.com/players/188/278/17_60.png         73       68  €20K   \n",
       "https://cdn.sofifa.com/players/239/649/18_60.png         58       58   €1K   \n",
       "https://cdn.sofifa.com/players/258/958/20_60.png         69       69   €8K   \n",
       "https://cdn.sofifa.com/players/240/097/20_60.png         72       66   €3K   \n",
       "https://cdn.sofifa.com/players/219/527/20_60.png         68       67   €2K   \n",
       "\n",
       "                                                  International Reputation  \\\n",
       "Photo                                                                        \n",
       "https://cdn.sofifa.com/players/195/427/17_60.png                       1.0   \n",
       "https://cdn.sofifa.com/players/203/539/17_60.png                       1.0   \n",
       "https://cdn.sofifa.com/players/232/898/20_60.png                       1.0   \n",
       "https://cdn.sofifa.com/players/215/502/17_60.png                       1.0   \n",
       "https://cdn.sofifa.com/players/222/263/18_60.png                       1.0   \n",
       "...                                                                    ...   \n",
       "https://cdn.sofifa.com/players/188/278/17_60.png                       1.0   \n",
       "https://cdn.sofifa.com/players/239/649/18_60.png                       1.0   \n",
       "https://cdn.sofifa.com/players/258/958/20_60.png                       1.0   \n",
       "https://cdn.sofifa.com/players/240/097/20_60.png                       1.0   \n",
       "https://cdn.sofifa.com/players/219/527/20_60.png                       1.0   \n",
       "\n",
       "                                                  Age  \n",
       "Photo                                                  \n",
       "https://cdn.sofifa.com/players/195/427/17_60.png   22  \n",
       "https://cdn.sofifa.com/players/203/539/17_60.png   25  \n",
       "https://cdn.sofifa.com/players/232/898/20_60.png   23  \n",
       "https://cdn.sofifa.com/players/215/502/17_60.png   18  \n",
       "https://cdn.sofifa.com/players/222/263/18_60.png   19  \n",
       "...                                               ...  \n",
       "https://cdn.sofifa.com/players/188/278/17_60.png   25  \n",
       "https://cdn.sofifa.com/players/239/649/18_60.png   28  \n",
       "https://cdn.sofifa.com/players/258/958/20_60.png   27  \n",
       "https://cdn.sofifa.com/players/240/097/20_60.png   20  \n",
       "https://cdn.sofifa.com/players/219/527/20_60.png   26  \n",
       "\n",
       "[87642 rows x 5 columns]"
      ]
     },
     "execution_count": 11,
     "metadata": {},
     "output_type": "execute_result"
    }
   ],
   "source": [
    "train_1"
   ]
  },
  {
   "cell_type": "markdown",
   "id": "f854fa26",
   "metadata": {
    "papermill": {
     "duration": 0.00863,
     "end_time": "2023-06-22T09:29:45.742718",
     "exception": false,
     "start_time": "2023-06-22T09:29:45.734088",
     "status": "completed"
    },
    "tags": []
   },
   "source": [
    "checking which data types are object"
   ]
  },
  {
   "cell_type": "code",
   "execution_count": 12,
   "id": "51659ca5",
   "metadata": {
    "execution": {
     "iopub.execute_input": "2023-06-22T09:29:45.762702Z",
     "iopub.status.busy": "2023-06-22T09:29:45.761763Z",
     "iopub.status.idle": "2023-06-22T09:29:45.766137Z",
     "shell.execute_reply": "2023-06-22T09:29:45.765429Z"
    },
    "papermill": {
     "duration": 0.016263,
     "end_time": "2023-06-22T09:29:45.767978",
     "exception": false,
     "start_time": "2023-06-22T09:29:45.751715",
     "status": "completed"
    },
    "tags": []
   },
   "outputs": [],
   "source": [
    "y_train=train_data['Value']"
   ]
  },
  {
   "cell_type": "markdown",
   "id": "25b6ad3f",
   "metadata": {
    "papermill": {
     "duration": 0.008775,
     "end_time": "2023-06-22T09:29:45.785996",
     "exception": false,
     "start_time": "2023-06-22T09:29:45.777221",
     "status": "completed"
    },
    "tags": []
   },
   "source": [
    "converting the wage column to float data type"
   ]
  },
  {
   "cell_type": "code",
   "execution_count": 13,
   "id": "7d0e5ec8",
   "metadata": {
    "execution": {
     "iopub.execute_input": "2023-06-22T09:29:45.806018Z",
     "iopub.status.busy": "2023-06-22T09:29:45.805425Z",
     "iopub.status.idle": "2023-06-22T09:29:46.332419Z",
     "shell.execute_reply": "2023-06-22T09:29:46.331371Z"
    },
    "papermill": {
     "duration": 0.539996,
     "end_time": "2023-06-22T09:29:46.334999",
     "exception": false,
     "start_time": "2023-06-22T09:29:45.795003",
     "status": "completed"
    },
    "tags": []
   },
   "outputs": [
    {
     "name": "stderr",
     "output_type": "stream",
     "text": [
      "/tmp/ipykernel_21/3838849759.py:14: SettingWithCopyWarning: \n",
      "A value is trying to be set on a copy of a slice from a DataFrame.\n",
      "Try using .loc[row_indexer,col_indexer] = value instead\n",
      "\n",
      "See the caveats in the documentation: https://pandas.pydata.org/pandas-docs/stable/user_guide/indexing.html#returning-a-view-versus-a-copy\n",
      "  train_1['Wage'] = train_1['Wage'].apply(preprocess_wage)\n",
      "/tmp/ipykernel_21/3838849759.py:17: SettingWithCopyWarning: \n",
      "A value is trying to be set on a copy of a slice from a DataFrame.\n",
      "Try using .loc[row_indexer,col_indexer] = value instead\n",
      "\n",
      "See the caveats in the documentation: https://pandas.pydata.org/pandas-docs/stable/user_guide/indexing.html#returning-a-view-versus-a-copy\n",
      "  train_1['Wage'] = train_1['Wage'].astype(float)\n",
      "/tmp/ipykernel_21/3838849759.py:20: SettingWithCopyWarning: \n",
      "A value is trying to be set on a copy of a slice from a DataFrame.\n",
      "Try using .loc[row_indexer,col_indexer] = value instead\n",
      "\n",
      "See the caveats in the documentation: https://pandas.pydata.org/pandas-docs/stable/user_guide/indexing.html#returning-a-view-versus-a-copy\n",
      "  test_1['Wage'] = test_1['Wage'].apply(preprocess_wage)\n",
      "/tmp/ipykernel_21/3838849759.py:23: SettingWithCopyWarning: \n",
      "A value is trying to be set on a copy of a slice from a DataFrame.\n",
      "Try using .loc[row_indexer,col_indexer] = value instead\n",
      "\n",
      "See the caveats in the documentation: https://pandas.pydata.org/pandas-docs/stable/user_guide/indexing.html#returning-a-view-versus-a-copy\n",
      "  test_1['Wage'] = test_1['Wage'].astype(float)\n"
     ]
    }
   ],
   "source": [
    "import re\n",
    "# Define a function to preprocess the 'Wage' column\n",
    "def preprocess_wage(value):\n",
    "    value = re.sub(r'€', '', value)  # Remove euro symbol\n",
    "    if 'K' in value:\n",
    "        value = float(re.sub(r'[^0-9.]', '', value)) * 1000  # Remove 'K' and multiply by 1000\n",
    "    elif 'M' in value:\n",
    "        value = float(re.sub(r'[^0-9.]', '', value)) * 1000000  # Remove 'M' and multiply by 1000000\n",
    "    else:\n",
    "        value = float(value)\n",
    "    return value\n",
    "\n",
    "# Apply the preprocessing function to 'Wage' column in train_1 dataset\n",
    "train_1['Wage'] = train_1['Wage'].apply(preprocess_wage)\n",
    "\n",
    "# Convert the column to float data type\n",
    "train_1['Wage'] = train_1['Wage'].astype(float)\n",
    "\n",
    "# Apply the preprocessing function to 'Wage' column in train_1 dataset\n",
    "test_1['Wage'] = test_1['Wage'].apply(preprocess_wage)\n",
    "\n",
    "# Convert the column to float data type\n",
    "test_1['Wage'] = test_1['Wage'].astype(float)\n",
    "\n",
    "#Applying it to y_train too\n",
    "y_train=y_train.apply(preprocess_wage)\n",
    "\n",
    "#Convert the column to float data type\n",
    "y_train=y_train.astype(float)"
   ]
  },
  {
   "cell_type": "code",
   "execution_count": 14,
   "id": "8eee15e4",
   "metadata": {
    "execution": {
     "iopub.execute_input": "2023-06-22T09:29:46.354715Z",
     "iopub.status.busy": "2023-06-22T09:29:46.354321Z",
     "iopub.status.idle": "2023-06-22T09:29:46.366281Z",
     "shell.execute_reply": "2023-06-22T09:29:46.365362Z"
    },
    "papermill": {
     "duration": 0.025943,
     "end_time": "2023-06-22T09:29:46.370077",
     "exception": false,
     "start_time": "2023-06-22T09:29:46.344134",
     "status": "completed"
    },
    "tags": []
   },
   "outputs": [
    {
     "data": {
      "text/html": [
       "<div>\n",
       "<style scoped>\n",
       "    .dataframe tbody tr th:only-of-type {\n",
       "        vertical-align: middle;\n",
       "    }\n",
       "\n",
       "    .dataframe tbody tr th {\n",
       "        vertical-align: top;\n",
       "    }\n",
       "\n",
       "    .dataframe thead th {\n",
       "        text-align: right;\n",
       "    }\n",
       "</style>\n",
       "<table border=\"1\" class=\"dataframe\">\n",
       "  <thead>\n",
       "    <tr style=\"text-align: right;\">\n",
       "      <th></th>\n",
       "      <th>Potential</th>\n",
       "      <th>Overall</th>\n",
       "      <th>Wage</th>\n",
       "      <th>International Reputation</th>\n",
       "      <th>Age</th>\n",
       "    </tr>\n",
       "    <tr>\n",
       "      <th>Photo</th>\n",
       "      <th></th>\n",
       "      <th></th>\n",
       "      <th></th>\n",
       "      <th></th>\n",
       "      <th></th>\n",
       "    </tr>\n",
       "  </thead>\n",
       "  <tbody>\n",
       "    <tr>\n",
       "      <th>https://cdn.sofifa.com/players/195/427/17_60.png</th>\n",
       "      <td>68</td>\n",
       "      <td>61</td>\n",
       "      <td>2000.0</td>\n",
       "      <td>1.0</td>\n",
       "      <td>22</td>\n",
       "    </tr>\n",
       "    <tr>\n",
       "      <th>https://cdn.sofifa.com/players/203/539/17_60.png</th>\n",
       "      <td>58</td>\n",
       "      <td>57</td>\n",
       "      <td>500.0</td>\n",
       "      <td>1.0</td>\n",
       "      <td>25</td>\n",
       "    </tr>\n",
       "    <tr>\n",
       "      <th>https://cdn.sofifa.com/players/232/898/20_60.png</th>\n",
       "      <td>76</td>\n",
       "      <td>71</td>\n",
       "      <td>7000.0</td>\n",
       "      <td>1.0</td>\n",
       "      <td>23</td>\n",
       "    </tr>\n",
       "    <tr>\n",
       "      <th>https://cdn.sofifa.com/players/215/502/17_60.png</th>\n",
       "      <td>86</td>\n",
       "      <td>71</td>\n",
       "      <td>10000.0</td>\n",
       "      <td>1.0</td>\n",
       "      <td>18</td>\n",
       "    </tr>\n",
       "    <tr>\n",
       "      <th>https://cdn.sofifa.com/players/222/263/18_60.png</th>\n",
       "      <td>75</td>\n",
       "      <td>64</td>\n",
       "      <td>2000.0</td>\n",
       "      <td>1.0</td>\n",
       "      <td>19</td>\n",
       "    </tr>\n",
       "  </tbody>\n",
       "</table>\n",
       "</div>"
      ],
      "text/plain": [
       "                                                  Potential  Overall     Wage  \\\n",
       "Photo                                                                           \n",
       "https://cdn.sofifa.com/players/195/427/17_60.png         68       61   2000.0   \n",
       "https://cdn.sofifa.com/players/203/539/17_60.png         58       57    500.0   \n",
       "https://cdn.sofifa.com/players/232/898/20_60.png         76       71   7000.0   \n",
       "https://cdn.sofifa.com/players/215/502/17_60.png         86       71  10000.0   \n",
       "https://cdn.sofifa.com/players/222/263/18_60.png         75       64   2000.0   \n",
       "\n",
       "                                                  International Reputation  \\\n",
       "Photo                                                                        \n",
       "https://cdn.sofifa.com/players/195/427/17_60.png                       1.0   \n",
       "https://cdn.sofifa.com/players/203/539/17_60.png                       1.0   \n",
       "https://cdn.sofifa.com/players/232/898/20_60.png                       1.0   \n",
       "https://cdn.sofifa.com/players/215/502/17_60.png                       1.0   \n",
       "https://cdn.sofifa.com/players/222/263/18_60.png                       1.0   \n",
       "\n",
       "                                                  Age  \n",
       "Photo                                                  \n",
       "https://cdn.sofifa.com/players/195/427/17_60.png   22  \n",
       "https://cdn.sofifa.com/players/203/539/17_60.png   25  \n",
       "https://cdn.sofifa.com/players/232/898/20_60.png   23  \n",
       "https://cdn.sofifa.com/players/215/502/17_60.png   18  \n",
       "https://cdn.sofifa.com/players/222/263/18_60.png   19  "
      ]
     },
     "execution_count": 14,
     "metadata": {},
     "output_type": "execute_result"
    }
   ],
   "source": [
    "train_1.head()"
   ]
  },
  {
   "cell_type": "code",
   "execution_count": 15,
   "id": "bb7b8b5d",
   "metadata": {
    "execution": {
     "iopub.execute_input": "2023-06-22T09:29:46.390462Z",
     "iopub.status.busy": "2023-06-22T09:29:46.390083Z",
     "iopub.status.idle": "2023-06-22T09:29:46.398085Z",
     "shell.execute_reply": "2023-06-22T09:29:46.396947Z"
    },
    "papermill": {
     "duration": 0.02074,
     "end_time": "2023-06-22T09:29:46.400166",
     "exception": false,
     "start_time": "2023-06-22T09:29:46.379426",
     "status": "completed"
    },
    "tags": []
   },
   "outputs": [
    {
     "data": {
      "text/plain": [
       "Photo\n",
       "https://cdn.sofifa.com/players/195/427/17_60.png     325000.0\n",
       "https://cdn.sofifa.com/players/203/539/17_60.png     140000.0\n",
       "https://cdn.sofifa.com/players/232/898/20_60.png    3200000.0\n",
       "https://cdn.sofifa.com/players/215/502/17_60.png    2900000.0\n",
       "https://cdn.sofifa.com/players/222/263/18_60.png     575000.0\n",
       "Name: Value, dtype: float64"
      ]
     },
     "execution_count": 15,
     "metadata": {},
     "output_type": "execute_result"
    }
   ],
   "source": [
    "y_train.head()"
   ]
  },
  {
   "cell_type": "markdown",
   "id": "9010b932",
   "metadata": {
    "papermill": {
     "duration": 0.009451,
     "end_time": "2023-06-22T09:29:46.419379",
     "exception": false,
     "start_time": "2023-06-22T09:29:46.409928",
     "status": "completed"
    },
    "tags": []
   },
   "source": [
    "using gridsearchCV and modelling now"
   ]
  },
  {
   "cell_type": "code",
   "execution_count": 16,
   "id": "22bf410a",
   "metadata": {
    "execution": {
     "iopub.execute_input": "2023-06-22T09:29:46.439904Z",
     "iopub.status.busy": "2023-06-22T09:29:46.439518Z",
     "iopub.status.idle": "2023-06-22T09:29:46.444400Z",
     "shell.execute_reply": "2023-06-22T09:29:46.443352Z"
    },
    "papermill": {
     "duration": 0.017718,
     "end_time": "2023-06-22T09:29:46.446601",
     "exception": false,
     "start_time": "2023-06-22T09:29:46.428883",
     "status": "completed"
    },
    "tags": []
   },
   "outputs": [],
   "source": [
    "# from sklearn.model_selection import GridSearchCV\n",
    "# from sklearn.metrics import make_scorer, mean_squared_error\n",
    "# # Define a custom scoring function for RMSE\n",
    "# scorer = make_scorer(lambda y_true, y_pred: mean_squared_error(y_true, y_pred, squared=False), greater_is_better=False)\n",
    "# model=XGBRegressor()\n",
    "# param_grid = {'learning_rate':[0.05, 0.75, 0.1], 'n_estimators':[200,400,600,800,1000]}\n",
    "# grid_search = GridSearchCV(model, param_grid, cv=5, scoring=scorer)"
   ]
  },
  {
   "cell_type": "markdown",
   "id": "da8e4a51",
   "metadata": {
    "papermill": {
     "duration": 0.009226,
     "end_time": "2023-06-22T09:29:46.465450",
     "exception": false,
     "start_time": "2023-06-22T09:29:46.456224",
     "status": "completed"
    },
    "tags": []
   },
   "source": [
    "applying and fitting GridSearchCV on the training data"
   ]
  },
  {
   "cell_type": "code",
   "execution_count": 17,
   "id": "8401e4ea",
   "metadata": {
    "execution": {
     "iopub.execute_input": "2023-06-22T09:29:46.485600Z",
     "iopub.status.busy": "2023-06-22T09:29:46.485242Z",
     "iopub.status.idle": "2023-06-22T09:29:49.134776Z",
     "shell.execute_reply": "2023-06-22T09:29:49.133710Z"
    },
    "papermill": {
     "duration": 2.662173,
     "end_time": "2023-06-22T09:29:49.136998",
     "exception": false,
     "start_time": "2023-06-22T09:29:46.474825",
     "status": "completed"
    },
    "tags": []
   },
   "outputs": [
    {
     "data": {
      "text/html": [
       "<style>#sk-container-id-1 {color: black;background-color: white;}#sk-container-id-1 pre{padding: 0;}#sk-container-id-1 div.sk-toggleable {background-color: white;}#sk-container-id-1 label.sk-toggleable__label {cursor: pointer;display: block;width: 100%;margin-bottom: 0;padding: 0.3em;box-sizing: border-box;text-align: center;}#sk-container-id-1 label.sk-toggleable__label-arrow:before {content: \"▸\";float: left;margin-right: 0.25em;color: #696969;}#sk-container-id-1 label.sk-toggleable__label-arrow:hover:before {color: black;}#sk-container-id-1 div.sk-estimator:hover label.sk-toggleable__label-arrow:before {color: black;}#sk-container-id-1 div.sk-toggleable__content {max-height: 0;max-width: 0;overflow: hidden;text-align: left;background-color: #f0f8ff;}#sk-container-id-1 div.sk-toggleable__content pre {margin: 0.2em;color: black;border-radius: 0.25em;background-color: #f0f8ff;}#sk-container-id-1 input.sk-toggleable__control:checked~div.sk-toggleable__content {max-height: 200px;max-width: 100%;overflow: auto;}#sk-container-id-1 input.sk-toggleable__control:checked~label.sk-toggleable__label-arrow:before {content: \"▾\";}#sk-container-id-1 div.sk-estimator input.sk-toggleable__control:checked~label.sk-toggleable__label {background-color: #d4ebff;}#sk-container-id-1 div.sk-label input.sk-toggleable__control:checked~label.sk-toggleable__label {background-color: #d4ebff;}#sk-container-id-1 input.sk-hidden--visually {border: 0;clip: rect(1px 1px 1px 1px);clip: rect(1px, 1px, 1px, 1px);height: 1px;margin: -1px;overflow: hidden;padding: 0;position: absolute;width: 1px;}#sk-container-id-1 div.sk-estimator {font-family: monospace;background-color: #f0f8ff;border: 1px dotted black;border-radius: 0.25em;box-sizing: border-box;margin-bottom: 0.5em;}#sk-container-id-1 div.sk-estimator:hover {background-color: #d4ebff;}#sk-container-id-1 div.sk-parallel-item::after {content: \"\";width: 100%;border-bottom: 1px solid gray;flex-grow: 1;}#sk-container-id-1 div.sk-label:hover label.sk-toggleable__label {background-color: #d4ebff;}#sk-container-id-1 div.sk-serial::before {content: \"\";position: absolute;border-left: 1px solid gray;box-sizing: border-box;top: 0;bottom: 0;left: 50%;z-index: 0;}#sk-container-id-1 div.sk-serial {display: flex;flex-direction: column;align-items: center;background-color: white;padding-right: 0.2em;padding-left: 0.2em;position: relative;}#sk-container-id-1 div.sk-item {position: relative;z-index: 1;}#sk-container-id-1 div.sk-parallel {display: flex;align-items: stretch;justify-content: center;background-color: white;position: relative;}#sk-container-id-1 div.sk-item::before, #sk-container-id-1 div.sk-parallel-item::before {content: \"\";position: absolute;border-left: 1px solid gray;box-sizing: border-box;top: 0;bottom: 0;left: 50%;z-index: -1;}#sk-container-id-1 div.sk-parallel-item {display: flex;flex-direction: column;z-index: 1;position: relative;background-color: white;}#sk-container-id-1 div.sk-parallel-item:first-child::after {align-self: flex-end;width: 50%;}#sk-container-id-1 div.sk-parallel-item:last-child::after {align-self: flex-start;width: 50%;}#sk-container-id-1 div.sk-parallel-item:only-child::after {width: 0;}#sk-container-id-1 div.sk-dashed-wrapped {border: 1px dashed gray;margin: 0 0.4em 0.5em 0.4em;box-sizing: border-box;padding-bottom: 0.4em;background-color: white;}#sk-container-id-1 div.sk-label label {font-family: monospace;font-weight: bold;display: inline-block;line-height: 1.2em;}#sk-container-id-1 div.sk-label-container {text-align: center;}#sk-container-id-1 div.sk-container {/* jupyter's `normalize.less` sets `[hidden] { display: none; }` but bootstrap.min.css set `[hidden] { display: none !important; }` so we also need the `!important` here to be able to override the default hidden behavior on the sphinx rendered scikit-learn.org. See: https://github.com/scikit-learn/scikit-learn/issues/21755 */display: inline-block !important;position: relative;}#sk-container-id-1 div.sk-text-repr-fallback {display: none;}</style><div id=\"sk-container-id-1\" class=\"sk-top-container\"><div class=\"sk-text-repr-fallback\"><pre>XGBRegressor(base_score=None, booster=None, callbacks=None,\n",
       "             colsample_bylevel=None, colsample_bynode=None,\n",
       "             colsample_bytree=None, early_stopping_rounds=None,\n",
       "             enable_categorical=False, eval_metric=None, feature_types=None,\n",
       "             gamma=None, gpu_id=None, grow_policy=None, importance_type=None,\n",
       "             interaction_constraints=None, learning_rate=None, max_bin=None,\n",
       "             max_cat_threshold=None, max_cat_to_onehot=None,\n",
       "             max_delta_step=None, max_depth=None, max_leaves=None,\n",
       "             min_child_weight=None, missing=nan, monotone_constraints=None,\n",
       "             n_estimators=100, n_jobs=None, num_parallel_tree=None,\n",
       "             predictor=None, random_state=None, ...)</pre><b>In a Jupyter environment, please rerun this cell to show the HTML representation or trust the notebook. <br />On GitHub, the HTML representation is unable to render, please try loading this page with nbviewer.org.</b></div><div class=\"sk-container\" hidden><div class=\"sk-item\"><div class=\"sk-estimator sk-toggleable\"><input class=\"sk-toggleable__control sk-hidden--visually\" id=\"sk-estimator-id-1\" type=\"checkbox\" checked><label for=\"sk-estimator-id-1\" class=\"sk-toggleable__label sk-toggleable__label-arrow\">XGBRegressor</label><div class=\"sk-toggleable__content\"><pre>XGBRegressor(base_score=None, booster=None, callbacks=None,\n",
       "             colsample_bylevel=None, colsample_bynode=None,\n",
       "             colsample_bytree=None, early_stopping_rounds=None,\n",
       "             enable_categorical=False, eval_metric=None, feature_types=None,\n",
       "             gamma=None, gpu_id=None, grow_policy=None, importance_type=None,\n",
       "             interaction_constraints=None, learning_rate=None, max_bin=None,\n",
       "             max_cat_threshold=None, max_cat_to_onehot=None,\n",
       "             max_delta_step=None, max_depth=None, max_leaves=None,\n",
       "             min_child_weight=None, missing=nan, monotone_constraints=None,\n",
       "             n_estimators=100, n_jobs=None, num_parallel_tree=None,\n",
       "             predictor=None, random_state=None, ...)</pre></div></div></div></div></div>"
      ],
      "text/plain": [
       "XGBRegressor(base_score=None, booster=None, callbacks=None,\n",
       "             colsample_bylevel=None, colsample_bynode=None,\n",
       "             colsample_bytree=None, early_stopping_rounds=None,\n",
       "             enable_categorical=False, eval_metric=None, feature_types=None,\n",
       "             gamma=None, gpu_id=None, grow_policy=None, importance_type=None,\n",
       "             interaction_constraints=None, learning_rate=None, max_bin=None,\n",
       "             max_cat_threshold=None, max_cat_to_onehot=None,\n",
       "             max_delta_step=None, max_depth=None, max_leaves=None,\n",
       "             min_child_weight=None, missing=nan, monotone_constraints=None,\n",
       "             n_estimators=100, n_jobs=None, num_parallel_tree=None,\n",
       "             predictor=None, random_state=None, ...)"
      ]
     },
     "execution_count": 17,
     "metadata": {},
     "output_type": "execute_result"
    }
   ],
   "source": [
    "model=XGBRegressor()\n",
    "model.fit(train_1, y_train)"
   ]
  },
  {
   "cell_type": "code",
   "execution_count": 18,
   "id": "717a63df",
   "metadata": {
    "execution": {
     "iopub.execute_input": "2023-06-22T09:29:49.158550Z",
     "iopub.status.busy": "2023-06-22T09:29:49.157829Z",
     "iopub.status.idle": "2023-06-22T09:29:49.170036Z",
     "shell.execute_reply": "2023-06-22T09:29:49.168801Z"
    },
    "papermill": {
     "duration": 0.025582,
     "end_time": "2023-06-22T09:29:49.172260",
     "exception": false,
     "start_time": "2023-06-22T09:29:49.146678",
     "status": "completed"
    },
    "tags": []
   },
   "outputs": [
    {
     "data": {
      "text/html": [
       "<div>\n",
       "<style scoped>\n",
       "    .dataframe tbody tr th:only-of-type {\n",
       "        vertical-align: middle;\n",
       "    }\n",
       "\n",
       "    .dataframe tbody tr th {\n",
       "        vertical-align: top;\n",
       "    }\n",
       "\n",
       "    .dataframe thead th {\n",
       "        text-align: right;\n",
       "    }\n",
       "</style>\n",
       "<table border=\"1\" class=\"dataframe\">\n",
       "  <thead>\n",
       "    <tr style=\"text-align: right;\">\n",
       "      <th></th>\n",
       "      <th>Potential</th>\n",
       "      <th>Overall</th>\n",
       "      <th>Wage</th>\n",
       "      <th>International Reputation</th>\n",
       "      <th>Age</th>\n",
       "    </tr>\n",
       "    <tr>\n",
       "      <th>Photo</th>\n",
       "      <th></th>\n",
       "      <th></th>\n",
       "      <th></th>\n",
       "      <th></th>\n",
       "      <th></th>\n",
       "    </tr>\n",
       "  </thead>\n",
       "  <tbody>\n",
       "    <tr>\n",
       "      <th>https://cdn.sofifa.com/players/212/198/22_60.png</th>\n",
       "      <td>89</td>\n",
       "      <td>88</td>\n",
       "      <td>250000.0</td>\n",
       "      <td>3.0</td>\n",
       "      <td>26</td>\n",
       "    </tr>\n",
       "    <tr>\n",
       "      <th>https://cdn.sofifa.com/players/209/658/22_60.png</th>\n",
       "      <td>88</td>\n",
       "      <td>87</td>\n",
       "      <td>140000.0</td>\n",
       "      <td>4.0</td>\n",
       "      <td>26</td>\n",
       "    </tr>\n",
       "    <tr>\n",
       "      <th>https://cdn.sofifa.com/players/176/580/22_60.png</th>\n",
       "      <td>88</td>\n",
       "      <td>88</td>\n",
       "      <td>135000.0</td>\n",
       "      <td>5.0</td>\n",
       "      <td>34</td>\n",
       "    </tr>\n",
       "    <tr>\n",
       "      <th>https://cdn.sofifa.com/players/192/985/22_60.png</th>\n",
       "      <td>91</td>\n",
       "      <td>91</td>\n",
       "      <td>350000.0</td>\n",
       "      <td>4.0</td>\n",
       "      <td>30</td>\n",
       "    </tr>\n",
       "    <tr>\n",
       "      <th>https://cdn.sofifa.com/players/224/334/22_60.png</th>\n",
       "      <td>84</td>\n",
       "      <td>84</td>\n",
       "      <td>45000.0</td>\n",
       "      <td>2.0</td>\n",
       "      <td>29</td>\n",
       "    </tr>\n",
       "  </tbody>\n",
       "</table>\n",
       "</div>"
      ],
      "text/plain": [
       "                                                  Potential  Overall  \\\n",
       "Photo                                                                  \n",
       "https://cdn.sofifa.com/players/212/198/22_60.png         89       88   \n",
       "https://cdn.sofifa.com/players/209/658/22_60.png         88       87   \n",
       "https://cdn.sofifa.com/players/176/580/22_60.png         88       88   \n",
       "https://cdn.sofifa.com/players/192/985/22_60.png         91       91   \n",
       "https://cdn.sofifa.com/players/224/334/22_60.png         84       84   \n",
       "\n",
       "                                                      Wage  \\\n",
       "Photo                                                        \n",
       "https://cdn.sofifa.com/players/212/198/22_60.png  250000.0   \n",
       "https://cdn.sofifa.com/players/209/658/22_60.png  140000.0   \n",
       "https://cdn.sofifa.com/players/176/580/22_60.png  135000.0   \n",
       "https://cdn.sofifa.com/players/192/985/22_60.png  350000.0   \n",
       "https://cdn.sofifa.com/players/224/334/22_60.png   45000.0   \n",
       "\n",
       "                                                  International Reputation  \\\n",
       "Photo                                                                        \n",
       "https://cdn.sofifa.com/players/212/198/22_60.png                       3.0   \n",
       "https://cdn.sofifa.com/players/209/658/22_60.png                       4.0   \n",
       "https://cdn.sofifa.com/players/176/580/22_60.png                       5.0   \n",
       "https://cdn.sofifa.com/players/192/985/22_60.png                       4.0   \n",
       "https://cdn.sofifa.com/players/224/334/22_60.png                       2.0   \n",
       "\n",
       "                                                  Age  \n",
       "Photo                                                  \n",
       "https://cdn.sofifa.com/players/212/198/22_60.png   26  \n",
       "https://cdn.sofifa.com/players/209/658/22_60.png   26  \n",
       "https://cdn.sofifa.com/players/176/580/22_60.png   34  \n",
       "https://cdn.sofifa.com/players/192/985/22_60.png   30  \n",
       "https://cdn.sofifa.com/players/224/334/22_60.png   29  "
      ]
     },
     "execution_count": 18,
     "metadata": {},
     "output_type": "execute_result"
    }
   ],
   "source": [
    "test_1.head()"
   ]
  },
  {
   "cell_type": "code",
   "execution_count": 19,
   "id": "c163ec9f",
   "metadata": {
    "execution": {
     "iopub.execute_input": "2023-06-22T09:29:49.194072Z",
     "iopub.status.busy": "2023-06-22T09:29:49.193229Z",
     "iopub.status.idle": "2023-06-22T09:29:49.199082Z",
     "shell.execute_reply": "2023-06-22T09:29:49.198068Z"
    },
    "papermill": {
     "duration": 0.019249,
     "end_time": "2023-06-22T09:29:49.201461",
     "exception": false,
     "start_time": "2023-06-22T09:29:49.182212",
     "status": "completed"
    },
    "tags": []
   },
   "outputs": [
    {
     "data": {
      "text/plain": [
       "(34370, 5)"
      ]
     },
     "execution_count": 19,
     "metadata": {},
     "output_type": "execute_result"
    }
   ],
   "source": [
    "test_1.shape"
   ]
  },
  {
   "cell_type": "markdown",
   "id": "573b899b",
   "metadata": {
    "papermill": {
     "duration": 0.009674,
     "end_time": "2023-06-22T09:29:49.221428",
     "exception": false,
     "start_time": "2023-06-22T09:29:49.211754",
     "status": "completed"
    },
    "tags": []
   },
   "source": [
    "storing predictions"
   ]
  },
  {
   "cell_type": "code",
   "execution_count": 20,
   "id": "4031fed4",
   "metadata": {
    "execution": {
     "iopub.execute_input": "2023-06-22T09:29:49.243022Z",
     "iopub.status.busy": "2023-06-22T09:29:49.242648Z",
     "iopub.status.idle": "2023-06-22T09:29:49.288454Z",
     "shell.execute_reply": "2023-06-22T09:29:49.287406Z"
    },
    "papermill": {
     "duration": 0.059832,
     "end_time": "2023-06-22T09:29:49.291176",
     "exception": false,
     "start_time": "2023-06-22T09:29:49.231344",
     "status": "completed"
    },
    "tags": []
   },
   "outputs": [],
   "source": [
    "pred=model.predict(test_1)"
   ]
  },
  {
   "cell_type": "code",
   "execution_count": 21,
   "id": "4e980a06",
   "metadata": {
    "execution": {
     "iopub.execute_input": "2023-06-22T09:29:49.313496Z",
     "iopub.status.busy": "2023-06-22T09:29:49.312771Z",
     "iopub.status.idle": "2023-06-22T09:29:49.319282Z",
     "shell.execute_reply": "2023-06-22T09:29:49.318170Z"
    },
    "papermill": {
     "duration": 0.020067,
     "end_time": "2023-06-22T09:29:49.321480",
     "exception": false,
     "start_time": "2023-06-22T09:29:49.301413",
     "status": "completed"
    },
    "tags": []
   },
   "outputs": [
    {
     "data": {
      "text/plain": [
       "(34370,)"
      ]
     },
     "execution_count": 21,
     "metadata": {},
     "output_type": "execute_result"
    }
   ],
   "source": [
    "pred.shape"
   ]
  },
  {
   "cell_type": "code",
   "execution_count": 22,
   "id": "3cc6fb4a",
   "metadata": {
    "execution": {
     "iopub.execute_input": "2023-06-22T09:29:49.343804Z",
     "iopub.status.busy": "2023-06-22T09:29:49.343048Z",
     "iopub.status.idle": "2023-06-22T09:29:49.349008Z",
     "shell.execute_reply": "2023-06-22T09:29:49.348056Z"
    },
    "papermill": {
     "duration": 0.019787,
     "end_time": "2023-06-22T09:29:49.351338",
     "exception": false,
     "start_time": "2023-06-22T09:29:49.331551",
     "status": "completed"
    },
    "tags": []
   },
   "outputs": [],
   "source": [
    "output = pd.DataFrame({'Value': pred})  # Create the DataFrame with the 'Value' column\n",
    "output = output.set_index(test_1.index)  # Set the index column to test_1.index"
   ]
  },
  {
   "cell_type": "markdown",
   "id": "7016ba14",
   "metadata": {
    "papermill": {
     "duration": 0.009652,
     "end_time": "2023-06-22T09:29:49.371176",
     "exception": false,
     "start_time": "2023-06-22T09:29:49.361524",
     "status": "completed"
    },
    "tags": []
   },
   "source": [
    "now storing the final submission"
   ]
  },
  {
   "cell_type": "code",
   "execution_count": 23,
   "id": "1e3106ab",
   "metadata": {
    "execution": {
     "iopub.execute_input": "2023-06-22T09:29:49.392990Z",
     "iopub.status.busy": "2023-06-22T09:29:49.392601Z",
     "iopub.status.idle": "2023-06-22T09:29:49.401727Z",
     "shell.execute_reply": "2023-06-22T09:29:49.400993Z"
    },
    "papermill": {
     "duration": 0.022321,
     "end_time": "2023-06-22T09:29:49.403551",
     "exception": false,
     "start_time": "2023-06-22T09:29:49.381230",
     "status": "completed"
    },
    "tags": []
   },
   "outputs": [
    {
     "data": {
      "text/html": [
       "<div>\n",
       "<style scoped>\n",
       "    .dataframe tbody tr th:only-of-type {\n",
       "        vertical-align: middle;\n",
       "    }\n",
       "\n",
       "    .dataframe tbody tr th {\n",
       "        vertical-align: top;\n",
       "    }\n",
       "\n",
       "    .dataframe thead th {\n",
       "        text-align: right;\n",
       "    }\n",
       "</style>\n",
       "<table border=\"1\" class=\"dataframe\">\n",
       "  <thead>\n",
       "    <tr style=\"text-align: right;\">\n",
       "      <th></th>\n",
       "      <th>Value</th>\n",
       "    </tr>\n",
       "    <tr>\n",
       "      <th>Photo</th>\n",
       "      <th></th>\n",
       "    </tr>\n",
       "  </thead>\n",
       "  <tbody>\n",
       "    <tr>\n",
       "      <th>https://cdn.sofifa.com/players/212/198/22_60.png</th>\n",
       "      <td>67480096.0</td>\n",
       "    </tr>\n",
       "    <tr>\n",
       "      <th>https://cdn.sofifa.com/players/209/658/22_60.png</th>\n",
       "      <td>57726600.0</td>\n",
       "    </tr>\n",
       "    <tr>\n",
       "      <th>https://cdn.sofifa.com/players/176/580/22_60.png</th>\n",
       "      <td>24389748.0</td>\n",
       "    </tr>\n",
       "    <tr>\n",
       "      <th>https://cdn.sofifa.com/players/192/985/22_60.png</th>\n",
       "      <td>89608232.0</td>\n",
       "    </tr>\n",
       "    <tr>\n",
       "      <th>https://cdn.sofifa.com/players/224/334/22_60.png</th>\n",
       "      <td>30389520.0</td>\n",
       "    </tr>\n",
       "  </tbody>\n",
       "</table>\n",
       "</div>"
      ],
      "text/plain": [
       "                                                       Value\n",
       "Photo                                                       \n",
       "https://cdn.sofifa.com/players/212/198/22_60.png  67480096.0\n",
       "https://cdn.sofifa.com/players/209/658/22_60.png  57726600.0\n",
       "https://cdn.sofifa.com/players/176/580/22_60.png  24389748.0\n",
       "https://cdn.sofifa.com/players/192/985/22_60.png  89608232.0\n",
       "https://cdn.sofifa.com/players/224/334/22_60.png  30389520.0"
      ]
     },
     "execution_count": 23,
     "metadata": {},
     "output_type": "execute_result"
    }
   ],
   "source": [
    "output.head()"
   ]
  },
  {
   "cell_type": "markdown",
   "id": "fa8bf894",
   "metadata": {
    "papermill": {
     "duration": 0.009959,
     "end_time": "2023-06-22T09:29:49.423972",
     "exception": false,
     "start_time": "2023-06-22T09:29:49.414013",
     "status": "completed"
    },
    "tags": []
   },
   "source": [
    "converting to a csv now"
   ]
  },
  {
   "cell_type": "code",
   "execution_count": 24,
   "id": "b90429c5",
   "metadata": {
    "execution": {
     "iopub.execute_input": "2023-06-22T09:29:49.446893Z",
     "iopub.status.busy": "2023-06-22T09:29:49.445794Z",
     "iopub.status.idle": "2023-06-22T09:29:49.532819Z",
     "shell.execute_reply": "2023-06-22T09:29:49.531332Z"
    },
    "papermill": {
     "duration": 0.101214,
     "end_time": "2023-06-22T09:29:49.535519",
     "exception": false,
     "start_time": "2023-06-22T09:29:49.434305",
     "status": "completed"
    },
    "tags": []
   },
   "outputs": [
    {
     "name": "stdout",
     "output_type": "stream",
     "text": [
      "Submission saved successfully\n"
     ]
    }
   ],
   "source": [
    "output.to_csv('submissions.csv')\n",
    "print(\"Submission saved successfully\")"
   ]
  },
  {
   "cell_type": "markdown",
   "id": "e5a981ec",
   "metadata": {
    "papermill": {
     "duration": 0.010277,
     "end_time": "2023-06-22T09:29:49.556538",
     "exception": false,
     "start_time": "2023-06-22T09:29:49.546261",
     "status": "completed"
    },
    "tags": []
   },
   "source": [
    "done for now"
   ]
  },
  {
   "cell_type": "code",
   "execution_count": null,
   "id": "62a83bae",
   "metadata": {
    "papermill": {
     "duration": 0.010262,
     "end_time": "2023-06-22T09:29:49.577398",
     "exception": false,
     "start_time": "2023-06-22T09:29:49.567136",
     "status": "completed"
    },
    "tags": []
   },
   "outputs": [],
   "source": []
  }
 ],
 "metadata": {
  "kernelspec": {
   "display_name": "Python 3",
   "language": "python",
   "name": "python3"
  },
  "language_info": {
   "codemirror_mode": {
    "name": "ipython",
    "version": 3
   },
   "file_extension": ".py",
   "mimetype": "text/x-python",
   "name": "python",
   "nbconvert_exporter": "python",
   "pygments_lexer": "ipython3",
   "version": "3.10.10"
  },
  "papermill": {
   "default_parameters": {},
   "duration": 18.552219,
   "end_time": "2023-06-22T09:29:50.510263",
   "environment_variables": {},
   "exception": null,
   "input_path": "__notebook__.ipynb",
   "output_path": "__notebook__.ipynb",
   "parameters": {},
   "start_time": "2023-06-22T09:29:31.958044",
   "version": "2.4.0"
  }
 },
 "nbformat": 4,
 "nbformat_minor": 5
}
